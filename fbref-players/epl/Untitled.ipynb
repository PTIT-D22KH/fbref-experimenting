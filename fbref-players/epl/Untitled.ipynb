{
 "cells": [
  {
   "cell_type": "code",
   "execution_count": 1,
   "id": "bc3392b4-3ab0-45e5-a546-8a74816f46a5",
   "metadata": {},
   "outputs": [
    {
     "data": {
      "text/html": [
       "<pre style=\"white-space:pre;overflow-x:auto;line-height:normal;font-family:Menlo,'DejaVu Sans Mono',consolas,'Courier New',monospace\"><span style=\"color: #7fbfbf; text-decoration-color: #7fbfbf\">[08/29/24 11:33:05] </span><span style=\"color: #000080; text-decoration-color: #000080\">INFO    </span> generated new fontManager                                         <a href=\"file:///home/codespace/.local/lib/python3.12/site-packages/matplotlib/font_manager.py\" target=\"_blank\"><span style=\"color: #7f7f7f; text-decoration-color: #7f7f7f\">font_manager.py</span></a><span style=\"color: #7f7f7f; text-decoration-color: #7f7f7f\">:</span><a href=\"file:///home/codespace/.local/lib/python3.12/site-packages/matplotlib/font_manager.py#1584\" target=\"_blank\"><span style=\"color: #7f7f7f; text-decoration-color: #7f7f7f\">1584</span></a>\n",
       "</pre>\n"
      ],
      "text/plain": [
       "\u001b[2;36m[08/29/24 11:33:05]\u001b[0m\u001b[2;36m \u001b[0m\u001b[34mINFO    \u001b[0m generated new fontManager                                         \u001b]8;id=285440;file:///home/codespace/.local/lib/python3.12/site-packages/matplotlib/font_manager.py\u001b\\\u001b[2mfont_manager.py\u001b[0m\u001b]8;;\u001b\\\u001b[2m:\u001b[0m\u001b]8;id=955430;file:///home/codespace/.local/lib/python3.12/site-packages/matplotlib/font_manager.py#1584\u001b\\\u001b[2m1584\u001b[0m\u001b]8;;\u001b\\\n"
      ]
     },
     "metadata": {},
     "output_type": "display_data"
    }
   ],
   "source": [
    "import fbrefdata as fb\n",
    "import statsbombpy as st\n",
    "import mplsoccer as mp\n",
    "import matplotlib.pyplot as plt\n",
    "import numpy as np\n",
    "import pandas as pd"
   ]
  },
  {
   "cell_type": "code",
   "execution_count": 2,
   "id": "5592cbea-15dc-438a-8e40-ec659e496ee2",
   "metadata": {},
   "outputs": [
    {
     "data": {
      "text/html": [
       "<pre style=\"white-space:pre;overflow-x:auto;line-height:normal;font-family:Menlo,'DejaVu Sans Mono',consolas,'Courier New',monospace\"><span style=\"color: #7fbfbf; text-decoration-color: #7fbfbf\">[08/29/24 11:33:06] </span><span style=\"color: #000080; text-decoration-color: #000080\">INFO    </span> No custom league dict found. You need to select leagues in               <a href=\"file:///home/codespace/.local/lib/python3.12/site-packages/fbrefdata/_config.py\" target=\"_blank\"><span style=\"color: #7f7f7f; text-decoration-color: #7f7f7f\">_config.py</span></a><span style=\"color: #7f7f7f; text-decoration-color: #7f7f7f\">:</span><a href=\"file:///home/codespace/.local/lib/python3.12/site-packages/fbrefdata/_config.py#98\" target=\"_blank\"><span style=\"color: #7f7f7f; text-decoration-color: #7f7f7f\">98</span></a>\n",
       "<span style=\"color: #7fbfbf; text-decoration-color: #7fbfbf\">                    </span>         <span style=\"color: #800080; text-decoration-color: #800080\">/home/codespace/fbrefdata/config/</span><span style=\"color: #ff00ff; text-decoration-color: #ff00ff\">league_dict.json.</span>                       <span style=\"color: #7f7f7f; text-decoration-color: #7f7f7f\">             </span>\n",
       "</pre>\n"
      ],
      "text/plain": [
       "\u001b[2;36m[08/29/24 11:33:06]\u001b[0m\u001b[2;36m \u001b[0m\u001b[34mINFO    \u001b[0m No custom league dict found. You need to select leagues in               \u001b]8;id=243493;file:///home/codespace/.local/lib/python3.12/site-packages/fbrefdata/_config.py\u001b\\\u001b[2m_config.py\u001b[0m\u001b]8;;\u001b\\\u001b[2m:\u001b[0m\u001b]8;id=682095;file:///home/codespace/.local/lib/python3.12/site-packages/fbrefdata/_config.py#98\u001b\\\u001b[2m98\u001b[0m\u001b]8;;\u001b\\\n",
       "\u001b[2;36m                    \u001b[0m         \u001b[35m/home/codespace/fbrefdata/config/\u001b[0m\u001b[95mleague_dict.json.\u001b[0m                       \u001b[2m             \u001b[0m\n"
      ]
     },
     "metadata": {},
     "output_type": "display_data"
    },
    {
     "data": {
      "text/plain": [
       "['Big 5 European Leagues Combined']"
      ]
     },
     "execution_count": 2,
     "metadata": {},
     "output_type": "execute_result"
    }
   ],
   "source": [
    "\n",
    "fb.FBref.available_leagues()"
   ]
  },
  {
   "cell_type": "code",
   "execution_count": 8,
   "id": "44c75e14-7313-4a95-a7be-146a35106130",
   "metadata": {},
   "outputs": [
    {
     "data": {
      "text/html": [
       "<pre style=\"white-space:pre;overflow-x:auto;line-height:normal;font-family:Menlo,'DejaVu Sans Mono',consolas,'Courier New',monospace\"><span style=\"color: #7fbfbf; text-decoration-color: #7fbfbf\">[08/29/24 07:47:30] </span><span style=\"color: #000080; text-decoration-color: #000080\">INFO    </span> Custom league dict loaded from                                           <a href=\"file:///usr/local/python/3.12.1/lib/python3.12/site-packages/fbrefdata/_config.py\" target=\"_blank\"><span style=\"color: #7f7f7f; text-decoration-color: #7f7f7f\">_config.py</span></a><span style=\"color: #7f7f7f; text-decoration-color: #7f7f7f\">:</span><a href=\"file:///usr/local/python/3.12.1/lib/python3.12/site-packages/fbrefdata/_config.py#96\" target=\"_blank\"><span style=\"color: #7f7f7f; text-decoration-color: #7f7f7f\">96</span></a>\n",
       "<span style=\"color: #7fbfbf; text-decoration-color: #7fbfbf\">                    </span>         <span style=\"color: #800080; text-decoration-color: #800080\">/home/codespace/fbrefdata/config/</span><span style=\"color: #ff00ff; text-decoration-color: #ff00ff\">league_dict.json.</span>                       <span style=\"color: #7f7f7f; text-decoration-color: #7f7f7f\">             </span>\n",
       "</pre>\n"
      ],
      "text/plain": [
       "\u001b[2;36m[08/29/24 07:47:30]\u001b[0m\u001b[2;36m \u001b[0m\u001b[34mINFO    \u001b[0m Custom league dict loaded from                                           \u001b]8;id=382110;file:///usr/local/python/3.12.1/lib/python3.12/site-packages/fbrefdata/_config.py\u001b\\\u001b[2m_config.py\u001b[0m\u001b]8;;\u001b\\\u001b[2m:\u001b[0m\u001b]8;id=576579;file:///usr/local/python/3.12.1/lib/python3.12/site-packages/fbrefdata/_config.py#96\u001b\\\u001b[2m96\u001b[0m\u001b]8;;\u001b\\\n",
       "\u001b[2;36m                    \u001b[0m         \u001b[35m/home/codespace/fbrefdata/config/\u001b[0m\u001b[95mleague_dict.json.\u001b[0m                       \u001b[2m             \u001b[0m\n"
      ]
     },
     "metadata": {},
     "output_type": "display_data"
    },
    {
     "data": {
      "text/html": [
       "<pre style=\"white-space:pre;overflow-x:auto;line-height:normal;font-family:Menlo,'DejaVu Sans Mono',consolas,'Courier New',monospace\"><span style=\"color: #7fbfbf; text-decoration-color: #7fbfbf\">                    </span><span style=\"color: #000080; text-decoration-color: #000080\">INFO    </span> Custom league dict loaded from                                           <a href=\"file:///usr/local/python/3.12.1/lib/python3.12/site-packages/fbrefdata/_config.py\" target=\"_blank\"><span style=\"color: #7f7f7f; text-decoration-color: #7f7f7f\">_config.py</span></a><span style=\"color: #7f7f7f; text-decoration-color: #7f7f7f\">:</span><a href=\"file:///usr/local/python/3.12.1/lib/python3.12/site-packages/fbrefdata/_config.py#96\" target=\"_blank\"><span style=\"color: #7f7f7f; text-decoration-color: #7f7f7f\">96</span></a>\n",
       "<span style=\"color: #7fbfbf; text-decoration-color: #7fbfbf\">                    </span>         <span style=\"color: #800080; text-decoration-color: #800080\">/home/codespace/fbrefdata/config/</span><span style=\"color: #ff00ff; text-decoration-color: #ff00ff\">league_dict.json.</span>                       <span style=\"color: #7f7f7f; text-decoration-color: #7f7f7f\">             </span>\n",
       "</pre>\n"
      ],
      "text/plain": [
       "\u001b[2;36m                   \u001b[0m\u001b[2;36m \u001b[0m\u001b[34mINFO    \u001b[0m Custom league dict loaded from                                           \u001b]8;id=29588;file:///usr/local/python/3.12.1/lib/python3.12/site-packages/fbrefdata/_config.py\u001b\\\u001b[2m_config.py\u001b[0m\u001b]8;;\u001b\\\u001b[2m:\u001b[0m\u001b]8;id=218319;file:///usr/local/python/3.12.1/lib/python3.12/site-packages/fbrefdata/_config.py#96\u001b\\\u001b[2m96\u001b[0m\u001b]8;;\u001b\\\n",
       "\u001b[2;36m                    \u001b[0m         \u001b[35m/home/codespace/fbrefdata/config/\u001b[0m\u001b[95mleague_dict.json.\u001b[0m                       \u001b[2m             \u001b[0m\n"
      ]
     },
     "metadata": {},
     "output_type": "display_data"
    },
    {
     "data": {
      "text/html": [
       "<pre style=\"white-space:pre;overflow-x:auto;line-height:normal;font-family:Menlo,'DejaVu Sans Mono',consolas,'Courier New',monospace\"><span style=\"color: #7fbfbf; text-decoration-color: #7fbfbf\">                    </span><span style=\"color: #000080; text-decoration-color: #000080\">INFO    </span> Saving cached data to <span style=\"color: #800080; text-decoration-color: #800080\">/home/codespace/fbrefdata/</span><span style=\"color: #ff00ff; text-decoration-color: #ff00ff\">data</span>                     <a href=\"file:///usr/local/python/3.12.1/lib/python3.12/site-packages/fbrefdata/_common.py\" target=\"_blank\"><span style=\"color: #7f7f7f; text-decoration-color: #7f7f7f\">_common.py</span></a><span style=\"color: #7f7f7f; text-decoration-color: #7f7f7f\">:</span><a href=\"file:///usr/local/python/3.12.1/lib/python3.12/site-packages/fbrefdata/_common.py#90\" target=\"_blank\"><span style=\"color: #7f7f7f; text-decoration-color: #7f7f7f\">90</span></a>\n",
       "</pre>\n"
      ],
      "text/plain": [
       "\u001b[2;36m                   \u001b[0m\u001b[2;36m \u001b[0m\u001b[34mINFO    \u001b[0m Saving cached data to \u001b[35m/home/codespace/fbrefdata/\u001b[0m\u001b[95mdata\u001b[0m                     \u001b]8;id=11113;file:///usr/local/python/3.12.1/lib/python3.12/site-packages/fbrefdata/_common.py\u001b\\\u001b[2m_common.py\u001b[0m\u001b]8;;\u001b\\\u001b[2m:\u001b[0m\u001b]8;id=981130;file:///usr/local/python/3.12.1/lib/python3.12/site-packages/fbrefdata/_common.py#90\u001b\\\u001b[2m90\u001b[0m\u001b]8;;\u001b\\\n"
      ]
     },
     "metadata": {},
     "output_type": "display_data"
    }
   ],
   "source": [
    "fbref = fb.FBref('ENG-EPL', '2022-2023')"
   ]
  },
  {
   "cell_type": "code",
   "execution_count": null,
   "id": "2ddb012d-9ede-4639-9cd7-30853cd5810a",
   "metadata": {},
   "outputs": [],
   "source": [
    "df = fbref.read_player_match_stats()"
   ]
  },
  {
   "cell_type": "code",
   "execution_count": null,
   "id": "6ec246d4-66ce-417d-b0c8-1dd311619815",
   "metadata": {},
   "outputs": [],
   "source": [
    "fbref = fb.FBref('ENG-EPL', '2020-2021')\n",
    "df = fbref.read_player_match_stats()"
   ]
  },
  {
   "cell_type": "code",
   "execution_count": null,
   "id": "9e9a72a4-68fb-4193-84c9-7472b975dd7c",
   "metadata": {},
   "outputs": [],
   "source": [
    "fbref = fb.FBref('ENG-EPL', '2018-2019')\n",
    "df = fbref.read_player_match_stats()"
   ]
  },
  {
   "cell_type": "code",
   "execution_count": null,
   "id": "ab7bdc26-4633-4af4-aec9-ab04cf9711cf",
   "metadata": {},
   "outputs": [],
   "source": [
    "fbref = fb.FBref('UCL', '2023-2024')\n",
    "df = fbref.read_player_match_stats()"
   ]
  },
  {
   "cell_type": "code",
   "execution_count": null,
   "id": "269e15ce-2ce7-4ee4-9e12-326f59ead011",
   "metadata": {},
   "outputs": [],
   "source": [
    "fbref = fb.FBref('UCL', '2021-2022')\n",
    "df = fbref.read_player_match_stats()"
   ]
  },
  {
   "cell_type": "code",
   "execution_count": null,
   "id": "30fea778-1ed4-4022-932f-69200a0df787",
   "metadata": {},
   "outputs": [],
   "source": [
    "fbref = fb.FBref('UCL', '2019-2020')\n",
    "df = fbref.read_player_match_stats()"
   ]
  },
  {
   "cell_type": "code",
   "execution_count": null,
   "id": "6c2c2b09-73ca-4031-bbf2-dc1492d6d6c0",
   "metadata": {},
   "outputs": [],
   "source": [
    "fbref = fb.FBref('UCL', '2017-2018')\n",
    "df = fbref.read_player_match_stats()"
   ]
  },
  {
   "cell_type": "code",
   "execution_count": null,
   "id": "d2e17cf2-94e0-4381-af4b-7e2a14b50400",
   "metadata": {},
   "outputs": [],
   "source": [
    "fbref = fb.FBref('ESP-LALIGA', '2024-2025')\n",
    "df = fbref.read_player_match_stats()"
   ]
  },
  {
   "cell_type": "code",
   "execution_count": null,
   "id": "fca99f7e-535d-41c7-b17b-f74c7ea0980e",
   "metadata": {},
   "outputs": [],
   "source": [
    "fbref = fb.FBref('ESP-LALIGA', '2022-2023')\n",
    "df = fbref.read_player_match_stats()"
   ]
  },
  {
   "cell_type": "code",
   "execution_count": null,
   "id": "68784a70-1527-464f-9316-f4dbbe2e0888",
   "metadata": {},
   "outputs": [
    {
     "data": {
      "text/html": [
       "<pre style=\"white-space:pre;overflow-x:auto;line-height:normal;font-family:Menlo,'DejaVu Sans Mono',consolas,'Courier New',monospace\"><span style=\"color: #7fbfbf; text-decoration-color: #7fbfbf\">                    </span><span style=\"color: #000080; text-decoration-color: #000080\">INFO    </span> Custom league dict loaded from                                           <a href=\"file:///home/codespace/.local/lib/python3.12/site-packages/fbrefdata/_config.py\" target=\"_blank\"><span style=\"color: #7f7f7f; text-decoration-color: #7f7f7f\">_config.py</span></a><span style=\"color: #7f7f7f; text-decoration-color: #7f7f7f\">:</span><a href=\"file:///home/codespace/.local/lib/python3.12/site-packages/fbrefdata/_config.py#96\" target=\"_blank\"><span style=\"color: #7f7f7f; text-decoration-color: #7f7f7f\">96</span></a>\n",
       "<span style=\"color: #7fbfbf; text-decoration-color: #7fbfbf\">                    </span>         <span style=\"color: #800080; text-decoration-color: #800080\">/home/codespace/fbrefdata/config/</span><span style=\"color: #ff00ff; text-decoration-color: #ff00ff\">league_dict.json.</span>                       <span style=\"color: #7f7f7f; text-decoration-color: #7f7f7f\">             </span>\n",
       "</pre>\n"
      ],
      "text/plain": [
       "\u001b[2;36m                   \u001b[0m\u001b[2;36m \u001b[0m\u001b[34mINFO    \u001b[0m Custom league dict loaded from                                           \u001b]8;id=896143;file:///home/codespace/.local/lib/python3.12/site-packages/fbrefdata/_config.py\u001b\\\u001b[2m_config.py\u001b[0m\u001b]8;;\u001b\\\u001b[2m:\u001b[0m\u001b]8;id=838882;file:///home/codespace/.local/lib/python3.12/site-packages/fbrefdata/_config.py#96\u001b\\\u001b[2m96\u001b[0m\u001b]8;;\u001b\\\n",
       "\u001b[2;36m                    \u001b[0m         \u001b[35m/home/codespace/fbrefdata/config/\u001b[0m\u001b[95mleague_dict.json.\u001b[0m                       \u001b[2m             \u001b[0m\n"
      ]
     },
     "metadata": {},
     "output_type": "display_data"
    },
    {
     "data": {
      "text/html": [
       "<pre style=\"white-space:pre;overflow-x:auto;line-height:normal;font-family:Menlo,'DejaVu Sans Mono',consolas,'Courier New',monospace\"><span style=\"color: #7fbfbf; text-decoration-color: #7fbfbf\">                    </span><span style=\"color: #000080; text-decoration-color: #000080\">INFO    </span> Custom league dict loaded from                                           <a href=\"file:///home/codespace/.local/lib/python3.12/site-packages/fbrefdata/_config.py\" target=\"_blank\"><span style=\"color: #7f7f7f; text-decoration-color: #7f7f7f\">_config.py</span></a><span style=\"color: #7f7f7f; text-decoration-color: #7f7f7f\">:</span><a href=\"file:///home/codespace/.local/lib/python3.12/site-packages/fbrefdata/_config.py#96\" target=\"_blank\"><span style=\"color: #7f7f7f; text-decoration-color: #7f7f7f\">96</span></a>\n",
       "<span style=\"color: #7fbfbf; text-decoration-color: #7fbfbf\">                    </span>         <span style=\"color: #800080; text-decoration-color: #800080\">/home/codespace/fbrefdata/config/</span><span style=\"color: #ff00ff; text-decoration-color: #ff00ff\">league_dict.json.</span>                       <span style=\"color: #7f7f7f; text-decoration-color: #7f7f7f\">             </span>\n",
       "</pre>\n"
      ],
      "text/plain": [
       "\u001b[2;36m                   \u001b[0m\u001b[2;36m \u001b[0m\u001b[34mINFO    \u001b[0m Custom league dict loaded from                                           \u001b]8;id=217293;file:///home/codespace/.local/lib/python3.12/site-packages/fbrefdata/_config.py\u001b\\\u001b[2m_config.py\u001b[0m\u001b]8;;\u001b\\\u001b[2m:\u001b[0m\u001b]8;id=19969;file:///home/codespace/.local/lib/python3.12/site-packages/fbrefdata/_config.py#96\u001b\\\u001b[2m96\u001b[0m\u001b]8;;\u001b\\\n",
       "\u001b[2;36m                    \u001b[0m         \u001b[35m/home/codespace/fbrefdata/config/\u001b[0m\u001b[95mleague_dict.json.\u001b[0m                       \u001b[2m             \u001b[0m\n"
      ]
     },
     "metadata": {},
     "output_type": "display_data"
    },
    {
     "data": {
      "text/html": [
       "<pre style=\"white-space:pre;overflow-x:auto;line-height:normal;font-family:Menlo,'DejaVu Sans Mono',consolas,'Courier New',monospace\"><span style=\"color: #7fbfbf; text-decoration-color: #7fbfbf\">                    </span><span style=\"color: #000080; text-decoration-color: #000080\">INFO    </span> Saving cached data to <span style=\"color: #800080; text-decoration-color: #800080\">/home/codespace/fbrefdata/</span><span style=\"color: #ff00ff; text-decoration-color: #ff00ff\">data</span>                     <a href=\"file:///home/codespace/.local/lib/python3.12/site-packages/fbrefdata/_common.py\" target=\"_blank\"><span style=\"color: #7f7f7f; text-decoration-color: #7f7f7f\">_common.py</span></a><span style=\"color: #7f7f7f; text-decoration-color: #7f7f7f\">:</span><a href=\"file:///home/codespace/.local/lib/python3.12/site-packages/fbrefdata/_common.py#90\" target=\"_blank\"><span style=\"color: #7f7f7f; text-decoration-color: #7f7f7f\">90</span></a>\n",
       "</pre>\n"
      ],
      "text/plain": [
       "\u001b[2;36m                   \u001b[0m\u001b[2;36m \u001b[0m\u001b[34mINFO    \u001b[0m Saving cached data to \u001b[35m/home/codespace/fbrefdata/\u001b[0m\u001b[95mdata\u001b[0m                     \u001b]8;id=723789;file:///home/codespace/.local/lib/python3.12/site-packages/fbrefdata/_common.py\u001b\\\u001b[2m_common.py\u001b[0m\u001b]8;;\u001b\\\u001b[2m:\u001b[0m\u001b]8;id=957590;file:///home/codespace/.local/lib/python3.12/site-packages/fbrefdata/_common.py#90\u001b\\\u001b[2m90\u001b[0m\u001b]8;;\u001b\\\n"
      ]
     },
     "metadata": {},
     "output_type": "display_data"
    },
    {
     "data": {
      "text/html": [
       "<pre style=\"white-space:pre;overflow-x:auto;line-height:normal;font-family:Menlo,'DejaVu Sans Mono',consolas,'Courier New',monospace\"><span style=\"color: #7fbfbf; text-decoration-color: #7fbfbf\">                    </span><span style=\"color: #000080; text-decoration-color: #000080\">INFO    </span> Custom league dict loaded from                                           <a href=\"file:///home/codespace/.local/lib/python3.12/site-packages/fbrefdata/_config.py\" target=\"_blank\"><span style=\"color: #7f7f7f; text-decoration-color: #7f7f7f\">_config.py</span></a><span style=\"color: #7f7f7f; text-decoration-color: #7f7f7f\">:</span><a href=\"file:///home/codespace/.local/lib/python3.12/site-packages/fbrefdata/_config.py#96\" target=\"_blank\"><span style=\"color: #7f7f7f; text-decoration-color: #7f7f7f\">96</span></a>\n",
       "<span style=\"color: #7fbfbf; text-decoration-color: #7fbfbf\">                    </span>         <span style=\"color: #800080; text-decoration-color: #800080\">/home/codespace/fbrefdata/config/</span><span style=\"color: #ff00ff; text-decoration-color: #ff00ff\">league_dict.json.</span>                       <span style=\"color: #7f7f7f; text-decoration-color: #7f7f7f\">             </span>\n",
       "</pre>\n"
      ],
      "text/plain": [
       "\u001b[2;36m                   \u001b[0m\u001b[2;36m \u001b[0m\u001b[34mINFO    \u001b[0m Custom league dict loaded from                                           \u001b]8;id=106120;file:///home/codespace/.local/lib/python3.12/site-packages/fbrefdata/_config.py\u001b\\\u001b[2m_config.py\u001b[0m\u001b]8;;\u001b\\\u001b[2m:\u001b[0m\u001b]8;id=884663;file:///home/codespace/.local/lib/python3.12/site-packages/fbrefdata/_config.py#96\u001b\\\u001b[2m96\u001b[0m\u001b]8;;\u001b\\\n",
       "\u001b[2;36m                    \u001b[0m         \u001b[35m/home/codespace/fbrefdata/config/\u001b[0m\u001b[95mleague_dict.json.\u001b[0m                       \u001b[2m             \u001b[0m\n"
      ]
     },
     "metadata": {},
     "output_type": "display_data"
    },
    {
     "data": {
      "text/html": [
       "<pre style=\"white-space:pre;overflow-x:auto;line-height:normal;font-family:Menlo,'DejaVu Sans Mono',consolas,'Courier New',monospace\"><span style=\"color: #7fbfbf; text-decoration-color: #7fbfbf\">[08/29/24 13:01:46] </span><span style=\"color: #000080; text-decoration-color: #000080\">INFO    </span> Custom league dict loaded from                                           <a href=\"file:///home/codespace/.local/lib/python3.12/site-packages/fbrefdata/_config.py\" target=\"_blank\"><span style=\"color: #7f7f7f; text-decoration-color: #7f7f7f\">_config.py</span></a><span style=\"color: #7f7f7f; text-decoration-color: #7f7f7f\">:</span><a href=\"file:///home/codespace/.local/lib/python3.12/site-packages/fbrefdata/_config.py#96\" target=\"_blank\"><span style=\"color: #7f7f7f; text-decoration-color: #7f7f7f\">96</span></a>\n",
       "<span style=\"color: #7fbfbf; text-decoration-color: #7fbfbf\">                    </span>         <span style=\"color: #800080; text-decoration-color: #800080\">/home/codespace/fbrefdata/config/</span><span style=\"color: #ff00ff; text-decoration-color: #ff00ff\">league_dict.json.</span>                       <span style=\"color: #7f7f7f; text-decoration-color: #7f7f7f\">             </span>\n",
       "</pre>\n"
      ],
      "text/plain": [
       "\u001b[2;36m[08/29/24 13:01:46]\u001b[0m\u001b[2;36m \u001b[0m\u001b[34mINFO    \u001b[0m Custom league dict loaded from                                           \u001b]8;id=918722;file:///home/codespace/.local/lib/python3.12/site-packages/fbrefdata/_config.py\u001b\\\u001b[2m_config.py\u001b[0m\u001b]8;;\u001b\\\u001b[2m:\u001b[0m\u001b]8;id=15571;file:///home/codespace/.local/lib/python3.12/site-packages/fbrefdata/_config.py#96\u001b\\\u001b[2m96\u001b[0m\u001b]8;;\u001b\\\n",
       "\u001b[2;36m                    \u001b[0m         \u001b[35m/home/codespace/fbrefdata/config/\u001b[0m\u001b[95mleague_dict.json.\u001b[0m                       \u001b[2m             \u001b[0m\n"
      ]
     },
     "metadata": {},
     "output_type": "display_data"
    },
    {
     "data": {
      "text/html": [
       "<pre style=\"white-space:pre;overflow-x:auto;line-height:normal;font-family:Menlo,'DejaVu Sans Mono',consolas,'Courier New',monospace\"><span style=\"color: #7fbfbf; text-decoration-color: #7fbfbf\">[08/29/24 13:01:52] </span><span style=\"color: #000080; text-decoration-color: #000080\">INFO    </span> No custom team name replacements found. You can configure these in       <a href=\"file:///home/codespace/.local/lib/python3.12/site-packages/fbrefdata/_config.py\" target=\"_blank\"><span style=\"color: #7f7f7f; text-decoration-color: #7f7f7f\">_config.py</span></a><span style=\"color: #7f7f7f; text-decoration-color: #7f7f7f\">:</span><a href=\"file:///home/codespace/.local/lib/python3.12/site-packages/fbrefdata/_config.py#85\" target=\"_blank\"><span style=\"color: #7f7f7f; text-decoration-color: #7f7f7f\">85</span></a>\n",
       "<span style=\"color: #7fbfbf; text-decoration-color: #7fbfbf\">                    </span>         <span style=\"color: #800080; text-decoration-color: #800080\">/home/codespace/fbrefdata/config/</span><span style=\"color: #ff00ff; text-decoration-color: #ff00ff\">teamname_replacements.json.</span>             <span style=\"color: #7f7f7f; text-decoration-color: #7f7f7f\">             </span>\n",
       "</pre>\n"
      ],
      "text/plain": [
       "\u001b[2;36m[08/29/24 13:01:52]\u001b[0m\u001b[2;36m \u001b[0m\u001b[34mINFO    \u001b[0m No custom team name replacements found. You can configure these in       \u001b]8;id=346881;file:///home/codespace/.local/lib/python3.12/site-packages/fbrefdata/_config.py\u001b\\\u001b[2m_config.py\u001b[0m\u001b]8;;\u001b\\\u001b[2m:\u001b[0m\u001b]8;id=355057;file:///home/codespace/.local/lib/python3.12/site-packages/fbrefdata/_config.py#85\u001b\\\u001b[2m85\u001b[0m\u001b]8;;\u001b\\\n",
       "\u001b[2;36m                    \u001b[0m         \u001b[35m/home/codespace/fbrefdata/config/\u001b[0m\u001b[95mteamname_replacements.json.\u001b[0m             \u001b[2m             \u001b[0m\n"
      ]
     },
     "metadata": {},
     "output_type": "display_data"
    },
    {
     "data": {
      "text/html": [
       "<pre style=\"white-space:pre;overflow-x:auto;line-height:normal;font-family:Menlo,'DejaVu Sans Mono',consolas,'Courier New',monospace\"><span style=\"color: #7fbfbf; text-decoration-color: #7fbfbf\">                    </span><span style=\"color: #000080; text-decoration-color: #000080\">INFO    </span> No custom team name replacements found. You can configure these in       <a href=\"file:///home/codespace/.local/lib/python3.12/site-packages/fbrefdata/_config.py\" target=\"_blank\"><span style=\"color: #7f7f7f; text-decoration-color: #7f7f7f\">_config.py</span></a><span style=\"color: #7f7f7f; text-decoration-color: #7f7f7f\">:</span><a href=\"file:///home/codespace/.local/lib/python3.12/site-packages/fbrefdata/_config.py#85\" target=\"_blank\"><span style=\"color: #7f7f7f; text-decoration-color: #7f7f7f\">85</span></a>\n",
       "<span style=\"color: #7fbfbf; text-decoration-color: #7fbfbf\">                    </span>         <span style=\"color: #800080; text-decoration-color: #800080\">/home/codespace/fbrefdata/config/</span><span style=\"color: #ff00ff; text-decoration-color: #ff00ff\">teamname_replacements.json.</span>             <span style=\"color: #7f7f7f; text-decoration-color: #7f7f7f\">             </span>\n",
       "</pre>\n"
      ],
      "text/plain": [
       "\u001b[2;36m                   \u001b[0m\u001b[2;36m \u001b[0m\u001b[34mINFO    \u001b[0m No custom team name replacements found. You can configure these in       \u001b]8;id=803936;file:///home/codespace/.local/lib/python3.12/site-packages/fbrefdata/_config.py\u001b\\\u001b[2m_config.py\u001b[0m\u001b]8;;\u001b\\\u001b[2m:\u001b[0m\u001b]8;id=416808;file:///home/codespace/.local/lib/python3.12/site-packages/fbrefdata/_config.py#85\u001b\\\u001b[2m85\u001b[0m\u001b]8;;\u001b\\\n",
       "\u001b[2;36m                    \u001b[0m         \u001b[35m/home/codespace/fbrefdata/config/\u001b[0m\u001b[95mteamname_replacements.json.\u001b[0m             \u001b[2m             \u001b[0m\n"
      ]
     },
     "metadata": {},
     "output_type": "display_data"
    },
    {
     "data": {
      "text/html": [
       "<pre style=\"white-space:pre;overflow-x:auto;line-height:normal;font-family:Menlo,'DejaVu Sans Mono',consolas,'Courier New',monospace\"><span style=\"color: #7fbfbf; text-decoration-color: #7fbfbf\">                    </span><span style=\"color: #000080; text-decoration-color: #000080\">INFO    </span> <span style=\"font-weight: bold\">[</span><span style=\"color: #008080; text-decoration-color: #008080; font-weight: bold\">1</span>/<span style=\"color: #008080; text-decoration-color: #008080; font-weight: bold\">380</span><span style=\"font-weight: bold\">]</span> Retrieving game with <span style=\"color: #808000; text-decoration-color: #808000\">id</span>=<span style=\"color: #800080; text-decoration-color: #800080\">15d5602e</span>                                  <a href=\"file:///home/codespace/.local/lib/python3.12/site-packages/fbrefdata/fbref.py\" target=\"_blank\"><span style=\"color: #7f7f7f; text-decoration-color: #7f7f7f\">fbref.py</span></a><span style=\"color: #7f7f7f; text-decoration-color: #7f7f7f\">:</span><a href=\"file:///home/codespace/.local/lib/python3.12/site-packages/fbrefdata/fbref.py#927\" target=\"_blank\"><span style=\"color: #7f7f7f; text-decoration-color: #7f7f7f\">927</span></a>\n",
       "</pre>\n"
      ],
      "text/plain": [
       "\u001b[2;36m                   \u001b[0m\u001b[2;36m \u001b[0m\u001b[34mINFO    \u001b[0m \u001b[1m[\u001b[0m\u001b[1;36m1\u001b[0m/\u001b[1;36m380\u001b[0m\u001b[1m]\u001b[0m Retrieving game with \u001b[33mid\u001b[0m=\u001b[35m15d5602e\u001b[0m                                  \u001b]8;id=77595;file:///home/codespace/.local/lib/python3.12/site-packages/fbrefdata/fbref.py\u001b\\\u001b[2mfbref.py\u001b[0m\u001b]8;;\u001b\\\u001b[2m:\u001b[0m\u001b]8;id=225017;file:///home/codespace/.local/lib/python3.12/site-packages/fbrefdata/fbref.py#927\u001b\\\u001b[2m927\u001b[0m\u001b]8;;\u001b\\\n"
      ]
     },
     "metadata": {},
     "output_type": "display_data"
    },
    {
     "name": "stderr",
     "output_type": "stream",
     "text": [
      "/home/codespace/.local/lib/python3.12/site-packages/fbrefdata/fbref.py:940: FutureWarning: This search incorrectly ignores the root element, and will be fixed in a future version.  If you rely on the current behaviour, change it to \".//table[@id='stats_ee7c297c_summary']\"\n",
      "  html_table = tree.find(\"//table[@id='\" + id_format.format(home_team[\"id\"]) + \"']\")\n",
      "/home/codespace/.local/lib/python3.12/site-packages/fbrefdata/fbref.py:953: FutureWarning: This search incorrectly ignores the root element, and will be fixed in a future version.  If you rely on the current behaviour, change it to \".//table[@id='stats_03c57e2b_summary']\"\n",
      "  html_table = tree.find(\"//table[@id='\" + id_format.format(away_team[\"id\"]) + \"']\")\n"
     ]
    },
    {
     "data": {
      "text/html": [
       "<pre style=\"white-space:pre;overflow-x:auto;line-height:normal;font-family:Menlo,'DejaVu Sans Mono',consolas,'Courier New',monospace\"><span style=\"color: #7fbfbf; text-decoration-color: #7fbfbf\">[08/29/24 13:02:00] </span><span style=\"color: #000080; text-decoration-color: #000080\">INFO    </span> <span style=\"font-weight: bold\">[</span><span style=\"color: #008080; text-decoration-color: #008080; font-weight: bold\">2</span>/<span style=\"color: #008080; text-decoration-color: #008080; font-weight: bold\">380</span><span style=\"font-weight: bold\">]</span> Retrieving game with <span style=\"color: #808000; text-decoration-color: #808000\">id</span>=<span style=\"color: #800080; text-decoration-color: #800080\">056f7848</span>                                  <a href=\"file:///home/codespace/.local/lib/python3.12/site-packages/fbrefdata/fbref.py\" target=\"_blank\"><span style=\"color: #7f7f7f; text-decoration-color: #7f7f7f\">fbref.py</span></a><span style=\"color: #7f7f7f; text-decoration-color: #7f7f7f\">:</span><a href=\"file:///home/codespace/.local/lib/python3.12/site-packages/fbrefdata/fbref.py#927\" target=\"_blank\"><span style=\"color: #7f7f7f; text-decoration-color: #7f7f7f\">927</span></a>\n",
       "</pre>\n"
      ],
      "text/plain": [
       "\u001b[2;36m[08/29/24 13:02:00]\u001b[0m\u001b[2;36m \u001b[0m\u001b[34mINFO    \u001b[0m \u001b[1m[\u001b[0m\u001b[1;36m2\u001b[0m/\u001b[1;36m380\u001b[0m\u001b[1m]\u001b[0m Retrieving game with \u001b[33mid\u001b[0m=\u001b[35m056f7848\u001b[0m                                  \u001b]8;id=371394;file:///home/codespace/.local/lib/python3.12/site-packages/fbrefdata/fbref.py\u001b\\\u001b[2mfbref.py\u001b[0m\u001b]8;;\u001b\\\u001b[2m:\u001b[0m\u001b]8;id=999509;file:///home/codespace/.local/lib/python3.12/site-packages/fbrefdata/fbref.py#927\u001b\\\u001b[2m927\u001b[0m\u001b]8;;\u001b\\\n"
      ]
     },
     "metadata": {},
     "output_type": "display_data"
    },
    {
     "name": "stderr",
     "output_type": "stream",
     "text": [
      "/home/codespace/.local/lib/python3.12/site-packages/fbrefdata/fbref.py:940: FutureWarning: This search incorrectly ignores the root element, and will be fixed in a future version.  If you rely on the current behaviour, change it to \".//table[@id='stats_bea5c710_summary']\"\n",
      "  html_table = tree.find(\"//table[@id='\" + id_format.format(home_team[\"id\"]) + \"']\")\n",
      "/home/codespace/.local/lib/python3.12/site-packages/fbrefdata/fbref.py:953: FutureWarning: This search incorrectly ignores the root element, and will be fixed in a future version.  If you rely on the current behaviour, change it to \".//table[@id='stats_f25da7fb_summary']\"\n",
      "  html_table = tree.find(\"//table[@id='\" + id_format.format(away_team[\"id\"]) + \"']\")\n"
     ]
    },
    {
     "data": {
      "text/html": [
       "<pre style=\"white-space:pre;overflow-x:auto;line-height:normal;font-family:Menlo,'DejaVu Sans Mono',consolas,'Courier New',monospace\"><span style=\"color: #7fbfbf; text-decoration-color: #7fbfbf\">[08/29/24 13:02:07] </span><span style=\"color: #000080; text-decoration-color: #000080\">INFO    </span> <span style=\"font-weight: bold\">[</span><span style=\"color: #008080; text-decoration-color: #008080; font-weight: bold\">3</span>/<span style=\"color: #008080; text-decoration-color: #008080; font-weight: bold\">380</span><span style=\"font-weight: bold\">]</span> Retrieving game with <span style=\"color: #808000; text-decoration-color: #808000\">id</span>=<span style=\"color: #800080; text-decoration-color: #800080\">083135b8</span>                                  <a href=\"file:///home/codespace/.local/lib/python3.12/site-packages/fbrefdata/fbref.py\" target=\"_blank\"><span style=\"color: #7f7f7f; text-decoration-color: #7f7f7f\">fbref.py</span></a><span style=\"color: #7f7f7f; text-decoration-color: #7f7f7f\">:</span><a href=\"file:///home/codespace/.local/lib/python3.12/site-packages/fbrefdata/fbref.py#927\" target=\"_blank\"><span style=\"color: #7f7f7f; text-decoration-color: #7f7f7f\">927</span></a>\n",
       "</pre>\n"
      ],
      "text/plain": [
       "\u001b[2;36m[08/29/24 13:02:07]\u001b[0m\u001b[2;36m \u001b[0m\u001b[34mINFO    \u001b[0m \u001b[1m[\u001b[0m\u001b[1;36m3\u001b[0m/\u001b[1;36m380\u001b[0m\u001b[1m]\u001b[0m Retrieving game with \u001b[33mid\u001b[0m=\u001b[35m083135b8\u001b[0m                                  \u001b]8;id=383600;file:///home/codespace/.local/lib/python3.12/site-packages/fbrefdata/fbref.py\u001b\\\u001b[2mfbref.py\u001b[0m\u001b]8;;\u001b\\\u001b[2m:\u001b[0m\u001b]8;id=736180;file:///home/codespace/.local/lib/python3.12/site-packages/fbrefdata/fbref.py#927\u001b\\\u001b[2m927\u001b[0m\u001b]8;;\u001b\\\n"
      ]
     },
     "metadata": {},
     "output_type": "display_data"
    },
    {
     "name": "stderr",
     "output_type": "stream",
     "text": [
      "/home/codespace/.local/lib/python3.12/site-packages/fbrefdata/fbref.py:940: FutureWarning: This search incorrectly ignores the root element, and will be fixed in a future version.  If you rely on the current behaviour, change it to \".//table[@id='stats_a0435291_summary']\"\n",
      "  html_table = tree.find(\"//table[@id='\" + id_format.format(home_team[\"id\"]) + \"']\")\n",
      "/home/codespace/.local/lib/python3.12/site-packages/fbrefdata/fbref.py:953: FutureWarning: This search incorrectly ignores the root element, and will be fixed in a future version.  If you rely on the current behaviour, change it to \".//table[@id='stats_2b390eca_summary']\"\n",
      "  html_table = tree.find(\"//table[@id='\" + id_format.format(away_team[\"id\"]) + \"']\")\n"
     ]
    },
    {
     "data": {
      "text/html": [
       "<pre style=\"white-space:pre;overflow-x:auto;line-height:normal;font-family:Menlo,'DejaVu Sans Mono',consolas,'Courier New',monospace\"><span style=\"color: #7fbfbf; text-decoration-color: #7fbfbf\">[08/29/24 13:02:14] </span><span style=\"color: #000080; text-decoration-color: #000080\">INFO    </span> <span style=\"font-weight: bold\">[</span><span style=\"color: #008080; text-decoration-color: #008080; font-weight: bold\">4</span>/<span style=\"color: #008080; text-decoration-color: #008080; font-weight: bold\">380</span><span style=\"font-weight: bold\">]</span> Retrieving game with <span style=\"color: #808000; text-decoration-color: #808000\">id</span>=<span style=\"color: #800080; text-decoration-color: #800080\">8c3b5490</span>                                  <a href=\"file:///home/codespace/.local/lib/python3.12/site-packages/fbrefdata/fbref.py\" target=\"_blank\"><span style=\"color: #7f7f7f; text-decoration-color: #7f7f7f\">fbref.py</span></a><span style=\"color: #7f7f7f; text-decoration-color: #7f7f7f\">:</span><a href=\"file:///home/codespace/.local/lib/python3.12/site-packages/fbrefdata/fbref.py#927\" target=\"_blank\"><span style=\"color: #7f7f7f; text-decoration-color: #7f7f7f\">927</span></a>\n",
       "</pre>\n"
      ],
      "text/plain": [
       "\u001b[2;36m[08/29/24 13:02:14]\u001b[0m\u001b[2;36m \u001b[0m\u001b[34mINFO    \u001b[0m \u001b[1m[\u001b[0m\u001b[1;36m4\u001b[0m/\u001b[1;36m380\u001b[0m\u001b[1m]\u001b[0m Retrieving game with \u001b[33mid\u001b[0m=\u001b[35m8c3b5490\u001b[0m                                  \u001b]8;id=823050;file:///home/codespace/.local/lib/python3.12/site-packages/fbrefdata/fbref.py\u001b\\\u001b[2mfbref.py\u001b[0m\u001b]8;;\u001b\\\u001b[2m:\u001b[0m\u001b]8;id=958923;file:///home/codespace/.local/lib/python3.12/site-packages/fbrefdata/fbref.py#927\u001b\\\u001b[2m927\u001b[0m\u001b]8;;\u001b\\\n"
      ]
     },
     "metadata": {},
     "output_type": "display_data"
    },
    {
     "name": "stderr",
     "output_type": "stream",
     "text": [
      "/home/codespace/.local/lib/python3.12/site-packages/fbrefdata/fbref.py:940: FutureWarning: This search incorrectly ignores the root element, and will be fixed in a future version.  If you rely on the current behaviour, change it to \".//table[@id='stats_8d6fd021_summary']\"\n",
      "  html_table = tree.find(\"//table[@id='\" + id_format.format(home_team[\"id\"]) + \"']\")\n",
      "/home/codespace/.local/lib/python3.12/site-packages/fbrefdata/fbref.py:953: FutureWarning: This search incorrectly ignores the root element, and will be fixed in a future version.  If you rely on the current behaviour, change it to \".//table[@id='stats_fc536746_summary']\"\n",
      "  html_table = tree.find(\"//table[@id='\" + id_format.format(away_team[\"id\"]) + \"']\")\n"
     ]
    },
    {
     "data": {
      "text/html": [
       "<pre style=\"white-space:pre;overflow-x:auto;line-height:normal;font-family:Menlo,'DejaVu Sans Mono',consolas,'Courier New',monospace\"><span style=\"color: #7fbfbf; text-decoration-color: #7fbfbf\">[08/29/24 13:02:22] </span><span style=\"color: #000080; text-decoration-color: #000080\">INFO    </span> <span style=\"font-weight: bold\">[</span><span style=\"color: #008080; text-decoration-color: #008080; font-weight: bold\">5</span>/<span style=\"color: #008080; text-decoration-color: #008080; font-weight: bold\">380</span><span style=\"font-weight: bold\">]</span> Retrieving game with <span style=\"color: #808000; text-decoration-color: #808000\">id</span>=<span style=\"color: #800080; text-decoration-color: #800080\">49d3b582</span>                                  <a href=\"file:///home/codespace/.local/lib/python3.12/site-packages/fbrefdata/fbref.py\" target=\"_blank\"><span style=\"color: #7f7f7f; text-decoration-color: #7f7f7f\">fbref.py</span></a><span style=\"color: #7f7f7f; text-decoration-color: #7f7f7f\">:</span><a href=\"file:///home/codespace/.local/lib/python3.12/site-packages/fbrefdata/fbref.py#927\" target=\"_blank\"><span style=\"color: #7f7f7f; text-decoration-color: #7f7f7f\">927</span></a>\n",
       "</pre>\n"
      ],
      "text/plain": [
       "\u001b[2;36m[08/29/24 13:02:22]\u001b[0m\u001b[2;36m \u001b[0m\u001b[34mINFO    \u001b[0m \u001b[1m[\u001b[0m\u001b[1;36m5\u001b[0m/\u001b[1;36m380\u001b[0m\u001b[1m]\u001b[0m Retrieving game with \u001b[33mid\u001b[0m=\u001b[35m49d3b582\u001b[0m                                  \u001b]8;id=254839;file:///home/codespace/.local/lib/python3.12/site-packages/fbrefdata/fbref.py\u001b\\\u001b[2mfbref.py\u001b[0m\u001b]8;;\u001b\\\u001b[2m:\u001b[0m\u001b]8;id=104588;file:///home/codespace/.local/lib/python3.12/site-packages/fbrefdata/fbref.py#927\u001b\\\u001b[2m927\u001b[0m\u001b]8;;\u001b\\\n"
      ]
     },
     "metadata": {},
     "output_type": "display_data"
    },
    {
     "name": "stderr",
     "output_type": "stream",
     "text": [
      "/home/codespace/.local/lib/python3.12/site-packages/fbrefdata/fbref.py:940: FutureWarning: This search incorrectly ignores the root element, and will be fixed in a future version.  If you rely on the current behaviour, change it to \".//table[@id='stats_dcc91a7b_summary']\"\n",
      "  html_table = tree.find(\"//table[@id='\" + id_format.format(home_team[\"id\"]) + \"']\")\n",
      "/home/codespace/.local/lib/python3.12/site-packages/fbrefdata/fbref.py:953: FutureWarning: This search incorrectly ignores the root element, and will be fixed in a future version.  If you rely on the current behaviour, change it to \".//table[@id='stats_9800b6a1_summary']\"\n",
      "  html_table = tree.find(\"//table[@id='\" + id_format.format(away_team[\"id\"]) + \"']\")\n"
     ]
    },
    {
     "data": {
      "text/html": [
       "<pre style=\"white-space:pre;overflow-x:auto;line-height:normal;font-family:Menlo,'DejaVu Sans Mono',consolas,'Courier New',monospace\"><span style=\"color: #7fbfbf; text-decoration-color: #7fbfbf\">[08/29/24 13:02:29] </span><span style=\"color: #000080; text-decoration-color: #000080\">INFO    </span> <span style=\"font-weight: bold\">[</span><span style=\"color: #008080; text-decoration-color: #008080; font-weight: bold\">6</span>/<span style=\"color: #008080; text-decoration-color: #008080; font-weight: bold\">380</span><span style=\"font-weight: bold\">]</span> Retrieving game with <span style=\"color: #808000; text-decoration-color: #808000\">id</span>=<span style=\"color: #800080; text-decoration-color: #800080\">36e547b6</span>                                  <a href=\"file:///home/codespace/.local/lib/python3.12/site-packages/fbrefdata/fbref.py\" target=\"_blank\"><span style=\"color: #7f7f7f; text-decoration-color: #7f7f7f\">fbref.py</span></a><span style=\"color: #7f7f7f; text-decoration-color: #7f7f7f\">:</span><a href=\"file:///home/codespace/.local/lib/python3.12/site-packages/fbrefdata/fbref.py#927\" target=\"_blank\"><span style=\"color: #7f7f7f; text-decoration-color: #7f7f7f\">927</span></a>\n",
       "</pre>\n"
      ],
      "text/plain": [
       "\u001b[2;36m[08/29/24 13:02:29]\u001b[0m\u001b[2;36m \u001b[0m\u001b[34mINFO    \u001b[0m \u001b[1m[\u001b[0m\u001b[1;36m6\u001b[0m/\u001b[1;36m380\u001b[0m\u001b[1m]\u001b[0m Retrieving game with \u001b[33mid\u001b[0m=\u001b[35m36e547b6\u001b[0m                                  \u001b]8;id=373335;file:///home/codespace/.local/lib/python3.12/site-packages/fbrefdata/fbref.py\u001b\\\u001b[2mfbref.py\u001b[0m\u001b]8;;\u001b\\\u001b[2m:\u001b[0m\u001b]8;id=276657;file:///home/codespace/.local/lib/python3.12/site-packages/fbrefdata/fbref.py#927\u001b\\\u001b[2m927\u001b[0m\u001b]8;;\u001b\\\n"
      ]
     },
     "metadata": {},
     "output_type": "display_data"
    },
    {
     "name": "stderr",
     "output_type": "stream",
     "text": [
      "/home/codespace/.local/lib/python3.12/site-packages/fbrefdata/fbref.py:940: FutureWarning: This search incorrectly ignores the root element, and will be fixed in a future version.  If you rely on the current behaviour, change it to \".//table[@id='stats_17859612_summary']\"\n",
      "  html_table = tree.find(\"//table[@id='\" + id_format.format(home_team[\"id\"]) + \"']\")\n",
      "/home/codespace/.local/lib/python3.12/site-packages/fbrefdata/fbref.py:953: FutureWarning: This search incorrectly ignores the root element, and will be fixed in a future version.  If you rely on the current behaviour, change it to \".//table[@id='stats_e31d1cd9_summary']\"\n",
      "  html_table = tree.find(\"//table[@id='\" + id_format.format(away_team[\"id\"]) + \"']\")\n"
     ]
    },
    {
     "data": {
      "text/html": [
       "<pre style=\"white-space:pre;overflow-x:auto;line-height:normal;font-family:Menlo,'DejaVu Sans Mono',consolas,'Courier New',monospace\"><span style=\"color: #7fbfbf; text-decoration-color: #7fbfbf\">[08/29/24 13:02:37] </span><span style=\"color: #000080; text-decoration-color: #000080\">INFO    </span> <span style=\"font-weight: bold\">[</span><span style=\"color: #008080; text-decoration-color: #008080; font-weight: bold\">7</span>/<span style=\"color: #008080; text-decoration-color: #008080; font-weight: bold\">380</span><span style=\"font-weight: bold\">]</span> Retrieving game with <span style=\"color: #808000; text-decoration-color: #808000\">id</span>=<span style=\"color: #800080; text-decoration-color: #800080\">b9a5d357</span>                                  <a href=\"file:///home/codespace/.local/lib/python3.12/site-packages/fbrefdata/fbref.py\" target=\"_blank\"><span style=\"color: #7f7f7f; text-decoration-color: #7f7f7f\">fbref.py</span></a><span style=\"color: #7f7f7f; text-decoration-color: #7f7f7f\">:</span><a href=\"file:///home/codespace/.local/lib/python3.12/site-packages/fbrefdata/fbref.py#927\" target=\"_blank\"><span style=\"color: #7f7f7f; text-decoration-color: #7f7f7f\">927</span></a>\n",
       "</pre>\n"
      ],
      "text/plain": [
       "\u001b[2;36m[08/29/24 13:02:37]\u001b[0m\u001b[2;36m \u001b[0m\u001b[34mINFO    \u001b[0m \u001b[1m[\u001b[0m\u001b[1;36m7\u001b[0m/\u001b[1;36m380\u001b[0m\u001b[1m]\u001b[0m Retrieving game with \u001b[33mid\u001b[0m=\u001b[35mb9a5d357\u001b[0m                                  \u001b]8;id=869942;file:///home/codespace/.local/lib/python3.12/site-packages/fbrefdata/fbref.py\u001b\\\u001b[2mfbref.py\u001b[0m\u001b]8;;\u001b\\\u001b[2m:\u001b[0m\u001b]8;id=250297;file:///home/codespace/.local/lib/python3.12/site-packages/fbrefdata/fbref.py#927\u001b\\\u001b[2m927\u001b[0m\u001b]8;;\u001b\\\n"
      ]
     },
     "metadata": {},
     "output_type": "display_data"
    },
    {
     "name": "stderr",
     "output_type": "stream",
     "text": [
      "/home/codespace/.local/lib/python3.12/site-packages/fbrefdata/fbref.py:940: FutureWarning: This search incorrectly ignores the root element, and will be fixed in a future version.  If you rely on the current behaviour, change it to \".//table[@id='stats_2a8183b3_summary']\"\n",
      "  html_table = tree.find(\"//table[@id='\" + id_format.format(home_team[\"id\"]) + \"']\")\n",
      "/home/codespace/.local/lib/python3.12/site-packages/fbrefdata/fbref.py:953: FutureWarning: This search incorrectly ignores the root element, and will be fixed in a future version.  If you rely on the current behaviour, change it to \".//table[@id='stats_c6c493e6_summary']\"\n",
      "  html_table = tree.find(\"//table[@id='\" + id_format.format(away_team[\"id\"]) + \"']\")\n"
     ]
    },
    {
     "data": {
      "text/html": [
       "<pre style=\"white-space:pre;overflow-x:auto;line-height:normal;font-family:Menlo,'DejaVu Sans Mono',consolas,'Courier New',monospace\"><span style=\"color: #7fbfbf; text-decoration-color: #7fbfbf\">[08/29/24 13:02:44] </span><span style=\"color: #000080; text-decoration-color: #000080\">INFO    </span> <span style=\"font-weight: bold\">[</span><span style=\"color: #008080; text-decoration-color: #008080; font-weight: bold\">8</span>/<span style=\"color: #008080; text-decoration-color: #008080; font-weight: bold\">380</span><span style=\"font-weight: bold\">]</span> Retrieving game with <span style=\"color: #808000; text-decoration-color: #808000\">id</span>=<span style=\"color: #800080; text-decoration-color: #800080\">a63e9783</span>                                  <a href=\"file:///home/codespace/.local/lib/python3.12/site-packages/fbrefdata/fbref.py\" target=\"_blank\"><span style=\"color: #7f7f7f; text-decoration-color: #7f7f7f\">fbref.py</span></a><span style=\"color: #7f7f7f; text-decoration-color: #7f7f7f\">:</span><a href=\"file:///home/codespace/.local/lib/python3.12/site-packages/fbrefdata/fbref.py#927\" target=\"_blank\"><span style=\"color: #7f7f7f; text-decoration-color: #7f7f7f\">927</span></a>\n",
       "</pre>\n"
      ],
      "text/plain": [
       "\u001b[2;36m[08/29/24 13:02:44]\u001b[0m\u001b[2;36m \u001b[0m\u001b[34mINFO    \u001b[0m \u001b[1m[\u001b[0m\u001b[1;36m8\u001b[0m/\u001b[1;36m380\u001b[0m\u001b[1m]\u001b[0m Retrieving game with \u001b[33mid\u001b[0m=\u001b[35ma63e9783\u001b[0m                                  \u001b]8;id=426586;file:///home/codespace/.local/lib/python3.12/site-packages/fbrefdata/fbref.py\u001b\\\u001b[2mfbref.py\u001b[0m\u001b]8;;\u001b\\\u001b[2m:\u001b[0m\u001b]8;id=307106;file:///home/codespace/.local/lib/python3.12/site-packages/fbrefdata/fbref.py#927\u001b\\\u001b[2m927\u001b[0m\u001b]8;;\u001b\\\n"
      ]
     },
     "metadata": {},
     "output_type": "display_data"
    },
    {
     "name": "stderr",
     "output_type": "stream",
     "text": [
      "/home/codespace/.local/lib/python3.12/site-packages/fbrefdata/fbref.py:940: FutureWarning: This search incorrectly ignores the root element, and will be fixed in a future version.  If you rely on the current behaviour, change it to \".//table[@id='stats_f25da7fb_summary']\"\n",
      "  html_table = tree.find(\"//table[@id='\" + id_format.format(home_team[\"id\"]) + \"']\")\n",
      "/home/codespace/.local/lib/python3.12/site-packages/fbrefdata/fbref.py:953: FutureWarning: This search incorrectly ignores the root element, and will be fixed in a future version.  If you rely on the current behaviour, change it to \".//table[@id='stats_dcc91a7b_summary']\"\n",
      "  html_table = tree.find(\"//table[@id='\" + id_format.format(away_team[\"id\"]) + \"']\")\n"
     ]
    },
    {
     "data": {
      "text/html": [
       "<pre style=\"white-space:pre;overflow-x:auto;line-height:normal;font-family:Menlo,'DejaVu Sans Mono',consolas,'Courier New',monospace\"><span style=\"color: #7fbfbf; text-decoration-color: #7fbfbf\">[08/29/24 13:02:52] </span><span style=\"color: #000080; text-decoration-color: #000080\">INFO    </span> <span style=\"font-weight: bold\">[</span><span style=\"color: #008080; text-decoration-color: #008080; font-weight: bold\">9</span>/<span style=\"color: #008080; text-decoration-color: #008080; font-weight: bold\">380</span><span style=\"font-weight: bold\">]</span> Retrieving game with <span style=\"color: #808000; text-decoration-color: #808000\">id</span>=<span style=\"color: #800080; text-decoration-color: #800080\">55e47b9d</span>                                  <a href=\"file:///home/codespace/.local/lib/python3.12/site-packages/fbrefdata/fbref.py\" target=\"_blank\"><span style=\"color: #7f7f7f; text-decoration-color: #7f7f7f\">fbref.py</span></a><span style=\"color: #7f7f7f; text-decoration-color: #7f7f7f\">:</span><a href=\"file:///home/codespace/.local/lib/python3.12/site-packages/fbrefdata/fbref.py#927\" target=\"_blank\"><span style=\"color: #7f7f7f; text-decoration-color: #7f7f7f\">927</span></a>\n",
       "</pre>\n"
      ],
      "text/plain": [
       "\u001b[2;36m[08/29/24 13:02:52]\u001b[0m\u001b[2;36m \u001b[0m\u001b[34mINFO    \u001b[0m \u001b[1m[\u001b[0m\u001b[1;36m9\u001b[0m/\u001b[1;36m380\u001b[0m\u001b[1m]\u001b[0m Retrieving game with \u001b[33mid\u001b[0m=\u001b[35m55e47b9d\u001b[0m                                  \u001b]8;id=599636;file:///home/codespace/.local/lib/python3.12/site-packages/fbrefdata/fbref.py\u001b\\\u001b[2mfbref.py\u001b[0m\u001b]8;;\u001b\\\u001b[2m:\u001b[0m\u001b]8;id=326190;file:///home/codespace/.local/lib/python3.12/site-packages/fbrefdata/fbref.py#927\u001b\\\u001b[2m927\u001b[0m\u001b]8;;\u001b\\\n"
      ]
     },
     "metadata": {},
     "output_type": "display_data"
    },
    {
     "name": "stderr",
     "output_type": "stream",
     "text": [
      "/home/codespace/.local/lib/python3.12/site-packages/fbrefdata/fbref.py:940: FutureWarning: This search incorrectly ignores the root element, and will be fixed in a future version.  If you rely on the current behaviour, change it to \".//table[@id='stats_7848bd64_summary']\"\n",
      "  html_table = tree.find(\"//table[@id='\" + id_format.format(home_team[\"id\"]) + \"']\")\n",
      "/home/codespace/.local/lib/python3.12/site-packages/fbrefdata/fbref.py:953: FutureWarning: This search incorrectly ignores the root element, and will be fixed in a future version.  If you rely on the current behaviour, change it to \".//table[@id='stats_03c57e2b_summary']\"\n",
      "  html_table = tree.find(\"//table[@id='\" + id_format.format(away_team[\"id\"]) + \"']\")\n"
     ]
    },
    {
     "data": {
      "text/html": [
       "<pre style=\"white-space:pre;overflow-x:auto;line-height:normal;font-family:Menlo,'DejaVu Sans Mono',consolas,'Courier New',monospace\"><span style=\"color: #7fbfbf; text-decoration-color: #7fbfbf\">[08/29/24 13:02:59] </span><span style=\"color: #000080; text-decoration-color: #000080\">INFO    </span> <span style=\"font-weight: bold\">[</span><span style=\"color: #008080; text-decoration-color: #008080; font-weight: bold\">10</span>/<span style=\"color: #008080; text-decoration-color: #008080; font-weight: bold\">380</span><span style=\"font-weight: bold\">]</span> Retrieving game with <span style=\"color: #808000; text-decoration-color: #808000\">id</span>=<span style=\"color: #800080; text-decoration-color: #800080\">c9880239</span>                                 <a href=\"file:///home/codespace/.local/lib/python3.12/site-packages/fbrefdata/fbref.py\" target=\"_blank\"><span style=\"color: #7f7f7f; text-decoration-color: #7f7f7f\">fbref.py</span></a><span style=\"color: #7f7f7f; text-decoration-color: #7f7f7f\">:</span><a href=\"file:///home/codespace/.local/lib/python3.12/site-packages/fbrefdata/fbref.py#927\" target=\"_blank\"><span style=\"color: #7f7f7f; text-decoration-color: #7f7f7f\">927</span></a>\n",
       "</pre>\n"
      ],
      "text/plain": [
       "\u001b[2;36m[08/29/24 13:02:59]\u001b[0m\u001b[2;36m \u001b[0m\u001b[34mINFO    \u001b[0m \u001b[1m[\u001b[0m\u001b[1;36m10\u001b[0m/\u001b[1;36m380\u001b[0m\u001b[1m]\u001b[0m Retrieving game with \u001b[33mid\u001b[0m=\u001b[35mc9880239\u001b[0m                                 \u001b]8;id=841728;file:///home/codespace/.local/lib/python3.12/site-packages/fbrefdata/fbref.py\u001b\\\u001b[2mfbref.py\u001b[0m\u001b]8;;\u001b\\\u001b[2m:\u001b[0m\u001b]8;id=169002;file:///home/codespace/.local/lib/python3.12/site-packages/fbrefdata/fbref.py#927\u001b\\\u001b[2m927\u001b[0m\u001b]8;;\u001b\\\n"
      ]
     },
     "metadata": {},
     "output_type": "display_data"
    },
    {
     "name": "stderr",
     "output_type": "stream",
     "text": [
      "/home/codespace/.local/lib/python3.12/site-packages/fbrefdata/fbref.py:940: FutureWarning: This search incorrectly ignores the root element, and will be fixed in a future version.  If you rely on the current behaviour, change it to \".//table[@id='stats_2a8183b3_summary']\"\n",
      "  html_table = tree.find(\"//table[@id='\" + id_format.format(home_team[\"id\"]) + \"']\")\n",
      "/home/codespace/.local/lib/python3.12/site-packages/fbrefdata/fbref.py:953: FutureWarning: This search incorrectly ignores the root element, and will be fixed in a future version.  If you rely on the current behaviour, change it to \".//table[@id='stats_bea5c710_summary']\"\n",
      "  html_table = tree.find(\"//table[@id='\" + id_format.format(away_team[\"id\"]) + \"']\")\n"
     ]
    },
    {
     "data": {
      "text/html": [
       "<pre style=\"white-space:pre;overflow-x:auto;line-height:normal;font-family:Menlo,'DejaVu Sans Mono',consolas,'Courier New',monospace\"><span style=\"color: #7fbfbf; text-decoration-color: #7fbfbf\">[08/29/24 13:03:07] </span><span style=\"color: #000080; text-decoration-color: #000080\">INFO    </span> <span style=\"font-weight: bold\">[</span><span style=\"color: #008080; text-decoration-color: #008080; font-weight: bold\">11</span>/<span style=\"color: #008080; text-decoration-color: #008080; font-weight: bold\">380</span><span style=\"font-weight: bold\">]</span> Retrieving game with <span style=\"color: #808000; text-decoration-color: #808000\">id</span>=<span style=\"color: #800080; text-decoration-color: #800080\">c6a6db36</span>                                 <a href=\"file:///home/codespace/.local/lib/python3.12/site-packages/fbrefdata/fbref.py\" target=\"_blank\"><span style=\"color: #7f7f7f; text-decoration-color: #7f7f7f\">fbref.py</span></a><span style=\"color: #7f7f7f; text-decoration-color: #7f7f7f\">:</span><a href=\"file:///home/codespace/.local/lib/python3.12/site-packages/fbrefdata/fbref.py#927\" target=\"_blank\"><span style=\"color: #7f7f7f; text-decoration-color: #7f7f7f\">927</span></a>\n",
       "</pre>\n"
      ],
      "text/plain": [
       "\u001b[2;36m[08/29/24 13:03:07]\u001b[0m\u001b[2;36m \u001b[0m\u001b[34mINFO    \u001b[0m \u001b[1m[\u001b[0m\u001b[1;36m11\u001b[0m/\u001b[1;36m380\u001b[0m\u001b[1m]\u001b[0m Retrieving game with \u001b[33mid\u001b[0m=\u001b[35mc6a6db36\u001b[0m                                 \u001b]8;id=841923;file:///home/codespace/.local/lib/python3.12/site-packages/fbrefdata/fbref.py\u001b\\\u001b[2mfbref.py\u001b[0m\u001b]8;;\u001b\\\u001b[2m:\u001b[0m\u001b]8;id=915155;file:///home/codespace/.local/lib/python3.12/site-packages/fbrefdata/fbref.py#927\u001b\\\u001b[2m927\u001b[0m\u001b]8;;\u001b\\\n"
      ]
     },
     "metadata": {},
     "output_type": "display_data"
    },
    {
     "name": "stderr",
     "output_type": "stream",
     "text": [
      "/home/codespace/.local/lib/python3.12/site-packages/fbrefdata/fbref.py:940: FutureWarning: This search incorrectly ignores the root element, and will be fixed in a future version.  If you rely on the current behaviour, change it to \".//table[@id='stats_fc536746_summary']\"\n",
      "  html_table = tree.find(\"//table[@id='\" + id_format.format(home_team[\"id\"]) + \"']\")\n",
      "/home/codespace/.local/lib/python3.12/site-packages/fbrefdata/fbref.py:953: FutureWarning: This search incorrectly ignores the root element, and will be fixed in a future version.  If you rely on the current behaviour, change it to \".//table[@id='stats_17859612_summary']\"\n",
      "  html_table = tree.find(\"//table[@id='\" + id_format.format(away_team[\"id\"]) + \"']\")\n"
     ]
    },
    {
     "data": {
      "text/html": [
       "<pre style=\"white-space:pre;overflow-x:auto;line-height:normal;font-family:Menlo,'DejaVu Sans Mono',consolas,'Courier New',monospace\"><span style=\"color: #7fbfbf; text-decoration-color: #7fbfbf\">[08/29/24 13:03:14] </span><span style=\"color: #000080; text-decoration-color: #000080\">INFO    </span> <span style=\"font-weight: bold\">[</span><span style=\"color: #008080; text-decoration-color: #008080; font-weight: bold\">12</span>/<span style=\"color: #008080; text-decoration-color: #008080; font-weight: bold\">380</span><span style=\"font-weight: bold\">]</span> Retrieving game with <span style=\"color: #808000; text-decoration-color: #808000\">id</span>=<span style=\"color: #800080; text-decoration-color: #800080\">98b24ea3</span>                                 <a href=\"file:///home/codespace/.local/lib/python3.12/site-packages/fbrefdata/fbref.py\" target=\"_blank\"><span style=\"color: #7f7f7f; text-decoration-color: #7f7f7f\">fbref.py</span></a><span style=\"color: #7f7f7f; text-decoration-color: #7f7f7f\">:</span><a href=\"file:///home/codespace/.local/lib/python3.12/site-packages/fbrefdata/fbref.py#927\" target=\"_blank\"><span style=\"color: #7f7f7f; text-decoration-color: #7f7f7f\">927</span></a>\n",
       "</pre>\n"
      ],
      "text/plain": [
       "\u001b[2;36m[08/29/24 13:03:14]\u001b[0m\u001b[2;36m \u001b[0m\u001b[34mINFO    \u001b[0m \u001b[1m[\u001b[0m\u001b[1;36m12\u001b[0m/\u001b[1;36m380\u001b[0m\u001b[1m]\u001b[0m Retrieving game with \u001b[33mid\u001b[0m=\u001b[35m98b24ea3\u001b[0m                                 \u001b]8;id=505584;file:///home/codespace/.local/lib/python3.12/site-packages/fbrefdata/fbref.py\u001b\\\u001b[2mfbref.py\u001b[0m\u001b]8;;\u001b\\\u001b[2m:\u001b[0m\u001b]8;id=648481;file:///home/codespace/.local/lib/python3.12/site-packages/fbrefdata/fbref.py#927\u001b\\\u001b[2m927\u001b[0m\u001b]8;;\u001b\\\n"
      ]
     },
     "metadata": {},
     "output_type": "display_data"
    },
    {
     "name": "stderr",
     "output_type": "stream",
     "text": [
      "/home/codespace/.local/lib/python3.12/site-packages/fbrefdata/fbref.py:940: FutureWarning: This search incorrectly ignores the root element, and will be fixed in a future version.  If you rely on the current behaviour, change it to \".//table[@id='stats_a0435291_summary']\"\n",
      "  html_table = tree.find(\"//table[@id='\" + id_format.format(home_team[\"id\"]) + \"']\")\n",
      "/home/codespace/.local/lib/python3.12/site-packages/fbrefdata/fbref.py:953: FutureWarning: This search incorrectly ignores the root element, and will be fixed in a future version.  If you rely on the current behaviour, change it to \".//table[@id='stats_8d6fd021_summary']\"\n",
      "  html_table = tree.find(\"//table[@id='\" + id_format.format(away_team[\"id\"]) + \"']\")\n"
     ]
    },
    {
     "data": {
      "text/html": [
       "<pre style=\"white-space:pre;overflow-x:auto;line-height:normal;font-family:Menlo,'DejaVu Sans Mono',consolas,'Courier New',monospace\"><span style=\"color: #7fbfbf; text-decoration-color: #7fbfbf\">[08/29/24 13:03:22] </span><span style=\"color: #000080; text-decoration-color: #000080\">INFO    </span> <span style=\"font-weight: bold\">[</span><span style=\"color: #008080; text-decoration-color: #008080; font-weight: bold\">13</span>/<span style=\"color: #008080; text-decoration-color: #008080; font-weight: bold\">380</span><span style=\"font-weight: bold\">]</span> Retrieving game with <span style=\"color: #808000; text-decoration-color: #808000\">id</span>=<span style=\"color: #800080; text-decoration-color: #800080\">8598db55</span>                                 <a href=\"file:///home/codespace/.local/lib/python3.12/site-packages/fbrefdata/fbref.py\" target=\"_blank\"><span style=\"color: #7f7f7f; text-decoration-color: #7f7f7f\">fbref.py</span></a><span style=\"color: #7f7f7f; text-decoration-color: #7f7f7f\">:</span><a href=\"file:///home/codespace/.local/lib/python3.12/site-packages/fbrefdata/fbref.py#927\" target=\"_blank\"><span style=\"color: #7f7f7f; text-decoration-color: #7f7f7f\">927</span></a>\n",
       "</pre>\n"
      ],
      "text/plain": [
       "\u001b[2;36m[08/29/24 13:03:22]\u001b[0m\u001b[2;36m \u001b[0m\u001b[34mINFO    \u001b[0m \u001b[1m[\u001b[0m\u001b[1;36m13\u001b[0m/\u001b[1;36m380\u001b[0m\u001b[1m]\u001b[0m Retrieving game with \u001b[33mid\u001b[0m=\u001b[35m8598db55\u001b[0m                                 \u001b]8;id=708879;file:///home/codespace/.local/lib/python3.12/site-packages/fbrefdata/fbref.py\u001b\\\u001b[2mfbref.py\u001b[0m\u001b]8;;\u001b\\\u001b[2m:\u001b[0m\u001b]8;id=825030;file:///home/codespace/.local/lib/python3.12/site-packages/fbrefdata/fbref.py#927\u001b\\\u001b[2m927\u001b[0m\u001b]8;;\u001b\\\n"
      ]
     },
     "metadata": {},
     "output_type": "display_data"
    },
    {
     "name": "stderr",
     "output_type": "stream",
     "text": [
      "/home/codespace/.local/lib/python3.12/site-packages/fbrefdata/fbref.py:940: FutureWarning: This search incorrectly ignores the root element, and will be fixed in a future version.  If you rely on the current behaviour, change it to \".//table[@id='stats_c6c493e6_summary']\"\n",
      "  html_table = tree.find(\"//table[@id='\" + id_format.format(home_team[\"id\"]) + \"']\")\n",
      "/home/codespace/.local/lib/python3.12/site-packages/fbrefdata/fbref.py:953: FutureWarning: This search incorrectly ignores the root element, and will be fixed in a future version.  If you rely on the current behaviour, change it to \".//table[@id='stats_ee7c297c_summary']\"\n",
      "  html_table = tree.find(\"//table[@id='\" + id_format.format(away_team[\"id\"]) + \"']\")\n"
     ]
    },
    {
     "data": {
      "text/html": [
       "<pre style=\"white-space:pre;overflow-x:auto;line-height:normal;font-family:Menlo,'DejaVu Sans Mono',consolas,'Courier New',monospace\"><span style=\"color: #7fbfbf; text-decoration-color: #7fbfbf\">[08/29/24 13:03:29] </span><span style=\"color: #000080; text-decoration-color: #000080\">INFO    </span> <span style=\"font-weight: bold\">[</span><span style=\"color: #008080; text-decoration-color: #008080; font-weight: bold\">14</span>/<span style=\"color: #008080; text-decoration-color: #008080; font-weight: bold\">380</span><span style=\"font-weight: bold\">]</span> Retrieving game with <span style=\"color: #808000; text-decoration-color: #808000\">id</span>=<span style=\"color: #800080; text-decoration-color: #800080\">9ff705c3</span>                                 <a href=\"file:///home/codespace/.local/lib/python3.12/site-packages/fbrefdata/fbref.py\" target=\"_blank\"><span style=\"color: #7f7f7f; text-decoration-color: #7f7f7f\">fbref.py</span></a><span style=\"color: #7f7f7f; text-decoration-color: #7f7f7f\">:</span><a href=\"file:///home/codespace/.local/lib/python3.12/site-packages/fbrefdata/fbref.py#927\" target=\"_blank\"><span style=\"color: #7f7f7f; text-decoration-color: #7f7f7f\">927</span></a>\n",
       "</pre>\n"
      ],
      "text/plain": [
       "\u001b[2;36m[08/29/24 13:03:29]\u001b[0m\u001b[2;36m \u001b[0m\u001b[34mINFO    \u001b[0m \u001b[1m[\u001b[0m\u001b[1;36m14\u001b[0m/\u001b[1;36m380\u001b[0m\u001b[1m]\u001b[0m Retrieving game with \u001b[33mid\u001b[0m=\u001b[35m9ff705c3\u001b[0m                                 \u001b]8;id=358623;file:///home/codespace/.local/lib/python3.12/site-packages/fbrefdata/fbref.py\u001b\\\u001b[2mfbref.py\u001b[0m\u001b]8;;\u001b\\\u001b[2m:\u001b[0m\u001b]8;id=208172;file:///home/codespace/.local/lib/python3.12/site-packages/fbrefdata/fbref.py#927\u001b\\\u001b[2m927\u001b[0m\u001b]8;;\u001b\\\n"
      ]
     },
     "metadata": {},
     "output_type": "display_data"
    },
    {
     "name": "stderr",
     "output_type": "stream",
     "text": [
      "/home/codespace/.local/lib/python3.12/site-packages/fbrefdata/fbref.py:940: FutureWarning: This search incorrectly ignores the root element, and will be fixed in a future version.  If you rely on the current behaviour, change it to \".//table[@id='stats_e31d1cd9_summary']\"\n",
      "  html_table = tree.find(\"//table[@id='\" + id_format.format(home_team[\"id\"]) + \"']\")\n",
      "/home/codespace/.local/lib/python3.12/site-packages/fbrefdata/fbref.py:953: FutureWarning: This search incorrectly ignores the root element, and will be fixed in a future version.  If you rely on the current behaviour, change it to \".//table[@id='stats_53a2f082_summary']\"\n",
      "  html_table = tree.find(\"//table[@id='\" + id_format.format(away_team[\"id\"]) + \"']\")\n"
     ]
    },
    {
     "data": {
      "text/html": [
       "<pre style=\"white-space:pre;overflow-x:auto;line-height:normal;font-family:Menlo,'DejaVu Sans Mono',consolas,'Courier New',monospace\"><span style=\"color: #7fbfbf; text-decoration-color: #7fbfbf\">[08/29/24 13:03:36] </span><span style=\"color: #000080; text-decoration-color: #000080\">INFO    </span> <span style=\"font-weight: bold\">[</span><span style=\"color: #008080; text-decoration-color: #008080; font-weight: bold\">15</span>/<span style=\"color: #008080; text-decoration-color: #008080; font-weight: bold\">380</span><span style=\"font-weight: bold\">]</span> Retrieving game with <span style=\"color: #808000; text-decoration-color: #808000\">id</span>=<span style=\"color: #800080; text-decoration-color: #800080\">0e2e2ec9</span>                                 <a href=\"file:///home/codespace/.local/lib/python3.12/site-packages/fbrefdata/fbref.py\" target=\"_blank\"><span style=\"color: #7f7f7f; text-decoration-color: #7f7f7f\">fbref.py</span></a><span style=\"color: #7f7f7f; text-decoration-color: #7f7f7f\">:</span><a href=\"file:///home/codespace/.local/lib/python3.12/site-packages/fbrefdata/fbref.py#927\" target=\"_blank\"><span style=\"color: #7f7f7f; text-decoration-color: #7f7f7f\">927</span></a>\n",
       "</pre>\n"
      ],
      "text/plain": [
       "\u001b[2;36m[08/29/24 13:03:36]\u001b[0m\u001b[2;36m \u001b[0m\u001b[34mINFO    \u001b[0m \u001b[1m[\u001b[0m\u001b[1;36m15\u001b[0m/\u001b[1;36m380\u001b[0m\u001b[1m]\u001b[0m Retrieving game with \u001b[33mid\u001b[0m=\u001b[35m0e2e2ec9\u001b[0m                                 \u001b]8;id=638006;file:///home/codespace/.local/lib/python3.12/site-packages/fbrefdata/fbref.py\u001b\\\u001b[2mfbref.py\u001b[0m\u001b]8;;\u001b\\\u001b[2m:\u001b[0m\u001b]8;id=335859;file:///home/codespace/.local/lib/python3.12/site-packages/fbrefdata/fbref.py#927\u001b\\\u001b[2m927\u001b[0m\u001b]8;;\u001b\\\n"
      ]
     },
     "metadata": {},
     "output_type": "display_data"
    },
    {
     "name": "stderr",
     "output_type": "stream",
     "text": [
      "/home/codespace/.local/lib/python3.12/site-packages/fbrefdata/fbref.py:940: FutureWarning: This search incorrectly ignores the root element, and will be fixed in a future version.  If you rely on the current behaviour, change it to \".//table[@id='stats_8d6fd021_summary']\"\n",
      "  html_table = tree.find(\"//table[@id='\" + id_format.format(home_team[\"id\"]) + \"']\")\n",
      "/home/codespace/.local/lib/python3.12/site-packages/fbrefdata/fbref.py:953: FutureWarning: This search incorrectly ignores the root element, and will be fixed in a future version.  If you rely on the current behaviour, change it to \".//table[@id='stats_7848bd64_summary']\"\n",
      "  html_table = tree.find(\"//table[@id='\" + id_format.format(away_team[\"id\"]) + \"']\")\n"
     ]
    },
    {
     "data": {
      "text/html": [
       "<pre style=\"white-space:pre;overflow-x:auto;line-height:normal;font-family:Menlo,'DejaVu Sans Mono',consolas,'Courier New',monospace\"><span style=\"color: #7fbfbf; text-decoration-color: #7fbfbf\">[08/29/24 13:03:44] </span><span style=\"color: #000080; text-decoration-color: #000080\">INFO    </span> <span style=\"font-weight: bold\">[</span><span style=\"color: #008080; text-decoration-color: #008080; font-weight: bold\">16</span>/<span style=\"color: #008080; text-decoration-color: #008080; font-weight: bold\">380</span><span style=\"font-weight: bold\">]</span> Retrieving game with <span style=\"color: #808000; text-decoration-color: #808000\">id</span>=<span style=\"color: #800080; text-decoration-color: #800080\">eca849a3</span>                                 <a href=\"file:///home/codespace/.local/lib/python3.12/site-packages/fbrefdata/fbref.py\" target=\"_blank\"><span style=\"color: #7f7f7f; text-decoration-color: #7f7f7f\">fbref.py</span></a><span style=\"color: #7f7f7f; text-decoration-color: #7f7f7f\">:</span><a href=\"file:///home/codespace/.local/lib/python3.12/site-packages/fbrefdata/fbref.py#927\" target=\"_blank\"><span style=\"color: #7f7f7f; text-decoration-color: #7f7f7f\">927</span></a>\n",
       "</pre>\n"
      ],
      "text/plain": [
       "\u001b[2;36m[08/29/24 13:03:44]\u001b[0m\u001b[2;36m \u001b[0m\u001b[34mINFO    \u001b[0m \u001b[1m[\u001b[0m\u001b[1;36m16\u001b[0m/\u001b[1;36m380\u001b[0m\u001b[1m]\u001b[0m Retrieving game with \u001b[33mid\u001b[0m=\u001b[35meca849a3\u001b[0m                                 \u001b]8;id=778297;file:///home/codespace/.local/lib/python3.12/site-packages/fbrefdata/fbref.py\u001b\\\u001b[2mfbref.py\u001b[0m\u001b]8;;\u001b\\\u001b[2m:\u001b[0m\u001b]8;id=815146;file:///home/codespace/.local/lib/python3.12/site-packages/fbrefdata/fbref.py#927\u001b\\\u001b[2m927\u001b[0m\u001b]8;;\u001b\\\n"
      ]
     },
     "metadata": {},
     "output_type": "display_data"
    },
    {
     "name": "stderr",
     "output_type": "stream",
     "text": [
      "/home/codespace/.local/lib/python3.12/site-packages/fbrefdata/fbref.py:940: FutureWarning: This search incorrectly ignores the root element, and will be fixed in a future version.  If you rely on the current behaviour, change it to \".//table[@id='stats_fc536746_summary']\"\n",
      "  html_table = tree.find(\"//table[@id='\" + id_format.format(home_team[\"id\"]) + \"']\")\n",
      "/home/codespace/.local/lib/python3.12/site-packages/fbrefdata/fbref.py:953: FutureWarning: This search incorrectly ignores the root element, and will be fixed in a future version.  If you rely on the current behaviour, change it to \".//table[@id='stats_53a2f082_summary']\"\n",
      "  html_table = tree.find(\"//table[@id='\" + id_format.format(away_team[\"id\"]) + \"']\")\n"
     ]
    },
    {
     "data": {
      "text/html": [
       "<pre style=\"white-space:pre;overflow-x:auto;line-height:normal;font-family:Menlo,'DejaVu Sans Mono',consolas,'Courier New',monospace\"><span style=\"color: #7fbfbf; text-decoration-color: #7fbfbf\">[08/29/24 13:03:51] </span><span style=\"color: #000080; text-decoration-color: #000080\">INFO    </span> <span style=\"font-weight: bold\">[</span><span style=\"color: #008080; text-decoration-color: #008080; font-weight: bold\">17</span>/<span style=\"color: #008080; text-decoration-color: #008080; font-weight: bold\">380</span><span style=\"font-weight: bold\">]</span> Retrieving game with <span style=\"color: #808000; text-decoration-color: #808000\">id</span>=<span style=\"color: #800080; text-decoration-color: #800080\">970ca4d6</span>                                 <a href=\"file:///home/codespace/.local/lib/python3.12/site-packages/fbrefdata/fbref.py\" target=\"_blank\"><span style=\"color: #7f7f7f; text-decoration-color: #7f7f7f\">fbref.py</span></a><span style=\"color: #7f7f7f; text-decoration-color: #7f7f7f\">:</span><a href=\"file:///home/codespace/.local/lib/python3.12/site-packages/fbrefdata/fbref.py#927\" target=\"_blank\"><span style=\"color: #7f7f7f; text-decoration-color: #7f7f7f\">927</span></a>\n",
       "</pre>\n"
      ],
      "text/plain": [
       "\u001b[2;36m[08/29/24 13:03:51]\u001b[0m\u001b[2;36m \u001b[0m\u001b[34mINFO    \u001b[0m \u001b[1m[\u001b[0m\u001b[1;36m17\u001b[0m/\u001b[1;36m380\u001b[0m\u001b[1m]\u001b[0m Retrieving game with \u001b[33mid\u001b[0m=\u001b[35m970ca4d6\u001b[0m                                 \u001b]8;id=908115;file:///home/codespace/.local/lib/python3.12/site-packages/fbrefdata/fbref.py\u001b\\\u001b[2mfbref.py\u001b[0m\u001b]8;;\u001b\\\u001b[2m:\u001b[0m\u001b]8;id=157538;file:///home/codespace/.local/lib/python3.12/site-packages/fbrefdata/fbref.py#927\u001b\\\u001b[2m927\u001b[0m\u001b]8;;\u001b\\\n"
      ]
     },
     "metadata": {},
     "output_type": "display_data"
    },
    {
     "name": "stderr",
     "output_type": "stream",
     "text": [
      "/home/codespace/.local/lib/python3.12/site-packages/fbrefdata/fbref.py:940: FutureWarning: This search incorrectly ignores the root element, and will be fixed in a future version.  If you rely on the current behaviour, change it to \".//table[@id='stats_6c8b07df_summary']\"\n",
      "  html_table = tree.find(\"//table[@id='\" + id_format.format(home_team[\"id\"]) + \"']\")\n",
      "/home/codespace/.local/lib/python3.12/site-packages/fbrefdata/fbref.py:953: FutureWarning: This search incorrectly ignores the root element, and will be fixed in a future version.  If you rely on the current behaviour, change it to \".//table[@id='stats_e31d1cd9_summary']\"\n",
      "  html_table = tree.find(\"//table[@id='\" + id_format.format(away_team[\"id\"]) + \"']\")\n"
     ]
    },
    {
     "data": {
      "text/html": [
       "<pre style=\"white-space:pre;overflow-x:auto;line-height:normal;font-family:Menlo,'DejaVu Sans Mono',consolas,'Courier New',monospace\"><span style=\"color: #7fbfbf; text-decoration-color: #7fbfbf\">[08/29/24 13:03:58] </span><span style=\"color: #000080; text-decoration-color: #000080\">INFO    </span> <span style=\"font-weight: bold\">[</span><span style=\"color: #008080; text-decoration-color: #008080; font-weight: bold\">18</span>/<span style=\"color: #008080; text-decoration-color: #008080; font-weight: bold\">380</span><span style=\"font-weight: bold\">]</span> Retrieving game with <span style=\"color: #808000; text-decoration-color: #808000\">id</span>=<span style=\"color: #800080; text-decoration-color: #800080\">fecf3cbd</span>                                 <a href=\"file:///home/codespace/.local/lib/python3.12/site-packages/fbrefdata/fbref.py\" target=\"_blank\"><span style=\"color: #7f7f7f; text-decoration-color: #7f7f7f\">fbref.py</span></a><span style=\"color: #7f7f7f; text-decoration-color: #7f7f7f\">:</span><a href=\"file:///home/codespace/.local/lib/python3.12/site-packages/fbrefdata/fbref.py#927\" target=\"_blank\"><span style=\"color: #7f7f7f; text-decoration-color: #7f7f7f\">927</span></a>\n",
       "</pre>\n"
      ],
      "text/plain": [
       "\u001b[2;36m[08/29/24 13:03:58]\u001b[0m\u001b[2;36m \u001b[0m\u001b[34mINFO    \u001b[0m \u001b[1m[\u001b[0m\u001b[1;36m18\u001b[0m/\u001b[1;36m380\u001b[0m\u001b[1m]\u001b[0m Retrieving game with \u001b[33mid\u001b[0m=\u001b[35mfecf3cbd\u001b[0m                                 \u001b]8;id=900382;file:///home/codespace/.local/lib/python3.12/site-packages/fbrefdata/fbref.py\u001b\\\u001b[2mfbref.py\u001b[0m\u001b]8;;\u001b\\\u001b[2m:\u001b[0m\u001b]8;id=158767;file:///home/codespace/.local/lib/python3.12/site-packages/fbrefdata/fbref.py#927\u001b\\\u001b[2m927\u001b[0m\u001b]8;;\u001b\\\n"
      ]
     },
     "metadata": {},
     "output_type": "display_data"
    }
   ],
   "source": [
    "fbref = fb.FBref('ESP-LALIGA', '2020-2021')\n",
    "df = fbref.read_player_match_stats()"
   ]
  },
  {
   "cell_type": "code",
   "execution_count": null,
   "id": "a03e1231-e39a-43e5-9834-605ecbc0c9b6",
   "metadata": {},
   "outputs": [],
   "source": [
    "fbref = fb.FBref('ESP-LALIGA', '2018-2019')\n",
    "df = fbref.read_player_match_stats()"
   ]
  },
  {
   "cell_type": "code",
   "execution_count": null,
   "id": "eeba4588-d18e-4c0d-96f2-c475c47ebd91",
   "metadata": {},
   "outputs": [],
   "source": []
  }
 ],
 "metadata": {
  "kernelspec": {
   "display_name": "Python 3 (ipykernel)",
   "language": "python",
   "name": "python3"
  },
  "language_info": {
   "codemirror_mode": {
    "name": "ipython",
    "version": 3
   },
   "file_extension": ".py",
   "mimetype": "text/x-python",
   "name": "python",
   "nbconvert_exporter": "python",
   "pygments_lexer": "ipython3",
   "version": "3.12.1"
  }
 },
 "nbformat": 4,
 "nbformat_minor": 5
}
