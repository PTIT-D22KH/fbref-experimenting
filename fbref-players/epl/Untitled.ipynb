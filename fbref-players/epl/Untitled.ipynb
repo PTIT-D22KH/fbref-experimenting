{
 "cells": [
  {
   "cell_type": "code",
   "execution_count": 4,
   "id": "bc3392b4-3ab0-45e5-a546-8a74816f46a5",
   "metadata": {},
   "outputs": [],
   "source": [
    "import fbrefdata as fb\n",
    "import statsbombpy as st\n",
    "import mplsoccer as mp\n",
    "import matplotlib.pyplot as plt\n",
    "import numpy as np\n",
    "import pandas as pd"
   ]
  },
  {
   "cell_type": "code",
   "execution_count": 5,
   "id": "5592cbea-15dc-438a-8e40-ec659e496ee2",
   "metadata": {},
   "outputs": [
    {
     "data": {
      "text/html": [
       "<pre style=\"white-space:pre;overflow-x:auto;line-height:normal;font-family:Menlo,'DejaVu Sans Mono',consolas,'Courier New',monospace\"><span style=\"color: #7fbfbf; text-decoration-color: #7fbfbf\">[08/29/24 07:40:49] </span><span style=\"color: #000080; text-decoration-color: #000080\">INFO    </span> Custom league dict loaded from                                           <a href=\"file:///usr/local/python/3.12.1/lib/python3.12/site-packages/fbrefdata/_config.py\" target=\"_blank\"><span style=\"color: #7f7f7f; text-decoration-color: #7f7f7f\">_config.py</span></a><span style=\"color: #7f7f7f; text-decoration-color: #7f7f7f\">:</span><a href=\"file:///usr/local/python/3.12.1/lib/python3.12/site-packages/fbrefdata/_config.py#96\" target=\"_blank\"><span style=\"color: #7f7f7f; text-decoration-color: #7f7f7f\">96</span></a>\n",
       "<span style=\"color: #7fbfbf; text-decoration-color: #7fbfbf\">                    </span>         <span style=\"color: #800080; text-decoration-color: #800080\">/home/codespace/fbrefdata/config/</span><span style=\"color: #ff00ff; text-decoration-color: #ff00ff\">league_dict.json.</span>                       <span style=\"color: #7f7f7f; text-decoration-color: #7f7f7f\">             </span>\n",
       "</pre>\n"
      ],
      "text/plain": [
       "\u001b[2;36m[08/29/24 07:40:49]\u001b[0m\u001b[2;36m \u001b[0m\u001b[34mINFO    \u001b[0m Custom league dict loaded from                                           \u001b]8;id=655226;file:///usr/local/python/3.12.1/lib/python3.12/site-packages/fbrefdata/_config.py\u001b\\\u001b[2m_config.py\u001b[0m\u001b]8;;\u001b\\\u001b[2m:\u001b[0m\u001b]8;id=760271;file:///usr/local/python/3.12.1/lib/python3.12/site-packages/fbrefdata/_config.py#96\u001b\\\u001b[2m96\u001b[0m\u001b]8;;\u001b\\\n",
       "\u001b[2;36m                    \u001b[0m         \u001b[35m/home/codespace/fbrefdata/config/\u001b[0m\u001b[95mleague_dict.json.\u001b[0m                       \u001b[2m             \u001b[0m\n"
      ]
     },
     "metadata": {},
     "output_type": "display_data"
    },
    {
     "data": {
      "text/plain": [
       "['Big 5 European Leagues Combined',\n",
       " 'ENG-EPL',\n",
       " 'ESP-LALIGA',\n",
       " 'FRA-L1',\n",
       " 'GER-BL1',\n",
       " 'ITA-SERIA_A',\n",
       " 'UCL',\n",
       " 'UEL']"
      ]
     },
     "execution_count": 5,
     "metadata": {},
     "output_type": "execute_result"
    }
   ],
   "source": [
    "\n",
    "fb.FBref.available_leagues()"
   ]
  },
  {
   "cell_type": "code",
   "execution_count": 8,
   "id": "44c75e14-7313-4a95-a7be-146a35106130",
   "metadata": {},
   "outputs": [
    {
     "data": {
      "text/html": [
       "<pre style=\"white-space:pre;overflow-x:auto;line-height:normal;font-family:Menlo,'DejaVu Sans Mono',consolas,'Courier New',monospace\"><span style=\"color: #7fbfbf; text-decoration-color: #7fbfbf\">[08/29/24 07:47:30] </span><span style=\"color: #000080; text-decoration-color: #000080\">INFO    </span> Custom league dict loaded from                                           <a href=\"file:///usr/local/python/3.12.1/lib/python3.12/site-packages/fbrefdata/_config.py\" target=\"_blank\"><span style=\"color: #7f7f7f; text-decoration-color: #7f7f7f\">_config.py</span></a><span style=\"color: #7f7f7f; text-decoration-color: #7f7f7f\">:</span><a href=\"file:///usr/local/python/3.12.1/lib/python3.12/site-packages/fbrefdata/_config.py#96\" target=\"_blank\"><span style=\"color: #7f7f7f; text-decoration-color: #7f7f7f\">96</span></a>\n",
       "<span style=\"color: #7fbfbf; text-decoration-color: #7fbfbf\">                    </span>         <span style=\"color: #800080; text-decoration-color: #800080\">/home/codespace/fbrefdata/config/</span><span style=\"color: #ff00ff; text-decoration-color: #ff00ff\">league_dict.json.</span>                       <span style=\"color: #7f7f7f; text-decoration-color: #7f7f7f\">             </span>\n",
       "</pre>\n"
      ],
      "text/plain": [
       "\u001b[2;36m[08/29/24 07:47:30]\u001b[0m\u001b[2;36m \u001b[0m\u001b[34mINFO    \u001b[0m Custom league dict loaded from                                           \u001b]8;id=382110;file:///usr/local/python/3.12.1/lib/python3.12/site-packages/fbrefdata/_config.py\u001b\\\u001b[2m_config.py\u001b[0m\u001b]8;;\u001b\\\u001b[2m:\u001b[0m\u001b]8;id=576579;file:///usr/local/python/3.12.1/lib/python3.12/site-packages/fbrefdata/_config.py#96\u001b\\\u001b[2m96\u001b[0m\u001b]8;;\u001b\\\n",
       "\u001b[2;36m                    \u001b[0m         \u001b[35m/home/codespace/fbrefdata/config/\u001b[0m\u001b[95mleague_dict.json.\u001b[0m                       \u001b[2m             \u001b[0m\n"
      ]
     },
     "metadata": {},
     "output_type": "display_data"
    },
    {
     "data": {
      "text/html": [
       "<pre style=\"white-space:pre;overflow-x:auto;line-height:normal;font-family:Menlo,'DejaVu Sans Mono',consolas,'Courier New',monospace\"><span style=\"color: #7fbfbf; text-decoration-color: #7fbfbf\">                    </span><span style=\"color: #000080; text-decoration-color: #000080\">INFO    </span> Custom league dict loaded from                                           <a href=\"file:///usr/local/python/3.12.1/lib/python3.12/site-packages/fbrefdata/_config.py\" target=\"_blank\"><span style=\"color: #7f7f7f; text-decoration-color: #7f7f7f\">_config.py</span></a><span style=\"color: #7f7f7f; text-decoration-color: #7f7f7f\">:</span><a href=\"file:///usr/local/python/3.12.1/lib/python3.12/site-packages/fbrefdata/_config.py#96\" target=\"_blank\"><span style=\"color: #7f7f7f; text-decoration-color: #7f7f7f\">96</span></a>\n",
       "<span style=\"color: #7fbfbf; text-decoration-color: #7fbfbf\">                    </span>         <span style=\"color: #800080; text-decoration-color: #800080\">/home/codespace/fbrefdata/config/</span><span style=\"color: #ff00ff; text-decoration-color: #ff00ff\">league_dict.json.</span>                       <span style=\"color: #7f7f7f; text-decoration-color: #7f7f7f\">             </span>\n",
       "</pre>\n"
      ],
      "text/plain": [
       "\u001b[2;36m                   \u001b[0m\u001b[2;36m \u001b[0m\u001b[34mINFO    \u001b[0m Custom league dict loaded from                                           \u001b]8;id=29588;file:///usr/local/python/3.12.1/lib/python3.12/site-packages/fbrefdata/_config.py\u001b\\\u001b[2m_config.py\u001b[0m\u001b]8;;\u001b\\\u001b[2m:\u001b[0m\u001b]8;id=218319;file:///usr/local/python/3.12.1/lib/python3.12/site-packages/fbrefdata/_config.py#96\u001b\\\u001b[2m96\u001b[0m\u001b]8;;\u001b\\\n",
       "\u001b[2;36m                    \u001b[0m         \u001b[35m/home/codespace/fbrefdata/config/\u001b[0m\u001b[95mleague_dict.json.\u001b[0m                       \u001b[2m             \u001b[0m\n"
      ]
     },
     "metadata": {},
     "output_type": "display_data"
    },
    {
     "data": {
      "text/html": [
       "<pre style=\"white-space:pre;overflow-x:auto;line-height:normal;font-family:Menlo,'DejaVu Sans Mono',consolas,'Courier New',monospace\"><span style=\"color: #7fbfbf; text-decoration-color: #7fbfbf\">                    </span><span style=\"color: #000080; text-decoration-color: #000080\">INFO    </span> Saving cached data to <span style=\"color: #800080; text-decoration-color: #800080\">/home/codespace/fbrefdata/</span><span style=\"color: #ff00ff; text-decoration-color: #ff00ff\">data</span>                     <a href=\"file:///usr/local/python/3.12.1/lib/python3.12/site-packages/fbrefdata/_common.py\" target=\"_blank\"><span style=\"color: #7f7f7f; text-decoration-color: #7f7f7f\">_common.py</span></a><span style=\"color: #7f7f7f; text-decoration-color: #7f7f7f\">:</span><a href=\"file:///usr/local/python/3.12.1/lib/python3.12/site-packages/fbrefdata/_common.py#90\" target=\"_blank\"><span style=\"color: #7f7f7f; text-decoration-color: #7f7f7f\">90</span></a>\n",
       "</pre>\n"
      ],
      "text/plain": [
       "\u001b[2;36m                   \u001b[0m\u001b[2;36m \u001b[0m\u001b[34mINFO    \u001b[0m Saving cached data to \u001b[35m/home/codespace/fbrefdata/\u001b[0m\u001b[95mdata\u001b[0m                     \u001b]8;id=11113;file:///usr/local/python/3.12.1/lib/python3.12/site-packages/fbrefdata/_common.py\u001b\\\u001b[2m_common.py\u001b[0m\u001b]8;;\u001b\\\u001b[2m:\u001b[0m\u001b]8;id=981130;file:///usr/local/python/3.12.1/lib/python3.12/site-packages/fbrefdata/_common.py#90\u001b\\\u001b[2m90\u001b[0m\u001b]8;;\u001b\\\n"
      ]
     },
     "metadata": {},
     "output_type": "display_data"
    }
   ],
   "source": [
    "fbref = fb.FBref('ENG-EPL', '2022-2023')"
   ]
  },
  {
   "cell_type": "code",
   "execution_count": null,
   "id": "2ddb012d-9ede-4639-9cd7-30853cd5810a",
   "metadata": {},
   "outputs": [
    {
     "data": {
      "text/html": [
       "<pre style=\"white-space:pre;overflow-x:auto;line-height:normal;font-family:Menlo,'DejaVu Sans Mono',consolas,'Courier New',monospace\"><span style=\"color: #7fbfbf; text-decoration-color: #7fbfbf\">[08/29/24 07:48:00] </span><span style=\"color: #000080; text-decoration-color: #000080\">INFO    </span> Custom league dict loaded from                                           <a href=\"file:///usr/local/python/3.12.1/lib/python3.12/site-packages/fbrefdata/_config.py\" target=\"_blank\"><span style=\"color: #7f7f7f; text-decoration-color: #7f7f7f\">_config.py</span></a><span style=\"color: #7f7f7f; text-decoration-color: #7f7f7f\">:</span><a href=\"file:///usr/local/python/3.12.1/lib/python3.12/site-packages/fbrefdata/_config.py#96\" target=\"_blank\"><span style=\"color: #7f7f7f; text-decoration-color: #7f7f7f\">96</span></a>\n",
       "<span style=\"color: #7fbfbf; text-decoration-color: #7fbfbf\">                    </span>         <span style=\"color: #800080; text-decoration-color: #800080\">/home/codespace/fbrefdata/config/</span><span style=\"color: #ff00ff; text-decoration-color: #ff00ff\">league_dict.json.</span>                       <span style=\"color: #7f7f7f; text-decoration-color: #7f7f7f\">             </span>\n",
       "</pre>\n"
      ],
      "text/plain": [
       "\u001b[2;36m[08/29/24 07:48:00]\u001b[0m\u001b[2;36m \u001b[0m\u001b[34mINFO    \u001b[0m Custom league dict loaded from                                           \u001b]8;id=546768;file:///usr/local/python/3.12.1/lib/python3.12/site-packages/fbrefdata/_config.py\u001b\\\u001b[2m_config.py\u001b[0m\u001b]8;;\u001b\\\u001b[2m:\u001b[0m\u001b]8;id=477679;file:///usr/local/python/3.12.1/lib/python3.12/site-packages/fbrefdata/_config.py#96\u001b\\\u001b[2m96\u001b[0m\u001b]8;;\u001b\\\n",
       "\u001b[2;36m                    \u001b[0m         \u001b[35m/home/codespace/fbrefdata/config/\u001b[0m\u001b[95mleague_dict.json.\u001b[0m                       \u001b[2m             \u001b[0m\n"
      ]
     },
     "metadata": {},
     "output_type": "display_data"
    },
    {
     "data": {
      "text/html": [
       "<pre style=\"white-space:pre;overflow-x:auto;line-height:normal;font-family:Menlo,'DejaVu Sans Mono',consolas,'Courier New',monospace\"><span style=\"color: #7fbfbf; text-decoration-color: #7fbfbf\">[08/29/24 07:48:06] </span><span style=\"color: #000080; text-decoration-color: #000080\">INFO    </span> Custom league dict loaded from                                           <a href=\"file:///usr/local/python/3.12.1/lib/python3.12/site-packages/fbrefdata/_config.py\" target=\"_blank\"><span style=\"color: #7f7f7f; text-decoration-color: #7f7f7f\">_config.py</span></a><span style=\"color: #7f7f7f; text-decoration-color: #7f7f7f\">:</span><a href=\"file:///usr/local/python/3.12.1/lib/python3.12/site-packages/fbrefdata/_config.py#96\" target=\"_blank\"><span style=\"color: #7f7f7f; text-decoration-color: #7f7f7f\">96</span></a>\n",
       "<span style=\"color: #7fbfbf; text-decoration-color: #7fbfbf\">                    </span>         <span style=\"color: #800080; text-decoration-color: #800080\">/home/codespace/fbrefdata/config/</span><span style=\"color: #ff00ff; text-decoration-color: #ff00ff\">league_dict.json.</span>                       <span style=\"color: #7f7f7f; text-decoration-color: #7f7f7f\">             </span>\n",
       "</pre>\n"
      ],
      "text/plain": [
       "\u001b[2;36m[08/29/24 07:48:06]\u001b[0m\u001b[2;36m \u001b[0m\u001b[34mINFO    \u001b[0m Custom league dict loaded from                                           \u001b]8;id=694618;file:///usr/local/python/3.12.1/lib/python3.12/site-packages/fbrefdata/_config.py\u001b\\\u001b[2m_config.py\u001b[0m\u001b]8;;\u001b\\\u001b[2m:\u001b[0m\u001b]8;id=687473;file:///usr/local/python/3.12.1/lib/python3.12/site-packages/fbrefdata/_config.py#96\u001b\\\u001b[2m96\u001b[0m\u001b]8;;\u001b\\\n",
       "\u001b[2;36m                    \u001b[0m         \u001b[35m/home/codespace/fbrefdata/config/\u001b[0m\u001b[95mleague_dict.json.\u001b[0m                       \u001b[2m             \u001b[0m\n"
      ]
     },
     "metadata": {},
     "output_type": "display_data"
    },
    {
     "data": {
      "text/html": [
       "<pre style=\"white-space:pre;overflow-x:auto;line-height:normal;font-family:Menlo,'DejaVu Sans Mono',consolas,'Courier New',monospace\"><span style=\"color: #7fbfbf; text-decoration-color: #7fbfbf\">[08/29/24 07:48:13] </span><span style=\"color: #000080; text-decoration-color: #000080\">INFO    </span> No custom team name replacements found. You can configure these in       <a href=\"file:///usr/local/python/3.12.1/lib/python3.12/site-packages/fbrefdata/_config.py\" target=\"_blank\"><span style=\"color: #7f7f7f; text-decoration-color: #7f7f7f\">_config.py</span></a><span style=\"color: #7f7f7f; text-decoration-color: #7f7f7f\">:</span><a href=\"file:///usr/local/python/3.12.1/lib/python3.12/site-packages/fbrefdata/_config.py#85\" target=\"_blank\"><span style=\"color: #7f7f7f; text-decoration-color: #7f7f7f\">85</span></a>\n",
       "<span style=\"color: #7fbfbf; text-decoration-color: #7fbfbf\">                    </span>         <span style=\"color: #800080; text-decoration-color: #800080\">/home/codespace/fbrefdata/config/</span><span style=\"color: #ff00ff; text-decoration-color: #ff00ff\">teamname_replacements.json.</span>             <span style=\"color: #7f7f7f; text-decoration-color: #7f7f7f\">             </span>\n",
       "</pre>\n"
      ],
      "text/plain": [
       "\u001b[2;36m[08/29/24 07:48:13]\u001b[0m\u001b[2;36m \u001b[0m\u001b[34mINFO    \u001b[0m No custom team name replacements found. You can configure these in       \u001b]8;id=78356;file:///usr/local/python/3.12.1/lib/python3.12/site-packages/fbrefdata/_config.py\u001b\\\u001b[2m_config.py\u001b[0m\u001b]8;;\u001b\\\u001b[2m:\u001b[0m\u001b]8;id=826453;file:///usr/local/python/3.12.1/lib/python3.12/site-packages/fbrefdata/_config.py#85\u001b\\\u001b[2m85\u001b[0m\u001b]8;;\u001b\\\n",
       "\u001b[2;36m                    \u001b[0m         \u001b[35m/home/codespace/fbrefdata/config/\u001b[0m\u001b[95mteamname_replacements.json.\u001b[0m             \u001b[2m             \u001b[0m\n"
      ]
     },
     "metadata": {},
     "output_type": "display_data"
    },
    {
     "data": {
      "text/html": [
       "<pre style=\"white-space:pre;overflow-x:auto;line-height:normal;font-family:Menlo,'DejaVu Sans Mono',consolas,'Courier New',monospace\"><span style=\"color: #7fbfbf; text-decoration-color: #7fbfbf\">                    </span><span style=\"color: #000080; text-decoration-color: #000080\">INFO    </span> No custom team name replacements found. You can configure these in       <a href=\"file:///usr/local/python/3.12.1/lib/python3.12/site-packages/fbrefdata/_config.py\" target=\"_blank\"><span style=\"color: #7f7f7f; text-decoration-color: #7f7f7f\">_config.py</span></a><span style=\"color: #7f7f7f; text-decoration-color: #7f7f7f\">:</span><a href=\"file:///usr/local/python/3.12.1/lib/python3.12/site-packages/fbrefdata/_config.py#85\" target=\"_blank\"><span style=\"color: #7f7f7f; text-decoration-color: #7f7f7f\">85</span></a>\n",
       "<span style=\"color: #7fbfbf; text-decoration-color: #7fbfbf\">                    </span>         <span style=\"color: #800080; text-decoration-color: #800080\">/home/codespace/fbrefdata/config/</span><span style=\"color: #ff00ff; text-decoration-color: #ff00ff\">teamname_replacements.json.</span>             <span style=\"color: #7f7f7f; text-decoration-color: #7f7f7f\">             </span>\n",
       "</pre>\n"
      ],
      "text/plain": [
       "\u001b[2;36m                   \u001b[0m\u001b[2;36m \u001b[0m\u001b[34mINFO    \u001b[0m No custom team name replacements found. You can configure these in       \u001b]8;id=116651;file:///usr/local/python/3.12.1/lib/python3.12/site-packages/fbrefdata/_config.py\u001b\\\u001b[2m_config.py\u001b[0m\u001b]8;;\u001b\\\u001b[2m:\u001b[0m\u001b]8;id=662896;file:///usr/local/python/3.12.1/lib/python3.12/site-packages/fbrefdata/_config.py#85\u001b\\\u001b[2m85\u001b[0m\u001b]8;;\u001b\\\n",
       "\u001b[2;36m                    \u001b[0m         \u001b[35m/home/codespace/fbrefdata/config/\u001b[0m\u001b[95mteamname_replacements.json.\u001b[0m             \u001b[2m             \u001b[0m\n"
      ]
     },
     "metadata": {},
     "output_type": "display_data"
    },
    {
     "data": {
      "text/html": [
       "<pre style=\"white-space:pre;overflow-x:auto;line-height:normal;font-family:Menlo,'DejaVu Sans Mono',consolas,'Courier New',monospace\"><span style=\"color: #7fbfbf; text-decoration-color: #7fbfbf\">                    </span><span style=\"color: #000080; text-decoration-color: #000080\">INFO    </span> <span style=\"font-weight: bold\">[</span><span style=\"color: #008080; text-decoration-color: #008080; font-weight: bold\">1</span>/<span style=\"color: #008080; text-decoration-color: #008080; font-weight: bold\">380</span><span style=\"font-weight: bold\">]</span> Retrieving game with <span style=\"color: #808000; text-decoration-color: #808000\">id</span>=<span style=\"color: #800080; text-decoration-color: #800080\">e62f6e78</span>                                  <a href=\"file:///usr/local/python/3.12.1/lib/python3.12/site-packages/fbrefdata/fbref.py\" target=\"_blank\"><span style=\"color: #7f7f7f; text-decoration-color: #7f7f7f\">fbref.py</span></a><span style=\"color: #7f7f7f; text-decoration-color: #7f7f7f\">:</span><a href=\"file:///usr/local/python/3.12.1/lib/python3.12/site-packages/fbrefdata/fbref.py#927\" target=\"_blank\"><span style=\"color: #7f7f7f; text-decoration-color: #7f7f7f\">927</span></a>\n",
       "</pre>\n"
      ],
      "text/plain": [
       "\u001b[2;36m                   \u001b[0m\u001b[2;36m \u001b[0m\u001b[34mINFO    \u001b[0m \u001b[1m[\u001b[0m\u001b[1;36m1\u001b[0m/\u001b[1;36m380\u001b[0m\u001b[1m]\u001b[0m Retrieving game with \u001b[33mid\u001b[0m=\u001b[35me62f6e78\u001b[0m                                  \u001b]8;id=367069;file:///usr/local/python/3.12.1/lib/python3.12/site-packages/fbrefdata/fbref.py\u001b\\\u001b[2mfbref.py\u001b[0m\u001b]8;;\u001b\\\u001b[2m:\u001b[0m\u001b]8;id=350716;file:///usr/local/python/3.12.1/lib/python3.12/site-packages/fbrefdata/fbref.py#927\u001b\\\u001b[2m927\u001b[0m\u001b]8;;\u001b\\\n"
      ]
     },
     "metadata": {},
     "output_type": "display_data"
    },
    {
     "name": "stderr",
     "output_type": "stream",
     "text": [
      "/usr/local/python/3.12.1/lib/python3.12/site-packages/fbrefdata/fbref.py:940: FutureWarning: This search incorrectly ignores the root element, and will be fixed in a future version.  If you rely on the current behaviour, change it to \".//table[@id='stats_47c64c55_summary']\"\n",
      "  html_table = tree.find(\"//table[@id='\" + id_format.format(home_team[\"id\"]) + \"']\")\n",
      "/usr/local/python/3.12.1/lib/python3.12/site-packages/fbrefdata/fbref.py:953: FutureWarning: This search incorrectly ignores the root element, and will be fixed in a future version.  If you rely on the current behaviour, change it to \".//table[@id='stats_18bb7c10_summary']\"\n",
      "  html_table = tree.find(\"//table[@id='\" + id_format.format(away_team[\"id\"]) + \"']\")\n"
     ]
    },
    {
     "data": {
      "text/html": [
       "<pre style=\"white-space:pre;overflow-x:auto;line-height:normal;font-family:Menlo,'DejaVu Sans Mono',consolas,'Courier New',monospace\"><span style=\"color: #7fbfbf; text-decoration-color: #7fbfbf\">[08/29/24 07:48:19] </span><span style=\"color: #000080; text-decoration-color: #000080\">INFO    </span> <span style=\"font-weight: bold\">[</span><span style=\"color: #008080; text-decoration-color: #008080; font-weight: bold\">2</span>/<span style=\"color: #008080; text-decoration-color: #008080; font-weight: bold\">380</span><span style=\"font-weight: bold\">]</span> Retrieving game with <span style=\"color: #808000; text-decoration-color: #808000\">id</span>=<span style=\"color: #008080; text-decoration-color: #008080; font-weight: bold\">877e3193</span>                                  <a href=\"file:///usr/local/python/3.12.1/lib/python3.12/site-packages/fbrefdata/fbref.py\" target=\"_blank\"><span style=\"color: #7f7f7f; text-decoration-color: #7f7f7f\">fbref.py</span></a><span style=\"color: #7f7f7f; text-decoration-color: #7f7f7f\">:</span><a href=\"file:///usr/local/python/3.12.1/lib/python3.12/site-packages/fbrefdata/fbref.py#927\" target=\"_blank\"><span style=\"color: #7f7f7f; text-decoration-color: #7f7f7f\">927</span></a>\n",
       "</pre>\n"
      ],
      "text/plain": [
       "\u001b[2;36m[08/29/24 07:48:19]\u001b[0m\u001b[2;36m \u001b[0m\u001b[34mINFO    \u001b[0m \u001b[1m[\u001b[0m\u001b[1;36m2\u001b[0m/\u001b[1;36m380\u001b[0m\u001b[1m]\u001b[0m Retrieving game with \u001b[33mid\u001b[0m=\u001b[1;36m877e3193\u001b[0m                                  \u001b]8;id=654569;file:///usr/local/python/3.12.1/lib/python3.12/site-packages/fbrefdata/fbref.py\u001b\\\u001b[2mfbref.py\u001b[0m\u001b]8;;\u001b\\\u001b[2m:\u001b[0m\u001b]8;id=74158;file:///usr/local/python/3.12.1/lib/python3.12/site-packages/fbrefdata/fbref.py#927\u001b\\\u001b[2m927\u001b[0m\u001b]8;;\u001b\\\n"
      ]
     },
     "metadata": {},
     "output_type": "display_data"
    },
    {
     "name": "stderr",
     "output_type": "stream",
     "text": [
      "/usr/local/python/3.12.1/lib/python3.12/site-packages/fbrefdata/fbref.py:940: FutureWarning: This search incorrectly ignores the root element, and will be fixed in a future version.  If you rely on the current behaviour, change it to \".//table[@id='stats_4ba7cbea_summary']\"\n",
      "  html_table = tree.find(\"//table[@id='\" + id_format.format(home_team[\"id\"]) + \"']\")\n",
      "/usr/local/python/3.12.1/lib/python3.12/site-packages/fbrefdata/fbref.py:953: FutureWarning: This search incorrectly ignores the root element, and will be fixed in a future version.  If you rely on the current behaviour, change it to \".//table[@id='stats_8602292d_summary']\"\n",
      "  html_table = tree.find(\"//table[@id='\" + id_format.format(away_team[\"id\"]) + \"']\")\n"
     ]
    },
    {
     "data": {
      "text/html": [
       "<pre style=\"white-space:pre;overflow-x:auto;line-height:normal;font-family:Menlo,'DejaVu Sans Mono',consolas,'Courier New',monospace\"><span style=\"color: #7fbfbf; text-decoration-color: #7fbfbf\">[08/29/24 07:48:26] </span><span style=\"color: #000080; text-decoration-color: #000080\">INFO    </span> <span style=\"font-weight: bold\">[</span><span style=\"color: #008080; text-decoration-color: #008080; font-weight: bold\">3</span>/<span style=\"color: #008080; text-decoration-color: #008080; font-weight: bold\">380</span><span style=\"font-weight: bold\">]</span> Retrieving game with <span style=\"color: #808000; text-decoration-color: #808000\">id</span>=<span style=\"color: #800080; text-decoration-color: #800080\">3a917cee</span>                                  <a href=\"file:///usr/local/python/3.12.1/lib/python3.12/site-packages/fbrefdata/fbref.py\" target=\"_blank\"><span style=\"color: #7f7f7f; text-decoration-color: #7f7f7f\">fbref.py</span></a><span style=\"color: #7f7f7f; text-decoration-color: #7f7f7f\">:</span><a href=\"file:///usr/local/python/3.12.1/lib/python3.12/site-packages/fbrefdata/fbref.py#927\" target=\"_blank\"><span style=\"color: #7f7f7f; text-decoration-color: #7f7f7f\">927</span></a>\n",
       "</pre>\n"
      ],
      "text/plain": [
       "\u001b[2;36m[08/29/24 07:48:26]\u001b[0m\u001b[2;36m \u001b[0m\u001b[34mINFO    \u001b[0m \u001b[1m[\u001b[0m\u001b[1;36m3\u001b[0m/\u001b[1;36m380\u001b[0m\u001b[1m]\u001b[0m Retrieving game with \u001b[33mid\u001b[0m=\u001b[35m3a917cee\u001b[0m                                  \u001b]8;id=620951;file:///usr/local/python/3.12.1/lib/python3.12/site-packages/fbrefdata/fbref.py\u001b\\\u001b[2mfbref.py\u001b[0m\u001b]8;;\u001b\\\u001b[2m:\u001b[0m\u001b]8;id=451454;file:///usr/local/python/3.12.1/lib/python3.12/site-packages/fbrefdata/fbref.py#927\u001b\\\u001b[2m927\u001b[0m\u001b]8;;\u001b\\\n"
      ]
     },
     "metadata": {},
     "output_type": "display_data"
    },
    {
     "name": "stderr",
     "output_type": "stream",
     "text": [
      "/usr/local/python/3.12.1/lib/python3.12/site-packages/fbrefdata/fbref.py:940: FutureWarning: This search incorrectly ignores the root element, and will be fixed in a future version.  If you rely on the current behaviour, change it to \".//table[@id='stats_d3fd31cc_summary']\"\n",
      "  html_table = tree.find(\"//table[@id='\" + id_format.format(home_team[\"id\"]) + \"']\")\n",
      "/usr/local/python/3.12.1/lib/python3.12/site-packages/fbrefdata/fbref.py:953: FutureWarning: This search incorrectly ignores the root element, and will be fixed in a future version.  If you rely on the current behaviour, change it to \".//table[@id='stats_cff3d9bb_summary']\"\n",
      "  html_table = tree.find(\"//table[@id='\" + id_format.format(away_team[\"id\"]) + \"']\")\n"
     ]
    },
    {
     "data": {
      "text/html": [
       "<pre style=\"white-space:pre;overflow-x:auto;line-height:normal;font-family:Menlo,'DejaVu Sans Mono',consolas,'Courier New',monospace\"><span style=\"color: #7fbfbf; text-decoration-color: #7fbfbf\">[08/29/24 07:48:32] </span><span style=\"color: #000080; text-decoration-color: #000080\">INFO    </span> <span style=\"font-weight: bold\">[</span><span style=\"color: #008080; text-decoration-color: #008080; font-weight: bold\">4</span>/<span style=\"color: #008080; text-decoration-color: #008080; font-weight: bold\">380</span><span style=\"font-weight: bold\">]</span> Retrieving game with <span style=\"color: #808000; text-decoration-color: #808000\">id</span>=<span style=\"color: #800080; text-decoration-color: #800080\">6713c1dc</span>                                  <a href=\"file:///usr/local/python/3.12.1/lib/python3.12/site-packages/fbrefdata/fbref.py\" target=\"_blank\"><span style=\"color: #7f7f7f; text-decoration-color: #7f7f7f\">fbref.py</span></a><span style=\"color: #7f7f7f; text-decoration-color: #7f7f7f\">:</span><a href=\"file:///usr/local/python/3.12.1/lib/python3.12/site-packages/fbrefdata/fbref.py#927\" target=\"_blank\"><span style=\"color: #7f7f7f; text-decoration-color: #7f7f7f\">927</span></a>\n",
       "</pre>\n"
      ],
      "text/plain": [
       "\u001b[2;36m[08/29/24 07:48:32]\u001b[0m\u001b[2;36m \u001b[0m\u001b[34mINFO    \u001b[0m \u001b[1m[\u001b[0m\u001b[1;36m4\u001b[0m/\u001b[1;36m380\u001b[0m\u001b[1m]\u001b[0m Retrieving game with \u001b[33mid\u001b[0m=\u001b[35m6713c1dc\u001b[0m                                  \u001b]8;id=837491;file:///usr/local/python/3.12.1/lib/python3.12/site-packages/fbrefdata/fbref.py\u001b\\\u001b[2mfbref.py\u001b[0m\u001b]8;;\u001b\\\u001b[2m:\u001b[0m\u001b]8;id=419336;file:///usr/local/python/3.12.1/lib/python3.12/site-packages/fbrefdata/fbref.py#927\u001b\\\u001b[2m927\u001b[0m\u001b]8;;\u001b\\\n"
      ]
     },
     "metadata": {},
     "output_type": "display_data"
    },
    {
     "name": "stderr",
     "output_type": "stream",
     "text": [
      "/usr/local/python/3.12.1/lib/python3.12/site-packages/fbrefdata/fbref.py:940: FutureWarning: This search incorrectly ignores the root element, and will be fixed in a future version.  If you rely on the current behaviour, change it to \".//table[@id='stats_fd962109_summary']\"\n",
      "  html_table = tree.find(\"//table[@id='\" + id_format.format(home_team[\"id\"]) + \"']\")\n",
      "/usr/local/python/3.12.1/lib/python3.12/site-packages/fbrefdata/fbref.py:953: FutureWarning: This search incorrectly ignores the root element, and will be fixed in a future version.  If you rely on the current behaviour, change it to \".//table[@id='stats_822bd0ba_summary']\"\n",
      "  html_table = tree.find(\"//table[@id='\" + id_format.format(away_team[\"id\"]) + \"']\")\n"
     ]
    },
    {
     "data": {
      "text/html": [
       "<pre style=\"white-space:pre;overflow-x:auto;line-height:normal;font-family:Menlo,'DejaVu Sans Mono',consolas,'Courier New',monospace\"><span style=\"color: #7fbfbf; text-decoration-color: #7fbfbf\">[08/29/24 07:48:38] </span><span style=\"color: #000080; text-decoration-color: #000080\">INFO    </span> <span style=\"font-weight: bold\">[</span><span style=\"color: #008080; text-decoration-color: #008080; font-weight: bold\">5</span>/<span style=\"color: #008080; text-decoration-color: #008080; font-weight: bold\">380</span><span style=\"font-weight: bold\">]</span> Retrieving game with <span style=\"color: #808000; text-decoration-color: #808000\">id</span>=<span style=\"color: #008080; text-decoration-color: #008080; font-weight: bold\">82702941</span>                                  <a href=\"file:///usr/local/python/3.12.1/lib/python3.12/site-packages/fbrefdata/fbref.py\" target=\"_blank\"><span style=\"color: #7f7f7f; text-decoration-color: #7f7f7f\">fbref.py</span></a><span style=\"color: #7f7f7f; text-decoration-color: #7f7f7f\">:</span><a href=\"file:///usr/local/python/3.12.1/lib/python3.12/site-packages/fbrefdata/fbref.py#927\" target=\"_blank\"><span style=\"color: #7f7f7f; text-decoration-color: #7f7f7f\">927</span></a>\n",
       "</pre>\n"
      ],
      "text/plain": [
       "\u001b[2;36m[08/29/24 07:48:38]\u001b[0m\u001b[2;36m \u001b[0m\u001b[34mINFO    \u001b[0m \u001b[1m[\u001b[0m\u001b[1;36m5\u001b[0m/\u001b[1;36m380\u001b[0m\u001b[1m]\u001b[0m Retrieving game with \u001b[33mid\u001b[0m=\u001b[1;36m82702941\u001b[0m                                  \u001b]8;id=843603;file:///usr/local/python/3.12.1/lib/python3.12/site-packages/fbrefdata/fbref.py\u001b\\\u001b[2mfbref.py\u001b[0m\u001b]8;;\u001b\\\u001b[2m:\u001b[0m\u001b]8;id=54820;file:///usr/local/python/3.12.1/lib/python3.12/site-packages/fbrefdata/fbref.py#927\u001b\\\u001b[2m927\u001b[0m\u001b]8;;\u001b\\\n"
      ]
     },
     "metadata": {},
     "output_type": "display_data"
    },
    {
     "name": "stderr",
     "output_type": "stream",
     "text": [
      "/usr/local/python/3.12.1/lib/python3.12/site-packages/fbrefdata/fbref.py:940: FutureWarning: This search incorrectly ignores the root element, and will be fixed in a future version.  If you rely on the current behaviour, change it to \".//table[@id='stats_5bfb9659_summary']\"\n",
      "  html_table = tree.find(\"//table[@id='\" + id_format.format(home_team[\"id\"]) + \"']\")\n",
      "/usr/local/python/3.12.1/lib/python3.12/site-packages/fbrefdata/fbref.py:953: FutureWarning: This search incorrectly ignores the root element, and will be fixed in a future version.  If you rely on the current behaviour, change it to \".//table[@id='stats_8cec06e1_summary']\"\n",
      "  html_table = tree.find(\"//table[@id='\" + id_format.format(away_team[\"id\"]) + \"']\")\n"
     ]
    },
    {
     "data": {
      "text/html": [
       "<pre style=\"white-space:pre;overflow-x:auto;line-height:normal;font-family:Menlo,'DejaVu Sans Mono',consolas,'Courier New',monospace\"><span style=\"color: #7fbfbf; text-decoration-color: #7fbfbf\">[08/29/24 07:48:45] </span><span style=\"color: #000080; text-decoration-color: #000080\">INFO    </span> <span style=\"font-weight: bold\">[</span><span style=\"color: #008080; text-decoration-color: #008080; font-weight: bold\">6</span>/<span style=\"color: #008080; text-decoration-color: #008080; font-weight: bold\">380</span><span style=\"font-weight: bold\">]</span> Retrieving game with <span style=\"color: #808000; text-decoration-color: #808000\">id</span>=<span style=\"color: #800080; text-decoration-color: #800080\">1ac96eb4</span>                                  <a href=\"file:///usr/local/python/3.12.1/lib/python3.12/site-packages/fbrefdata/fbref.py\" target=\"_blank\"><span style=\"color: #7f7f7f; text-decoration-color: #7f7f7f\">fbref.py</span></a><span style=\"color: #7f7f7f; text-decoration-color: #7f7f7f\">:</span><a href=\"file:///usr/local/python/3.12.1/lib/python3.12/site-packages/fbrefdata/fbref.py#927\" target=\"_blank\"><span style=\"color: #7f7f7f; text-decoration-color: #7f7f7f\">927</span></a>\n",
       "</pre>\n"
      ],
      "text/plain": [
       "\u001b[2;36m[08/29/24 07:48:45]\u001b[0m\u001b[2;36m \u001b[0m\u001b[34mINFO    \u001b[0m \u001b[1m[\u001b[0m\u001b[1;36m6\u001b[0m/\u001b[1;36m380\u001b[0m\u001b[1m]\u001b[0m Retrieving game with \u001b[33mid\u001b[0m=\u001b[35m1ac96eb4\u001b[0m                                  \u001b]8;id=580034;file:///usr/local/python/3.12.1/lib/python3.12/site-packages/fbrefdata/fbref.py\u001b\\\u001b[2mfbref.py\u001b[0m\u001b]8;;\u001b\\\u001b[2m:\u001b[0m\u001b]8;id=462674;file:///usr/local/python/3.12.1/lib/python3.12/site-packages/fbrefdata/fbref.py#927\u001b\\\u001b[2m927\u001b[0m\u001b]8;;\u001b\\\n"
      ]
     },
     "metadata": {},
     "output_type": "display_data"
    },
    {
     "name": "stderr",
     "output_type": "stream",
     "text": [
      "/usr/local/python/3.12.1/lib/python3.12/site-packages/fbrefdata/fbref.py:940: FutureWarning: This search incorrectly ignores the root element, and will be fixed in a future version.  If you rely on the current behaviour, change it to \".//table[@id='stats_b2b47a98_summary']\"\n",
      "  html_table = tree.find(\"//table[@id='\" + id_format.format(home_team[\"id\"]) + \"']\")\n",
      "/usr/local/python/3.12.1/lib/python3.12/site-packages/fbrefdata/fbref.py:953: FutureWarning: This search incorrectly ignores the root element, and will be fixed in a future version.  If you rely on the current behaviour, change it to \".//table[@id='stats_e4a775cb_summary']\"\n",
      "  html_table = tree.find(\"//table[@id='\" + id_format.format(away_team[\"id\"]) + \"']\")\n"
     ]
    },
    {
     "data": {
      "text/html": [
       "<pre style=\"white-space:pre;overflow-x:auto;line-height:normal;font-family:Menlo,'DejaVu Sans Mono',consolas,'Courier New',monospace\"><span style=\"color: #7fbfbf; text-decoration-color: #7fbfbf\">[08/29/24 07:48:51] </span><span style=\"color: #000080; text-decoration-color: #000080\">INFO    </span> <span style=\"font-weight: bold\">[</span><span style=\"color: #008080; text-decoration-color: #008080; font-weight: bold\">7</span>/<span style=\"color: #008080; text-decoration-color: #008080; font-weight: bold\">380</span><span style=\"font-weight: bold\">]</span> Retrieving game with <span style=\"color: #808000; text-decoration-color: #808000\">id</span>=<span style=\"color: #800080; text-decoration-color: #800080\">09d8a999</span>                                  <a href=\"file:///usr/local/python/3.12.1/lib/python3.12/site-packages/fbrefdata/fbref.py\" target=\"_blank\"><span style=\"color: #7f7f7f; text-decoration-color: #7f7f7f\">fbref.py</span></a><span style=\"color: #7f7f7f; text-decoration-color: #7f7f7f\">:</span><a href=\"file:///usr/local/python/3.12.1/lib/python3.12/site-packages/fbrefdata/fbref.py#927\" target=\"_blank\"><span style=\"color: #7f7f7f; text-decoration-color: #7f7f7f\">927</span></a>\n",
       "</pre>\n"
      ],
      "text/plain": [
       "\u001b[2;36m[08/29/24 07:48:51]\u001b[0m\u001b[2;36m \u001b[0m\u001b[34mINFO    \u001b[0m \u001b[1m[\u001b[0m\u001b[1;36m7\u001b[0m/\u001b[1;36m380\u001b[0m\u001b[1m]\u001b[0m Retrieving game with \u001b[33mid\u001b[0m=\u001b[35m09d8a999\u001b[0m                                  \u001b]8;id=990751;file:///usr/local/python/3.12.1/lib/python3.12/site-packages/fbrefdata/fbref.py\u001b\\\u001b[2mfbref.py\u001b[0m\u001b]8;;\u001b\\\u001b[2m:\u001b[0m\u001b]8;id=616791;file:///usr/local/python/3.12.1/lib/python3.12/site-packages/fbrefdata/fbref.py#927\u001b\\\u001b[2m927\u001b[0m\u001b]8;;\u001b\\\n"
      ]
     },
     "metadata": {},
     "output_type": "display_data"
    },
    {
     "name": "stderr",
     "output_type": "stream",
     "text": [
      "/usr/local/python/3.12.1/lib/python3.12/site-packages/fbrefdata/fbref.py:940: FutureWarning: This search incorrectly ignores the root element, and will be fixed in a future version.  If you rely on the current behaviour, change it to \".//table[@id='stats_361ca564_summary']\"\n",
      "  html_table = tree.find(\"//table[@id='\" + id_format.format(home_team[\"id\"]) + \"']\")\n",
      "/usr/local/python/3.12.1/lib/python3.12/site-packages/fbrefdata/fbref.py:953: FutureWarning: This search incorrectly ignores the root element, and will be fixed in a future version.  If you rely on the current behaviour, change it to \".//table[@id='stats_33c895d4_summary']\"\n",
      "  html_table = tree.find(\"//table[@id='\" + id_format.format(away_team[\"id\"]) + \"']\")\n"
     ]
    },
    {
     "data": {
      "text/html": [
       "<pre style=\"white-space:pre;overflow-x:auto;line-height:normal;font-family:Menlo,'DejaVu Sans Mono',consolas,'Courier New',monospace\"><span style=\"color: #7fbfbf; text-decoration-color: #7fbfbf\">[08/29/24 07:48:58] </span><span style=\"color: #000080; text-decoration-color: #000080\">INFO    </span> <span style=\"font-weight: bold\">[</span><span style=\"color: #008080; text-decoration-color: #008080; font-weight: bold\">8</span>/<span style=\"color: #008080; text-decoration-color: #008080; font-weight: bold\">380</span><span style=\"font-weight: bold\">]</span> Retrieving game with <span style=\"color: #808000; text-decoration-color: #808000\">id</span>=<span style=\"color: #800080; text-decoration-color: #800080\">3249ba27</span>                                  <a href=\"file:///usr/local/python/3.12.1/lib/python3.12/site-packages/fbrefdata/fbref.py\" target=\"_blank\"><span style=\"color: #7f7f7f; text-decoration-color: #7f7f7f\">fbref.py</span></a><span style=\"color: #7f7f7f; text-decoration-color: #7f7f7f\">:</span><a href=\"file:///usr/local/python/3.12.1/lib/python3.12/site-packages/fbrefdata/fbref.py#927\" target=\"_blank\"><span style=\"color: #7f7f7f; text-decoration-color: #7f7f7f\">927</span></a>\n",
       "</pre>\n"
      ],
      "text/plain": [
       "\u001b[2;36m[08/29/24 07:48:58]\u001b[0m\u001b[2;36m \u001b[0m\u001b[34mINFO    \u001b[0m \u001b[1m[\u001b[0m\u001b[1;36m8\u001b[0m/\u001b[1;36m380\u001b[0m\u001b[1m]\u001b[0m Retrieving game with \u001b[33mid\u001b[0m=\u001b[35m3249ba27\u001b[0m                                  \u001b]8;id=658576;file:///usr/local/python/3.12.1/lib/python3.12/site-packages/fbrefdata/fbref.py\u001b\\\u001b[2mfbref.py\u001b[0m\u001b]8;;\u001b\\\u001b[2m:\u001b[0m\u001b]8;id=937926;file:///usr/local/python/3.12.1/lib/python3.12/site-packages/fbrefdata/fbref.py#927\u001b\\\u001b[2m927\u001b[0m\u001b]8;;\u001b\\\n"
      ]
     },
     "metadata": {},
     "output_type": "display_data"
    },
    {
     "name": "stderr",
     "output_type": "stream",
     "text": [
      "/usr/local/python/3.12.1/lib/python3.12/site-packages/fbrefdata/fbref.py:940: FutureWarning: This search incorrectly ignores the root element, and will be fixed in a future version.  If you rely on the current behaviour, change it to \".//table[@id='stats_a2d435b3_summary']\"\n",
      "  html_table = tree.find(\"//table[@id='\" + id_format.format(home_team[\"id\"]) + \"']\")\n",
      "/usr/local/python/3.12.1/lib/python3.12/site-packages/fbrefdata/fbref.py:953: FutureWarning: This search incorrectly ignores the root element, and will be fixed in a future version.  If you rely on the current behaviour, change it to \".//table[@id='stats_cd051869_summary']\"\n",
      "  html_table = tree.find(\"//table[@id='\" + id_format.format(away_team[\"id\"]) + \"']\")\n"
     ]
    },
    {
     "data": {
      "text/html": [
       "<pre style=\"white-space:pre;overflow-x:auto;line-height:normal;font-family:Menlo,'DejaVu Sans Mono',consolas,'Courier New',monospace\"><span style=\"color: #7fbfbf; text-decoration-color: #7fbfbf\">[08/29/24 07:49:04] </span><span style=\"color: #000080; text-decoration-color: #000080\">INFO    </span> <span style=\"font-weight: bold\">[</span><span style=\"color: #008080; text-decoration-color: #008080; font-weight: bold\">9</span>/<span style=\"color: #008080; text-decoration-color: #008080; font-weight: bold\">380</span><span style=\"font-weight: bold\">]</span> Retrieving game with <span style=\"color: #808000; text-decoration-color: #808000\">id</span>=<span style=\"color: #800080; text-decoration-color: #800080\">8251694e</span>                                  <a href=\"file:///usr/local/python/3.12.1/lib/python3.12/site-packages/fbrefdata/fbref.py\" target=\"_blank\"><span style=\"color: #7f7f7f; text-decoration-color: #7f7f7f\">fbref.py</span></a><span style=\"color: #7f7f7f; text-decoration-color: #7f7f7f\">:</span><a href=\"file:///usr/local/python/3.12.1/lib/python3.12/site-packages/fbrefdata/fbref.py#927\" target=\"_blank\"><span style=\"color: #7f7f7f; text-decoration-color: #7f7f7f\">927</span></a>\n",
       "</pre>\n"
      ],
      "text/plain": [
       "\u001b[2;36m[08/29/24 07:49:04]\u001b[0m\u001b[2;36m \u001b[0m\u001b[34mINFO    \u001b[0m \u001b[1m[\u001b[0m\u001b[1;36m9\u001b[0m/\u001b[1;36m380\u001b[0m\u001b[1m]\u001b[0m Retrieving game with \u001b[33mid\u001b[0m=\u001b[35m8251694e\u001b[0m                                  \u001b]8;id=327189;file:///usr/local/python/3.12.1/lib/python3.12/site-packages/fbrefdata/fbref.py\u001b\\\u001b[2mfbref.py\u001b[0m\u001b]8;;\u001b\\\u001b[2m:\u001b[0m\u001b]8;id=457673;file:///usr/local/python/3.12.1/lib/python3.12/site-packages/fbrefdata/fbref.py#927\u001b\\\u001b[2m927\u001b[0m\u001b]8;;\u001b\\\n"
      ]
     },
     "metadata": {},
     "output_type": "display_data"
    },
    {
     "name": "stderr",
     "output_type": "stream",
     "text": [
      "/usr/local/python/3.12.1/lib/python3.12/site-packages/fbrefdata/fbref.py:940: FutureWarning: This search incorrectly ignores the root element, and will be fixed in a future version.  If you rely on the current behaviour, change it to \".//table[@id='stats_19538871_summary']\"\n",
      "  html_table = tree.find(\"//table[@id='\" + id_format.format(home_team[\"id\"]) + \"']\")\n",
      "/usr/local/python/3.12.1/lib/python3.12/site-packages/fbrefdata/fbref.py:953: FutureWarning: This search incorrectly ignores the root element, and will be fixed in a future version.  If you rely on the current behaviour, change it to \".//table[@id='stats_d07537b9_summary']\"\n",
      "  html_table = tree.find(\"//table[@id='\" + id_format.format(away_team[\"id\"]) + \"']\")\n"
     ]
    },
    {
     "data": {
      "text/html": [
       "<pre style=\"white-space:pre;overflow-x:auto;line-height:normal;font-family:Menlo,'DejaVu Sans Mono',consolas,'Courier New',monospace\"><span style=\"color: #7fbfbf; text-decoration-color: #7fbfbf\">[08/29/24 07:49:10] </span><span style=\"color: #000080; text-decoration-color: #000080\">INFO    </span> <span style=\"font-weight: bold\">[</span><span style=\"color: #008080; text-decoration-color: #008080; font-weight: bold\">10</span>/<span style=\"color: #008080; text-decoration-color: #008080; font-weight: bold\">380</span><span style=\"font-weight: bold\">]</span> Retrieving game with <span style=\"color: #808000; text-decoration-color: #808000\">id</span>=<span style=\"color: #800080; text-decoration-color: #800080\">ece62baf</span>                                 <a href=\"file:///usr/local/python/3.12.1/lib/python3.12/site-packages/fbrefdata/fbref.py\" target=\"_blank\"><span style=\"color: #7f7f7f; text-decoration-color: #7f7f7f\">fbref.py</span></a><span style=\"color: #7f7f7f; text-decoration-color: #7f7f7f\">:</span><a href=\"file:///usr/local/python/3.12.1/lib/python3.12/site-packages/fbrefdata/fbref.py#927\" target=\"_blank\"><span style=\"color: #7f7f7f; text-decoration-color: #7f7f7f\">927</span></a>\n",
       "</pre>\n"
      ],
      "text/plain": [
       "\u001b[2;36m[08/29/24 07:49:10]\u001b[0m\u001b[2;36m \u001b[0m\u001b[34mINFO    \u001b[0m \u001b[1m[\u001b[0m\u001b[1;36m10\u001b[0m/\u001b[1;36m380\u001b[0m\u001b[1m]\u001b[0m Retrieving game with \u001b[33mid\u001b[0m=\u001b[35mece62baf\u001b[0m                                 \u001b]8;id=208152;file:///usr/local/python/3.12.1/lib/python3.12/site-packages/fbrefdata/fbref.py\u001b\\\u001b[2mfbref.py\u001b[0m\u001b]8;;\u001b\\\u001b[2m:\u001b[0m\u001b]8;id=364464;file:///usr/local/python/3.12.1/lib/python3.12/site-packages/fbrefdata/fbref.py#927\u001b\\\u001b[2m927\u001b[0m\u001b]8;;\u001b\\\n"
      ]
     },
     "metadata": {},
     "output_type": "display_data"
    },
    {
     "name": "stderr",
     "output_type": "stream",
     "text": [
      "/usr/local/python/3.12.1/lib/python3.12/site-packages/fbrefdata/fbref.py:940: FutureWarning: This search incorrectly ignores the root element, and will be fixed in a future version.  If you rely on the current behaviour, change it to \".//table[@id='stats_7c21e445_summary']\"\n",
      "  html_table = tree.find(\"//table[@id='\" + id_format.format(home_team[\"id\"]) + \"']\")\n",
      "/usr/local/python/3.12.1/lib/python3.12/site-packages/fbrefdata/fbref.py:953: FutureWarning: This search incorrectly ignores the root element, and will be fixed in a future version.  If you rely on the current behaviour, change it to \".//table[@id='stats_b8fd03ef_summary']\"\n",
      "  html_table = tree.find(\"//table[@id='\" + id_format.format(away_team[\"id\"]) + \"']\")\n"
     ]
    },
    {
     "data": {
      "text/html": [
       "<pre style=\"white-space:pre;overflow-x:auto;line-height:normal;font-family:Menlo,'DejaVu Sans Mono',consolas,'Courier New',monospace\"><span style=\"color: #7fbfbf; text-decoration-color: #7fbfbf\">[08/29/24 07:49:17] </span><span style=\"color: #000080; text-decoration-color: #000080\">INFO    </span> <span style=\"font-weight: bold\">[</span><span style=\"color: #008080; text-decoration-color: #008080; font-weight: bold\">11</span>/<span style=\"color: #008080; text-decoration-color: #008080; font-weight: bold\">380</span><span style=\"font-weight: bold\">]</span> Retrieving game with <span style=\"color: #808000; text-decoration-color: #808000\">id</span>=<span style=\"color: #800080; text-decoration-color: #800080\">7483b97f</span>                                 <a href=\"file:///usr/local/python/3.12.1/lib/python3.12/site-packages/fbrefdata/fbref.py\" target=\"_blank\"><span style=\"color: #7f7f7f; text-decoration-color: #7f7f7f\">fbref.py</span></a><span style=\"color: #7f7f7f; text-decoration-color: #7f7f7f\">:</span><a href=\"file:///usr/local/python/3.12.1/lib/python3.12/site-packages/fbrefdata/fbref.py#927\" target=\"_blank\"><span style=\"color: #7f7f7f; text-decoration-color: #7f7f7f\">927</span></a>\n",
       "</pre>\n"
      ],
      "text/plain": [
       "\u001b[2;36m[08/29/24 07:49:17]\u001b[0m\u001b[2;36m \u001b[0m\u001b[34mINFO    \u001b[0m \u001b[1m[\u001b[0m\u001b[1;36m11\u001b[0m/\u001b[1;36m380\u001b[0m\u001b[1m]\u001b[0m Retrieving game with \u001b[33mid\u001b[0m=\u001b[35m7483b97f\u001b[0m                                 \u001b]8;id=655635;file:///usr/local/python/3.12.1/lib/python3.12/site-packages/fbrefdata/fbref.py\u001b\\\u001b[2mfbref.py\u001b[0m\u001b]8;;\u001b\\\u001b[2m:\u001b[0m\u001b]8;id=676081;file:///usr/local/python/3.12.1/lib/python3.12/site-packages/fbrefdata/fbref.py#927\u001b\\\u001b[2m927\u001b[0m\u001b]8;;\u001b\\\n"
      ]
     },
     "metadata": {},
     "output_type": "display_data"
    },
    {
     "name": "stderr",
     "output_type": "stream",
     "text": [
      "/usr/local/python/3.12.1/lib/python3.12/site-packages/fbrefdata/fbref.py:940: FutureWarning: This search incorrectly ignores the root element, and will be fixed in a future version.  If you rely on the current behaviour, change it to \".//table[@id='stats_18bb7c10_summary']\"\n",
      "  html_table = tree.find(\"//table[@id='\" + id_format.format(home_team[\"id\"]) + \"']\")\n",
      "/usr/local/python/3.12.1/lib/python3.12/site-packages/fbrefdata/fbref.py:953: FutureWarning: This search incorrectly ignores the root element, and will be fixed in a future version.  If you rely on the current behaviour, change it to \".//table[@id='stats_a2d435b3_summary']\"\n",
      "  html_table = tree.find(\"//table[@id='\" + id_format.format(away_team[\"id\"]) + \"']\")\n"
     ]
    },
    {
     "data": {
      "text/html": [
       "<pre style=\"white-space:pre;overflow-x:auto;line-height:normal;font-family:Menlo,'DejaVu Sans Mono',consolas,'Courier New',monospace\"><span style=\"color: #7fbfbf; text-decoration-color: #7fbfbf\">[08/29/24 07:49:23] </span><span style=\"color: #000080; text-decoration-color: #000080\">INFO    </span> <span style=\"font-weight: bold\">[</span><span style=\"color: #008080; text-decoration-color: #008080; font-weight: bold\">12</span>/<span style=\"color: #008080; text-decoration-color: #008080; font-weight: bold\">380</span><span style=\"font-weight: bold\">]</span> Retrieving game with <span style=\"color: #808000; text-decoration-color: #808000\">id</span>=<span style=\"color: #800080; text-decoration-color: #800080\">8cd71c65</span>                                 <a href=\"file:///usr/local/python/3.12.1/lib/python3.12/site-packages/fbrefdata/fbref.py\" target=\"_blank\"><span style=\"color: #7f7f7f; text-decoration-color: #7f7f7f\">fbref.py</span></a><span style=\"color: #7f7f7f; text-decoration-color: #7f7f7f\">:</span><a href=\"file:///usr/local/python/3.12.1/lib/python3.12/site-packages/fbrefdata/fbref.py#927\" target=\"_blank\"><span style=\"color: #7f7f7f; text-decoration-color: #7f7f7f\">927</span></a>\n",
       "</pre>\n"
      ],
      "text/plain": [
       "\u001b[2;36m[08/29/24 07:49:23]\u001b[0m\u001b[2;36m \u001b[0m\u001b[34mINFO    \u001b[0m \u001b[1m[\u001b[0m\u001b[1;36m12\u001b[0m/\u001b[1;36m380\u001b[0m\u001b[1m]\u001b[0m Retrieving game with \u001b[33mid\u001b[0m=\u001b[35m8cd71c65\u001b[0m                                 \u001b]8;id=581899;file:///usr/local/python/3.12.1/lib/python3.12/site-packages/fbrefdata/fbref.py\u001b\\\u001b[2mfbref.py\u001b[0m\u001b]8;;\u001b\\\u001b[2m:\u001b[0m\u001b]8;id=302615;file:///usr/local/python/3.12.1/lib/python3.12/site-packages/fbrefdata/fbref.py#927\u001b\\\u001b[2m927\u001b[0m\u001b]8;;\u001b\\\n"
      ]
     },
     "metadata": {},
     "output_type": "display_data"
    },
    {
     "name": "stderr",
     "output_type": "stream",
     "text": [
      "/usr/local/python/3.12.1/lib/python3.12/site-packages/fbrefdata/fbref.py:940: FutureWarning: This search incorrectly ignores the root element, and will be fixed in a future version.  If you rely on the current behaviour, change it to \".//table[@id='stats_8602292d_summary']\"\n",
      "  html_table = tree.find(\"//table[@id='\" + id_format.format(home_team[\"id\"]) + \"']\")\n",
      "/usr/local/python/3.12.1/lib/python3.12/site-packages/fbrefdata/fbref.py:953: FutureWarning: This search incorrectly ignores the root element, and will be fixed in a future version.  If you rely on the current behaviour, change it to \".//table[@id='stats_d3fd31cc_summary']\"\n",
      "  html_table = tree.find(\"//table[@id='\" + id_format.format(away_team[\"id\"]) + \"']\")\n"
     ]
    },
    {
     "data": {
      "text/html": [
       "<pre style=\"white-space:pre;overflow-x:auto;line-height:normal;font-family:Menlo,'DejaVu Sans Mono',consolas,'Courier New',monospace\"><span style=\"color: #7fbfbf; text-decoration-color: #7fbfbf\">[08/29/24 07:49:30] </span><span style=\"color: #000080; text-decoration-color: #000080\">INFO    </span> <span style=\"font-weight: bold\">[</span><span style=\"color: #008080; text-decoration-color: #008080; font-weight: bold\">13</span>/<span style=\"color: #008080; text-decoration-color: #008080; font-weight: bold\">380</span><span style=\"font-weight: bold\">]</span> Retrieving game with <span style=\"color: #808000; text-decoration-color: #808000\">id</span>=<span style=\"color: #800080; text-decoration-color: #800080\">04712d4e</span>                                 <a href=\"file:///usr/local/python/3.12.1/lib/python3.12/site-packages/fbrefdata/fbref.py\" target=\"_blank\"><span style=\"color: #7f7f7f; text-decoration-color: #7f7f7f\">fbref.py</span></a><span style=\"color: #7f7f7f; text-decoration-color: #7f7f7f\">:</span><a href=\"file:///usr/local/python/3.12.1/lib/python3.12/site-packages/fbrefdata/fbref.py#927\" target=\"_blank\"><span style=\"color: #7f7f7f; text-decoration-color: #7f7f7f\">927</span></a>\n",
       "</pre>\n"
      ],
      "text/plain": [
       "\u001b[2;36m[08/29/24 07:49:30]\u001b[0m\u001b[2;36m \u001b[0m\u001b[34mINFO    \u001b[0m \u001b[1m[\u001b[0m\u001b[1;36m13\u001b[0m/\u001b[1;36m380\u001b[0m\u001b[1m]\u001b[0m Retrieving game with \u001b[33mid\u001b[0m=\u001b[35m04712d4e\u001b[0m                                 \u001b]8;id=835528;file:///usr/local/python/3.12.1/lib/python3.12/site-packages/fbrefdata/fbref.py\u001b\\\u001b[2mfbref.py\u001b[0m\u001b]8;;\u001b\\\u001b[2m:\u001b[0m\u001b]8;id=657300;file:///usr/local/python/3.12.1/lib/python3.12/site-packages/fbrefdata/fbref.py#927\u001b\\\u001b[2m927\u001b[0m\u001b]8;;\u001b\\\n"
      ]
     },
     "metadata": {},
     "output_type": "display_data"
    },
    {
     "name": "stderr",
     "output_type": "stream",
     "text": [
      "/usr/local/python/3.12.1/lib/python3.12/site-packages/fbrefdata/fbref.py:940: FutureWarning: This search incorrectly ignores the root element, and will be fixed in a future version.  If you rely on the current behaviour, change it to \".//table[@id='stats_cd051869_summary']\"\n",
      "  html_table = tree.find(\"//table[@id='\" + id_format.format(home_team[\"id\"]) + \"']\")\n",
      "/usr/local/python/3.12.1/lib/python3.12/site-packages/fbrefdata/fbref.py:953: FutureWarning: This search incorrectly ignores the root element, and will be fixed in a future version.  If you rely on the current behaviour, change it to \".//table[@id='stats_19538871_summary']\"\n",
      "  html_table = tree.find(\"//table[@id='\" + id_format.format(away_team[\"id\"]) + \"']\")\n"
     ]
    },
    {
     "data": {
      "text/html": [
       "<pre style=\"white-space:pre;overflow-x:auto;line-height:normal;font-family:Menlo,'DejaVu Sans Mono',consolas,'Courier New',monospace\"><span style=\"color: #7fbfbf; text-decoration-color: #7fbfbf\">[08/29/24 07:49:36] </span><span style=\"color: #000080; text-decoration-color: #000080\">INFO    </span> <span style=\"font-weight: bold\">[</span><span style=\"color: #008080; text-decoration-color: #008080; font-weight: bold\">14</span>/<span style=\"color: #008080; text-decoration-color: #008080; font-weight: bold\">380</span><span style=\"font-weight: bold\">]</span> Retrieving game with <span style=\"color: #808000; text-decoration-color: #808000\">id</span>=<span style=\"color: #800080; text-decoration-color: #800080\">c916a5f6</span>                                 <a href=\"file:///usr/local/python/3.12.1/lib/python3.12/site-packages/fbrefdata/fbref.py\" target=\"_blank\"><span style=\"color: #7f7f7f; text-decoration-color: #7f7f7f\">fbref.py</span></a><span style=\"color: #7f7f7f; text-decoration-color: #7f7f7f\">:</span><a href=\"file:///usr/local/python/3.12.1/lib/python3.12/site-packages/fbrefdata/fbref.py#927\" target=\"_blank\"><span style=\"color: #7f7f7f; text-decoration-color: #7f7f7f\">927</span></a>\n",
       "</pre>\n"
      ],
      "text/plain": [
       "\u001b[2;36m[08/29/24 07:49:36]\u001b[0m\u001b[2;36m \u001b[0m\u001b[34mINFO    \u001b[0m \u001b[1m[\u001b[0m\u001b[1;36m14\u001b[0m/\u001b[1;36m380\u001b[0m\u001b[1m]\u001b[0m Retrieving game with \u001b[33mid\u001b[0m=\u001b[35mc916a5f6\u001b[0m                                 \u001b]8;id=927734;file:///usr/local/python/3.12.1/lib/python3.12/site-packages/fbrefdata/fbref.py\u001b\\\u001b[2mfbref.py\u001b[0m\u001b]8;;\u001b\\\u001b[2m:\u001b[0m\u001b]8;id=106093;file:///usr/local/python/3.12.1/lib/python3.12/site-packages/fbrefdata/fbref.py#927\u001b\\\u001b[2m927\u001b[0m\u001b]8;;\u001b\\\n"
      ]
     },
     "metadata": {},
     "output_type": "display_data"
    },
    {
     "name": "stderr",
     "output_type": "stream",
     "text": [
      "/usr/local/python/3.12.1/lib/python3.12/site-packages/fbrefdata/fbref.py:940: FutureWarning: This search incorrectly ignores the root element, and will be fixed in a future version.  If you rely on the current behaviour, change it to \".//table[@id='stats_d07537b9_summary']\"\n",
      "  html_table = tree.find(\"//table[@id='\" + id_format.format(home_team[\"id\"]) + \"']\")\n",
      "/usr/local/python/3.12.1/lib/python3.12/site-packages/fbrefdata/fbref.py:953: FutureWarning: This search incorrectly ignores the root element, and will be fixed in a future version.  If you rely on the current behaviour, change it to \".//table[@id='stats_b2b47a98_summary']\"\n",
      "  html_table = tree.find(\"//table[@id='\" + id_format.format(away_team[\"id\"]) + \"']\")\n"
     ]
    },
    {
     "data": {
      "text/html": [
       "<pre style=\"white-space:pre;overflow-x:auto;line-height:normal;font-family:Menlo,'DejaVu Sans Mono',consolas,'Courier New',monospace\"><span style=\"color: #7fbfbf; text-decoration-color: #7fbfbf\">[08/29/24 07:49:42] </span><span style=\"color: #000080; text-decoration-color: #000080\">INFO    </span> <span style=\"font-weight: bold\">[</span><span style=\"color: #008080; text-decoration-color: #008080; font-weight: bold\">15</span>/<span style=\"color: #008080; text-decoration-color: #008080; font-weight: bold\">380</span><span style=\"font-weight: bold\">]</span> Retrieving game with <span style=\"color: #808000; text-decoration-color: #808000\">id</span>=<span style=\"color: #800080; text-decoration-color: #800080\">311d705c</span>                                 <a href=\"file:///usr/local/python/3.12.1/lib/python3.12/site-packages/fbrefdata/fbref.py\" target=\"_blank\"><span style=\"color: #7f7f7f; text-decoration-color: #7f7f7f\">fbref.py</span></a><span style=\"color: #7f7f7f; text-decoration-color: #7f7f7f\">:</span><a href=\"file:///usr/local/python/3.12.1/lib/python3.12/site-packages/fbrefdata/fbref.py#927\" target=\"_blank\"><span style=\"color: #7f7f7f; text-decoration-color: #7f7f7f\">927</span></a>\n",
       "</pre>\n"
      ],
      "text/plain": [
       "\u001b[2;36m[08/29/24 07:49:42]\u001b[0m\u001b[2;36m \u001b[0m\u001b[34mINFO    \u001b[0m \u001b[1m[\u001b[0m\u001b[1;36m15\u001b[0m/\u001b[1;36m380\u001b[0m\u001b[1m]\u001b[0m Retrieving game with \u001b[33mid\u001b[0m=\u001b[35m311d705c\u001b[0m                                 \u001b]8;id=738476;file:///usr/local/python/3.12.1/lib/python3.12/site-packages/fbrefdata/fbref.py\u001b\\\u001b[2mfbref.py\u001b[0m\u001b]8;;\u001b\\\u001b[2m:\u001b[0m\u001b]8;id=392578;file:///usr/local/python/3.12.1/lib/python3.12/site-packages/fbrefdata/fbref.py#927\u001b\\\u001b[2m927\u001b[0m\u001b]8;;\u001b\\\n"
      ]
     },
     "metadata": {},
     "output_type": "display_data"
    },
    {
     "name": "stderr",
     "output_type": "stream",
     "text": [
      "/usr/local/python/3.12.1/lib/python3.12/site-packages/fbrefdata/fbref.py:940: FutureWarning: This search incorrectly ignores the root element, and will be fixed in a future version.  If you rely on the current behaviour, change it to \".//table[@id='stats_b8fd03ef_summary']\"\n",
      "  html_table = tree.find(\"//table[@id='\" + id_format.format(home_team[\"id\"]) + \"']\")\n",
      "/usr/local/python/3.12.1/lib/python3.12/site-packages/fbrefdata/fbref.py:953: FutureWarning: This search incorrectly ignores the root element, and will be fixed in a future version.  If you rely on the current behaviour, change it to \".//table[@id='stats_4ba7cbea_summary']\"\n",
      "  html_table = tree.find(\"//table[@id='\" + id_format.format(away_team[\"id\"]) + \"']\")\n"
     ]
    },
    {
     "data": {
      "text/html": [
       "<pre style=\"white-space:pre;overflow-x:auto;line-height:normal;font-family:Menlo,'DejaVu Sans Mono',consolas,'Courier New',monospace\"><span style=\"color: #7fbfbf; text-decoration-color: #7fbfbf\">[08/29/24 07:49:49] </span><span style=\"color: #000080; text-decoration-color: #000080\">INFO    </span> <span style=\"font-weight: bold\">[</span><span style=\"color: #008080; text-decoration-color: #008080; font-weight: bold\">16</span>/<span style=\"color: #008080; text-decoration-color: #008080; font-weight: bold\">380</span><span style=\"font-weight: bold\">]</span> Retrieving game with <span style=\"color: #808000; text-decoration-color: #808000\">id</span>=<span style=\"color: #800080; text-decoration-color: #800080\">54b33a13</span>                                 <a href=\"file:///usr/local/python/3.12.1/lib/python3.12/site-packages/fbrefdata/fbref.py\" target=\"_blank\"><span style=\"color: #7f7f7f; text-decoration-color: #7f7f7f\">fbref.py</span></a><span style=\"color: #7f7f7f; text-decoration-color: #7f7f7f\">:</span><a href=\"file:///usr/local/python/3.12.1/lib/python3.12/site-packages/fbrefdata/fbref.py#927\" target=\"_blank\"><span style=\"color: #7f7f7f; text-decoration-color: #7f7f7f\">927</span></a>\n",
       "</pre>\n"
      ],
      "text/plain": [
       "\u001b[2;36m[08/29/24 07:49:49]\u001b[0m\u001b[2;36m \u001b[0m\u001b[34mINFO    \u001b[0m \u001b[1m[\u001b[0m\u001b[1;36m16\u001b[0m/\u001b[1;36m380\u001b[0m\u001b[1m]\u001b[0m Retrieving game with \u001b[33mid\u001b[0m=\u001b[35m54b33a13\u001b[0m                                 \u001b]8;id=323791;file:///usr/local/python/3.12.1/lib/python3.12/site-packages/fbrefdata/fbref.py\u001b\\\u001b[2mfbref.py\u001b[0m\u001b]8;;\u001b\\\u001b[2m:\u001b[0m\u001b]8;id=440493;file:///usr/local/python/3.12.1/lib/python3.12/site-packages/fbrefdata/fbref.py#927\u001b\\\u001b[2m927\u001b[0m\u001b]8;;\u001b\\\n"
      ]
     },
     "metadata": {},
     "output_type": "display_data"
    },
    {
     "name": "stderr",
     "output_type": "stream",
     "text": [
      "/usr/local/python/3.12.1/lib/python3.12/site-packages/fbrefdata/fbref.py:940: FutureWarning: This search incorrectly ignores the root element, and will be fixed in a future version.  If you rely on the current behaviour, change it to \".//table[@id='stats_33c895d4_summary']\"\n",
      "  html_table = tree.find(\"//table[@id='\" + id_format.format(home_team[\"id\"]) + \"']\")\n",
      "/usr/local/python/3.12.1/lib/python3.12/site-packages/fbrefdata/fbref.py:953: FutureWarning: This search incorrectly ignores the root element, and will be fixed in a future version.  If you rely on the current behaviour, change it to \".//table[@id='stats_5bfb9659_summary']\"\n",
      "  html_table = tree.find(\"//table[@id='\" + id_format.format(away_team[\"id\"]) + \"']\")\n"
     ]
    },
    {
     "data": {
      "text/html": [
       "<pre style=\"white-space:pre;overflow-x:auto;line-height:normal;font-family:Menlo,'DejaVu Sans Mono',consolas,'Courier New',monospace\"><span style=\"color: #7fbfbf; text-decoration-color: #7fbfbf\">[08/29/24 07:49:55] </span><span style=\"color: #000080; text-decoration-color: #000080\">INFO    </span> <span style=\"font-weight: bold\">[</span><span style=\"color: #008080; text-decoration-color: #008080; font-weight: bold\">17</span>/<span style=\"color: #008080; text-decoration-color: #008080; font-weight: bold\">380</span><span style=\"font-weight: bold\">]</span> Retrieving game with <span style=\"color: #808000; text-decoration-color: #808000\">id</span>=<span style=\"color: #800080; text-decoration-color: #800080\">669b1665</span>                                 <a href=\"file:///usr/local/python/3.12.1/lib/python3.12/site-packages/fbrefdata/fbref.py\" target=\"_blank\"><span style=\"color: #7f7f7f; text-decoration-color: #7f7f7f\">fbref.py</span></a><span style=\"color: #7f7f7f; text-decoration-color: #7f7f7f\">:</span><a href=\"file:///usr/local/python/3.12.1/lib/python3.12/site-packages/fbrefdata/fbref.py#927\" target=\"_blank\"><span style=\"color: #7f7f7f; text-decoration-color: #7f7f7f\">927</span></a>\n",
       "</pre>\n"
      ],
      "text/plain": [
       "\u001b[2;36m[08/29/24 07:49:55]\u001b[0m\u001b[2;36m \u001b[0m\u001b[34mINFO    \u001b[0m \u001b[1m[\u001b[0m\u001b[1;36m17\u001b[0m/\u001b[1;36m380\u001b[0m\u001b[1m]\u001b[0m Retrieving game with \u001b[33mid\u001b[0m=\u001b[35m669b1665\u001b[0m                                 \u001b]8;id=817718;file:///usr/local/python/3.12.1/lib/python3.12/site-packages/fbrefdata/fbref.py\u001b\\\u001b[2mfbref.py\u001b[0m\u001b]8;;\u001b\\\u001b[2m:\u001b[0m\u001b]8;id=665504;file:///usr/local/python/3.12.1/lib/python3.12/site-packages/fbrefdata/fbref.py#927\u001b\\\u001b[2m927\u001b[0m\u001b]8;;\u001b\\\n"
      ]
     },
     "metadata": {},
     "output_type": "display_data"
    },
    {
     "name": "stderr",
     "output_type": "stream",
     "text": [
      "/usr/local/python/3.12.1/lib/python3.12/site-packages/fbrefdata/fbref.py:940: FutureWarning: This search incorrectly ignores the root element, and will be fixed in a future version.  If you rely on the current behaviour, change it to \".//table[@id='stats_8cec06e1_summary']\"\n",
      "  html_table = tree.find(\"//table[@id='\" + id_format.format(home_team[\"id\"]) + \"']\")\n",
      "/usr/local/python/3.12.1/lib/python3.12/site-packages/fbrefdata/fbref.py:953: FutureWarning: This search incorrectly ignores the root element, and will be fixed in a future version.  If you rely on the current behaviour, change it to \".//table[@id='stats_fd962109_summary']\"\n",
      "  html_table = tree.find(\"//table[@id='\" + id_format.format(away_team[\"id\"]) + \"']\")\n"
     ]
    },
    {
     "data": {
      "text/html": [
       "<pre style=\"white-space:pre;overflow-x:auto;line-height:normal;font-family:Menlo,'DejaVu Sans Mono',consolas,'Courier New',monospace\"><span style=\"color: #7fbfbf; text-decoration-color: #7fbfbf\">[08/29/24 07:50:01] </span><span style=\"color: #000080; text-decoration-color: #000080\">INFO    </span> <span style=\"font-weight: bold\">[</span><span style=\"color: #008080; text-decoration-color: #008080; font-weight: bold\">18</span>/<span style=\"color: #008080; text-decoration-color: #008080; font-weight: bold\">380</span><span style=\"font-weight: bold\">]</span> Retrieving game with <span style=\"color: #808000; text-decoration-color: #808000\">id</span>=<span style=\"color: #800080; text-decoration-color: #800080\">01e57bf5</span>                                 <a href=\"file:///usr/local/python/3.12.1/lib/python3.12/site-packages/fbrefdata/fbref.py\" target=\"_blank\"><span style=\"color: #7f7f7f; text-decoration-color: #7f7f7f\">fbref.py</span></a><span style=\"color: #7f7f7f; text-decoration-color: #7f7f7f\">:</span><a href=\"file:///usr/local/python/3.12.1/lib/python3.12/site-packages/fbrefdata/fbref.py#927\" target=\"_blank\"><span style=\"color: #7f7f7f; text-decoration-color: #7f7f7f\">927</span></a>\n",
       "</pre>\n"
      ],
      "text/plain": [
       "\u001b[2;36m[08/29/24 07:50:01]\u001b[0m\u001b[2;36m \u001b[0m\u001b[34mINFO    \u001b[0m \u001b[1m[\u001b[0m\u001b[1;36m18\u001b[0m/\u001b[1;36m380\u001b[0m\u001b[1m]\u001b[0m Retrieving game with \u001b[33mid\u001b[0m=\u001b[35m01e57bf5\u001b[0m                                 \u001b]8;id=484156;file:///usr/local/python/3.12.1/lib/python3.12/site-packages/fbrefdata/fbref.py\u001b\\\u001b[2mfbref.py\u001b[0m\u001b]8;;\u001b\\\u001b[2m:\u001b[0m\u001b]8;id=756958;file:///usr/local/python/3.12.1/lib/python3.12/site-packages/fbrefdata/fbref.py#927\u001b\\\u001b[2m927\u001b[0m\u001b]8;;\u001b\\\n"
      ]
     },
     "metadata": {},
     "output_type": "display_data"
    },
    {
     "name": "stderr",
     "output_type": "stream",
     "text": [
      "/usr/local/python/3.12.1/lib/python3.12/site-packages/fbrefdata/fbref.py:940: FutureWarning: This search incorrectly ignores the root element, and will be fixed in a future version.  If you rely on the current behaviour, change it to \".//table[@id='stats_cff3d9bb_summary']\"\n",
      "  html_table = tree.find(\"//table[@id='\" + id_format.format(home_team[\"id\"]) + \"']\")\n",
      "/usr/local/python/3.12.1/lib/python3.12/site-packages/fbrefdata/fbref.py:953: FutureWarning: This search incorrectly ignores the root element, and will be fixed in a future version.  If you rely on the current behaviour, change it to \".//table[@id='stats_361ca564_summary']\"\n",
      "  html_table = tree.find(\"//table[@id='\" + id_format.format(away_team[\"id\"]) + \"']\")\n"
     ]
    },
    {
     "data": {
      "text/html": [
       "<pre style=\"white-space:pre;overflow-x:auto;line-height:normal;font-family:Menlo,'DejaVu Sans Mono',consolas,'Courier New',monospace\"><span style=\"color: #7fbfbf; text-decoration-color: #7fbfbf\">[08/29/24 07:50:08] </span><span style=\"color: #000080; text-decoration-color: #000080\">INFO    </span> <span style=\"font-weight: bold\">[</span><span style=\"color: #008080; text-decoration-color: #008080; font-weight: bold\">19</span>/<span style=\"color: #008080; text-decoration-color: #008080; font-weight: bold\">380</span><span style=\"font-weight: bold\">]</span> Retrieving game with <span style=\"color: #808000; text-decoration-color: #808000\">id</span>=<span style=\"color: #800080; text-decoration-color: #800080\">b1ebeda5</span>                                 <a href=\"file:///usr/local/python/3.12.1/lib/python3.12/site-packages/fbrefdata/fbref.py\" target=\"_blank\"><span style=\"color: #7f7f7f; text-decoration-color: #7f7f7f\">fbref.py</span></a><span style=\"color: #7f7f7f; text-decoration-color: #7f7f7f\">:</span><a href=\"file:///usr/local/python/3.12.1/lib/python3.12/site-packages/fbrefdata/fbref.py#927\" target=\"_blank\"><span style=\"color: #7f7f7f; text-decoration-color: #7f7f7f\">927</span></a>\n",
       "</pre>\n"
      ],
      "text/plain": [
       "\u001b[2;36m[08/29/24 07:50:08]\u001b[0m\u001b[2;36m \u001b[0m\u001b[34mINFO    \u001b[0m \u001b[1m[\u001b[0m\u001b[1;36m19\u001b[0m/\u001b[1;36m380\u001b[0m\u001b[1m]\u001b[0m Retrieving game with \u001b[33mid\u001b[0m=\u001b[35mb1ebeda5\u001b[0m                                 \u001b]8;id=209194;file:///usr/local/python/3.12.1/lib/python3.12/site-packages/fbrefdata/fbref.py\u001b\\\u001b[2mfbref.py\u001b[0m\u001b]8;;\u001b\\\u001b[2m:\u001b[0m\u001b]8;id=53277;file:///usr/local/python/3.12.1/lib/python3.12/site-packages/fbrefdata/fbref.py#927\u001b\\\u001b[2m927\u001b[0m\u001b]8;;\u001b\\\n"
      ]
     },
     "metadata": {},
     "output_type": "display_data"
    },
    {
     "name": "stderr",
     "output_type": "stream",
     "text": [
      "/usr/local/python/3.12.1/lib/python3.12/site-packages/fbrefdata/fbref.py:940: FutureWarning: This search incorrectly ignores the root element, and will be fixed in a future version.  If you rely on the current behaviour, change it to \".//table[@id='stats_e4a775cb_summary']\"\n",
      "  html_table = tree.find(\"//table[@id='\" + id_format.format(home_team[\"id\"]) + \"']\")\n",
      "/usr/local/python/3.12.1/lib/python3.12/site-packages/fbrefdata/fbref.py:953: FutureWarning: This search incorrectly ignores the root element, and will be fixed in a future version.  If you rely on the current behaviour, change it to \".//table[@id='stats_7c21e445_summary']\"\n",
      "  html_table = tree.find(\"//table[@id='\" + id_format.format(away_team[\"id\"]) + \"']\")\n"
     ]
    },
    {
     "data": {
      "text/html": [
       "<pre style=\"white-space:pre;overflow-x:auto;line-height:normal;font-family:Menlo,'DejaVu Sans Mono',consolas,'Courier New',monospace\"><span style=\"color: #7fbfbf; text-decoration-color: #7fbfbf\">[08/29/24 07:50:14] </span><span style=\"color: #000080; text-decoration-color: #000080\">INFO    </span> <span style=\"font-weight: bold\">[</span><span style=\"color: #008080; text-decoration-color: #008080; font-weight: bold\">20</span>/<span style=\"color: #008080; text-decoration-color: #008080; font-weight: bold\">380</span><span style=\"font-weight: bold\">]</span> Retrieving game with <span style=\"color: #808000; text-decoration-color: #808000\">id</span>=<span style=\"color: #800080; text-decoration-color: #800080\">b3c6f709</span>                                 <a href=\"file:///usr/local/python/3.12.1/lib/python3.12/site-packages/fbrefdata/fbref.py\" target=\"_blank\"><span style=\"color: #7f7f7f; text-decoration-color: #7f7f7f\">fbref.py</span></a><span style=\"color: #7f7f7f; text-decoration-color: #7f7f7f\">:</span><a href=\"file:///usr/local/python/3.12.1/lib/python3.12/site-packages/fbrefdata/fbref.py#927\" target=\"_blank\"><span style=\"color: #7f7f7f; text-decoration-color: #7f7f7f\">927</span></a>\n",
       "</pre>\n"
      ],
      "text/plain": [
       "\u001b[2;36m[08/29/24 07:50:14]\u001b[0m\u001b[2;36m \u001b[0m\u001b[34mINFO    \u001b[0m \u001b[1m[\u001b[0m\u001b[1;36m20\u001b[0m/\u001b[1;36m380\u001b[0m\u001b[1m]\u001b[0m Retrieving game with \u001b[33mid\u001b[0m=\u001b[35mb3c6f709\u001b[0m                                 \u001b]8;id=158414;file:///usr/local/python/3.12.1/lib/python3.12/site-packages/fbrefdata/fbref.py\u001b\\\u001b[2mfbref.py\u001b[0m\u001b]8;;\u001b\\\u001b[2m:\u001b[0m\u001b]8;id=626806;file:///usr/local/python/3.12.1/lib/python3.12/site-packages/fbrefdata/fbref.py#927\u001b\\\u001b[2m927\u001b[0m\u001b]8;;\u001b\\\n"
      ]
     },
     "metadata": {},
     "output_type": "display_data"
    },
    {
     "name": "stderr",
     "output_type": "stream",
     "text": [
      "/usr/local/python/3.12.1/lib/python3.12/site-packages/fbrefdata/fbref.py:940: FutureWarning: This search incorrectly ignores the root element, and will be fixed in a future version.  If you rely on the current behaviour, change it to \".//table[@id='stats_822bd0ba_summary']\"\n",
      "  html_table = tree.find(\"//table[@id='\" + id_format.format(home_team[\"id\"]) + \"']\")\n",
      "/usr/local/python/3.12.1/lib/python3.12/site-packages/fbrefdata/fbref.py:953: FutureWarning: This search incorrectly ignores the root element, and will be fixed in a future version.  If you rely on the current behaviour, change it to \".//table[@id='stats_47c64c55_summary']\"\n",
      "  html_table = tree.find(\"//table[@id='\" + id_format.format(away_team[\"id\"]) + \"']\")\n"
     ]
    },
    {
     "data": {
      "text/html": [
       "<pre style=\"white-space:pre;overflow-x:auto;line-height:normal;font-family:Menlo,'DejaVu Sans Mono',consolas,'Courier New',monospace\"><span style=\"color: #7fbfbf; text-decoration-color: #7fbfbf\">[08/29/24 07:50:21] </span><span style=\"color: #000080; text-decoration-color: #000080\">INFO    </span> <span style=\"font-weight: bold\">[</span><span style=\"color: #008080; text-decoration-color: #008080; font-weight: bold\">21</span>/<span style=\"color: #008080; text-decoration-color: #008080; font-weight: bold\">380</span><span style=\"font-weight: bold\">]</span> Retrieving game with <span style=\"color: #808000; text-decoration-color: #808000\">id</span>=<span style=\"color: #800080; text-decoration-color: #800080\">7f11dd9e</span>                                 <a href=\"file:///usr/local/python/3.12.1/lib/python3.12/site-packages/fbrefdata/fbref.py\" target=\"_blank\"><span style=\"color: #7f7f7f; text-decoration-color: #7f7f7f\">fbref.py</span></a><span style=\"color: #7f7f7f; text-decoration-color: #7f7f7f\">:</span><a href=\"file:///usr/local/python/3.12.1/lib/python3.12/site-packages/fbrefdata/fbref.py#927\" target=\"_blank\"><span style=\"color: #7f7f7f; text-decoration-color: #7f7f7f\">927</span></a>\n",
       "</pre>\n"
      ],
      "text/plain": [
       "\u001b[2;36m[08/29/24 07:50:21]\u001b[0m\u001b[2;36m \u001b[0m\u001b[34mINFO    \u001b[0m \u001b[1m[\u001b[0m\u001b[1;36m21\u001b[0m/\u001b[1;36m380\u001b[0m\u001b[1m]\u001b[0m Retrieving game with \u001b[33mid\u001b[0m=\u001b[35m7f11dd9e\u001b[0m                                 \u001b]8;id=122541;file:///usr/local/python/3.12.1/lib/python3.12/site-packages/fbrefdata/fbref.py\u001b\\\u001b[2mfbref.py\u001b[0m\u001b]8;;\u001b\\\u001b[2m:\u001b[0m\u001b]8;id=272512;file:///usr/local/python/3.12.1/lib/python3.12/site-packages/fbrefdata/fbref.py#927\u001b\\\u001b[2m927\u001b[0m\u001b]8;;\u001b\\\n"
      ]
     },
     "metadata": {},
     "output_type": "display_data"
    },
    {
     "name": "stderr",
     "output_type": "stream",
     "text": [
      "/usr/local/python/3.12.1/lib/python3.12/site-packages/fbrefdata/fbref.py:940: FutureWarning: This search incorrectly ignores the root element, and will be fixed in a future version.  If you rely on the current behaviour, change it to \".//table[@id='stats_4ba7cbea_summary']\"\n",
      "  html_table = tree.find(\"//table[@id='\" + id_format.format(home_team[\"id\"]) + \"']\")\n",
      "/usr/local/python/3.12.1/lib/python3.12/site-packages/fbrefdata/fbref.py:953: FutureWarning: This search incorrectly ignores the root element, and will be fixed in a future version.  If you rely on the current behaviour, change it to \".//table[@id='stats_18bb7c10_summary']\"\n",
      "  html_table = tree.find(\"//table[@id='\" + id_format.format(away_team[\"id\"]) + \"']\")\n"
     ]
    },
    {
     "data": {
      "text/html": [
       "<pre style=\"white-space:pre;overflow-x:auto;line-height:normal;font-family:Menlo,'DejaVu Sans Mono',consolas,'Courier New',monospace\"><span style=\"color: #7fbfbf; text-decoration-color: #7fbfbf\">[08/29/24 07:50:27] </span><span style=\"color: #000080; text-decoration-color: #000080\">INFO    </span> <span style=\"font-weight: bold\">[</span><span style=\"color: #008080; text-decoration-color: #008080; font-weight: bold\">22</span>/<span style=\"color: #008080; text-decoration-color: #008080; font-weight: bold\">380</span><span style=\"font-weight: bold\">]</span> Retrieving game with <span style=\"color: #808000; text-decoration-color: #808000\">id</span>=<span style=\"color: #800080; text-decoration-color: #800080\">3f89bccf</span>                                 <a href=\"file:///usr/local/python/3.12.1/lib/python3.12/site-packages/fbrefdata/fbref.py\" target=\"_blank\"><span style=\"color: #7f7f7f; text-decoration-color: #7f7f7f\">fbref.py</span></a><span style=\"color: #7f7f7f; text-decoration-color: #7f7f7f\">:</span><a href=\"file:///usr/local/python/3.12.1/lib/python3.12/site-packages/fbrefdata/fbref.py#927\" target=\"_blank\"><span style=\"color: #7f7f7f; text-decoration-color: #7f7f7f\">927</span></a>\n",
       "</pre>\n"
      ],
      "text/plain": [
       "\u001b[2;36m[08/29/24 07:50:27]\u001b[0m\u001b[2;36m \u001b[0m\u001b[34mINFO    \u001b[0m \u001b[1m[\u001b[0m\u001b[1;36m22\u001b[0m/\u001b[1;36m380\u001b[0m\u001b[1m]\u001b[0m Retrieving game with \u001b[33mid\u001b[0m=\u001b[35m3f89bccf\u001b[0m                                 \u001b]8;id=430300;file:///usr/local/python/3.12.1/lib/python3.12/site-packages/fbrefdata/fbref.py\u001b\\\u001b[2mfbref.py\u001b[0m\u001b]8;;\u001b\\\u001b[2m:\u001b[0m\u001b]8;id=721878;file:///usr/local/python/3.12.1/lib/python3.12/site-packages/fbrefdata/fbref.py#927\u001b\\\u001b[2m927\u001b[0m\u001b]8;;\u001b\\\n"
      ]
     },
     "metadata": {},
     "output_type": "display_data"
    },
    {
     "name": "stderr",
     "output_type": "stream",
     "text": [
      "/usr/local/python/3.12.1/lib/python3.12/site-packages/fbrefdata/fbref.py:940: FutureWarning: This search incorrectly ignores the root element, and will be fixed in a future version.  If you rely on the current behaviour, change it to \".//table[@id='stats_47c64c55_summary']\"\n",
      "  html_table = tree.find(\"//table[@id='\" + id_format.format(home_team[\"id\"]) + \"']\")\n",
      "/usr/local/python/3.12.1/lib/python3.12/site-packages/fbrefdata/fbref.py:953: FutureWarning: This search incorrectly ignores the root element, and will be fixed in a future version.  If you rely on the current behaviour, change it to \".//table[@id='stats_8602292d_summary']\"\n",
      "  html_table = tree.find(\"//table[@id='\" + id_format.format(away_team[\"id\"]) + \"']\")\n"
     ]
    },
    {
     "data": {
      "text/html": [
       "<pre style=\"white-space:pre;overflow-x:auto;line-height:normal;font-family:Menlo,'DejaVu Sans Mono',consolas,'Courier New',monospace\"><span style=\"color: #7fbfbf; text-decoration-color: #7fbfbf\">[08/29/24 07:50:33] </span><span style=\"color: #000080; text-decoration-color: #000080\">INFO    </span> <span style=\"font-weight: bold\">[</span><span style=\"color: #008080; text-decoration-color: #008080; font-weight: bold\">23</span>/<span style=\"color: #008080; text-decoration-color: #008080; font-weight: bold\">380</span><span style=\"font-weight: bold\">]</span> Retrieving game with <span style=\"color: #808000; text-decoration-color: #808000\">id</span>=<span style=\"color: #800080; text-decoration-color: #800080\">3c3cc86f</span>                                 <a href=\"file:///usr/local/python/3.12.1/lib/python3.12/site-packages/fbrefdata/fbref.py\" target=\"_blank\"><span style=\"color: #7f7f7f; text-decoration-color: #7f7f7f\">fbref.py</span></a><span style=\"color: #7f7f7f; text-decoration-color: #7f7f7f\">:</span><a href=\"file:///usr/local/python/3.12.1/lib/python3.12/site-packages/fbrefdata/fbref.py#927\" target=\"_blank\"><span style=\"color: #7f7f7f; text-decoration-color: #7f7f7f\">927</span></a>\n",
       "</pre>\n"
      ],
      "text/plain": [
       "\u001b[2;36m[08/29/24 07:50:33]\u001b[0m\u001b[2;36m \u001b[0m\u001b[34mINFO    \u001b[0m \u001b[1m[\u001b[0m\u001b[1;36m23\u001b[0m/\u001b[1;36m380\u001b[0m\u001b[1m]\u001b[0m Retrieving game with \u001b[33mid\u001b[0m=\u001b[35m3c3cc86f\u001b[0m                                 \u001b]8;id=86049;file:///usr/local/python/3.12.1/lib/python3.12/site-packages/fbrefdata/fbref.py\u001b\\\u001b[2mfbref.py\u001b[0m\u001b]8;;\u001b\\\u001b[2m:\u001b[0m\u001b]8;id=236071;file:///usr/local/python/3.12.1/lib/python3.12/site-packages/fbrefdata/fbref.py#927\u001b\\\u001b[2m927\u001b[0m\u001b]8;;\u001b\\\n"
      ]
     },
     "metadata": {},
     "output_type": "display_data"
    },
    {
     "name": "stderr",
     "output_type": "stream",
     "text": [
      "/usr/local/python/3.12.1/lib/python3.12/site-packages/fbrefdata/fbref.py:940: FutureWarning: This search incorrectly ignores the root element, and will be fixed in a future version.  If you rely on the current behaviour, change it to \".//table[@id='stats_d3fd31cc_summary']\"\n",
      "  html_table = tree.find(\"//table[@id='\" + id_format.format(home_team[\"id\"]) + \"']\")\n",
      "/usr/local/python/3.12.1/lib/python3.12/site-packages/fbrefdata/fbref.py:953: FutureWarning: This search incorrectly ignores the root element, and will be fixed in a future version.  If you rely on the current behaviour, change it to \".//table[@id='stats_e4a775cb_summary']\"\n",
      "  html_table = tree.find(\"//table[@id='\" + id_format.format(away_team[\"id\"]) + \"']\")\n"
     ]
    },
    {
     "data": {
      "text/html": [
       "<pre style=\"white-space:pre;overflow-x:auto;line-height:normal;font-family:Menlo,'DejaVu Sans Mono',consolas,'Courier New',monospace\"><span style=\"color: #7fbfbf; text-decoration-color: #7fbfbf\">[08/29/24 07:50:40] </span><span style=\"color: #000080; text-decoration-color: #000080\">INFO    </span> <span style=\"font-weight: bold\">[</span><span style=\"color: #008080; text-decoration-color: #008080; font-weight: bold\">24</span>/<span style=\"color: #008080; text-decoration-color: #008080; font-weight: bold\">380</span><span style=\"font-weight: bold\">]</span> Retrieving game with <span style=\"color: #808000; text-decoration-color: #808000\">id</span>=<span style=\"color: #800080; text-decoration-color: #800080\">a107c037</span>                                 <a href=\"file:///usr/local/python/3.12.1/lib/python3.12/site-packages/fbrefdata/fbref.py\" target=\"_blank\"><span style=\"color: #7f7f7f; text-decoration-color: #7f7f7f\">fbref.py</span></a><span style=\"color: #7f7f7f; text-decoration-color: #7f7f7f\">:</span><a href=\"file:///usr/local/python/3.12.1/lib/python3.12/site-packages/fbrefdata/fbref.py#927\" target=\"_blank\"><span style=\"color: #7f7f7f; text-decoration-color: #7f7f7f\">927</span></a>\n",
       "</pre>\n"
      ],
      "text/plain": [
       "\u001b[2;36m[08/29/24 07:50:40]\u001b[0m\u001b[2;36m \u001b[0m\u001b[34mINFO    \u001b[0m \u001b[1m[\u001b[0m\u001b[1;36m24\u001b[0m/\u001b[1;36m380\u001b[0m\u001b[1m]\u001b[0m Retrieving game with \u001b[33mid\u001b[0m=\u001b[35ma107c037\u001b[0m                                 \u001b]8;id=560430;file:///usr/local/python/3.12.1/lib/python3.12/site-packages/fbrefdata/fbref.py\u001b\\\u001b[2mfbref.py\u001b[0m\u001b]8;;\u001b\\\u001b[2m:\u001b[0m\u001b]8;id=654325;file:///usr/local/python/3.12.1/lib/python3.12/site-packages/fbrefdata/fbref.py#927\u001b\\\u001b[2m927\u001b[0m\u001b]8;;\u001b\\\n"
      ]
     },
     "metadata": {},
     "output_type": "display_data"
    },
    {
     "name": "stderr",
     "output_type": "stream",
     "text": [
      "/usr/local/python/3.12.1/lib/python3.12/site-packages/fbrefdata/fbref.py:940: FutureWarning: This search incorrectly ignores the root element, and will be fixed in a future version.  If you rely on the current behaviour, change it to \".//table[@id='stats_fd962109_summary']\"\n",
      "  html_table = tree.find(\"//table[@id='\" + id_format.format(home_team[\"id\"]) + \"']\")\n",
      "/usr/local/python/3.12.1/lib/python3.12/site-packages/fbrefdata/fbref.py:953: FutureWarning: This search incorrectly ignores the root element, and will be fixed in a future version.  If you rely on the current behaviour, change it to \".//table[@id='stats_cd051869_summary']\"\n",
      "  html_table = tree.find(\"//table[@id='\" + id_format.format(away_team[\"id\"]) + \"']\")\n"
     ]
    },
    {
     "data": {
      "text/html": [
       "<pre style=\"white-space:pre;overflow-x:auto;line-height:normal;font-family:Menlo,'DejaVu Sans Mono',consolas,'Courier New',monospace\"><span style=\"color: #7fbfbf; text-decoration-color: #7fbfbf\">[08/29/24 07:50:46] </span><span style=\"color: #000080; text-decoration-color: #000080\">INFO    </span> <span style=\"font-weight: bold\">[</span><span style=\"color: #008080; text-decoration-color: #008080; font-weight: bold\">25</span>/<span style=\"color: #008080; text-decoration-color: #008080; font-weight: bold\">380</span><span style=\"font-weight: bold\">]</span> Retrieving game with <span style=\"color: #808000; text-decoration-color: #808000\">id</span>=<span style=\"color: #800080; text-decoration-color: #800080\">02efd4d1</span>                                 <a href=\"file:///usr/local/python/3.12.1/lib/python3.12/site-packages/fbrefdata/fbref.py\" target=\"_blank\"><span style=\"color: #7f7f7f; text-decoration-color: #7f7f7f\">fbref.py</span></a><span style=\"color: #7f7f7f; text-decoration-color: #7f7f7f\">:</span><a href=\"file:///usr/local/python/3.12.1/lib/python3.12/site-packages/fbrefdata/fbref.py#927\" target=\"_blank\"><span style=\"color: #7f7f7f; text-decoration-color: #7f7f7f\">927</span></a>\n",
       "</pre>\n"
      ],
      "text/plain": [
       "\u001b[2;36m[08/29/24 07:50:46]\u001b[0m\u001b[2;36m \u001b[0m\u001b[34mINFO    \u001b[0m \u001b[1m[\u001b[0m\u001b[1;36m25\u001b[0m/\u001b[1;36m380\u001b[0m\u001b[1m]\u001b[0m Retrieving game with \u001b[33mid\u001b[0m=\u001b[35m02efd4d1\u001b[0m                                 \u001b]8;id=837169;file:///usr/local/python/3.12.1/lib/python3.12/site-packages/fbrefdata/fbref.py\u001b\\\u001b[2mfbref.py\u001b[0m\u001b]8;;\u001b\\\u001b[2m:\u001b[0m\u001b]8;id=524039;file:///usr/local/python/3.12.1/lib/python3.12/site-packages/fbrefdata/fbref.py#927\u001b\\\u001b[2m927\u001b[0m\u001b]8;;\u001b\\\n"
      ]
     },
     "metadata": {},
     "output_type": "display_data"
    },
    {
     "name": "stderr",
     "output_type": "stream",
     "text": [
      "/usr/local/python/3.12.1/lib/python3.12/site-packages/fbrefdata/fbref.py:940: FutureWarning: This search incorrectly ignores the root element, and will be fixed in a future version.  If you rely on the current behaviour, change it to \".//table[@id='stats_a2d435b3_summary']\"\n",
      "  html_table = tree.find(\"//table[@id='\" + id_format.format(home_team[\"id\"]) + \"']\")\n",
      "/usr/local/python/3.12.1/lib/python3.12/site-packages/fbrefdata/fbref.py:953: FutureWarning: This search incorrectly ignores the root element, and will be fixed in a future version.  If you rely on the current behaviour, change it to \".//table[@id='stats_33c895d4_summary']\"\n",
      "  html_table = tree.find(\"//table[@id='\" + id_format.format(away_team[\"id\"]) + \"']\")\n"
     ]
    },
    {
     "data": {
      "text/html": [
       "<pre style=\"white-space:pre;overflow-x:auto;line-height:normal;font-family:Menlo,'DejaVu Sans Mono',consolas,'Courier New',monospace\"><span style=\"color: #7fbfbf; text-decoration-color: #7fbfbf\">[08/29/24 07:50:52] </span><span style=\"color: #000080; text-decoration-color: #000080\">INFO    </span> <span style=\"font-weight: bold\">[</span><span style=\"color: #008080; text-decoration-color: #008080; font-weight: bold\">26</span>/<span style=\"color: #008080; text-decoration-color: #008080; font-weight: bold\">380</span><span style=\"font-weight: bold\">]</span> Retrieving game with <span style=\"color: #808000; text-decoration-color: #808000\">id</span>=<span style=\"color: #800080; text-decoration-color: #800080\">5cc3bd0e</span>                                 <a href=\"file:///usr/local/python/3.12.1/lib/python3.12/site-packages/fbrefdata/fbref.py\" target=\"_blank\"><span style=\"color: #7f7f7f; text-decoration-color: #7f7f7f\">fbref.py</span></a><span style=\"color: #7f7f7f; text-decoration-color: #7f7f7f\">:</span><a href=\"file:///usr/local/python/3.12.1/lib/python3.12/site-packages/fbrefdata/fbref.py#927\" target=\"_blank\"><span style=\"color: #7f7f7f; text-decoration-color: #7f7f7f\">927</span></a>\n",
       "</pre>\n"
      ],
      "text/plain": [
       "\u001b[2;36m[08/29/24 07:50:52]\u001b[0m\u001b[2;36m \u001b[0m\u001b[34mINFO    \u001b[0m \u001b[1m[\u001b[0m\u001b[1;36m26\u001b[0m/\u001b[1;36m380\u001b[0m\u001b[1m]\u001b[0m Retrieving game with \u001b[33mid\u001b[0m=\u001b[35m5cc3bd0e\u001b[0m                                 \u001b]8;id=388682;file:///usr/local/python/3.12.1/lib/python3.12/site-packages/fbrefdata/fbref.py\u001b\\\u001b[2mfbref.py\u001b[0m\u001b]8;;\u001b\\\u001b[2m:\u001b[0m\u001b]8;id=584153;file:///usr/local/python/3.12.1/lib/python3.12/site-packages/fbrefdata/fbref.py#927\u001b\\\u001b[2m927\u001b[0m\u001b]8;;\u001b\\\n"
      ]
     },
     "metadata": {},
     "output_type": "display_data"
    },
    {
     "name": "stderr",
     "output_type": "stream",
     "text": [
      "/usr/local/python/3.12.1/lib/python3.12/site-packages/fbrefdata/fbref.py:940: FutureWarning: This search incorrectly ignores the root element, and will be fixed in a future version.  If you rely on the current behaviour, change it to \".//table[@id='stats_361ca564_summary']\"\n",
      "  html_table = tree.find(\"//table[@id='\" + id_format.format(home_team[\"id\"]) + \"']\")\n",
      "/usr/local/python/3.12.1/lib/python3.12/site-packages/fbrefdata/fbref.py:953: FutureWarning: This search incorrectly ignores the root element, and will be fixed in a future version.  If you rely on the current behaviour, change it to \".//table[@id='stats_8cec06e1_summary']\"\n",
      "  html_table = tree.find(\"//table[@id='\" + id_format.format(away_team[\"id\"]) + \"']\")\n"
     ]
    },
    {
     "data": {
      "text/html": [
       "<pre style=\"white-space:pre;overflow-x:auto;line-height:normal;font-family:Menlo,'DejaVu Sans Mono',consolas,'Courier New',monospace\"><span style=\"color: #7fbfbf; text-decoration-color: #7fbfbf\">[08/29/24 07:50:59] </span><span style=\"color: #000080; text-decoration-color: #000080\">INFO    </span> <span style=\"font-weight: bold\">[</span><span style=\"color: #008080; text-decoration-color: #008080; font-weight: bold\">27</span>/<span style=\"color: #008080; text-decoration-color: #008080; font-weight: bold\">380</span><span style=\"font-weight: bold\">]</span> Retrieving game with <span style=\"color: #808000; text-decoration-color: #808000\">id</span>=<span style=\"color: #800080; text-decoration-color: #800080\">a5632124</span>                                 <a href=\"file:///usr/local/python/3.12.1/lib/python3.12/site-packages/fbrefdata/fbref.py\" target=\"_blank\"><span style=\"color: #7f7f7f; text-decoration-color: #7f7f7f\">fbref.py</span></a><span style=\"color: #7f7f7f; text-decoration-color: #7f7f7f\">:</span><a href=\"file:///usr/local/python/3.12.1/lib/python3.12/site-packages/fbrefdata/fbref.py#927\" target=\"_blank\"><span style=\"color: #7f7f7f; text-decoration-color: #7f7f7f\">927</span></a>\n",
       "</pre>\n"
      ],
      "text/plain": [
       "\u001b[2;36m[08/29/24 07:50:59]\u001b[0m\u001b[2;36m \u001b[0m\u001b[34mINFO    \u001b[0m \u001b[1m[\u001b[0m\u001b[1;36m27\u001b[0m/\u001b[1;36m380\u001b[0m\u001b[1m]\u001b[0m Retrieving game with \u001b[33mid\u001b[0m=\u001b[35ma5632124\u001b[0m                                 \u001b]8;id=334550;file:///usr/local/python/3.12.1/lib/python3.12/site-packages/fbrefdata/fbref.py\u001b\\\u001b[2mfbref.py\u001b[0m\u001b]8;;\u001b\\\u001b[2m:\u001b[0m\u001b]8;id=386065;file:///usr/local/python/3.12.1/lib/python3.12/site-packages/fbrefdata/fbref.py#927\u001b\\\u001b[2m927\u001b[0m\u001b]8;;\u001b\\\n"
      ]
     },
     "metadata": {},
     "output_type": "display_data"
    },
    {
     "name": "stderr",
     "output_type": "stream",
     "text": [
      "/usr/local/python/3.12.1/lib/python3.12/site-packages/fbrefdata/fbref.py:940: FutureWarning: This search incorrectly ignores the root element, and will be fixed in a future version.  If you rely on the current behaviour, change it to \".//table[@id='stats_5bfb9659_summary']\"\n",
      "  html_table = tree.find(\"//table[@id='\" + id_format.format(home_team[\"id\"]) + \"']\")\n",
      "/usr/local/python/3.12.1/lib/python3.12/site-packages/fbrefdata/fbref.py:953: FutureWarning: This search incorrectly ignores the root element, and will be fixed in a future version.  If you rely on the current behaviour, change it to \".//table[@id='stats_cff3d9bb_summary']\"\n",
      "  html_table = tree.find(\"//table[@id='\" + id_format.format(away_team[\"id\"]) + \"']\")\n"
     ]
    },
    {
     "data": {
      "text/html": [
       "<pre style=\"white-space:pre;overflow-x:auto;line-height:normal;font-family:Menlo,'DejaVu Sans Mono',consolas,'Courier New',monospace\"><span style=\"color: #7fbfbf; text-decoration-color: #7fbfbf\">[08/29/24 07:51:05] </span><span style=\"color: #000080; text-decoration-color: #000080\">INFO    </span> <span style=\"font-weight: bold\">[</span><span style=\"color: #008080; text-decoration-color: #008080; font-weight: bold\">28</span>/<span style=\"color: #008080; text-decoration-color: #008080; font-weight: bold\">380</span><span style=\"font-weight: bold\">]</span> Retrieving game with <span style=\"color: #808000; text-decoration-color: #808000\">id</span>=<span style=\"color: #800080; text-decoration-color: #800080\">b513d9fe</span>                                 <a href=\"file:///usr/local/python/3.12.1/lib/python3.12/site-packages/fbrefdata/fbref.py\" target=\"_blank\"><span style=\"color: #7f7f7f; text-decoration-color: #7f7f7f\">fbref.py</span></a><span style=\"color: #7f7f7f; text-decoration-color: #7f7f7f\">:</span><a href=\"file:///usr/local/python/3.12.1/lib/python3.12/site-packages/fbrefdata/fbref.py#927\" target=\"_blank\"><span style=\"color: #7f7f7f; text-decoration-color: #7f7f7f\">927</span></a>\n",
       "</pre>\n"
      ],
      "text/plain": [
       "\u001b[2;36m[08/29/24 07:51:05]\u001b[0m\u001b[2;36m \u001b[0m\u001b[34mINFO    \u001b[0m \u001b[1m[\u001b[0m\u001b[1;36m28\u001b[0m/\u001b[1;36m380\u001b[0m\u001b[1m]\u001b[0m Retrieving game with \u001b[33mid\u001b[0m=\u001b[35mb513d9fe\u001b[0m                                 \u001b]8;id=410734;file:///usr/local/python/3.12.1/lib/python3.12/site-packages/fbrefdata/fbref.py\u001b\\\u001b[2mfbref.py\u001b[0m\u001b]8;;\u001b\\\u001b[2m:\u001b[0m\u001b]8;id=614144;file:///usr/local/python/3.12.1/lib/python3.12/site-packages/fbrefdata/fbref.py#927\u001b\\\u001b[2m927\u001b[0m\u001b]8;;\u001b\\\n"
      ]
     },
     "metadata": {},
     "output_type": "display_data"
    },
    {
     "name": "stderr",
     "output_type": "stream",
     "text": [
      "/usr/local/python/3.12.1/lib/python3.12/site-packages/fbrefdata/fbref.py:940: FutureWarning: This search incorrectly ignores the root element, and will be fixed in a future version.  If you rely on the current behaviour, change it to \".//table[@id='stats_b2b47a98_summary']\"\n",
      "  html_table = tree.find(\"//table[@id='\" + id_format.format(home_team[\"id\"]) + \"']\")\n",
      "/usr/local/python/3.12.1/lib/python3.12/site-packages/fbrefdata/fbref.py:953: FutureWarning: This search incorrectly ignores the root element, and will be fixed in a future version.  If you rely on the current behaviour, change it to \".//table[@id='stats_b8fd03ef_summary']\"\n",
      "  html_table = tree.find(\"//table[@id='\" + id_format.format(away_team[\"id\"]) + \"']\")\n"
     ]
    },
    {
     "data": {
      "text/html": [
       "<pre style=\"white-space:pre;overflow-x:auto;line-height:normal;font-family:Menlo,'DejaVu Sans Mono',consolas,'Courier New',monospace\"><span style=\"color: #7fbfbf; text-decoration-color: #7fbfbf\">[08/29/24 07:51:12] </span><span style=\"color: #000080; text-decoration-color: #000080\">INFO    </span> <span style=\"font-weight: bold\">[</span><span style=\"color: #008080; text-decoration-color: #008080; font-weight: bold\">29</span>/<span style=\"color: #008080; text-decoration-color: #008080; font-weight: bold\">380</span><span style=\"font-weight: bold\">]</span> Retrieving game with <span style=\"color: #808000; text-decoration-color: #808000\">id</span>=<span style=\"color: #800080; text-decoration-color: #800080\">aa2a3517</span>                                 <a href=\"file:///usr/local/python/3.12.1/lib/python3.12/site-packages/fbrefdata/fbref.py\" target=\"_blank\"><span style=\"color: #7f7f7f; text-decoration-color: #7f7f7f\">fbref.py</span></a><span style=\"color: #7f7f7f; text-decoration-color: #7f7f7f\">:</span><a href=\"file:///usr/local/python/3.12.1/lib/python3.12/site-packages/fbrefdata/fbref.py#927\" target=\"_blank\"><span style=\"color: #7f7f7f; text-decoration-color: #7f7f7f\">927</span></a>\n",
       "</pre>\n"
      ],
      "text/plain": [
       "\u001b[2;36m[08/29/24 07:51:12]\u001b[0m\u001b[2;36m \u001b[0m\u001b[34mINFO    \u001b[0m \u001b[1m[\u001b[0m\u001b[1;36m29\u001b[0m/\u001b[1;36m380\u001b[0m\u001b[1m]\u001b[0m Retrieving game with \u001b[33mid\u001b[0m=\u001b[35maa2a3517\u001b[0m                                 \u001b]8;id=17463;file:///usr/local/python/3.12.1/lib/python3.12/site-packages/fbrefdata/fbref.py\u001b\\\u001b[2mfbref.py\u001b[0m\u001b]8;;\u001b\\\u001b[2m:\u001b[0m\u001b]8;id=329761;file:///usr/local/python/3.12.1/lib/python3.12/site-packages/fbrefdata/fbref.py#927\u001b\\\u001b[2m927\u001b[0m\u001b]8;;\u001b\\\n"
      ]
     },
     "metadata": {},
     "output_type": "display_data"
    },
    {
     "name": "stderr",
     "output_type": "stream",
     "text": [
      "/usr/local/python/3.12.1/lib/python3.12/site-packages/fbrefdata/fbref.py:940: FutureWarning: This search incorrectly ignores the root element, and will be fixed in a future version.  If you rely on the current behaviour, change it to \".//table[@id='stats_7c21e445_summary']\"\n",
      "  html_table = tree.find(\"//table[@id='\" + id_format.format(home_team[\"id\"]) + \"']\")\n",
      "/usr/local/python/3.12.1/lib/python3.12/site-packages/fbrefdata/fbref.py:953: FutureWarning: This search incorrectly ignores the root element, and will be fixed in a future version.  If you rely on the current behaviour, change it to \".//table[@id='stats_d07537b9_summary']\"\n",
      "  html_table = tree.find(\"//table[@id='\" + id_format.format(away_team[\"id\"]) + \"']\")\n"
     ]
    },
    {
     "data": {
      "text/html": [
       "<pre style=\"white-space:pre;overflow-x:auto;line-height:normal;font-family:Menlo,'DejaVu Sans Mono',consolas,'Courier New',monospace\"><span style=\"color: #7fbfbf; text-decoration-color: #7fbfbf\">[08/29/24 07:51:18] </span><span style=\"color: #000080; text-decoration-color: #000080\">INFO    </span> <span style=\"font-weight: bold\">[</span><span style=\"color: #008080; text-decoration-color: #008080; font-weight: bold\">30</span>/<span style=\"color: #008080; text-decoration-color: #008080; font-weight: bold\">380</span><span style=\"font-weight: bold\">]</span> Retrieving game with <span style=\"color: #808000; text-decoration-color: #808000\">id</span>=<span style=\"color: #800080; text-decoration-color: #800080\">3c9a8f71</span>                                 <a href=\"file:///usr/local/python/3.12.1/lib/python3.12/site-packages/fbrefdata/fbref.py\" target=\"_blank\"><span style=\"color: #7f7f7f; text-decoration-color: #7f7f7f\">fbref.py</span></a><span style=\"color: #7f7f7f; text-decoration-color: #7f7f7f\">:</span><a href=\"file:///usr/local/python/3.12.1/lib/python3.12/site-packages/fbrefdata/fbref.py#927\" target=\"_blank\"><span style=\"color: #7f7f7f; text-decoration-color: #7f7f7f\">927</span></a>\n",
       "</pre>\n"
      ],
      "text/plain": [
       "\u001b[2;36m[08/29/24 07:51:18]\u001b[0m\u001b[2;36m \u001b[0m\u001b[34mINFO    \u001b[0m \u001b[1m[\u001b[0m\u001b[1;36m30\u001b[0m/\u001b[1;36m380\u001b[0m\u001b[1m]\u001b[0m Retrieving game with \u001b[33mid\u001b[0m=\u001b[35m3c9a8f71\u001b[0m                                 \u001b]8;id=824716;file:///usr/local/python/3.12.1/lib/python3.12/site-packages/fbrefdata/fbref.py\u001b\\\u001b[2mfbref.py\u001b[0m\u001b]8;;\u001b\\\u001b[2m:\u001b[0m\u001b]8;id=166664;file:///usr/local/python/3.12.1/lib/python3.12/site-packages/fbrefdata/fbref.py#927\u001b\\\u001b[2m927\u001b[0m\u001b]8;;\u001b\\\n"
      ]
     },
     "metadata": {},
     "output_type": "display_data"
    },
    {
     "name": "stderr",
     "output_type": "stream",
     "text": [
      "/usr/local/python/3.12.1/lib/python3.12/site-packages/fbrefdata/fbref.py:940: FutureWarning: This search incorrectly ignores the root element, and will be fixed in a future version.  If you rely on the current behaviour, change it to \".//table[@id='stats_19538871_summary']\"\n",
      "  html_table = tree.find(\"//table[@id='\" + id_format.format(home_team[\"id\"]) + \"']\")\n",
      "/usr/local/python/3.12.1/lib/python3.12/site-packages/fbrefdata/fbref.py:953: FutureWarning: This search incorrectly ignores the root element, and will be fixed in a future version.  If you rely on the current behaviour, change it to \".//table[@id='stats_822bd0ba_summary']\"\n",
      "  html_table = tree.find(\"//table[@id='\" + id_format.format(away_team[\"id\"]) + \"']\")\n"
     ]
    },
    {
     "data": {
      "text/html": [
       "<pre style=\"white-space:pre;overflow-x:auto;line-height:normal;font-family:Menlo,'DejaVu Sans Mono',consolas,'Courier New',monospace\"><span style=\"color: #7fbfbf; text-decoration-color: #7fbfbf\">[08/29/24 07:51:24] </span><span style=\"color: #000080; text-decoration-color: #000080\">INFO    </span> <span style=\"font-weight: bold\">[</span><span style=\"color: #008080; text-decoration-color: #008080; font-weight: bold\">31</span>/<span style=\"color: #008080; text-decoration-color: #008080; font-weight: bold\">380</span><span style=\"font-weight: bold\">]</span> Retrieving game with <span style=\"color: #808000; text-decoration-color: #808000\">id</span>=<span style=\"color: #800080; text-decoration-color: #800080\">8b69fd2d</span>                                 <a href=\"file:///usr/local/python/3.12.1/lib/python3.12/site-packages/fbrefdata/fbref.py\" target=\"_blank\"><span style=\"color: #7f7f7f; text-decoration-color: #7f7f7f\">fbref.py</span></a><span style=\"color: #7f7f7f; text-decoration-color: #7f7f7f\">:</span><a href=\"file:///usr/local/python/3.12.1/lib/python3.12/site-packages/fbrefdata/fbref.py#927\" target=\"_blank\"><span style=\"color: #7f7f7f; text-decoration-color: #7f7f7f\">927</span></a>\n",
       "</pre>\n"
      ],
      "text/plain": [
       "\u001b[2;36m[08/29/24 07:51:24]\u001b[0m\u001b[2;36m \u001b[0m\u001b[34mINFO    \u001b[0m \u001b[1m[\u001b[0m\u001b[1;36m31\u001b[0m/\u001b[1;36m380\u001b[0m\u001b[1m]\u001b[0m Retrieving game with \u001b[33mid\u001b[0m=\u001b[35m8b69fd2d\u001b[0m                                 \u001b]8;id=450560;file:///usr/local/python/3.12.1/lib/python3.12/site-packages/fbrefdata/fbref.py\u001b\\\u001b[2mfbref.py\u001b[0m\u001b]8;;\u001b\\\u001b[2m:\u001b[0m\u001b]8;id=615550;file:///usr/local/python/3.12.1/lib/python3.12/site-packages/fbrefdata/fbref.py#927\u001b\\\u001b[2m927\u001b[0m\u001b]8;;\u001b\\\n"
      ]
     },
     "metadata": {},
     "output_type": "display_data"
    },
    {
     "name": "stderr",
     "output_type": "stream",
     "text": [
      "/usr/local/python/3.12.1/lib/python3.12/site-packages/fbrefdata/fbref.py:940: FutureWarning: This search incorrectly ignores the root element, and will be fixed in a future version.  If you rely on the current behaviour, change it to \".//table[@id='stats_18bb7c10_summary']\"\n",
      "  html_table = tree.find(\"//table[@id='\" + id_format.format(home_team[\"id\"]) + \"']\")\n",
      "/usr/local/python/3.12.1/lib/python3.12/site-packages/fbrefdata/fbref.py:953: FutureWarning: This search incorrectly ignores the root element, and will be fixed in a future version.  If you rely on the current behaviour, change it to \".//table[@id='stats_fd962109_summary']\"\n",
      "  html_table = tree.find(\"//table[@id='\" + id_format.format(away_team[\"id\"]) + \"']\")\n"
     ]
    },
    {
     "data": {
      "text/html": [
       "<pre style=\"white-space:pre;overflow-x:auto;line-height:normal;font-family:Menlo,'DejaVu Sans Mono',consolas,'Courier New',monospace\"><span style=\"color: #7fbfbf; text-decoration-color: #7fbfbf\">[08/29/24 07:51:31] </span><span style=\"color: #000080; text-decoration-color: #000080\">INFO    </span> <span style=\"font-weight: bold\">[</span><span style=\"color: #008080; text-decoration-color: #008080; font-weight: bold\">32</span>/<span style=\"color: #008080; text-decoration-color: #008080; font-weight: bold\">380</span><span style=\"font-weight: bold\">]</span> Retrieving game with <span style=\"color: #808000; text-decoration-color: #808000\">id</span>=<span style=\"color: #800080; text-decoration-color: #800080\">db59fc65</span>                                 <a href=\"file:///usr/local/python/3.12.1/lib/python3.12/site-packages/fbrefdata/fbref.py\" target=\"_blank\"><span style=\"color: #7f7f7f; text-decoration-color: #7f7f7f\">fbref.py</span></a><span style=\"color: #7f7f7f; text-decoration-color: #7f7f7f\">:</span><a href=\"file:///usr/local/python/3.12.1/lib/python3.12/site-packages/fbrefdata/fbref.py#927\" target=\"_blank\"><span style=\"color: #7f7f7f; text-decoration-color: #7f7f7f\">927</span></a>\n",
       "</pre>\n"
      ],
      "text/plain": [
       "\u001b[2;36m[08/29/24 07:51:31]\u001b[0m\u001b[2;36m \u001b[0m\u001b[34mINFO    \u001b[0m \u001b[1m[\u001b[0m\u001b[1;36m32\u001b[0m/\u001b[1;36m380\u001b[0m\u001b[1m]\u001b[0m Retrieving game with \u001b[33mid\u001b[0m=\u001b[35mdb59fc65\u001b[0m                                 \u001b]8;id=84395;file:///usr/local/python/3.12.1/lib/python3.12/site-packages/fbrefdata/fbref.py\u001b\\\u001b[2mfbref.py\u001b[0m\u001b]8;;\u001b\\\u001b[2m:\u001b[0m\u001b]8;id=56132;file:///usr/local/python/3.12.1/lib/python3.12/site-packages/fbrefdata/fbref.py#927\u001b\\\u001b[2m927\u001b[0m\u001b]8;;\u001b\\\n"
      ]
     },
     "metadata": {},
     "output_type": "display_data"
    },
    {
     "name": "stderr",
     "output_type": "stream",
     "text": [
      "/usr/local/python/3.12.1/lib/python3.12/site-packages/fbrefdata/fbref.py:940: FutureWarning: This search incorrectly ignores the root element, and will be fixed in a future version.  If you rely on the current behaviour, change it to \".//table[@id='stats_cd051869_summary']\"\n",
      "  html_table = tree.find(\"//table[@id='\" + id_format.format(home_team[\"id\"]) + \"']\")\n",
      "/usr/local/python/3.12.1/lib/python3.12/site-packages/fbrefdata/fbref.py:953: FutureWarning: This search incorrectly ignores the root element, and will be fixed in a future version.  If you rely on the current behaviour, change it to \".//table[@id='stats_d3fd31cc_summary']\"\n",
      "  html_table = tree.find(\"//table[@id='\" + id_format.format(away_team[\"id\"]) + \"']\")\n"
     ]
    },
    {
     "data": {
      "text/html": [
       "<pre style=\"white-space:pre;overflow-x:auto;line-height:normal;font-family:Menlo,'DejaVu Sans Mono',consolas,'Courier New',monospace\"><span style=\"color: #7fbfbf; text-decoration-color: #7fbfbf\">[08/29/24 07:51:37] </span><span style=\"color: #000080; text-decoration-color: #000080\">INFO    </span> <span style=\"font-weight: bold\">[</span><span style=\"color: #008080; text-decoration-color: #008080; font-weight: bold\">33</span>/<span style=\"color: #008080; text-decoration-color: #008080; font-weight: bold\">380</span><span style=\"font-weight: bold\">]</span> Retrieving game with <span style=\"color: #808000; text-decoration-color: #808000\">id</span>=<span style=\"color: #800080; text-decoration-color: #800080\">77c70160</span>                                 <a href=\"file:///usr/local/python/3.12.1/lib/python3.12/site-packages/fbrefdata/fbref.py\" target=\"_blank\"><span style=\"color: #7f7f7f; text-decoration-color: #7f7f7f\">fbref.py</span></a><span style=\"color: #7f7f7f; text-decoration-color: #7f7f7f\">:</span><a href=\"file:///usr/local/python/3.12.1/lib/python3.12/site-packages/fbrefdata/fbref.py#927\" target=\"_blank\"><span style=\"color: #7f7f7f; text-decoration-color: #7f7f7f\">927</span></a>\n",
       "</pre>\n"
      ],
      "text/plain": [
       "\u001b[2;36m[08/29/24 07:51:37]\u001b[0m\u001b[2;36m \u001b[0m\u001b[34mINFO    \u001b[0m \u001b[1m[\u001b[0m\u001b[1;36m33\u001b[0m/\u001b[1;36m380\u001b[0m\u001b[1m]\u001b[0m Retrieving game with \u001b[33mid\u001b[0m=\u001b[35m77c70160\u001b[0m                                 \u001b]8;id=412487;file:///usr/local/python/3.12.1/lib/python3.12/site-packages/fbrefdata/fbref.py\u001b\\\u001b[2mfbref.py\u001b[0m\u001b]8;;\u001b\\\u001b[2m:\u001b[0m\u001b]8;id=7629;file:///usr/local/python/3.12.1/lib/python3.12/site-packages/fbrefdata/fbref.py#927\u001b\\\u001b[2m927\u001b[0m\u001b]8;;\u001b\\\n"
      ]
     },
     "metadata": {},
     "output_type": "display_data"
    },
    {
     "name": "stderr",
     "output_type": "stream",
     "text": [
      "/usr/local/python/3.12.1/lib/python3.12/site-packages/fbrefdata/fbref.py:940: FutureWarning: This search incorrectly ignores the root element, and will be fixed in a future version.  If you rely on the current behaviour, change it to \".//table[@id='stats_d07537b9_summary']\"\n",
      "  html_table = tree.find(\"//table[@id='\" + id_format.format(home_team[\"id\"]) + \"']\")\n",
      "/usr/local/python/3.12.1/lib/python3.12/site-packages/fbrefdata/fbref.py:953: FutureWarning: This search incorrectly ignores the root element, and will be fixed in a future version.  If you rely on the current behaviour, change it to \".//table[@id='stats_5bfb9659_summary']\"\n",
      "  html_table = tree.find(\"//table[@id='\" + id_format.format(away_team[\"id\"]) + \"']\")\n"
     ]
    },
    {
     "data": {
      "text/html": [
       "<pre style=\"white-space:pre;overflow-x:auto;line-height:normal;font-family:Menlo,'DejaVu Sans Mono',consolas,'Courier New',monospace\"><span style=\"color: #7fbfbf; text-decoration-color: #7fbfbf\">[08/29/24 07:51:43] </span><span style=\"color: #000080; text-decoration-color: #000080\">INFO    </span> <span style=\"font-weight: bold\">[</span><span style=\"color: #008080; text-decoration-color: #008080; font-weight: bold\">34</span>/<span style=\"color: #008080; text-decoration-color: #008080; font-weight: bold\">380</span><span style=\"font-weight: bold\">]</span> Retrieving game with <span style=\"color: #808000; text-decoration-color: #808000\">id</span>=<span style=\"color: #800080; text-decoration-color: #800080\">b737a3a7</span>                                 <a href=\"file:///usr/local/python/3.12.1/lib/python3.12/site-packages/fbrefdata/fbref.py\" target=\"_blank\"><span style=\"color: #7f7f7f; text-decoration-color: #7f7f7f\">fbref.py</span></a><span style=\"color: #7f7f7f; text-decoration-color: #7f7f7f\">:</span><a href=\"file:///usr/local/python/3.12.1/lib/python3.12/site-packages/fbrefdata/fbref.py#927\" target=\"_blank\"><span style=\"color: #7f7f7f; text-decoration-color: #7f7f7f\">927</span></a>\n",
       "</pre>\n"
      ],
      "text/plain": [
       "\u001b[2;36m[08/29/24 07:51:43]\u001b[0m\u001b[2;36m \u001b[0m\u001b[34mINFO    \u001b[0m \u001b[1m[\u001b[0m\u001b[1;36m34\u001b[0m/\u001b[1;36m380\u001b[0m\u001b[1m]\u001b[0m Retrieving game with \u001b[33mid\u001b[0m=\u001b[35mb737a3a7\u001b[0m                                 \u001b]8;id=247525;file:///usr/local/python/3.12.1/lib/python3.12/site-packages/fbrefdata/fbref.py\u001b\\\u001b[2mfbref.py\u001b[0m\u001b]8;;\u001b\\\u001b[2m:\u001b[0m\u001b]8;id=503583;file:///usr/local/python/3.12.1/lib/python3.12/site-packages/fbrefdata/fbref.py#927\u001b\\\u001b[2m927\u001b[0m\u001b]8;;\u001b\\\n"
      ]
     },
     "metadata": {},
     "output_type": "display_data"
    },
    {
     "name": "stderr",
     "output_type": "stream",
     "text": [
      "/usr/local/python/3.12.1/lib/python3.12/site-packages/fbrefdata/fbref.py:940: FutureWarning: This search incorrectly ignores the root element, and will be fixed in a future version.  If you rely on the current behaviour, change it to \".//table[@id='stats_cff3d9bb_summary']\"\n",
      "  html_table = tree.find(\"//table[@id='\" + id_format.format(home_team[\"id\"]) + \"']\")\n",
      "/usr/local/python/3.12.1/lib/python3.12/site-packages/fbrefdata/fbref.py:953: FutureWarning: This search incorrectly ignores the root element, and will be fixed in a future version.  If you rely on the current behaviour, change it to \".//table[@id='stats_a2d435b3_summary']\"\n",
      "  html_table = tree.find(\"//table[@id='\" + id_format.format(away_team[\"id\"]) + \"']\")\n"
     ]
    },
    {
     "data": {
      "text/html": [
       "<pre style=\"white-space:pre;overflow-x:auto;line-height:normal;font-family:Menlo,'DejaVu Sans Mono',consolas,'Courier New',monospace\"><span style=\"color: #7fbfbf; text-decoration-color: #7fbfbf\">[08/29/24 07:51:50] </span><span style=\"color: #000080; text-decoration-color: #000080\">INFO    </span> <span style=\"font-weight: bold\">[</span><span style=\"color: #008080; text-decoration-color: #008080; font-weight: bold\">35</span>/<span style=\"color: #008080; text-decoration-color: #008080; font-weight: bold\">380</span><span style=\"font-weight: bold\">]</span> Retrieving game with <span style=\"color: #808000; text-decoration-color: #808000\">id</span>=<span style=\"color: #800080; text-decoration-color: #800080\">de515487</span>                                 <a href=\"file:///usr/local/python/3.12.1/lib/python3.12/site-packages/fbrefdata/fbref.py\" target=\"_blank\"><span style=\"color: #7f7f7f; text-decoration-color: #7f7f7f\">fbref.py</span></a><span style=\"color: #7f7f7f; text-decoration-color: #7f7f7f\">:</span><a href=\"file:///usr/local/python/3.12.1/lib/python3.12/site-packages/fbrefdata/fbref.py#927\" target=\"_blank\"><span style=\"color: #7f7f7f; text-decoration-color: #7f7f7f\">927</span></a>\n",
       "</pre>\n"
      ],
      "text/plain": [
       "\u001b[2;36m[08/29/24 07:51:50]\u001b[0m\u001b[2;36m \u001b[0m\u001b[34mINFO    \u001b[0m \u001b[1m[\u001b[0m\u001b[1;36m35\u001b[0m/\u001b[1;36m380\u001b[0m\u001b[1m]\u001b[0m Retrieving game with \u001b[33mid\u001b[0m=\u001b[35mde515487\u001b[0m                                 \u001b]8;id=466848;file:///usr/local/python/3.12.1/lib/python3.12/site-packages/fbrefdata/fbref.py\u001b\\\u001b[2mfbref.py\u001b[0m\u001b]8;;\u001b\\\u001b[2m:\u001b[0m\u001b]8;id=755495;file:///usr/local/python/3.12.1/lib/python3.12/site-packages/fbrefdata/fbref.py#927\u001b\\\u001b[2m927\u001b[0m\u001b]8;;\u001b\\\n"
      ]
     },
     "metadata": {},
     "output_type": "display_data"
    },
    {
     "name": "stderr",
     "output_type": "stream",
     "text": [
      "/usr/local/python/3.12.1/lib/python3.12/site-packages/fbrefdata/fbref.py:940: FutureWarning: This search incorrectly ignores the root element, and will be fixed in a future version.  If you rely on the current behaviour, change it to \".//table[@id='stats_822bd0ba_summary']\"\n",
      "  html_table = tree.find(\"//table[@id='\" + id_format.format(home_team[\"id\"]) + \"']\")\n",
      "/usr/local/python/3.12.1/lib/python3.12/site-packages/fbrefdata/fbref.py:953: FutureWarning: This search incorrectly ignores the root element, and will be fixed in a future version.  If you rely on the current behaviour, change it to \".//table[@id='stats_4ba7cbea_summary']\"\n",
      "  html_table = tree.find(\"//table[@id='\" + id_format.format(away_team[\"id\"]) + \"']\")\n"
     ]
    },
    {
     "data": {
      "text/html": [
       "<pre style=\"white-space:pre;overflow-x:auto;line-height:normal;font-family:Menlo,'DejaVu Sans Mono',consolas,'Courier New',monospace\"><span style=\"color: #7fbfbf; text-decoration-color: #7fbfbf\">[08/29/24 07:51:56] </span><span style=\"color: #000080; text-decoration-color: #000080\">INFO    </span> <span style=\"font-weight: bold\">[</span><span style=\"color: #008080; text-decoration-color: #008080; font-weight: bold\">36</span>/<span style=\"color: #008080; text-decoration-color: #008080; font-weight: bold\">380</span><span style=\"font-weight: bold\">]</span> Retrieving game with <span style=\"color: #808000; text-decoration-color: #808000\">id</span>=<span style=\"color: #800080; text-decoration-color: #800080\">3b9bbac7</span>                                 <a href=\"file:///usr/local/python/3.12.1/lib/python3.12/site-packages/fbrefdata/fbref.py\" target=\"_blank\"><span style=\"color: #7f7f7f; text-decoration-color: #7f7f7f\">fbref.py</span></a><span style=\"color: #7f7f7f; text-decoration-color: #7f7f7f\">:</span><a href=\"file:///usr/local/python/3.12.1/lib/python3.12/site-packages/fbrefdata/fbref.py#927\" target=\"_blank\"><span style=\"color: #7f7f7f; text-decoration-color: #7f7f7f\">927</span></a>\n",
       "</pre>\n"
      ],
      "text/plain": [
       "\u001b[2;36m[08/29/24 07:51:56]\u001b[0m\u001b[2;36m \u001b[0m\u001b[34mINFO    \u001b[0m \u001b[1m[\u001b[0m\u001b[1;36m36\u001b[0m/\u001b[1;36m380\u001b[0m\u001b[1m]\u001b[0m Retrieving game with \u001b[33mid\u001b[0m=\u001b[35m3b9bbac7\u001b[0m                                 \u001b]8;id=536908;file:///usr/local/python/3.12.1/lib/python3.12/site-packages/fbrefdata/fbref.py\u001b\\\u001b[2mfbref.py\u001b[0m\u001b]8;;\u001b\\\u001b[2m:\u001b[0m\u001b]8;id=966791;file:///usr/local/python/3.12.1/lib/python3.12/site-packages/fbrefdata/fbref.py#927\u001b\\\u001b[2m927\u001b[0m\u001b]8;;\u001b\\\n"
      ]
     },
     "metadata": {},
     "output_type": "display_data"
    },
    {
     "name": "stderr",
     "output_type": "stream",
     "text": [
      "/usr/local/python/3.12.1/lib/python3.12/site-packages/fbrefdata/fbref.py:940: FutureWarning: This search incorrectly ignores the root element, and will be fixed in a future version.  If you rely on the current behaviour, change it to \".//table[@id='stats_b8fd03ef_summary']\"\n",
      "  html_table = tree.find(\"//table[@id='\" + id_format.format(home_team[\"id\"]) + \"']\")\n",
      "/usr/local/python/3.12.1/lib/python3.12/site-packages/fbrefdata/fbref.py:953: FutureWarning: This search incorrectly ignores the root element, and will be fixed in a future version.  If you rely on the current behaviour, change it to \".//table[@id='stats_47c64c55_summary']\"\n",
      "  html_table = tree.find(\"//table[@id='\" + id_format.format(away_team[\"id\"]) + \"']\")\n"
     ]
    },
    {
     "data": {
      "text/html": [
       "<pre style=\"white-space:pre;overflow-x:auto;line-height:normal;font-family:Menlo,'DejaVu Sans Mono',consolas,'Courier New',monospace\"><span style=\"color: #7fbfbf; text-decoration-color: #7fbfbf\">[08/29/24 07:52:03] </span><span style=\"color: #000080; text-decoration-color: #000080\">INFO    </span> <span style=\"font-weight: bold\">[</span><span style=\"color: #008080; text-decoration-color: #008080; font-weight: bold\">37</span>/<span style=\"color: #008080; text-decoration-color: #008080; font-weight: bold\">380</span><span style=\"font-weight: bold\">]</span> Retrieving game with <span style=\"color: #808000; text-decoration-color: #808000\">id</span>=<span style=\"color: #800080; text-decoration-color: #800080\">dff99b20</span>                                 <a href=\"file:///usr/local/python/3.12.1/lib/python3.12/site-packages/fbrefdata/fbref.py\" target=\"_blank\"><span style=\"color: #7f7f7f; text-decoration-color: #7f7f7f\">fbref.py</span></a><span style=\"color: #7f7f7f; text-decoration-color: #7f7f7f\">:</span><a href=\"file:///usr/local/python/3.12.1/lib/python3.12/site-packages/fbrefdata/fbref.py#927\" target=\"_blank\"><span style=\"color: #7f7f7f; text-decoration-color: #7f7f7f\">927</span></a>\n",
       "</pre>\n"
      ],
      "text/plain": [
       "\u001b[2;36m[08/29/24 07:52:03]\u001b[0m\u001b[2;36m \u001b[0m\u001b[34mINFO    \u001b[0m \u001b[1m[\u001b[0m\u001b[1;36m37\u001b[0m/\u001b[1;36m380\u001b[0m\u001b[1m]\u001b[0m Retrieving game with \u001b[33mid\u001b[0m=\u001b[35mdff99b20\u001b[0m                                 \u001b]8;id=148154;file:///usr/local/python/3.12.1/lib/python3.12/site-packages/fbrefdata/fbref.py\u001b\\\u001b[2mfbref.py\u001b[0m\u001b]8;;\u001b\\\u001b[2m:\u001b[0m\u001b]8;id=546567;file:///usr/local/python/3.12.1/lib/python3.12/site-packages/fbrefdata/fbref.py#927\u001b\\\u001b[2m927\u001b[0m\u001b]8;;\u001b\\\n"
      ]
     },
     "metadata": {},
     "output_type": "display_data"
    },
    {
     "name": "stderr",
     "output_type": "stream",
     "text": [
      "/usr/local/python/3.12.1/lib/python3.12/site-packages/fbrefdata/fbref.py:940: FutureWarning: This search incorrectly ignores the root element, and will be fixed in a future version.  If you rely on the current behaviour, change it to \".//table[@id='stats_33c895d4_summary']\"\n",
      "  html_table = tree.find(\"//table[@id='\" + id_format.format(home_team[\"id\"]) + \"']\")\n",
      "/usr/local/python/3.12.1/lib/python3.12/site-packages/fbrefdata/fbref.py:953: FutureWarning: This search incorrectly ignores the root element, and will be fixed in a future version.  If you rely on the current behaviour, change it to \".//table[@id='stats_19538871_summary']\"\n",
      "  html_table = tree.find(\"//table[@id='\" + id_format.format(away_team[\"id\"]) + \"']\")\n"
     ]
    },
    {
     "data": {
      "text/html": [
       "<pre style=\"white-space:pre;overflow-x:auto;line-height:normal;font-family:Menlo,'DejaVu Sans Mono',consolas,'Courier New',monospace\"><span style=\"color: #7fbfbf; text-decoration-color: #7fbfbf\">[08/29/24 07:52:09] </span><span style=\"color: #000080; text-decoration-color: #000080\">INFO    </span> <span style=\"font-weight: bold\">[</span><span style=\"color: #008080; text-decoration-color: #008080; font-weight: bold\">38</span>/<span style=\"color: #008080; text-decoration-color: #008080; font-weight: bold\">380</span><span style=\"font-weight: bold\">]</span> Retrieving game with <span style=\"color: #808000; text-decoration-color: #808000\">id</span>=<span style=\"color: #800080; text-decoration-color: #800080\">659b9113</span>                                 <a href=\"file:///usr/local/python/3.12.1/lib/python3.12/site-packages/fbrefdata/fbref.py\" target=\"_blank\"><span style=\"color: #7f7f7f; text-decoration-color: #7f7f7f\">fbref.py</span></a><span style=\"color: #7f7f7f; text-decoration-color: #7f7f7f\">:</span><a href=\"file:///usr/local/python/3.12.1/lib/python3.12/site-packages/fbrefdata/fbref.py#927\" target=\"_blank\"><span style=\"color: #7f7f7f; text-decoration-color: #7f7f7f\">927</span></a>\n",
       "</pre>\n"
      ],
      "text/plain": [
       "\u001b[2;36m[08/29/24 07:52:09]\u001b[0m\u001b[2;36m \u001b[0m\u001b[34mINFO    \u001b[0m \u001b[1m[\u001b[0m\u001b[1;36m38\u001b[0m/\u001b[1;36m380\u001b[0m\u001b[1m]\u001b[0m Retrieving game with \u001b[33mid\u001b[0m=\u001b[35m659b9113\u001b[0m                                 \u001b]8;id=584340;file:///usr/local/python/3.12.1/lib/python3.12/site-packages/fbrefdata/fbref.py\u001b\\\u001b[2mfbref.py\u001b[0m\u001b]8;;\u001b\\\u001b[2m:\u001b[0m\u001b]8;id=328505;file:///usr/local/python/3.12.1/lib/python3.12/site-packages/fbrefdata/fbref.py#927\u001b\\\u001b[2m927\u001b[0m\u001b]8;;\u001b\\\n"
      ]
     },
     "metadata": {},
     "output_type": "display_data"
    },
    {
     "name": "stderr",
     "output_type": "stream",
     "text": [
      "/usr/local/python/3.12.1/lib/python3.12/site-packages/fbrefdata/fbref.py:940: FutureWarning: This search incorrectly ignores the root element, and will be fixed in a future version.  If you rely on the current behaviour, change it to \".//table[@id='stats_8602292d_summary']\"\n",
      "  html_table = tree.find(\"//table[@id='\" + id_format.format(home_team[\"id\"]) + \"']\")\n",
      "/usr/local/python/3.12.1/lib/python3.12/site-packages/fbrefdata/fbref.py:953: FutureWarning: This search incorrectly ignores the root element, and will be fixed in a future version.  If you rely on the current behaviour, change it to \".//table[@id='stats_7c21e445_summary']\"\n",
      "  html_table = tree.find(\"//table[@id='\" + id_format.format(away_team[\"id\"]) + \"']\")\n"
     ]
    },
    {
     "data": {
      "text/html": [
       "<pre style=\"white-space:pre;overflow-x:auto;line-height:normal;font-family:Menlo,'DejaVu Sans Mono',consolas,'Courier New',monospace\"><span style=\"color: #7fbfbf; text-decoration-color: #7fbfbf\">[08/29/24 07:52:16] </span><span style=\"color: #000080; text-decoration-color: #000080\">INFO    </span> <span style=\"font-weight: bold\">[</span><span style=\"color: #008080; text-decoration-color: #008080; font-weight: bold\">39</span>/<span style=\"color: #008080; text-decoration-color: #008080; font-weight: bold\">380</span><span style=\"font-weight: bold\">]</span> Retrieving game with <span style=\"color: #808000; text-decoration-color: #808000\">id</span>=<span style=\"color: #800080; text-decoration-color: #800080\">3c364307</span>                                 <a href=\"file:///usr/local/python/3.12.1/lib/python3.12/site-packages/fbrefdata/fbref.py\" target=\"_blank\"><span style=\"color: #7f7f7f; text-decoration-color: #7f7f7f\">fbref.py</span></a><span style=\"color: #7f7f7f; text-decoration-color: #7f7f7f\">:</span><a href=\"file:///usr/local/python/3.12.1/lib/python3.12/site-packages/fbrefdata/fbref.py#927\" target=\"_blank\"><span style=\"color: #7f7f7f; text-decoration-color: #7f7f7f\">927</span></a>\n",
       "</pre>\n"
      ],
      "text/plain": [
       "\u001b[2;36m[08/29/24 07:52:16]\u001b[0m\u001b[2;36m \u001b[0m\u001b[34mINFO    \u001b[0m \u001b[1m[\u001b[0m\u001b[1;36m39\u001b[0m/\u001b[1;36m380\u001b[0m\u001b[1m]\u001b[0m Retrieving game with \u001b[33mid\u001b[0m=\u001b[35m3c364307\u001b[0m                                 \u001b]8;id=710663;file:///usr/local/python/3.12.1/lib/python3.12/site-packages/fbrefdata/fbref.py\u001b\\\u001b[2mfbref.py\u001b[0m\u001b]8;;\u001b\\\u001b[2m:\u001b[0m\u001b]8;id=275388;file:///usr/local/python/3.12.1/lib/python3.12/site-packages/fbrefdata/fbref.py#927\u001b\\\u001b[2m927\u001b[0m\u001b]8;;\u001b\\\n"
      ]
     },
     "metadata": {},
     "output_type": "display_data"
    },
    {
     "name": "stderr",
     "output_type": "stream",
     "text": [
      "/usr/local/python/3.12.1/lib/python3.12/site-packages/fbrefdata/fbref.py:940: FutureWarning: This search incorrectly ignores the root element, and will be fixed in a future version.  If you rely on the current behaviour, change it to \".//table[@id='stats_e4a775cb_summary']\"\n",
      "  html_table = tree.find(\"//table[@id='\" + id_format.format(home_team[\"id\"]) + \"']\")\n",
      "/usr/local/python/3.12.1/lib/python3.12/site-packages/fbrefdata/fbref.py:953: FutureWarning: This search incorrectly ignores the root element, and will be fixed in a future version.  If you rely on the current behaviour, change it to \".//table[@id='stats_361ca564_summary']\"\n",
      "  html_table = tree.find(\"//table[@id='\" + id_format.format(away_team[\"id\"]) + \"']\")\n"
     ]
    },
    {
     "data": {
      "text/html": [
       "<pre style=\"white-space:pre;overflow-x:auto;line-height:normal;font-family:Menlo,'DejaVu Sans Mono',consolas,'Courier New',monospace\"><span style=\"color: #7fbfbf; text-decoration-color: #7fbfbf\">[08/29/24 07:52:23] </span><span style=\"color: #000080; text-decoration-color: #000080\">INFO    </span> <span style=\"font-weight: bold\">[</span><span style=\"color: #008080; text-decoration-color: #008080; font-weight: bold\">40</span>/<span style=\"color: #008080; text-decoration-color: #008080; font-weight: bold\">380</span><span style=\"font-weight: bold\">]</span> Retrieving game with <span style=\"color: #808000; text-decoration-color: #808000\">id</span>=<span style=\"color: #800080; text-decoration-color: #800080\">15d62d04</span>                                 <a href=\"file:///usr/local/python/3.12.1/lib/python3.12/site-packages/fbrefdata/fbref.py\" target=\"_blank\"><span style=\"color: #7f7f7f; text-decoration-color: #7f7f7f\">fbref.py</span></a><span style=\"color: #7f7f7f; text-decoration-color: #7f7f7f\">:</span><a href=\"file:///usr/local/python/3.12.1/lib/python3.12/site-packages/fbrefdata/fbref.py#927\" target=\"_blank\"><span style=\"color: #7f7f7f; text-decoration-color: #7f7f7f\">927</span></a>\n",
       "</pre>\n"
      ],
      "text/plain": [
       "\u001b[2;36m[08/29/24 07:52:23]\u001b[0m\u001b[2;36m \u001b[0m\u001b[34mINFO    \u001b[0m \u001b[1m[\u001b[0m\u001b[1;36m40\u001b[0m/\u001b[1;36m380\u001b[0m\u001b[1m]\u001b[0m Retrieving game with \u001b[33mid\u001b[0m=\u001b[35m15d62d04\u001b[0m                                 \u001b]8;id=546588;file:///usr/local/python/3.12.1/lib/python3.12/site-packages/fbrefdata/fbref.py\u001b\\\u001b[2mfbref.py\u001b[0m\u001b]8;;\u001b\\\u001b[2m:\u001b[0m\u001b]8;id=176348;file:///usr/local/python/3.12.1/lib/python3.12/site-packages/fbrefdata/fbref.py#927\u001b\\\u001b[2m927\u001b[0m\u001b]8;;\u001b\\\n"
      ]
     },
     "metadata": {},
     "output_type": "display_data"
    },
    {
     "name": "stderr",
     "output_type": "stream",
     "text": [
      "/usr/local/python/3.12.1/lib/python3.12/site-packages/fbrefdata/fbref.py:940: FutureWarning: This search incorrectly ignores the root element, and will be fixed in a future version.  If you rely on the current behaviour, change it to \".//table[@id='stats_8cec06e1_summary']\"\n",
      "  html_table = tree.find(\"//table[@id='\" + id_format.format(home_team[\"id\"]) + \"']\")\n",
      "/usr/local/python/3.12.1/lib/python3.12/site-packages/fbrefdata/fbref.py:953: FutureWarning: This search incorrectly ignores the root element, and will be fixed in a future version.  If you rely on the current behaviour, change it to \".//table[@id='stats_b2b47a98_summary']\"\n",
      "  html_table = tree.find(\"//table[@id='\" + id_format.format(away_team[\"id\"]) + \"']\")\n"
     ]
    },
    {
     "data": {
      "text/html": [
       "<pre style=\"white-space:pre;overflow-x:auto;line-height:normal;font-family:Menlo,'DejaVu Sans Mono',consolas,'Courier New',monospace\"><span style=\"color: #7fbfbf; text-decoration-color: #7fbfbf\">[08/29/24 07:52:29] </span><span style=\"color: #000080; text-decoration-color: #000080\">INFO    </span> <span style=\"font-weight: bold\">[</span><span style=\"color: #008080; text-decoration-color: #008080; font-weight: bold\">41</span>/<span style=\"color: #008080; text-decoration-color: #008080; font-weight: bold\">380</span><span style=\"font-weight: bold\">]</span> Retrieving game with <span style=\"color: #808000; text-decoration-color: #808000\">id</span>=<span style=\"color: #800080; text-decoration-color: #800080\">e1d6440f</span>                                 <a href=\"file:///usr/local/python/3.12.1/lib/python3.12/site-packages/fbrefdata/fbref.py\" target=\"_blank\"><span style=\"color: #7f7f7f; text-decoration-color: #7f7f7f\">fbref.py</span></a><span style=\"color: #7f7f7f; text-decoration-color: #7f7f7f\">:</span><a href=\"file:///usr/local/python/3.12.1/lib/python3.12/site-packages/fbrefdata/fbref.py#927\" target=\"_blank\"><span style=\"color: #7f7f7f; text-decoration-color: #7f7f7f\">927</span></a>\n",
       "</pre>\n"
      ],
      "text/plain": [
       "\u001b[2;36m[08/29/24 07:52:29]\u001b[0m\u001b[2;36m \u001b[0m\u001b[34mINFO    \u001b[0m \u001b[1m[\u001b[0m\u001b[1;36m41\u001b[0m/\u001b[1;36m380\u001b[0m\u001b[1m]\u001b[0m Retrieving game with \u001b[33mid\u001b[0m=\u001b[35me1d6440f\u001b[0m                                 \u001b]8;id=841579;file:///usr/local/python/3.12.1/lib/python3.12/site-packages/fbrefdata/fbref.py\u001b\\\u001b[2mfbref.py\u001b[0m\u001b]8;;\u001b\\\u001b[2m:\u001b[0m\u001b]8;id=278854;file:///usr/local/python/3.12.1/lib/python3.12/site-packages/fbrefdata/fbref.py#927\u001b\\\u001b[2m927\u001b[0m\u001b]8;;\u001b\\\n"
      ]
     },
     "metadata": {},
     "output_type": "display_data"
    },
    {
     "name": "stderr",
     "output_type": "stream",
     "text": [
      "/usr/local/python/3.12.1/lib/python3.12/site-packages/fbrefdata/fbref.py:940: FutureWarning: This search incorrectly ignores the root element, and will be fixed in a future version.  If you rely on the current behaviour, change it to \".//table[@id='stats_47c64c55_summary']\"\n",
      "  html_table = tree.find(\"//table[@id='\" + id_format.format(home_team[\"id\"]) + \"']\")\n",
      "/usr/local/python/3.12.1/lib/python3.12/site-packages/fbrefdata/fbref.py:953: FutureWarning: This search incorrectly ignores the root element, and will be fixed in a future version.  If you rely on the current behaviour, change it to \".//table[@id='stats_cd051869_summary']\"\n",
      "  html_table = tree.find(\"//table[@id='\" + id_format.format(away_team[\"id\"]) + \"']\")\n"
     ]
    },
    {
     "data": {
      "text/html": [
       "<pre style=\"white-space:pre;overflow-x:auto;line-height:normal;font-family:Menlo,'DejaVu Sans Mono',consolas,'Courier New',monospace\"><span style=\"color: #7fbfbf; text-decoration-color: #7fbfbf\">[08/29/24 07:52:35] </span><span style=\"color: #000080; text-decoration-color: #000080\">INFO    </span> <span style=\"font-weight: bold\">[</span><span style=\"color: #008080; text-decoration-color: #008080; font-weight: bold\">42</span>/<span style=\"color: #008080; text-decoration-color: #008080; font-weight: bold\">380</span><span style=\"font-weight: bold\">]</span> Retrieving game with <span style=\"color: #808000; text-decoration-color: #808000\">id</span>=<span style=\"color: #800080; text-decoration-color: #800080\">361f4461</span>                                 <a href=\"file:///usr/local/python/3.12.1/lib/python3.12/site-packages/fbrefdata/fbref.py\" target=\"_blank\"><span style=\"color: #7f7f7f; text-decoration-color: #7f7f7f\">fbref.py</span></a><span style=\"color: #7f7f7f; text-decoration-color: #7f7f7f\">:</span><a href=\"file:///usr/local/python/3.12.1/lib/python3.12/site-packages/fbrefdata/fbref.py#927\" target=\"_blank\"><span style=\"color: #7f7f7f; text-decoration-color: #7f7f7f\">927</span></a>\n",
       "</pre>\n"
      ],
      "text/plain": [
       "\u001b[2;36m[08/29/24 07:52:35]\u001b[0m\u001b[2;36m \u001b[0m\u001b[34mINFO    \u001b[0m \u001b[1m[\u001b[0m\u001b[1;36m42\u001b[0m/\u001b[1;36m380\u001b[0m\u001b[1m]\u001b[0m Retrieving game with \u001b[33mid\u001b[0m=\u001b[35m361f4461\u001b[0m                                 \u001b]8;id=592062;file:///usr/local/python/3.12.1/lib/python3.12/site-packages/fbrefdata/fbref.py\u001b\\\u001b[2mfbref.py\u001b[0m\u001b]8;;\u001b\\\u001b[2m:\u001b[0m\u001b]8;id=999445;file:///usr/local/python/3.12.1/lib/python3.12/site-packages/fbrefdata/fbref.py#927\u001b\\\u001b[2m927\u001b[0m\u001b]8;;\u001b\\\n"
      ]
     },
     "metadata": {},
     "output_type": "display_data"
    },
    {
     "name": "stderr",
     "output_type": "stream",
     "text": [
      "/usr/local/python/3.12.1/lib/python3.12/site-packages/fbrefdata/fbref.py:940: FutureWarning: This search incorrectly ignores the root element, and will be fixed in a future version.  If you rely on the current behaviour, change it to \".//table[@id='stats_fd962109_summary']\"\n",
      "  html_table = tree.find(\"//table[@id='\" + id_format.format(home_team[\"id\"]) + \"']\")\n",
      "/usr/local/python/3.12.1/lib/python3.12/site-packages/fbrefdata/fbref.py:953: FutureWarning: This search incorrectly ignores the root element, and will be fixed in a future version.  If you rely on the current behaviour, change it to \".//table[@id='stats_d07537b9_summary']\"\n",
      "  html_table = tree.find(\"//table[@id='\" + id_format.format(away_team[\"id\"]) + \"']\")\n"
     ]
    },
    {
     "data": {
      "text/html": [
       "<pre style=\"white-space:pre;overflow-x:auto;line-height:normal;font-family:Menlo,'DejaVu Sans Mono',consolas,'Courier New',monospace\"><span style=\"color: #7fbfbf; text-decoration-color: #7fbfbf\">[08/29/24 07:52:42] </span><span style=\"color: #000080; text-decoration-color: #000080\">INFO    </span> <span style=\"font-weight: bold\">[</span><span style=\"color: #008080; text-decoration-color: #008080; font-weight: bold\">43</span>/<span style=\"color: #008080; text-decoration-color: #008080; font-weight: bold\">380</span><span style=\"font-weight: bold\">]</span> Retrieving game with <span style=\"color: #808000; text-decoration-color: #808000\">id</span>=<span style=\"color: #800080; text-decoration-color: #800080\">42d294e5</span>                                 <a href=\"file:///usr/local/python/3.12.1/lib/python3.12/site-packages/fbrefdata/fbref.py\" target=\"_blank\"><span style=\"color: #7f7f7f; text-decoration-color: #7f7f7f\">fbref.py</span></a><span style=\"color: #7f7f7f; text-decoration-color: #7f7f7f\">:</span><a href=\"file:///usr/local/python/3.12.1/lib/python3.12/site-packages/fbrefdata/fbref.py#927\" target=\"_blank\"><span style=\"color: #7f7f7f; text-decoration-color: #7f7f7f\">927</span></a>\n",
       "</pre>\n"
      ],
      "text/plain": [
       "\u001b[2;36m[08/29/24 07:52:42]\u001b[0m\u001b[2;36m \u001b[0m\u001b[34mINFO    \u001b[0m \u001b[1m[\u001b[0m\u001b[1;36m43\u001b[0m/\u001b[1;36m380\u001b[0m\u001b[1m]\u001b[0m Retrieving game with \u001b[33mid\u001b[0m=\u001b[35m42d294e5\u001b[0m                                 \u001b]8;id=169302;file:///usr/local/python/3.12.1/lib/python3.12/site-packages/fbrefdata/fbref.py\u001b\\\u001b[2mfbref.py\u001b[0m\u001b]8;;\u001b\\\u001b[2m:\u001b[0m\u001b]8;id=493415;file:///usr/local/python/3.12.1/lib/python3.12/site-packages/fbrefdata/fbref.py#927\u001b\\\u001b[2m927\u001b[0m\u001b]8;;\u001b\\\n"
      ]
     },
     "metadata": {},
     "output_type": "display_data"
    },
    {
     "name": "stderr",
     "output_type": "stream",
     "text": [
      "/usr/local/python/3.12.1/lib/python3.12/site-packages/fbrefdata/fbref.py:940: FutureWarning: This search incorrectly ignores the root element, and will be fixed in a future version.  If you rely on the current behaviour, change it to \".//table[@id='stats_5bfb9659_summary']\"\n",
      "  html_table = tree.find(\"//table[@id='\" + id_format.format(home_team[\"id\"]) + \"']\")\n",
      "/usr/local/python/3.12.1/lib/python3.12/site-packages/fbrefdata/fbref.py:953: FutureWarning: This search incorrectly ignores the root element, and will be fixed in a future version.  If you rely on the current behaviour, change it to \".//table[@id='stats_d3fd31cc_summary']\"\n",
      "  html_table = tree.find(\"//table[@id='\" + id_format.format(away_team[\"id\"]) + \"']\")\n"
     ]
    },
    {
     "data": {
      "text/html": [
       "<pre style=\"white-space:pre;overflow-x:auto;line-height:normal;font-family:Menlo,'DejaVu Sans Mono',consolas,'Courier New',monospace\"><span style=\"color: #7fbfbf; text-decoration-color: #7fbfbf\">[08/29/24 07:52:48] </span><span style=\"color: #000080; text-decoration-color: #000080\">INFO    </span> <span style=\"font-weight: bold\">[</span><span style=\"color: #008080; text-decoration-color: #008080; font-weight: bold\">44</span>/<span style=\"color: #008080; text-decoration-color: #008080; font-weight: bold\">380</span><span style=\"font-weight: bold\">]</span> Retrieving game with <span style=\"color: #808000; text-decoration-color: #808000\">id</span>=<span style=\"color: #800080; text-decoration-color: #800080\">afd303a8</span>                                 <a href=\"file:///usr/local/python/3.12.1/lib/python3.12/site-packages/fbrefdata/fbref.py\" target=\"_blank\"><span style=\"color: #7f7f7f; text-decoration-color: #7f7f7f\">fbref.py</span></a><span style=\"color: #7f7f7f; text-decoration-color: #7f7f7f\">:</span><a href=\"file:///usr/local/python/3.12.1/lib/python3.12/site-packages/fbrefdata/fbref.py#927\" target=\"_blank\"><span style=\"color: #7f7f7f; text-decoration-color: #7f7f7f\">927</span></a>\n",
       "</pre>\n"
      ],
      "text/plain": [
       "\u001b[2;36m[08/29/24 07:52:48]\u001b[0m\u001b[2;36m \u001b[0m\u001b[34mINFO    \u001b[0m \u001b[1m[\u001b[0m\u001b[1;36m44\u001b[0m/\u001b[1;36m380\u001b[0m\u001b[1m]\u001b[0m Retrieving game with \u001b[33mid\u001b[0m=\u001b[35mafd303a8\u001b[0m                                 \u001b]8;id=469502;file:///usr/local/python/3.12.1/lib/python3.12/site-packages/fbrefdata/fbref.py\u001b\\\u001b[2mfbref.py\u001b[0m\u001b]8;;\u001b\\\u001b[2m:\u001b[0m\u001b]8;id=425310;file:///usr/local/python/3.12.1/lib/python3.12/site-packages/fbrefdata/fbref.py#927\u001b\\\u001b[2m927\u001b[0m\u001b]8;;\u001b\\\n"
      ]
     },
     "metadata": {},
     "output_type": "display_data"
    },
    {
     "name": "stderr",
     "output_type": "stream",
     "text": [
      "/usr/local/python/3.12.1/lib/python3.12/site-packages/fbrefdata/fbref.py:940: FutureWarning: This search incorrectly ignores the root element, and will be fixed in a future version.  If you rely on the current behaviour, change it to \".//table[@id='stats_33c895d4_summary']\"\n",
      "  html_table = tree.find(\"//table[@id='\" + id_format.format(home_team[\"id\"]) + \"']\")\n",
      "/usr/local/python/3.12.1/lib/python3.12/site-packages/fbrefdata/fbref.py:953: FutureWarning: This search incorrectly ignores the root element, and will be fixed in a future version.  If you rely on the current behaviour, change it to \".//table[@id='stats_cff3d9bb_summary']\"\n",
      "  html_table = tree.find(\"//table[@id='\" + id_format.format(away_team[\"id\"]) + \"']\")\n"
     ]
    },
    {
     "data": {
      "text/html": [
       "<pre style=\"white-space:pre;overflow-x:auto;line-height:normal;font-family:Menlo,'DejaVu Sans Mono',consolas,'Courier New',monospace\"><span style=\"color: #7fbfbf; text-decoration-color: #7fbfbf\">[08/29/24 07:52:54] </span><span style=\"color: #000080; text-decoration-color: #000080\">INFO    </span> <span style=\"font-weight: bold\">[</span><span style=\"color: #008080; text-decoration-color: #008080; font-weight: bold\">45</span>/<span style=\"color: #008080; text-decoration-color: #008080; font-weight: bold\">380</span><span style=\"font-weight: bold\">]</span> Retrieving game with <span style=\"color: #808000; text-decoration-color: #808000\">id</span>=<span style=\"color: #800080; text-decoration-color: #800080\">cc235aad</span>                                 <a href=\"file:///usr/local/python/3.12.1/lib/python3.12/site-packages/fbrefdata/fbref.py\" target=\"_blank\"><span style=\"color: #7f7f7f; text-decoration-color: #7f7f7f\">fbref.py</span></a><span style=\"color: #7f7f7f; text-decoration-color: #7f7f7f\">:</span><a href=\"file:///usr/local/python/3.12.1/lib/python3.12/site-packages/fbrefdata/fbref.py#927\" target=\"_blank\"><span style=\"color: #7f7f7f; text-decoration-color: #7f7f7f\">927</span></a>\n",
       "</pre>\n"
      ],
      "text/plain": [
       "\u001b[2;36m[08/29/24 07:52:54]\u001b[0m\u001b[2;36m \u001b[0m\u001b[34mINFO    \u001b[0m \u001b[1m[\u001b[0m\u001b[1;36m45\u001b[0m/\u001b[1;36m380\u001b[0m\u001b[1m]\u001b[0m Retrieving game with \u001b[33mid\u001b[0m=\u001b[35mcc235aad\u001b[0m                                 \u001b]8;id=863357;file:///usr/local/python/3.12.1/lib/python3.12/site-packages/fbrefdata/fbref.py\u001b\\\u001b[2mfbref.py\u001b[0m\u001b]8;;\u001b\\\u001b[2m:\u001b[0m\u001b]8;id=543007;file:///usr/local/python/3.12.1/lib/python3.12/site-packages/fbrefdata/fbref.py#927\u001b\\\u001b[2m927\u001b[0m\u001b]8;;\u001b\\\n"
      ]
     },
     "metadata": {},
     "output_type": "display_data"
    },
    {
     "name": "stderr",
     "output_type": "stream",
     "text": [
      "/usr/local/python/3.12.1/lib/python3.12/site-packages/fbrefdata/fbref.py:940: FutureWarning: This search incorrectly ignores the root element, and will be fixed in a future version.  If you rely on the current behaviour, change it to \".//table[@id='stats_18bb7c10_summary']\"\n",
      "  html_table = tree.find(\"//table[@id='\" + id_format.format(home_team[\"id\"]) + \"']\")\n",
      "/usr/local/python/3.12.1/lib/python3.12/site-packages/fbrefdata/fbref.py:953: FutureWarning: This search incorrectly ignores the root element, and will be fixed in a future version.  If you rely on the current behaviour, change it to \".//table[@id='stats_8602292d_summary']\"\n",
      "  html_table = tree.find(\"//table[@id='\" + id_format.format(away_team[\"id\"]) + \"']\")\n"
     ]
    },
    {
     "data": {
      "text/html": [
       "<pre style=\"white-space:pre;overflow-x:auto;line-height:normal;font-family:Menlo,'DejaVu Sans Mono',consolas,'Courier New',monospace\"><span style=\"color: #7fbfbf; text-decoration-color: #7fbfbf\">[08/29/24 07:53:01] </span><span style=\"color: #000080; text-decoration-color: #000080\">INFO    </span> <span style=\"font-weight: bold\">[</span><span style=\"color: #008080; text-decoration-color: #008080; font-weight: bold\">46</span>/<span style=\"color: #008080; text-decoration-color: #008080; font-weight: bold\">380</span><span style=\"font-weight: bold\">]</span> Retrieving game with <span style=\"color: #808000; text-decoration-color: #808000\">id</span>=<span style=\"color: #800080; text-decoration-color: #800080\">91b239d8</span>                                 <a href=\"file:///usr/local/python/3.12.1/lib/python3.12/site-packages/fbrefdata/fbref.py\" target=\"_blank\"><span style=\"color: #7f7f7f; text-decoration-color: #7f7f7f\">fbref.py</span></a><span style=\"color: #7f7f7f; text-decoration-color: #7f7f7f\">:</span><a href=\"file:///usr/local/python/3.12.1/lib/python3.12/site-packages/fbrefdata/fbref.py#927\" target=\"_blank\"><span style=\"color: #7f7f7f; text-decoration-color: #7f7f7f\">927</span></a>\n",
       "</pre>\n"
      ],
      "text/plain": [
       "\u001b[2;36m[08/29/24 07:53:01]\u001b[0m\u001b[2;36m \u001b[0m\u001b[34mINFO    \u001b[0m \u001b[1m[\u001b[0m\u001b[1;36m46\u001b[0m/\u001b[1;36m380\u001b[0m\u001b[1m]\u001b[0m Retrieving game with \u001b[33mid\u001b[0m=\u001b[35m91b239d8\u001b[0m                                 \u001b]8;id=82927;file:///usr/local/python/3.12.1/lib/python3.12/site-packages/fbrefdata/fbref.py\u001b\\\u001b[2mfbref.py\u001b[0m\u001b]8;;\u001b\\\u001b[2m:\u001b[0m\u001b]8;id=493596;file:///usr/local/python/3.12.1/lib/python3.12/site-packages/fbrefdata/fbref.py#927\u001b\\\u001b[2m927\u001b[0m\u001b]8;;\u001b\\\n"
      ]
     },
     "metadata": {},
     "output_type": "display_data"
    },
    {
     "name": "stderr",
     "output_type": "stream",
     "text": [
      "/usr/local/python/3.12.1/lib/python3.12/site-packages/fbrefdata/fbref.py:940: FutureWarning: This search incorrectly ignores the root element, and will be fixed in a future version.  If you rely on the current behaviour, change it to \".//table[@id='stats_4ba7cbea_summary']\"\n",
      "  html_table = tree.find(\"//table[@id='\" + id_format.format(home_team[\"id\"]) + \"']\")\n",
      "/usr/local/python/3.12.1/lib/python3.12/site-packages/fbrefdata/fbref.py:953: FutureWarning: This search incorrectly ignores the root element, and will be fixed in a future version.  If you rely on the current behaviour, change it to \".//table[@id='stats_8cec06e1_summary']\"\n",
      "  html_table = tree.find(\"//table[@id='\" + id_format.format(away_team[\"id\"]) + \"']\")\n"
     ]
    },
    {
     "data": {
      "text/html": [
       "<pre style=\"white-space:pre;overflow-x:auto;line-height:normal;font-family:Menlo,'DejaVu Sans Mono',consolas,'Courier New',monospace\"><span style=\"color: #7fbfbf; text-decoration-color: #7fbfbf\">[08/29/24 07:53:07] </span><span style=\"color: #000080; text-decoration-color: #000080\">INFO    </span> <span style=\"font-weight: bold\">[</span><span style=\"color: #008080; text-decoration-color: #008080; font-weight: bold\">47</span>/<span style=\"color: #008080; text-decoration-color: #008080; font-weight: bold\">380</span><span style=\"font-weight: bold\">]</span> Retrieving game with <span style=\"color: #808000; text-decoration-color: #808000\">id</span>=<span style=\"color: #800080; text-decoration-color: #800080\">ac6047cf</span>                                 <a href=\"file:///usr/local/python/3.12.1/lib/python3.12/site-packages/fbrefdata/fbref.py\" target=\"_blank\"><span style=\"color: #7f7f7f; text-decoration-color: #7f7f7f\">fbref.py</span></a><span style=\"color: #7f7f7f; text-decoration-color: #7f7f7f\">:</span><a href=\"file:///usr/local/python/3.12.1/lib/python3.12/site-packages/fbrefdata/fbref.py#927\" target=\"_blank\"><span style=\"color: #7f7f7f; text-decoration-color: #7f7f7f\">927</span></a>\n",
       "</pre>\n"
      ],
      "text/plain": [
       "\u001b[2;36m[08/29/24 07:53:07]\u001b[0m\u001b[2;36m \u001b[0m\u001b[34mINFO    \u001b[0m \u001b[1m[\u001b[0m\u001b[1;36m47\u001b[0m/\u001b[1;36m380\u001b[0m\u001b[1m]\u001b[0m Retrieving game with \u001b[33mid\u001b[0m=\u001b[35mac6047cf\u001b[0m                                 \u001b]8;id=446588;file:///usr/local/python/3.12.1/lib/python3.12/site-packages/fbrefdata/fbref.py\u001b\\\u001b[2mfbref.py\u001b[0m\u001b]8;;\u001b\\\u001b[2m:\u001b[0m\u001b]8;id=652656;file:///usr/local/python/3.12.1/lib/python3.12/site-packages/fbrefdata/fbref.py#927\u001b\\\u001b[2m927\u001b[0m\u001b]8;;\u001b\\\n"
      ]
     },
     "metadata": {},
     "output_type": "display_data"
    },
    {
     "name": "stderr",
     "output_type": "stream",
     "text": [
      "/usr/local/python/3.12.1/lib/python3.12/site-packages/fbrefdata/fbref.py:940: FutureWarning: This search incorrectly ignores the root element, and will be fixed in a future version.  If you rely on the current behaviour, change it to \".//table[@id='stats_822bd0ba_summary']\"\n",
      "  html_table = tree.find(\"//table[@id='\" + id_format.format(home_team[\"id\"]) + \"']\")\n",
      "/usr/local/python/3.12.1/lib/python3.12/site-packages/fbrefdata/fbref.py:953: FutureWarning: This search incorrectly ignores the root element, and will be fixed in a future version.  If you rely on the current behaviour, change it to \".//table[@id='stats_b2b47a98_summary']\"\n",
      "  html_table = tree.find(\"//table[@id='\" + id_format.format(away_team[\"id\"]) + \"']\")\n"
     ]
    },
    {
     "data": {
      "text/html": [
       "<pre style=\"white-space:pre;overflow-x:auto;line-height:normal;font-family:Menlo,'DejaVu Sans Mono',consolas,'Courier New',monospace\"><span style=\"color: #7fbfbf; text-decoration-color: #7fbfbf\">[08/29/24 07:53:14] </span><span style=\"color: #000080; text-decoration-color: #000080\">INFO    </span> <span style=\"font-weight: bold\">[</span><span style=\"color: #008080; text-decoration-color: #008080; font-weight: bold\">48</span>/<span style=\"color: #008080; text-decoration-color: #008080; font-weight: bold\">380</span><span style=\"font-weight: bold\">]</span> Retrieving game with <span style=\"color: #808000; text-decoration-color: #808000\">id</span>=<span style=\"color: #800080; text-decoration-color: #800080\">9760b466</span>                                 <a href=\"file:///usr/local/python/3.12.1/lib/python3.12/site-packages/fbrefdata/fbref.py\" target=\"_blank\"><span style=\"color: #7f7f7f; text-decoration-color: #7f7f7f\">fbref.py</span></a><span style=\"color: #7f7f7f; text-decoration-color: #7f7f7f\">:</span><a href=\"file:///usr/local/python/3.12.1/lib/python3.12/site-packages/fbrefdata/fbref.py#927\" target=\"_blank\"><span style=\"color: #7f7f7f; text-decoration-color: #7f7f7f\">927</span></a>\n",
       "</pre>\n"
      ],
      "text/plain": [
       "\u001b[2;36m[08/29/24 07:53:14]\u001b[0m\u001b[2;36m \u001b[0m\u001b[34mINFO    \u001b[0m \u001b[1m[\u001b[0m\u001b[1;36m48\u001b[0m/\u001b[1;36m380\u001b[0m\u001b[1m]\u001b[0m Retrieving game with \u001b[33mid\u001b[0m=\u001b[35m9760b466\u001b[0m                                 \u001b]8;id=424704;file:///usr/local/python/3.12.1/lib/python3.12/site-packages/fbrefdata/fbref.py\u001b\\\u001b[2mfbref.py\u001b[0m\u001b]8;;\u001b\\\u001b[2m:\u001b[0m\u001b]8;id=686618;file:///usr/local/python/3.12.1/lib/python3.12/site-packages/fbrefdata/fbref.py#927\u001b\\\u001b[2m927\u001b[0m\u001b]8;;\u001b\\\n"
      ]
     },
     "metadata": {},
     "output_type": "display_data"
    },
    {
     "name": "stderr",
     "output_type": "stream",
     "text": [
      "/usr/local/python/3.12.1/lib/python3.12/site-packages/fbrefdata/fbref.py:940: FutureWarning: This search incorrectly ignores the root element, and will be fixed in a future version.  If you rely on the current behaviour, change it to \".//table[@id='stats_b8fd03ef_summary']\"\n",
      "  html_table = tree.find(\"//table[@id='\" + id_format.format(home_team[\"id\"]) + \"']\")\n",
      "/usr/local/python/3.12.1/lib/python3.12/site-packages/fbrefdata/fbref.py:953: FutureWarning: This search incorrectly ignores the root element, and will be fixed in a future version.  If you rely on the current behaviour, change it to \".//table[@id='stats_e4a775cb_summary']\"\n",
      "  html_table = tree.find(\"//table[@id='\" + id_format.format(away_team[\"id\"]) + \"']\")\n"
     ]
    },
    {
     "data": {
      "text/html": [
       "<pre style=\"white-space:pre;overflow-x:auto;line-height:normal;font-family:Menlo,'DejaVu Sans Mono',consolas,'Courier New',monospace\"><span style=\"color: #7fbfbf; text-decoration-color: #7fbfbf\">[08/29/24 07:53:20] </span><span style=\"color: #000080; text-decoration-color: #000080\">INFO    </span> <span style=\"font-weight: bold\">[</span><span style=\"color: #008080; text-decoration-color: #008080; font-weight: bold\">49</span>/<span style=\"color: #008080; text-decoration-color: #008080; font-weight: bold\">380</span><span style=\"font-weight: bold\">]</span> Retrieving game with <span style=\"color: #808000; text-decoration-color: #808000\">id</span>=<span style=\"color: #800080; text-decoration-color: #800080\">9f221621</span>                                 <a href=\"file:///usr/local/python/3.12.1/lib/python3.12/site-packages/fbrefdata/fbref.py\" target=\"_blank\"><span style=\"color: #7f7f7f; text-decoration-color: #7f7f7f\">fbref.py</span></a><span style=\"color: #7f7f7f; text-decoration-color: #7f7f7f\">:</span><a href=\"file:///usr/local/python/3.12.1/lib/python3.12/site-packages/fbrefdata/fbref.py#927\" target=\"_blank\"><span style=\"color: #7f7f7f; text-decoration-color: #7f7f7f\">927</span></a>\n",
       "</pre>\n"
      ],
      "text/plain": [
       "\u001b[2;36m[08/29/24 07:53:20]\u001b[0m\u001b[2;36m \u001b[0m\u001b[34mINFO    \u001b[0m \u001b[1m[\u001b[0m\u001b[1;36m49\u001b[0m/\u001b[1;36m380\u001b[0m\u001b[1m]\u001b[0m Retrieving game with \u001b[33mid\u001b[0m=\u001b[35m9f221621\u001b[0m                                 \u001b]8;id=306763;file:///usr/local/python/3.12.1/lib/python3.12/site-packages/fbrefdata/fbref.py\u001b\\\u001b[2mfbref.py\u001b[0m\u001b]8;;\u001b\\\u001b[2m:\u001b[0m\u001b]8;id=713093;file:///usr/local/python/3.12.1/lib/python3.12/site-packages/fbrefdata/fbref.py#927\u001b\\\u001b[2m927\u001b[0m\u001b]8;;\u001b\\\n"
      ]
     },
     "metadata": {},
     "output_type": "display_data"
    },
    {
     "name": "stderr",
     "output_type": "stream",
     "text": [
      "/usr/local/python/3.12.1/lib/python3.12/site-packages/fbrefdata/fbref.py:940: FutureWarning: This search incorrectly ignores the root element, and will be fixed in a future version.  If you rely on the current behaviour, change it to \".//table[@id='stats_7c21e445_summary']\"\n",
      "  html_table = tree.find(\"//table[@id='\" + id_format.format(home_team[\"id\"]) + \"']\")\n",
      "/usr/local/python/3.12.1/lib/python3.12/site-packages/fbrefdata/fbref.py:953: FutureWarning: This search incorrectly ignores the root element, and will be fixed in a future version.  If you rely on the current behaviour, change it to \".//table[@id='stats_361ca564_summary']\"\n",
      "  html_table = tree.find(\"//table[@id='\" + id_format.format(away_team[\"id\"]) + \"']\")\n"
     ]
    },
    {
     "data": {
      "text/html": [
       "<pre style=\"white-space:pre;overflow-x:auto;line-height:normal;font-family:Menlo,'DejaVu Sans Mono',consolas,'Courier New',monospace\"><span style=\"color: #7fbfbf; text-decoration-color: #7fbfbf\">[08/29/24 07:53:26] </span><span style=\"color: #000080; text-decoration-color: #000080\">INFO    </span> <span style=\"font-weight: bold\">[</span><span style=\"color: #008080; text-decoration-color: #008080; font-weight: bold\">50</span>/<span style=\"color: #008080; text-decoration-color: #008080; font-weight: bold\">380</span><span style=\"font-weight: bold\">]</span> Retrieving game with <span style=\"color: #808000; text-decoration-color: #808000\">id</span>=<span style=\"color: #800080; text-decoration-color: #800080\">c1f25d02</span>                                 <a href=\"file:///usr/local/python/3.12.1/lib/python3.12/site-packages/fbrefdata/fbref.py\" target=\"_blank\"><span style=\"color: #7f7f7f; text-decoration-color: #7f7f7f\">fbref.py</span></a><span style=\"color: #7f7f7f; text-decoration-color: #7f7f7f\">:</span><a href=\"file:///usr/local/python/3.12.1/lib/python3.12/site-packages/fbrefdata/fbref.py#927\" target=\"_blank\"><span style=\"color: #7f7f7f; text-decoration-color: #7f7f7f\">927</span></a>\n",
       "</pre>\n"
      ],
      "text/plain": [
       "\u001b[2;36m[08/29/24 07:53:26]\u001b[0m\u001b[2;36m \u001b[0m\u001b[34mINFO    \u001b[0m \u001b[1m[\u001b[0m\u001b[1;36m50\u001b[0m/\u001b[1;36m380\u001b[0m\u001b[1m]\u001b[0m Retrieving game with \u001b[33mid\u001b[0m=\u001b[35mc1f25d02\u001b[0m                                 \u001b]8;id=640011;file:///usr/local/python/3.12.1/lib/python3.12/site-packages/fbrefdata/fbref.py\u001b\\\u001b[2mfbref.py\u001b[0m\u001b]8;;\u001b\\\u001b[2m:\u001b[0m\u001b]8;id=269903;file:///usr/local/python/3.12.1/lib/python3.12/site-packages/fbrefdata/fbref.py#927\u001b\\\u001b[2m927\u001b[0m\u001b]8;;\u001b\\\n"
      ]
     },
     "metadata": {},
     "output_type": "display_data"
    },
    {
     "name": "stderr",
     "output_type": "stream",
     "text": [
      "/usr/local/python/3.12.1/lib/python3.12/site-packages/fbrefdata/fbref.py:940: FutureWarning: This search incorrectly ignores the root element, and will be fixed in a future version.  If you rely on the current behaviour, change it to \".//table[@id='stats_a2d435b3_summary']\"\n",
      "  html_table = tree.find(\"//table[@id='\" + id_format.format(home_team[\"id\"]) + \"']\")\n",
      "/usr/local/python/3.12.1/lib/python3.12/site-packages/fbrefdata/fbref.py:953: FutureWarning: This search incorrectly ignores the root element, and will be fixed in a future version.  If you rely on the current behaviour, change it to \".//table[@id='stats_19538871_summary']\"\n",
      "  html_table = tree.find(\"//table[@id='\" + id_format.format(away_team[\"id\"]) + \"']\")\n"
     ]
    },
    {
     "data": {
      "text/html": [
       "<pre style=\"white-space:pre;overflow-x:auto;line-height:normal;font-family:Menlo,'DejaVu Sans Mono',consolas,'Courier New',monospace\"><span style=\"color: #7fbfbf; text-decoration-color: #7fbfbf\">[08/29/24 07:53:33] </span><span style=\"color: #000080; text-decoration-color: #000080\">INFO    </span> <span style=\"font-weight: bold\">[</span><span style=\"color: #008080; text-decoration-color: #008080; font-weight: bold\">51</span>/<span style=\"color: #008080; text-decoration-color: #008080; font-weight: bold\">380</span><span style=\"font-weight: bold\">]</span> Retrieving game with <span style=\"color: #808000; text-decoration-color: #808000\">id</span>=<span style=\"color: #800080; text-decoration-color: #800080\">3091f0b8</span>                                 <a href=\"file:///usr/local/python/3.12.1/lib/python3.12/site-packages/fbrefdata/fbref.py\" target=\"_blank\"><span style=\"color: #7f7f7f; text-decoration-color: #7f7f7f\">fbref.py</span></a><span style=\"color: #7f7f7f; text-decoration-color: #7f7f7f\">:</span><a href=\"file:///usr/local/python/3.12.1/lib/python3.12/site-packages/fbrefdata/fbref.py#927\" target=\"_blank\"><span style=\"color: #7f7f7f; text-decoration-color: #7f7f7f\">927</span></a>\n",
       "</pre>\n"
      ],
      "text/plain": [
       "\u001b[2;36m[08/29/24 07:53:33]\u001b[0m\u001b[2;36m \u001b[0m\u001b[34mINFO    \u001b[0m \u001b[1m[\u001b[0m\u001b[1;36m51\u001b[0m/\u001b[1;36m380\u001b[0m\u001b[1m]\u001b[0m Retrieving game with \u001b[33mid\u001b[0m=\u001b[35m3091f0b8\u001b[0m                                 \u001b]8;id=154136;file:///usr/local/python/3.12.1/lib/python3.12/site-packages/fbrefdata/fbref.py\u001b\\\u001b[2mfbref.py\u001b[0m\u001b]8;;\u001b\\\u001b[2m:\u001b[0m\u001b]8;id=548915;file:///usr/local/python/3.12.1/lib/python3.12/site-packages/fbrefdata/fbref.py#927\u001b\\\u001b[2m927\u001b[0m\u001b]8;;\u001b\\\n"
      ]
     },
     "metadata": {},
     "output_type": "display_data"
    },
    {
     "name": "stderr",
     "output_type": "stream",
     "text": [
      "/usr/local/python/3.12.1/lib/python3.12/site-packages/fbrefdata/fbref.py:940: FutureWarning: This search incorrectly ignores the root element, and will be fixed in a future version.  If you rely on the current behaviour, change it to \".//table[@id='stats_8602292d_summary']\"\n",
      "  html_table = tree.find(\"//table[@id='\" + id_format.format(home_team[\"id\"]) + \"']\")\n",
      "/usr/local/python/3.12.1/lib/python3.12/site-packages/fbrefdata/fbref.py:953: FutureWarning: This search incorrectly ignores the root element, and will be fixed in a future version.  If you rely on the current behaviour, change it to \".//table[@id='stats_b8fd03ef_summary']\"\n",
      "  html_table = tree.find(\"//table[@id='\" + id_format.format(away_team[\"id\"]) + \"']\")\n"
     ]
    },
    {
     "data": {
      "text/html": [
       "<pre style=\"white-space:pre;overflow-x:auto;line-height:normal;font-family:Menlo,'DejaVu Sans Mono',consolas,'Courier New',monospace\"><span style=\"color: #7fbfbf; text-decoration-color: #7fbfbf\">[08/29/24 07:53:39] </span><span style=\"color: #000080; text-decoration-color: #000080\">INFO    </span> <span style=\"font-weight: bold\">[</span><span style=\"color: #008080; text-decoration-color: #008080; font-weight: bold\">52</span>/<span style=\"color: #008080; text-decoration-color: #008080; font-weight: bold\">380</span><span style=\"font-weight: bold\">]</span> Retrieving game with <span style=\"color: #808000; text-decoration-color: #808000\">id</span>=<span style=\"color: #800080; text-decoration-color: #800080\">88f9aad9</span>                                 <a href=\"file:///usr/local/python/3.12.1/lib/python3.12/site-packages/fbrefdata/fbref.py\" target=\"_blank\"><span style=\"color: #7f7f7f; text-decoration-color: #7f7f7f\">fbref.py</span></a><span style=\"color: #7f7f7f; text-decoration-color: #7f7f7f\">:</span><a href=\"file:///usr/local/python/3.12.1/lib/python3.12/site-packages/fbrefdata/fbref.py#927\" target=\"_blank\"><span style=\"color: #7f7f7f; text-decoration-color: #7f7f7f\">927</span></a>\n",
       "</pre>\n"
      ],
      "text/plain": [
       "\u001b[2;36m[08/29/24 07:53:39]\u001b[0m\u001b[2;36m \u001b[0m\u001b[34mINFO    \u001b[0m \u001b[1m[\u001b[0m\u001b[1;36m52\u001b[0m/\u001b[1;36m380\u001b[0m\u001b[1m]\u001b[0m Retrieving game with \u001b[33mid\u001b[0m=\u001b[35m88f9aad9\u001b[0m                                 \u001b]8;id=205785;file:///usr/local/python/3.12.1/lib/python3.12/site-packages/fbrefdata/fbref.py\u001b\\\u001b[2mfbref.py\u001b[0m\u001b]8;;\u001b\\\u001b[2m:\u001b[0m\u001b]8;id=2400;file:///usr/local/python/3.12.1/lib/python3.12/site-packages/fbrefdata/fbref.py#927\u001b\\\u001b[2m927\u001b[0m\u001b]8;;\u001b\\\n"
      ]
     },
     "metadata": {},
     "output_type": "display_data"
    },
    {
     "name": "stderr",
     "output_type": "stream",
     "text": [
      "/usr/local/python/3.12.1/lib/python3.12/site-packages/fbrefdata/fbref.py:940: FutureWarning: This search incorrectly ignores the root element, and will be fixed in a future version.  If you rely on the current behaviour, change it to \".//table[@id='stats_cd051869_summary']\"\n",
      "  html_table = tree.find(\"//table[@id='\" + id_format.format(home_team[\"id\"]) + \"']\")\n",
      "/usr/local/python/3.12.1/lib/python3.12/site-packages/fbrefdata/fbref.py:953: FutureWarning: This search incorrectly ignores the root element, and will be fixed in a future version.  If you rely on the current behaviour, change it to \".//table[@id='stats_5bfb9659_summary']\"\n",
      "  html_table = tree.find(\"//table[@id='\" + id_format.format(away_team[\"id\"]) + \"']\")\n"
     ]
    },
    {
     "data": {
      "text/html": [
       "<pre style=\"white-space:pre;overflow-x:auto;line-height:normal;font-family:Menlo,'DejaVu Sans Mono',consolas,'Courier New',monospace\"><span style=\"color: #7fbfbf; text-decoration-color: #7fbfbf\">[08/29/24 07:53:46] </span><span style=\"color: #000080; text-decoration-color: #000080\">INFO    </span> <span style=\"font-weight: bold\">[</span><span style=\"color: #008080; text-decoration-color: #008080; font-weight: bold\">53</span>/<span style=\"color: #008080; text-decoration-color: #008080; font-weight: bold\">380</span><span style=\"font-weight: bold\">]</span> Retrieving game with <span style=\"color: #808000; text-decoration-color: #808000\">id</span>=<span style=\"color: #800080; text-decoration-color: #800080\">d7642197</span>                                 <a href=\"file:///usr/local/python/3.12.1/lib/python3.12/site-packages/fbrefdata/fbref.py\" target=\"_blank\"><span style=\"color: #7f7f7f; text-decoration-color: #7f7f7f\">fbref.py</span></a><span style=\"color: #7f7f7f; text-decoration-color: #7f7f7f\">:</span><a href=\"file:///usr/local/python/3.12.1/lib/python3.12/site-packages/fbrefdata/fbref.py#927\" target=\"_blank\"><span style=\"color: #7f7f7f; text-decoration-color: #7f7f7f\">927</span></a>\n",
       "</pre>\n"
      ],
      "text/plain": [
       "\u001b[2;36m[08/29/24 07:53:46]\u001b[0m\u001b[2;36m \u001b[0m\u001b[34mINFO    \u001b[0m \u001b[1m[\u001b[0m\u001b[1;36m53\u001b[0m/\u001b[1;36m380\u001b[0m\u001b[1m]\u001b[0m Retrieving game with \u001b[33mid\u001b[0m=\u001b[35md7642197\u001b[0m                                 \u001b]8;id=639840;file:///usr/local/python/3.12.1/lib/python3.12/site-packages/fbrefdata/fbref.py\u001b\\\u001b[2mfbref.py\u001b[0m\u001b]8;;\u001b\\\u001b[2m:\u001b[0m\u001b]8;id=436260;file:///usr/local/python/3.12.1/lib/python3.12/site-packages/fbrefdata/fbref.py#927\u001b\\\u001b[2m927\u001b[0m\u001b]8;;\u001b\\\n"
      ]
     },
     "metadata": {},
     "output_type": "display_data"
    },
    {
     "name": "stderr",
     "output_type": "stream",
     "text": [
      "/usr/local/python/3.12.1/lib/python3.12/site-packages/fbrefdata/fbref.py:940: FutureWarning: This search incorrectly ignores the root element, and will be fixed in a future version.  If you rely on the current behaviour, change it to \".//table[@id='stats_cff3d9bb_summary']\"\n",
      "  html_table = tree.find(\"//table[@id='\" + id_format.format(home_team[\"id\"]) + \"']\")\n",
      "/usr/local/python/3.12.1/lib/python3.12/site-packages/fbrefdata/fbref.py:953: FutureWarning: This search incorrectly ignores the root element, and will be fixed in a future version.  If you rely on the current behaviour, change it to \".//table[@id='stats_7c21e445_summary']\"\n",
      "  html_table = tree.find(\"//table[@id='\" + id_format.format(away_team[\"id\"]) + \"']\")\n"
     ]
    },
    {
     "data": {
      "text/html": [
       "<pre style=\"white-space:pre;overflow-x:auto;line-height:normal;font-family:Menlo,'DejaVu Sans Mono',consolas,'Courier New',monospace\"><span style=\"color: #7fbfbf; text-decoration-color: #7fbfbf\">[08/29/24 07:53:52] </span><span style=\"color: #000080; text-decoration-color: #000080\">INFO    </span> <span style=\"font-weight: bold\">[</span><span style=\"color: #008080; text-decoration-color: #008080; font-weight: bold\">54</span>/<span style=\"color: #008080; text-decoration-color: #008080; font-weight: bold\">380</span><span style=\"font-weight: bold\">]</span> Retrieving game with <span style=\"color: #808000; text-decoration-color: #808000\">id</span>=<span style=\"color: #800080; text-decoration-color: #800080\">073227b6</span>                                 <a href=\"file:///usr/local/python/3.12.1/lib/python3.12/site-packages/fbrefdata/fbref.py\" target=\"_blank\"><span style=\"color: #7f7f7f; text-decoration-color: #7f7f7f\">fbref.py</span></a><span style=\"color: #7f7f7f; text-decoration-color: #7f7f7f\">:</span><a href=\"file:///usr/local/python/3.12.1/lib/python3.12/site-packages/fbrefdata/fbref.py#927\" target=\"_blank\"><span style=\"color: #7f7f7f; text-decoration-color: #7f7f7f\">927</span></a>\n",
       "</pre>\n"
      ],
      "text/plain": [
       "\u001b[2;36m[08/29/24 07:53:52]\u001b[0m\u001b[2;36m \u001b[0m\u001b[34mINFO    \u001b[0m \u001b[1m[\u001b[0m\u001b[1;36m54\u001b[0m/\u001b[1;36m380\u001b[0m\u001b[1m]\u001b[0m Retrieving game with \u001b[33mid\u001b[0m=\u001b[35m073227b6\u001b[0m                                 \u001b]8;id=923004;file:///usr/local/python/3.12.1/lib/python3.12/site-packages/fbrefdata/fbref.py\u001b\\\u001b[2mfbref.py\u001b[0m\u001b]8;;\u001b\\\u001b[2m:\u001b[0m\u001b]8;id=118237;file:///usr/local/python/3.12.1/lib/python3.12/site-packages/fbrefdata/fbref.py#927\u001b\\\u001b[2m927\u001b[0m\u001b]8;;\u001b\\\n"
      ]
     },
     "metadata": {},
     "output_type": "display_data"
    },
    {
     "name": "stderr",
     "output_type": "stream",
     "text": [
      "/usr/local/python/3.12.1/lib/python3.12/site-packages/fbrefdata/fbref.py:940: FutureWarning: This search incorrectly ignores the root element, and will be fixed in a future version.  If you rely on the current behaviour, change it to \".//table[@id='stats_d3fd31cc_summary']\"\n",
      "  html_table = tree.find(\"//table[@id='\" + id_format.format(home_team[\"id\"]) + \"']\")\n",
      "/usr/local/python/3.12.1/lib/python3.12/site-packages/fbrefdata/fbref.py:953: FutureWarning: This search incorrectly ignores the root element, and will be fixed in a future version.  If you rely on the current behaviour, change it to \".//table[@id='stats_822bd0ba_summary']\"\n",
      "  html_table = tree.find(\"//table[@id='\" + id_format.format(away_team[\"id\"]) + \"']\")\n"
     ]
    },
    {
     "data": {
      "text/html": [
       "<pre style=\"white-space:pre;overflow-x:auto;line-height:normal;font-family:Menlo,'DejaVu Sans Mono',consolas,'Courier New',monospace\"><span style=\"color: #7fbfbf; text-decoration-color: #7fbfbf\">[08/29/24 07:53:58] </span><span style=\"color: #000080; text-decoration-color: #000080\">INFO    </span> <span style=\"font-weight: bold\">[</span><span style=\"color: #008080; text-decoration-color: #008080; font-weight: bold\">55</span>/<span style=\"color: #008080; text-decoration-color: #008080; font-weight: bold\">380</span><span style=\"font-weight: bold\">]</span> Retrieving game with <span style=\"color: #808000; text-decoration-color: #808000\">id</span>=<span style=\"color: #800080; text-decoration-color: #800080\">4ca4efa3</span>                                 <a href=\"file:///usr/local/python/3.12.1/lib/python3.12/site-packages/fbrefdata/fbref.py\" target=\"_blank\"><span style=\"color: #7f7f7f; text-decoration-color: #7f7f7f\">fbref.py</span></a><span style=\"color: #7f7f7f; text-decoration-color: #7f7f7f\">:</span><a href=\"file:///usr/local/python/3.12.1/lib/python3.12/site-packages/fbrefdata/fbref.py#927\" target=\"_blank\"><span style=\"color: #7f7f7f; text-decoration-color: #7f7f7f\">927</span></a>\n",
       "</pre>\n"
      ],
      "text/plain": [
       "\u001b[2;36m[08/29/24 07:53:58]\u001b[0m\u001b[2;36m \u001b[0m\u001b[34mINFO    \u001b[0m \u001b[1m[\u001b[0m\u001b[1;36m55\u001b[0m/\u001b[1;36m380\u001b[0m\u001b[1m]\u001b[0m Retrieving game with \u001b[33mid\u001b[0m=\u001b[35m4ca4efa3\u001b[0m                                 \u001b]8;id=224620;file:///usr/local/python/3.12.1/lib/python3.12/site-packages/fbrefdata/fbref.py\u001b\\\u001b[2mfbref.py\u001b[0m\u001b]8;;\u001b\\\u001b[2m:\u001b[0m\u001b]8;id=723743;file:///usr/local/python/3.12.1/lib/python3.12/site-packages/fbrefdata/fbref.py#927\u001b\\\u001b[2m927\u001b[0m\u001b]8;;\u001b\\\n"
      ]
     },
     "metadata": {},
     "output_type": "display_data"
    },
    {
     "name": "stderr",
     "output_type": "stream",
     "text": [
      "/usr/local/python/3.12.1/lib/python3.12/site-packages/fbrefdata/fbref.py:940: FutureWarning: This search incorrectly ignores the root element, and will be fixed in a future version.  If you rely on the current behaviour, change it to \".//table[@id='stats_b2b47a98_summary']\"\n",
      "  html_table = tree.find(\"//table[@id='\" + id_format.format(home_team[\"id\"]) + \"']\")\n",
      "/usr/local/python/3.12.1/lib/python3.12/site-packages/fbrefdata/fbref.py:953: FutureWarning: This search incorrectly ignores the root element, and will be fixed in a future version.  If you rely on the current behaviour, change it to \".//table[@id='stats_47c64c55_summary']\"\n",
      "  html_table = tree.find(\"//table[@id='\" + id_format.format(away_team[\"id\"]) + \"']\")\n"
     ]
    },
    {
     "data": {
      "text/html": [
       "<pre style=\"white-space:pre;overflow-x:auto;line-height:normal;font-family:Menlo,'DejaVu Sans Mono',consolas,'Courier New',monospace\"><span style=\"color: #7fbfbf; text-decoration-color: #7fbfbf\">[08/29/24 07:54:05] </span><span style=\"color: #000080; text-decoration-color: #000080\">INFO    </span> <span style=\"font-weight: bold\">[</span><span style=\"color: #008080; text-decoration-color: #008080; font-weight: bold\">56</span>/<span style=\"color: #008080; text-decoration-color: #008080; font-weight: bold\">380</span><span style=\"font-weight: bold\">]</span> Retrieving game with <span style=\"color: #808000; text-decoration-color: #808000\">id</span>=<span style=\"color: #800080; text-decoration-color: #800080\">05f32555</span>                                 <a href=\"file:///usr/local/python/3.12.1/lib/python3.12/site-packages/fbrefdata/fbref.py\" target=\"_blank\"><span style=\"color: #7f7f7f; text-decoration-color: #7f7f7f\">fbref.py</span></a><span style=\"color: #7f7f7f; text-decoration-color: #7f7f7f\">:</span><a href=\"file:///usr/local/python/3.12.1/lib/python3.12/site-packages/fbrefdata/fbref.py#927\" target=\"_blank\"><span style=\"color: #7f7f7f; text-decoration-color: #7f7f7f\">927</span></a>\n",
       "</pre>\n"
      ],
      "text/plain": [
       "\u001b[2;36m[08/29/24 07:54:05]\u001b[0m\u001b[2;36m \u001b[0m\u001b[34mINFO    \u001b[0m \u001b[1m[\u001b[0m\u001b[1;36m56\u001b[0m/\u001b[1;36m380\u001b[0m\u001b[1m]\u001b[0m Retrieving game with \u001b[33mid\u001b[0m=\u001b[35m05f32555\u001b[0m                                 \u001b]8;id=429613;file:///usr/local/python/3.12.1/lib/python3.12/site-packages/fbrefdata/fbref.py\u001b\\\u001b[2mfbref.py\u001b[0m\u001b]8;;\u001b\\\u001b[2m:\u001b[0m\u001b]8;id=20424;file:///usr/local/python/3.12.1/lib/python3.12/site-packages/fbrefdata/fbref.py#927\u001b\\\u001b[2m927\u001b[0m\u001b]8;;\u001b\\\n"
      ]
     },
     "metadata": {},
     "output_type": "display_data"
    },
    {
     "name": "stderr",
     "output_type": "stream",
     "text": [
      "/usr/local/python/3.12.1/lib/python3.12/site-packages/fbrefdata/fbref.py:940: FutureWarning: This search incorrectly ignores the root element, and will be fixed in a future version.  If you rely on the current behaviour, change it to \".//table[@id='stats_e4a775cb_summary']\"\n",
      "  html_table = tree.find(\"//table[@id='\" + id_format.format(home_team[\"id\"]) + \"']\")\n",
      "/usr/local/python/3.12.1/lib/python3.12/site-packages/fbrefdata/fbref.py:953: FutureWarning: This search incorrectly ignores the root element, and will be fixed in a future version.  If you rely on the current behaviour, change it to \".//table[@id='stats_4ba7cbea_summary']\"\n",
      "  html_table = tree.find(\"//table[@id='\" + id_format.format(away_team[\"id\"]) + \"']\")\n"
     ]
    },
    {
     "data": {
      "text/html": [
       "<pre style=\"white-space:pre;overflow-x:auto;line-height:normal;font-family:Menlo,'DejaVu Sans Mono',consolas,'Courier New',monospace\"><span style=\"color: #7fbfbf; text-decoration-color: #7fbfbf\">[08/29/24 07:54:11] </span><span style=\"color: #000080; text-decoration-color: #000080\">INFO    </span> <span style=\"font-weight: bold\">[</span><span style=\"color: #008080; text-decoration-color: #008080; font-weight: bold\">57</span>/<span style=\"color: #008080; text-decoration-color: #008080; font-weight: bold\">380</span><span style=\"font-weight: bold\">]</span> Retrieving game with <span style=\"color: #808000; text-decoration-color: #808000\">id</span>=<span style=\"color: #800080; text-decoration-color: #800080\">a497b725</span>                                 <a href=\"file:///usr/local/python/3.12.1/lib/python3.12/site-packages/fbrefdata/fbref.py\" target=\"_blank\"><span style=\"color: #7f7f7f; text-decoration-color: #7f7f7f\">fbref.py</span></a><span style=\"color: #7f7f7f; text-decoration-color: #7f7f7f\">:</span><a href=\"file:///usr/local/python/3.12.1/lib/python3.12/site-packages/fbrefdata/fbref.py#927\" target=\"_blank\"><span style=\"color: #7f7f7f; text-decoration-color: #7f7f7f\">927</span></a>\n",
       "</pre>\n"
      ],
      "text/plain": [
       "\u001b[2;36m[08/29/24 07:54:11]\u001b[0m\u001b[2;36m \u001b[0m\u001b[34mINFO    \u001b[0m \u001b[1m[\u001b[0m\u001b[1;36m57\u001b[0m/\u001b[1;36m380\u001b[0m\u001b[1m]\u001b[0m Retrieving game with \u001b[33mid\u001b[0m=\u001b[35ma497b725\u001b[0m                                 \u001b]8;id=571625;file:///usr/local/python/3.12.1/lib/python3.12/site-packages/fbrefdata/fbref.py\u001b\\\u001b[2mfbref.py\u001b[0m\u001b]8;;\u001b\\\u001b[2m:\u001b[0m\u001b]8;id=338628;file:///usr/local/python/3.12.1/lib/python3.12/site-packages/fbrefdata/fbref.py#927\u001b\\\u001b[2m927\u001b[0m\u001b]8;;\u001b\\\n"
      ]
     },
     "metadata": {},
     "output_type": "display_data"
    },
    {
     "name": "stderr",
     "output_type": "stream",
     "text": [
      "/usr/local/python/3.12.1/lib/python3.12/site-packages/fbrefdata/fbref.py:940: FutureWarning: This search incorrectly ignores the root element, and will be fixed in a future version.  If you rely on the current behaviour, change it to \".//table[@id='stats_361ca564_summary']\"\n",
      "  html_table = tree.find(\"//table[@id='\" + id_format.format(home_team[\"id\"]) + \"']\")\n",
      "/usr/local/python/3.12.1/lib/python3.12/site-packages/fbrefdata/fbref.py:953: FutureWarning: This search incorrectly ignores the root element, and will be fixed in a future version.  If you rely on the current behaviour, change it to \".//table[@id='stats_fd962109_summary']\"\n",
      "  html_table = tree.find(\"//table[@id='\" + id_format.format(away_team[\"id\"]) + \"']\")\n"
     ]
    },
    {
     "data": {
      "text/html": [
       "<pre style=\"white-space:pre;overflow-x:auto;line-height:normal;font-family:Menlo,'DejaVu Sans Mono',consolas,'Courier New',monospace\"><span style=\"color: #7fbfbf; text-decoration-color: #7fbfbf\">[08/29/24 07:54:18] </span><span style=\"color: #000080; text-decoration-color: #000080\">INFO    </span> <span style=\"font-weight: bold\">[</span><span style=\"color: #008080; text-decoration-color: #008080; font-weight: bold\">58</span>/<span style=\"color: #008080; text-decoration-color: #008080; font-weight: bold\">380</span><span style=\"font-weight: bold\">]</span> Retrieving game with <span style=\"color: #808000; text-decoration-color: #808000\">id</span>=<span style=\"color: #800080; text-decoration-color: #800080\">13f50518</span>                                 <a href=\"file:///usr/local/python/3.12.1/lib/python3.12/site-packages/fbrefdata/fbref.py\" target=\"_blank\"><span style=\"color: #7f7f7f; text-decoration-color: #7f7f7f\">fbref.py</span></a><span style=\"color: #7f7f7f; text-decoration-color: #7f7f7f\">:</span><a href=\"file:///usr/local/python/3.12.1/lib/python3.12/site-packages/fbrefdata/fbref.py#927\" target=\"_blank\"><span style=\"color: #7f7f7f; text-decoration-color: #7f7f7f\">927</span></a>\n",
       "</pre>\n"
      ],
      "text/plain": [
       "\u001b[2;36m[08/29/24 07:54:18]\u001b[0m\u001b[2;36m \u001b[0m\u001b[34mINFO    \u001b[0m \u001b[1m[\u001b[0m\u001b[1;36m58\u001b[0m/\u001b[1;36m380\u001b[0m\u001b[1m]\u001b[0m Retrieving game with \u001b[33mid\u001b[0m=\u001b[35m13f50518\u001b[0m                                 \u001b]8;id=232762;file:///usr/local/python/3.12.1/lib/python3.12/site-packages/fbrefdata/fbref.py\u001b\\\u001b[2mfbref.py\u001b[0m\u001b]8;;\u001b\\\u001b[2m:\u001b[0m\u001b]8;id=797964;file:///usr/local/python/3.12.1/lib/python3.12/site-packages/fbrefdata/fbref.py#927\u001b\\\u001b[2m927\u001b[0m\u001b]8;;\u001b\\\n"
      ]
     },
     "metadata": {},
     "output_type": "display_data"
    },
    {
     "name": "stderr",
     "output_type": "stream",
     "text": [
      "/usr/local/python/3.12.1/lib/python3.12/site-packages/fbrefdata/fbref.py:940: FutureWarning: This search incorrectly ignores the root element, and will be fixed in a future version.  If you rely on the current behaviour, change it to \".//table[@id='stats_8cec06e1_summary']\"\n",
      "  html_table = tree.find(\"//table[@id='\" + id_format.format(home_team[\"id\"]) + \"']\")\n",
      "/usr/local/python/3.12.1/lib/python3.12/site-packages/fbrefdata/fbref.py:953: FutureWarning: This search incorrectly ignores the root element, and will be fixed in a future version.  If you rely on the current behaviour, change it to \".//table[@id='stats_33c895d4_summary']\"\n",
      "  html_table = tree.find(\"//table[@id='\" + id_format.format(away_team[\"id\"]) + \"']\")\n"
     ]
    },
    {
     "data": {
      "text/html": [
       "<pre style=\"white-space:pre;overflow-x:auto;line-height:normal;font-family:Menlo,'DejaVu Sans Mono',consolas,'Courier New',monospace\"><span style=\"color: #7fbfbf; text-decoration-color: #7fbfbf\">[08/29/24 07:54:24] </span><span style=\"color: #000080; text-decoration-color: #000080\">INFO    </span> <span style=\"font-weight: bold\">[</span><span style=\"color: #008080; text-decoration-color: #008080; font-weight: bold\">59</span>/<span style=\"color: #008080; text-decoration-color: #008080; font-weight: bold\">380</span><span style=\"font-weight: bold\">]</span> Retrieving game with <span style=\"color: #808000; text-decoration-color: #808000\">id</span>=<span style=\"color: #800080; text-decoration-color: #800080\">42d5b3b1</span>                                 <a href=\"file:///usr/local/python/3.12.1/lib/python3.12/site-packages/fbrefdata/fbref.py\" target=\"_blank\"><span style=\"color: #7f7f7f; text-decoration-color: #7f7f7f\">fbref.py</span></a><span style=\"color: #7f7f7f; text-decoration-color: #7f7f7f\">:</span><a href=\"file:///usr/local/python/3.12.1/lib/python3.12/site-packages/fbrefdata/fbref.py#927\" target=\"_blank\"><span style=\"color: #7f7f7f; text-decoration-color: #7f7f7f\">927</span></a>\n",
       "</pre>\n"
      ],
      "text/plain": [
       "\u001b[2;36m[08/29/24 07:54:24]\u001b[0m\u001b[2;36m \u001b[0m\u001b[34mINFO    \u001b[0m \u001b[1m[\u001b[0m\u001b[1;36m59\u001b[0m/\u001b[1;36m380\u001b[0m\u001b[1m]\u001b[0m Retrieving game with \u001b[33mid\u001b[0m=\u001b[35m42d5b3b1\u001b[0m                                 \u001b]8;id=483152;file:///usr/local/python/3.12.1/lib/python3.12/site-packages/fbrefdata/fbref.py\u001b\\\u001b[2mfbref.py\u001b[0m\u001b]8;;\u001b\\\u001b[2m:\u001b[0m\u001b]8;id=537235;file:///usr/local/python/3.12.1/lib/python3.12/site-packages/fbrefdata/fbref.py#927\u001b\\\u001b[2m927\u001b[0m\u001b]8;;\u001b\\\n"
      ]
     },
     "metadata": {},
     "output_type": "display_data"
    },
    {
     "name": "stderr",
     "output_type": "stream",
     "text": [
      "/usr/local/python/3.12.1/lib/python3.12/site-packages/fbrefdata/fbref.py:940: FutureWarning: This search incorrectly ignores the root element, and will be fixed in a future version.  If you rely on the current behaviour, change it to \".//table[@id='stats_d07537b9_summary']\"\n",
      "  html_table = tree.find(\"//table[@id='\" + id_format.format(home_team[\"id\"]) + \"']\")\n",
      "/usr/local/python/3.12.1/lib/python3.12/site-packages/fbrefdata/fbref.py:953: FutureWarning: This search incorrectly ignores the root element, and will be fixed in a future version.  If you rely on the current behaviour, change it to \".//table[@id='stats_a2d435b3_summary']\"\n",
      "  html_table = tree.find(\"//table[@id='\" + id_format.format(away_team[\"id\"]) + \"']\")\n"
     ]
    },
    {
     "data": {
      "text/html": [
       "<pre style=\"white-space:pre;overflow-x:auto;line-height:normal;font-family:Menlo,'DejaVu Sans Mono',consolas,'Courier New',monospace\"><span style=\"color: #7fbfbf; text-decoration-color: #7fbfbf\">[08/29/24 07:54:31] </span><span style=\"color: #000080; text-decoration-color: #000080\">INFO    </span> <span style=\"font-weight: bold\">[</span><span style=\"color: #008080; text-decoration-color: #008080; font-weight: bold\">60</span>/<span style=\"color: #008080; text-decoration-color: #008080; font-weight: bold\">380</span><span style=\"font-weight: bold\">]</span> Retrieving game with <span style=\"color: #808000; text-decoration-color: #808000\">id</span>=<span style=\"color: #800080; text-decoration-color: #800080\">61ddafa5</span>                                 <a href=\"file:///usr/local/python/3.12.1/lib/python3.12/site-packages/fbrefdata/fbref.py\" target=\"_blank\"><span style=\"color: #7f7f7f; text-decoration-color: #7f7f7f\">fbref.py</span></a><span style=\"color: #7f7f7f; text-decoration-color: #7f7f7f\">:</span><a href=\"file:///usr/local/python/3.12.1/lib/python3.12/site-packages/fbrefdata/fbref.py#927\" target=\"_blank\"><span style=\"color: #7f7f7f; text-decoration-color: #7f7f7f\">927</span></a>\n",
       "</pre>\n"
      ],
      "text/plain": [
       "\u001b[2;36m[08/29/24 07:54:31]\u001b[0m\u001b[2;36m \u001b[0m\u001b[34mINFO    \u001b[0m \u001b[1m[\u001b[0m\u001b[1;36m60\u001b[0m/\u001b[1;36m380\u001b[0m\u001b[1m]\u001b[0m Retrieving game with \u001b[33mid\u001b[0m=\u001b[35m61ddafa5\u001b[0m                                 \u001b]8;id=504911;file:///usr/local/python/3.12.1/lib/python3.12/site-packages/fbrefdata/fbref.py\u001b\\\u001b[2mfbref.py\u001b[0m\u001b]8;;\u001b\\\u001b[2m:\u001b[0m\u001b]8;id=942903;file:///usr/local/python/3.12.1/lib/python3.12/site-packages/fbrefdata/fbref.py#927\u001b\\\u001b[2m927\u001b[0m\u001b]8;;\u001b\\\n"
      ]
     },
     "metadata": {},
     "output_type": "display_data"
    },
    {
     "name": "stderr",
     "output_type": "stream",
     "text": [
      "/usr/local/python/3.12.1/lib/python3.12/site-packages/fbrefdata/fbref.py:940: FutureWarning: This search incorrectly ignores the root element, and will be fixed in a future version.  If you rely on the current behaviour, change it to \".//table[@id='stats_19538871_summary']\"\n",
      "  html_table = tree.find(\"//table[@id='\" + id_format.format(home_team[\"id\"]) + \"']\")\n",
      "/usr/local/python/3.12.1/lib/python3.12/site-packages/fbrefdata/fbref.py:953: FutureWarning: This search incorrectly ignores the root element, and will be fixed in a future version.  If you rely on the current behaviour, change it to \".//table[@id='stats_18bb7c10_summary']\"\n",
      "  html_table = tree.find(\"//table[@id='\" + id_format.format(away_team[\"id\"]) + \"']\")\n"
     ]
    },
    {
     "data": {
      "text/html": [
       "<pre style=\"white-space:pre;overflow-x:auto;line-height:normal;font-family:Menlo,'DejaVu Sans Mono',consolas,'Courier New',monospace\"><span style=\"color: #7fbfbf; text-decoration-color: #7fbfbf\">[08/29/24 07:54:37] </span><span style=\"color: #000080; text-decoration-color: #000080\">INFO    </span> <span style=\"font-weight: bold\">[</span><span style=\"color: #008080; text-decoration-color: #008080; font-weight: bold\">61</span>/<span style=\"color: #008080; text-decoration-color: #008080; font-weight: bold\">380</span><span style=\"font-weight: bold\">]</span> Retrieving game with <span style=\"color: #808000; text-decoration-color: #808000\">id</span>=<span style=\"color: #800080; text-decoration-color: #800080\">1219daa1</span>                                 <a href=\"file:///usr/local/python/3.12.1/lib/python3.12/site-packages/fbrefdata/fbref.py\" target=\"_blank\"><span style=\"color: #7f7f7f; text-decoration-color: #7f7f7f\">fbref.py</span></a><span style=\"color: #7f7f7f; text-decoration-color: #7f7f7f\">:</span><a href=\"file:///usr/local/python/3.12.1/lib/python3.12/site-packages/fbrefdata/fbref.py#927\" target=\"_blank\"><span style=\"color: #7f7f7f; text-decoration-color: #7f7f7f\">927</span></a>\n",
       "</pre>\n"
      ],
      "text/plain": [
       "\u001b[2;36m[08/29/24 07:54:37]\u001b[0m\u001b[2;36m \u001b[0m\u001b[34mINFO    \u001b[0m \u001b[1m[\u001b[0m\u001b[1;36m61\u001b[0m/\u001b[1;36m380\u001b[0m\u001b[1m]\u001b[0m Retrieving game with \u001b[33mid\u001b[0m=\u001b[35m1219daa1\u001b[0m                                 \u001b]8;id=455092;file:///usr/local/python/3.12.1/lib/python3.12/site-packages/fbrefdata/fbref.py\u001b\\\u001b[2mfbref.py\u001b[0m\u001b]8;;\u001b\\\u001b[2m:\u001b[0m\u001b]8;id=525896;file:///usr/local/python/3.12.1/lib/python3.12/site-packages/fbrefdata/fbref.py#927\u001b\\\u001b[2m927\u001b[0m\u001b]8;;\u001b\\\n"
      ]
     },
     "metadata": {},
     "output_type": "display_data"
    },
    {
     "name": "stderr",
     "output_type": "stream",
     "text": [
      "/usr/local/python/3.12.1/lib/python3.12/site-packages/fbrefdata/fbref.py:940: FutureWarning: This search incorrectly ignores the root element, and will be fixed in a future version.  If you rely on the current behaviour, change it to \".//table[@id='stats_8602292d_summary']\"\n",
      "  html_table = tree.find(\"//table[@id='\" + id_format.format(home_team[\"id\"]) + \"']\")\n",
      "/usr/local/python/3.12.1/lib/python3.12/site-packages/fbrefdata/fbref.py:953: FutureWarning: This search incorrectly ignores the root element, and will be fixed in a future version.  If you rely on the current behaviour, change it to \".//table[@id='stats_33c895d4_summary']\"\n",
      "  html_table = tree.find(\"//table[@id='\" + id_format.format(away_team[\"id\"]) + \"']\")\n"
     ]
    },
    {
     "data": {
      "text/html": [
       "<pre style=\"white-space:pre;overflow-x:auto;line-height:normal;font-family:Menlo,'DejaVu Sans Mono',consolas,'Courier New',monospace\"><span style=\"color: #7fbfbf; text-decoration-color: #7fbfbf\">[08/29/24 07:54:44] </span><span style=\"color: #000080; text-decoration-color: #000080\">INFO    </span> <span style=\"font-weight: bold\">[</span><span style=\"color: #008080; text-decoration-color: #008080; font-weight: bold\">62</span>/<span style=\"color: #008080; text-decoration-color: #008080; font-weight: bold\">380</span><span style=\"font-weight: bold\">]</span> Retrieving game with <span style=\"color: #808000; text-decoration-color: #808000\">id</span>=<span style=\"color: #800080; text-decoration-color: #800080\">d0d07e66</span>                                 <a href=\"file:///usr/local/python/3.12.1/lib/python3.12/site-packages/fbrefdata/fbref.py\" target=\"_blank\"><span style=\"color: #7f7f7f; text-decoration-color: #7f7f7f\">fbref.py</span></a><span style=\"color: #7f7f7f; text-decoration-color: #7f7f7f\">:</span><a href=\"file:///usr/local/python/3.12.1/lib/python3.12/site-packages/fbrefdata/fbref.py#927\" target=\"_blank\"><span style=\"color: #7f7f7f; text-decoration-color: #7f7f7f\">927</span></a>\n",
       "</pre>\n"
      ],
      "text/plain": [
       "\u001b[2;36m[08/29/24 07:54:44]\u001b[0m\u001b[2;36m \u001b[0m\u001b[34mINFO    \u001b[0m \u001b[1m[\u001b[0m\u001b[1;36m62\u001b[0m/\u001b[1;36m380\u001b[0m\u001b[1m]\u001b[0m Retrieving game with \u001b[33mid\u001b[0m=\u001b[35md0d07e66\u001b[0m                                 \u001b]8;id=119424;file:///usr/local/python/3.12.1/lib/python3.12/site-packages/fbrefdata/fbref.py\u001b\\\u001b[2mfbref.py\u001b[0m\u001b]8;;\u001b\\\u001b[2m:\u001b[0m\u001b]8;id=595553;file:///usr/local/python/3.12.1/lib/python3.12/site-packages/fbrefdata/fbref.py#927\u001b\\\u001b[2m927\u001b[0m\u001b]8;;\u001b\\\n"
      ]
     },
     "metadata": {},
     "output_type": "display_data"
    },
    {
     "name": "stderr",
     "output_type": "stream",
     "text": [
      "/usr/local/python/3.12.1/lib/python3.12/site-packages/fbrefdata/fbref.py:940: FutureWarning: This search incorrectly ignores the root element, and will be fixed in a future version.  If you rely on the current behaviour, change it to \".//table[@id='stats_e4a775cb_summary']\"\n",
      "  html_table = tree.find(\"//table[@id='\" + id_format.format(home_team[\"id\"]) + \"']\")\n",
      "/usr/local/python/3.12.1/lib/python3.12/site-packages/fbrefdata/fbref.py:953: FutureWarning: This search incorrectly ignores the root element, and will be fixed in a future version.  If you rely on the current behaviour, change it to \".//table[@id='stats_fd962109_summary']\"\n",
      "  html_table = tree.find(\"//table[@id='\" + id_format.format(away_team[\"id\"]) + \"']\")\n"
     ]
    },
    {
     "data": {
      "text/html": [
       "<pre style=\"white-space:pre;overflow-x:auto;line-height:normal;font-family:Menlo,'DejaVu Sans Mono',consolas,'Courier New',monospace\"><span style=\"color: #7fbfbf; text-decoration-color: #7fbfbf\">[08/29/24 07:54:50] </span><span style=\"color: #000080; text-decoration-color: #000080\">INFO    </span> <span style=\"font-weight: bold\">[</span><span style=\"color: #008080; text-decoration-color: #008080; font-weight: bold\">63</span>/<span style=\"color: #008080; text-decoration-color: #008080; font-weight: bold\">380</span><span style=\"font-weight: bold\">]</span> Retrieving game with <span style=\"color: #808000; text-decoration-color: #808000\">id</span>=<span style=\"color: #800080; text-decoration-color: #800080\">177da679</span>                                 <a href=\"file:///usr/local/python/3.12.1/lib/python3.12/site-packages/fbrefdata/fbref.py\" target=\"_blank\"><span style=\"color: #7f7f7f; text-decoration-color: #7f7f7f\">fbref.py</span></a><span style=\"color: #7f7f7f; text-decoration-color: #7f7f7f\">:</span><a href=\"file:///usr/local/python/3.12.1/lib/python3.12/site-packages/fbrefdata/fbref.py#927\" target=\"_blank\"><span style=\"color: #7f7f7f; text-decoration-color: #7f7f7f\">927</span></a>\n",
       "</pre>\n"
      ],
      "text/plain": [
       "\u001b[2;36m[08/29/24 07:54:50]\u001b[0m\u001b[2;36m \u001b[0m\u001b[34mINFO    \u001b[0m \u001b[1m[\u001b[0m\u001b[1;36m63\u001b[0m/\u001b[1;36m380\u001b[0m\u001b[1m]\u001b[0m Retrieving game with \u001b[33mid\u001b[0m=\u001b[35m177da679\u001b[0m                                 \u001b]8;id=264250;file:///usr/local/python/3.12.1/lib/python3.12/site-packages/fbrefdata/fbref.py\u001b\\\u001b[2mfbref.py\u001b[0m\u001b]8;;\u001b\\\u001b[2m:\u001b[0m\u001b]8;id=954563;file:///usr/local/python/3.12.1/lib/python3.12/site-packages/fbrefdata/fbref.py#927\u001b\\\u001b[2m927\u001b[0m\u001b]8;;\u001b\\\n"
      ]
     },
     "metadata": {},
     "output_type": "display_data"
    },
    {
     "name": "stderr",
     "output_type": "stream",
     "text": [
      "/usr/local/python/3.12.1/lib/python3.12/site-packages/fbrefdata/fbref.py:940: FutureWarning: This search incorrectly ignores the root element, and will be fixed in a future version.  If you rely on the current behaviour, change it to \".//table[@id='stats_b2b47a98_summary']\"\n",
      "  html_table = tree.find(\"//table[@id='\" + id_format.format(home_team[\"id\"]) + \"']\")\n",
      "/usr/local/python/3.12.1/lib/python3.12/site-packages/fbrefdata/fbref.py:953: FutureWarning: This search incorrectly ignores the root element, and will be fixed in a future version.  If you rely on the current behaviour, change it to \".//table[@id='stats_4ba7cbea_summary']\"\n",
      "  html_table = tree.find(\"//table[@id='\" + id_format.format(away_team[\"id\"]) + \"']\")\n"
     ]
    },
    {
     "data": {
      "text/html": [
       "<pre style=\"white-space:pre;overflow-x:auto;line-height:normal;font-family:Menlo,'DejaVu Sans Mono',consolas,'Courier New',monospace\"><span style=\"color: #7fbfbf; text-decoration-color: #7fbfbf\">[08/29/24 07:54:56] </span><span style=\"color: #000080; text-decoration-color: #000080\">INFO    </span> <span style=\"font-weight: bold\">[</span><span style=\"color: #008080; text-decoration-color: #008080; font-weight: bold\">64</span>/<span style=\"color: #008080; text-decoration-color: #008080; font-weight: bold\">380</span><span style=\"font-weight: bold\">]</span> Retrieving game with <span style=\"color: #808000; text-decoration-color: #808000\">id</span>=<span style=\"color: #800080; text-decoration-color: #800080\">99e44c16</span>                                 <a href=\"file:///usr/local/python/3.12.1/lib/python3.12/site-packages/fbrefdata/fbref.py\" target=\"_blank\"><span style=\"color: #7f7f7f; text-decoration-color: #7f7f7f\">fbref.py</span></a><span style=\"color: #7f7f7f; text-decoration-color: #7f7f7f\">:</span><a href=\"file:///usr/local/python/3.12.1/lib/python3.12/site-packages/fbrefdata/fbref.py#927\" target=\"_blank\"><span style=\"color: #7f7f7f; text-decoration-color: #7f7f7f\">927</span></a>\n",
       "</pre>\n"
      ],
      "text/plain": [
       "\u001b[2;36m[08/29/24 07:54:56]\u001b[0m\u001b[2;36m \u001b[0m\u001b[34mINFO    \u001b[0m \u001b[1m[\u001b[0m\u001b[1;36m64\u001b[0m/\u001b[1;36m380\u001b[0m\u001b[1m]\u001b[0m Retrieving game with \u001b[33mid\u001b[0m=\u001b[35m99e44c16\u001b[0m                                 \u001b]8;id=73464;file:///usr/local/python/3.12.1/lib/python3.12/site-packages/fbrefdata/fbref.py\u001b\\\u001b[2mfbref.py\u001b[0m\u001b]8;;\u001b\\\u001b[2m:\u001b[0m\u001b]8;id=636048;file:///usr/local/python/3.12.1/lib/python3.12/site-packages/fbrefdata/fbref.py#927\u001b\\\u001b[2m927\u001b[0m\u001b]8;;\u001b\\\n"
      ]
     },
     "metadata": {},
     "output_type": "display_data"
    },
    {
     "name": "stderr",
     "output_type": "stream",
     "text": [
      "/usr/local/python/3.12.1/lib/python3.12/site-packages/fbrefdata/fbref.py:940: FutureWarning: This search incorrectly ignores the root element, and will be fixed in a future version.  If you rely on the current behaviour, change it to \".//table[@id='stats_361ca564_summary']\"\n",
      "  html_table = tree.find(\"//table[@id='\" + id_format.format(home_team[\"id\"]) + \"']\")\n",
      "/usr/local/python/3.12.1/lib/python3.12/site-packages/fbrefdata/fbref.py:953: FutureWarning: This search incorrectly ignores the root element, and will be fixed in a future version.  If you rely on the current behaviour, change it to \".//table[@id='stats_a2d435b3_summary']\"\n",
      "  html_table = tree.find(\"//table[@id='\" + id_format.format(away_team[\"id\"]) + \"']\")\n"
     ]
    },
    {
     "data": {
      "text/html": [
       "<pre style=\"white-space:pre;overflow-x:auto;line-height:normal;font-family:Menlo,'DejaVu Sans Mono',consolas,'Courier New',monospace\"><span style=\"color: #7fbfbf; text-decoration-color: #7fbfbf\">[08/29/24 07:55:03] </span><span style=\"color: #000080; text-decoration-color: #000080\">INFO    </span> <span style=\"font-weight: bold\">[</span><span style=\"color: #008080; text-decoration-color: #008080; font-weight: bold\">65</span>/<span style=\"color: #008080; text-decoration-color: #008080; font-weight: bold\">380</span><span style=\"font-weight: bold\">]</span> Retrieving game with <span style=\"color: #808000; text-decoration-color: #808000\">id</span>=<span style=\"color: #800080; text-decoration-color: #800080\">96b5cc15</span>                                 <a href=\"file:///usr/local/python/3.12.1/lib/python3.12/site-packages/fbrefdata/fbref.py\" target=\"_blank\"><span style=\"color: #7f7f7f; text-decoration-color: #7f7f7f\">fbref.py</span></a><span style=\"color: #7f7f7f; text-decoration-color: #7f7f7f\">:</span><a href=\"file:///usr/local/python/3.12.1/lib/python3.12/site-packages/fbrefdata/fbref.py#927\" target=\"_blank\"><span style=\"color: #7f7f7f; text-decoration-color: #7f7f7f\">927</span></a>\n",
       "</pre>\n"
      ],
      "text/plain": [
       "\u001b[2;36m[08/29/24 07:55:03]\u001b[0m\u001b[2;36m \u001b[0m\u001b[34mINFO    \u001b[0m \u001b[1m[\u001b[0m\u001b[1;36m65\u001b[0m/\u001b[1;36m380\u001b[0m\u001b[1m]\u001b[0m Retrieving game with \u001b[33mid\u001b[0m=\u001b[35m96b5cc15\u001b[0m                                 \u001b]8;id=95955;file:///usr/local/python/3.12.1/lib/python3.12/site-packages/fbrefdata/fbref.py\u001b\\\u001b[2mfbref.py\u001b[0m\u001b]8;;\u001b\\\u001b[2m:\u001b[0m\u001b]8;id=783671;file:///usr/local/python/3.12.1/lib/python3.12/site-packages/fbrefdata/fbref.py#927\u001b\\\u001b[2m927\u001b[0m\u001b]8;;\u001b\\\n"
      ]
     },
     "metadata": {},
     "output_type": "display_data"
    },
    {
     "name": "stderr",
     "output_type": "stream",
     "text": [
      "/usr/local/python/3.12.1/lib/python3.12/site-packages/fbrefdata/fbref.py:940: FutureWarning: This search incorrectly ignores the root element, and will be fixed in a future version.  If you rely on the current behaviour, change it to \".//table[@id='stats_8cec06e1_summary']\"\n",
      "  html_table = tree.find(\"//table[@id='\" + id_format.format(home_team[\"id\"]) + \"']\")\n",
      "/usr/local/python/3.12.1/lib/python3.12/site-packages/fbrefdata/fbref.py:953: FutureWarning: This search incorrectly ignores the root element, and will be fixed in a future version.  If you rely on the current behaviour, change it to \".//table[@id='stats_b8fd03ef_summary']\"\n",
      "  html_table = tree.find(\"//table[@id='\" + id_format.format(away_team[\"id\"]) + \"']\")\n"
     ]
    },
    {
     "data": {
      "text/html": [
       "<pre style=\"white-space:pre;overflow-x:auto;line-height:normal;font-family:Menlo,'DejaVu Sans Mono',consolas,'Courier New',monospace\"><span style=\"color: #7fbfbf; text-decoration-color: #7fbfbf\">[08/29/24 07:55:09] </span><span style=\"color: #000080; text-decoration-color: #000080\">INFO    </span> <span style=\"font-weight: bold\">[</span><span style=\"color: #008080; text-decoration-color: #008080; font-weight: bold\">66</span>/<span style=\"color: #008080; text-decoration-color: #008080; font-weight: bold\">380</span><span style=\"font-weight: bold\">]</span> Retrieving game with <span style=\"color: #808000; text-decoration-color: #808000\">id</span>=<span style=\"color: #800080; text-decoration-color: #800080\">fd5626e6</span>                                 <a href=\"file:///usr/local/python/3.12.1/lib/python3.12/site-packages/fbrefdata/fbref.py\" target=\"_blank\"><span style=\"color: #7f7f7f; text-decoration-color: #7f7f7f\">fbref.py</span></a><span style=\"color: #7f7f7f; text-decoration-color: #7f7f7f\">:</span><a href=\"file:///usr/local/python/3.12.1/lib/python3.12/site-packages/fbrefdata/fbref.py#927\" target=\"_blank\"><span style=\"color: #7f7f7f; text-decoration-color: #7f7f7f\">927</span></a>\n",
       "</pre>\n"
      ],
      "text/plain": [
       "\u001b[2;36m[08/29/24 07:55:09]\u001b[0m\u001b[2;36m \u001b[0m\u001b[34mINFO    \u001b[0m \u001b[1m[\u001b[0m\u001b[1;36m66\u001b[0m/\u001b[1;36m380\u001b[0m\u001b[1m]\u001b[0m Retrieving game with \u001b[33mid\u001b[0m=\u001b[35mfd5626e6\u001b[0m                                 \u001b]8;id=133449;file:///usr/local/python/3.12.1/lib/python3.12/site-packages/fbrefdata/fbref.py\u001b\\\u001b[2mfbref.py\u001b[0m\u001b]8;;\u001b\\\u001b[2m:\u001b[0m\u001b]8;id=296087;file:///usr/local/python/3.12.1/lib/python3.12/site-packages/fbrefdata/fbref.py#927\u001b\\\u001b[2m927\u001b[0m\u001b]8;;\u001b\\\n"
      ]
     },
     "metadata": {},
     "output_type": "display_data"
    },
    {
     "name": "stderr",
     "output_type": "stream",
     "text": [
      "/usr/local/python/3.12.1/lib/python3.12/site-packages/fbrefdata/fbref.py:940: FutureWarning: This search incorrectly ignores the root element, and will be fixed in a future version.  If you rely on the current behaviour, change it to \".//table[@id='stats_cd051869_summary']\"\n",
      "  html_table = tree.find(\"//table[@id='\" + id_format.format(home_team[\"id\"]) + \"']\")\n",
      "/usr/local/python/3.12.1/lib/python3.12/site-packages/fbrefdata/fbref.py:953: FutureWarning: This search incorrectly ignores the root element, and will be fixed in a future version.  If you rely on the current behaviour, change it to \".//table[@id='stats_18bb7c10_summary']\"\n",
      "  html_table = tree.find(\"//table[@id='\" + id_format.format(away_team[\"id\"]) + \"']\")\n"
     ]
    },
    {
     "data": {
      "text/html": [
       "<pre style=\"white-space:pre;overflow-x:auto;line-height:normal;font-family:Menlo,'DejaVu Sans Mono',consolas,'Courier New',monospace\"><span style=\"color: #7fbfbf; text-decoration-color: #7fbfbf\">[08/29/24 07:55:15] </span><span style=\"color: #000080; text-decoration-color: #000080\">INFO    </span> <span style=\"font-weight: bold\">[</span><span style=\"color: #008080; text-decoration-color: #008080; font-weight: bold\">67</span>/<span style=\"color: #008080; text-decoration-color: #008080; font-weight: bold\">380</span><span style=\"font-weight: bold\">]</span> Retrieving game with <span style=\"color: #808000; text-decoration-color: #808000\">id</span>=<span style=\"color: #800080; text-decoration-color: #800080\">96e9dc0f</span>                                 <a href=\"file:///usr/local/python/3.12.1/lib/python3.12/site-packages/fbrefdata/fbref.py\" target=\"_blank\"><span style=\"color: #7f7f7f; text-decoration-color: #7f7f7f\">fbref.py</span></a><span style=\"color: #7f7f7f; text-decoration-color: #7f7f7f\">:</span><a href=\"file:///usr/local/python/3.12.1/lib/python3.12/site-packages/fbrefdata/fbref.py#927\" target=\"_blank\"><span style=\"color: #7f7f7f; text-decoration-color: #7f7f7f\">927</span></a>\n",
       "</pre>\n"
      ],
      "text/plain": [
       "\u001b[2;36m[08/29/24 07:55:15]\u001b[0m\u001b[2;36m \u001b[0m\u001b[34mINFO    \u001b[0m \u001b[1m[\u001b[0m\u001b[1;36m67\u001b[0m/\u001b[1;36m380\u001b[0m\u001b[1m]\u001b[0m Retrieving game with \u001b[33mid\u001b[0m=\u001b[35m96e9dc0f\u001b[0m                                 \u001b]8;id=979835;file:///usr/local/python/3.12.1/lib/python3.12/site-packages/fbrefdata/fbref.py\u001b\\\u001b[2mfbref.py\u001b[0m\u001b]8;;\u001b\\\u001b[2m:\u001b[0m\u001b]8;id=77444;file:///usr/local/python/3.12.1/lib/python3.12/site-packages/fbrefdata/fbref.py#927\u001b\\\u001b[2m927\u001b[0m\u001b]8;;\u001b\\\n"
      ]
     },
     "metadata": {},
     "output_type": "display_data"
    },
    {
     "name": "stderr",
     "output_type": "stream",
     "text": [
      "/usr/local/python/3.12.1/lib/python3.12/site-packages/fbrefdata/fbref.py:940: FutureWarning: This search incorrectly ignores the root element, and will be fixed in a future version.  If you rely on the current behaviour, change it to \".//table[@id='stats_d3fd31cc_summary']\"\n",
      "  html_table = tree.find(\"//table[@id='\" + id_format.format(home_team[\"id\"]) + \"']\")\n",
      "/usr/local/python/3.12.1/lib/python3.12/site-packages/fbrefdata/fbref.py:953: FutureWarning: This search incorrectly ignores the root element, and will be fixed in a future version.  If you rely on the current behaviour, change it to \".//table[@id='stats_7c21e445_summary']\"\n",
      "  html_table = tree.find(\"//table[@id='\" + id_format.format(away_team[\"id\"]) + \"']\")\n"
     ]
    },
    {
     "data": {
      "text/html": [
       "<pre style=\"white-space:pre;overflow-x:auto;line-height:normal;font-family:Menlo,'DejaVu Sans Mono',consolas,'Courier New',monospace\"><span style=\"color: #7fbfbf; text-decoration-color: #7fbfbf\">[08/29/24 07:55:22] </span><span style=\"color: #000080; text-decoration-color: #000080\">INFO    </span> <span style=\"font-weight: bold\">[</span><span style=\"color: #008080; text-decoration-color: #008080; font-weight: bold\">68</span>/<span style=\"color: #008080; text-decoration-color: #008080; font-weight: bold\">380</span><span style=\"font-weight: bold\">]</span> Retrieving game with <span style=\"color: #808000; text-decoration-color: #808000\">id</span>=<span style=\"color: #800080; text-decoration-color: #800080\">aefe3b90</span>                                 <a href=\"file:///usr/local/python/3.12.1/lib/python3.12/site-packages/fbrefdata/fbref.py\" target=\"_blank\"><span style=\"color: #7f7f7f; text-decoration-color: #7f7f7f\">fbref.py</span></a><span style=\"color: #7f7f7f; text-decoration-color: #7f7f7f\">:</span><a href=\"file:///usr/local/python/3.12.1/lib/python3.12/site-packages/fbrefdata/fbref.py#927\" target=\"_blank\"><span style=\"color: #7f7f7f; text-decoration-color: #7f7f7f\">927</span></a>\n",
       "</pre>\n"
      ],
      "text/plain": [
       "\u001b[2;36m[08/29/24 07:55:22]\u001b[0m\u001b[2;36m \u001b[0m\u001b[34mINFO    \u001b[0m \u001b[1m[\u001b[0m\u001b[1;36m68\u001b[0m/\u001b[1;36m380\u001b[0m\u001b[1m]\u001b[0m Retrieving game with \u001b[33mid\u001b[0m=\u001b[35maefe3b90\u001b[0m                                 \u001b]8;id=831967;file:///usr/local/python/3.12.1/lib/python3.12/site-packages/fbrefdata/fbref.py\u001b\\\u001b[2mfbref.py\u001b[0m\u001b]8;;\u001b\\\u001b[2m:\u001b[0m\u001b]8;id=162205;file:///usr/local/python/3.12.1/lib/python3.12/site-packages/fbrefdata/fbref.py#927\u001b\\\u001b[2m927\u001b[0m\u001b]8;;\u001b\\\n"
      ]
     },
     "metadata": {},
     "output_type": "display_data"
    },
    {
     "name": "stderr",
     "output_type": "stream",
     "text": [
      "/usr/local/python/3.12.1/lib/python3.12/site-packages/fbrefdata/fbref.py:940: FutureWarning: This search incorrectly ignores the root element, and will be fixed in a future version.  If you rely on the current behaviour, change it to \".//table[@id='stats_18bb7c10_summary']\"\n",
      "  html_table = tree.find(\"//table[@id='\" + id_format.format(home_team[\"id\"]) + \"']\")\n",
      "/usr/local/python/3.12.1/lib/python3.12/site-packages/fbrefdata/fbref.py:953: FutureWarning: This search incorrectly ignores the root element, and will be fixed in a future version.  If you rely on the current behaviour, change it to \".//table[@id='stats_361ca564_summary']\"\n",
      "  html_table = tree.find(\"//table[@id='\" + id_format.format(away_team[\"id\"]) + \"']\")\n"
     ]
    },
    {
     "data": {
      "text/html": [
       "<pre style=\"white-space:pre;overflow-x:auto;line-height:normal;font-family:Menlo,'DejaVu Sans Mono',consolas,'Courier New',monospace\"><span style=\"color: #7fbfbf; text-decoration-color: #7fbfbf\">[08/29/24 07:55:29] </span><span style=\"color: #000080; text-decoration-color: #000080\">INFO    </span> <span style=\"font-weight: bold\">[</span><span style=\"color: #008080; text-decoration-color: #008080; font-weight: bold\">69</span>/<span style=\"color: #008080; text-decoration-color: #008080; font-weight: bold\">380</span><span style=\"font-weight: bold\">]</span> Retrieving game with <span style=\"color: #808000; text-decoration-color: #808000\">id</span>=<span style=\"color: #800080; text-decoration-color: #800080\">f2e86b27</span>                                 <a href=\"file:///usr/local/python/3.12.1/lib/python3.12/site-packages/fbrefdata/fbref.py\" target=\"_blank\"><span style=\"color: #7f7f7f; text-decoration-color: #7f7f7f\">fbref.py</span></a><span style=\"color: #7f7f7f; text-decoration-color: #7f7f7f\">:</span><a href=\"file:///usr/local/python/3.12.1/lib/python3.12/site-packages/fbrefdata/fbref.py#927\" target=\"_blank\"><span style=\"color: #7f7f7f; text-decoration-color: #7f7f7f\">927</span></a>\n",
       "</pre>\n"
      ],
      "text/plain": [
       "\u001b[2;36m[08/29/24 07:55:29]\u001b[0m\u001b[2;36m \u001b[0m\u001b[34mINFO    \u001b[0m \u001b[1m[\u001b[0m\u001b[1;36m69\u001b[0m/\u001b[1;36m380\u001b[0m\u001b[1m]\u001b[0m Retrieving game with \u001b[33mid\u001b[0m=\u001b[35mf2e86b27\u001b[0m                                 \u001b]8;id=666252;file:///usr/local/python/3.12.1/lib/python3.12/site-packages/fbrefdata/fbref.py\u001b\\\u001b[2mfbref.py\u001b[0m\u001b]8;;\u001b\\\u001b[2m:\u001b[0m\u001b]8;id=44355;file:///usr/local/python/3.12.1/lib/python3.12/site-packages/fbrefdata/fbref.py#927\u001b\\\u001b[2m927\u001b[0m\u001b]8;;\u001b\\\n"
      ]
     },
     "metadata": {},
     "output_type": "display_data"
    },
    {
     "name": "stderr",
     "output_type": "stream",
     "text": [
      "/usr/local/python/3.12.1/lib/python3.12/site-packages/fbrefdata/fbref.py:940: FutureWarning: This search incorrectly ignores the root element, and will be fixed in a future version.  If you rely on the current behaviour, change it to \".//table[@id='stats_4ba7cbea_summary']\"\n",
      "  html_table = tree.find(\"//table[@id='\" + id_format.format(home_team[\"id\"]) + \"']\")\n",
      "/usr/local/python/3.12.1/lib/python3.12/site-packages/fbrefdata/fbref.py:953: FutureWarning: This search incorrectly ignores the root element, and will be fixed in a future version.  If you rely on the current behaviour, change it to \".//table[@id='stats_cd051869_summary']\"\n",
      "  html_table = tree.find(\"//table[@id='\" + id_format.format(away_team[\"id\"]) + \"']\")\n"
     ]
    },
    {
     "data": {
      "text/html": [
       "<pre style=\"white-space:pre;overflow-x:auto;line-height:normal;font-family:Menlo,'DejaVu Sans Mono',consolas,'Courier New',monospace\"><span style=\"color: #7fbfbf; text-decoration-color: #7fbfbf\">[08/29/24 07:55:35] </span><span style=\"color: #000080; text-decoration-color: #000080\">INFO    </span> <span style=\"font-weight: bold\">[</span><span style=\"color: #008080; text-decoration-color: #008080; font-weight: bold\">70</span>/<span style=\"color: #008080; text-decoration-color: #008080; font-weight: bold\">380</span><span style=\"font-weight: bold\">]</span> Retrieving game with <span style=\"color: #808000; text-decoration-color: #808000\">id</span>=<span style=\"color: #800080; text-decoration-color: #800080\">372249f3</span>                                 <a href=\"file:///usr/local/python/3.12.1/lib/python3.12/site-packages/fbrefdata/fbref.py\" target=\"_blank\"><span style=\"color: #7f7f7f; text-decoration-color: #7f7f7f\">fbref.py</span></a><span style=\"color: #7f7f7f; text-decoration-color: #7f7f7f\">:</span><a href=\"file:///usr/local/python/3.12.1/lib/python3.12/site-packages/fbrefdata/fbref.py#927\" target=\"_blank\"><span style=\"color: #7f7f7f; text-decoration-color: #7f7f7f\">927</span></a>\n",
       "</pre>\n"
      ],
      "text/plain": [
       "\u001b[2;36m[08/29/24 07:55:35]\u001b[0m\u001b[2;36m \u001b[0m\u001b[34mINFO    \u001b[0m \u001b[1m[\u001b[0m\u001b[1;36m70\u001b[0m/\u001b[1;36m380\u001b[0m\u001b[1m]\u001b[0m Retrieving game with \u001b[33mid\u001b[0m=\u001b[35m372249f3\u001b[0m                                 \u001b]8;id=470653;file:///usr/local/python/3.12.1/lib/python3.12/site-packages/fbrefdata/fbref.py\u001b\\\u001b[2mfbref.py\u001b[0m\u001b]8;;\u001b\\\u001b[2m:\u001b[0m\u001b]8;id=871102;file:///usr/local/python/3.12.1/lib/python3.12/site-packages/fbrefdata/fbref.py#927\u001b\\\u001b[2m927\u001b[0m\u001b]8;;\u001b\\\n"
      ]
     },
     "metadata": {},
     "output_type": "display_data"
    },
    {
     "name": "stderr",
     "output_type": "stream",
     "text": [
      "/usr/local/python/3.12.1/lib/python3.12/site-packages/fbrefdata/fbref.py:940: FutureWarning: This search incorrectly ignores the root element, and will be fixed in a future version.  If you rely on the current behaviour, change it to \".//table[@id='stats_47c64c55_summary']\"\n",
      "  html_table = tree.find(\"//table[@id='\" + id_format.format(home_team[\"id\"]) + \"']\")\n",
      "/usr/local/python/3.12.1/lib/python3.12/site-packages/fbrefdata/fbref.py:953: FutureWarning: This search incorrectly ignores the root element, and will be fixed in a future version.  If you rely on the current behaviour, change it to \".//table[@id='stats_cff3d9bb_summary']\"\n",
      "  html_table = tree.find(\"//table[@id='\" + id_format.format(away_team[\"id\"]) + \"']\")\n"
     ]
    },
    {
     "data": {
      "text/html": [
       "<pre style=\"white-space:pre;overflow-x:auto;line-height:normal;font-family:Menlo,'DejaVu Sans Mono',consolas,'Courier New',monospace\"><span style=\"color: #7fbfbf; text-decoration-color: #7fbfbf\">[08/29/24 07:55:42] </span><span style=\"color: #000080; text-decoration-color: #000080\">INFO    </span> <span style=\"font-weight: bold\">[</span><span style=\"color: #008080; text-decoration-color: #008080; font-weight: bold\">71</span>/<span style=\"color: #008080; text-decoration-color: #008080; font-weight: bold\">380</span><span style=\"font-weight: bold\">]</span> Retrieving game with <span style=\"color: #808000; text-decoration-color: #808000\">id</span>=<span style=\"color: #800080; text-decoration-color: #800080\">dcde1172</span>                                 <a href=\"file:///usr/local/python/3.12.1/lib/python3.12/site-packages/fbrefdata/fbref.py\" target=\"_blank\"><span style=\"color: #7f7f7f; text-decoration-color: #7f7f7f\">fbref.py</span></a><span style=\"color: #7f7f7f; text-decoration-color: #7f7f7f\">:</span><a href=\"file:///usr/local/python/3.12.1/lib/python3.12/site-packages/fbrefdata/fbref.py#927\" target=\"_blank\"><span style=\"color: #7f7f7f; text-decoration-color: #7f7f7f\">927</span></a>\n",
       "</pre>\n"
      ],
      "text/plain": [
       "\u001b[2;36m[08/29/24 07:55:42]\u001b[0m\u001b[2;36m \u001b[0m\u001b[34mINFO    \u001b[0m \u001b[1m[\u001b[0m\u001b[1;36m71\u001b[0m/\u001b[1;36m380\u001b[0m\u001b[1m]\u001b[0m Retrieving game with \u001b[33mid\u001b[0m=\u001b[35mdcde1172\u001b[0m                                 \u001b]8;id=1685;file:///usr/local/python/3.12.1/lib/python3.12/site-packages/fbrefdata/fbref.py\u001b\\\u001b[2mfbref.py\u001b[0m\u001b]8;;\u001b\\\u001b[2m:\u001b[0m\u001b]8;id=913490;file:///usr/local/python/3.12.1/lib/python3.12/site-packages/fbrefdata/fbref.py#927\u001b\\\u001b[2m927\u001b[0m\u001b]8;;\u001b\\\n"
      ]
     },
     "metadata": {},
     "output_type": "display_data"
    },
    {
     "name": "stderr",
     "output_type": "stream",
     "text": [
      "/usr/local/python/3.12.1/lib/python3.12/site-packages/fbrefdata/fbref.py:940: FutureWarning: This search incorrectly ignores the root element, and will be fixed in a future version.  If you rely on the current behaviour, change it to \".//table[@id='stats_fd962109_summary']\"\n",
      "  html_table = tree.find(\"//table[@id='\" + id_format.format(home_team[\"id\"]) + \"']\")\n",
      "/usr/local/python/3.12.1/lib/python3.12/site-packages/fbrefdata/fbref.py:953: FutureWarning: This search incorrectly ignores the root element, and will be fixed in a future version.  If you rely on the current behaviour, change it to \".//table[@id='stats_b2b47a98_summary']\"\n",
      "  html_table = tree.find(\"//table[@id='\" + id_format.format(away_team[\"id\"]) + \"']\")\n"
     ]
    },
    {
     "data": {
      "text/html": [
       "<pre style=\"white-space:pre;overflow-x:auto;line-height:normal;font-family:Menlo,'DejaVu Sans Mono',consolas,'Courier New',monospace\"><span style=\"color: #7fbfbf; text-decoration-color: #7fbfbf\">[08/29/24 07:55:48] </span><span style=\"color: #000080; text-decoration-color: #000080\">INFO    </span> <span style=\"font-weight: bold\">[</span><span style=\"color: #008080; text-decoration-color: #008080; font-weight: bold\">72</span>/<span style=\"color: #008080; text-decoration-color: #008080; font-weight: bold\">380</span><span style=\"font-weight: bold\">]</span> Retrieving game with <span style=\"color: #808000; text-decoration-color: #808000\">id</span>=<span style=\"color: #800080; text-decoration-color: #800080\">aadd2e80</span>                                 <a href=\"file:///usr/local/python/3.12.1/lib/python3.12/site-packages/fbrefdata/fbref.py\" target=\"_blank\"><span style=\"color: #7f7f7f; text-decoration-color: #7f7f7f\">fbref.py</span></a><span style=\"color: #7f7f7f; text-decoration-color: #7f7f7f\">:</span><a href=\"file:///usr/local/python/3.12.1/lib/python3.12/site-packages/fbrefdata/fbref.py#927\" target=\"_blank\"><span style=\"color: #7f7f7f; text-decoration-color: #7f7f7f\">927</span></a>\n",
       "</pre>\n"
      ],
      "text/plain": [
       "\u001b[2;36m[08/29/24 07:55:48]\u001b[0m\u001b[2;36m \u001b[0m\u001b[34mINFO    \u001b[0m \u001b[1m[\u001b[0m\u001b[1;36m72\u001b[0m/\u001b[1;36m380\u001b[0m\u001b[1m]\u001b[0m Retrieving game with \u001b[33mid\u001b[0m=\u001b[35maadd2e80\u001b[0m                                 \u001b]8;id=544707;file:///usr/local/python/3.12.1/lib/python3.12/site-packages/fbrefdata/fbref.py\u001b\\\u001b[2mfbref.py\u001b[0m\u001b]8;;\u001b\\\u001b[2m:\u001b[0m\u001b]8;id=646953;file:///usr/local/python/3.12.1/lib/python3.12/site-packages/fbrefdata/fbref.py#927\u001b\\\u001b[2m927\u001b[0m\u001b]8;;\u001b\\\n"
      ]
     },
     "metadata": {},
     "output_type": "display_data"
    },
    {
     "name": "stderr",
     "output_type": "stream",
     "text": [
      "/usr/local/python/3.12.1/lib/python3.12/site-packages/fbrefdata/fbref.py:940: FutureWarning: This search incorrectly ignores the root element, and will be fixed in a future version.  If you rely on the current behaviour, change it to \".//table[@id='stats_822bd0ba_summary']\"\n",
      "  html_table = tree.find(\"//table[@id='\" + id_format.format(home_team[\"id\"]) + \"']\")\n",
      "/usr/local/python/3.12.1/lib/python3.12/site-packages/fbrefdata/fbref.py:953: FutureWarning: This search incorrectly ignores the root element, and will be fixed in a future version.  If you rely on the current behaviour, change it to \".//table[@id='stats_d07537b9_summary']\"\n",
      "  html_table = tree.find(\"//table[@id='\" + id_format.format(away_team[\"id\"]) + \"']\")\n"
     ]
    },
    {
     "data": {
      "text/html": [
       "<pre style=\"white-space:pre;overflow-x:auto;line-height:normal;font-family:Menlo,'DejaVu Sans Mono',consolas,'Courier New',monospace\"><span style=\"color: #7fbfbf; text-decoration-color: #7fbfbf\">[08/29/24 07:55:55] </span><span style=\"color: #000080; text-decoration-color: #000080\">INFO    </span> <span style=\"font-weight: bold\">[</span><span style=\"color: #008080; text-decoration-color: #008080; font-weight: bold\">73</span>/<span style=\"color: #008080; text-decoration-color: #008080; font-weight: bold\">380</span><span style=\"font-weight: bold\">]</span> Retrieving game with <span style=\"color: #808000; text-decoration-color: #808000\">id</span>=<span style=\"color: #800080; text-decoration-color: #800080\">06d00bcb</span>                                 <a href=\"file:///usr/local/python/3.12.1/lib/python3.12/site-packages/fbrefdata/fbref.py\" target=\"_blank\"><span style=\"color: #7f7f7f; text-decoration-color: #7f7f7f\">fbref.py</span></a><span style=\"color: #7f7f7f; text-decoration-color: #7f7f7f\">:</span><a href=\"file:///usr/local/python/3.12.1/lib/python3.12/site-packages/fbrefdata/fbref.py#927\" target=\"_blank\"><span style=\"color: #7f7f7f; text-decoration-color: #7f7f7f\">927</span></a>\n",
       "</pre>\n"
      ],
      "text/plain": [
       "\u001b[2;36m[08/29/24 07:55:55]\u001b[0m\u001b[2;36m \u001b[0m\u001b[34mINFO    \u001b[0m \u001b[1m[\u001b[0m\u001b[1;36m73\u001b[0m/\u001b[1;36m380\u001b[0m\u001b[1m]\u001b[0m Retrieving game with \u001b[33mid\u001b[0m=\u001b[35m06d00bcb\u001b[0m                                 \u001b]8;id=857646;file:///usr/local/python/3.12.1/lib/python3.12/site-packages/fbrefdata/fbref.py\u001b\\\u001b[2mfbref.py\u001b[0m\u001b]8;;\u001b\\\u001b[2m:\u001b[0m\u001b]8;id=48925;file:///usr/local/python/3.12.1/lib/python3.12/site-packages/fbrefdata/fbref.py#927\u001b\\\u001b[2m927\u001b[0m\u001b]8;;\u001b\\\n"
      ]
     },
     "metadata": {},
     "output_type": "display_data"
    },
    {
     "name": "stderr",
     "output_type": "stream",
     "text": [
      "/usr/local/python/3.12.1/lib/python3.12/site-packages/fbrefdata/fbref.py:940: FutureWarning: This search incorrectly ignores the root element, and will be fixed in a future version.  If you rely on the current behaviour, change it to \".//table[@id='stats_33c895d4_summary']\"\n",
      "  html_table = tree.find(\"//table[@id='\" + id_format.format(home_team[\"id\"]) + \"']\")\n",
      "/usr/local/python/3.12.1/lib/python3.12/site-packages/fbrefdata/fbref.py:953: FutureWarning: This search incorrectly ignores the root element, and will be fixed in a future version.  If you rely on the current behaviour, change it to \".//table[@id='stats_d3fd31cc_summary']\"\n",
      "  html_table = tree.find(\"//table[@id='\" + id_format.format(away_team[\"id\"]) + \"']\")\n"
     ]
    },
    {
     "data": {
      "text/html": [
       "<pre style=\"white-space:pre;overflow-x:auto;line-height:normal;font-family:Menlo,'DejaVu Sans Mono',consolas,'Courier New',monospace\"><span style=\"color: #7fbfbf; text-decoration-color: #7fbfbf\">[08/29/24 07:56:02] </span><span style=\"color: #000080; text-decoration-color: #000080\">INFO    </span> <span style=\"font-weight: bold\">[</span><span style=\"color: #008080; text-decoration-color: #008080; font-weight: bold\">74</span>/<span style=\"color: #008080; text-decoration-color: #008080; font-weight: bold\">380</span><span style=\"font-weight: bold\">]</span> Retrieving game with <span style=\"color: #808000; text-decoration-color: #808000\">id</span>=<span style=\"color: #800080; text-decoration-color: #800080\">89ff6cd8</span>                                 <a href=\"file:///usr/local/python/3.12.1/lib/python3.12/site-packages/fbrefdata/fbref.py\" target=\"_blank\"><span style=\"color: #7f7f7f; text-decoration-color: #7f7f7f\">fbref.py</span></a><span style=\"color: #7f7f7f; text-decoration-color: #7f7f7f\">:</span><a href=\"file:///usr/local/python/3.12.1/lib/python3.12/site-packages/fbrefdata/fbref.py#927\" target=\"_blank\"><span style=\"color: #7f7f7f; text-decoration-color: #7f7f7f\">927</span></a>\n",
       "</pre>\n"
      ],
      "text/plain": [
       "\u001b[2;36m[08/29/24 07:56:02]\u001b[0m\u001b[2;36m \u001b[0m\u001b[34mINFO    \u001b[0m \u001b[1m[\u001b[0m\u001b[1;36m74\u001b[0m/\u001b[1;36m380\u001b[0m\u001b[1m]\u001b[0m Retrieving game with \u001b[33mid\u001b[0m=\u001b[35m89ff6cd8\u001b[0m                                 \u001b]8;id=50274;file:///usr/local/python/3.12.1/lib/python3.12/site-packages/fbrefdata/fbref.py\u001b\\\u001b[2mfbref.py\u001b[0m\u001b]8;;\u001b\\\u001b[2m:\u001b[0m\u001b]8;id=646397;file:///usr/local/python/3.12.1/lib/python3.12/site-packages/fbrefdata/fbref.py#927\u001b\\\u001b[2m927\u001b[0m\u001b]8;;\u001b\\\n"
      ]
     },
     "metadata": {},
     "output_type": "display_data"
    },
    {
     "name": "stderr",
     "output_type": "stream",
     "text": [
      "/usr/local/python/3.12.1/lib/python3.12/site-packages/fbrefdata/fbref.py:940: FutureWarning: This search incorrectly ignores the root element, and will be fixed in a future version.  If you rely on the current behaviour, change it to \".//table[@id='stats_7c21e445_summary']\"\n",
      "  html_table = tree.find(\"//table[@id='\" + id_format.format(home_team[\"id\"]) + \"']\")\n",
      "/usr/local/python/3.12.1/lib/python3.12/site-packages/fbrefdata/fbref.py:953: FutureWarning: This search incorrectly ignores the root element, and will be fixed in a future version.  If you rely on the current behaviour, change it to \".//table[@id='stats_8cec06e1_summary']\"\n",
      "  html_table = tree.find(\"//table[@id='\" + id_format.format(away_team[\"id\"]) + \"']\")\n"
     ]
    },
    {
     "data": {
      "text/html": [
       "<pre style=\"white-space:pre;overflow-x:auto;line-height:normal;font-family:Menlo,'DejaVu Sans Mono',consolas,'Courier New',monospace\"><span style=\"color: #7fbfbf; text-decoration-color: #7fbfbf\">[08/29/24 07:56:08] </span><span style=\"color: #000080; text-decoration-color: #000080\">INFO    </span> <span style=\"font-weight: bold\">[</span><span style=\"color: #008080; text-decoration-color: #008080; font-weight: bold\">75</span>/<span style=\"color: #008080; text-decoration-color: #008080; font-weight: bold\">380</span><span style=\"font-weight: bold\">]</span> Retrieving game with <span style=\"color: #808000; text-decoration-color: #808000\">id</span>=<span style=\"color: #800080; text-decoration-color: #800080\">627d2279</span>                                 <a href=\"file:///usr/local/python/3.12.1/lib/python3.12/site-packages/fbrefdata/fbref.py\" target=\"_blank\"><span style=\"color: #7f7f7f; text-decoration-color: #7f7f7f\">fbref.py</span></a><span style=\"color: #7f7f7f; text-decoration-color: #7f7f7f\">:</span><a href=\"file:///usr/local/python/3.12.1/lib/python3.12/site-packages/fbrefdata/fbref.py#927\" target=\"_blank\"><span style=\"color: #7f7f7f; text-decoration-color: #7f7f7f\">927</span></a>\n",
       "</pre>\n"
      ],
      "text/plain": [
       "\u001b[2;36m[08/29/24 07:56:08]\u001b[0m\u001b[2;36m \u001b[0m\u001b[34mINFO    \u001b[0m \u001b[1m[\u001b[0m\u001b[1;36m75\u001b[0m/\u001b[1;36m380\u001b[0m\u001b[1m]\u001b[0m Retrieving game with \u001b[33mid\u001b[0m=\u001b[35m627d2279\u001b[0m                                 \u001b]8;id=276232;file:///usr/local/python/3.12.1/lib/python3.12/site-packages/fbrefdata/fbref.py\u001b\\\u001b[2mfbref.py\u001b[0m\u001b]8;;\u001b\\\u001b[2m:\u001b[0m\u001b]8;id=551325;file:///usr/local/python/3.12.1/lib/python3.12/site-packages/fbrefdata/fbref.py#927\u001b\\\u001b[2m927\u001b[0m\u001b]8;;\u001b\\\n"
      ]
     },
     "metadata": {},
     "output_type": "display_data"
    },
    {
     "name": "stderr",
     "output_type": "stream",
     "text": [
      "/usr/local/python/3.12.1/lib/python3.12/site-packages/fbrefdata/fbref.py:940: FutureWarning: This search incorrectly ignores the root element, and will be fixed in a future version.  If you rely on the current behaviour, change it to \".//table[@id='stats_5bfb9659_summary']\"\n",
      "  html_table = tree.find(\"//table[@id='\" + id_format.format(home_team[\"id\"]) + \"']\")\n",
      "/usr/local/python/3.12.1/lib/python3.12/site-packages/fbrefdata/fbref.py:953: FutureWarning: This search incorrectly ignores the root element, and will be fixed in a future version.  If you rely on the current behaviour, change it to \".//table[@id='stats_8602292d_summary']\"\n",
      "  html_table = tree.find(\"//table[@id='\" + id_format.format(away_team[\"id\"]) + \"']\")\n"
     ]
    },
    {
     "data": {
      "text/html": [
       "<pre style=\"white-space:pre;overflow-x:auto;line-height:normal;font-family:Menlo,'DejaVu Sans Mono',consolas,'Courier New',monospace\"><span style=\"color: #7fbfbf; text-decoration-color: #7fbfbf\">[08/29/24 07:56:14] </span><span style=\"color: #000080; text-decoration-color: #000080\">INFO    </span> <span style=\"font-weight: bold\">[</span><span style=\"color: #008080; text-decoration-color: #008080; font-weight: bold\">76</span>/<span style=\"color: #008080; text-decoration-color: #008080; font-weight: bold\">380</span><span style=\"font-weight: bold\">]</span> Retrieving game with <span style=\"color: #808000; text-decoration-color: #808000\">id</span>=<span style=\"color: #008080; text-decoration-color: #008080; font-weight: bold\">886e6108</span>                                 <a href=\"file:///usr/local/python/3.12.1/lib/python3.12/site-packages/fbrefdata/fbref.py\" target=\"_blank\"><span style=\"color: #7f7f7f; text-decoration-color: #7f7f7f\">fbref.py</span></a><span style=\"color: #7f7f7f; text-decoration-color: #7f7f7f\">:</span><a href=\"file:///usr/local/python/3.12.1/lib/python3.12/site-packages/fbrefdata/fbref.py#927\" target=\"_blank\"><span style=\"color: #7f7f7f; text-decoration-color: #7f7f7f\">927</span></a>\n",
       "</pre>\n"
      ],
      "text/plain": [
       "\u001b[2;36m[08/29/24 07:56:14]\u001b[0m\u001b[2;36m \u001b[0m\u001b[34mINFO    \u001b[0m \u001b[1m[\u001b[0m\u001b[1;36m76\u001b[0m/\u001b[1;36m380\u001b[0m\u001b[1m]\u001b[0m Retrieving game with \u001b[33mid\u001b[0m=\u001b[1;36m886e6108\u001b[0m                                 \u001b]8;id=557771;file:///usr/local/python/3.12.1/lib/python3.12/site-packages/fbrefdata/fbref.py\u001b\\\u001b[2mfbref.py\u001b[0m\u001b]8;;\u001b\\\u001b[2m:\u001b[0m\u001b]8;id=159465;file:///usr/local/python/3.12.1/lib/python3.12/site-packages/fbrefdata/fbref.py#927\u001b\\\u001b[2m927\u001b[0m\u001b]8;;\u001b\\\n"
      ]
     },
     "metadata": {},
     "output_type": "display_data"
    },
    {
     "name": "stderr",
     "output_type": "stream",
     "text": [
      "/usr/local/python/3.12.1/lib/python3.12/site-packages/fbrefdata/fbref.py:940: FutureWarning: This search incorrectly ignores the root element, and will be fixed in a future version.  If you rely on the current behaviour, change it to \".//table[@id='stats_b8fd03ef_summary']\"\n",
      "  html_table = tree.find(\"//table[@id='\" + id_format.format(home_team[\"id\"]) + \"']\")\n",
      "/usr/local/python/3.12.1/lib/python3.12/site-packages/fbrefdata/fbref.py:953: FutureWarning: This search incorrectly ignores the root element, and will be fixed in a future version.  If you rely on the current behaviour, change it to \".//table[@id='stats_19538871_summary']\"\n",
      "  html_table = tree.find(\"//table[@id='\" + id_format.format(away_team[\"id\"]) + \"']\")\n"
     ]
    },
    {
     "data": {
      "text/html": [
       "<pre style=\"white-space:pre;overflow-x:auto;line-height:normal;font-family:Menlo,'DejaVu Sans Mono',consolas,'Courier New',monospace\"><span style=\"color: #7fbfbf; text-decoration-color: #7fbfbf\">[08/29/24 07:56:21] </span><span style=\"color: #000080; text-decoration-color: #000080\">INFO    </span> <span style=\"font-weight: bold\">[</span><span style=\"color: #008080; text-decoration-color: #008080; font-weight: bold\">77</span>/<span style=\"color: #008080; text-decoration-color: #008080; font-weight: bold\">380</span><span style=\"font-weight: bold\">]</span> Retrieving game with <span style=\"color: #808000; text-decoration-color: #808000\">id</span>=<span style=\"color: #800080; text-decoration-color: #800080\">a7976021</span>                                 <a href=\"file:///usr/local/python/3.12.1/lib/python3.12/site-packages/fbrefdata/fbref.py\" target=\"_blank\"><span style=\"color: #7f7f7f; text-decoration-color: #7f7f7f\">fbref.py</span></a><span style=\"color: #7f7f7f; text-decoration-color: #7f7f7f\">:</span><a href=\"file:///usr/local/python/3.12.1/lib/python3.12/site-packages/fbrefdata/fbref.py#927\" target=\"_blank\"><span style=\"color: #7f7f7f; text-decoration-color: #7f7f7f\">927</span></a>\n",
       "</pre>\n"
      ],
      "text/plain": [
       "\u001b[2;36m[08/29/24 07:56:21]\u001b[0m\u001b[2;36m \u001b[0m\u001b[34mINFO    \u001b[0m \u001b[1m[\u001b[0m\u001b[1;36m77\u001b[0m/\u001b[1;36m380\u001b[0m\u001b[1m]\u001b[0m Retrieving game with \u001b[33mid\u001b[0m=\u001b[35ma7976021\u001b[0m                                 \u001b]8;id=283209;file:///usr/local/python/3.12.1/lib/python3.12/site-packages/fbrefdata/fbref.py\u001b\\\u001b[2mfbref.py\u001b[0m\u001b]8;;\u001b\\\u001b[2m:\u001b[0m\u001b]8;id=770335;file:///usr/local/python/3.12.1/lib/python3.12/site-packages/fbrefdata/fbref.py#927\u001b\\\u001b[2m927\u001b[0m\u001b]8;;\u001b\\\n"
      ]
     },
     "metadata": {},
     "output_type": "display_data"
    },
    {
     "name": "stderr",
     "output_type": "stream",
     "text": [
      "/usr/local/python/3.12.1/lib/python3.12/site-packages/fbrefdata/fbref.py:940: FutureWarning: This search incorrectly ignores the root element, and will be fixed in a future version.  If you rely on the current behaviour, change it to \".//table[@id='stats_a2d435b3_summary']\"\n",
      "  html_table = tree.find(\"//table[@id='\" + id_format.format(home_team[\"id\"]) + \"']\")\n",
      "/usr/local/python/3.12.1/lib/python3.12/site-packages/fbrefdata/fbref.py:953: FutureWarning: This search incorrectly ignores the root element, and will be fixed in a future version.  If you rely on the current behaviour, change it to \".//table[@id='stats_e4a775cb_summary']\"\n",
      "  html_table = tree.find(\"//table[@id='\" + id_format.format(away_team[\"id\"]) + \"']\")\n"
     ]
    },
    {
     "data": {
      "text/html": [
       "<pre style=\"white-space:pre;overflow-x:auto;line-height:normal;font-family:Menlo,'DejaVu Sans Mono',consolas,'Courier New',monospace\"><span style=\"color: #7fbfbf; text-decoration-color: #7fbfbf\">[08/29/24 07:56:27] </span><span style=\"color: #000080; text-decoration-color: #000080\">INFO    </span> <span style=\"font-weight: bold\">[</span><span style=\"color: #008080; text-decoration-color: #008080; font-weight: bold\">78</span>/<span style=\"color: #008080; text-decoration-color: #008080; font-weight: bold\">380</span><span style=\"font-weight: bold\">]</span> Retrieving game with <span style=\"color: #808000; text-decoration-color: #808000\">id</span>=<span style=\"color: #800080; text-decoration-color: #800080\">7db2a40a</span>                                 <a href=\"file:///usr/local/python/3.12.1/lib/python3.12/site-packages/fbrefdata/fbref.py\" target=\"_blank\"><span style=\"color: #7f7f7f; text-decoration-color: #7f7f7f\">fbref.py</span></a><span style=\"color: #7f7f7f; text-decoration-color: #7f7f7f\">:</span><a href=\"file:///usr/local/python/3.12.1/lib/python3.12/site-packages/fbrefdata/fbref.py#927\" target=\"_blank\"><span style=\"color: #7f7f7f; text-decoration-color: #7f7f7f\">927</span></a>\n",
       "</pre>\n"
      ],
      "text/plain": [
       "\u001b[2;36m[08/29/24 07:56:27]\u001b[0m\u001b[2;36m \u001b[0m\u001b[34mINFO    \u001b[0m \u001b[1m[\u001b[0m\u001b[1;36m78\u001b[0m/\u001b[1;36m380\u001b[0m\u001b[1m]\u001b[0m Retrieving game with \u001b[33mid\u001b[0m=\u001b[35m7db2a40a\u001b[0m                                 \u001b]8;id=419850;file:///usr/local/python/3.12.1/lib/python3.12/site-packages/fbrefdata/fbref.py\u001b\\\u001b[2mfbref.py\u001b[0m\u001b]8;;\u001b\\\u001b[2m:\u001b[0m\u001b]8;id=362341;file:///usr/local/python/3.12.1/lib/python3.12/site-packages/fbrefdata/fbref.py#927\u001b\\\u001b[2m927\u001b[0m\u001b]8;;\u001b\\\n"
      ]
     },
     "metadata": {},
     "output_type": "display_data"
    },
    {
     "name": "stderr",
     "output_type": "stream",
     "text": [
      "/usr/local/python/3.12.1/lib/python3.12/site-packages/fbrefdata/fbref.py:940: FutureWarning: This search incorrectly ignores the root element, and will be fixed in a future version.  If you rely on the current behaviour, change it to \".//table[@id='stats_4ba7cbea_summary']\"\n",
      "  html_table = tree.find(\"//table[@id='\" + id_format.format(home_team[\"id\"]) + \"']\")\n",
      "/usr/local/python/3.12.1/lib/python3.12/site-packages/fbrefdata/fbref.py:953: FutureWarning: This search incorrectly ignores the root element, and will be fixed in a future version.  If you rely on the current behaviour, change it to \".//table[@id='stats_a2d435b3_summary']\"\n",
      "  html_table = tree.find(\"//table[@id='\" + id_format.format(away_team[\"id\"]) + \"']\")\n"
     ]
    },
    {
     "data": {
      "text/html": [
       "<pre style=\"white-space:pre;overflow-x:auto;line-height:normal;font-family:Menlo,'DejaVu Sans Mono',consolas,'Courier New',monospace\"><span style=\"color: #7fbfbf; text-decoration-color: #7fbfbf\">[08/29/24 07:56:34] </span><span style=\"color: #000080; text-decoration-color: #000080\">INFO    </span> <span style=\"font-weight: bold\">[</span><span style=\"color: #008080; text-decoration-color: #008080; font-weight: bold\">79</span>/<span style=\"color: #008080; text-decoration-color: #008080; font-weight: bold\">380</span><span style=\"font-weight: bold\">]</span> Retrieving game with <span style=\"color: #808000; text-decoration-color: #808000\">id</span>=<span style=\"color: #800080; text-decoration-color: #800080\">3eeefbc5</span>                                 <a href=\"file:///usr/local/python/3.12.1/lib/python3.12/site-packages/fbrefdata/fbref.py\" target=\"_blank\"><span style=\"color: #7f7f7f; text-decoration-color: #7f7f7f\">fbref.py</span></a><span style=\"color: #7f7f7f; text-decoration-color: #7f7f7f\">:</span><a href=\"file:///usr/local/python/3.12.1/lib/python3.12/site-packages/fbrefdata/fbref.py#927\" target=\"_blank\"><span style=\"color: #7f7f7f; text-decoration-color: #7f7f7f\">927</span></a>\n",
       "</pre>\n"
      ],
      "text/plain": [
       "\u001b[2;36m[08/29/24 07:56:34]\u001b[0m\u001b[2;36m \u001b[0m\u001b[34mINFO    \u001b[0m \u001b[1m[\u001b[0m\u001b[1;36m79\u001b[0m/\u001b[1;36m380\u001b[0m\u001b[1m]\u001b[0m Retrieving game with \u001b[33mid\u001b[0m=\u001b[35m3eeefbc5\u001b[0m                                 \u001b]8;id=389736;file:///usr/local/python/3.12.1/lib/python3.12/site-packages/fbrefdata/fbref.py\u001b\\\u001b[2mfbref.py\u001b[0m\u001b]8;;\u001b\\\u001b[2m:\u001b[0m\u001b]8;id=854892;file:///usr/local/python/3.12.1/lib/python3.12/site-packages/fbrefdata/fbref.py#927\u001b\\\u001b[2m927\u001b[0m\u001b]8;;\u001b\\\n"
      ]
     },
     "metadata": {},
     "output_type": "display_data"
    },
    {
     "name": "stderr",
     "output_type": "stream",
     "text": [
      "/usr/local/python/3.12.1/lib/python3.12/site-packages/fbrefdata/fbref.py:940: FutureWarning: This search incorrectly ignores the root element, and will be fixed in a future version.  If you rely on the current behaviour, change it to \".//table[@id='stats_d07537b9_summary']\"\n",
      "  html_table = tree.find(\"//table[@id='\" + id_format.format(home_team[\"id\"]) + \"']\")\n",
      "/usr/local/python/3.12.1/lib/python3.12/site-packages/fbrefdata/fbref.py:953: FutureWarning: This search incorrectly ignores the root element, and will be fixed in a future version.  If you rely on the current behaviour, change it to \".//table[@id='stats_361ca564_summary']\"\n",
      "  html_table = tree.find(\"//table[@id='\" + id_format.format(away_team[\"id\"]) + \"']\")\n"
     ]
    },
    {
     "data": {
      "text/html": [
       "<pre style=\"white-space:pre;overflow-x:auto;line-height:normal;font-family:Menlo,'DejaVu Sans Mono',consolas,'Courier New',monospace\"><span style=\"color: #7fbfbf; text-decoration-color: #7fbfbf\">[08/29/24 07:56:40] </span><span style=\"color: #000080; text-decoration-color: #000080\">INFO    </span> <span style=\"font-weight: bold\">[</span><span style=\"color: #008080; text-decoration-color: #008080; font-weight: bold\">80</span>/<span style=\"color: #008080; text-decoration-color: #008080; font-weight: bold\">380</span><span style=\"font-weight: bold\">]</span> Retrieving game with <span style=\"color: #808000; text-decoration-color: #808000\">id</span>=<span style=\"color: #800080; text-decoration-color: #800080\">c83cb314</span>                                 <a href=\"file:///usr/local/python/3.12.1/lib/python3.12/site-packages/fbrefdata/fbref.py\" target=\"_blank\"><span style=\"color: #7f7f7f; text-decoration-color: #7f7f7f\">fbref.py</span></a><span style=\"color: #7f7f7f; text-decoration-color: #7f7f7f\">:</span><a href=\"file:///usr/local/python/3.12.1/lib/python3.12/site-packages/fbrefdata/fbref.py#927\" target=\"_blank\"><span style=\"color: #7f7f7f; text-decoration-color: #7f7f7f\">927</span></a>\n",
       "</pre>\n"
      ],
      "text/plain": [
       "\u001b[2;36m[08/29/24 07:56:40]\u001b[0m\u001b[2;36m \u001b[0m\u001b[34mINFO    \u001b[0m \u001b[1m[\u001b[0m\u001b[1;36m80\u001b[0m/\u001b[1;36m380\u001b[0m\u001b[1m]\u001b[0m Retrieving game with \u001b[33mid\u001b[0m=\u001b[35mc83cb314\u001b[0m                                 \u001b]8;id=993771;file:///usr/local/python/3.12.1/lib/python3.12/site-packages/fbrefdata/fbref.py\u001b\\\u001b[2mfbref.py\u001b[0m\u001b]8;;\u001b\\\u001b[2m:\u001b[0m\u001b]8;id=367985;file:///usr/local/python/3.12.1/lib/python3.12/site-packages/fbrefdata/fbref.py#927\u001b\\\u001b[2m927\u001b[0m\u001b]8;;\u001b\\\n"
      ]
     },
     "metadata": {},
     "output_type": "display_data"
    },
    {
     "name": "stderr",
     "output_type": "stream",
     "text": [
      "/usr/local/python/3.12.1/lib/python3.12/site-packages/fbrefdata/fbref.py:940: FutureWarning: This search incorrectly ignores the root element, and will be fixed in a future version.  If you rely on the current behaviour, change it to \".//table[@id='stats_cff3d9bb_summary']\"\n",
      "  html_table = tree.find(\"//table[@id='\" + id_format.format(home_team[\"id\"]) + \"']\")\n",
      "/usr/local/python/3.12.1/lib/python3.12/site-packages/fbrefdata/fbref.py:953: FutureWarning: This search incorrectly ignores the root element, and will be fixed in a future version.  If you rely on the current behaviour, change it to \".//table[@id='stats_8cec06e1_summary']\"\n",
      "  html_table = tree.find(\"//table[@id='\" + id_format.format(away_team[\"id\"]) + \"']\")\n"
     ]
    },
    {
     "data": {
      "text/html": [
       "<pre style=\"white-space:pre;overflow-x:auto;line-height:normal;font-family:Menlo,'DejaVu Sans Mono',consolas,'Courier New',monospace\"><span style=\"color: #7fbfbf; text-decoration-color: #7fbfbf\">[08/29/24 07:56:46] </span><span style=\"color: #000080; text-decoration-color: #000080\">INFO    </span> <span style=\"font-weight: bold\">[</span><span style=\"color: #008080; text-decoration-color: #008080; font-weight: bold\">81</span>/<span style=\"color: #008080; text-decoration-color: #008080; font-weight: bold\">380</span><span style=\"font-weight: bold\">]</span> Retrieving game with <span style=\"color: #808000; text-decoration-color: #808000\">id</span>=<span style=\"color: #800080; text-decoration-color: #800080\">864294c0</span>                                 <a href=\"file:///usr/local/python/3.12.1/lib/python3.12/site-packages/fbrefdata/fbref.py\" target=\"_blank\"><span style=\"color: #7f7f7f; text-decoration-color: #7f7f7f\">fbref.py</span></a><span style=\"color: #7f7f7f; text-decoration-color: #7f7f7f\">:</span><a href=\"file:///usr/local/python/3.12.1/lib/python3.12/site-packages/fbrefdata/fbref.py#927\" target=\"_blank\"><span style=\"color: #7f7f7f; text-decoration-color: #7f7f7f\">927</span></a>\n",
       "</pre>\n"
      ],
      "text/plain": [
       "\u001b[2;36m[08/29/24 07:56:46]\u001b[0m\u001b[2;36m \u001b[0m\u001b[34mINFO    \u001b[0m \u001b[1m[\u001b[0m\u001b[1;36m81\u001b[0m/\u001b[1;36m380\u001b[0m\u001b[1m]\u001b[0m Retrieving game with \u001b[33mid\u001b[0m=\u001b[35m864294c0\u001b[0m                                 \u001b]8;id=539974;file:///usr/local/python/3.12.1/lib/python3.12/site-packages/fbrefdata/fbref.py\u001b\\\u001b[2mfbref.py\u001b[0m\u001b]8;;\u001b\\\u001b[2m:\u001b[0m\u001b]8;id=734742;file:///usr/local/python/3.12.1/lib/python3.12/site-packages/fbrefdata/fbref.py#927\u001b\\\u001b[2m927\u001b[0m\u001b]8;;\u001b\\\n"
      ]
     },
     "metadata": {},
     "output_type": "display_data"
    },
    {
     "name": "stderr",
     "output_type": "stream",
     "text": [
      "/usr/local/python/3.12.1/lib/python3.12/site-packages/fbrefdata/fbref.py:940: FutureWarning: This search incorrectly ignores the root element, and will be fixed in a future version.  If you rely on the current behaviour, change it to \".//table[@id='stats_b8fd03ef_summary']\"\n",
      "  html_table = tree.find(\"//table[@id='\" + id_format.format(home_team[\"id\"]) + \"']\")\n",
      "/usr/local/python/3.12.1/lib/python3.12/site-packages/fbrefdata/fbref.py:953: FutureWarning: This search incorrectly ignores the root element, and will be fixed in a future version.  If you rely on the current behaviour, change it to \".//table[@id='stats_33c895d4_summary']\"\n",
      "  html_table = tree.find(\"//table[@id='\" + id_format.format(away_team[\"id\"]) + \"']\")\n"
     ]
    },
    {
     "data": {
      "text/html": [
       "<pre style=\"white-space:pre;overflow-x:auto;line-height:normal;font-family:Menlo,'DejaVu Sans Mono',consolas,'Courier New',monospace\"><span style=\"color: #7fbfbf; text-decoration-color: #7fbfbf\">[08/29/24 07:56:53] </span><span style=\"color: #000080; text-decoration-color: #000080\">INFO    </span> <span style=\"font-weight: bold\">[</span><span style=\"color: #008080; text-decoration-color: #008080; font-weight: bold\">82</span>/<span style=\"color: #008080; text-decoration-color: #008080; font-weight: bold\">380</span><span style=\"font-weight: bold\">]</span> Retrieving game with <span style=\"color: #808000; text-decoration-color: #808000\">id</span>=<span style=\"color: #800080; text-decoration-color: #800080\">7dd42d3f</span>                                 <a href=\"file:///usr/local/python/3.12.1/lib/python3.12/site-packages/fbrefdata/fbref.py\" target=\"_blank\"><span style=\"color: #7f7f7f; text-decoration-color: #7f7f7f\">fbref.py</span></a><span style=\"color: #7f7f7f; text-decoration-color: #7f7f7f\">:</span><a href=\"file:///usr/local/python/3.12.1/lib/python3.12/site-packages/fbrefdata/fbref.py#927\" target=\"_blank\"><span style=\"color: #7f7f7f; text-decoration-color: #7f7f7f\">927</span></a>\n",
       "</pre>\n"
      ],
      "text/plain": [
       "\u001b[2;36m[08/29/24 07:56:53]\u001b[0m\u001b[2;36m \u001b[0m\u001b[34mINFO    \u001b[0m \u001b[1m[\u001b[0m\u001b[1;36m82\u001b[0m/\u001b[1;36m380\u001b[0m\u001b[1m]\u001b[0m Retrieving game with \u001b[33mid\u001b[0m=\u001b[35m7dd42d3f\u001b[0m                                 \u001b]8;id=838398;file:///usr/local/python/3.12.1/lib/python3.12/site-packages/fbrefdata/fbref.py\u001b\\\u001b[2mfbref.py\u001b[0m\u001b]8;;\u001b\\\u001b[2m:\u001b[0m\u001b]8;id=805638;file:///usr/local/python/3.12.1/lib/python3.12/site-packages/fbrefdata/fbref.py#927\u001b\\\u001b[2m927\u001b[0m\u001b]8;;\u001b\\\n"
      ]
     },
     "metadata": {},
     "output_type": "display_data"
    },
    {
     "name": "stderr",
     "output_type": "stream",
     "text": [
      "/usr/local/python/3.12.1/lib/python3.12/site-packages/fbrefdata/fbref.py:940: FutureWarning: This search incorrectly ignores the root element, and will be fixed in a future version.  If you rely on the current behaviour, change it to \".//table[@id='stats_b2b47a98_summary']\"\n",
      "  html_table = tree.find(\"//table[@id='\" + id_format.format(home_team[\"id\"]) + \"']\")\n",
      "/usr/local/python/3.12.1/lib/python3.12/site-packages/fbrefdata/fbref.py:953: FutureWarning: This search incorrectly ignores the root element, and will be fixed in a future version.  If you rely on the current behaviour, change it to \".//table[@id='stats_cd051869_summary']\"\n",
      "  html_table = tree.find(\"//table[@id='\" + id_format.format(away_team[\"id\"]) + \"']\")\n"
     ]
    },
    {
     "data": {
      "text/html": [
       "<pre style=\"white-space:pre;overflow-x:auto;line-height:normal;font-family:Menlo,'DejaVu Sans Mono',consolas,'Courier New',monospace\"><span style=\"color: #7fbfbf; text-decoration-color: #7fbfbf\">[08/29/24 07:56:59] </span><span style=\"color: #000080; text-decoration-color: #000080\">INFO    </span> <span style=\"font-weight: bold\">[</span><span style=\"color: #008080; text-decoration-color: #008080; font-weight: bold\">83</span>/<span style=\"color: #008080; text-decoration-color: #008080; font-weight: bold\">380</span><span style=\"font-weight: bold\">]</span> Retrieving game with <span style=\"color: #808000; text-decoration-color: #808000\">id</span>=<span style=\"color: #800080; text-decoration-color: #800080\">84a48413</span>                                 <a href=\"file:///usr/local/python/3.12.1/lib/python3.12/site-packages/fbrefdata/fbref.py\" target=\"_blank\"><span style=\"color: #7f7f7f; text-decoration-color: #7f7f7f\">fbref.py</span></a><span style=\"color: #7f7f7f; text-decoration-color: #7f7f7f\">:</span><a href=\"file:///usr/local/python/3.12.1/lib/python3.12/site-packages/fbrefdata/fbref.py#927\" target=\"_blank\"><span style=\"color: #7f7f7f; text-decoration-color: #7f7f7f\">927</span></a>\n",
       "</pre>\n"
      ],
      "text/plain": [
       "\u001b[2;36m[08/29/24 07:56:59]\u001b[0m\u001b[2;36m \u001b[0m\u001b[34mINFO    \u001b[0m \u001b[1m[\u001b[0m\u001b[1;36m83\u001b[0m/\u001b[1;36m380\u001b[0m\u001b[1m]\u001b[0m Retrieving game with \u001b[33mid\u001b[0m=\u001b[35m84a48413\u001b[0m                                 \u001b]8;id=526800;file:///usr/local/python/3.12.1/lib/python3.12/site-packages/fbrefdata/fbref.py\u001b\\\u001b[2mfbref.py\u001b[0m\u001b]8;;\u001b\\\u001b[2m:\u001b[0m\u001b]8;id=849781;file:///usr/local/python/3.12.1/lib/python3.12/site-packages/fbrefdata/fbref.py#927\u001b\\\u001b[2m927\u001b[0m\u001b]8;;\u001b\\\n"
      ]
     },
     "metadata": {},
     "output_type": "display_data"
    },
    {
     "name": "stderr",
     "output_type": "stream",
     "text": [
      "/usr/local/python/3.12.1/lib/python3.12/site-packages/fbrefdata/fbref.py:940: FutureWarning: This search incorrectly ignores the root element, and will be fixed in a future version.  If you rely on the current behaviour, change it to \".//table[@id='stats_18bb7c10_summary']\"\n",
      "  html_table = tree.find(\"//table[@id='\" + id_format.format(home_team[\"id\"]) + \"']\")\n",
      "/usr/local/python/3.12.1/lib/python3.12/site-packages/fbrefdata/fbref.py:953: FutureWarning: This search incorrectly ignores the root element, and will be fixed in a future version.  If you rely on the current behaviour, change it to \".//table[@id='stats_822bd0ba_summary']\"\n",
      "  html_table = tree.find(\"//table[@id='\" + id_format.format(away_team[\"id\"]) + \"']\")\n"
     ]
    },
    {
     "data": {
      "text/html": [
       "<pre style=\"white-space:pre;overflow-x:auto;line-height:normal;font-family:Menlo,'DejaVu Sans Mono',consolas,'Courier New',monospace\"><span style=\"color: #7fbfbf; text-decoration-color: #7fbfbf\">[08/29/24 07:57:06] </span><span style=\"color: #000080; text-decoration-color: #000080\">INFO    </span> <span style=\"font-weight: bold\">[</span><span style=\"color: #008080; text-decoration-color: #008080; font-weight: bold\">84</span>/<span style=\"color: #008080; text-decoration-color: #008080; font-weight: bold\">380</span><span style=\"font-weight: bold\">]</span> Retrieving game with <span style=\"color: #808000; text-decoration-color: #808000\">id</span>=<span style=\"color: #800080; text-decoration-color: #800080\">f9563020</span>                                 <a href=\"file:///usr/local/python/3.12.1/lib/python3.12/site-packages/fbrefdata/fbref.py\" target=\"_blank\"><span style=\"color: #7f7f7f; text-decoration-color: #7f7f7f\">fbref.py</span></a><span style=\"color: #7f7f7f; text-decoration-color: #7f7f7f\">:</span><a href=\"file:///usr/local/python/3.12.1/lib/python3.12/site-packages/fbrefdata/fbref.py#927\" target=\"_blank\"><span style=\"color: #7f7f7f; text-decoration-color: #7f7f7f\">927</span></a>\n",
       "</pre>\n"
      ],
      "text/plain": [
       "\u001b[2;36m[08/29/24 07:57:06]\u001b[0m\u001b[2;36m \u001b[0m\u001b[34mINFO    \u001b[0m \u001b[1m[\u001b[0m\u001b[1;36m84\u001b[0m/\u001b[1;36m380\u001b[0m\u001b[1m]\u001b[0m Retrieving game with \u001b[33mid\u001b[0m=\u001b[35mf9563020\u001b[0m                                 \u001b]8;id=894218;file:///usr/local/python/3.12.1/lib/python3.12/site-packages/fbrefdata/fbref.py\u001b\\\u001b[2mfbref.py\u001b[0m\u001b]8;;\u001b\\\u001b[2m:\u001b[0m\u001b]8;id=322359;file:///usr/local/python/3.12.1/lib/python3.12/site-packages/fbrefdata/fbref.py#927\u001b\\\u001b[2m927\u001b[0m\u001b]8;;\u001b\\\n"
      ]
     },
     "metadata": {},
     "output_type": "display_data"
    },
    {
     "name": "stderr",
     "output_type": "stream",
     "text": [
      "/usr/local/python/3.12.1/lib/python3.12/site-packages/fbrefdata/fbref.py:940: FutureWarning: This search incorrectly ignores the root element, and will be fixed in a future version.  If you rely on the current behaviour, change it to \".//table[@id='stats_47c64c55_summary']\"\n",
      "  html_table = tree.find(\"//table[@id='\" + id_format.format(home_team[\"id\"]) + \"']\")\n",
      "/usr/local/python/3.12.1/lib/python3.12/site-packages/fbrefdata/fbref.py:953: FutureWarning: This search incorrectly ignores the root element, and will be fixed in a future version.  If you rely on the current behaviour, change it to \".//table[@id='stats_5bfb9659_summary']\"\n",
      "  html_table = tree.find(\"//table[@id='\" + id_format.format(away_team[\"id\"]) + \"']\")\n"
     ]
    },
    {
     "data": {
      "text/html": [
       "<pre style=\"white-space:pre;overflow-x:auto;line-height:normal;font-family:Menlo,'DejaVu Sans Mono',consolas,'Courier New',monospace\"><span style=\"color: #7fbfbf; text-decoration-color: #7fbfbf\">[08/29/24 07:57:13] </span><span style=\"color: #000080; text-decoration-color: #000080\">INFO    </span> <span style=\"font-weight: bold\">[</span><span style=\"color: #008080; text-decoration-color: #008080; font-weight: bold\">85</span>/<span style=\"color: #008080; text-decoration-color: #008080; font-weight: bold\">380</span><span style=\"font-weight: bold\">]</span> Retrieving game with <span style=\"color: #808000; text-decoration-color: #808000\">id</span>=<span style=\"color: #800080; text-decoration-color: #800080\">5d426690</span>                                 <a href=\"file:///usr/local/python/3.12.1/lib/python3.12/site-packages/fbrefdata/fbref.py\" target=\"_blank\"><span style=\"color: #7f7f7f; text-decoration-color: #7f7f7f\">fbref.py</span></a><span style=\"color: #7f7f7f; text-decoration-color: #7f7f7f\">:</span><a href=\"file:///usr/local/python/3.12.1/lib/python3.12/site-packages/fbrefdata/fbref.py#927\" target=\"_blank\"><span style=\"color: #7f7f7f; text-decoration-color: #7f7f7f\">927</span></a>\n",
       "</pre>\n"
      ],
      "text/plain": [
       "\u001b[2;36m[08/29/24 07:57:13]\u001b[0m\u001b[2;36m \u001b[0m\u001b[34mINFO    \u001b[0m \u001b[1m[\u001b[0m\u001b[1;36m85\u001b[0m/\u001b[1;36m380\u001b[0m\u001b[1m]\u001b[0m Retrieving game with \u001b[33mid\u001b[0m=\u001b[35m5d426690\u001b[0m                                 \u001b]8;id=131821;file:///usr/local/python/3.12.1/lib/python3.12/site-packages/fbrefdata/fbref.py\u001b\\\u001b[2mfbref.py\u001b[0m\u001b]8;;\u001b\\\u001b[2m:\u001b[0m\u001b]8;id=543358;file:///usr/local/python/3.12.1/lib/python3.12/site-packages/fbrefdata/fbref.py#927\u001b\\\u001b[2m927\u001b[0m\u001b]8;;\u001b\\\n"
      ]
     },
     "metadata": {},
     "output_type": "display_data"
    },
    {
     "name": "stderr",
     "output_type": "stream",
     "text": [
      "/usr/local/python/3.12.1/lib/python3.12/site-packages/fbrefdata/fbref.py:940: FutureWarning: This search incorrectly ignores the root element, and will be fixed in a future version.  If you rely on the current behaviour, change it to \".//table[@id='stats_d3fd31cc_summary']\"\n",
      "  html_table = tree.find(\"//table[@id='\" + id_format.format(home_team[\"id\"]) + \"']\")\n",
      "/usr/local/python/3.12.1/lib/python3.12/site-packages/fbrefdata/fbref.py:953: FutureWarning: This search incorrectly ignores the root element, and will be fixed in a future version.  If you rely on the current behaviour, change it to \".//table[@id='stats_19538871_summary']\"\n",
      "  html_table = tree.find(\"//table[@id='\" + id_format.format(away_team[\"id\"]) + \"']\")\n"
     ]
    },
    {
     "data": {
      "text/html": [
       "<pre style=\"white-space:pre;overflow-x:auto;line-height:normal;font-family:Menlo,'DejaVu Sans Mono',consolas,'Courier New',monospace\"><span style=\"color: #7fbfbf; text-decoration-color: #7fbfbf\">[08/29/24 07:57:19] </span><span style=\"color: #000080; text-decoration-color: #000080\">INFO    </span> <span style=\"font-weight: bold\">[</span><span style=\"color: #008080; text-decoration-color: #008080; font-weight: bold\">86</span>/<span style=\"color: #008080; text-decoration-color: #008080; font-weight: bold\">380</span><span style=\"font-weight: bold\">]</span> Retrieving game with <span style=\"color: #808000; text-decoration-color: #808000\">id</span>=<span style=\"color: #800080; text-decoration-color: #800080\">42e38f9d</span>                                 <a href=\"file:///usr/local/python/3.12.1/lib/python3.12/site-packages/fbrefdata/fbref.py\" target=\"_blank\"><span style=\"color: #7f7f7f; text-decoration-color: #7f7f7f\">fbref.py</span></a><span style=\"color: #7f7f7f; text-decoration-color: #7f7f7f\">:</span><a href=\"file:///usr/local/python/3.12.1/lib/python3.12/site-packages/fbrefdata/fbref.py#927\" target=\"_blank\"><span style=\"color: #7f7f7f; text-decoration-color: #7f7f7f\">927</span></a>\n",
       "</pre>\n"
      ],
      "text/plain": [
       "\u001b[2;36m[08/29/24 07:57:19]\u001b[0m\u001b[2;36m \u001b[0m\u001b[34mINFO    \u001b[0m \u001b[1m[\u001b[0m\u001b[1;36m86\u001b[0m/\u001b[1;36m380\u001b[0m\u001b[1m]\u001b[0m Retrieving game with \u001b[33mid\u001b[0m=\u001b[35m42e38f9d\u001b[0m                                 \u001b]8;id=497039;file:///usr/local/python/3.12.1/lib/python3.12/site-packages/fbrefdata/fbref.py\u001b\\\u001b[2mfbref.py\u001b[0m\u001b]8;;\u001b\\\u001b[2m:\u001b[0m\u001b]8;id=517939;file:///usr/local/python/3.12.1/lib/python3.12/site-packages/fbrefdata/fbref.py#927\u001b\\\u001b[2m927\u001b[0m\u001b]8;;\u001b\\\n"
      ]
     },
     "metadata": {},
     "output_type": "display_data"
    },
    {
     "name": "stderr",
     "output_type": "stream",
     "text": [
      "/usr/local/python/3.12.1/lib/python3.12/site-packages/fbrefdata/fbref.py:940: FutureWarning: This search incorrectly ignores the root element, and will be fixed in a future version.  If you rely on the current behaviour, change it to \".//table[@id='stats_7c21e445_summary']\"\n",
      "  html_table = tree.find(\"//table[@id='\" + id_format.format(home_team[\"id\"]) + \"']\")\n",
      "/usr/local/python/3.12.1/lib/python3.12/site-packages/fbrefdata/fbref.py:953: FutureWarning: This search incorrectly ignores the root element, and will be fixed in a future version.  If you rely on the current behaviour, change it to \".//table[@id='stats_fd962109_summary']\"\n",
      "  html_table = tree.find(\"//table[@id='\" + id_format.format(away_team[\"id\"]) + \"']\")\n"
     ]
    },
    {
     "data": {
      "text/html": [
       "<pre style=\"white-space:pre;overflow-x:auto;line-height:normal;font-family:Menlo,'DejaVu Sans Mono',consolas,'Courier New',monospace\"><span style=\"color: #7fbfbf; text-decoration-color: #7fbfbf\">[08/29/24 07:57:25] </span><span style=\"color: #000080; text-decoration-color: #000080\">INFO    </span> <span style=\"font-weight: bold\">[</span><span style=\"color: #008080; text-decoration-color: #008080; font-weight: bold\">87</span>/<span style=\"color: #008080; text-decoration-color: #008080; font-weight: bold\">380</span><span style=\"font-weight: bold\">]</span> Retrieving game with <span style=\"color: #808000; text-decoration-color: #808000\">id</span>=<span style=\"color: #800080; text-decoration-color: #800080\">fb99ddf9</span>                                 <a href=\"file:///usr/local/python/3.12.1/lib/python3.12/site-packages/fbrefdata/fbref.py\" target=\"_blank\"><span style=\"color: #7f7f7f; text-decoration-color: #7f7f7f\">fbref.py</span></a><span style=\"color: #7f7f7f; text-decoration-color: #7f7f7f\">:</span><a href=\"file:///usr/local/python/3.12.1/lib/python3.12/site-packages/fbrefdata/fbref.py#927\" target=\"_blank\"><span style=\"color: #7f7f7f; text-decoration-color: #7f7f7f\">927</span></a>\n",
       "</pre>\n"
      ],
      "text/plain": [
       "\u001b[2;36m[08/29/24 07:57:25]\u001b[0m\u001b[2;36m \u001b[0m\u001b[34mINFO    \u001b[0m \u001b[1m[\u001b[0m\u001b[1;36m87\u001b[0m/\u001b[1;36m380\u001b[0m\u001b[1m]\u001b[0m Retrieving game with \u001b[33mid\u001b[0m=\u001b[35mfb99ddf9\u001b[0m                                 \u001b]8;id=741241;file:///usr/local/python/3.12.1/lib/python3.12/site-packages/fbrefdata/fbref.py\u001b\\\u001b[2mfbref.py\u001b[0m\u001b]8;;\u001b\\\u001b[2m:\u001b[0m\u001b]8;id=424826;file:///usr/local/python/3.12.1/lib/python3.12/site-packages/fbrefdata/fbref.py#927\u001b\\\u001b[2m927\u001b[0m\u001b]8;;\u001b\\\n"
      ]
     },
     "metadata": {},
     "output_type": "display_data"
    },
    {
     "name": "stderr",
     "output_type": "stream",
     "text": [
      "/usr/local/python/3.12.1/lib/python3.12/site-packages/fbrefdata/fbref.py:940: FutureWarning: This search incorrectly ignores the root element, and will be fixed in a future version.  If you rely on the current behaviour, change it to \".//table[@id='stats_e4a775cb_summary']\"\n",
      "  html_table = tree.find(\"//table[@id='\" + id_format.format(home_team[\"id\"]) + \"']\")\n",
      "/usr/local/python/3.12.1/lib/python3.12/site-packages/fbrefdata/fbref.py:953: FutureWarning: This search incorrectly ignores the root element, and will be fixed in a future version.  If you rely on the current behaviour, change it to \".//table[@id='stats_8602292d_summary']\"\n",
      "  html_table = tree.find(\"//table[@id='\" + id_format.format(away_team[\"id\"]) + \"']\")\n"
     ]
    },
    {
     "data": {
      "text/html": [
       "<pre style=\"white-space:pre;overflow-x:auto;line-height:normal;font-family:Menlo,'DejaVu Sans Mono',consolas,'Courier New',monospace\"><span style=\"color: #7fbfbf; text-decoration-color: #7fbfbf\">[08/29/24 07:57:32] </span><span style=\"color: #000080; text-decoration-color: #000080\">INFO    </span> <span style=\"font-weight: bold\">[</span><span style=\"color: #008080; text-decoration-color: #008080; font-weight: bold\">88</span>/<span style=\"color: #008080; text-decoration-color: #008080; font-weight: bold\">380</span><span style=\"font-weight: bold\">]</span> Retrieving game with <span style=\"color: #808000; text-decoration-color: #808000\">id</span>=<span style=\"color: #008080; text-decoration-color: #008080; font-weight: bold\">69409682</span>                                 <a href=\"file:///usr/local/python/3.12.1/lib/python3.12/site-packages/fbrefdata/fbref.py\" target=\"_blank\"><span style=\"color: #7f7f7f; text-decoration-color: #7f7f7f\">fbref.py</span></a><span style=\"color: #7f7f7f; text-decoration-color: #7f7f7f\">:</span><a href=\"file:///usr/local/python/3.12.1/lib/python3.12/site-packages/fbrefdata/fbref.py#927\" target=\"_blank\"><span style=\"color: #7f7f7f; text-decoration-color: #7f7f7f\">927</span></a>\n",
       "</pre>\n"
      ],
      "text/plain": [
       "\u001b[2;36m[08/29/24 07:57:32]\u001b[0m\u001b[2;36m \u001b[0m\u001b[34mINFO    \u001b[0m \u001b[1m[\u001b[0m\u001b[1;36m88\u001b[0m/\u001b[1;36m380\u001b[0m\u001b[1m]\u001b[0m Retrieving game with \u001b[33mid\u001b[0m=\u001b[1;36m69409682\u001b[0m                                 \u001b]8;id=508159;file:///usr/local/python/3.12.1/lib/python3.12/site-packages/fbrefdata/fbref.py\u001b\\\u001b[2mfbref.py\u001b[0m\u001b]8;;\u001b\\\u001b[2m:\u001b[0m\u001b]8;id=961283;file:///usr/local/python/3.12.1/lib/python3.12/site-packages/fbrefdata/fbref.py#927\u001b\\\u001b[2m927\u001b[0m\u001b]8;;\u001b\\\n"
      ]
     },
     "metadata": {},
     "output_type": "display_data"
    },
    {
     "name": "stderr",
     "output_type": "stream",
     "text": [
      "/usr/local/python/3.12.1/lib/python3.12/site-packages/fbrefdata/fbref.py:940: FutureWarning: This search incorrectly ignores the root element, and will be fixed in a future version.  If you rely on the current behaviour, change it to \".//table[@id='stats_cd051869_summary']\"\n",
      "  html_table = tree.find(\"//table[@id='\" + id_format.format(home_team[\"id\"]) + \"']\")\n",
      "/usr/local/python/3.12.1/lib/python3.12/site-packages/fbrefdata/fbref.py:953: FutureWarning: This search incorrectly ignores the root element, and will be fixed in a future version.  If you rely on the current behaviour, change it to \".//table[@id='stats_d07537b9_summary']\"\n",
      "  html_table = tree.find(\"//table[@id='\" + id_format.format(away_team[\"id\"]) + \"']\")\n"
     ]
    },
    {
     "data": {
      "text/html": [
       "<pre style=\"white-space:pre;overflow-x:auto;line-height:normal;font-family:Menlo,'DejaVu Sans Mono',consolas,'Courier New',monospace\"><span style=\"color: #7fbfbf; text-decoration-color: #7fbfbf\">[08/29/24 07:57:38] </span><span style=\"color: #000080; text-decoration-color: #000080\">INFO    </span> <span style=\"font-weight: bold\">[</span><span style=\"color: #008080; text-decoration-color: #008080; font-weight: bold\">89</span>/<span style=\"color: #008080; text-decoration-color: #008080; font-weight: bold\">380</span><span style=\"font-weight: bold\">]</span> Retrieving game with <span style=\"color: #808000; text-decoration-color: #808000\">id</span>=<span style=\"color: #800080; text-decoration-color: #800080\">ab7f61dd</span>                                 <a href=\"file:///usr/local/python/3.12.1/lib/python3.12/site-packages/fbrefdata/fbref.py\" target=\"_blank\"><span style=\"color: #7f7f7f; text-decoration-color: #7f7f7f\">fbref.py</span></a><span style=\"color: #7f7f7f; text-decoration-color: #7f7f7f\">:</span><a href=\"file:///usr/local/python/3.12.1/lib/python3.12/site-packages/fbrefdata/fbref.py#927\" target=\"_blank\"><span style=\"color: #7f7f7f; text-decoration-color: #7f7f7f\">927</span></a>\n",
       "</pre>\n"
      ],
      "text/plain": [
       "\u001b[2;36m[08/29/24 07:57:38]\u001b[0m\u001b[2;36m \u001b[0m\u001b[34mINFO    \u001b[0m \u001b[1m[\u001b[0m\u001b[1;36m89\u001b[0m/\u001b[1;36m380\u001b[0m\u001b[1m]\u001b[0m Retrieving game with \u001b[33mid\u001b[0m=\u001b[35mab7f61dd\u001b[0m                                 \u001b]8;id=219907;file:///usr/local/python/3.12.1/lib/python3.12/site-packages/fbrefdata/fbref.py\u001b\\\u001b[2mfbref.py\u001b[0m\u001b]8;;\u001b\\\u001b[2m:\u001b[0m\u001b]8;id=757525;file:///usr/local/python/3.12.1/lib/python3.12/site-packages/fbrefdata/fbref.py#927\u001b\\\u001b[2m927\u001b[0m\u001b]8;;\u001b\\\n"
      ]
     },
     "metadata": {},
     "output_type": "display_data"
    },
    {
     "name": "stderr",
     "output_type": "stream",
     "text": [
      "/usr/local/python/3.12.1/lib/python3.12/site-packages/fbrefdata/fbref.py:940: FutureWarning: This search incorrectly ignores the root element, and will be fixed in a future version.  If you rely on the current behaviour, change it to \".//table[@id='stats_fd962109_summary']\"\n",
      "  html_table = tree.find(\"//table[@id='\" + id_format.format(home_team[\"id\"]) + \"']\")\n",
      "/usr/local/python/3.12.1/lib/python3.12/site-packages/fbrefdata/fbref.py:953: FutureWarning: This search incorrectly ignores the root element, and will be fixed in a future version.  If you rely on the current behaviour, change it to \".//table[@id='stats_4ba7cbea_summary']\"\n",
      "  html_table = tree.find(\"//table[@id='\" + id_format.format(away_team[\"id\"]) + \"']\")\n"
     ]
    },
    {
     "data": {
      "text/html": [
       "<pre style=\"white-space:pre;overflow-x:auto;line-height:normal;font-family:Menlo,'DejaVu Sans Mono',consolas,'Courier New',monospace\"><span style=\"color: #7fbfbf; text-decoration-color: #7fbfbf\">[08/29/24 07:57:44] </span><span style=\"color: #000080; text-decoration-color: #000080\">INFO    </span> <span style=\"font-weight: bold\">[</span><span style=\"color: #008080; text-decoration-color: #008080; font-weight: bold\">90</span>/<span style=\"color: #008080; text-decoration-color: #008080; font-weight: bold\">380</span><span style=\"font-weight: bold\">]</span> Retrieving game with <span style=\"color: #808000; text-decoration-color: #808000\">id</span>=<span style=\"color: #008080; text-decoration-color: #008080; font-weight: bold\">37677e58</span>                                 <a href=\"file:///usr/local/python/3.12.1/lib/python3.12/site-packages/fbrefdata/fbref.py\" target=\"_blank\"><span style=\"color: #7f7f7f; text-decoration-color: #7f7f7f\">fbref.py</span></a><span style=\"color: #7f7f7f; text-decoration-color: #7f7f7f\">:</span><a href=\"file:///usr/local/python/3.12.1/lib/python3.12/site-packages/fbrefdata/fbref.py#927\" target=\"_blank\"><span style=\"color: #7f7f7f; text-decoration-color: #7f7f7f\">927</span></a>\n",
       "</pre>\n"
      ],
      "text/plain": [
       "\u001b[2;36m[08/29/24 07:57:44]\u001b[0m\u001b[2;36m \u001b[0m\u001b[34mINFO    \u001b[0m \u001b[1m[\u001b[0m\u001b[1;36m90\u001b[0m/\u001b[1;36m380\u001b[0m\u001b[1m]\u001b[0m Retrieving game with \u001b[33mid\u001b[0m=\u001b[1;36m37677e58\u001b[0m                                 \u001b]8;id=188680;file:///usr/local/python/3.12.1/lib/python3.12/site-packages/fbrefdata/fbref.py\u001b\\\u001b[2mfbref.py\u001b[0m\u001b]8;;\u001b\\\u001b[2m:\u001b[0m\u001b]8;id=504779;file:///usr/local/python/3.12.1/lib/python3.12/site-packages/fbrefdata/fbref.py#927\u001b\\\u001b[2m927\u001b[0m\u001b]8;;\u001b\\\n"
      ]
     },
     "metadata": {},
     "output_type": "display_data"
    },
    {
     "name": "stderr",
     "output_type": "stream",
     "text": [
      "/usr/local/python/3.12.1/lib/python3.12/site-packages/fbrefdata/fbref.py:940: FutureWarning: This search incorrectly ignores the root element, and will be fixed in a future version.  If you rely on the current behaviour, change it to \".//table[@id='stats_a2d435b3_summary']\"\n",
      "  html_table = tree.find(\"//table[@id='\" + id_format.format(home_team[\"id\"]) + \"']\")\n",
      "/usr/local/python/3.12.1/lib/python3.12/site-packages/fbrefdata/fbref.py:953: FutureWarning: This search incorrectly ignores the root element, and will be fixed in a future version.  If you rely on the current behaviour, change it to \".//table[@id='stats_47c64c55_summary']\"\n",
      "  html_table = tree.find(\"//table[@id='\" + id_format.format(away_team[\"id\"]) + \"']\")\n"
     ]
    },
    {
     "data": {
      "text/html": [
       "<pre style=\"white-space:pre;overflow-x:auto;line-height:normal;font-family:Menlo,'DejaVu Sans Mono',consolas,'Courier New',monospace\"><span style=\"color: #7fbfbf; text-decoration-color: #7fbfbf\">[08/29/24 07:57:51] </span><span style=\"color: #000080; text-decoration-color: #000080\">INFO    </span> <span style=\"font-weight: bold\">[</span><span style=\"color: #008080; text-decoration-color: #008080; font-weight: bold\">91</span>/<span style=\"color: #008080; text-decoration-color: #008080; font-weight: bold\">380</span><span style=\"font-weight: bold\">]</span> Retrieving game with <span style=\"color: #808000; text-decoration-color: #808000\">id</span>=<span style=\"color: #800080; text-decoration-color: #800080\">e42493f9</span>                                 <a href=\"file:///usr/local/python/3.12.1/lib/python3.12/site-packages/fbrefdata/fbref.py\" target=\"_blank\"><span style=\"color: #7f7f7f; text-decoration-color: #7f7f7f\">fbref.py</span></a><span style=\"color: #7f7f7f; text-decoration-color: #7f7f7f\">:</span><a href=\"file:///usr/local/python/3.12.1/lib/python3.12/site-packages/fbrefdata/fbref.py#927\" target=\"_blank\"><span style=\"color: #7f7f7f; text-decoration-color: #7f7f7f\">927</span></a>\n",
       "</pre>\n"
      ],
      "text/plain": [
       "\u001b[2;36m[08/29/24 07:57:51]\u001b[0m\u001b[2;36m \u001b[0m\u001b[34mINFO    \u001b[0m \u001b[1m[\u001b[0m\u001b[1;36m91\u001b[0m/\u001b[1;36m380\u001b[0m\u001b[1m]\u001b[0m Retrieving game with \u001b[33mid\u001b[0m=\u001b[35me42493f9\u001b[0m                                 \u001b]8;id=191644;file:///usr/local/python/3.12.1/lib/python3.12/site-packages/fbrefdata/fbref.py\u001b\\\u001b[2mfbref.py\u001b[0m\u001b]8;;\u001b\\\u001b[2m:\u001b[0m\u001b]8;id=703492;file:///usr/local/python/3.12.1/lib/python3.12/site-packages/fbrefdata/fbref.py#927\u001b\\\u001b[2m927\u001b[0m\u001b]8;;\u001b\\\n"
      ]
     },
     "metadata": {},
     "output_type": "display_data"
    },
    {
     "name": "stderr",
     "output_type": "stream",
     "text": [
      "/usr/local/python/3.12.1/lib/python3.12/site-packages/fbrefdata/fbref.py:940: FutureWarning: This search incorrectly ignores the root element, and will be fixed in a future version.  If you rely on the current behaviour, change it to \".//table[@id='stats_361ca564_summary']\"\n",
      "  html_table = tree.find(\"//table[@id='\" + id_format.format(home_team[\"id\"]) + \"']\")\n",
      "/usr/local/python/3.12.1/lib/python3.12/site-packages/fbrefdata/fbref.py:953: FutureWarning: This search incorrectly ignores the root element, and will be fixed in a future version.  If you rely on the current behaviour, change it to \".//table[@id='stats_d3fd31cc_summary']\"\n",
      "  html_table = tree.find(\"//table[@id='\" + id_format.format(away_team[\"id\"]) + \"']\")\n"
     ]
    },
    {
     "data": {
      "text/html": [
       "<pre style=\"white-space:pre;overflow-x:auto;line-height:normal;font-family:Menlo,'DejaVu Sans Mono',consolas,'Courier New',monospace\"><span style=\"color: #7fbfbf; text-decoration-color: #7fbfbf\">[08/29/24 07:57:57] </span><span style=\"color: #000080; text-decoration-color: #000080\">INFO    </span> <span style=\"font-weight: bold\">[</span><span style=\"color: #008080; text-decoration-color: #008080; font-weight: bold\">92</span>/<span style=\"color: #008080; text-decoration-color: #008080; font-weight: bold\">380</span><span style=\"font-weight: bold\">]</span> Retrieving game with <span style=\"color: #808000; text-decoration-color: #808000\">id</span>=<span style=\"color: #800080; text-decoration-color: #800080\">c9f8e7e9</span>                                 <a href=\"file:///usr/local/python/3.12.1/lib/python3.12/site-packages/fbrefdata/fbref.py\" target=\"_blank\"><span style=\"color: #7f7f7f; text-decoration-color: #7f7f7f\">fbref.py</span></a><span style=\"color: #7f7f7f; text-decoration-color: #7f7f7f\">:</span><a href=\"file:///usr/local/python/3.12.1/lib/python3.12/site-packages/fbrefdata/fbref.py#927\" target=\"_blank\"><span style=\"color: #7f7f7f; text-decoration-color: #7f7f7f\">927</span></a>\n",
       "</pre>\n"
      ],
      "text/plain": [
       "\u001b[2;36m[08/29/24 07:57:57]\u001b[0m\u001b[2;36m \u001b[0m\u001b[34mINFO    \u001b[0m \u001b[1m[\u001b[0m\u001b[1;36m92\u001b[0m/\u001b[1;36m380\u001b[0m\u001b[1m]\u001b[0m Retrieving game with \u001b[33mid\u001b[0m=\u001b[35mc9f8e7e9\u001b[0m                                 \u001b]8;id=986918;file:///usr/local/python/3.12.1/lib/python3.12/site-packages/fbrefdata/fbref.py\u001b\\\u001b[2mfbref.py\u001b[0m\u001b]8;;\u001b\\\u001b[2m:\u001b[0m\u001b]8;id=734536;file:///usr/local/python/3.12.1/lib/python3.12/site-packages/fbrefdata/fbref.py#927\u001b\\\u001b[2m927\u001b[0m\u001b]8;;\u001b\\\n"
      ]
     },
     "metadata": {},
     "output_type": "display_data"
    }
   ],
   "source": [
    "df = fbref.read_player_match_stats()"
   ]
  },
  {
   "cell_type": "code",
   "execution_count": null,
   "id": "6ec246d4-66ce-417d-b0c8-1dd311619815",
   "metadata": {},
   "outputs": [],
   "source": []
  }
 ],
 "metadata": {
  "kernelspec": {
   "display_name": "Python 3 (ipykernel)",
   "language": "python",
   "name": "python3"
  },
  "language_info": {
   "codemirror_mode": {
    "name": "ipython",
    "version": 3
   },
   "file_extension": ".py",
   "mimetype": "text/x-python",
   "name": "python",
   "nbconvert_exporter": "python",
   "pygments_lexer": "ipython3",
   "version": "3.12.1"
  }
 },
 "nbformat": 4,
 "nbformat_minor": 5
}
