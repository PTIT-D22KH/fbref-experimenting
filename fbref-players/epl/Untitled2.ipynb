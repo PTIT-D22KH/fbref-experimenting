{
 "cells": [
  {
   "cell_type": "code",
   "execution_count": 3,
   "id": "fdc3a7f6-1746-4d42-a6bf-63a065683049",
   "metadata": {},
   "outputs": [
    {
     "data": {
      "text/html": [
       "<pre style=\"white-space:pre;overflow-x:auto;line-height:normal;font-family:Menlo,'DejaVu Sans Mono',consolas,'Courier New',monospace\"><span style=\"color: #7fbfbf; text-decoration-color: #7fbfbf\">[08/30/24 02:14:10] </span><span style=\"color: #000080; text-decoration-color: #000080\">INFO    </span> Custom league dict loaded from                                           <a href=\"file:///home/codespace/.local/lib/python3.12/site-packages/fbrefdata/_config.py\" target=\"_blank\"><span style=\"color: #7f7f7f; text-decoration-color: #7f7f7f\">_config.py</span></a><span style=\"color: #7f7f7f; text-decoration-color: #7f7f7f\">:</span><a href=\"file:///home/codespace/.local/lib/python3.12/site-packages/fbrefdata/_config.py#96\" target=\"_blank\"><span style=\"color: #7f7f7f; text-decoration-color: #7f7f7f\">96</span></a>\n",
       "<span style=\"color: #7fbfbf; text-decoration-color: #7fbfbf\">                    </span>         <span style=\"color: #800080; text-decoration-color: #800080\">/home/codespace/fbrefdata/config/</span><span style=\"color: #ff00ff; text-decoration-color: #ff00ff\">league_dict.json.</span>                       <span style=\"color: #7f7f7f; text-decoration-color: #7f7f7f\">             </span>\n",
       "</pre>\n"
      ],
      "text/plain": [
       "\u001b[2;36m[08/30/24 02:14:10]\u001b[0m\u001b[2;36m \u001b[0m\u001b[34mINFO    \u001b[0m Custom league dict loaded from                                           \u001b]8;id=148025;file:///home/codespace/.local/lib/python3.12/site-packages/fbrefdata/_config.py\u001b\\\u001b[2m_config.py\u001b[0m\u001b]8;;\u001b\\\u001b[2m:\u001b[0m\u001b]8;id=136500;file:///home/codespace/.local/lib/python3.12/site-packages/fbrefdata/_config.py#96\u001b\\\u001b[2m96\u001b[0m\u001b]8;;\u001b\\\n",
       "\u001b[2;36m                    \u001b[0m         \u001b[35m/home/codespace/fbrefdata/config/\u001b[0m\u001b[95mleague_dict.json.\u001b[0m                       \u001b[2m             \u001b[0m\n"
      ]
     },
     "metadata": {},
     "output_type": "display_data"
    },
    {
     "data": {
      "text/plain": [
       "['Big 5 European Leagues Combined',\n",
       " 'ENG-EPL',\n",
       " 'ESP-LALIGA',\n",
       " 'FRA-L1',\n",
       " 'GER-BL1',\n",
       " 'ITA-SERIA_A',\n",
       " 'UCL',\n",
       " 'UEL']"
      ]
     },
     "execution_count": 3,
     "metadata": {},
     "output_type": "execute_result"
    }
   ],
   "source": [
    "import fbrefdata as fb\n",
    "import statsbombpy as st\n",
    "import mplsoccer as mp\n",
    "import matplotlib.pyplot as plt\n",
    "import numpy as np\n",
    "import pandas as pd\n",
    "\n",
    "fb.FBref.available_leagues()"
   ]
  },
  {
   "cell_type": "code",
   "execution_count": null,
   "id": "a53d3d19-9eb8-4a9b-8872-77f5a3e41fb2",
   "metadata": {
    "scrolled": true
   },
   "outputs": [
    {
     "data": {
      "text/html": [
       "<pre style=\"white-space:pre;overflow-x:auto;line-height:normal;font-family:Menlo,'DejaVu Sans Mono',consolas,'Courier New',monospace\"><span style=\"color: #7fbfbf; text-decoration-color: #7fbfbf\">[08/30/24 02:42:41] </span><span style=\"color: #000080; text-decoration-color: #000080\">INFO    </span> Custom league dict loaded from                                           <a href=\"file:///home/codespace/.local/lib/python3.12/site-packages/fbrefdata/_config.py\" target=\"_blank\"><span style=\"color: #7f7f7f; text-decoration-color: #7f7f7f\">_config.py</span></a><span style=\"color: #7f7f7f; text-decoration-color: #7f7f7f\">:</span><a href=\"file:///home/codespace/.local/lib/python3.12/site-packages/fbrefdata/_config.py#96\" target=\"_blank\"><span style=\"color: #7f7f7f; text-decoration-color: #7f7f7f\">96</span></a>\n",
       "<span style=\"color: #7fbfbf; text-decoration-color: #7fbfbf\">                    </span>         <span style=\"color: #800080; text-decoration-color: #800080\">/home/codespace/fbrefdata/config/</span><span style=\"color: #ff00ff; text-decoration-color: #ff00ff\">league_dict.json.</span>                       <span style=\"color: #7f7f7f; text-decoration-color: #7f7f7f\">             </span>\n",
       "</pre>\n"
      ],
      "text/plain": [
       "\u001b[2;36m[08/30/24 02:42:41]\u001b[0m\u001b[2;36m \u001b[0m\u001b[34mINFO    \u001b[0m Custom league dict loaded from                                           \u001b]8;id=543485;file:///home/codespace/.local/lib/python3.12/site-packages/fbrefdata/_config.py\u001b\\\u001b[2m_config.py\u001b[0m\u001b]8;;\u001b\\\u001b[2m:\u001b[0m\u001b]8;id=650310;file:///home/codespace/.local/lib/python3.12/site-packages/fbrefdata/_config.py#96\u001b\\\u001b[2m96\u001b[0m\u001b]8;;\u001b\\\n",
       "\u001b[2;36m                    \u001b[0m         \u001b[35m/home/codespace/fbrefdata/config/\u001b[0m\u001b[95mleague_dict.json.\u001b[0m                       \u001b[2m             \u001b[0m\n"
      ]
     },
     "metadata": {},
     "output_type": "display_data"
    },
    {
     "data": {
      "text/html": [
       "<pre style=\"white-space:pre;overflow-x:auto;line-height:normal;font-family:Menlo,'DejaVu Sans Mono',consolas,'Courier New',monospace\"><span style=\"color: #7fbfbf; text-decoration-color: #7fbfbf\">                    </span><span style=\"color: #000080; text-decoration-color: #000080\">INFO    </span> Custom league dict loaded from                                           <a href=\"file:///home/codespace/.local/lib/python3.12/site-packages/fbrefdata/_config.py\" target=\"_blank\"><span style=\"color: #7f7f7f; text-decoration-color: #7f7f7f\">_config.py</span></a><span style=\"color: #7f7f7f; text-decoration-color: #7f7f7f\">:</span><a href=\"file:///home/codespace/.local/lib/python3.12/site-packages/fbrefdata/_config.py#96\" target=\"_blank\"><span style=\"color: #7f7f7f; text-decoration-color: #7f7f7f\">96</span></a>\n",
       "<span style=\"color: #7fbfbf; text-decoration-color: #7fbfbf\">                    </span>         <span style=\"color: #800080; text-decoration-color: #800080\">/home/codespace/fbrefdata/config/</span><span style=\"color: #ff00ff; text-decoration-color: #ff00ff\">league_dict.json.</span>                       <span style=\"color: #7f7f7f; text-decoration-color: #7f7f7f\">             </span>\n",
       "</pre>\n"
      ],
      "text/plain": [
       "\u001b[2;36m                   \u001b[0m\u001b[2;36m \u001b[0m\u001b[34mINFO    \u001b[0m Custom league dict loaded from                                           \u001b]8;id=595066;file:///home/codespace/.local/lib/python3.12/site-packages/fbrefdata/_config.py\u001b\\\u001b[2m_config.py\u001b[0m\u001b]8;;\u001b\\\u001b[2m:\u001b[0m\u001b]8;id=924161;file:///home/codespace/.local/lib/python3.12/site-packages/fbrefdata/_config.py#96\u001b\\\u001b[2m96\u001b[0m\u001b]8;;\u001b\\\n",
       "\u001b[2;36m                    \u001b[0m         \u001b[35m/home/codespace/fbrefdata/config/\u001b[0m\u001b[95mleague_dict.json.\u001b[0m                       \u001b[2m             \u001b[0m\n"
      ]
     },
     "metadata": {},
     "output_type": "display_data"
    },
    {
     "data": {
      "text/html": [
       "<pre style=\"white-space:pre;overflow-x:auto;line-height:normal;font-family:Menlo,'DejaVu Sans Mono',consolas,'Courier New',monospace\"><span style=\"color: #7fbfbf; text-decoration-color: #7fbfbf\">                    </span><span style=\"color: #000080; text-decoration-color: #000080\">INFO    </span> Saving cached data to <span style=\"color: #800080; text-decoration-color: #800080\">/home/codespace/fbrefdata/</span><span style=\"color: #ff00ff; text-decoration-color: #ff00ff\">data</span>                     <a href=\"file:///home/codespace/.local/lib/python3.12/site-packages/fbrefdata/_common.py\" target=\"_blank\"><span style=\"color: #7f7f7f; text-decoration-color: #7f7f7f\">_common.py</span></a><span style=\"color: #7f7f7f; text-decoration-color: #7f7f7f\">:</span><a href=\"file:///home/codespace/.local/lib/python3.12/site-packages/fbrefdata/_common.py#90\" target=\"_blank\"><span style=\"color: #7f7f7f; text-decoration-color: #7f7f7f\">90</span></a>\n",
       "</pre>\n"
      ],
      "text/plain": [
       "\u001b[2;36m                   \u001b[0m\u001b[2;36m \u001b[0m\u001b[34mINFO    \u001b[0m Saving cached data to \u001b[35m/home/codespace/fbrefdata/\u001b[0m\u001b[95mdata\u001b[0m                     \u001b]8;id=623448;file:///home/codespace/.local/lib/python3.12/site-packages/fbrefdata/_common.py\u001b\\\u001b[2m_common.py\u001b[0m\u001b]8;;\u001b\\\u001b[2m:\u001b[0m\u001b]8;id=480732;file:///home/codespace/.local/lib/python3.12/site-packages/fbrefdata/_common.py#90\u001b\\\u001b[2m90\u001b[0m\u001b]8;;\u001b\\\n"
      ]
     },
     "metadata": {},
     "output_type": "display_data"
    },
    {
     "data": {
      "text/html": [
       "<pre style=\"white-space:pre;overflow-x:auto;line-height:normal;font-family:Menlo,'DejaVu Sans Mono',consolas,'Courier New',monospace\"><span style=\"color: #7fbfbf; text-decoration-color: #7fbfbf\">                    </span><span style=\"color: #000080; text-decoration-color: #000080\">INFO    </span> Custom league dict loaded from                                           <a href=\"file:///home/codespace/.local/lib/python3.12/site-packages/fbrefdata/_config.py\" target=\"_blank\"><span style=\"color: #7f7f7f; text-decoration-color: #7f7f7f\">_config.py</span></a><span style=\"color: #7f7f7f; text-decoration-color: #7f7f7f\">:</span><a href=\"file:///home/codespace/.local/lib/python3.12/site-packages/fbrefdata/_config.py#96\" target=\"_blank\"><span style=\"color: #7f7f7f; text-decoration-color: #7f7f7f\">96</span></a>\n",
       "<span style=\"color: #7fbfbf; text-decoration-color: #7fbfbf\">                    </span>         <span style=\"color: #800080; text-decoration-color: #800080\">/home/codespace/fbrefdata/config/</span><span style=\"color: #ff00ff; text-decoration-color: #ff00ff\">league_dict.json.</span>                       <span style=\"color: #7f7f7f; text-decoration-color: #7f7f7f\">             </span>\n",
       "</pre>\n"
      ],
      "text/plain": [
       "\u001b[2;36m                   \u001b[0m\u001b[2;36m \u001b[0m\u001b[34mINFO    \u001b[0m Custom league dict loaded from                                           \u001b]8;id=686466;file:///home/codespace/.local/lib/python3.12/site-packages/fbrefdata/_config.py\u001b\\\u001b[2m_config.py\u001b[0m\u001b]8;;\u001b\\\u001b[2m:\u001b[0m\u001b]8;id=765648;file:///home/codespace/.local/lib/python3.12/site-packages/fbrefdata/_config.py#96\u001b\\\u001b[2m96\u001b[0m\u001b]8;;\u001b\\\n",
       "\u001b[2;36m                    \u001b[0m         \u001b[35m/home/codespace/fbrefdata/config/\u001b[0m\u001b[95mleague_dict.json.\u001b[0m                       \u001b[2m             \u001b[0m\n"
      ]
     },
     "metadata": {},
     "output_type": "display_data"
    },
    {
     "data": {
      "text/html": [
       "<pre style=\"white-space:pre;overflow-x:auto;line-height:normal;font-family:Menlo,'DejaVu Sans Mono',consolas,'Courier New',monospace\"><span style=\"color: #7fbfbf; text-decoration-color: #7fbfbf\">                    </span><span style=\"color: #000080; text-decoration-color: #000080\">INFO    </span> No custom team name replacements found. You can configure these in       <a href=\"file:///home/codespace/.local/lib/python3.12/site-packages/fbrefdata/_config.py\" target=\"_blank\"><span style=\"color: #7f7f7f; text-decoration-color: #7f7f7f\">_config.py</span></a><span style=\"color: #7f7f7f; text-decoration-color: #7f7f7f\">:</span><a href=\"file:///home/codespace/.local/lib/python3.12/site-packages/fbrefdata/_config.py#85\" target=\"_blank\"><span style=\"color: #7f7f7f; text-decoration-color: #7f7f7f\">85</span></a>\n",
       "<span style=\"color: #7fbfbf; text-decoration-color: #7fbfbf\">                    </span>         <span style=\"color: #800080; text-decoration-color: #800080\">/home/codespace/fbrefdata/config/</span><span style=\"color: #ff00ff; text-decoration-color: #ff00ff\">teamname_replacements.json.</span>             <span style=\"color: #7f7f7f; text-decoration-color: #7f7f7f\">             </span>\n",
       "</pre>\n"
      ],
      "text/plain": [
       "\u001b[2;36m                   \u001b[0m\u001b[2;36m \u001b[0m\u001b[34mINFO    \u001b[0m No custom team name replacements found. You can configure these in       \u001b]8;id=989819;file:///home/codespace/.local/lib/python3.12/site-packages/fbrefdata/_config.py\u001b\\\u001b[2m_config.py\u001b[0m\u001b]8;;\u001b\\\u001b[2m:\u001b[0m\u001b]8;id=401580;file:///home/codespace/.local/lib/python3.12/site-packages/fbrefdata/_config.py#85\u001b\\\u001b[2m85\u001b[0m\u001b]8;;\u001b\\\n",
       "\u001b[2;36m                    \u001b[0m         \u001b[35m/home/codespace/fbrefdata/config/\u001b[0m\u001b[95mteamname_replacements.json.\u001b[0m             \u001b[2m             \u001b[0m\n"
      ]
     },
     "metadata": {},
     "output_type": "display_data"
    },
    {
     "data": {
      "text/html": [
       "<pre style=\"white-space:pre;overflow-x:auto;line-height:normal;font-family:Menlo,'DejaVu Sans Mono',consolas,'Courier New',monospace\"><span style=\"color: #7fbfbf; text-decoration-color: #7fbfbf\">                    </span><span style=\"color: #000080; text-decoration-color: #000080\">INFO    </span> No custom team name replacements found. You can configure these in       <a href=\"file:///home/codespace/.local/lib/python3.12/site-packages/fbrefdata/_config.py\" target=\"_blank\"><span style=\"color: #7f7f7f; text-decoration-color: #7f7f7f\">_config.py</span></a><span style=\"color: #7f7f7f; text-decoration-color: #7f7f7f\">:</span><a href=\"file:///home/codespace/.local/lib/python3.12/site-packages/fbrefdata/_config.py#85\" target=\"_blank\"><span style=\"color: #7f7f7f; text-decoration-color: #7f7f7f\">85</span></a>\n",
       "<span style=\"color: #7fbfbf; text-decoration-color: #7fbfbf\">                    </span>         <span style=\"color: #800080; text-decoration-color: #800080\">/home/codespace/fbrefdata/config/</span><span style=\"color: #ff00ff; text-decoration-color: #ff00ff\">teamname_replacements.json.</span>             <span style=\"color: #7f7f7f; text-decoration-color: #7f7f7f\">             </span>\n",
       "</pre>\n"
      ],
      "text/plain": [
       "\u001b[2;36m                   \u001b[0m\u001b[2;36m \u001b[0m\u001b[34mINFO    \u001b[0m No custom team name replacements found. You can configure these in       \u001b]8;id=492749;file:///home/codespace/.local/lib/python3.12/site-packages/fbrefdata/_config.py\u001b\\\u001b[2m_config.py\u001b[0m\u001b]8;;\u001b\\\u001b[2m:\u001b[0m\u001b]8;id=295578;file:///home/codespace/.local/lib/python3.12/site-packages/fbrefdata/_config.py#85\u001b\\\u001b[2m85\u001b[0m\u001b]8;;\u001b\\\n",
       "\u001b[2;36m                    \u001b[0m         \u001b[35m/home/codespace/fbrefdata/config/\u001b[0m\u001b[95mteamname_replacements.json.\u001b[0m             \u001b[2m             \u001b[0m\n"
      ]
     },
     "metadata": {},
     "output_type": "display_data"
    },
    {
     "data": {
      "text/html": [
       "<pre style=\"white-space:pre;overflow-x:auto;line-height:normal;font-family:Menlo,'DejaVu Sans Mono',consolas,'Courier New',monospace\"><span style=\"color: #7fbfbf; text-decoration-color: #7fbfbf\">                    </span><span style=\"color: #000080; text-decoration-color: #000080\">INFO    </span> <span style=\"font-weight: bold\">[</span><span style=\"color: #008080; text-decoration-color: #008080; font-weight: bold\">1</span>/<span style=\"color: #008080; text-decoration-color: #008080; font-weight: bold\">308</span><span style=\"font-weight: bold\">]</span> Retrieving game with <span style=\"color: #808000; text-decoration-color: #808000\">id</span>=<span style=\"color: #008080; text-decoration-color: #008080; font-weight: bold\">11678092</span>                                  <a href=\"file:///home/codespace/.local/lib/python3.12/site-packages/fbrefdata/fbref.py\" target=\"_blank\"><span style=\"color: #7f7f7f; text-decoration-color: #7f7f7f\">fbref.py</span></a><span style=\"color: #7f7f7f; text-decoration-color: #7f7f7f\">:</span><a href=\"file:///home/codespace/.local/lib/python3.12/site-packages/fbrefdata/fbref.py#927\" target=\"_blank\"><span style=\"color: #7f7f7f; text-decoration-color: #7f7f7f\">927</span></a>\n",
       "</pre>\n"
      ],
      "text/plain": [
       "\u001b[2;36m                   \u001b[0m\u001b[2;36m \u001b[0m\u001b[34mINFO    \u001b[0m \u001b[1m[\u001b[0m\u001b[1;36m1\u001b[0m/\u001b[1;36m308\u001b[0m\u001b[1m]\u001b[0m Retrieving game with \u001b[33mid\u001b[0m=\u001b[1;36m11678092\u001b[0m                                  \u001b]8;id=899189;file:///home/codespace/.local/lib/python3.12/site-packages/fbrefdata/fbref.py\u001b\\\u001b[2mfbref.py\u001b[0m\u001b]8;;\u001b\\\u001b[2m:\u001b[0m\u001b]8;id=47258;file:///home/codespace/.local/lib/python3.12/site-packages/fbrefdata/fbref.py#927\u001b\\\u001b[2m927\u001b[0m\u001b]8;;\u001b\\\n"
      ]
     },
     "metadata": {},
     "output_type": "display_data"
    },
    {
     "data": {
      "text/html": [
       "<pre style=\"white-space:pre;overflow-x:auto;line-height:normal;font-family:Menlo,'DejaVu Sans Mono',consolas,'Courier New',monospace\"><span style=\"color: #7fbfbf; text-decoration-color: #7fbfbf\">                    </span><span style=\"color: #000080; text-decoration-color: #000080\">INFO    </span> <span style=\"font-weight: bold\">[</span><span style=\"color: #008080; text-decoration-color: #008080; font-weight: bold\">2</span>/<span style=\"color: #008080; text-decoration-color: #008080; font-weight: bold\">308</span><span style=\"font-weight: bold\">]</span> Retrieving game with <span style=\"color: #808000; text-decoration-color: #808000\">id</span>=<span style=\"color: #800080; text-decoration-color: #800080\">991d308f</span>                                  <a href=\"file:///home/codespace/.local/lib/python3.12/site-packages/fbrefdata/fbref.py\" target=\"_blank\"><span style=\"color: #7f7f7f; text-decoration-color: #7f7f7f\">fbref.py</span></a><span style=\"color: #7f7f7f; text-decoration-color: #7f7f7f\">:</span><a href=\"file:///home/codespace/.local/lib/python3.12/site-packages/fbrefdata/fbref.py#927\" target=\"_blank\"><span style=\"color: #7f7f7f; text-decoration-color: #7f7f7f\">927</span></a>\n",
       "</pre>\n"
      ],
      "text/plain": [
       "\u001b[2;36m                   \u001b[0m\u001b[2;36m \u001b[0m\u001b[34mINFO    \u001b[0m \u001b[1m[\u001b[0m\u001b[1;36m2\u001b[0m/\u001b[1;36m308\u001b[0m\u001b[1m]\u001b[0m Retrieving game with \u001b[33mid\u001b[0m=\u001b[35m991d308f\u001b[0m                                  \u001b]8;id=942786;file:///home/codespace/.local/lib/python3.12/site-packages/fbrefdata/fbref.py\u001b\\\u001b[2mfbref.py\u001b[0m\u001b]8;;\u001b\\\u001b[2m:\u001b[0m\u001b]8;id=606741;file:///home/codespace/.local/lib/python3.12/site-packages/fbrefdata/fbref.py#927\u001b\\\u001b[2m927\u001b[0m\u001b]8;;\u001b\\\n"
      ]
     },
     "metadata": {},
     "output_type": "display_data"
    },
    {
     "data": {
      "text/html": [
       "<pre style=\"white-space:pre;overflow-x:auto;line-height:normal;font-family:Menlo,'DejaVu Sans Mono',consolas,'Courier New',monospace\"><span style=\"color: #7fbfbf; text-decoration-color: #7fbfbf\">                    </span><span style=\"color: #000080; text-decoration-color: #000080\">INFO    </span> <span style=\"font-weight: bold\">[</span><span style=\"color: #008080; text-decoration-color: #008080; font-weight: bold\">3</span>/<span style=\"color: #008080; text-decoration-color: #008080; font-weight: bold\">308</span><span style=\"font-weight: bold\">]</span> Retrieving game with <span style=\"color: #808000; text-decoration-color: #808000\">id</span>=<span style=\"color: #800080; text-decoration-color: #800080\">e10b719d</span>                                  <a href=\"file:///home/codespace/.local/lib/python3.12/site-packages/fbrefdata/fbref.py\" target=\"_blank\"><span style=\"color: #7f7f7f; text-decoration-color: #7f7f7f\">fbref.py</span></a><span style=\"color: #7f7f7f; text-decoration-color: #7f7f7f\">:</span><a href=\"file:///home/codespace/.local/lib/python3.12/site-packages/fbrefdata/fbref.py#927\" target=\"_blank\"><span style=\"color: #7f7f7f; text-decoration-color: #7f7f7f\">927</span></a>\n",
       "</pre>\n"
      ],
      "text/plain": [
       "\u001b[2;36m                   \u001b[0m\u001b[2;36m \u001b[0m\u001b[34mINFO    \u001b[0m \u001b[1m[\u001b[0m\u001b[1;36m3\u001b[0m/\u001b[1;36m308\u001b[0m\u001b[1m]\u001b[0m Retrieving game with \u001b[33mid\u001b[0m=\u001b[35me10b719d\u001b[0m                                  \u001b]8;id=52414;file:///home/codespace/.local/lib/python3.12/site-packages/fbrefdata/fbref.py\u001b\\\u001b[2mfbref.py\u001b[0m\u001b]8;;\u001b\\\u001b[2m:\u001b[0m\u001b]8;id=739201;file:///home/codespace/.local/lib/python3.12/site-packages/fbrefdata/fbref.py#927\u001b\\\u001b[2m927\u001b[0m\u001b]8;;\u001b\\\n"
      ]
     },
     "metadata": {},
     "output_type": "display_data"
    },
    {
     "data": {
      "text/html": [
       "<pre style=\"white-space:pre;overflow-x:auto;line-height:normal;font-family:Menlo,'DejaVu Sans Mono',consolas,'Courier New',monospace\"><span style=\"color: #7fbfbf; text-decoration-color: #7fbfbf\">                    </span><span style=\"color: #000080; text-decoration-color: #000080\">INFO    </span> <span style=\"font-weight: bold\">[</span><span style=\"color: #008080; text-decoration-color: #008080; font-weight: bold\">4</span>/<span style=\"color: #008080; text-decoration-color: #008080; font-weight: bold\">308</span><span style=\"font-weight: bold\">]</span> Retrieving game with <span style=\"color: #808000; text-decoration-color: #808000\">id</span>=<span style=\"color: #800080; text-decoration-color: #800080\">4504b4a4</span>                                  <a href=\"file:///home/codespace/.local/lib/python3.12/site-packages/fbrefdata/fbref.py\" target=\"_blank\"><span style=\"color: #7f7f7f; text-decoration-color: #7f7f7f\">fbref.py</span></a><span style=\"color: #7f7f7f; text-decoration-color: #7f7f7f\">:</span><a href=\"file:///home/codespace/.local/lib/python3.12/site-packages/fbrefdata/fbref.py#927\" target=\"_blank\"><span style=\"color: #7f7f7f; text-decoration-color: #7f7f7f\">927</span></a>\n",
       "</pre>\n"
      ],
      "text/plain": [
       "\u001b[2;36m                   \u001b[0m\u001b[2;36m \u001b[0m\u001b[34mINFO    \u001b[0m \u001b[1m[\u001b[0m\u001b[1;36m4\u001b[0m/\u001b[1;36m308\u001b[0m\u001b[1m]\u001b[0m Retrieving game with \u001b[33mid\u001b[0m=\u001b[35m4504b4a4\u001b[0m                                  \u001b]8;id=521596;file:///home/codespace/.local/lib/python3.12/site-packages/fbrefdata/fbref.py\u001b\\\u001b[2mfbref.py\u001b[0m\u001b]8;;\u001b\\\u001b[2m:\u001b[0m\u001b]8;id=616454;file:///home/codespace/.local/lib/python3.12/site-packages/fbrefdata/fbref.py#927\u001b\\\u001b[2m927\u001b[0m\u001b]8;;\u001b\\\n"
      ]
     },
     "metadata": {},
     "output_type": "display_data"
    },
    {
     "data": {
      "text/html": [
       "<pre style=\"white-space:pre;overflow-x:auto;line-height:normal;font-family:Menlo,'DejaVu Sans Mono',consolas,'Courier New',monospace\"><span style=\"color: #7fbfbf; text-decoration-color: #7fbfbf\">                    </span><span style=\"color: #000080; text-decoration-color: #000080\">INFO    </span> <span style=\"font-weight: bold\">[</span><span style=\"color: #008080; text-decoration-color: #008080; font-weight: bold\">5</span>/<span style=\"color: #008080; text-decoration-color: #008080; font-weight: bold\">308</span><span style=\"font-weight: bold\">]</span> Retrieving game with <span style=\"color: #808000; text-decoration-color: #808000\">id</span>=<span style=\"color: #800080; text-decoration-color: #800080\">8dd8f0c2</span>                                  <a href=\"file:///home/codespace/.local/lib/python3.12/site-packages/fbrefdata/fbref.py\" target=\"_blank\"><span style=\"color: #7f7f7f; text-decoration-color: #7f7f7f\">fbref.py</span></a><span style=\"color: #7f7f7f; text-decoration-color: #7f7f7f\">:</span><a href=\"file:///home/codespace/.local/lib/python3.12/site-packages/fbrefdata/fbref.py#927\" target=\"_blank\"><span style=\"color: #7f7f7f; text-decoration-color: #7f7f7f\">927</span></a>\n",
       "</pre>\n"
      ],
      "text/plain": [
       "\u001b[2;36m                   \u001b[0m\u001b[2;36m \u001b[0m\u001b[34mINFO    \u001b[0m \u001b[1m[\u001b[0m\u001b[1;36m5\u001b[0m/\u001b[1;36m308\u001b[0m\u001b[1m]\u001b[0m Retrieving game with \u001b[33mid\u001b[0m=\u001b[35m8dd8f0c2\u001b[0m                                  \u001b]8;id=998220;file:///home/codespace/.local/lib/python3.12/site-packages/fbrefdata/fbref.py\u001b\\\u001b[2mfbref.py\u001b[0m\u001b]8;;\u001b\\\u001b[2m:\u001b[0m\u001b]8;id=35592;file:///home/codespace/.local/lib/python3.12/site-packages/fbrefdata/fbref.py#927\u001b\\\u001b[2m927\u001b[0m\u001b]8;;\u001b\\\n"
      ]
     },
     "metadata": {},
     "output_type": "display_data"
    },
    {
     "data": {
      "text/html": [
       "<pre style=\"white-space:pre;overflow-x:auto;line-height:normal;font-family:Menlo,'DejaVu Sans Mono',consolas,'Courier New',monospace\"><span style=\"color: #7fbfbf; text-decoration-color: #7fbfbf\">                    </span><span style=\"color: #000080; text-decoration-color: #000080\">INFO    </span> <span style=\"font-weight: bold\">[</span><span style=\"color: #008080; text-decoration-color: #008080; font-weight: bold\">6</span>/<span style=\"color: #008080; text-decoration-color: #008080; font-weight: bold\">308</span><span style=\"font-weight: bold\">]</span> Retrieving game with <span style=\"color: #808000; text-decoration-color: #808000\">id</span>=<span style=\"color: #800080; text-decoration-color: #800080\">74ee6b62</span>                                  <a href=\"file:///home/codespace/.local/lib/python3.12/site-packages/fbrefdata/fbref.py\" target=\"_blank\"><span style=\"color: #7f7f7f; text-decoration-color: #7f7f7f\">fbref.py</span></a><span style=\"color: #7f7f7f; text-decoration-color: #7f7f7f\">:</span><a href=\"file:///home/codespace/.local/lib/python3.12/site-packages/fbrefdata/fbref.py#927\" target=\"_blank\"><span style=\"color: #7f7f7f; text-decoration-color: #7f7f7f\">927</span></a>\n",
       "</pre>\n"
      ],
      "text/plain": [
       "\u001b[2;36m                   \u001b[0m\u001b[2;36m \u001b[0m\u001b[34mINFO    \u001b[0m \u001b[1m[\u001b[0m\u001b[1;36m6\u001b[0m/\u001b[1;36m308\u001b[0m\u001b[1m]\u001b[0m Retrieving game with \u001b[33mid\u001b[0m=\u001b[35m74ee6b62\u001b[0m                                  \u001b]8;id=928884;file:///home/codespace/.local/lib/python3.12/site-packages/fbrefdata/fbref.py\u001b\\\u001b[2mfbref.py\u001b[0m\u001b]8;;\u001b\\\u001b[2m:\u001b[0m\u001b]8;id=292958;file:///home/codespace/.local/lib/python3.12/site-packages/fbrefdata/fbref.py#927\u001b\\\u001b[2m927\u001b[0m\u001b]8;;\u001b\\\n"
      ]
     },
     "metadata": {},
     "output_type": "display_data"
    },
    {
     "data": {
      "text/html": [
       "<pre style=\"white-space:pre;overflow-x:auto;line-height:normal;font-family:Menlo,'DejaVu Sans Mono',consolas,'Courier New',monospace\"><span style=\"color: #7fbfbf; text-decoration-color: #7fbfbf\">                    </span><span style=\"color: #000080; text-decoration-color: #000080\">INFO    </span> <span style=\"font-weight: bold\">[</span><span style=\"color: #008080; text-decoration-color: #008080; font-weight: bold\">7</span>/<span style=\"color: #008080; text-decoration-color: #008080; font-weight: bold\">308</span><span style=\"font-weight: bold\">]</span> Retrieving game with <span style=\"color: #808000; text-decoration-color: #808000\">id</span>=<span style=\"color: #800080; text-decoration-color: #800080\">dd3427f7</span>                                  <a href=\"file:///home/codespace/.local/lib/python3.12/site-packages/fbrefdata/fbref.py\" target=\"_blank\"><span style=\"color: #7f7f7f; text-decoration-color: #7f7f7f\">fbref.py</span></a><span style=\"color: #7f7f7f; text-decoration-color: #7f7f7f\">:</span><a href=\"file:///home/codespace/.local/lib/python3.12/site-packages/fbrefdata/fbref.py#927\" target=\"_blank\"><span style=\"color: #7f7f7f; text-decoration-color: #7f7f7f\">927</span></a>\n",
       "</pre>\n"
      ],
      "text/plain": [
       "\u001b[2;36m                   \u001b[0m\u001b[2;36m \u001b[0m\u001b[34mINFO    \u001b[0m \u001b[1m[\u001b[0m\u001b[1;36m7\u001b[0m/\u001b[1;36m308\u001b[0m\u001b[1m]\u001b[0m Retrieving game with \u001b[33mid\u001b[0m=\u001b[35mdd3427f7\u001b[0m                                  \u001b]8;id=940260;file:///home/codespace/.local/lib/python3.12/site-packages/fbrefdata/fbref.py\u001b\\\u001b[2mfbref.py\u001b[0m\u001b]8;;\u001b\\\u001b[2m:\u001b[0m\u001b]8;id=839212;file:///home/codespace/.local/lib/python3.12/site-packages/fbrefdata/fbref.py#927\u001b\\\u001b[2m927\u001b[0m\u001b]8;;\u001b\\\n"
      ]
     },
     "metadata": {},
     "output_type": "display_data"
    },
    {
     "data": {
      "text/html": [
       "<pre style=\"white-space:pre;overflow-x:auto;line-height:normal;font-family:Menlo,'DejaVu Sans Mono',consolas,'Courier New',monospace\"><span style=\"color: #7fbfbf; text-decoration-color: #7fbfbf\">                    </span><span style=\"color: #000080; text-decoration-color: #000080\">INFO    </span> <span style=\"font-weight: bold\">[</span><span style=\"color: #008080; text-decoration-color: #008080; font-weight: bold\">8</span>/<span style=\"color: #008080; text-decoration-color: #008080; font-weight: bold\">308</span><span style=\"font-weight: bold\">]</span> Retrieving game with <span style=\"color: #808000; text-decoration-color: #808000\">id</span>=<span style=\"color: #800080; text-decoration-color: #800080\">101ecf68</span>                                  <a href=\"file:///home/codespace/.local/lib/python3.12/site-packages/fbrefdata/fbref.py\" target=\"_blank\"><span style=\"color: #7f7f7f; text-decoration-color: #7f7f7f\">fbref.py</span></a><span style=\"color: #7f7f7f; text-decoration-color: #7f7f7f\">:</span><a href=\"file:///home/codespace/.local/lib/python3.12/site-packages/fbrefdata/fbref.py#927\" target=\"_blank\"><span style=\"color: #7f7f7f; text-decoration-color: #7f7f7f\">927</span></a>\n",
       "</pre>\n"
      ],
      "text/plain": [
       "\u001b[2;36m                   \u001b[0m\u001b[2;36m \u001b[0m\u001b[34mINFO    \u001b[0m \u001b[1m[\u001b[0m\u001b[1;36m8\u001b[0m/\u001b[1;36m308\u001b[0m\u001b[1m]\u001b[0m Retrieving game with \u001b[33mid\u001b[0m=\u001b[35m101ecf68\u001b[0m                                  \u001b]8;id=830134;file:///home/codespace/.local/lib/python3.12/site-packages/fbrefdata/fbref.py\u001b\\\u001b[2mfbref.py\u001b[0m\u001b]8;;\u001b\\\u001b[2m:\u001b[0m\u001b]8;id=376285;file:///home/codespace/.local/lib/python3.12/site-packages/fbrefdata/fbref.py#927\u001b\\\u001b[2m927\u001b[0m\u001b]8;;\u001b\\\n"
      ]
     },
     "metadata": {},
     "output_type": "display_data"
    },
    {
     "data": {
      "text/html": [
       "<pre style=\"white-space:pre;overflow-x:auto;line-height:normal;font-family:Menlo,'DejaVu Sans Mono',consolas,'Courier New',monospace\"><span style=\"color: #7fbfbf; text-decoration-color: #7fbfbf\">                    </span><span style=\"color: #000080; text-decoration-color: #000080\">INFO    </span> <span style=\"font-weight: bold\">[</span><span style=\"color: #008080; text-decoration-color: #008080; font-weight: bold\">9</span>/<span style=\"color: #008080; text-decoration-color: #008080; font-weight: bold\">308</span><span style=\"font-weight: bold\">]</span> Retrieving game with <span style=\"color: #808000; text-decoration-color: #808000\">id</span>=<span style=\"color: #800080; text-decoration-color: #800080\">53a856bf</span>                                  <a href=\"file:///home/codespace/.local/lib/python3.12/site-packages/fbrefdata/fbref.py\" target=\"_blank\"><span style=\"color: #7f7f7f; text-decoration-color: #7f7f7f\">fbref.py</span></a><span style=\"color: #7f7f7f; text-decoration-color: #7f7f7f\">:</span><a href=\"file:///home/codespace/.local/lib/python3.12/site-packages/fbrefdata/fbref.py#927\" target=\"_blank\"><span style=\"color: #7f7f7f; text-decoration-color: #7f7f7f\">927</span></a>\n",
       "</pre>\n"
      ],
      "text/plain": [
       "\u001b[2;36m                   \u001b[0m\u001b[2;36m \u001b[0m\u001b[34mINFO    \u001b[0m \u001b[1m[\u001b[0m\u001b[1;36m9\u001b[0m/\u001b[1;36m308\u001b[0m\u001b[1m]\u001b[0m Retrieving game with \u001b[33mid\u001b[0m=\u001b[35m53a856bf\u001b[0m                                  \u001b]8;id=558477;file:///home/codespace/.local/lib/python3.12/site-packages/fbrefdata/fbref.py\u001b\\\u001b[2mfbref.py\u001b[0m\u001b]8;;\u001b\\\u001b[2m:\u001b[0m\u001b]8;id=130835;file:///home/codespace/.local/lib/python3.12/site-packages/fbrefdata/fbref.py#927\u001b\\\u001b[2m927\u001b[0m\u001b]8;;\u001b\\\n"
      ]
     },
     "metadata": {},
     "output_type": "display_data"
    },
    {
     "data": {
      "text/html": [
       "<pre style=\"white-space:pre;overflow-x:auto;line-height:normal;font-family:Menlo,'DejaVu Sans Mono',consolas,'Courier New',monospace\"><span style=\"color: #7fbfbf; text-decoration-color: #7fbfbf\">                    </span><span style=\"color: #000080; text-decoration-color: #000080\">INFO    </span> <span style=\"font-weight: bold\">[</span><span style=\"color: #008080; text-decoration-color: #008080; font-weight: bold\">10</span>/<span style=\"color: #008080; text-decoration-color: #008080; font-weight: bold\">308</span><span style=\"font-weight: bold\">]</span> Retrieving game with <span style=\"color: #808000; text-decoration-color: #808000\">id</span>=<span style=\"color: #800080; text-decoration-color: #800080\">8c8f082f</span>                                 <a href=\"file:///home/codespace/.local/lib/python3.12/site-packages/fbrefdata/fbref.py\" target=\"_blank\"><span style=\"color: #7f7f7f; text-decoration-color: #7f7f7f\">fbref.py</span></a><span style=\"color: #7f7f7f; text-decoration-color: #7f7f7f\">:</span><a href=\"file:///home/codespace/.local/lib/python3.12/site-packages/fbrefdata/fbref.py#927\" target=\"_blank\"><span style=\"color: #7f7f7f; text-decoration-color: #7f7f7f\">927</span></a>\n",
       "</pre>\n"
      ],
      "text/plain": [
       "\u001b[2;36m                   \u001b[0m\u001b[2;36m \u001b[0m\u001b[34mINFO    \u001b[0m \u001b[1m[\u001b[0m\u001b[1;36m10\u001b[0m/\u001b[1;36m308\u001b[0m\u001b[1m]\u001b[0m Retrieving game with \u001b[33mid\u001b[0m=\u001b[35m8c8f082f\u001b[0m                                 \u001b]8;id=653976;file:///home/codespace/.local/lib/python3.12/site-packages/fbrefdata/fbref.py\u001b\\\u001b[2mfbref.py\u001b[0m\u001b]8;;\u001b\\\u001b[2m:\u001b[0m\u001b]8;id=569591;file:///home/codespace/.local/lib/python3.12/site-packages/fbrefdata/fbref.py#927\u001b\\\u001b[2m927\u001b[0m\u001b]8;;\u001b\\\n"
      ]
     },
     "metadata": {},
     "output_type": "display_data"
    },
    {
     "data": {
      "text/html": [
       "<pre style=\"white-space:pre;overflow-x:auto;line-height:normal;font-family:Menlo,'DejaVu Sans Mono',consolas,'Courier New',monospace\"><span style=\"color: #7fbfbf; text-decoration-color: #7fbfbf\">                    </span><span style=\"color: #000080; text-decoration-color: #000080\">INFO    </span> <span style=\"font-weight: bold\">[</span><span style=\"color: #008080; text-decoration-color: #008080; font-weight: bold\">11</span>/<span style=\"color: #008080; text-decoration-color: #008080; font-weight: bold\">308</span><span style=\"font-weight: bold\">]</span> Retrieving game with <span style=\"color: #808000; text-decoration-color: #808000\">id</span>=<span style=\"color: #800080; text-decoration-color: #800080\">ef9b03d6</span>                                 <a href=\"file:///home/codespace/.local/lib/python3.12/site-packages/fbrefdata/fbref.py\" target=\"_blank\"><span style=\"color: #7f7f7f; text-decoration-color: #7f7f7f\">fbref.py</span></a><span style=\"color: #7f7f7f; text-decoration-color: #7f7f7f\">:</span><a href=\"file:///home/codespace/.local/lib/python3.12/site-packages/fbrefdata/fbref.py#927\" target=\"_blank\"><span style=\"color: #7f7f7f; text-decoration-color: #7f7f7f\">927</span></a>\n",
       "</pre>\n"
      ],
      "text/plain": [
       "\u001b[2;36m                   \u001b[0m\u001b[2;36m \u001b[0m\u001b[34mINFO    \u001b[0m \u001b[1m[\u001b[0m\u001b[1;36m11\u001b[0m/\u001b[1;36m308\u001b[0m\u001b[1m]\u001b[0m Retrieving game with \u001b[33mid\u001b[0m=\u001b[35mef9b03d6\u001b[0m                                 \u001b]8;id=586080;file:///home/codespace/.local/lib/python3.12/site-packages/fbrefdata/fbref.py\u001b\\\u001b[2mfbref.py\u001b[0m\u001b]8;;\u001b\\\u001b[2m:\u001b[0m\u001b]8;id=593868;file:///home/codespace/.local/lib/python3.12/site-packages/fbrefdata/fbref.py#927\u001b\\\u001b[2m927\u001b[0m\u001b]8;;\u001b\\\n"
      ]
     },
     "metadata": {},
     "output_type": "display_data"
    },
    {
     "data": {
      "text/html": [
       "<pre style=\"white-space:pre;overflow-x:auto;line-height:normal;font-family:Menlo,'DejaVu Sans Mono',consolas,'Courier New',monospace\"><span style=\"color: #7fbfbf; text-decoration-color: #7fbfbf\">                    </span><span style=\"color: #000080; text-decoration-color: #000080\">INFO    </span> <span style=\"font-weight: bold\">[</span><span style=\"color: #008080; text-decoration-color: #008080; font-weight: bold\">12</span>/<span style=\"color: #008080; text-decoration-color: #008080; font-weight: bold\">308</span><span style=\"font-weight: bold\">]</span> Retrieving game with <span style=\"color: #808000; text-decoration-color: #808000\">id</span>=<span style=\"color: #800080; text-decoration-color: #800080\">88a5c544</span>                                 <a href=\"file:///home/codespace/.local/lib/python3.12/site-packages/fbrefdata/fbref.py\" target=\"_blank\"><span style=\"color: #7f7f7f; text-decoration-color: #7f7f7f\">fbref.py</span></a><span style=\"color: #7f7f7f; text-decoration-color: #7f7f7f\">:</span><a href=\"file:///home/codespace/.local/lib/python3.12/site-packages/fbrefdata/fbref.py#927\" target=\"_blank\"><span style=\"color: #7f7f7f; text-decoration-color: #7f7f7f\">927</span></a>\n",
       "</pre>\n"
      ],
      "text/plain": [
       "\u001b[2;36m                   \u001b[0m\u001b[2;36m \u001b[0m\u001b[34mINFO    \u001b[0m \u001b[1m[\u001b[0m\u001b[1;36m12\u001b[0m/\u001b[1;36m308\u001b[0m\u001b[1m]\u001b[0m Retrieving game with \u001b[33mid\u001b[0m=\u001b[35m88a5c544\u001b[0m                                 \u001b]8;id=507648;file:///home/codespace/.local/lib/python3.12/site-packages/fbrefdata/fbref.py\u001b\\\u001b[2mfbref.py\u001b[0m\u001b]8;;\u001b\\\u001b[2m:\u001b[0m\u001b]8;id=615070;file:///home/codespace/.local/lib/python3.12/site-packages/fbrefdata/fbref.py#927\u001b\\\u001b[2m927\u001b[0m\u001b]8;;\u001b\\\n"
      ]
     },
     "metadata": {},
     "output_type": "display_data"
    },
    {
     "data": {
      "text/html": [
       "<pre style=\"white-space:pre;overflow-x:auto;line-height:normal;font-family:Menlo,'DejaVu Sans Mono',consolas,'Courier New',monospace\"><span style=\"color: #7fbfbf; text-decoration-color: #7fbfbf\">                    </span><span style=\"color: #000080; text-decoration-color: #000080\">INFO    </span> <span style=\"font-weight: bold\">[</span><span style=\"color: #008080; text-decoration-color: #008080; font-weight: bold\">13</span>/<span style=\"color: #008080; text-decoration-color: #008080; font-weight: bold\">308</span><span style=\"font-weight: bold\">]</span> Retrieving game with <span style=\"color: #808000; text-decoration-color: #808000\">id</span>=<span style=\"color: #800080; text-decoration-color: #800080\">9a25fd98</span>                                 <a href=\"file:///home/codespace/.local/lib/python3.12/site-packages/fbrefdata/fbref.py\" target=\"_blank\"><span style=\"color: #7f7f7f; text-decoration-color: #7f7f7f\">fbref.py</span></a><span style=\"color: #7f7f7f; text-decoration-color: #7f7f7f\">:</span><a href=\"file:///home/codespace/.local/lib/python3.12/site-packages/fbrefdata/fbref.py#927\" target=\"_blank\"><span style=\"color: #7f7f7f; text-decoration-color: #7f7f7f\">927</span></a>\n",
       "</pre>\n"
      ],
      "text/plain": [
       "\u001b[2;36m                   \u001b[0m\u001b[2;36m \u001b[0m\u001b[34mINFO    \u001b[0m \u001b[1m[\u001b[0m\u001b[1;36m13\u001b[0m/\u001b[1;36m308\u001b[0m\u001b[1m]\u001b[0m Retrieving game with \u001b[33mid\u001b[0m=\u001b[35m9a25fd98\u001b[0m                                 \u001b]8;id=648402;file:///home/codespace/.local/lib/python3.12/site-packages/fbrefdata/fbref.py\u001b\\\u001b[2mfbref.py\u001b[0m\u001b]8;;\u001b\\\u001b[2m:\u001b[0m\u001b]8;id=875075;file:///home/codespace/.local/lib/python3.12/site-packages/fbrefdata/fbref.py#927\u001b\\\u001b[2m927\u001b[0m\u001b]8;;\u001b\\\n"
      ]
     },
     "metadata": {},
     "output_type": "display_data"
    },
    {
     "data": {
      "text/html": [
       "<pre style=\"white-space:pre;overflow-x:auto;line-height:normal;font-family:Menlo,'DejaVu Sans Mono',consolas,'Courier New',monospace\"><span style=\"color: #7fbfbf; text-decoration-color: #7fbfbf\">                    </span><span style=\"color: #000080; text-decoration-color: #000080\">INFO    </span> <span style=\"font-weight: bold\">[</span><span style=\"color: #008080; text-decoration-color: #008080; font-weight: bold\">14</span>/<span style=\"color: #008080; text-decoration-color: #008080; font-weight: bold\">308</span><span style=\"font-weight: bold\">]</span> Retrieving game with <span style=\"color: #808000; text-decoration-color: #808000\">id</span>=<span style=\"color: #800080; text-decoration-color: #800080\">8e94dce6</span>                                 <a href=\"file:///home/codespace/.local/lib/python3.12/site-packages/fbrefdata/fbref.py\" target=\"_blank\"><span style=\"color: #7f7f7f; text-decoration-color: #7f7f7f\">fbref.py</span></a><span style=\"color: #7f7f7f; text-decoration-color: #7f7f7f\">:</span><a href=\"file:///home/codespace/.local/lib/python3.12/site-packages/fbrefdata/fbref.py#927\" target=\"_blank\"><span style=\"color: #7f7f7f; text-decoration-color: #7f7f7f\">927</span></a>\n",
       "</pre>\n"
      ],
      "text/plain": [
       "\u001b[2;36m                   \u001b[0m\u001b[2;36m \u001b[0m\u001b[34mINFO    \u001b[0m \u001b[1m[\u001b[0m\u001b[1;36m14\u001b[0m/\u001b[1;36m308\u001b[0m\u001b[1m]\u001b[0m Retrieving game with \u001b[33mid\u001b[0m=\u001b[35m8e94dce6\u001b[0m                                 \u001b]8;id=905716;file:///home/codespace/.local/lib/python3.12/site-packages/fbrefdata/fbref.py\u001b\\\u001b[2mfbref.py\u001b[0m\u001b]8;;\u001b\\\u001b[2m:\u001b[0m\u001b]8;id=316563;file:///home/codespace/.local/lib/python3.12/site-packages/fbrefdata/fbref.py#927\u001b\\\u001b[2m927\u001b[0m\u001b]8;;\u001b\\\n"
      ]
     },
     "metadata": {},
     "output_type": "display_data"
    },
    {
     "data": {
      "text/html": [
       "<pre style=\"white-space:pre;overflow-x:auto;line-height:normal;font-family:Menlo,'DejaVu Sans Mono',consolas,'Courier New',monospace\"><span style=\"color: #7fbfbf; text-decoration-color: #7fbfbf\">                    </span><span style=\"color: #000080; text-decoration-color: #000080\">INFO    </span> <span style=\"font-weight: bold\">[</span><span style=\"color: #008080; text-decoration-color: #008080; font-weight: bold\">15</span>/<span style=\"color: #008080; text-decoration-color: #008080; font-weight: bold\">308</span><span style=\"font-weight: bold\">]</span> Retrieving game with <span style=\"color: #808000; text-decoration-color: #808000\">id</span>=<span style=\"color: #800080; text-decoration-color: #800080\">e2a3b864</span>                                 <a href=\"file:///home/codespace/.local/lib/python3.12/site-packages/fbrefdata/fbref.py\" target=\"_blank\"><span style=\"color: #7f7f7f; text-decoration-color: #7f7f7f\">fbref.py</span></a><span style=\"color: #7f7f7f; text-decoration-color: #7f7f7f\">:</span><a href=\"file:///home/codespace/.local/lib/python3.12/site-packages/fbrefdata/fbref.py#927\" target=\"_blank\"><span style=\"color: #7f7f7f; text-decoration-color: #7f7f7f\">927</span></a>\n",
       "</pre>\n"
      ],
      "text/plain": [
       "\u001b[2;36m                   \u001b[0m\u001b[2;36m \u001b[0m\u001b[34mINFO    \u001b[0m \u001b[1m[\u001b[0m\u001b[1;36m15\u001b[0m/\u001b[1;36m308\u001b[0m\u001b[1m]\u001b[0m Retrieving game with \u001b[33mid\u001b[0m=\u001b[35me2a3b864\u001b[0m                                 \u001b]8;id=234101;file:///home/codespace/.local/lib/python3.12/site-packages/fbrefdata/fbref.py\u001b\\\u001b[2mfbref.py\u001b[0m\u001b]8;;\u001b\\\u001b[2m:\u001b[0m\u001b]8;id=330439;file:///home/codespace/.local/lib/python3.12/site-packages/fbrefdata/fbref.py#927\u001b\\\u001b[2m927\u001b[0m\u001b]8;;\u001b\\\n"
      ]
     },
     "metadata": {},
     "output_type": "display_data"
    },
    {
     "data": {
      "text/html": [
       "<pre style=\"white-space:pre;overflow-x:auto;line-height:normal;font-family:Menlo,'DejaVu Sans Mono',consolas,'Courier New',monospace\"><span style=\"color: #7fbfbf; text-decoration-color: #7fbfbf\">                    </span><span style=\"color: #000080; text-decoration-color: #000080\">INFO    </span> <span style=\"font-weight: bold\">[</span><span style=\"color: #008080; text-decoration-color: #008080; font-weight: bold\">16</span>/<span style=\"color: #008080; text-decoration-color: #008080; font-weight: bold\">308</span><span style=\"font-weight: bold\">]</span> Retrieving game with <span style=\"color: #808000; text-decoration-color: #808000\">id</span>=<span style=\"color: #800080; text-decoration-color: #800080\">075c3255</span>                                 <a href=\"file:///home/codespace/.local/lib/python3.12/site-packages/fbrefdata/fbref.py\" target=\"_blank\"><span style=\"color: #7f7f7f; text-decoration-color: #7f7f7f\">fbref.py</span></a><span style=\"color: #7f7f7f; text-decoration-color: #7f7f7f\">:</span><a href=\"file:///home/codespace/.local/lib/python3.12/site-packages/fbrefdata/fbref.py#927\" target=\"_blank\"><span style=\"color: #7f7f7f; text-decoration-color: #7f7f7f\">927</span></a>\n",
       "</pre>\n"
      ],
      "text/plain": [
       "\u001b[2;36m                   \u001b[0m\u001b[2;36m \u001b[0m\u001b[34mINFO    \u001b[0m \u001b[1m[\u001b[0m\u001b[1;36m16\u001b[0m/\u001b[1;36m308\u001b[0m\u001b[1m]\u001b[0m Retrieving game with \u001b[33mid\u001b[0m=\u001b[35m075c3255\u001b[0m                                 \u001b]8;id=379756;file:///home/codespace/.local/lib/python3.12/site-packages/fbrefdata/fbref.py\u001b\\\u001b[2mfbref.py\u001b[0m\u001b]8;;\u001b\\\u001b[2m:\u001b[0m\u001b]8;id=201026;file:///home/codespace/.local/lib/python3.12/site-packages/fbrefdata/fbref.py#927\u001b\\\u001b[2m927\u001b[0m\u001b]8;;\u001b\\\n"
      ]
     },
     "metadata": {},
     "output_type": "display_data"
    },
    {
     "data": {
      "text/html": [
       "<pre style=\"white-space:pre;overflow-x:auto;line-height:normal;font-family:Menlo,'DejaVu Sans Mono',consolas,'Courier New',monospace\"><span style=\"color: #7fbfbf; text-decoration-color: #7fbfbf\">                    </span><span style=\"color: #000080; text-decoration-color: #000080\">INFO    </span> <span style=\"font-weight: bold\">[</span><span style=\"color: #008080; text-decoration-color: #008080; font-weight: bold\">17</span>/<span style=\"color: #008080; text-decoration-color: #008080; font-weight: bold\">308</span><span style=\"font-weight: bold\">]</span> Retrieving game with <span style=\"color: #808000; text-decoration-color: #808000\">id</span>=<span style=\"color: #800080; text-decoration-color: #800080\">5ffa4b38</span>                                 <a href=\"file:///home/codespace/.local/lib/python3.12/site-packages/fbrefdata/fbref.py\" target=\"_blank\"><span style=\"color: #7f7f7f; text-decoration-color: #7f7f7f\">fbref.py</span></a><span style=\"color: #7f7f7f; text-decoration-color: #7f7f7f\">:</span><a href=\"file:///home/codespace/.local/lib/python3.12/site-packages/fbrefdata/fbref.py#927\" target=\"_blank\"><span style=\"color: #7f7f7f; text-decoration-color: #7f7f7f\">927</span></a>\n",
       "</pre>\n"
      ],
      "text/plain": [
       "\u001b[2;36m                   \u001b[0m\u001b[2;36m \u001b[0m\u001b[34mINFO    \u001b[0m \u001b[1m[\u001b[0m\u001b[1;36m17\u001b[0m/\u001b[1;36m308\u001b[0m\u001b[1m]\u001b[0m Retrieving game with \u001b[33mid\u001b[0m=\u001b[35m5ffa4b38\u001b[0m                                 \u001b]8;id=704284;file:///home/codespace/.local/lib/python3.12/site-packages/fbrefdata/fbref.py\u001b\\\u001b[2mfbref.py\u001b[0m\u001b]8;;\u001b\\\u001b[2m:\u001b[0m\u001b]8;id=276287;file:///home/codespace/.local/lib/python3.12/site-packages/fbrefdata/fbref.py#927\u001b\\\u001b[2m927\u001b[0m\u001b]8;;\u001b\\\n"
      ]
     },
     "metadata": {},
     "output_type": "display_data"
    },
    {
     "data": {
      "text/html": [
       "<pre style=\"white-space:pre;overflow-x:auto;line-height:normal;font-family:Menlo,'DejaVu Sans Mono',consolas,'Courier New',monospace\"><span style=\"color: #7fbfbf; text-decoration-color: #7fbfbf\">                    </span><span style=\"color: #000080; text-decoration-color: #000080\">INFO    </span> <span style=\"font-weight: bold\">[</span><span style=\"color: #008080; text-decoration-color: #008080; font-weight: bold\">18</span>/<span style=\"color: #008080; text-decoration-color: #008080; font-weight: bold\">308</span><span style=\"font-weight: bold\">]</span> Retrieving game with <span style=\"color: #808000; text-decoration-color: #808000\">id</span>=<span style=\"color: #800080; text-decoration-color: #800080\">8971a37b</span>                                 <a href=\"file:///home/codespace/.local/lib/python3.12/site-packages/fbrefdata/fbref.py\" target=\"_blank\"><span style=\"color: #7f7f7f; text-decoration-color: #7f7f7f\">fbref.py</span></a><span style=\"color: #7f7f7f; text-decoration-color: #7f7f7f\">:</span><a href=\"file:///home/codespace/.local/lib/python3.12/site-packages/fbrefdata/fbref.py#927\" target=\"_blank\"><span style=\"color: #7f7f7f; text-decoration-color: #7f7f7f\">927</span></a>\n",
       "</pre>\n"
      ],
      "text/plain": [
       "\u001b[2;36m                   \u001b[0m\u001b[2;36m \u001b[0m\u001b[34mINFO    \u001b[0m \u001b[1m[\u001b[0m\u001b[1;36m18\u001b[0m/\u001b[1;36m308\u001b[0m\u001b[1m]\u001b[0m Retrieving game with \u001b[33mid\u001b[0m=\u001b[35m8971a37b\u001b[0m                                 \u001b]8;id=230551;file:///home/codespace/.local/lib/python3.12/site-packages/fbrefdata/fbref.py\u001b\\\u001b[2mfbref.py\u001b[0m\u001b]8;;\u001b\\\u001b[2m:\u001b[0m\u001b]8;id=281559;file:///home/codespace/.local/lib/python3.12/site-packages/fbrefdata/fbref.py#927\u001b\\\u001b[2m927\u001b[0m\u001b]8;;\u001b\\\n"
      ]
     },
     "metadata": {},
     "output_type": "display_data"
    },
    {
     "data": {
      "text/html": [
       "<pre style=\"white-space:pre;overflow-x:auto;line-height:normal;font-family:Menlo,'DejaVu Sans Mono',consolas,'Courier New',monospace\"><span style=\"color: #7fbfbf; text-decoration-color: #7fbfbf\">                    </span><span style=\"color: #000080; text-decoration-color: #000080\">INFO    </span> <span style=\"font-weight: bold\">[</span><span style=\"color: #008080; text-decoration-color: #008080; font-weight: bold\">19</span>/<span style=\"color: #008080; text-decoration-color: #008080; font-weight: bold\">308</span><span style=\"font-weight: bold\">]</span> Retrieving game with <span style=\"color: #808000; text-decoration-color: #808000\">id</span>=<span style=\"color: #800080; text-decoration-color: #800080\">649ae6b0</span>                                 <a href=\"file:///home/codespace/.local/lib/python3.12/site-packages/fbrefdata/fbref.py\" target=\"_blank\"><span style=\"color: #7f7f7f; text-decoration-color: #7f7f7f\">fbref.py</span></a><span style=\"color: #7f7f7f; text-decoration-color: #7f7f7f\">:</span><a href=\"file:///home/codespace/.local/lib/python3.12/site-packages/fbrefdata/fbref.py#927\" target=\"_blank\"><span style=\"color: #7f7f7f; text-decoration-color: #7f7f7f\">927</span></a>\n",
       "</pre>\n"
      ],
      "text/plain": [
       "\u001b[2;36m                   \u001b[0m\u001b[2;36m \u001b[0m\u001b[34mINFO    \u001b[0m \u001b[1m[\u001b[0m\u001b[1;36m19\u001b[0m/\u001b[1;36m308\u001b[0m\u001b[1m]\u001b[0m Retrieving game with \u001b[33mid\u001b[0m=\u001b[35m649ae6b0\u001b[0m                                 \u001b]8;id=311297;file:///home/codespace/.local/lib/python3.12/site-packages/fbrefdata/fbref.py\u001b\\\u001b[2mfbref.py\u001b[0m\u001b]8;;\u001b\\\u001b[2m:\u001b[0m\u001b]8;id=765187;file:///home/codespace/.local/lib/python3.12/site-packages/fbrefdata/fbref.py#927\u001b\\\u001b[2m927\u001b[0m\u001b]8;;\u001b\\\n"
      ]
     },
     "metadata": {},
     "output_type": "display_data"
    },
    {
     "data": {
      "text/html": [
       "<pre style=\"white-space:pre;overflow-x:auto;line-height:normal;font-family:Menlo,'DejaVu Sans Mono',consolas,'Courier New',monospace\"><span style=\"color: #7fbfbf; text-decoration-color: #7fbfbf\">                    </span><span style=\"color: #000080; text-decoration-color: #000080\">INFO    </span> <span style=\"font-weight: bold\">[</span><span style=\"color: #008080; text-decoration-color: #008080; font-weight: bold\">20</span>/<span style=\"color: #008080; text-decoration-color: #008080; font-weight: bold\">308</span><span style=\"font-weight: bold\">]</span> Retrieving game with <span style=\"color: #808000; text-decoration-color: #808000\">id</span>=<span style=\"color: #800080; text-decoration-color: #800080\">9d4a82ad</span>                                 <a href=\"file:///home/codespace/.local/lib/python3.12/site-packages/fbrefdata/fbref.py\" target=\"_blank\"><span style=\"color: #7f7f7f; text-decoration-color: #7f7f7f\">fbref.py</span></a><span style=\"color: #7f7f7f; text-decoration-color: #7f7f7f\">:</span><a href=\"file:///home/codespace/.local/lib/python3.12/site-packages/fbrefdata/fbref.py#927\" target=\"_blank\"><span style=\"color: #7f7f7f; text-decoration-color: #7f7f7f\">927</span></a>\n",
       "</pre>\n"
      ],
      "text/plain": [
       "\u001b[2;36m                   \u001b[0m\u001b[2;36m \u001b[0m\u001b[34mINFO    \u001b[0m \u001b[1m[\u001b[0m\u001b[1;36m20\u001b[0m/\u001b[1;36m308\u001b[0m\u001b[1m]\u001b[0m Retrieving game with \u001b[33mid\u001b[0m=\u001b[35m9d4a82ad\u001b[0m                                 \u001b]8;id=160835;file:///home/codespace/.local/lib/python3.12/site-packages/fbrefdata/fbref.py\u001b\\\u001b[2mfbref.py\u001b[0m\u001b]8;;\u001b\\\u001b[2m:\u001b[0m\u001b]8;id=343659;file:///home/codespace/.local/lib/python3.12/site-packages/fbrefdata/fbref.py#927\u001b\\\u001b[2m927\u001b[0m\u001b]8;;\u001b\\\n"
      ]
     },
     "metadata": {},
     "output_type": "display_data"
    },
    {
     "data": {
      "text/html": [
       "<pre style=\"white-space:pre;overflow-x:auto;line-height:normal;font-family:Menlo,'DejaVu Sans Mono',consolas,'Courier New',monospace\"><span style=\"color: #7fbfbf; text-decoration-color: #7fbfbf\">                    </span><span style=\"color: #000080; text-decoration-color: #000080\">INFO    </span> <span style=\"font-weight: bold\">[</span><span style=\"color: #008080; text-decoration-color: #008080; font-weight: bold\">21</span>/<span style=\"color: #008080; text-decoration-color: #008080; font-weight: bold\">308</span><span style=\"font-weight: bold\">]</span> Retrieving game with <span style=\"color: #808000; text-decoration-color: #808000\">id</span>=<span style=\"color: #800080; text-decoration-color: #800080\">d3eb7718</span>                                 <a href=\"file:///home/codespace/.local/lib/python3.12/site-packages/fbrefdata/fbref.py\" target=\"_blank\"><span style=\"color: #7f7f7f; text-decoration-color: #7f7f7f\">fbref.py</span></a><span style=\"color: #7f7f7f; text-decoration-color: #7f7f7f\">:</span><a href=\"file:///home/codespace/.local/lib/python3.12/site-packages/fbrefdata/fbref.py#927\" target=\"_blank\"><span style=\"color: #7f7f7f; text-decoration-color: #7f7f7f\">927</span></a>\n",
       "</pre>\n"
      ],
      "text/plain": [
       "\u001b[2;36m                   \u001b[0m\u001b[2;36m \u001b[0m\u001b[34mINFO    \u001b[0m \u001b[1m[\u001b[0m\u001b[1;36m21\u001b[0m/\u001b[1;36m308\u001b[0m\u001b[1m]\u001b[0m Retrieving game with \u001b[33mid\u001b[0m=\u001b[35md3eb7718\u001b[0m                                 \u001b]8;id=671736;file:///home/codespace/.local/lib/python3.12/site-packages/fbrefdata/fbref.py\u001b\\\u001b[2mfbref.py\u001b[0m\u001b]8;;\u001b\\\u001b[2m:\u001b[0m\u001b]8;id=244784;file:///home/codespace/.local/lib/python3.12/site-packages/fbrefdata/fbref.py#927\u001b\\\u001b[2m927\u001b[0m\u001b]8;;\u001b\\\n"
      ]
     },
     "metadata": {},
     "output_type": "display_data"
    },
    {
     "data": {
      "text/html": [
       "<pre style=\"white-space:pre;overflow-x:auto;line-height:normal;font-family:Menlo,'DejaVu Sans Mono',consolas,'Courier New',monospace\"><span style=\"color: #7fbfbf; text-decoration-color: #7fbfbf\">[08/30/24 02:42:42] </span><span style=\"color: #000080; text-decoration-color: #000080\">INFO    </span> <span style=\"font-weight: bold\">[</span><span style=\"color: #008080; text-decoration-color: #008080; font-weight: bold\">22</span>/<span style=\"color: #008080; text-decoration-color: #008080; font-weight: bold\">308</span><span style=\"font-weight: bold\">]</span> Retrieving game with <span style=\"color: #808000; text-decoration-color: #808000\">id</span>=<span style=\"color: #800080; text-decoration-color: #800080\">a637d328</span>                                 <a href=\"file:///home/codespace/.local/lib/python3.12/site-packages/fbrefdata/fbref.py\" target=\"_blank\"><span style=\"color: #7f7f7f; text-decoration-color: #7f7f7f\">fbref.py</span></a><span style=\"color: #7f7f7f; text-decoration-color: #7f7f7f\">:</span><a href=\"file:///home/codespace/.local/lib/python3.12/site-packages/fbrefdata/fbref.py#927\" target=\"_blank\"><span style=\"color: #7f7f7f; text-decoration-color: #7f7f7f\">927</span></a>\n",
       "</pre>\n"
      ],
      "text/plain": [
       "\u001b[2;36m[08/30/24 02:42:42]\u001b[0m\u001b[2;36m \u001b[0m\u001b[34mINFO    \u001b[0m \u001b[1m[\u001b[0m\u001b[1;36m22\u001b[0m/\u001b[1;36m308\u001b[0m\u001b[1m]\u001b[0m Retrieving game with \u001b[33mid\u001b[0m=\u001b[35ma637d328\u001b[0m                                 \u001b]8;id=486677;file:///home/codespace/.local/lib/python3.12/site-packages/fbrefdata/fbref.py\u001b\\\u001b[2mfbref.py\u001b[0m\u001b]8;;\u001b\\\u001b[2m:\u001b[0m\u001b]8;id=397271;file:///home/codespace/.local/lib/python3.12/site-packages/fbrefdata/fbref.py#927\u001b\\\u001b[2m927\u001b[0m\u001b]8;;\u001b\\\n"
      ]
     },
     "metadata": {},
     "output_type": "display_data"
    },
    {
     "data": {
      "text/html": [
       "<pre style=\"white-space:pre;overflow-x:auto;line-height:normal;font-family:Menlo,'DejaVu Sans Mono',consolas,'Courier New',monospace\"><span style=\"color: #7fbfbf; text-decoration-color: #7fbfbf\">                    </span><span style=\"color: #000080; text-decoration-color: #000080\">INFO    </span> <span style=\"font-weight: bold\">[</span><span style=\"color: #008080; text-decoration-color: #008080; font-weight: bold\">23</span>/<span style=\"color: #008080; text-decoration-color: #008080; font-weight: bold\">308</span><span style=\"font-weight: bold\">]</span> Retrieving game with <span style=\"color: #808000; text-decoration-color: #808000\">id</span>=<span style=\"color: #800080; text-decoration-color: #800080\">025d99fb</span>                                 <a href=\"file:///home/codespace/.local/lib/python3.12/site-packages/fbrefdata/fbref.py\" target=\"_blank\"><span style=\"color: #7f7f7f; text-decoration-color: #7f7f7f\">fbref.py</span></a><span style=\"color: #7f7f7f; text-decoration-color: #7f7f7f\">:</span><a href=\"file:///home/codespace/.local/lib/python3.12/site-packages/fbrefdata/fbref.py#927\" target=\"_blank\"><span style=\"color: #7f7f7f; text-decoration-color: #7f7f7f\">927</span></a>\n",
       "</pre>\n"
      ],
      "text/plain": [
       "\u001b[2;36m                   \u001b[0m\u001b[2;36m \u001b[0m\u001b[34mINFO    \u001b[0m \u001b[1m[\u001b[0m\u001b[1;36m23\u001b[0m/\u001b[1;36m308\u001b[0m\u001b[1m]\u001b[0m Retrieving game with \u001b[33mid\u001b[0m=\u001b[35m025d99fb\u001b[0m                                 \u001b]8;id=168595;file:///home/codespace/.local/lib/python3.12/site-packages/fbrefdata/fbref.py\u001b\\\u001b[2mfbref.py\u001b[0m\u001b]8;;\u001b\\\u001b[2m:\u001b[0m\u001b]8;id=621739;file:///home/codespace/.local/lib/python3.12/site-packages/fbrefdata/fbref.py#927\u001b\\\u001b[2m927\u001b[0m\u001b]8;;\u001b\\\n"
      ]
     },
     "metadata": {},
     "output_type": "display_data"
    },
    {
     "data": {
      "text/html": [
       "<pre style=\"white-space:pre;overflow-x:auto;line-height:normal;font-family:Menlo,'DejaVu Sans Mono',consolas,'Courier New',monospace\"><span style=\"color: #7fbfbf; text-decoration-color: #7fbfbf\">                    </span><span style=\"color: #000080; text-decoration-color: #000080\">INFO    </span> <span style=\"font-weight: bold\">[</span><span style=\"color: #008080; text-decoration-color: #008080; font-weight: bold\">24</span>/<span style=\"color: #008080; text-decoration-color: #008080; font-weight: bold\">308</span><span style=\"font-weight: bold\">]</span> Retrieving game with <span style=\"color: #808000; text-decoration-color: #808000\">id</span>=<span style=\"color: #800080; text-decoration-color: #800080\">1ec41087</span>                                 <a href=\"file:///home/codespace/.local/lib/python3.12/site-packages/fbrefdata/fbref.py\" target=\"_blank\"><span style=\"color: #7f7f7f; text-decoration-color: #7f7f7f\">fbref.py</span></a><span style=\"color: #7f7f7f; text-decoration-color: #7f7f7f\">:</span><a href=\"file:///home/codespace/.local/lib/python3.12/site-packages/fbrefdata/fbref.py#927\" target=\"_blank\"><span style=\"color: #7f7f7f; text-decoration-color: #7f7f7f\">927</span></a>\n",
       "</pre>\n"
      ],
      "text/plain": [
       "\u001b[2;36m                   \u001b[0m\u001b[2;36m \u001b[0m\u001b[34mINFO    \u001b[0m \u001b[1m[\u001b[0m\u001b[1;36m24\u001b[0m/\u001b[1;36m308\u001b[0m\u001b[1m]\u001b[0m Retrieving game with \u001b[33mid\u001b[0m=\u001b[35m1ec41087\u001b[0m                                 \u001b]8;id=618352;file:///home/codespace/.local/lib/python3.12/site-packages/fbrefdata/fbref.py\u001b\\\u001b[2mfbref.py\u001b[0m\u001b]8;;\u001b\\\u001b[2m:\u001b[0m\u001b]8;id=320804;file:///home/codespace/.local/lib/python3.12/site-packages/fbrefdata/fbref.py#927\u001b\\\u001b[2m927\u001b[0m\u001b]8;;\u001b\\\n"
      ]
     },
     "metadata": {},
     "output_type": "display_data"
    },
    {
     "data": {
      "text/html": [
       "<pre style=\"white-space:pre;overflow-x:auto;line-height:normal;font-family:Menlo,'DejaVu Sans Mono',consolas,'Courier New',monospace\"><span style=\"color: #7fbfbf; text-decoration-color: #7fbfbf\">                    </span><span style=\"color: #000080; text-decoration-color: #000080\">INFO    </span> <span style=\"font-weight: bold\">[</span><span style=\"color: #008080; text-decoration-color: #008080; font-weight: bold\">25</span>/<span style=\"color: #008080; text-decoration-color: #008080; font-weight: bold\">308</span><span style=\"font-weight: bold\">]</span> Retrieving game with <span style=\"color: #808000; text-decoration-color: #808000\">id</span>=<span style=\"color: #800080; text-decoration-color: #800080\">bc73b667</span>                                 <a href=\"file:///home/codespace/.local/lib/python3.12/site-packages/fbrefdata/fbref.py\" target=\"_blank\"><span style=\"color: #7f7f7f; text-decoration-color: #7f7f7f\">fbref.py</span></a><span style=\"color: #7f7f7f; text-decoration-color: #7f7f7f\">:</span><a href=\"file:///home/codespace/.local/lib/python3.12/site-packages/fbrefdata/fbref.py#927\" target=\"_blank\"><span style=\"color: #7f7f7f; text-decoration-color: #7f7f7f\">927</span></a>\n",
       "</pre>\n"
      ],
      "text/plain": [
       "\u001b[2;36m                   \u001b[0m\u001b[2;36m \u001b[0m\u001b[34mINFO    \u001b[0m \u001b[1m[\u001b[0m\u001b[1;36m25\u001b[0m/\u001b[1;36m308\u001b[0m\u001b[1m]\u001b[0m Retrieving game with \u001b[33mid\u001b[0m=\u001b[35mbc73b667\u001b[0m                                 \u001b]8;id=470728;file:///home/codespace/.local/lib/python3.12/site-packages/fbrefdata/fbref.py\u001b\\\u001b[2mfbref.py\u001b[0m\u001b]8;;\u001b\\\u001b[2m:\u001b[0m\u001b]8;id=593956;file:///home/codespace/.local/lib/python3.12/site-packages/fbrefdata/fbref.py#927\u001b\\\u001b[2m927\u001b[0m\u001b]8;;\u001b\\\n"
      ]
     },
     "metadata": {},
     "output_type": "display_data"
    },
    {
     "data": {
      "text/html": [
       "<pre style=\"white-space:pre;overflow-x:auto;line-height:normal;font-family:Menlo,'DejaVu Sans Mono',consolas,'Courier New',monospace\"><span style=\"color: #7fbfbf; text-decoration-color: #7fbfbf\">                    </span><span style=\"color: #000080; text-decoration-color: #000080\">INFO    </span> <span style=\"font-weight: bold\">[</span><span style=\"color: #008080; text-decoration-color: #008080; font-weight: bold\">26</span>/<span style=\"color: #008080; text-decoration-color: #008080; font-weight: bold\">308</span><span style=\"font-weight: bold\">]</span> Retrieving game with <span style=\"color: #808000; text-decoration-color: #808000\">id</span>=<span style=\"color: #800080; text-decoration-color: #800080\">3bf886c0</span>                                 <a href=\"file:///home/codespace/.local/lib/python3.12/site-packages/fbrefdata/fbref.py\" target=\"_blank\"><span style=\"color: #7f7f7f; text-decoration-color: #7f7f7f\">fbref.py</span></a><span style=\"color: #7f7f7f; text-decoration-color: #7f7f7f\">:</span><a href=\"file:///home/codespace/.local/lib/python3.12/site-packages/fbrefdata/fbref.py#927\" target=\"_blank\"><span style=\"color: #7f7f7f; text-decoration-color: #7f7f7f\">927</span></a>\n",
       "</pre>\n"
      ],
      "text/plain": [
       "\u001b[2;36m                   \u001b[0m\u001b[2;36m \u001b[0m\u001b[34mINFO    \u001b[0m \u001b[1m[\u001b[0m\u001b[1;36m26\u001b[0m/\u001b[1;36m308\u001b[0m\u001b[1m]\u001b[0m Retrieving game with \u001b[33mid\u001b[0m=\u001b[35m3bf886c0\u001b[0m                                 \u001b]8;id=709958;file:///home/codespace/.local/lib/python3.12/site-packages/fbrefdata/fbref.py\u001b\\\u001b[2mfbref.py\u001b[0m\u001b]8;;\u001b\\\u001b[2m:\u001b[0m\u001b]8;id=203731;file:///home/codespace/.local/lib/python3.12/site-packages/fbrefdata/fbref.py#927\u001b\\\u001b[2m927\u001b[0m\u001b]8;;\u001b\\\n"
      ]
     },
     "metadata": {},
     "output_type": "display_data"
    },
    {
     "data": {
      "text/html": [
       "<pre style=\"white-space:pre;overflow-x:auto;line-height:normal;font-family:Menlo,'DejaVu Sans Mono',consolas,'Courier New',monospace\"><span style=\"color: #7fbfbf; text-decoration-color: #7fbfbf\">                    </span><span style=\"color: #000080; text-decoration-color: #000080\">INFO    </span> <span style=\"font-weight: bold\">[</span><span style=\"color: #008080; text-decoration-color: #008080; font-weight: bold\">27</span>/<span style=\"color: #008080; text-decoration-color: #008080; font-weight: bold\">308</span><span style=\"font-weight: bold\">]</span> Retrieving game with <span style=\"color: #808000; text-decoration-color: #808000\">id</span>=<span style=\"color: #800080; text-decoration-color: #800080\">1efab835</span>                                 <a href=\"file:///home/codespace/.local/lib/python3.12/site-packages/fbrefdata/fbref.py\" target=\"_blank\"><span style=\"color: #7f7f7f; text-decoration-color: #7f7f7f\">fbref.py</span></a><span style=\"color: #7f7f7f; text-decoration-color: #7f7f7f\">:</span><a href=\"file:///home/codespace/.local/lib/python3.12/site-packages/fbrefdata/fbref.py#927\" target=\"_blank\"><span style=\"color: #7f7f7f; text-decoration-color: #7f7f7f\">927</span></a>\n",
       "</pre>\n"
      ],
      "text/plain": [
       "\u001b[2;36m                   \u001b[0m\u001b[2;36m \u001b[0m\u001b[34mINFO    \u001b[0m \u001b[1m[\u001b[0m\u001b[1;36m27\u001b[0m/\u001b[1;36m308\u001b[0m\u001b[1m]\u001b[0m Retrieving game with \u001b[33mid\u001b[0m=\u001b[35m1efab835\u001b[0m                                 \u001b]8;id=313666;file:///home/codespace/.local/lib/python3.12/site-packages/fbrefdata/fbref.py\u001b\\\u001b[2mfbref.py\u001b[0m\u001b]8;;\u001b\\\u001b[2m:\u001b[0m\u001b]8;id=520576;file:///home/codespace/.local/lib/python3.12/site-packages/fbrefdata/fbref.py#927\u001b\\\u001b[2m927\u001b[0m\u001b]8;;\u001b\\\n"
      ]
     },
     "metadata": {},
     "output_type": "display_data"
    },
    {
     "data": {
      "text/html": [
       "<pre style=\"white-space:pre;overflow-x:auto;line-height:normal;font-family:Menlo,'DejaVu Sans Mono',consolas,'Courier New',monospace\"><span style=\"color: #7fbfbf; text-decoration-color: #7fbfbf\">                    </span><span style=\"color: #000080; text-decoration-color: #000080\">INFO    </span> <span style=\"font-weight: bold\">[</span><span style=\"color: #008080; text-decoration-color: #008080; font-weight: bold\">28</span>/<span style=\"color: #008080; text-decoration-color: #008080; font-weight: bold\">308</span><span style=\"font-weight: bold\">]</span> Retrieving game with <span style=\"color: #808000; text-decoration-color: #808000\">id</span>=<span style=\"color: #800080; text-decoration-color: #800080\">ce692f09</span>                                 <a href=\"file:///home/codespace/.local/lib/python3.12/site-packages/fbrefdata/fbref.py\" target=\"_blank\"><span style=\"color: #7f7f7f; text-decoration-color: #7f7f7f\">fbref.py</span></a><span style=\"color: #7f7f7f; text-decoration-color: #7f7f7f\">:</span><a href=\"file:///home/codespace/.local/lib/python3.12/site-packages/fbrefdata/fbref.py#927\" target=\"_blank\"><span style=\"color: #7f7f7f; text-decoration-color: #7f7f7f\">927</span></a>\n",
       "</pre>\n"
      ],
      "text/plain": [
       "\u001b[2;36m                   \u001b[0m\u001b[2;36m \u001b[0m\u001b[34mINFO    \u001b[0m \u001b[1m[\u001b[0m\u001b[1;36m28\u001b[0m/\u001b[1;36m308\u001b[0m\u001b[1m]\u001b[0m Retrieving game with \u001b[33mid\u001b[0m=\u001b[35mce692f09\u001b[0m                                 \u001b]8;id=177003;file:///home/codespace/.local/lib/python3.12/site-packages/fbrefdata/fbref.py\u001b\\\u001b[2mfbref.py\u001b[0m\u001b]8;;\u001b\\\u001b[2m:\u001b[0m\u001b]8;id=941909;file:///home/codespace/.local/lib/python3.12/site-packages/fbrefdata/fbref.py#927\u001b\\\u001b[2m927\u001b[0m\u001b]8;;\u001b\\\n"
      ]
     },
     "metadata": {},
     "output_type": "display_data"
    },
    {
     "data": {
      "text/html": [
       "<pre style=\"white-space:pre;overflow-x:auto;line-height:normal;font-family:Menlo,'DejaVu Sans Mono',consolas,'Courier New',monospace\"><span style=\"color: #7fbfbf; text-decoration-color: #7fbfbf\">                    </span><span style=\"color: #000080; text-decoration-color: #000080\">INFO    </span> <span style=\"font-weight: bold\">[</span><span style=\"color: #008080; text-decoration-color: #008080; font-weight: bold\">29</span>/<span style=\"color: #008080; text-decoration-color: #008080; font-weight: bold\">308</span><span style=\"font-weight: bold\">]</span> Retrieving game with <span style=\"color: #808000; text-decoration-color: #808000\">id</span>=<span style=\"color: #800080; text-decoration-color: #800080\">3a5c7b34</span>                                 <a href=\"file:///home/codespace/.local/lib/python3.12/site-packages/fbrefdata/fbref.py\" target=\"_blank\"><span style=\"color: #7f7f7f; text-decoration-color: #7f7f7f\">fbref.py</span></a><span style=\"color: #7f7f7f; text-decoration-color: #7f7f7f\">:</span><a href=\"file:///home/codespace/.local/lib/python3.12/site-packages/fbrefdata/fbref.py#927\" target=\"_blank\"><span style=\"color: #7f7f7f; text-decoration-color: #7f7f7f\">927</span></a>\n",
       "</pre>\n"
      ],
      "text/plain": [
       "\u001b[2;36m                   \u001b[0m\u001b[2;36m \u001b[0m\u001b[34mINFO    \u001b[0m \u001b[1m[\u001b[0m\u001b[1;36m29\u001b[0m/\u001b[1;36m308\u001b[0m\u001b[1m]\u001b[0m Retrieving game with \u001b[33mid\u001b[0m=\u001b[35m3a5c7b34\u001b[0m                                 \u001b]8;id=880358;file:///home/codespace/.local/lib/python3.12/site-packages/fbrefdata/fbref.py\u001b\\\u001b[2mfbref.py\u001b[0m\u001b]8;;\u001b\\\u001b[2m:\u001b[0m\u001b]8;id=281457;file:///home/codespace/.local/lib/python3.12/site-packages/fbrefdata/fbref.py#927\u001b\\\u001b[2m927\u001b[0m\u001b]8;;\u001b\\\n"
      ]
     },
     "metadata": {},
     "output_type": "display_data"
    },
    {
     "data": {
      "text/html": [
       "<pre style=\"white-space:pre;overflow-x:auto;line-height:normal;font-family:Menlo,'DejaVu Sans Mono',consolas,'Courier New',monospace\"><span style=\"color: #7fbfbf; text-decoration-color: #7fbfbf\">                    </span><span style=\"color: #000080; text-decoration-color: #000080\">INFO    </span> <span style=\"font-weight: bold\">[</span><span style=\"color: #008080; text-decoration-color: #008080; font-weight: bold\">30</span>/<span style=\"color: #008080; text-decoration-color: #008080; font-weight: bold\">308</span><span style=\"font-weight: bold\">]</span> Retrieving game with <span style=\"color: #808000; text-decoration-color: #808000\">id</span>=<span style=\"color: #800080; text-decoration-color: #800080\">7c35b420</span>                                 <a href=\"file:///home/codespace/.local/lib/python3.12/site-packages/fbrefdata/fbref.py\" target=\"_blank\"><span style=\"color: #7f7f7f; text-decoration-color: #7f7f7f\">fbref.py</span></a><span style=\"color: #7f7f7f; text-decoration-color: #7f7f7f\">:</span><a href=\"file:///home/codespace/.local/lib/python3.12/site-packages/fbrefdata/fbref.py#927\" target=\"_blank\"><span style=\"color: #7f7f7f; text-decoration-color: #7f7f7f\">927</span></a>\n",
       "</pre>\n"
      ],
      "text/plain": [
       "\u001b[2;36m                   \u001b[0m\u001b[2;36m \u001b[0m\u001b[34mINFO    \u001b[0m \u001b[1m[\u001b[0m\u001b[1;36m30\u001b[0m/\u001b[1;36m308\u001b[0m\u001b[1m]\u001b[0m Retrieving game with \u001b[33mid\u001b[0m=\u001b[35m7c35b420\u001b[0m                                 \u001b]8;id=91600;file:///home/codespace/.local/lib/python3.12/site-packages/fbrefdata/fbref.py\u001b\\\u001b[2mfbref.py\u001b[0m\u001b]8;;\u001b\\\u001b[2m:\u001b[0m\u001b]8;id=611670;file:///home/codespace/.local/lib/python3.12/site-packages/fbrefdata/fbref.py#927\u001b\\\u001b[2m927\u001b[0m\u001b]8;;\u001b\\\n"
      ]
     },
     "metadata": {},
     "output_type": "display_data"
    },
    {
     "data": {
      "text/html": [
       "<pre style=\"white-space:pre;overflow-x:auto;line-height:normal;font-family:Menlo,'DejaVu Sans Mono',consolas,'Courier New',monospace\"><span style=\"color: #7fbfbf; text-decoration-color: #7fbfbf\">                    </span><span style=\"color: #000080; text-decoration-color: #000080\">INFO    </span> <span style=\"font-weight: bold\">[</span><span style=\"color: #008080; text-decoration-color: #008080; font-weight: bold\">31</span>/<span style=\"color: #008080; text-decoration-color: #008080; font-weight: bold\">308</span><span style=\"font-weight: bold\">]</span> Retrieving game with <span style=\"color: #808000; text-decoration-color: #808000\">id</span>=<span style=\"color: #800080; text-decoration-color: #800080\">b8617eda</span>                                 <a href=\"file:///home/codespace/.local/lib/python3.12/site-packages/fbrefdata/fbref.py\" target=\"_blank\"><span style=\"color: #7f7f7f; text-decoration-color: #7f7f7f\">fbref.py</span></a><span style=\"color: #7f7f7f; text-decoration-color: #7f7f7f\">:</span><a href=\"file:///home/codespace/.local/lib/python3.12/site-packages/fbrefdata/fbref.py#927\" target=\"_blank\"><span style=\"color: #7f7f7f; text-decoration-color: #7f7f7f\">927</span></a>\n",
       "</pre>\n"
      ],
      "text/plain": [
       "\u001b[2;36m                   \u001b[0m\u001b[2;36m \u001b[0m\u001b[34mINFO    \u001b[0m \u001b[1m[\u001b[0m\u001b[1;36m31\u001b[0m/\u001b[1;36m308\u001b[0m\u001b[1m]\u001b[0m Retrieving game with \u001b[33mid\u001b[0m=\u001b[35mb8617eda\u001b[0m                                 \u001b]8;id=953811;file:///home/codespace/.local/lib/python3.12/site-packages/fbrefdata/fbref.py\u001b\\\u001b[2mfbref.py\u001b[0m\u001b]8;;\u001b\\\u001b[2m:\u001b[0m\u001b]8;id=35035;file:///home/codespace/.local/lib/python3.12/site-packages/fbrefdata/fbref.py#927\u001b\\\u001b[2m927\u001b[0m\u001b]8;;\u001b\\\n"
      ]
     },
     "metadata": {},
     "output_type": "display_data"
    },
    {
     "data": {
      "text/html": [
       "<pre style=\"white-space:pre;overflow-x:auto;line-height:normal;font-family:Menlo,'DejaVu Sans Mono',consolas,'Courier New',monospace\"><span style=\"color: #7fbfbf; text-decoration-color: #7fbfbf\">                    </span><span style=\"color: #000080; text-decoration-color: #000080\">INFO    </span> <span style=\"font-weight: bold\">[</span><span style=\"color: #008080; text-decoration-color: #008080; font-weight: bold\">32</span>/<span style=\"color: #008080; text-decoration-color: #008080; font-weight: bold\">308</span><span style=\"font-weight: bold\">]</span> Retrieving game with <span style=\"color: #808000; text-decoration-color: #808000\">id</span>=<span style=\"color: #800080; text-decoration-color: #800080\">c77a129a</span>                                 <a href=\"file:///home/codespace/.local/lib/python3.12/site-packages/fbrefdata/fbref.py\" target=\"_blank\"><span style=\"color: #7f7f7f; text-decoration-color: #7f7f7f\">fbref.py</span></a><span style=\"color: #7f7f7f; text-decoration-color: #7f7f7f\">:</span><a href=\"file:///home/codespace/.local/lib/python3.12/site-packages/fbrefdata/fbref.py#927\" target=\"_blank\"><span style=\"color: #7f7f7f; text-decoration-color: #7f7f7f\">927</span></a>\n",
       "</pre>\n"
      ],
      "text/plain": [
       "\u001b[2;36m                   \u001b[0m\u001b[2;36m \u001b[0m\u001b[34mINFO    \u001b[0m \u001b[1m[\u001b[0m\u001b[1;36m32\u001b[0m/\u001b[1;36m308\u001b[0m\u001b[1m]\u001b[0m Retrieving game with \u001b[33mid\u001b[0m=\u001b[35mc77a129a\u001b[0m                                 \u001b]8;id=724539;file:///home/codespace/.local/lib/python3.12/site-packages/fbrefdata/fbref.py\u001b\\\u001b[2mfbref.py\u001b[0m\u001b]8;;\u001b\\\u001b[2m:\u001b[0m\u001b]8;id=78267;file:///home/codespace/.local/lib/python3.12/site-packages/fbrefdata/fbref.py#927\u001b\\\u001b[2m927\u001b[0m\u001b]8;;\u001b\\\n"
      ]
     },
     "metadata": {},
     "output_type": "display_data"
    },
    {
     "data": {
      "text/html": [
       "<pre style=\"white-space:pre;overflow-x:auto;line-height:normal;font-family:Menlo,'DejaVu Sans Mono',consolas,'Courier New',monospace\"><span style=\"color: #7fbfbf; text-decoration-color: #7fbfbf\">                    </span><span style=\"color: #000080; text-decoration-color: #000080\">INFO    </span> <span style=\"font-weight: bold\">[</span><span style=\"color: #008080; text-decoration-color: #008080; font-weight: bold\">33</span>/<span style=\"color: #008080; text-decoration-color: #008080; font-weight: bold\">308</span><span style=\"font-weight: bold\">]</span> Retrieving game with <span style=\"color: #808000; text-decoration-color: #808000\">id</span>=<span style=\"color: #800080; text-decoration-color: #800080\">baeada79</span>                                 <a href=\"file:///home/codespace/.local/lib/python3.12/site-packages/fbrefdata/fbref.py\" target=\"_blank\"><span style=\"color: #7f7f7f; text-decoration-color: #7f7f7f\">fbref.py</span></a><span style=\"color: #7f7f7f; text-decoration-color: #7f7f7f\">:</span><a href=\"file:///home/codespace/.local/lib/python3.12/site-packages/fbrefdata/fbref.py#927\" target=\"_blank\"><span style=\"color: #7f7f7f; text-decoration-color: #7f7f7f\">927</span></a>\n",
       "</pre>\n"
      ],
      "text/plain": [
       "\u001b[2;36m                   \u001b[0m\u001b[2;36m \u001b[0m\u001b[34mINFO    \u001b[0m \u001b[1m[\u001b[0m\u001b[1;36m33\u001b[0m/\u001b[1;36m308\u001b[0m\u001b[1m]\u001b[0m Retrieving game with \u001b[33mid\u001b[0m=\u001b[35mbaeada79\u001b[0m                                 \u001b]8;id=336207;file:///home/codespace/.local/lib/python3.12/site-packages/fbrefdata/fbref.py\u001b\\\u001b[2mfbref.py\u001b[0m\u001b]8;;\u001b\\\u001b[2m:\u001b[0m\u001b]8;id=428943;file:///home/codespace/.local/lib/python3.12/site-packages/fbrefdata/fbref.py#927\u001b\\\u001b[2m927\u001b[0m\u001b]8;;\u001b\\\n"
      ]
     },
     "metadata": {},
     "output_type": "display_data"
    },
    {
     "data": {
      "text/html": [
       "<pre style=\"white-space:pre;overflow-x:auto;line-height:normal;font-family:Menlo,'DejaVu Sans Mono',consolas,'Courier New',monospace\"><span style=\"color: #7fbfbf; text-decoration-color: #7fbfbf\">                    </span><span style=\"color: #000080; text-decoration-color: #000080\">INFO    </span> <span style=\"font-weight: bold\">[</span><span style=\"color: #008080; text-decoration-color: #008080; font-weight: bold\">34</span>/<span style=\"color: #008080; text-decoration-color: #008080; font-weight: bold\">308</span><span style=\"font-weight: bold\">]</span> Retrieving game with <span style=\"color: #808000; text-decoration-color: #808000\">id</span>=<span style=\"color: #800080; text-decoration-color: #800080\">f6278a67</span>                                 <a href=\"file:///home/codespace/.local/lib/python3.12/site-packages/fbrefdata/fbref.py\" target=\"_blank\"><span style=\"color: #7f7f7f; text-decoration-color: #7f7f7f\">fbref.py</span></a><span style=\"color: #7f7f7f; text-decoration-color: #7f7f7f\">:</span><a href=\"file:///home/codespace/.local/lib/python3.12/site-packages/fbrefdata/fbref.py#927\" target=\"_blank\"><span style=\"color: #7f7f7f; text-decoration-color: #7f7f7f\">927</span></a>\n",
       "</pre>\n"
      ],
      "text/plain": [
       "\u001b[2;36m                   \u001b[0m\u001b[2;36m \u001b[0m\u001b[34mINFO    \u001b[0m \u001b[1m[\u001b[0m\u001b[1;36m34\u001b[0m/\u001b[1;36m308\u001b[0m\u001b[1m]\u001b[0m Retrieving game with \u001b[33mid\u001b[0m=\u001b[35mf6278a67\u001b[0m                                 \u001b]8;id=455955;file:///home/codespace/.local/lib/python3.12/site-packages/fbrefdata/fbref.py\u001b\\\u001b[2mfbref.py\u001b[0m\u001b]8;;\u001b\\\u001b[2m:\u001b[0m\u001b]8;id=130713;file:///home/codespace/.local/lib/python3.12/site-packages/fbrefdata/fbref.py#927\u001b\\\u001b[2m927\u001b[0m\u001b]8;;\u001b\\\n"
      ]
     },
     "metadata": {},
     "output_type": "display_data"
    },
    {
     "data": {
      "text/html": [
       "<pre style=\"white-space:pre;overflow-x:auto;line-height:normal;font-family:Menlo,'DejaVu Sans Mono',consolas,'Courier New',monospace\"><span style=\"color: #7fbfbf; text-decoration-color: #7fbfbf\">                    </span><span style=\"color: #000080; text-decoration-color: #000080\">INFO    </span> <span style=\"font-weight: bold\">[</span><span style=\"color: #008080; text-decoration-color: #008080; font-weight: bold\">35</span>/<span style=\"color: #008080; text-decoration-color: #008080; font-weight: bold\">308</span><span style=\"font-weight: bold\">]</span> Retrieving game with <span style=\"color: #808000; text-decoration-color: #808000\">id</span>=<span style=\"color: #800080; text-decoration-color: #800080\">163e88ac</span>                                 <a href=\"file:///home/codespace/.local/lib/python3.12/site-packages/fbrefdata/fbref.py\" target=\"_blank\"><span style=\"color: #7f7f7f; text-decoration-color: #7f7f7f\">fbref.py</span></a><span style=\"color: #7f7f7f; text-decoration-color: #7f7f7f\">:</span><a href=\"file:///home/codespace/.local/lib/python3.12/site-packages/fbrefdata/fbref.py#927\" target=\"_blank\"><span style=\"color: #7f7f7f; text-decoration-color: #7f7f7f\">927</span></a>\n",
       "</pre>\n"
      ],
      "text/plain": [
       "\u001b[2;36m                   \u001b[0m\u001b[2;36m \u001b[0m\u001b[34mINFO    \u001b[0m \u001b[1m[\u001b[0m\u001b[1;36m35\u001b[0m/\u001b[1;36m308\u001b[0m\u001b[1m]\u001b[0m Retrieving game with \u001b[33mid\u001b[0m=\u001b[35m163e88ac\u001b[0m                                 \u001b]8;id=711179;file:///home/codespace/.local/lib/python3.12/site-packages/fbrefdata/fbref.py\u001b\\\u001b[2mfbref.py\u001b[0m\u001b]8;;\u001b\\\u001b[2m:\u001b[0m\u001b]8;id=577208;file:///home/codespace/.local/lib/python3.12/site-packages/fbrefdata/fbref.py#927\u001b\\\u001b[2m927\u001b[0m\u001b]8;;\u001b\\\n"
      ]
     },
     "metadata": {},
     "output_type": "display_data"
    },
    {
     "data": {
      "text/html": [
       "<pre style=\"white-space:pre;overflow-x:auto;line-height:normal;font-family:Menlo,'DejaVu Sans Mono',consolas,'Courier New',monospace\"><span style=\"color: #7fbfbf; text-decoration-color: #7fbfbf\">                    </span><span style=\"color: #000080; text-decoration-color: #000080\">INFO    </span> <span style=\"font-weight: bold\">[</span><span style=\"color: #008080; text-decoration-color: #008080; font-weight: bold\">36</span>/<span style=\"color: #008080; text-decoration-color: #008080; font-weight: bold\">308</span><span style=\"font-weight: bold\">]</span> Retrieving game with <span style=\"color: #808000; text-decoration-color: #808000\">id</span>=<span style=\"color: #800080; text-decoration-color: #800080\">db279a43</span>                                 <a href=\"file:///home/codespace/.local/lib/python3.12/site-packages/fbrefdata/fbref.py\" target=\"_blank\"><span style=\"color: #7f7f7f; text-decoration-color: #7f7f7f\">fbref.py</span></a><span style=\"color: #7f7f7f; text-decoration-color: #7f7f7f\">:</span><a href=\"file:///home/codespace/.local/lib/python3.12/site-packages/fbrefdata/fbref.py#927\" target=\"_blank\"><span style=\"color: #7f7f7f; text-decoration-color: #7f7f7f\">927</span></a>\n",
       "</pre>\n"
      ],
      "text/plain": [
       "\u001b[2;36m                   \u001b[0m\u001b[2;36m \u001b[0m\u001b[34mINFO    \u001b[0m \u001b[1m[\u001b[0m\u001b[1;36m36\u001b[0m/\u001b[1;36m308\u001b[0m\u001b[1m]\u001b[0m Retrieving game with \u001b[33mid\u001b[0m=\u001b[35mdb279a43\u001b[0m                                 \u001b]8;id=334002;file:///home/codespace/.local/lib/python3.12/site-packages/fbrefdata/fbref.py\u001b\\\u001b[2mfbref.py\u001b[0m\u001b]8;;\u001b\\\u001b[2m:\u001b[0m\u001b]8;id=475422;file:///home/codespace/.local/lib/python3.12/site-packages/fbrefdata/fbref.py#927\u001b\\\u001b[2m927\u001b[0m\u001b]8;;\u001b\\\n"
      ]
     },
     "metadata": {},
     "output_type": "display_data"
    },
    {
     "data": {
      "text/html": [
       "<pre style=\"white-space:pre;overflow-x:auto;line-height:normal;font-family:Menlo,'DejaVu Sans Mono',consolas,'Courier New',monospace\"><span style=\"color: #7fbfbf; text-decoration-color: #7fbfbf\">                    </span><span style=\"color: #000080; text-decoration-color: #000080\">INFO    </span> <span style=\"font-weight: bold\">[</span><span style=\"color: #008080; text-decoration-color: #008080; font-weight: bold\">37</span>/<span style=\"color: #008080; text-decoration-color: #008080; font-weight: bold\">308</span><span style=\"font-weight: bold\">]</span> Retrieving game with <span style=\"color: #808000; text-decoration-color: #808000\">id</span>=<span style=\"color: #800080; text-decoration-color: #800080\">d3537d39</span>                                 <a href=\"file:///home/codespace/.local/lib/python3.12/site-packages/fbrefdata/fbref.py\" target=\"_blank\"><span style=\"color: #7f7f7f; text-decoration-color: #7f7f7f\">fbref.py</span></a><span style=\"color: #7f7f7f; text-decoration-color: #7f7f7f\">:</span><a href=\"file:///home/codespace/.local/lib/python3.12/site-packages/fbrefdata/fbref.py#927\" target=\"_blank\"><span style=\"color: #7f7f7f; text-decoration-color: #7f7f7f\">927</span></a>\n",
       "</pre>\n"
      ],
      "text/plain": [
       "\u001b[2;36m                   \u001b[0m\u001b[2;36m \u001b[0m\u001b[34mINFO    \u001b[0m \u001b[1m[\u001b[0m\u001b[1;36m37\u001b[0m/\u001b[1;36m308\u001b[0m\u001b[1m]\u001b[0m Retrieving game with \u001b[33mid\u001b[0m=\u001b[35md3537d39\u001b[0m                                 \u001b]8;id=91703;file:///home/codespace/.local/lib/python3.12/site-packages/fbrefdata/fbref.py\u001b\\\u001b[2mfbref.py\u001b[0m\u001b]8;;\u001b\\\u001b[2m:\u001b[0m\u001b]8;id=761525;file:///home/codespace/.local/lib/python3.12/site-packages/fbrefdata/fbref.py#927\u001b\\\u001b[2m927\u001b[0m\u001b]8;;\u001b\\\n"
      ]
     },
     "metadata": {},
     "output_type": "display_data"
    },
    {
     "data": {
      "text/html": [
       "<pre style=\"white-space:pre;overflow-x:auto;line-height:normal;font-family:Menlo,'DejaVu Sans Mono',consolas,'Courier New',monospace\"><span style=\"color: #7fbfbf; text-decoration-color: #7fbfbf\">                    </span><span style=\"color: #000080; text-decoration-color: #000080\">INFO    </span> <span style=\"font-weight: bold\">[</span><span style=\"color: #008080; text-decoration-color: #008080; font-weight: bold\">38</span>/<span style=\"color: #008080; text-decoration-color: #008080; font-weight: bold\">308</span><span style=\"font-weight: bold\">]</span> Retrieving game with <span style=\"color: #808000; text-decoration-color: #808000\">id</span>=<span style=\"color: #800080; text-decoration-color: #800080\">af438ae3</span>                                 <a href=\"file:///home/codespace/.local/lib/python3.12/site-packages/fbrefdata/fbref.py\" target=\"_blank\"><span style=\"color: #7f7f7f; text-decoration-color: #7f7f7f\">fbref.py</span></a><span style=\"color: #7f7f7f; text-decoration-color: #7f7f7f\">:</span><a href=\"file:///home/codespace/.local/lib/python3.12/site-packages/fbrefdata/fbref.py#927\" target=\"_blank\"><span style=\"color: #7f7f7f; text-decoration-color: #7f7f7f\">927</span></a>\n",
       "</pre>\n"
      ],
      "text/plain": [
       "\u001b[2;36m                   \u001b[0m\u001b[2;36m \u001b[0m\u001b[34mINFO    \u001b[0m \u001b[1m[\u001b[0m\u001b[1;36m38\u001b[0m/\u001b[1;36m308\u001b[0m\u001b[1m]\u001b[0m Retrieving game with \u001b[33mid\u001b[0m=\u001b[35maf438ae3\u001b[0m                                 \u001b]8;id=141141;file:///home/codespace/.local/lib/python3.12/site-packages/fbrefdata/fbref.py\u001b\\\u001b[2mfbref.py\u001b[0m\u001b]8;;\u001b\\\u001b[2m:\u001b[0m\u001b]8;id=958247;file:///home/codespace/.local/lib/python3.12/site-packages/fbrefdata/fbref.py#927\u001b\\\u001b[2m927\u001b[0m\u001b]8;;\u001b\\\n"
      ]
     },
     "metadata": {},
     "output_type": "display_data"
    },
    {
     "data": {
      "text/html": [
       "<pre style=\"white-space:pre;overflow-x:auto;line-height:normal;font-family:Menlo,'DejaVu Sans Mono',consolas,'Courier New',monospace\"><span style=\"color: #7fbfbf; text-decoration-color: #7fbfbf\">                    </span><span style=\"color: #000080; text-decoration-color: #000080\">INFO    </span> <span style=\"font-weight: bold\">[</span><span style=\"color: #008080; text-decoration-color: #008080; font-weight: bold\">39</span>/<span style=\"color: #008080; text-decoration-color: #008080; font-weight: bold\">308</span><span style=\"font-weight: bold\">]</span> Retrieving game with <span style=\"color: #808000; text-decoration-color: #808000\">id</span>=<span style=\"color: #800080; text-decoration-color: #800080\">629d89ee</span>                                 <a href=\"file:///home/codespace/.local/lib/python3.12/site-packages/fbrefdata/fbref.py\" target=\"_blank\"><span style=\"color: #7f7f7f; text-decoration-color: #7f7f7f\">fbref.py</span></a><span style=\"color: #7f7f7f; text-decoration-color: #7f7f7f\">:</span><a href=\"file:///home/codespace/.local/lib/python3.12/site-packages/fbrefdata/fbref.py#927\" target=\"_blank\"><span style=\"color: #7f7f7f; text-decoration-color: #7f7f7f\">927</span></a>\n",
       "</pre>\n"
      ],
      "text/plain": [
       "\u001b[2;36m                   \u001b[0m\u001b[2;36m \u001b[0m\u001b[34mINFO    \u001b[0m \u001b[1m[\u001b[0m\u001b[1;36m39\u001b[0m/\u001b[1;36m308\u001b[0m\u001b[1m]\u001b[0m Retrieving game with \u001b[33mid\u001b[0m=\u001b[35m629d89ee\u001b[0m                                 \u001b]8;id=557366;file:///home/codespace/.local/lib/python3.12/site-packages/fbrefdata/fbref.py\u001b\\\u001b[2mfbref.py\u001b[0m\u001b]8;;\u001b\\\u001b[2m:\u001b[0m\u001b]8;id=545984;file:///home/codespace/.local/lib/python3.12/site-packages/fbrefdata/fbref.py#927\u001b\\\u001b[2m927\u001b[0m\u001b]8;;\u001b\\\n"
      ]
     },
     "metadata": {},
     "output_type": "display_data"
    },
    {
     "data": {
      "text/html": [
       "<pre style=\"white-space:pre;overflow-x:auto;line-height:normal;font-family:Menlo,'DejaVu Sans Mono',consolas,'Courier New',monospace\"><span style=\"color: #7fbfbf; text-decoration-color: #7fbfbf\">                    </span><span style=\"color: #000080; text-decoration-color: #000080\">INFO    </span> <span style=\"font-weight: bold\">[</span><span style=\"color: #008080; text-decoration-color: #008080; font-weight: bold\">40</span>/<span style=\"color: #008080; text-decoration-color: #008080; font-weight: bold\">308</span><span style=\"font-weight: bold\">]</span> Retrieving game with <span style=\"color: #808000; text-decoration-color: #808000\">id</span>=<span style=\"color: #800080; text-decoration-color: #800080\">12c438d6</span>                                 <a href=\"file:///home/codespace/.local/lib/python3.12/site-packages/fbrefdata/fbref.py\" target=\"_blank\"><span style=\"color: #7f7f7f; text-decoration-color: #7f7f7f\">fbref.py</span></a><span style=\"color: #7f7f7f; text-decoration-color: #7f7f7f\">:</span><a href=\"file:///home/codespace/.local/lib/python3.12/site-packages/fbrefdata/fbref.py#927\" target=\"_blank\"><span style=\"color: #7f7f7f; text-decoration-color: #7f7f7f\">927</span></a>\n",
       "</pre>\n"
      ],
      "text/plain": [
       "\u001b[2;36m                   \u001b[0m\u001b[2;36m \u001b[0m\u001b[34mINFO    \u001b[0m \u001b[1m[\u001b[0m\u001b[1;36m40\u001b[0m/\u001b[1;36m308\u001b[0m\u001b[1m]\u001b[0m Retrieving game with \u001b[33mid\u001b[0m=\u001b[35m12c438d6\u001b[0m                                 \u001b]8;id=621668;file:///home/codespace/.local/lib/python3.12/site-packages/fbrefdata/fbref.py\u001b\\\u001b[2mfbref.py\u001b[0m\u001b]8;;\u001b\\\u001b[2m:\u001b[0m\u001b]8;id=532473;file:///home/codespace/.local/lib/python3.12/site-packages/fbrefdata/fbref.py#927\u001b\\\u001b[2m927\u001b[0m\u001b]8;;\u001b\\\n"
      ]
     },
     "metadata": {},
     "output_type": "display_data"
    },
    {
     "data": {
      "text/html": [
       "<pre style=\"white-space:pre;overflow-x:auto;line-height:normal;font-family:Menlo,'DejaVu Sans Mono',consolas,'Courier New',monospace\"><span style=\"color: #7fbfbf; text-decoration-color: #7fbfbf\">                    </span><span style=\"color: #000080; text-decoration-color: #000080\">INFO    </span> <span style=\"font-weight: bold\">[</span><span style=\"color: #008080; text-decoration-color: #008080; font-weight: bold\">41</span>/<span style=\"color: #008080; text-decoration-color: #008080; font-weight: bold\">308</span><span style=\"font-weight: bold\">]</span> Retrieving game with <span style=\"color: #808000; text-decoration-color: #808000\">id</span>=<span style=\"color: #800080; text-decoration-color: #800080\">c32831c6</span>                                 <a href=\"file:///home/codespace/.local/lib/python3.12/site-packages/fbrefdata/fbref.py\" target=\"_blank\"><span style=\"color: #7f7f7f; text-decoration-color: #7f7f7f\">fbref.py</span></a><span style=\"color: #7f7f7f; text-decoration-color: #7f7f7f\">:</span><a href=\"file:///home/codespace/.local/lib/python3.12/site-packages/fbrefdata/fbref.py#927\" target=\"_blank\"><span style=\"color: #7f7f7f; text-decoration-color: #7f7f7f\">927</span></a>\n",
       "</pre>\n"
      ],
      "text/plain": [
       "\u001b[2;36m                   \u001b[0m\u001b[2;36m \u001b[0m\u001b[34mINFO    \u001b[0m \u001b[1m[\u001b[0m\u001b[1;36m41\u001b[0m/\u001b[1;36m308\u001b[0m\u001b[1m]\u001b[0m Retrieving game with \u001b[33mid\u001b[0m=\u001b[35mc32831c6\u001b[0m                                 \u001b]8;id=947321;file:///home/codespace/.local/lib/python3.12/site-packages/fbrefdata/fbref.py\u001b\\\u001b[2mfbref.py\u001b[0m\u001b]8;;\u001b\\\u001b[2m:\u001b[0m\u001b]8;id=97519;file:///home/codespace/.local/lib/python3.12/site-packages/fbrefdata/fbref.py#927\u001b\\\u001b[2m927\u001b[0m\u001b]8;;\u001b\\\n"
      ]
     },
     "metadata": {},
     "output_type": "display_data"
    },
    {
     "data": {
      "text/html": [
       "<pre style=\"white-space:pre;overflow-x:auto;line-height:normal;font-family:Menlo,'DejaVu Sans Mono',consolas,'Courier New',monospace\"><span style=\"color: #7fbfbf; text-decoration-color: #7fbfbf\">                    </span><span style=\"color: #000080; text-decoration-color: #000080\">INFO    </span> <span style=\"font-weight: bold\">[</span><span style=\"color: #008080; text-decoration-color: #008080; font-weight: bold\">42</span>/<span style=\"color: #008080; text-decoration-color: #008080; font-weight: bold\">308</span><span style=\"font-weight: bold\">]</span> Retrieving game with <span style=\"color: #808000; text-decoration-color: #808000\">id</span>=<span style=\"color: #800080; text-decoration-color: #800080\">1f119187</span>                                 <a href=\"file:///home/codespace/.local/lib/python3.12/site-packages/fbrefdata/fbref.py\" target=\"_blank\"><span style=\"color: #7f7f7f; text-decoration-color: #7f7f7f\">fbref.py</span></a><span style=\"color: #7f7f7f; text-decoration-color: #7f7f7f\">:</span><a href=\"file:///home/codespace/.local/lib/python3.12/site-packages/fbrefdata/fbref.py#927\" target=\"_blank\"><span style=\"color: #7f7f7f; text-decoration-color: #7f7f7f\">927</span></a>\n",
       "</pre>\n"
      ],
      "text/plain": [
       "\u001b[2;36m                   \u001b[0m\u001b[2;36m \u001b[0m\u001b[34mINFO    \u001b[0m \u001b[1m[\u001b[0m\u001b[1;36m42\u001b[0m/\u001b[1;36m308\u001b[0m\u001b[1m]\u001b[0m Retrieving game with \u001b[33mid\u001b[0m=\u001b[35m1f119187\u001b[0m                                 \u001b]8;id=236442;file:///home/codespace/.local/lib/python3.12/site-packages/fbrefdata/fbref.py\u001b\\\u001b[2mfbref.py\u001b[0m\u001b]8;;\u001b\\\u001b[2m:\u001b[0m\u001b]8;id=726344;file:///home/codespace/.local/lib/python3.12/site-packages/fbrefdata/fbref.py#927\u001b\\\u001b[2m927\u001b[0m\u001b]8;;\u001b\\\n"
      ]
     },
     "metadata": {},
     "output_type": "display_data"
    },
    {
     "data": {
      "text/html": [
       "<pre style=\"white-space:pre;overflow-x:auto;line-height:normal;font-family:Menlo,'DejaVu Sans Mono',consolas,'Courier New',monospace\"><span style=\"color: #7fbfbf; text-decoration-color: #7fbfbf\">                    </span><span style=\"color: #000080; text-decoration-color: #000080\">INFO    </span> <span style=\"font-weight: bold\">[</span><span style=\"color: #008080; text-decoration-color: #008080; font-weight: bold\">43</span>/<span style=\"color: #008080; text-decoration-color: #008080; font-weight: bold\">308</span><span style=\"font-weight: bold\">]</span> Retrieving game with <span style=\"color: #808000; text-decoration-color: #808000\">id</span>=<span style=\"color: #800080; text-decoration-color: #800080\">273f5f16</span>                                 <a href=\"file:///home/codespace/.local/lib/python3.12/site-packages/fbrefdata/fbref.py\" target=\"_blank\"><span style=\"color: #7f7f7f; text-decoration-color: #7f7f7f\">fbref.py</span></a><span style=\"color: #7f7f7f; text-decoration-color: #7f7f7f\">:</span><a href=\"file:///home/codespace/.local/lib/python3.12/site-packages/fbrefdata/fbref.py#927\" target=\"_blank\"><span style=\"color: #7f7f7f; text-decoration-color: #7f7f7f\">927</span></a>\n",
       "</pre>\n"
      ],
      "text/plain": [
       "\u001b[2;36m                   \u001b[0m\u001b[2;36m \u001b[0m\u001b[34mINFO    \u001b[0m \u001b[1m[\u001b[0m\u001b[1;36m43\u001b[0m/\u001b[1;36m308\u001b[0m\u001b[1m]\u001b[0m Retrieving game with \u001b[33mid\u001b[0m=\u001b[35m273f5f16\u001b[0m                                 \u001b]8;id=560513;file:///home/codespace/.local/lib/python3.12/site-packages/fbrefdata/fbref.py\u001b\\\u001b[2mfbref.py\u001b[0m\u001b]8;;\u001b\\\u001b[2m:\u001b[0m\u001b]8;id=485366;file:///home/codespace/.local/lib/python3.12/site-packages/fbrefdata/fbref.py#927\u001b\\\u001b[2m927\u001b[0m\u001b]8;;\u001b\\\n"
      ]
     },
     "metadata": {},
     "output_type": "display_data"
    },
    {
     "data": {
      "text/html": [
       "<pre style=\"white-space:pre;overflow-x:auto;line-height:normal;font-family:Menlo,'DejaVu Sans Mono',consolas,'Courier New',monospace\"><span style=\"color: #7fbfbf; text-decoration-color: #7fbfbf\">                    </span><span style=\"color: #000080; text-decoration-color: #000080\">INFO    </span> <span style=\"font-weight: bold\">[</span><span style=\"color: #008080; text-decoration-color: #008080; font-weight: bold\">44</span>/<span style=\"color: #008080; text-decoration-color: #008080; font-weight: bold\">308</span><span style=\"font-weight: bold\">]</span> Retrieving game with <span style=\"color: #808000; text-decoration-color: #808000\">id</span>=<span style=\"color: #800080; text-decoration-color: #800080\">c83ec185</span>                                 <a href=\"file:///home/codespace/.local/lib/python3.12/site-packages/fbrefdata/fbref.py\" target=\"_blank\"><span style=\"color: #7f7f7f; text-decoration-color: #7f7f7f\">fbref.py</span></a><span style=\"color: #7f7f7f; text-decoration-color: #7f7f7f\">:</span><a href=\"file:///home/codespace/.local/lib/python3.12/site-packages/fbrefdata/fbref.py#927\" target=\"_blank\"><span style=\"color: #7f7f7f; text-decoration-color: #7f7f7f\">927</span></a>\n",
       "</pre>\n"
      ],
      "text/plain": [
       "\u001b[2;36m                   \u001b[0m\u001b[2;36m \u001b[0m\u001b[34mINFO    \u001b[0m \u001b[1m[\u001b[0m\u001b[1;36m44\u001b[0m/\u001b[1;36m308\u001b[0m\u001b[1m]\u001b[0m Retrieving game with \u001b[33mid\u001b[0m=\u001b[35mc83ec185\u001b[0m                                 \u001b]8;id=550304;file:///home/codespace/.local/lib/python3.12/site-packages/fbrefdata/fbref.py\u001b\\\u001b[2mfbref.py\u001b[0m\u001b]8;;\u001b\\\u001b[2m:\u001b[0m\u001b]8;id=806211;file:///home/codespace/.local/lib/python3.12/site-packages/fbrefdata/fbref.py#927\u001b\\\u001b[2m927\u001b[0m\u001b]8;;\u001b\\\n"
      ]
     },
     "metadata": {},
     "output_type": "display_data"
    },
    {
     "data": {
      "text/html": [
       "<pre style=\"white-space:pre;overflow-x:auto;line-height:normal;font-family:Menlo,'DejaVu Sans Mono',consolas,'Courier New',monospace\"><span style=\"color: #7fbfbf; text-decoration-color: #7fbfbf\">                    </span><span style=\"color: #000080; text-decoration-color: #000080\">INFO    </span> <span style=\"font-weight: bold\">[</span><span style=\"color: #008080; text-decoration-color: #008080; font-weight: bold\">45</span>/<span style=\"color: #008080; text-decoration-color: #008080; font-weight: bold\">308</span><span style=\"font-weight: bold\">]</span> Retrieving game with <span style=\"color: #808000; text-decoration-color: #808000\">id</span>=<span style=\"color: #800080; text-decoration-color: #800080\">6f4ef7ee</span>                                 <a href=\"file:///home/codespace/.local/lib/python3.12/site-packages/fbrefdata/fbref.py\" target=\"_blank\"><span style=\"color: #7f7f7f; text-decoration-color: #7f7f7f\">fbref.py</span></a><span style=\"color: #7f7f7f; text-decoration-color: #7f7f7f\">:</span><a href=\"file:///home/codespace/.local/lib/python3.12/site-packages/fbrefdata/fbref.py#927\" target=\"_blank\"><span style=\"color: #7f7f7f; text-decoration-color: #7f7f7f\">927</span></a>\n",
       "</pre>\n"
      ],
      "text/plain": [
       "\u001b[2;36m                   \u001b[0m\u001b[2;36m \u001b[0m\u001b[34mINFO    \u001b[0m \u001b[1m[\u001b[0m\u001b[1;36m45\u001b[0m/\u001b[1;36m308\u001b[0m\u001b[1m]\u001b[0m Retrieving game with \u001b[33mid\u001b[0m=\u001b[35m6f4ef7ee\u001b[0m                                 \u001b]8;id=156270;file:///home/codespace/.local/lib/python3.12/site-packages/fbrefdata/fbref.py\u001b\\\u001b[2mfbref.py\u001b[0m\u001b]8;;\u001b\\\u001b[2m:\u001b[0m\u001b]8;id=236801;file:///home/codespace/.local/lib/python3.12/site-packages/fbrefdata/fbref.py#927\u001b\\\u001b[2m927\u001b[0m\u001b]8;;\u001b\\\n"
      ]
     },
     "metadata": {},
     "output_type": "display_data"
    },
    {
     "data": {
      "text/html": [
       "<pre style=\"white-space:pre;overflow-x:auto;line-height:normal;font-family:Menlo,'DejaVu Sans Mono',consolas,'Courier New',monospace\"><span style=\"color: #7fbfbf; text-decoration-color: #7fbfbf\">                    </span><span style=\"color: #000080; text-decoration-color: #000080\">INFO    </span> <span style=\"font-weight: bold\">[</span><span style=\"color: #008080; text-decoration-color: #008080; font-weight: bold\">46</span>/<span style=\"color: #008080; text-decoration-color: #008080; font-weight: bold\">308</span><span style=\"font-weight: bold\">]</span> Retrieving game with <span style=\"color: #808000; text-decoration-color: #808000\">id</span>=<span style=\"color: #800080; text-decoration-color: #800080\">e7c061a0</span>                                 <a href=\"file:///home/codespace/.local/lib/python3.12/site-packages/fbrefdata/fbref.py\" target=\"_blank\"><span style=\"color: #7f7f7f; text-decoration-color: #7f7f7f\">fbref.py</span></a><span style=\"color: #7f7f7f; text-decoration-color: #7f7f7f\">:</span><a href=\"file:///home/codespace/.local/lib/python3.12/site-packages/fbrefdata/fbref.py#927\" target=\"_blank\"><span style=\"color: #7f7f7f; text-decoration-color: #7f7f7f\">927</span></a>\n",
       "</pre>\n"
      ],
      "text/plain": [
       "\u001b[2;36m                   \u001b[0m\u001b[2;36m \u001b[0m\u001b[34mINFO    \u001b[0m \u001b[1m[\u001b[0m\u001b[1;36m46\u001b[0m/\u001b[1;36m308\u001b[0m\u001b[1m]\u001b[0m Retrieving game with \u001b[33mid\u001b[0m=\u001b[35me7c061a0\u001b[0m                                 \u001b]8;id=867994;file:///home/codespace/.local/lib/python3.12/site-packages/fbrefdata/fbref.py\u001b\\\u001b[2mfbref.py\u001b[0m\u001b]8;;\u001b\\\u001b[2m:\u001b[0m\u001b]8;id=653639;file:///home/codespace/.local/lib/python3.12/site-packages/fbrefdata/fbref.py#927\u001b\\\u001b[2m927\u001b[0m\u001b]8;;\u001b\\\n"
      ]
     },
     "metadata": {},
     "output_type": "display_data"
    },
    {
     "data": {
      "text/html": [
       "<pre style=\"white-space:pre;overflow-x:auto;line-height:normal;font-family:Menlo,'DejaVu Sans Mono',consolas,'Courier New',monospace\"><span style=\"color: #7fbfbf; text-decoration-color: #7fbfbf\">                    </span><span style=\"color: #000080; text-decoration-color: #000080\">INFO    </span> <span style=\"font-weight: bold\">[</span><span style=\"color: #008080; text-decoration-color: #008080; font-weight: bold\">47</span>/<span style=\"color: #008080; text-decoration-color: #008080; font-weight: bold\">308</span><span style=\"font-weight: bold\">]</span> Retrieving game with <span style=\"color: #808000; text-decoration-color: #808000\">id</span>=<span style=\"color: #800080; text-decoration-color: #800080\">96ae2bee</span>                                 <a href=\"file:///home/codespace/.local/lib/python3.12/site-packages/fbrefdata/fbref.py\" target=\"_blank\"><span style=\"color: #7f7f7f; text-decoration-color: #7f7f7f\">fbref.py</span></a><span style=\"color: #7f7f7f; text-decoration-color: #7f7f7f\">:</span><a href=\"file:///home/codespace/.local/lib/python3.12/site-packages/fbrefdata/fbref.py#927\" target=\"_blank\"><span style=\"color: #7f7f7f; text-decoration-color: #7f7f7f\">927</span></a>\n",
       "</pre>\n"
      ],
      "text/plain": [
       "\u001b[2;36m                   \u001b[0m\u001b[2;36m \u001b[0m\u001b[34mINFO    \u001b[0m \u001b[1m[\u001b[0m\u001b[1;36m47\u001b[0m/\u001b[1;36m308\u001b[0m\u001b[1m]\u001b[0m Retrieving game with \u001b[33mid\u001b[0m=\u001b[35m96ae2bee\u001b[0m                                 \u001b]8;id=169378;file:///home/codespace/.local/lib/python3.12/site-packages/fbrefdata/fbref.py\u001b\\\u001b[2mfbref.py\u001b[0m\u001b]8;;\u001b\\\u001b[2m:\u001b[0m\u001b]8;id=132989;file:///home/codespace/.local/lib/python3.12/site-packages/fbrefdata/fbref.py#927\u001b\\\u001b[2m927\u001b[0m\u001b]8;;\u001b\\\n"
      ]
     },
     "metadata": {},
     "output_type": "display_data"
    },
    {
     "data": {
      "text/html": [
       "<pre style=\"white-space:pre;overflow-x:auto;line-height:normal;font-family:Menlo,'DejaVu Sans Mono',consolas,'Courier New',monospace\"><span style=\"color: #7fbfbf; text-decoration-color: #7fbfbf\">                    </span><span style=\"color: #000080; text-decoration-color: #000080\">INFO    </span> <span style=\"font-weight: bold\">[</span><span style=\"color: #008080; text-decoration-color: #008080; font-weight: bold\">48</span>/<span style=\"color: #008080; text-decoration-color: #008080; font-weight: bold\">308</span><span style=\"font-weight: bold\">]</span> Retrieving game with <span style=\"color: #808000; text-decoration-color: #808000\">id</span>=<span style=\"color: #800080; text-decoration-color: #800080\">2bdf2fcc</span>                                 <a href=\"file:///home/codespace/.local/lib/python3.12/site-packages/fbrefdata/fbref.py\" target=\"_blank\"><span style=\"color: #7f7f7f; text-decoration-color: #7f7f7f\">fbref.py</span></a><span style=\"color: #7f7f7f; text-decoration-color: #7f7f7f\">:</span><a href=\"file:///home/codespace/.local/lib/python3.12/site-packages/fbrefdata/fbref.py#927\" target=\"_blank\"><span style=\"color: #7f7f7f; text-decoration-color: #7f7f7f\">927</span></a>\n",
       "</pre>\n"
      ],
      "text/plain": [
       "\u001b[2;36m                   \u001b[0m\u001b[2;36m \u001b[0m\u001b[34mINFO    \u001b[0m \u001b[1m[\u001b[0m\u001b[1;36m48\u001b[0m/\u001b[1;36m308\u001b[0m\u001b[1m]\u001b[0m Retrieving game with \u001b[33mid\u001b[0m=\u001b[35m2bdf2fcc\u001b[0m                                 \u001b]8;id=462064;file:///home/codespace/.local/lib/python3.12/site-packages/fbrefdata/fbref.py\u001b\\\u001b[2mfbref.py\u001b[0m\u001b]8;;\u001b\\\u001b[2m:\u001b[0m\u001b]8;id=221960;file:///home/codespace/.local/lib/python3.12/site-packages/fbrefdata/fbref.py#927\u001b\\\u001b[2m927\u001b[0m\u001b]8;;\u001b\\\n"
      ]
     },
     "metadata": {},
     "output_type": "display_data"
    },
    {
     "data": {
      "text/html": [
       "<pre style=\"white-space:pre;overflow-x:auto;line-height:normal;font-family:Menlo,'DejaVu Sans Mono',consolas,'Courier New',monospace\"><span style=\"color: #7fbfbf; text-decoration-color: #7fbfbf\">                    </span><span style=\"color: #000080; text-decoration-color: #000080\">INFO    </span> <span style=\"font-weight: bold\">[</span><span style=\"color: #008080; text-decoration-color: #008080; font-weight: bold\">49</span>/<span style=\"color: #008080; text-decoration-color: #008080; font-weight: bold\">308</span><span style=\"font-weight: bold\">]</span> Retrieving game with <span style=\"color: #808000; text-decoration-color: #808000\">id</span>=<span style=\"color: #800080; text-decoration-color: #800080\">0b235a19</span>                                 <a href=\"file:///home/codespace/.local/lib/python3.12/site-packages/fbrefdata/fbref.py\" target=\"_blank\"><span style=\"color: #7f7f7f; text-decoration-color: #7f7f7f\">fbref.py</span></a><span style=\"color: #7f7f7f; text-decoration-color: #7f7f7f\">:</span><a href=\"file:///home/codespace/.local/lib/python3.12/site-packages/fbrefdata/fbref.py#927\" target=\"_blank\"><span style=\"color: #7f7f7f; text-decoration-color: #7f7f7f\">927</span></a>\n",
       "</pre>\n"
      ],
      "text/plain": [
       "\u001b[2;36m                   \u001b[0m\u001b[2;36m \u001b[0m\u001b[34mINFO    \u001b[0m \u001b[1m[\u001b[0m\u001b[1;36m49\u001b[0m/\u001b[1;36m308\u001b[0m\u001b[1m]\u001b[0m Retrieving game with \u001b[33mid\u001b[0m=\u001b[35m0b235a19\u001b[0m                                 \u001b]8;id=305192;file:///home/codespace/.local/lib/python3.12/site-packages/fbrefdata/fbref.py\u001b\\\u001b[2mfbref.py\u001b[0m\u001b]8;;\u001b\\\u001b[2m:\u001b[0m\u001b]8;id=972088;file:///home/codespace/.local/lib/python3.12/site-packages/fbrefdata/fbref.py#927\u001b\\\u001b[2m927\u001b[0m\u001b]8;;\u001b\\\n"
      ]
     },
     "metadata": {},
     "output_type": "display_data"
    },
    {
     "data": {
      "text/html": [
       "<pre style=\"white-space:pre;overflow-x:auto;line-height:normal;font-family:Menlo,'DejaVu Sans Mono',consolas,'Courier New',monospace\"><span style=\"color: #7fbfbf; text-decoration-color: #7fbfbf\">                    </span><span style=\"color: #000080; text-decoration-color: #000080\">INFO    </span> <span style=\"font-weight: bold\">[</span><span style=\"color: #008080; text-decoration-color: #008080; font-weight: bold\">50</span>/<span style=\"color: #008080; text-decoration-color: #008080; font-weight: bold\">308</span><span style=\"font-weight: bold\">]</span> Retrieving game with <span style=\"color: #808000; text-decoration-color: #808000\">id</span>=<span style=\"color: #800080; text-decoration-color: #800080\">6a6c8aec</span>                                 <a href=\"file:///home/codespace/.local/lib/python3.12/site-packages/fbrefdata/fbref.py\" target=\"_blank\"><span style=\"color: #7f7f7f; text-decoration-color: #7f7f7f\">fbref.py</span></a><span style=\"color: #7f7f7f; text-decoration-color: #7f7f7f\">:</span><a href=\"file:///home/codespace/.local/lib/python3.12/site-packages/fbrefdata/fbref.py#927\" target=\"_blank\"><span style=\"color: #7f7f7f; text-decoration-color: #7f7f7f\">927</span></a>\n",
       "</pre>\n"
      ],
      "text/plain": [
       "\u001b[2;36m                   \u001b[0m\u001b[2;36m \u001b[0m\u001b[34mINFO    \u001b[0m \u001b[1m[\u001b[0m\u001b[1;36m50\u001b[0m/\u001b[1;36m308\u001b[0m\u001b[1m]\u001b[0m Retrieving game with \u001b[33mid\u001b[0m=\u001b[35m6a6c8aec\u001b[0m                                 \u001b]8;id=812524;file:///home/codespace/.local/lib/python3.12/site-packages/fbrefdata/fbref.py\u001b\\\u001b[2mfbref.py\u001b[0m\u001b]8;;\u001b\\\u001b[2m:\u001b[0m\u001b]8;id=491898;file:///home/codespace/.local/lib/python3.12/site-packages/fbrefdata/fbref.py#927\u001b\\\u001b[2m927\u001b[0m\u001b]8;;\u001b\\\n"
      ]
     },
     "metadata": {},
     "output_type": "display_data"
    },
    {
     "data": {
      "text/html": [
       "<pre style=\"white-space:pre;overflow-x:auto;line-height:normal;font-family:Menlo,'DejaVu Sans Mono',consolas,'Courier New',monospace\"><span style=\"color: #7fbfbf; text-decoration-color: #7fbfbf\">                    </span><span style=\"color: #000080; text-decoration-color: #000080\">INFO    </span> <span style=\"font-weight: bold\">[</span><span style=\"color: #008080; text-decoration-color: #008080; font-weight: bold\">51</span>/<span style=\"color: #008080; text-decoration-color: #008080; font-weight: bold\">308</span><span style=\"font-weight: bold\">]</span> Retrieving game with <span style=\"color: #808000; text-decoration-color: #808000\">id</span>=<span style=\"color: #800080; text-decoration-color: #800080\">7c7206ed</span>                                 <a href=\"file:///home/codespace/.local/lib/python3.12/site-packages/fbrefdata/fbref.py\" target=\"_blank\"><span style=\"color: #7f7f7f; text-decoration-color: #7f7f7f\">fbref.py</span></a><span style=\"color: #7f7f7f; text-decoration-color: #7f7f7f\">:</span><a href=\"file:///home/codespace/.local/lib/python3.12/site-packages/fbrefdata/fbref.py#927\" target=\"_blank\"><span style=\"color: #7f7f7f; text-decoration-color: #7f7f7f\">927</span></a>\n",
       "</pre>\n"
      ],
      "text/plain": [
       "\u001b[2;36m                   \u001b[0m\u001b[2;36m \u001b[0m\u001b[34mINFO    \u001b[0m \u001b[1m[\u001b[0m\u001b[1;36m51\u001b[0m/\u001b[1;36m308\u001b[0m\u001b[1m]\u001b[0m Retrieving game with \u001b[33mid\u001b[0m=\u001b[35m7c7206ed\u001b[0m                                 \u001b]8;id=474684;file:///home/codespace/.local/lib/python3.12/site-packages/fbrefdata/fbref.py\u001b\\\u001b[2mfbref.py\u001b[0m\u001b]8;;\u001b\\\u001b[2m:\u001b[0m\u001b]8;id=349778;file:///home/codespace/.local/lib/python3.12/site-packages/fbrefdata/fbref.py#927\u001b\\\u001b[2m927\u001b[0m\u001b]8;;\u001b\\\n"
      ]
     },
     "metadata": {},
     "output_type": "display_data"
    },
    {
     "data": {
      "text/html": [
       "<pre style=\"white-space:pre;overflow-x:auto;line-height:normal;font-family:Menlo,'DejaVu Sans Mono',consolas,'Courier New',monospace\"><span style=\"color: #7fbfbf; text-decoration-color: #7fbfbf\">                    </span><span style=\"color: #000080; text-decoration-color: #000080\">INFO    </span> <span style=\"font-weight: bold\">[</span><span style=\"color: #008080; text-decoration-color: #008080; font-weight: bold\">52</span>/<span style=\"color: #008080; text-decoration-color: #008080; font-weight: bold\">308</span><span style=\"font-weight: bold\">]</span> Retrieving game with <span style=\"color: #808000; text-decoration-color: #808000\">id</span>=<span style=\"color: #800080; text-decoration-color: #800080\">6fe64a38</span>                                 <a href=\"file:///home/codespace/.local/lib/python3.12/site-packages/fbrefdata/fbref.py\" target=\"_blank\"><span style=\"color: #7f7f7f; text-decoration-color: #7f7f7f\">fbref.py</span></a><span style=\"color: #7f7f7f; text-decoration-color: #7f7f7f\">:</span><a href=\"file:///home/codespace/.local/lib/python3.12/site-packages/fbrefdata/fbref.py#927\" target=\"_blank\"><span style=\"color: #7f7f7f; text-decoration-color: #7f7f7f\">927</span></a>\n",
       "</pre>\n"
      ],
      "text/plain": [
       "\u001b[2;36m                   \u001b[0m\u001b[2;36m \u001b[0m\u001b[34mINFO    \u001b[0m \u001b[1m[\u001b[0m\u001b[1;36m52\u001b[0m/\u001b[1;36m308\u001b[0m\u001b[1m]\u001b[0m Retrieving game with \u001b[33mid\u001b[0m=\u001b[35m6fe64a38\u001b[0m                                 \u001b]8;id=767607;file:///home/codespace/.local/lib/python3.12/site-packages/fbrefdata/fbref.py\u001b\\\u001b[2mfbref.py\u001b[0m\u001b]8;;\u001b\\\u001b[2m:\u001b[0m\u001b]8;id=283488;file:///home/codespace/.local/lib/python3.12/site-packages/fbrefdata/fbref.py#927\u001b\\\u001b[2m927\u001b[0m\u001b]8;;\u001b\\\n"
      ]
     },
     "metadata": {},
     "output_type": "display_data"
    },
    {
     "data": {
      "text/html": [
       "<pre style=\"white-space:pre;overflow-x:auto;line-height:normal;font-family:Menlo,'DejaVu Sans Mono',consolas,'Courier New',monospace\"><span style=\"color: #7fbfbf; text-decoration-color: #7fbfbf\">                    </span><span style=\"color: #000080; text-decoration-color: #000080\">INFO    </span> <span style=\"font-weight: bold\">[</span><span style=\"color: #008080; text-decoration-color: #008080; font-weight: bold\">53</span>/<span style=\"color: #008080; text-decoration-color: #008080; font-weight: bold\">308</span><span style=\"font-weight: bold\">]</span> Retrieving game with <span style=\"color: #808000; text-decoration-color: #808000\">id</span>=<span style=\"color: #008080; text-decoration-color: #008080; font-weight: bold\">94984357</span>                                 <a href=\"file:///home/codespace/.local/lib/python3.12/site-packages/fbrefdata/fbref.py\" target=\"_blank\"><span style=\"color: #7f7f7f; text-decoration-color: #7f7f7f\">fbref.py</span></a><span style=\"color: #7f7f7f; text-decoration-color: #7f7f7f\">:</span><a href=\"file:///home/codespace/.local/lib/python3.12/site-packages/fbrefdata/fbref.py#927\" target=\"_blank\"><span style=\"color: #7f7f7f; text-decoration-color: #7f7f7f\">927</span></a>\n",
       "</pre>\n"
      ],
      "text/plain": [
       "\u001b[2;36m                   \u001b[0m\u001b[2;36m \u001b[0m\u001b[34mINFO    \u001b[0m \u001b[1m[\u001b[0m\u001b[1;36m53\u001b[0m/\u001b[1;36m308\u001b[0m\u001b[1m]\u001b[0m Retrieving game with \u001b[33mid\u001b[0m=\u001b[1;36m94984357\u001b[0m                                 \u001b]8;id=823203;file:///home/codespace/.local/lib/python3.12/site-packages/fbrefdata/fbref.py\u001b\\\u001b[2mfbref.py\u001b[0m\u001b]8;;\u001b\\\u001b[2m:\u001b[0m\u001b]8;id=658248;file:///home/codespace/.local/lib/python3.12/site-packages/fbrefdata/fbref.py#927\u001b\\\u001b[2m927\u001b[0m\u001b]8;;\u001b\\\n"
      ]
     },
     "metadata": {},
     "output_type": "display_data"
    },
    {
     "data": {
      "text/html": [
       "<pre style=\"white-space:pre;overflow-x:auto;line-height:normal;font-family:Menlo,'DejaVu Sans Mono',consolas,'Courier New',monospace\"><span style=\"color: #7fbfbf; text-decoration-color: #7fbfbf\">                    </span><span style=\"color: #000080; text-decoration-color: #000080\">INFO    </span> <span style=\"font-weight: bold\">[</span><span style=\"color: #008080; text-decoration-color: #008080; font-weight: bold\">54</span>/<span style=\"color: #008080; text-decoration-color: #008080; font-weight: bold\">308</span><span style=\"font-weight: bold\">]</span> Retrieving game with <span style=\"color: #808000; text-decoration-color: #808000\">id</span>=<span style=\"color: #800080; text-decoration-color: #800080\">fb015b0b</span>                                 <a href=\"file:///home/codespace/.local/lib/python3.12/site-packages/fbrefdata/fbref.py\" target=\"_blank\"><span style=\"color: #7f7f7f; text-decoration-color: #7f7f7f\">fbref.py</span></a><span style=\"color: #7f7f7f; text-decoration-color: #7f7f7f\">:</span><a href=\"file:///home/codespace/.local/lib/python3.12/site-packages/fbrefdata/fbref.py#927\" target=\"_blank\"><span style=\"color: #7f7f7f; text-decoration-color: #7f7f7f\">927</span></a>\n",
       "</pre>\n"
      ],
      "text/plain": [
       "\u001b[2;36m                   \u001b[0m\u001b[2;36m \u001b[0m\u001b[34mINFO    \u001b[0m \u001b[1m[\u001b[0m\u001b[1;36m54\u001b[0m/\u001b[1;36m308\u001b[0m\u001b[1m]\u001b[0m Retrieving game with \u001b[33mid\u001b[0m=\u001b[35mfb015b0b\u001b[0m                                 \u001b]8;id=521774;file:///home/codespace/.local/lib/python3.12/site-packages/fbrefdata/fbref.py\u001b\\\u001b[2mfbref.py\u001b[0m\u001b]8;;\u001b\\\u001b[2m:\u001b[0m\u001b]8;id=89108;file:///home/codespace/.local/lib/python3.12/site-packages/fbrefdata/fbref.py#927\u001b\\\u001b[2m927\u001b[0m\u001b]8;;\u001b\\\n"
      ]
     },
     "metadata": {},
     "output_type": "display_data"
    },
    {
     "data": {
      "text/html": [
       "<pre style=\"white-space:pre;overflow-x:auto;line-height:normal;font-family:Menlo,'DejaVu Sans Mono',consolas,'Courier New',monospace\"><span style=\"color: #7fbfbf; text-decoration-color: #7fbfbf\">                    </span><span style=\"color: #000080; text-decoration-color: #000080\">INFO    </span> <span style=\"font-weight: bold\">[</span><span style=\"color: #008080; text-decoration-color: #008080; font-weight: bold\">55</span>/<span style=\"color: #008080; text-decoration-color: #008080; font-weight: bold\">308</span><span style=\"font-weight: bold\">]</span> Retrieving game with <span style=\"color: #808000; text-decoration-color: #808000\">id</span>=<span style=\"color: #800080; text-decoration-color: #800080\">8352703b</span>                                 <a href=\"file:///home/codespace/.local/lib/python3.12/site-packages/fbrefdata/fbref.py\" target=\"_blank\"><span style=\"color: #7f7f7f; text-decoration-color: #7f7f7f\">fbref.py</span></a><span style=\"color: #7f7f7f; text-decoration-color: #7f7f7f\">:</span><a href=\"file:///home/codespace/.local/lib/python3.12/site-packages/fbrefdata/fbref.py#927\" target=\"_blank\"><span style=\"color: #7f7f7f; text-decoration-color: #7f7f7f\">927</span></a>\n",
       "</pre>\n"
      ],
      "text/plain": [
       "\u001b[2;36m                   \u001b[0m\u001b[2;36m \u001b[0m\u001b[34mINFO    \u001b[0m \u001b[1m[\u001b[0m\u001b[1;36m55\u001b[0m/\u001b[1;36m308\u001b[0m\u001b[1m]\u001b[0m Retrieving game with \u001b[33mid\u001b[0m=\u001b[35m8352703b\u001b[0m                                 \u001b]8;id=446093;file:///home/codespace/.local/lib/python3.12/site-packages/fbrefdata/fbref.py\u001b\\\u001b[2mfbref.py\u001b[0m\u001b]8;;\u001b\\\u001b[2m:\u001b[0m\u001b]8;id=751932;file:///home/codespace/.local/lib/python3.12/site-packages/fbrefdata/fbref.py#927\u001b\\\u001b[2m927\u001b[0m\u001b]8;;\u001b\\\n"
      ]
     },
     "metadata": {},
     "output_type": "display_data"
    },
    {
     "data": {
      "text/html": [
       "<pre style=\"white-space:pre;overflow-x:auto;line-height:normal;font-family:Menlo,'DejaVu Sans Mono',consolas,'Courier New',monospace\"><span style=\"color: #7fbfbf; text-decoration-color: #7fbfbf\">                    </span><span style=\"color: #000080; text-decoration-color: #000080\">INFO    </span> <span style=\"font-weight: bold\">[</span><span style=\"color: #008080; text-decoration-color: #008080; font-weight: bold\">56</span>/<span style=\"color: #008080; text-decoration-color: #008080; font-weight: bold\">308</span><span style=\"font-weight: bold\">]</span> Retrieving game with <span style=\"color: #808000; text-decoration-color: #808000\">id</span>=<span style=\"color: #800080; text-decoration-color: #800080\">46ddc6a2</span>                                 <a href=\"file:///home/codespace/.local/lib/python3.12/site-packages/fbrefdata/fbref.py\" target=\"_blank\"><span style=\"color: #7f7f7f; text-decoration-color: #7f7f7f\">fbref.py</span></a><span style=\"color: #7f7f7f; text-decoration-color: #7f7f7f\">:</span><a href=\"file:///home/codespace/.local/lib/python3.12/site-packages/fbrefdata/fbref.py#927\" target=\"_blank\"><span style=\"color: #7f7f7f; text-decoration-color: #7f7f7f\">927</span></a>\n",
       "</pre>\n"
      ],
      "text/plain": [
       "\u001b[2;36m                   \u001b[0m\u001b[2;36m \u001b[0m\u001b[34mINFO    \u001b[0m \u001b[1m[\u001b[0m\u001b[1;36m56\u001b[0m/\u001b[1;36m308\u001b[0m\u001b[1m]\u001b[0m Retrieving game with \u001b[33mid\u001b[0m=\u001b[35m46ddc6a2\u001b[0m                                 \u001b]8;id=414719;file:///home/codespace/.local/lib/python3.12/site-packages/fbrefdata/fbref.py\u001b\\\u001b[2mfbref.py\u001b[0m\u001b]8;;\u001b\\\u001b[2m:\u001b[0m\u001b]8;id=504962;file:///home/codespace/.local/lib/python3.12/site-packages/fbrefdata/fbref.py#927\u001b\\\u001b[2m927\u001b[0m\u001b]8;;\u001b\\\n"
      ]
     },
     "metadata": {},
     "output_type": "display_data"
    },
    {
     "data": {
      "text/html": [
       "<pre style=\"white-space:pre;overflow-x:auto;line-height:normal;font-family:Menlo,'DejaVu Sans Mono',consolas,'Courier New',monospace\"><span style=\"color: #7fbfbf; text-decoration-color: #7fbfbf\">                    </span><span style=\"color: #000080; text-decoration-color: #000080\">INFO    </span> <span style=\"font-weight: bold\">[</span><span style=\"color: #008080; text-decoration-color: #008080; font-weight: bold\">57</span>/<span style=\"color: #008080; text-decoration-color: #008080; font-weight: bold\">308</span><span style=\"font-weight: bold\">]</span> Retrieving game with <span style=\"color: #808000; text-decoration-color: #808000\">id</span>=<span style=\"color: #800080; text-decoration-color: #800080\">ec674186</span>                                 <a href=\"file:///home/codespace/.local/lib/python3.12/site-packages/fbrefdata/fbref.py\" target=\"_blank\"><span style=\"color: #7f7f7f; text-decoration-color: #7f7f7f\">fbref.py</span></a><span style=\"color: #7f7f7f; text-decoration-color: #7f7f7f\">:</span><a href=\"file:///home/codespace/.local/lib/python3.12/site-packages/fbrefdata/fbref.py#927\" target=\"_blank\"><span style=\"color: #7f7f7f; text-decoration-color: #7f7f7f\">927</span></a>\n",
       "</pre>\n"
      ],
      "text/plain": [
       "\u001b[2;36m                   \u001b[0m\u001b[2;36m \u001b[0m\u001b[34mINFO    \u001b[0m \u001b[1m[\u001b[0m\u001b[1;36m57\u001b[0m/\u001b[1;36m308\u001b[0m\u001b[1m]\u001b[0m Retrieving game with \u001b[33mid\u001b[0m=\u001b[35mec674186\u001b[0m                                 \u001b]8;id=449032;file:///home/codespace/.local/lib/python3.12/site-packages/fbrefdata/fbref.py\u001b\\\u001b[2mfbref.py\u001b[0m\u001b]8;;\u001b\\\u001b[2m:\u001b[0m\u001b]8;id=287525;file:///home/codespace/.local/lib/python3.12/site-packages/fbrefdata/fbref.py#927\u001b\\\u001b[2m927\u001b[0m\u001b]8;;\u001b\\\n"
      ]
     },
     "metadata": {},
     "output_type": "display_data"
    },
    {
     "data": {
      "text/html": [
       "<pre style=\"white-space:pre;overflow-x:auto;line-height:normal;font-family:Menlo,'DejaVu Sans Mono',consolas,'Courier New',monospace\"><span style=\"color: #7fbfbf; text-decoration-color: #7fbfbf\">                    </span><span style=\"color: #000080; text-decoration-color: #000080\">INFO    </span> <span style=\"font-weight: bold\">[</span><span style=\"color: #008080; text-decoration-color: #008080; font-weight: bold\">58</span>/<span style=\"color: #008080; text-decoration-color: #008080; font-weight: bold\">308</span><span style=\"font-weight: bold\">]</span> Retrieving game with <span style=\"color: #808000; text-decoration-color: #808000\">id</span>=<span style=\"color: #800080; text-decoration-color: #800080\">f12d89c7</span>                                 <a href=\"file:///home/codespace/.local/lib/python3.12/site-packages/fbrefdata/fbref.py\" target=\"_blank\"><span style=\"color: #7f7f7f; text-decoration-color: #7f7f7f\">fbref.py</span></a><span style=\"color: #7f7f7f; text-decoration-color: #7f7f7f\">:</span><a href=\"file:///home/codespace/.local/lib/python3.12/site-packages/fbrefdata/fbref.py#927\" target=\"_blank\"><span style=\"color: #7f7f7f; text-decoration-color: #7f7f7f\">927</span></a>\n",
       "</pre>\n"
      ],
      "text/plain": [
       "\u001b[2;36m                   \u001b[0m\u001b[2;36m \u001b[0m\u001b[34mINFO    \u001b[0m \u001b[1m[\u001b[0m\u001b[1;36m58\u001b[0m/\u001b[1;36m308\u001b[0m\u001b[1m]\u001b[0m Retrieving game with \u001b[33mid\u001b[0m=\u001b[35mf12d89c7\u001b[0m                                 \u001b]8;id=183190;file:///home/codespace/.local/lib/python3.12/site-packages/fbrefdata/fbref.py\u001b\\\u001b[2mfbref.py\u001b[0m\u001b]8;;\u001b\\\u001b[2m:\u001b[0m\u001b]8;id=108210;file:///home/codespace/.local/lib/python3.12/site-packages/fbrefdata/fbref.py#927\u001b\\\u001b[2m927\u001b[0m\u001b]8;;\u001b\\\n"
      ]
     },
     "metadata": {},
     "output_type": "display_data"
    },
    {
     "data": {
      "text/html": [
       "<pre style=\"white-space:pre;overflow-x:auto;line-height:normal;font-family:Menlo,'DejaVu Sans Mono',consolas,'Courier New',monospace\"><span style=\"color: #7fbfbf; text-decoration-color: #7fbfbf\">                    </span><span style=\"color: #000080; text-decoration-color: #000080\">INFO    </span> <span style=\"font-weight: bold\">[</span><span style=\"color: #008080; text-decoration-color: #008080; font-weight: bold\">59</span>/<span style=\"color: #008080; text-decoration-color: #008080; font-weight: bold\">308</span><span style=\"font-weight: bold\">]</span> Retrieving game with <span style=\"color: #808000; text-decoration-color: #808000\">id</span>=<span style=\"color: #800080; text-decoration-color: #800080\">8d222b37</span>                                 <a href=\"file:///home/codespace/.local/lib/python3.12/site-packages/fbrefdata/fbref.py\" target=\"_blank\"><span style=\"color: #7f7f7f; text-decoration-color: #7f7f7f\">fbref.py</span></a><span style=\"color: #7f7f7f; text-decoration-color: #7f7f7f\">:</span><a href=\"file:///home/codespace/.local/lib/python3.12/site-packages/fbrefdata/fbref.py#927\" target=\"_blank\"><span style=\"color: #7f7f7f; text-decoration-color: #7f7f7f\">927</span></a>\n",
       "</pre>\n"
      ],
      "text/plain": [
       "\u001b[2;36m                   \u001b[0m\u001b[2;36m \u001b[0m\u001b[34mINFO    \u001b[0m \u001b[1m[\u001b[0m\u001b[1;36m59\u001b[0m/\u001b[1;36m308\u001b[0m\u001b[1m]\u001b[0m Retrieving game with \u001b[33mid\u001b[0m=\u001b[35m8d222b37\u001b[0m                                 \u001b]8;id=342420;file:///home/codespace/.local/lib/python3.12/site-packages/fbrefdata/fbref.py\u001b\\\u001b[2mfbref.py\u001b[0m\u001b]8;;\u001b\\\u001b[2m:\u001b[0m\u001b]8;id=423280;file:///home/codespace/.local/lib/python3.12/site-packages/fbrefdata/fbref.py#927\u001b\\\u001b[2m927\u001b[0m\u001b]8;;\u001b\\\n"
      ]
     },
     "metadata": {},
     "output_type": "display_data"
    },
    {
     "data": {
      "text/html": [
       "<pre style=\"white-space:pre;overflow-x:auto;line-height:normal;font-family:Menlo,'DejaVu Sans Mono',consolas,'Courier New',monospace\"><span style=\"color: #7fbfbf; text-decoration-color: #7fbfbf\">                    </span><span style=\"color: #000080; text-decoration-color: #000080\">INFO    </span> <span style=\"font-weight: bold\">[</span><span style=\"color: #008080; text-decoration-color: #008080; font-weight: bold\">60</span>/<span style=\"color: #008080; text-decoration-color: #008080; font-weight: bold\">308</span><span style=\"font-weight: bold\">]</span> Retrieving game with <span style=\"color: #808000; text-decoration-color: #808000\">id</span>=<span style=\"color: #800080; text-decoration-color: #800080\">a25b620f</span>                                 <a href=\"file:///home/codespace/.local/lib/python3.12/site-packages/fbrefdata/fbref.py\" target=\"_blank\"><span style=\"color: #7f7f7f; text-decoration-color: #7f7f7f\">fbref.py</span></a><span style=\"color: #7f7f7f; text-decoration-color: #7f7f7f\">:</span><a href=\"file:///home/codespace/.local/lib/python3.12/site-packages/fbrefdata/fbref.py#927\" target=\"_blank\"><span style=\"color: #7f7f7f; text-decoration-color: #7f7f7f\">927</span></a>\n",
       "</pre>\n"
      ],
      "text/plain": [
       "\u001b[2;36m                   \u001b[0m\u001b[2;36m \u001b[0m\u001b[34mINFO    \u001b[0m \u001b[1m[\u001b[0m\u001b[1;36m60\u001b[0m/\u001b[1;36m308\u001b[0m\u001b[1m]\u001b[0m Retrieving game with \u001b[33mid\u001b[0m=\u001b[35ma25b620f\u001b[0m                                 \u001b]8;id=316888;file:///home/codespace/.local/lib/python3.12/site-packages/fbrefdata/fbref.py\u001b\\\u001b[2mfbref.py\u001b[0m\u001b]8;;\u001b\\\u001b[2m:\u001b[0m\u001b]8;id=565647;file:///home/codespace/.local/lib/python3.12/site-packages/fbrefdata/fbref.py#927\u001b\\\u001b[2m927\u001b[0m\u001b]8;;\u001b\\\n"
      ]
     },
     "metadata": {},
     "output_type": "display_data"
    },
    {
     "data": {
      "text/html": [
       "<pre style=\"white-space:pre;overflow-x:auto;line-height:normal;font-family:Menlo,'DejaVu Sans Mono',consolas,'Courier New',monospace\"><span style=\"color: #7fbfbf; text-decoration-color: #7fbfbf\">                    </span><span style=\"color: #000080; text-decoration-color: #000080\">INFO    </span> <span style=\"font-weight: bold\">[</span><span style=\"color: #008080; text-decoration-color: #008080; font-weight: bold\">61</span>/<span style=\"color: #008080; text-decoration-color: #008080; font-weight: bold\">308</span><span style=\"font-weight: bold\">]</span> Retrieving game with <span style=\"color: #808000; text-decoration-color: #808000\">id</span>=<span style=\"color: #800080; text-decoration-color: #800080\">38dda32f</span>                                 <a href=\"file:///home/codespace/.local/lib/python3.12/site-packages/fbrefdata/fbref.py\" target=\"_blank\"><span style=\"color: #7f7f7f; text-decoration-color: #7f7f7f\">fbref.py</span></a><span style=\"color: #7f7f7f; text-decoration-color: #7f7f7f\">:</span><a href=\"file:///home/codespace/.local/lib/python3.12/site-packages/fbrefdata/fbref.py#927\" target=\"_blank\"><span style=\"color: #7f7f7f; text-decoration-color: #7f7f7f\">927</span></a>\n",
       "</pre>\n"
      ],
      "text/plain": [
       "\u001b[2;36m                   \u001b[0m\u001b[2;36m \u001b[0m\u001b[34mINFO    \u001b[0m \u001b[1m[\u001b[0m\u001b[1;36m61\u001b[0m/\u001b[1;36m308\u001b[0m\u001b[1m]\u001b[0m Retrieving game with \u001b[33mid\u001b[0m=\u001b[35m38dda32f\u001b[0m                                 \u001b]8;id=936141;file:///home/codespace/.local/lib/python3.12/site-packages/fbrefdata/fbref.py\u001b\\\u001b[2mfbref.py\u001b[0m\u001b]8;;\u001b\\\u001b[2m:\u001b[0m\u001b]8;id=520132;file:///home/codespace/.local/lib/python3.12/site-packages/fbrefdata/fbref.py#927\u001b\\\u001b[2m927\u001b[0m\u001b]8;;\u001b\\\n"
      ]
     },
     "metadata": {},
     "output_type": "display_data"
    },
    {
     "data": {
      "text/html": [
       "<pre style=\"white-space:pre;overflow-x:auto;line-height:normal;font-family:Menlo,'DejaVu Sans Mono',consolas,'Courier New',monospace\"><span style=\"color: #7fbfbf; text-decoration-color: #7fbfbf\">                    </span><span style=\"color: #000080; text-decoration-color: #000080\">INFO    </span> <span style=\"font-weight: bold\">[</span><span style=\"color: #008080; text-decoration-color: #008080; font-weight: bold\">62</span>/<span style=\"color: #008080; text-decoration-color: #008080; font-weight: bold\">308</span><span style=\"font-weight: bold\">]</span> Retrieving game with <span style=\"color: #808000; text-decoration-color: #808000\">id</span>=<span style=\"color: #800080; text-decoration-color: #800080\">71df6f3d</span>                                 <a href=\"file:///home/codespace/.local/lib/python3.12/site-packages/fbrefdata/fbref.py\" target=\"_blank\"><span style=\"color: #7f7f7f; text-decoration-color: #7f7f7f\">fbref.py</span></a><span style=\"color: #7f7f7f; text-decoration-color: #7f7f7f\">:</span><a href=\"file:///home/codespace/.local/lib/python3.12/site-packages/fbrefdata/fbref.py#927\" target=\"_blank\"><span style=\"color: #7f7f7f; text-decoration-color: #7f7f7f\">927</span></a>\n",
       "</pre>\n"
      ],
      "text/plain": [
       "\u001b[2;36m                   \u001b[0m\u001b[2;36m \u001b[0m\u001b[34mINFO    \u001b[0m \u001b[1m[\u001b[0m\u001b[1;36m62\u001b[0m/\u001b[1;36m308\u001b[0m\u001b[1m]\u001b[0m Retrieving game with \u001b[33mid\u001b[0m=\u001b[35m71df6f3d\u001b[0m                                 \u001b]8;id=700938;file:///home/codespace/.local/lib/python3.12/site-packages/fbrefdata/fbref.py\u001b\\\u001b[2mfbref.py\u001b[0m\u001b]8;;\u001b\\\u001b[2m:\u001b[0m\u001b]8;id=929246;file:///home/codespace/.local/lib/python3.12/site-packages/fbrefdata/fbref.py#927\u001b\\\u001b[2m927\u001b[0m\u001b]8;;\u001b\\\n"
      ]
     },
     "metadata": {},
     "output_type": "display_data"
    },
    {
     "data": {
      "text/html": [
       "<pre style=\"white-space:pre;overflow-x:auto;line-height:normal;font-family:Menlo,'DejaVu Sans Mono',consolas,'Courier New',monospace\"><span style=\"color: #7fbfbf; text-decoration-color: #7fbfbf\">                    </span><span style=\"color: #000080; text-decoration-color: #000080\">INFO    </span> <span style=\"font-weight: bold\">[</span><span style=\"color: #008080; text-decoration-color: #008080; font-weight: bold\">63</span>/<span style=\"color: #008080; text-decoration-color: #008080; font-weight: bold\">308</span><span style=\"font-weight: bold\">]</span> Retrieving game with <span style=\"color: #808000; text-decoration-color: #808000\">id</span>=<span style=\"color: #800080; text-decoration-color: #800080\">eec9aa71</span>                                 <a href=\"file:///home/codespace/.local/lib/python3.12/site-packages/fbrefdata/fbref.py\" target=\"_blank\"><span style=\"color: #7f7f7f; text-decoration-color: #7f7f7f\">fbref.py</span></a><span style=\"color: #7f7f7f; text-decoration-color: #7f7f7f\">:</span><a href=\"file:///home/codespace/.local/lib/python3.12/site-packages/fbrefdata/fbref.py#927\" target=\"_blank\"><span style=\"color: #7f7f7f; text-decoration-color: #7f7f7f\">927</span></a>\n",
       "</pre>\n"
      ],
      "text/plain": [
       "\u001b[2;36m                   \u001b[0m\u001b[2;36m \u001b[0m\u001b[34mINFO    \u001b[0m \u001b[1m[\u001b[0m\u001b[1;36m63\u001b[0m/\u001b[1;36m308\u001b[0m\u001b[1m]\u001b[0m Retrieving game with \u001b[33mid\u001b[0m=\u001b[35meec9aa71\u001b[0m                                 \u001b]8;id=253136;file:///home/codespace/.local/lib/python3.12/site-packages/fbrefdata/fbref.py\u001b\\\u001b[2mfbref.py\u001b[0m\u001b]8;;\u001b\\\u001b[2m:\u001b[0m\u001b]8;id=550367;file:///home/codespace/.local/lib/python3.12/site-packages/fbrefdata/fbref.py#927\u001b\\\u001b[2m927\u001b[0m\u001b]8;;\u001b\\\n"
      ]
     },
     "metadata": {},
     "output_type": "display_data"
    },
    {
     "data": {
      "text/html": [
       "<pre style=\"white-space:pre;overflow-x:auto;line-height:normal;font-family:Menlo,'DejaVu Sans Mono',consolas,'Courier New',monospace\"><span style=\"color: #7fbfbf; text-decoration-color: #7fbfbf\">                    </span><span style=\"color: #000080; text-decoration-color: #000080\">INFO    </span> <span style=\"font-weight: bold\">[</span><span style=\"color: #008080; text-decoration-color: #008080; font-weight: bold\">64</span>/<span style=\"color: #008080; text-decoration-color: #008080; font-weight: bold\">308</span><span style=\"font-weight: bold\">]</span> Retrieving game with <span style=\"color: #808000; text-decoration-color: #808000\">id</span>=<span style=\"color: #800080; text-decoration-color: #800080\">b80c1dd8</span>                                 <a href=\"file:///home/codespace/.local/lib/python3.12/site-packages/fbrefdata/fbref.py\" target=\"_blank\"><span style=\"color: #7f7f7f; text-decoration-color: #7f7f7f\">fbref.py</span></a><span style=\"color: #7f7f7f; text-decoration-color: #7f7f7f\">:</span><a href=\"file:///home/codespace/.local/lib/python3.12/site-packages/fbrefdata/fbref.py#927\" target=\"_blank\"><span style=\"color: #7f7f7f; text-decoration-color: #7f7f7f\">927</span></a>\n",
       "</pre>\n"
      ],
      "text/plain": [
       "\u001b[2;36m                   \u001b[0m\u001b[2;36m \u001b[0m\u001b[34mINFO    \u001b[0m \u001b[1m[\u001b[0m\u001b[1;36m64\u001b[0m/\u001b[1;36m308\u001b[0m\u001b[1m]\u001b[0m Retrieving game with \u001b[33mid\u001b[0m=\u001b[35mb80c1dd8\u001b[0m                                 \u001b]8;id=411348;file:///home/codespace/.local/lib/python3.12/site-packages/fbrefdata/fbref.py\u001b\\\u001b[2mfbref.py\u001b[0m\u001b]8;;\u001b\\\u001b[2m:\u001b[0m\u001b]8;id=177511;file:///home/codespace/.local/lib/python3.12/site-packages/fbrefdata/fbref.py#927\u001b\\\u001b[2m927\u001b[0m\u001b]8;;\u001b\\\n"
      ]
     },
     "metadata": {},
     "output_type": "display_data"
    },
    {
     "data": {
      "text/html": [
       "<pre style=\"white-space:pre;overflow-x:auto;line-height:normal;font-family:Menlo,'DejaVu Sans Mono',consolas,'Courier New',monospace\"><span style=\"color: #7fbfbf; text-decoration-color: #7fbfbf\">                    </span><span style=\"color: #000080; text-decoration-color: #000080\">INFO    </span> <span style=\"font-weight: bold\">[</span><span style=\"color: #008080; text-decoration-color: #008080; font-weight: bold\">65</span>/<span style=\"color: #008080; text-decoration-color: #008080; font-weight: bold\">308</span><span style=\"font-weight: bold\">]</span> Retrieving game with <span style=\"color: #808000; text-decoration-color: #808000\">id</span>=<span style=\"color: #800080; text-decoration-color: #800080\">f5b4d139</span>                                 <a href=\"file:///home/codespace/.local/lib/python3.12/site-packages/fbrefdata/fbref.py\" target=\"_blank\"><span style=\"color: #7f7f7f; text-decoration-color: #7f7f7f\">fbref.py</span></a><span style=\"color: #7f7f7f; text-decoration-color: #7f7f7f\">:</span><a href=\"file:///home/codespace/.local/lib/python3.12/site-packages/fbrefdata/fbref.py#927\" target=\"_blank\"><span style=\"color: #7f7f7f; text-decoration-color: #7f7f7f\">927</span></a>\n",
       "</pre>\n"
      ],
      "text/plain": [
       "\u001b[2;36m                   \u001b[0m\u001b[2;36m \u001b[0m\u001b[34mINFO    \u001b[0m \u001b[1m[\u001b[0m\u001b[1;36m65\u001b[0m/\u001b[1;36m308\u001b[0m\u001b[1m]\u001b[0m Retrieving game with \u001b[33mid\u001b[0m=\u001b[35mf5b4d139\u001b[0m                                 \u001b]8;id=508041;file:///home/codespace/.local/lib/python3.12/site-packages/fbrefdata/fbref.py\u001b\\\u001b[2mfbref.py\u001b[0m\u001b]8;;\u001b\\\u001b[2m:\u001b[0m\u001b]8;id=69067;file:///home/codespace/.local/lib/python3.12/site-packages/fbrefdata/fbref.py#927\u001b\\\u001b[2m927\u001b[0m\u001b]8;;\u001b\\\n"
      ]
     },
     "metadata": {},
     "output_type": "display_data"
    },
    {
     "data": {
      "text/html": [
       "<pre style=\"white-space:pre;overflow-x:auto;line-height:normal;font-family:Menlo,'DejaVu Sans Mono',consolas,'Courier New',monospace\"><span style=\"color: #7fbfbf; text-decoration-color: #7fbfbf\">                    </span><span style=\"color: #000080; text-decoration-color: #000080\">INFO    </span> <span style=\"font-weight: bold\">[</span><span style=\"color: #008080; text-decoration-color: #008080; font-weight: bold\">66</span>/<span style=\"color: #008080; text-decoration-color: #008080; font-weight: bold\">308</span><span style=\"font-weight: bold\">]</span> Retrieving game with <span style=\"color: #808000; text-decoration-color: #808000\">id</span>=<span style=\"color: #800080; text-decoration-color: #800080\">f8357e6a</span>                                 <a href=\"file:///home/codespace/.local/lib/python3.12/site-packages/fbrefdata/fbref.py\" target=\"_blank\"><span style=\"color: #7f7f7f; text-decoration-color: #7f7f7f\">fbref.py</span></a><span style=\"color: #7f7f7f; text-decoration-color: #7f7f7f\">:</span><a href=\"file:///home/codespace/.local/lib/python3.12/site-packages/fbrefdata/fbref.py#927\" target=\"_blank\"><span style=\"color: #7f7f7f; text-decoration-color: #7f7f7f\">927</span></a>\n",
       "</pre>\n"
      ],
      "text/plain": [
       "\u001b[2;36m                   \u001b[0m\u001b[2;36m \u001b[0m\u001b[34mINFO    \u001b[0m \u001b[1m[\u001b[0m\u001b[1;36m66\u001b[0m/\u001b[1;36m308\u001b[0m\u001b[1m]\u001b[0m Retrieving game with \u001b[33mid\u001b[0m=\u001b[35mf8357e6a\u001b[0m                                 \u001b]8;id=513866;file:///home/codespace/.local/lib/python3.12/site-packages/fbrefdata/fbref.py\u001b\\\u001b[2mfbref.py\u001b[0m\u001b]8;;\u001b\\\u001b[2m:\u001b[0m\u001b]8;id=605925;file:///home/codespace/.local/lib/python3.12/site-packages/fbrefdata/fbref.py#927\u001b\\\u001b[2m927\u001b[0m\u001b]8;;\u001b\\\n"
      ]
     },
     "metadata": {},
     "output_type": "display_data"
    },
    {
     "data": {
      "text/html": [
       "<pre style=\"white-space:pre;overflow-x:auto;line-height:normal;font-family:Menlo,'DejaVu Sans Mono',consolas,'Courier New',monospace\"><span style=\"color: #7fbfbf; text-decoration-color: #7fbfbf\">                    </span><span style=\"color: #000080; text-decoration-color: #000080\">INFO    </span> <span style=\"font-weight: bold\">[</span><span style=\"color: #008080; text-decoration-color: #008080; font-weight: bold\">67</span>/<span style=\"color: #008080; text-decoration-color: #008080; font-weight: bold\">308</span><span style=\"font-weight: bold\">]</span> Retrieving game with <span style=\"color: #808000; text-decoration-color: #808000\">id</span>=<span style=\"color: #800080; text-decoration-color: #800080\">02aa5acd</span>                                 <a href=\"file:///home/codespace/.local/lib/python3.12/site-packages/fbrefdata/fbref.py\" target=\"_blank\"><span style=\"color: #7f7f7f; text-decoration-color: #7f7f7f\">fbref.py</span></a><span style=\"color: #7f7f7f; text-decoration-color: #7f7f7f\">:</span><a href=\"file:///home/codespace/.local/lib/python3.12/site-packages/fbrefdata/fbref.py#927\" target=\"_blank\"><span style=\"color: #7f7f7f; text-decoration-color: #7f7f7f\">927</span></a>\n",
       "</pre>\n"
      ],
      "text/plain": [
       "\u001b[2;36m                   \u001b[0m\u001b[2;36m \u001b[0m\u001b[34mINFO    \u001b[0m \u001b[1m[\u001b[0m\u001b[1;36m67\u001b[0m/\u001b[1;36m308\u001b[0m\u001b[1m]\u001b[0m Retrieving game with \u001b[33mid\u001b[0m=\u001b[35m02aa5acd\u001b[0m                                 \u001b]8;id=161755;file:///home/codespace/.local/lib/python3.12/site-packages/fbrefdata/fbref.py\u001b\\\u001b[2mfbref.py\u001b[0m\u001b]8;;\u001b\\\u001b[2m:\u001b[0m\u001b]8;id=630010;file:///home/codespace/.local/lib/python3.12/site-packages/fbrefdata/fbref.py#927\u001b\\\u001b[2m927\u001b[0m\u001b]8;;\u001b\\\n"
      ]
     },
     "metadata": {},
     "output_type": "display_data"
    },
    {
     "data": {
      "text/html": [
       "<pre style=\"white-space:pre;overflow-x:auto;line-height:normal;font-family:Menlo,'DejaVu Sans Mono',consolas,'Courier New',monospace\"><span style=\"color: #7fbfbf; text-decoration-color: #7fbfbf\">                    </span><span style=\"color: #000080; text-decoration-color: #000080\">INFO    </span> <span style=\"font-weight: bold\">[</span><span style=\"color: #008080; text-decoration-color: #008080; font-weight: bold\">68</span>/<span style=\"color: #008080; text-decoration-color: #008080; font-weight: bold\">308</span><span style=\"font-weight: bold\">]</span> Retrieving game with <span style=\"color: #808000; text-decoration-color: #808000\">id</span>=<span style=\"color: #800080; text-decoration-color: #800080\">ab6f55a9</span>                                 <a href=\"file:///home/codespace/.local/lib/python3.12/site-packages/fbrefdata/fbref.py\" target=\"_blank\"><span style=\"color: #7f7f7f; text-decoration-color: #7f7f7f\">fbref.py</span></a><span style=\"color: #7f7f7f; text-decoration-color: #7f7f7f\">:</span><a href=\"file:///home/codespace/.local/lib/python3.12/site-packages/fbrefdata/fbref.py#927\" target=\"_blank\"><span style=\"color: #7f7f7f; text-decoration-color: #7f7f7f\">927</span></a>\n",
       "</pre>\n"
      ],
      "text/plain": [
       "\u001b[2;36m                   \u001b[0m\u001b[2;36m \u001b[0m\u001b[34mINFO    \u001b[0m \u001b[1m[\u001b[0m\u001b[1;36m68\u001b[0m/\u001b[1;36m308\u001b[0m\u001b[1m]\u001b[0m Retrieving game with \u001b[33mid\u001b[0m=\u001b[35mab6f55a9\u001b[0m                                 \u001b]8;id=252347;file:///home/codespace/.local/lib/python3.12/site-packages/fbrefdata/fbref.py\u001b\\\u001b[2mfbref.py\u001b[0m\u001b]8;;\u001b\\\u001b[2m:\u001b[0m\u001b]8;id=835074;file:///home/codespace/.local/lib/python3.12/site-packages/fbrefdata/fbref.py#927\u001b\\\u001b[2m927\u001b[0m\u001b]8;;\u001b\\\n"
      ]
     },
     "metadata": {},
     "output_type": "display_data"
    },
    {
     "data": {
      "text/html": [
       "<pre style=\"white-space:pre;overflow-x:auto;line-height:normal;font-family:Menlo,'DejaVu Sans Mono',consolas,'Courier New',monospace\"><span style=\"color: #7fbfbf; text-decoration-color: #7fbfbf\">                    </span><span style=\"color: #000080; text-decoration-color: #000080\">INFO    </span> <span style=\"font-weight: bold\">[</span><span style=\"color: #008080; text-decoration-color: #008080; font-weight: bold\">69</span>/<span style=\"color: #008080; text-decoration-color: #008080; font-weight: bold\">308</span><span style=\"font-weight: bold\">]</span> Retrieving game with <span style=\"color: #808000; text-decoration-color: #808000\">id</span>=<span style=\"color: #800080; text-decoration-color: #800080\">478c5305</span>                                 <a href=\"file:///home/codespace/.local/lib/python3.12/site-packages/fbrefdata/fbref.py\" target=\"_blank\"><span style=\"color: #7f7f7f; text-decoration-color: #7f7f7f\">fbref.py</span></a><span style=\"color: #7f7f7f; text-decoration-color: #7f7f7f\">:</span><a href=\"file:///home/codespace/.local/lib/python3.12/site-packages/fbrefdata/fbref.py#927\" target=\"_blank\"><span style=\"color: #7f7f7f; text-decoration-color: #7f7f7f\">927</span></a>\n",
       "</pre>\n"
      ],
      "text/plain": [
       "\u001b[2;36m                   \u001b[0m\u001b[2;36m \u001b[0m\u001b[34mINFO    \u001b[0m \u001b[1m[\u001b[0m\u001b[1;36m69\u001b[0m/\u001b[1;36m308\u001b[0m\u001b[1m]\u001b[0m Retrieving game with \u001b[33mid\u001b[0m=\u001b[35m478c5305\u001b[0m                                 \u001b]8;id=183138;file:///home/codespace/.local/lib/python3.12/site-packages/fbrefdata/fbref.py\u001b\\\u001b[2mfbref.py\u001b[0m\u001b]8;;\u001b\\\u001b[2m:\u001b[0m\u001b]8;id=918988;file:///home/codespace/.local/lib/python3.12/site-packages/fbrefdata/fbref.py#927\u001b\\\u001b[2m927\u001b[0m\u001b]8;;\u001b\\\n"
      ]
     },
     "metadata": {},
     "output_type": "display_data"
    },
    {
     "data": {
      "text/html": [
       "<pre style=\"white-space:pre;overflow-x:auto;line-height:normal;font-family:Menlo,'DejaVu Sans Mono',consolas,'Courier New',monospace\"><span style=\"color: #7fbfbf; text-decoration-color: #7fbfbf\">                    </span><span style=\"color: #000080; text-decoration-color: #000080\">INFO    </span> <span style=\"font-weight: bold\">[</span><span style=\"color: #008080; text-decoration-color: #008080; font-weight: bold\">70</span>/<span style=\"color: #008080; text-decoration-color: #008080; font-weight: bold\">308</span><span style=\"font-weight: bold\">]</span> Retrieving game with <span style=\"color: #808000; text-decoration-color: #808000\">id</span>=<span style=\"color: #800080; text-decoration-color: #800080\">bdcf9a62</span>                                 <a href=\"file:///home/codespace/.local/lib/python3.12/site-packages/fbrefdata/fbref.py\" target=\"_blank\"><span style=\"color: #7f7f7f; text-decoration-color: #7f7f7f\">fbref.py</span></a><span style=\"color: #7f7f7f; text-decoration-color: #7f7f7f\">:</span><a href=\"file:///home/codespace/.local/lib/python3.12/site-packages/fbrefdata/fbref.py#927\" target=\"_blank\"><span style=\"color: #7f7f7f; text-decoration-color: #7f7f7f\">927</span></a>\n",
       "</pre>\n"
      ],
      "text/plain": [
       "\u001b[2;36m                   \u001b[0m\u001b[2;36m \u001b[0m\u001b[34mINFO    \u001b[0m \u001b[1m[\u001b[0m\u001b[1;36m70\u001b[0m/\u001b[1;36m308\u001b[0m\u001b[1m]\u001b[0m Retrieving game with \u001b[33mid\u001b[0m=\u001b[35mbdcf9a62\u001b[0m                                 \u001b]8;id=166595;file:///home/codespace/.local/lib/python3.12/site-packages/fbrefdata/fbref.py\u001b\\\u001b[2mfbref.py\u001b[0m\u001b]8;;\u001b\\\u001b[2m:\u001b[0m\u001b]8;id=480148;file:///home/codespace/.local/lib/python3.12/site-packages/fbrefdata/fbref.py#927\u001b\\\u001b[2m927\u001b[0m\u001b]8;;\u001b\\\n"
      ]
     },
     "metadata": {},
     "output_type": "display_data"
    },
    {
     "data": {
      "text/html": [
       "<pre style=\"white-space:pre;overflow-x:auto;line-height:normal;font-family:Menlo,'DejaVu Sans Mono',consolas,'Courier New',monospace\"><span style=\"color: #7fbfbf; text-decoration-color: #7fbfbf\">                    </span><span style=\"color: #000080; text-decoration-color: #000080\">INFO    </span> <span style=\"font-weight: bold\">[</span><span style=\"color: #008080; text-decoration-color: #008080; font-weight: bold\">71</span>/<span style=\"color: #008080; text-decoration-color: #008080; font-weight: bold\">308</span><span style=\"font-weight: bold\">]</span> Retrieving game with <span style=\"color: #808000; text-decoration-color: #808000\">id</span>=<span style=\"color: #800080; text-decoration-color: #800080\">caed261c</span>                                 <a href=\"file:///home/codespace/.local/lib/python3.12/site-packages/fbrefdata/fbref.py\" target=\"_blank\"><span style=\"color: #7f7f7f; text-decoration-color: #7f7f7f\">fbref.py</span></a><span style=\"color: #7f7f7f; text-decoration-color: #7f7f7f\">:</span><a href=\"file:///home/codespace/.local/lib/python3.12/site-packages/fbrefdata/fbref.py#927\" target=\"_blank\"><span style=\"color: #7f7f7f; text-decoration-color: #7f7f7f\">927</span></a>\n",
       "</pre>\n"
      ],
      "text/plain": [
       "\u001b[2;36m                   \u001b[0m\u001b[2;36m \u001b[0m\u001b[34mINFO    \u001b[0m \u001b[1m[\u001b[0m\u001b[1;36m71\u001b[0m/\u001b[1;36m308\u001b[0m\u001b[1m]\u001b[0m Retrieving game with \u001b[33mid\u001b[0m=\u001b[35mcaed261c\u001b[0m                                 \u001b]8;id=91934;file:///home/codespace/.local/lib/python3.12/site-packages/fbrefdata/fbref.py\u001b\\\u001b[2mfbref.py\u001b[0m\u001b]8;;\u001b\\\u001b[2m:\u001b[0m\u001b]8;id=813087;file:///home/codespace/.local/lib/python3.12/site-packages/fbrefdata/fbref.py#927\u001b\\\u001b[2m927\u001b[0m\u001b]8;;\u001b\\\n"
      ]
     },
     "metadata": {},
     "output_type": "display_data"
    },
    {
     "data": {
      "text/html": [
       "<pre style=\"white-space:pre;overflow-x:auto;line-height:normal;font-family:Menlo,'DejaVu Sans Mono',consolas,'Courier New',monospace\"><span style=\"color: #7fbfbf; text-decoration-color: #7fbfbf\">                    </span><span style=\"color: #000080; text-decoration-color: #000080\">INFO    </span> <span style=\"font-weight: bold\">[</span><span style=\"color: #008080; text-decoration-color: #008080; font-weight: bold\">72</span>/<span style=\"color: #008080; text-decoration-color: #008080; font-weight: bold\">308</span><span style=\"font-weight: bold\">]</span> Retrieving game with <span style=\"color: #808000; text-decoration-color: #808000\">id</span>=<span style=\"color: #800080; text-decoration-color: #800080\">3cda5517</span>                                 <a href=\"file:///home/codespace/.local/lib/python3.12/site-packages/fbrefdata/fbref.py\" target=\"_blank\"><span style=\"color: #7f7f7f; text-decoration-color: #7f7f7f\">fbref.py</span></a><span style=\"color: #7f7f7f; text-decoration-color: #7f7f7f\">:</span><a href=\"file:///home/codespace/.local/lib/python3.12/site-packages/fbrefdata/fbref.py#927\" target=\"_blank\"><span style=\"color: #7f7f7f; text-decoration-color: #7f7f7f\">927</span></a>\n",
       "</pre>\n"
      ],
      "text/plain": [
       "\u001b[2;36m                   \u001b[0m\u001b[2;36m \u001b[0m\u001b[34mINFO    \u001b[0m \u001b[1m[\u001b[0m\u001b[1;36m72\u001b[0m/\u001b[1;36m308\u001b[0m\u001b[1m]\u001b[0m Retrieving game with \u001b[33mid\u001b[0m=\u001b[35m3cda5517\u001b[0m                                 \u001b]8;id=668768;file:///home/codespace/.local/lib/python3.12/site-packages/fbrefdata/fbref.py\u001b\\\u001b[2mfbref.py\u001b[0m\u001b]8;;\u001b\\\u001b[2m:\u001b[0m\u001b]8;id=122593;file:///home/codespace/.local/lib/python3.12/site-packages/fbrefdata/fbref.py#927\u001b\\\u001b[2m927\u001b[0m\u001b]8;;\u001b\\\n"
      ]
     },
     "metadata": {},
     "output_type": "display_data"
    },
    {
     "data": {
      "text/html": [
       "<pre style=\"white-space:pre;overflow-x:auto;line-height:normal;font-family:Menlo,'DejaVu Sans Mono',consolas,'Courier New',monospace\"><span style=\"color: #7fbfbf; text-decoration-color: #7fbfbf\">                    </span><span style=\"color: #000080; text-decoration-color: #000080\">INFO    </span> <span style=\"font-weight: bold\">[</span><span style=\"color: #008080; text-decoration-color: #008080; font-weight: bold\">73</span>/<span style=\"color: #008080; text-decoration-color: #008080; font-weight: bold\">308</span><span style=\"font-weight: bold\">]</span> Retrieving game with <span style=\"color: #808000; text-decoration-color: #808000\">id</span>=<span style=\"color: #800080; text-decoration-color: #800080\">d4fa762e</span>                                 <a href=\"file:///home/codespace/.local/lib/python3.12/site-packages/fbrefdata/fbref.py\" target=\"_blank\"><span style=\"color: #7f7f7f; text-decoration-color: #7f7f7f\">fbref.py</span></a><span style=\"color: #7f7f7f; text-decoration-color: #7f7f7f\">:</span><a href=\"file:///home/codespace/.local/lib/python3.12/site-packages/fbrefdata/fbref.py#927\" target=\"_blank\"><span style=\"color: #7f7f7f; text-decoration-color: #7f7f7f\">927</span></a>\n",
       "</pre>\n"
      ],
      "text/plain": [
       "\u001b[2;36m                   \u001b[0m\u001b[2;36m \u001b[0m\u001b[34mINFO    \u001b[0m \u001b[1m[\u001b[0m\u001b[1;36m73\u001b[0m/\u001b[1;36m308\u001b[0m\u001b[1m]\u001b[0m Retrieving game with \u001b[33mid\u001b[0m=\u001b[35md4fa762e\u001b[0m                                 \u001b]8;id=905399;file:///home/codespace/.local/lib/python3.12/site-packages/fbrefdata/fbref.py\u001b\\\u001b[2mfbref.py\u001b[0m\u001b]8;;\u001b\\\u001b[2m:\u001b[0m\u001b]8;id=144783;file:///home/codespace/.local/lib/python3.12/site-packages/fbrefdata/fbref.py#927\u001b\\\u001b[2m927\u001b[0m\u001b]8;;\u001b\\\n"
      ]
     },
     "metadata": {},
     "output_type": "display_data"
    },
    {
     "data": {
      "text/html": [
       "<pre style=\"white-space:pre;overflow-x:auto;line-height:normal;font-family:Menlo,'DejaVu Sans Mono',consolas,'Courier New',monospace\"><span style=\"color: #7fbfbf; text-decoration-color: #7fbfbf\">                    </span><span style=\"color: #000080; text-decoration-color: #000080\">INFO    </span> <span style=\"font-weight: bold\">[</span><span style=\"color: #008080; text-decoration-color: #008080; font-weight: bold\">74</span>/<span style=\"color: #008080; text-decoration-color: #008080; font-weight: bold\">308</span><span style=\"font-weight: bold\">]</span> Retrieving game with <span style=\"color: #808000; text-decoration-color: #808000\">id</span>=<span style=\"color: #800080; text-decoration-color: #800080\">cb328c3c</span>                                 <a href=\"file:///home/codespace/.local/lib/python3.12/site-packages/fbrefdata/fbref.py\" target=\"_blank\"><span style=\"color: #7f7f7f; text-decoration-color: #7f7f7f\">fbref.py</span></a><span style=\"color: #7f7f7f; text-decoration-color: #7f7f7f\">:</span><a href=\"file:///home/codespace/.local/lib/python3.12/site-packages/fbrefdata/fbref.py#927\" target=\"_blank\"><span style=\"color: #7f7f7f; text-decoration-color: #7f7f7f\">927</span></a>\n",
       "</pre>\n"
      ],
      "text/plain": [
       "\u001b[2;36m                   \u001b[0m\u001b[2;36m \u001b[0m\u001b[34mINFO    \u001b[0m \u001b[1m[\u001b[0m\u001b[1;36m74\u001b[0m/\u001b[1;36m308\u001b[0m\u001b[1m]\u001b[0m Retrieving game with \u001b[33mid\u001b[0m=\u001b[35mcb328c3c\u001b[0m                                 \u001b]8;id=325509;file:///home/codespace/.local/lib/python3.12/site-packages/fbrefdata/fbref.py\u001b\\\u001b[2mfbref.py\u001b[0m\u001b]8;;\u001b\\\u001b[2m:\u001b[0m\u001b]8;id=130928;file:///home/codespace/.local/lib/python3.12/site-packages/fbrefdata/fbref.py#927\u001b\\\u001b[2m927\u001b[0m\u001b]8;;\u001b\\\n"
      ]
     },
     "metadata": {},
     "output_type": "display_data"
    },
    {
     "data": {
      "text/html": [
       "<pre style=\"white-space:pre;overflow-x:auto;line-height:normal;font-family:Menlo,'DejaVu Sans Mono',consolas,'Courier New',monospace\"><span style=\"color: #7fbfbf; text-decoration-color: #7fbfbf\">                    </span><span style=\"color: #000080; text-decoration-color: #000080\">INFO    </span> <span style=\"font-weight: bold\">[</span><span style=\"color: #008080; text-decoration-color: #008080; font-weight: bold\">75</span>/<span style=\"color: #008080; text-decoration-color: #008080; font-weight: bold\">308</span><span style=\"font-weight: bold\">]</span> Retrieving game with <span style=\"color: #808000; text-decoration-color: #808000\">id</span>=<span style=\"color: #800080; text-decoration-color: #800080\">c393f7a1</span>                                 <a href=\"file:///home/codespace/.local/lib/python3.12/site-packages/fbrefdata/fbref.py\" target=\"_blank\"><span style=\"color: #7f7f7f; text-decoration-color: #7f7f7f\">fbref.py</span></a><span style=\"color: #7f7f7f; text-decoration-color: #7f7f7f\">:</span><a href=\"file:///home/codespace/.local/lib/python3.12/site-packages/fbrefdata/fbref.py#927\" target=\"_blank\"><span style=\"color: #7f7f7f; text-decoration-color: #7f7f7f\">927</span></a>\n",
       "</pre>\n"
      ],
      "text/plain": [
       "\u001b[2;36m                   \u001b[0m\u001b[2;36m \u001b[0m\u001b[34mINFO    \u001b[0m \u001b[1m[\u001b[0m\u001b[1;36m75\u001b[0m/\u001b[1;36m308\u001b[0m\u001b[1m]\u001b[0m Retrieving game with \u001b[33mid\u001b[0m=\u001b[35mc393f7a1\u001b[0m                                 \u001b]8;id=455504;file:///home/codespace/.local/lib/python3.12/site-packages/fbrefdata/fbref.py\u001b\\\u001b[2mfbref.py\u001b[0m\u001b]8;;\u001b\\\u001b[2m:\u001b[0m\u001b]8;id=613423;file:///home/codespace/.local/lib/python3.12/site-packages/fbrefdata/fbref.py#927\u001b\\\u001b[2m927\u001b[0m\u001b]8;;\u001b\\\n"
      ]
     },
     "metadata": {},
     "output_type": "display_data"
    },
    {
     "data": {
      "text/html": [
       "<pre style=\"white-space:pre;overflow-x:auto;line-height:normal;font-family:Menlo,'DejaVu Sans Mono',consolas,'Courier New',monospace\"><span style=\"color: #7fbfbf; text-decoration-color: #7fbfbf\">                    </span><span style=\"color: #000080; text-decoration-color: #000080\">INFO    </span> <span style=\"font-weight: bold\">[</span><span style=\"color: #008080; text-decoration-color: #008080; font-weight: bold\">76</span>/<span style=\"color: #008080; text-decoration-color: #008080; font-weight: bold\">308</span><span style=\"font-weight: bold\">]</span> Retrieving game with <span style=\"color: #808000; text-decoration-color: #808000\">id</span>=<span style=\"color: #800080; text-decoration-color: #800080\">56d26e32</span>                                 <a href=\"file:///home/codespace/.local/lib/python3.12/site-packages/fbrefdata/fbref.py\" target=\"_blank\"><span style=\"color: #7f7f7f; text-decoration-color: #7f7f7f\">fbref.py</span></a><span style=\"color: #7f7f7f; text-decoration-color: #7f7f7f\">:</span><a href=\"file:///home/codespace/.local/lib/python3.12/site-packages/fbrefdata/fbref.py#927\" target=\"_blank\"><span style=\"color: #7f7f7f; text-decoration-color: #7f7f7f\">927</span></a>\n",
       "</pre>\n"
      ],
      "text/plain": [
       "\u001b[2;36m                   \u001b[0m\u001b[2;36m \u001b[0m\u001b[34mINFO    \u001b[0m \u001b[1m[\u001b[0m\u001b[1;36m76\u001b[0m/\u001b[1;36m308\u001b[0m\u001b[1m]\u001b[0m Retrieving game with \u001b[33mid\u001b[0m=\u001b[35m56d26e32\u001b[0m                                 \u001b]8;id=76967;file:///home/codespace/.local/lib/python3.12/site-packages/fbrefdata/fbref.py\u001b\\\u001b[2mfbref.py\u001b[0m\u001b]8;;\u001b\\\u001b[2m:\u001b[0m\u001b]8;id=284781;file:///home/codespace/.local/lib/python3.12/site-packages/fbrefdata/fbref.py#927\u001b\\\u001b[2m927\u001b[0m\u001b]8;;\u001b\\\n"
      ]
     },
     "metadata": {},
     "output_type": "display_data"
    },
    {
     "data": {
      "text/html": [
       "<pre style=\"white-space:pre;overflow-x:auto;line-height:normal;font-family:Menlo,'DejaVu Sans Mono',consolas,'Courier New',monospace\"><span style=\"color: #7fbfbf; text-decoration-color: #7fbfbf\">                    </span><span style=\"color: #000080; text-decoration-color: #000080\">INFO    </span> <span style=\"font-weight: bold\">[</span><span style=\"color: #008080; text-decoration-color: #008080; font-weight: bold\">77</span>/<span style=\"color: #008080; text-decoration-color: #008080; font-weight: bold\">308</span><span style=\"font-weight: bold\">]</span> Retrieving game with <span style=\"color: #808000; text-decoration-color: #808000\">id</span>=<span style=\"color: #800080; text-decoration-color: #800080\">5ffaab95</span>                                 <a href=\"file:///home/codespace/.local/lib/python3.12/site-packages/fbrefdata/fbref.py\" target=\"_blank\"><span style=\"color: #7f7f7f; text-decoration-color: #7f7f7f\">fbref.py</span></a><span style=\"color: #7f7f7f; text-decoration-color: #7f7f7f\">:</span><a href=\"file:///home/codespace/.local/lib/python3.12/site-packages/fbrefdata/fbref.py#927\" target=\"_blank\"><span style=\"color: #7f7f7f; text-decoration-color: #7f7f7f\">927</span></a>\n",
       "</pre>\n"
      ],
      "text/plain": [
       "\u001b[2;36m                   \u001b[0m\u001b[2;36m \u001b[0m\u001b[34mINFO    \u001b[0m \u001b[1m[\u001b[0m\u001b[1;36m77\u001b[0m/\u001b[1;36m308\u001b[0m\u001b[1m]\u001b[0m Retrieving game with \u001b[33mid\u001b[0m=\u001b[35m5ffaab95\u001b[0m                                 \u001b]8;id=368729;file:///home/codespace/.local/lib/python3.12/site-packages/fbrefdata/fbref.py\u001b\\\u001b[2mfbref.py\u001b[0m\u001b]8;;\u001b\\\u001b[2m:\u001b[0m\u001b]8;id=864757;file:///home/codespace/.local/lib/python3.12/site-packages/fbrefdata/fbref.py#927\u001b\\\u001b[2m927\u001b[0m\u001b]8;;\u001b\\\n"
      ]
     },
     "metadata": {},
     "output_type": "display_data"
    },
    {
     "data": {
      "text/html": [
       "<pre style=\"white-space:pre;overflow-x:auto;line-height:normal;font-family:Menlo,'DejaVu Sans Mono',consolas,'Courier New',monospace\"><span style=\"color: #7fbfbf; text-decoration-color: #7fbfbf\">                    </span><span style=\"color: #000080; text-decoration-color: #000080\">INFO    </span> <span style=\"font-weight: bold\">[</span><span style=\"color: #008080; text-decoration-color: #008080; font-weight: bold\">78</span>/<span style=\"color: #008080; text-decoration-color: #008080; font-weight: bold\">308</span><span style=\"font-weight: bold\">]</span> Retrieving game with <span style=\"color: #808000; text-decoration-color: #808000\">id</span>=<span style=\"color: #800080; text-decoration-color: #800080\">4a8ddb65</span>                                 <a href=\"file:///home/codespace/.local/lib/python3.12/site-packages/fbrefdata/fbref.py\" target=\"_blank\"><span style=\"color: #7f7f7f; text-decoration-color: #7f7f7f\">fbref.py</span></a><span style=\"color: #7f7f7f; text-decoration-color: #7f7f7f\">:</span><a href=\"file:///home/codespace/.local/lib/python3.12/site-packages/fbrefdata/fbref.py#927\" target=\"_blank\"><span style=\"color: #7f7f7f; text-decoration-color: #7f7f7f\">927</span></a>\n",
       "</pre>\n"
      ],
      "text/plain": [
       "\u001b[2;36m                   \u001b[0m\u001b[2;36m \u001b[0m\u001b[34mINFO    \u001b[0m \u001b[1m[\u001b[0m\u001b[1;36m78\u001b[0m/\u001b[1;36m308\u001b[0m\u001b[1m]\u001b[0m Retrieving game with \u001b[33mid\u001b[0m=\u001b[35m4a8ddb65\u001b[0m                                 \u001b]8;id=143051;file:///home/codespace/.local/lib/python3.12/site-packages/fbrefdata/fbref.py\u001b\\\u001b[2mfbref.py\u001b[0m\u001b]8;;\u001b\\\u001b[2m:\u001b[0m\u001b]8;id=809954;file:///home/codespace/.local/lib/python3.12/site-packages/fbrefdata/fbref.py#927\u001b\\\u001b[2m927\u001b[0m\u001b]8;;\u001b\\\n"
      ]
     },
     "metadata": {},
     "output_type": "display_data"
    },
    {
     "data": {
      "text/html": [
       "<pre style=\"white-space:pre;overflow-x:auto;line-height:normal;font-family:Menlo,'DejaVu Sans Mono',consolas,'Courier New',monospace\"><span style=\"color: #7fbfbf; text-decoration-color: #7fbfbf\">                    </span><span style=\"color: #000080; text-decoration-color: #000080\">INFO    </span> <span style=\"font-weight: bold\">[</span><span style=\"color: #008080; text-decoration-color: #008080; font-weight: bold\">79</span>/<span style=\"color: #008080; text-decoration-color: #008080; font-weight: bold\">308</span><span style=\"font-weight: bold\">]</span> Retrieving game with <span style=\"color: #808000; text-decoration-color: #808000\">id</span>=<span style=\"color: #800080; text-decoration-color: #800080\">64622ffd</span>                                 <a href=\"file:///home/codespace/.local/lib/python3.12/site-packages/fbrefdata/fbref.py\" target=\"_blank\"><span style=\"color: #7f7f7f; text-decoration-color: #7f7f7f\">fbref.py</span></a><span style=\"color: #7f7f7f; text-decoration-color: #7f7f7f\">:</span><a href=\"file:///home/codespace/.local/lib/python3.12/site-packages/fbrefdata/fbref.py#927\" target=\"_blank\"><span style=\"color: #7f7f7f; text-decoration-color: #7f7f7f\">927</span></a>\n",
       "</pre>\n"
      ],
      "text/plain": [
       "\u001b[2;36m                   \u001b[0m\u001b[2;36m \u001b[0m\u001b[34mINFO    \u001b[0m \u001b[1m[\u001b[0m\u001b[1;36m79\u001b[0m/\u001b[1;36m308\u001b[0m\u001b[1m]\u001b[0m Retrieving game with \u001b[33mid\u001b[0m=\u001b[35m64622ffd\u001b[0m                                 \u001b]8;id=307373;file:///home/codespace/.local/lib/python3.12/site-packages/fbrefdata/fbref.py\u001b\\\u001b[2mfbref.py\u001b[0m\u001b]8;;\u001b\\\u001b[2m:\u001b[0m\u001b]8;id=294344;file:///home/codespace/.local/lib/python3.12/site-packages/fbrefdata/fbref.py#927\u001b\\\u001b[2m927\u001b[0m\u001b]8;;\u001b\\\n"
      ]
     },
     "metadata": {},
     "output_type": "display_data"
    },
    {
     "data": {
      "text/html": [
       "<pre style=\"white-space:pre;overflow-x:auto;line-height:normal;font-family:Menlo,'DejaVu Sans Mono',consolas,'Courier New',monospace\"><span style=\"color: #7fbfbf; text-decoration-color: #7fbfbf\">                    </span><span style=\"color: #000080; text-decoration-color: #000080\">INFO    </span> <span style=\"font-weight: bold\">[</span><span style=\"color: #008080; text-decoration-color: #008080; font-weight: bold\">80</span>/<span style=\"color: #008080; text-decoration-color: #008080; font-weight: bold\">308</span><span style=\"font-weight: bold\">]</span> Retrieving game with <span style=\"color: #808000; text-decoration-color: #808000\">id</span>=<span style=\"color: #800080; text-decoration-color: #800080\">30a1f8cc</span>                                 <a href=\"file:///home/codespace/.local/lib/python3.12/site-packages/fbrefdata/fbref.py\" target=\"_blank\"><span style=\"color: #7f7f7f; text-decoration-color: #7f7f7f\">fbref.py</span></a><span style=\"color: #7f7f7f; text-decoration-color: #7f7f7f\">:</span><a href=\"file:///home/codespace/.local/lib/python3.12/site-packages/fbrefdata/fbref.py#927\" target=\"_blank\"><span style=\"color: #7f7f7f; text-decoration-color: #7f7f7f\">927</span></a>\n",
       "</pre>\n"
      ],
      "text/plain": [
       "\u001b[2;36m                   \u001b[0m\u001b[2;36m \u001b[0m\u001b[34mINFO    \u001b[0m \u001b[1m[\u001b[0m\u001b[1;36m80\u001b[0m/\u001b[1;36m308\u001b[0m\u001b[1m]\u001b[0m Retrieving game with \u001b[33mid\u001b[0m=\u001b[35m30a1f8cc\u001b[0m                                 \u001b]8;id=701952;file:///home/codespace/.local/lib/python3.12/site-packages/fbrefdata/fbref.py\u001b\\\u001b[2mfbref.py\u001b[0m\u001b]8;;\u001b\\\u001b[2m:\u001b[0m\u001b]8;id=842350;file:///home/codespace/.local/lib/python3.12/site-packages/fbrefdata/fbref.py#927\u001b\\\u001b[2m927\u001b[0m\u001b]8;;\u001b\\\n"
      ]
     },
     "metadata": {},
     "output_type": "display_data"
    },
    {
     "data": {
      "text/html": [
       "<pre style=\"white-space:pre;overflow-x:auto;line-height:normal;font-family:Menlo,'DejaVu Sans Mono',consolas,'Courier New',monospace\"><span style=\"color: #7fbfbf; text-decoration-color: #7fbfbf\">                    </span><span style=\"color: #000080; text-decoration-color: #000080\">INFO    </span> <span style=\"font-weight: bold\">[</span><span style=\"color: #008080; text-decoration-color: #008080; font-weight: bold\">81</span>/<span style=\"color: #008080; text-decoration-color: #008080; font-weight: bold\">308</span><span style=\"font-weight: bold\">]</span> Retrieving game with <span style=\"color: #808000; text-decoration-color: #808000\">id</span>=<span style=\"color: #800080; text-decoration-color: #800080\">a3de8d5e</span>                                 <a href=\"file:///home/codespace/.local/lib/python3.12/site-packages/fbrefdata/fbref.py\" target=\"_blank\"><span style=\"color: #7f7f7f; text-decoration-color: #7f7f7f\">fbref.py</span></a><span style=\"color: #7f7f7f; text-decoration-color: #7f7f7f\">:</span><a href=\"file:///home/codespace/.local/lib/python3.12/site-packages/fbrefdata/fbref.py#927\" target=\"_blank\"><span style=\"color: #7f7f7f; text-decoration-color: #7f7f7f\">927</span></a>\n",
       "</pre>\n"
      ],
      "text/plain": [
       "\u001b[2;36m                   \u001b[0m\u001b[2;36m \u001b[0m\u001b[34mINFO    \u001b[0m \u001b[1m[\u001b[0m\u001b[1;36m81\u001b[0m/\u001b[1;36m308\u001b[0m\u001b[1m]\u001b[0m Retrieving game with \u001b[33mid\u001b[0m=\u001b[35ma3de8d5e\u001b[0m                                 \u001b]8;id=522129;file:///home/codespace/.local/lib/python3.12/site-packages/fbrefdata/fbref.py\u001b\\\u001b[2mfbref.py\u001b[0m\u001b]8;;\u001b\\\u001b[2m:\u001b[0m\u001b]8;id=883375;file:///home/codespace/.local/lib/python3.12/site-packages/fbrefdata/fbref.py#927\u001b\\\u001b[2m927\u001b[0m\u001b]8;;\u001b\\\n"
      ]
     },
     "metadata": {},
     "output_type": "display_data"
    },
    {
     "data": {
      "text/html": [
       "<pre style=\"white-space:pre;overflow-x:auto;line-height:normal;font-family:Menlo,'DejaVu Sans Mono',consolas,'Courier New',monospace\"><span style=\"color: #7fbfbf; text-decoration-color: #7fbfbf\">                    </span><span style=\"color: #000080; text-decoration-color: #000080\">INFO    </span> <span style=\"font-weight: bold\">[</span><span style=\"color: #008080; text-decoration-color: #008080; font-weight: bold\">82</span>/<span style=\"color: #008080; text-decoration-color: #008080; font-weight: bold\">308</span><span style=\"font-weight: bold\">]</span> Retrieving game with <span style=\"color: #808000; text-decoration-color: #808000\">id</span>=<span style=\"color: #800080; text-decoration-color: #800080\">c4a6d2cc</span>                                 <a href=\"file:///home/codespace/.local/lib/python3.12/site-packages/fbrefdata/fbref.py\" target=\"_blank\"><span style=\"color: #7f7f7f; text-decoration-color: #7f7f7f\">fbref.py</span></a><span style=\"color: #7f7f7f; text-decoration-color: #7f7f7f\">:</span><a href=\"file:///home/codespace/.local/lib/python3.12/site-packages/fbrefdata/fbref.py#927\" target=\"_blank\"><span style=\"color: #7f7f7f; text-decoration-color: #7f7f7f\">927</span></a>\n",
       "</pre>\n"
      ],
      "text/plain": [
       "\u001b[2;36m                   \u001b[0m\u001b[2;36m \u001b[0m\u001b[34mINFO    \u001b[0m \u001b[1m[\u001b[0m\u001b[1;36m82\u001b[0m/\u001b[1;36m308\u001b[0m\u001b[1m]\u001b[0m Retrieving game with \u001b[33mid\u001b[0m=\u001b[35mc4a6d2cc\u001b[0m                                 \u001b]8;id=475039;file:///home/codespace/.local/lib/python3.12/site-packages/fbrefdata/fbref.py\u001b\\\u001b[2mfbref.py\u001b[0m\u001b]8;;\u001b\\\u001b[2m:\u001b[0m\u001b]8;id=434974;file:///home/codespace/.local/lib/python3.12/site-packages/fbrefdata/fbref.py#927\u001b\\\u001b[2m927\u001b[0m\u001b]8;;\u001b\\\n"
      ]
     },
     "metadata": {},
     "output_type": "display_data"
    },
    {
     "data": {
      "text/html": [
       "<pre style=\"white-space:pre;overflow-x:auto;line-height:normal;font-family:Menlo,'DejaVu Sans Mono',consolas,'Courier New',monospace\"><span style=\"color: #7fbfbf; text-decoration-color: #7fbfbf\">                    </span><span style=\"color: #000080; text-decoration-color: #000080\">INFO    </span> <span style=\"font-weight: bold\">[</span><span style=\"color: #008080; text-decoration-color: #008080; font-weight: bold\">83</span>/<span style=\"color: #008080; text-decoration-color: #008080; font-weight: bold\">308</span><span style=\"font-weight: bold\">]</span> Retrieving game with <span style=\"color: #808000; text-decoration-color: #808000\">id</span>=<span style=\"color: #800080; text-decoration-color: #800080\">73dd2093</span>                                 <a href=\"file:///home/codespace/.local/lib/python3.12/site-packages/fbrefdata/fbref.py\" target=\"_blank\"><span style=\"color: #7f7f7f; text-decoration-color: #7f7f7f\">fbref.py</span></a><span style=\"color: #7f7f7f; text-decoration-color: #7f7f7f\">:</span><a href=\"file:///home/codespace/.local/lib/python3.12/site-packages/fbrefdata/fbref.py#927\" target=\"_blank\"><span style=\"color: #7f7f7f; text-decoration-color: #7f7f7f\">927</span></a>\n",
       "</pre>\n"
      ],
      "text/plain": [
       "\u001b[2;36m                   \u001b[0m\u001b[2;36m \u001b[0m\u001b[34mINFO    \u001b[0m \u001b[1m[\u001b[0m\u001b[1;36m83\u001b[0m/\u001b[1;36m308\u001b[0m\u001b[1m]\u001b[0m Retrieving game with \u001b[33mid\u001b[0m=\u001b[35m73dd2093\u001b[0m                                 \u001b]8;id=692615;file:///home/codespace/.local/lib/python3.12/site-packages/fbrefdata/fbref.py\u001b\\\u001b[2mfbref.py\u001b[0m\u001b]8;;\u001b\\\u001b[2m:\u001b[0m\u001b]8;id=108790;file:///home/codespace/.local/lib/python3.12/site-packages/fbrefdata/fbref.py#927\u001b\\\u001b[2m927\u001b[0m\u001b]8;;\u001b\\\n"
      ]
     },
     "metadata": {},
     "output_type": "display_data"
    },
    {
     "data": {
      "text/html": [
       "<pre style=\"white-space:pre;overflow-x:auto;line-height:normal;font-family:Menlo,'DejaVu Sans Mono',consolas,'Courier New',monospace\"><span style=\"color: #7fbfbf; text-decoration-color: #7fbfbf\">                    </span><span style=\"color: #000080; text-decoration-color: #000080\">INFO    </span> <span style=\"font-weight: bold\">[</span><span style=\"color: #008080; text-decoration-color: #008080; font-weight: bold\">84</span>/<span style=\"color: #008080; text-decoration-color: #008080; font-weight: bold\">308</span><span style=\"font-weight: bold\">]</span> Retrieving game with <span style=\"color: #808000; text-decoration-color: #808000\">id</span>=<span style=\"color: #800080; text-decoration-color: #800080\">c8992842</span>                                 <a href=\"file:///home/codespace/.local/lib/python3.12/site-packages/fbrefdata/fbref.py\" target=\"_blank\"><span style=\"color: #7f7f7f; text-decoration-color: #7f7f7f\">fbref.py</span></a><span style=\"color: #7f7f7f; text-decoration-color: #7f7f7f\">:</span><a href=\"file:///home/codespace/.local/lib/python3.12/site-packages/fbrefdata/fbref.py#927\" target=\"_blank\"><span style=\"color: #7f7f7f; text-decoration-color: #7f7f7f\">927</span></a>\n",
       "</pre>\n"
      ],
      "text/plain": [
       "\u001b[2;36m                   \u001b[0m\u001b[2;36m \u001b[0m\u001b[34mINFO    \u001b[0m \u001b[1m[\u001b[0m\u001b[1;36m84\u001b[0m/\u001b[1;36m308\u001b[0m\u001b[1m]\u001b[0m Retrieving game with \u001b[33mid\u001b[0m=\u001b[35mc8992842\u001b[0m                                 \u001b]8;id=747602;file:///home/codespace/.local/lib/python3.12/site-packages/fbrefdata/fbref.py\u001b\\\u001b[2mfbref.py\u001b[0m\u001b]8;;\u001b\\\u001b[2m:\u001b[0m\u001b]8;id=217225;file:///home/codespace/.local/lib/python3.12/site-packages/fbrefdata/fbref.py#927\u001b\\\u001b[2m927\u001b[0m\u001b]8;;\u001b\\\n"
      ]
     },
     "metadata": {},
     "output_type": "display_data"
    },
    {
     "data": {
      "text/html": [
       "<pre style=\"white-space:pre;overflow-x:auto;line-height:normal;font-family:Menlo,'DejaVu Sans Mono',consolas,'Courier New',monospace\"><span style=\"color: #7fbfbf; text-decoration-color: #7fbfbf\">                    </span><span style=\"color: #000080; text-decoration-color: #000080\">INFO    </span> <span style=\"font-weight: bold\">[</span><span style=\"color: #008080; text-decoration-color: #008080; font-weight: bold\">85</span>/<span style=\"color: #008080; text-decoration-color: #008080; font-weight: bold\">308</span><span style=\"font-weight: bold\">]</span> Retrieving game with <span style=\"color: #808000; text-decoration-color: #808000\">id</span>=<span style=\"color: #800080; text-decoration-color: #800080\">36709fbd</span>                                 <a href=\"file:///home/codespace/.local/lib/python3.12/site-packages/fbrefdata/fbref.py\" target=\"_blank\"><span style=\"color: #7f7f7f; text-decoration-color: #7f7f7f\">fbref.py</span></a><span style=\"color: #7f7f7f; text-decoration-color: #7f7f7f\">:</span><a href=\"file:///home/codespace/.local/lib/python3.12/site-packages/fbrefdata/fbref.py#927\" target=\"_blank\"><span style=\"color: #7f7f7f; text-decoration-color: #7f7f7f\">927</span></a>\n",
       "</pre>\n"
      ],
      "text/plain": [
       "\u001b[2;36m                   \u001b[0m\u001b[2;36m \u001b[0m\u001b[34mINFO    \u001b[0m \u001b[1m[\u001b[0m\u001b[1;36m85\u001b[0m/\u001b[1;36m308\u001b[0m\u001b[1m]\u001b[0m Retrieving game with \u001b[33mid\u001b[0m=\u001b[35m36709fbd\u001b[0m                                 \u001b]8;id=669485;file:///home/codespace/.local/lib/python3.12/site-packages/fbrefdata/fbref.py\u001b\\\u001b[2mfbref.py\u001b[0m\u001b]8;;\u001b\\\u001b[2m:\u001b[0m\u001b]8;id=373767;file:///home/codespace/.local/lib/python3.12/site-packages/fbrefdata/fbref.py#927\u001b\\\u001b[2m927\u001b[0m\u001b]8;;\u001b\\\n"
      ]
     },
     "metadata": {},
     "output_type": "display_data"
    },
    {
     "data": {
      "text/html": [
       "<pre style=\"white-space:pre;overflow-x:auto;line-height:normal;font-family:Menlo,'DejaVu Sans Mono',consolas,'Courier New',monospace\"><span style=\"color: #7fbfbf; text-decoration-color: #7fbfbf\">                    </span><span style=\"color: #000080; text-decoration-color: #000080\">INFO    </span> <span style=\"font-weight: bold\">[</span><span style=\"color: #008080; text-decoration-color: #008080; font-weight: bold\">86</span>/<span style=\"color: #008080; text-decoration-color: #008080; font-weight: bold\">308</span><span style=\"font-weight: bold\">]</span> Retrieving game with <span style=\"color: #808000; text-decoration-color: #808000\">id</span>=<span style=\"color: #800080; text-decoration-color: #800080\">e7ba3a20</span>                                 <a href=\"file:///home/codespace/.local/lib/python3.12/site-packages/fbrefdata/fbref.py\" target=\"_blank\"><span style=\"color: #7f7f7f; text-decoration-color: #7f7f7f\">fbref.py</span></a><span style=\"color: #7f7f7f; text-decoration-color: #7f7f7f\">:</span><a href=\"file:///home/codespace/.local/lib/python3.12/site-packages/fbrefdata/fbref.py#927\" target=\"_blank\"><span style=\"color: #7f7f7f; text-decoration-color: #7f7f7f\">927</span></a>\n",
       "</pre>\n"
      ],
      "text/plain": [
       "\u001b[2;36m                   \u001b[0m\u001b[2;36m \u001b[0m\u001b[34mINFO    \u001b[0m \u001b[1m[\u001b[0m\u001b[1;36m86\u001b[0m/\u001b[1;36m308\u001b[0m\u001b[1m]\u001b[0m Retrieving game with \u001b[33mid\u001b[0m=\u001b[35me7ba3a20\u001b[0m                                 \u001b]8;id=819382;file:///home/codespace/.local/lib/python3.12/site-packages/fbrefdata/fbref.py\u001b\\\u001b[2mfbref.py\u001b[0m\u001b]8;;\u001b\\\u001b[2m:\u001b[0m\u001b]8;id=825936;file:///home/codespace/.local/lib/python3.12/site-packages/fbrefdata/fbref.py#927\u001b\\\u001b[2m927\u001b[0m\u001b]8;;\u001b\\\n"
      ]
     },
     "metadata": {},
     "output_type": "display_data"
    },
    {
     "data": {
      "text/html": [
       "<pre style=\"white-space:pre;overflow-x:auto;line-height:normal;font-family:Menlo,'DejaVu Sans Mono',consolas,'Courier New',monospace\"><span style=\"color: #7fbfbf; text-decoration-color: #7fbfbf\">                    </span><span style=\"color: #000080; text-decoration-color: #000080\">INFO    </span> <span style=\"font-weight: bold\">[</span><span style=\"color: #008080; text-decoration-color: #008080; font-weight: bold\">87</span>/<span style=\"color: #008080; text-decoration-color: #008080; font-weight: bold\">308</span><span style=\"font-weight: bold\">]</span> Retrieving game with <span style=\"color: #808000; text-decoration-color: #808000\">id</span>=<span style=\"color: #800080; text-decoration-color: #800080\">6cef8dc8</span>                                 <a href=\"file:///home/codespace/.local/lib/python3.12/site-packages/fbrefdata/fbref.py\" target=\"_blank\"><span style=\"color: #7f7f7f; text-decoration-color: #7f7f7f\">fbref.py</span></a><span style=\"color: #7f7f7f; text-decoration-color: #7f7f7f\">:</span><a href=\"file:///home/codespace/.local/lib/python3.12/site-packages/fbrefdata/fbref.py#927\" target=\"_blank\"><span style=\"color: #7f7f7f; text-decoration-color: #7f7f7f\">927</span></a>\n",
       "</pre>\n"
      ],
      "text/plain": [
       "\u001b[2;36m                   \u001b[0m\u001b[2;36m \u001b[0m\u001b[34mINFO    \u001b[0m \u001b[1m[\u001b[0m\u001b[1;36m87\u001b[0m/\u001b[1;36m308\u001b[0m\u001b[1m]\u001b[0m Retrieving game with \u001b[33mid\u001b[0m=\u001b[35m6cef8dc8\u001b[0m                                 \u001b]8;id=380544;file:///home/codespace/.local/lib/python3.12/site-packages/fbrefdata/fbref.py\u001b\\\u001b[2mfbref.py\u001b[0m\u001b]8;;\u001b\\\u001b[2m:\u001b[0m\u001b]8;id=147511;file:///home/codespace/.local/lib/python3.12/site-packages/fbrefdata/fbref.py#927\u001b\\\u001b[2m927\u001b[0m\u001b]8;;\u001b\\\n"
      ]
     },
     "metadata": {},
     "output_type": "display_data"
    },
    {
     "data": {
      "text/html": [
       "<pre style=\"white-space:pre;overflow-x:auto;line-height:normal;font-family:Menlo,'DejaVu Sans Mono',consolas,'Courier New',monospace\"><span style=\"color: #7fbfbf; text-decoration-color: #7fbfbf\">                    </span><span style=\"color: #000080; text-decoration-color: #000080\">INFO    </span> <span style=\"font-weight: bold\">[</span><span style=\"color: #008080; text-decoration-color: #008080; font-weight: bold\">88</span>/<span style=\"color: #008080; text-decoration-color: #008080; font-weight: bold\">308</span><span style=\"font-weight: bold\">]</span> Retrieving game with <span style=\"color: #808000; text-decoration-color: #808000\">id</span>=<span style=\"color: #800080; text-decoration-color: #800080\">eee4567b</span>                                 <a href=\"file:///home/codespace/.local/lib/python3.12/site-packages/fbrefdata/fbref.py\" target=\"_blank\"><span style=\"color: #7f7f7f; text-decoration-color: #7f7f7f\">fbref.py</span></a><span style=\"color: #7f7f7f; text-decoration-color: #7f7f7f\">:</span><a href=\"file:///home/codespace/.local/lib/python3.12/site-packages/fbrefdata/fbref.py#927\" target=\"_blank\"><span style=\"color: #7f7f7f; text-decoration-color: #7f7f7f\">927</span></a>\n",
       "</pre>\n"
      ],
      "text/plain": [
       "\u001b[2;36m                   \u001b[0m\u001b[2;36m \u001b[0m\u001b[34mINFO    \u001b[0m \u001b[1m[\u001b[0m\u001b[1;36m88\u001b[0m/\u001b[1;36m308\u001b[0m\u001b[1m]\u001b[0m Retrieving game with \u001b[33mid\u001b[0m=\u001b[35meee4567b\u001b[0m                                 \u001b]8;id=810609;file:///home/codespace/.local/lib/python3.12/site-packages/fbrefdata/fbref.py\u001b\\\u001b[2mfbref.py\u001b[0m\u001b]8;;\u001b\\\u001b[2m:\u001b[0m\u001b]8;id=732189;file:///home/codespace/.local/lib/python3.12/site-packages/fbrefdata/fbref.py#927\u001b\\\u001b[2m927\u001b[0m\u001b]8;;\u001b\\\n"
      ]
     },
     "metadata": {},
     "output_type": "display_data"
    },
    {
     "data": {
      "text/html": [
       "<pre style=\"white-space:pre;overflow-x:auto;line-height:normal;font-family:Menlo,'DejaVu Sans Mono',consolas,'Courier New',monospace\"><span style=\"color: #7fbfbf; text-decoration-color: #7fbfbf\">                    </span><span style=\"color: #000080; text-decoration-color: #000080\">INFO    </span> <span style=\"font-weight: bold\">[</span><span style=\"color: #008080; text-decoration-color: #008080; font-weight: bold\">89</span>/<span style=\"color: #008080; text-decoration-color: #008080; font-weight: bold\">308</span><span style=\"font-weight: bold\">]</span> Retrieving game with <span style=\"color: #808000; text-decoration-color: #808000\">id</span>=<span style=\"color: #800080; text-decoration-color: #800080\">6d025baf</span>                                 <a href=\"file:///home/codespace/.local/lib/python3.12/site-packages/fbrefdata/fbref.py\" target=\"_blank\"><span style=\"color: #7f7f7f; text-decoration-color: #7f7f7f\">fbref.py</span></a><span style=\"color: #7f7f7f; text-decoration-color: #7f7f7f\">:</span><a href=\"file:///home/codespace/.local/lib/python3.12/site-packages/fbrefdata/fbref.py#927\" target=\"_blank\"><span style=\"color: #7f7f7f; text-decoration-color: #7f7f7f\">927</span></a>\n",
       "</pre>\n"
      ],
      "text/plain": [
       "\u001b[2;36m                   \u001b[0m\u001b[2;36m \u001b[0m\u001b[34mINFO    \u001b[0m \u001b[1m[\u001b[0m\u001b[1;36m89\u001b[0m/\u001b[1;36m308\u001b[0m\u001b[1m]\u001b[0m Retrieving game with \u001b[33mid\u001b[0m=\u001b[35m6d025baf\u001b[0m                                 \u001b]8;id=155306;file:///home/codespace/.local/lib/python3.12/site-packages/fbrefdata/fbref.py\u001b\\\u001b[2mfbref.py\u001b[0m\u001b]8;;\u001b\\\u001b[2m:\u001b[0m\u001b]8;id=762306;file:///home/codespace/.local/lib/python3.12/site-packages/fbrefdata/fbref.py#927\u001b\\\u001b[2m927\u001b[0m\u001b]8;;\u001b\\\n"
      ]
     },
     "metadata": {},
     "output_type": "display_data"
    },
    {
     "data": {
      "text/html": [
       "<pre style=\"white-space:pre;overflow-x:auto;line-height:normal;font-family:Menlo,'DejaVu Sans Mono',consolas,'Courier New',monospace\"><span style=\"color: #7fbfbf; text-decoration-color: #7fbfbf\">                    </span><span style=\"color: #000080; text-decoration-color: #000080\">INFO    </span> <span style=\"font-weight: bold\">[</span><span style=\"color: #008080; text-decoration-color: #008080; font-weight: bold\">90</span>/<span style=\"color: #008080; text-decoration-color: #008080; font-weight: bold\">308</span><span style=\"font-weight: bold\">]</span> Retrieving game with <span style=\"color: #808000; text-decoration-color: #808000\">id</span>=<span style=\"color: #800080; text-decoration-color: #800080\">8f6df758</span>                                 <a href=\"file:///home/codespace/.local/lib/python3.12/site-packages/fbrefdata/fbref.py\" target=\"_blank\"><span style=\"color: #7f7f7f; text-decoration-color: #7f7f7f\">fbref.py</span></a><span style=\"color: #7f7f7f; text-decoration-color: #7f7f7f\">:</span><a href=\"file:///home/codespace/.local/lib/python3.12/site-packages/fbrefdata/fbref.py#927\" target=\"_blank\"><span style=\"color: #7f7f7f; text-decoration-color: #7f7f7f\">927</span></a>\n",
       "</pre>\n"
      ],
      "text/plain": [
       "\u001b[2;36m                   \u001b[0m\u001b[2;36m \u001b[0m\u001b[34mINFO    \u001b[0m \u001b[1m[\u001b[0m\u001b[1;36m90\u001b[0m/\u001b[1;36m308\u001b[0m\u001b[1m]\u001b[0m Retrieving game with \u001b[33mid\u001b[0m=\u001b[35m8f6df758\u001b[0m                                 \u001b]8;id=198571;file:///home/codespace/.local/lib/python3.12/site-packages/fbrefdata/fbref.py\u001b\\\u001b[2mfbref.py\u001b[0m\u001b]8;;\u001b\\\u001b[2m:\u001b[0m\u001b]8;id=168446;file:///home/codespace/.local/lib/python3.12/site-packages/fbrefdata/fbref.py#927\u001b\\\u001b[2m927\u001b[0m\u001b]8;;\u001b\\\n"
      ]
     },
     "metadata": {},
     "output_type": "display_data"
    },
    {
     "data": {
      "text/html": [
       "<pre style=\"white-space:pre;overflow-x:auto;line-height:normal;font-family:Menlo,'DejaVu Sans Mono',consolas,'Courier New',monospace\"><span style=\"color: #7fbfbf; text-decoration-color: #7fbfbf\">                    </span><span style=\"color: #000080; text-decoration-color: #000080\">INFO    </span> <span style=\"font-weight: bold\">[</span><span style=\"color: #008080; text-decoration-color: #008080; font-weight: bold\">91</span>/<span style=\"color: #008080; text-decoration-color: #008080; font-weight: bold\">308</span><span style=\"font-weight: bold\">]</span> Retrieving game with <span style=\"color: #808000; text-decoration-color: #808000\">id</span>=<span style=\"color: #800080; text-decoration-color: #800080\">240f8c0a</span>                                 <a href=\"file:///home/codespace/.local/lib/python3.12/site-packages/fbrefdata/fbref.py\" target=\"_blank\"><span style=\"color: #7f7f7f; text-decoration-color: #7f7f7f\">fbref.py</span></a><span style=\"color: #7f7f7f; text-decoration-color: #7f7f7f\">:</span><a href=\"file:///home/codespace/.local/lib/python3.12/site-packages/fbrefdata/fbref.py#927\" target=\"_blank\"><span style=\"color: #7f7f7f; text-decoration-color: #7f7f7f\">927</span></a>\n",
       "</pre>\n"
      ],
      "text/plain": [
       "\u001b[2;36m                   \u001b[0m\u001b[2;36m \u001b[0m\u001b[34mINFO    \u001b[0m \u001b[1m[\u001b[0m\u001b[1;36m91\u001b[0m/\u001b[1;36m308\u001b[0m\u001b[1m]\u001b[0m Retrieving game with \u001b[33mid\u001b[0m=\u001b[35m240f8c0a\u001b[0m                                 \u001b]8;id=66610;file:///home/codespace/.local/lib/python3.12/site-packages/fbrefdata/fbref.py\u001b\\\u001b[2mfbref.py\u001b[0m\u001b]8;;\u001b\\\u001b[2m:\u001b[0m\u001b]8;id=871644;file:///home/codespace/.local/lib/python3.12/site-packages/fbrefdata/fbref.py#927\u001b\\\u001b[2m927\u001b[0m\u001b]8;;\u001b\\\n"
      ]
     },
     "metadata": {},
     "output_type": "display_data"
    },
    {
     "data": {
      "text/html": [
       "<pre style=\"white-space:pre;overflow-x:auto;line-height:normal;font-family:Menlo,'DejaVu Sans Mono',consolas,'Courier New',monospace\"><span style=\"color: #7fbfbf; text-decoration-color: #7fbfbf\">                    </span><span style=\"color: #000080; text-decoration-color: #000080\">INFO    </span> <span style=\"font-weight: bold\">[</span><span style=\"color: #008080; text-decoration-color: #008080; font-weight: bold\">92</span>/<span style=\"color: #008080; text-decoration-color: #008080; font-weight: bold\">308</span><span style=\"font-weight: bold\">]</span> Retrieving game with <span style=\"color: #808000; text-decoration-color: #808000\">id</span>=<span style=\"color: #800080; text-decoration-color: #800080\">87a4b896</span>                                 <a href=\"file:///home/codespace/.local/lib/python3.12/site-packages/fbrefdata/fbref.py\" target=\"_blank\"><span style=\"color: #7f7f7f; text-decoration-color: #7f7f7f\">fbref.py</span></a><span style=\"color: #7f7f7f; text-decoration-color: #7f7f7f\">:</span><a href=\"file:///home/codespace/.local/lib/python3.12/site-packages/fbrefdata/fbref.py#927\" target=\"_blank\"><span style=\"color: #7f7f7f; text-decoration-color: #7f7f7f\">927</span></a>\n",
       "</pre>\n"
      ],
      "text/plain": [
       "\u001b[2;36m                   \u001b[0m\u001b[2;36m \u001b[0m\u001b[34mINFO    \u001b[0m \u001b[1m[\u001b[0m\u001b[1;36m92\u001b[0m/\u001b[1;36m308\u001b[0m\u001b[1m]\u001b[0m Retrieving game with \u001b[33mid\u001b[0m=\u001b[35m87a4b896\u001b[0m                                 \u001b]8;id=393886;file:///home/codespace/.local/lib/python3.12/site-packages/fbrefdata/fbref.py\u001b\\\u001b[2mfbref.py\u001b[0m\u001b]8;;\u001b\\\u001b[2m:\u001b[0m\u001b]8;id=490576;file:///home/codespace/.local/lib/python3.12/site-packages/fbrefdata/fbref.py#927\u001b\\\u001b[2m927\u001b[0m\u001b]8;;\u001b\\\n"
      ]
     },
     "metadata": {},
     "output_type": "display_data"
    },
    {
     "data": {
      "text/html": [
       "<pre style=\"white-space:pre;overflow-x:auto;line-height:normal;font-family:Menlo,'DejaVu Sans Mono',consolas,'Courier New',monospace\"><span style=\"color: #7fbfbf; text-decoration-color: #7fbfbf\">                    </span><span style=\"color: #000080; text-decoration-color: #000080\">INFO    </span> <span style=\"font-weight: bold\">[</span><span style=\"color: #008080; text-decoration-color: #008080; font-weight: bold\">93</span>/<span style=\"color: #008080; text-decoration-color: #008080; font-weight: bold\">308</span><span style=\"font-weight: bold\">]</span> Retrieving game with <span style=\"color: #808000; text-decoration-color: #808000\">id</span>=<span style=\"color: #800080; text-decoration-color: #800080\">1aa43542</span>                                 <a href=\"file:///home/codespace/.local/lib/python3.12/site-packages/fbrefdata/fbref.py\" target=\"_blank\"><span style=\"color: #7f7f7f; text-decoration-color: #7f7f7f\">fbref.py</span></a><span style=\"color: #7f7f7f; text-decoration-color: #7f7f7f\">:</span><a href=\"file:///home/codespace/.local/lib/python3.12/site-packages/fbrefdata/fbref.py#927\" target=\"_blank\"><span style=\"color: #7f7f7f; text-decoration-color: #7f7f7f\">927</span></a>\n",
       "</pre>\n"
      ],
      "text/plain": [
       "\u001b[2;36m                   \u001b[0m\u001b[2;36m \u001b[0m\u001b[34mINFO    \u001b[0m \u001b[1m[\u001b[0m\u001b[1;36m93\u001b[0m/\u001b[1;36m308\u001b[0m\u001b[1m]\u001b[0m Retrieving game with \u001b[33mid\u001b[0m=\u001b[35m1aa43542\u001b[0m                                 \u001b]8;id=227281;file:///home/codespace/.local/lib/python3.12/site-packages/fbrefdata/fbref.py\u001b\\\u001b[2mfbref.py\u001b[0m\u001b]8;;\u001b\\\u001b[2m:\u001b[0m\u001b]8;id=915687;file:///home/codespace/.local/lib/python3.12/site-packages/fbrefdata/fbref.py#927\u001b\\\u001b[2m927\u001b[0m\u001b]8;;\u001b\\\n"
      ]
     },
     "metadata": {},
     "output_type": "display_data"
    },
    {
     "data": {
      "text/html": [
       "<pre style=\"white-space:pre;overflow-x:auto;line-height:normal;font-family:Menlo,'DejaVu Sans Mono',consolas,'Courier New',monospace\"><span style=\"color: #7fbfbf; text-decoration-color: #7fbfbf\">                    </span><span style=\"color: #000080; text-decoration-color: #000080\">INFO    </span> <span style=\"font-weight: bold\">[</span><span style=\"color: #008080; text-decoration-color: #008080; font-weight: bold\">94</span>/<span style=\"color: #008080; text-decoration-color: #008080; font-weight: bold\">308</span><span style=\"font-weight: bold\">]</span> Retrieving game with <span style=\"color: #808000; text-decoration-color: #808000\">id</span>=<span style=\"color: #800080; text-decoration-color: #800080\">df729cb3</span>                                 <a href=\"file:///home/codespace/.local/lib/python3.12/site-packages/fbrefdata/fbref.py\" target=\"_blank\"><span style=\"color: #7f7f7f; text-decoration-color: #7f7f7f\">fbref.py</span></a><span style=\"color: #7f7f7f; text-decoration-color: #7f7f7f\">:</span><a href=\"file:///home/codespace/.local/lib/python3.12/site-packages/fbrefdata/fbref.py#927\" target=\"_blank\"><span style=\"color: #7f7f7f; text-decoration-color: #7f7f7f\">927</span></a>\n",
       "</pre>\n"
      ],
      "text/plain": [
       "\u001b[2;36m                   \u001b[0m\u001b[2;36m \u001b[0m\u001b[34mINFO    \u001b[0m \u001b[1m[\u001b[0m\u001b[1;36m94\u001b[0m/\u001b[1;36m308\u001b[0m\u001b[1m]\u001b[0m Retrieving game with \u001b[33mid\u001b[0m=\u001b[35mdf729cb3\u001b[0m                                 \u001b]8;id=880166;file:///home/codespace/.local/lib/python3.12/site-packages/fbrefdata/fbref.py\u001b\\\u001b[2mfbref.py\u001b[0m\u001b]8;;\u001b\\\u001b[2m:\u001b[0m\u001b]8;id=317111;file:///home/codespace/.local/lib/python3.12/site-packages/fbrefdata/fbref.py#927\u001b\\\u001b[2m927\u001b[0m\u001b]8;;\u001b\\\n"
      ]
     },
     "metadata": {},
     "output_type": "display_data"
    },
    {
     "data": {
      "text/html": [
       "<pre style=\"white-space:pre;overflow-x:auto;line-height:normal;font-family:Menlo,'DejaVu Sans Mono',consolas,'Courier New',monospace\"><span style=\"color: #7fbfbf; text-decoration-color: #7fbfbf\">                    </span><span style=\"color: #000080; text-decoration-color: #000080\">INFO    </span> <span style=\"font-weight: bold\">[</span><span style=\"color: #008080; text-decoration-color: #008080; font-weight: bold\">95</span>/<span style=\"color: #008080; text-decoration-color: #008080; font-weight: bold\">308</span><span style=\"font-weight: bold\">]</span> Retrieving game with <span style=\"color: #808000; text-decoration-color: #808000\">id</span>=<span style=\"color: #800080; text-decoration-color: #800080\">076b95dc</span>                                 <a href=\"file:///home/codespace/.local/lib/python3.12/site-packages/fbrefdata/fbref.py\" target=\"_blank\"><span style=\"color: #7f7f7f; text-decoration-color: #7f7f7f\">fbref.py</span></a><span style=\"color: #7f7f7f; text-decoration-color: #7f7f7f\">:</span><a href=\"file:///home/codespace/.local/lib/python3.12/site-packages/fbrefdata/fbref.py#927\" target=\"_blank\"><span style=\"color: #7f7f7f; text-decoration-color: #7f7f7f\">927</span></a>\n",
       "</pre>\n"
      ],
      "text/plain": [
       "\u001b[2;36m                   \u001b[0m\u001b[2;36m \u001b[0m\u001b[34mINFO    \u001b[0m \u001b[1m[\u001b[0m\u001b[1;36m95\u001b[0m/\u001b[1;36m308\u001b[0m\u001b[1m]\u001b[0m Retrieving game with \u001b[33mid\u001b[0m=\u001b[35m076b95dc\u001b[0m                                 \u001b]8;id=65225;file:///home/codespace/.local/lib/python3.12/site-packages/fbrefdata/fbref.py\u001b\\\u001b[2mfbref.py\u001b[0m\u001b]8;;\u001b\\\u001b[2m:\u001b[0m\u001b]8;id=681918;file:///home/codespace/.local/lib/python3.12/site-packages/fbrefdata/fbref.py#927\u001b\\\u001b[2m927\u001b[0m\u001b]8;;\u001b\\\n"
      ]
     },
     "metadata": {},
     "output_type": "display_data"
    },
    {
     "data": {
      "text/html": [
       "<pre style=\"white-space:pre;overflow-x:auto;line-height:normal;font-family:Menlo,'DejaVu Sans Mono',consolas,'Courier New',monospace\"><span style=\"color: #7fbfbf; text-decoration-color: #7fbfbf\">                    </span><span style=\"color: #000080; text-decoration-color: #000080\">INFO    </span> <span style=\"font-weight: bold\">[</span><span style=\"color: #008080; text-decoration-color: #008080; font-weight: bold\">96</span>/<span style=\"color: #008080; text-decoration-color: #008080; font-weight: bold\">308</span><span style=\"font-weight: bold\">]</span> Retrieving game with <span style=\"color: #808000; text-decoration-color: #808000\">id</span>=<span style=\"color: #800080; text-decoration-color: #800080\">9bc517fc</span>                                 <a href=\"file:///home/codespace/.local/lib/python3.12/site-packages/fbrefdata/fbref.py\" target=\"_blank\"><span style=\"color: #7f7f7f; text-decoration-color: #7f7f7f\">fbref.py</span></a><span style=\"color: #7f7f7f; text-decoration-color: #7f7f7f\">:</span><a href=\"file:///home/codespace/.local/lib/python3.12/site-packages/fbrefdata/fbref.py#927\" target=\"_blank\"><span style=\"color: #7f7f7f; text-decoration-color: #7f7f7f\">927</span></a>\n",
       "</pre>\n"
      ],
      "text/plain": [
       "\u001b[2;36m                   \u001b[0m\u001b[2;36m \u001b[0m\u001b[34mINFO    \u001b[0m \u001b[1m[\u001b[0m\u001b[1;36m96\u001b[0m/\u001b[1;36m308\u001b[0m\u001b[1m]\u001b[0m Retrieving game with \u001b[33mid\u001b[0m=\u001b[35m9bc517fc\u001b[0m                                 \u001b]8;id=472545;file:///home/codespace/.local/lib/python3.12/site-packages/fbrefdata/fbref.py\u001b\\\u001b[2mfbref.py\u001b[0m\u001b]8;;\u001b\\\u001b[2m:\u001b[0m\u001b]8;id=136821;file:///home/codespace/.local/lib/python3.12/site-packages/fbrefdata/fbref.py#927\u001b\\\u001b[2m927\u001b[0m\u001b]8;;\u001b\\\n"
      ]
     },
     "metadata": {},
     "output_type": "display_data"
    },
    {
     "data": {
      "text/html": [
       "<pre style=\"white-space:pre;overflow-x:auto;line-height:normal;font-family:Menlo,'DejaVu Sans Mono',consolas,'Courier New',monospace\"><span style=\"color: #7fbfbf; text-decoration-color: #7fbfbf\">                    </span><span style=\"color: #000080; text-decoration-color: #000080\">INFO    </span> <span style=\"font-weight: bold\">[</span><span style=\"color: #008080; text-decoration-color: #008080; font-weight: bold\">97</span>/<span style=\"color: #008080; text-decoration-color: #008080; font-weight: bold\">308</span><span style=\"font-weight: bold\">]</span> Retrieving game with <span style=\"color: #808000; text-decoration-color: #808000\">id</span>=<span style=\"color: #800080; text-decoration-color: #800080\">1bfffcbe</span>                                 <a href=\"file:///home/codespace/.local/lib/python3.12/site-packages/fbrefdata/fbref.py\" target=\"_blank\"><span style=\"color: #7f7f7f; text-decoration-color: #7f7f7f\">fbref.py</span></a><span style=\"color: #7f7f7f; text-decoration-color: #7f7f7f\">:</span><a href=\"file:///home/codespace/.local/lib/python3.12/site-packages/fbrefdata/fbref.py#927\" target=\"_blank\"><span style=\"color: #7f7f7f; text-decoration-color: #7f7f7f\">927</span></a>\n",
       "</pre>\n"
      ],
      "text/plain": [
       "\u001b[2;36m                   \u001b[0m\u001b[2;36m \u001b[0m\u001b[34mINFO    \u001b[0m \u001b[1m[\u001b[0m\u001b[1;36m97\u001b[0m/\u001b[1;36m308\u001b[0m\u001b[1m]\u001b[0m Retrieving game with \u001b[33mid\u001b[0m=\u001b[35m1bfffcbe\u001b[0m                                 \u001b]8;id=222012;file:///home/codespace/.local/lib/python3.12/site-packages/fbrefdata/fbref.py\u001b\\\u001b[2mfbref.py\u001b[0m\u001b]8;;\u001b\\\u001b[2m:\u001b[0m\u001b]8;id=427574;file:///home/codespace/.local/lib/python3.12/site-packages/fbrefdata/fbref.py#927\u001b\\\u001b[2m927\u001b[0m\u001b]8;;\u001b\\\n"
      ]
     },
     "metadata": {},
     "output_type": "display_data"
    },
    {
     "data": {
      "text/html": [
       "<pre style=\"white-space:pre;overflow-x:auto;line-height:normal;font-family:Menlo,'DejaVu Sans Mono',consolas,'Courier New',monospace\"><span style=\"color: #7fbfbf; text-decoration-color: #7fbfbf\">                    </span><span style=\"color: #000080; text-decoration-color: #000080\">INFO    </span> <span style=\"font-weight: bold\">[</span><span style=\"color: #008080; text-decoration-color: #008080; font-weight: bold\">98</span>/<span style=\"color: #008080; text-decoration-color: #008080; font-weight: bold\">308</span><span style=\"font-weight: bold\">]</span> Retrieving game with <span style=\"color: #808000; text-decoration-color: #808000\">id</span>=<span style=\"color: #800080; text-decoration-color: #800080\">1be1089b</span>                                 <a href=\"file:///home/codespace/.local/lib/python3.12/site-packages/fbrefdata/fbref.py\" target=\"_blank\"><span style=\"color: #7f7f7f; text-decoration-color: #7f7f7f\">fbref.py</span></a><span style=\"color: #7f7f7f; text-decoration-color: #7f7f7f\">:</span><a href=\"file:///home/codespace/.local/lib/python3.12/site-packages/fbrefdata/fbref.py#927\" target=\"_blank\"><span style=\"color: #7f7f7f; text-decoration-color: #7f7f7f\">927</span></a>\n",
       "</pre>\n"
      ],
      "text/plain": [
       "\u001b[2;36m                   \u001b[0m\u001b[2;36m \u001b[0m\u001b[34mINFO    \u001b[0m \u001b[1m[\u001b[0m\u001b[1;36m98\u001b[0m/\u001b[1;36m308\u001b[0m\u001b[1m]\u001b[0m Retrieving game with \u001b[33mid\u001b[0m=\u001b[35m1be1089b\u001b[0m                                 \u001b]8;id=698227;file:///home/codespace/.local/lib/python3.12/site-packages/fbrefdata/fbref.py\u001b\\\u001b[2mfbref.py\u001b[0m\u001b]8;;\u001b\\\u001b[2m:\u001b[0m\u001b]8;id=399055;file:///home/codespace/.local/lib/python3.12/site-packages/fbrefdata/fbref.py#927\u001b\\\u001b[2m927\u001b[0m\u001b]8;;\u001b\\\n"
      ]
     },
     "metadata": {},
     "output_type": "display_data"
    },
    {
     "data": {
      "text/html": [
       "<pre style=\"white-space:pre;overflow-x:auto;line-height:normal;font-family:Menlo,'DejaVu Sans Mono',consolas,'Courier New',monospace\"><span style=\"color: #7fbfbf; text-decoration-color: #7fbfbf\">                    </span><span style=\"color: #000080; text-decoration-color: #000080\">INFO    </span> <span style=\"font-weight: bold\">[</span><span style=\"color: #008080; text-decoration-color: #008080; font-weight: bold\">99</span>/<span style=\"color: #008080; text-decoration-color: #008080; font-weight: bold\">308</span><span style=\"font-weight: bold\">]</span> Retrieving game with <span style=\"color: #808000; text-decoration-color: #808000\">id</span>=<span style=\"color: #800080; text-decoration-color: #800080\">48c59488</span>                                 <a href=\"file:///home/codespace/.local/lib/python3.12/site-packages/fbrefdata/fbref.py\" target=\"_blank\"><span style=\"color: #7f7f7f; text-decoration-color: #7f7f7f\">fbref.py</span></a><span style=\"color: #7f7f7f; text-decoration-color: #7f7f7f\">:</span><a href=\"file:///home/codespace/.local/lib/python3.12/site-packages/fbrefdata/fbref.py#927\" target=\"_blank\"><span style=\"color: #7f7f7f; text-decoration-color: #7f7f7f\">927</span></a>\n",
       "</pre>\n"
      ],
      "text/plain": [
       "\u001b[2;36m                   \u001b[0m\u001b[2;36m \u001b[0m\u001b[34mINFO    \u001b[0m \u001b[1m[\u001b[0m\u001b[1;36m99\u001b[0m/\u001b[1;36m308\u001b[0m\u001b[1m]\u001b[0m Retrieving game with \u001b[33mid\u001b[0m=\u001b[35m48c59488\u001b[0m                                 \u001b]8;id=344235;file:///home/codespace/.local/lib/python3.12/site-packages/fbrefdata/fbref.py\u001b\\\u001b[2mfbref.py\u001b[0m\u001b]8;;\u001b\\\u001b[2m:\u001b[0m\u001b]8;id=229818;file:///home/codespace/.local/lib/python3.12/site-packages/fbrefdata/fbref.py#927\u001b\\\u001b[2m927\u001b[0m\u001b]8;;\u001b\\\n"
      ]
     },
     "metadata": {},
     "output_type": "display_data"
    },
    {
     "data": {
      "text/html": [
       "<pre style=\"white-space:pre;overflow-x:auto;line-height:normal;font-family:Menlo,'DejaVu Sans Mono',consolas,'Courier New',monospace\"><span style=\"color: #7fbfbf; text-decoration-color: #7fbfbf\">                    </span><span style=\"color: #000080; text-decoration-color: #000080\">INFO    </span> <span style=\"font-weight: bold\">[</span><span style=\"color: #008080; text-decoration-color: #008080; font-weight: bold\">100</span>/<span style=\"color: #008080; text-decoration-color: #008080; font-weight: bold\">308</span><span style=\"font-weight: bold\">]</span> Retrieving game with <span style=\"color: #808000; text-decoration-color: #808000\">id</span>=<span style=\"color: #800080; text-decoration-color: #800080\">cba299bc</span>                                <a href=\"file:///home/codespace/.local/lib/python3.12/site-packages/fbrefdata/fbref.py\" target=\"_blank\"><span style=\"color: #7f7f7f; text-decoration-color: #7f7f7f\">fbref.py</span></a><span style=\"color: #7f7f7f; text-decoration-color: #7f7f7f\">:</span><a href=\"file:///home/codespace/.local/lib/python3.12/site-packages/fbrefdata/fbref.py#927\" target=\"_blank\"><span style=\"color: #7f7f7f; text-decoration-color: #7f7f7f\">927</span></a>\n",
       "</pre>\n"
      ],
      "text/plain": [
       "\u001b[2;36m                   \u001b[0m\u001b[2;36m \u001b[0m\u001b[34mINFO    \u001b[0m \u001b[1m[\u001b[0m\u001b[1;36m100\u001b[0m/\u001b[1;36m308\u001b[0m\u001b[1m]\u001b[0m Retrieving game with \u001b[33mid\u001b[0m=\u001b[35mcba299bc\u001b[0m                                \u001b]8;id=970793;file:///home/codespace/.local/lib/python3.12/site-packages/fbrefdata/fbref.py\u001b\\\u001b[2mfbref.py\u001b[0m\u001b]8;;\u001b\\\u001b[2m:\u001b[0m\u001b]8;id=137304;file:///home/codespace/.local/lib/python3.12/site-packages/fbrefdata/fbref.py#927\u001b\\\u001b[2m927\u001b[0m\u001b]8;;\u001b\\\n"
      ]
     },
     "metadata": {},
     "output_type": "display_data"
    },
    {
     "data": {
      "text/html": [
       "<pre style=\"white-space:pre;overflow-x:auto;line-height:normal;font-family:Menlo,'DejaVu Sans Mono',consolas,'Courier New',monospace\"><span style=\"color: #7fbfbf; text-decoration-color: #7fbfbf\">                    </span><span style=\"color: #000080; text-decoration-color: #000080\">INFO    </span> <span style=\"font-weight: bold\">[</span><span style=\"color: #008080; text-decoration-color: #008080; font-weight: bold\">101</span>/<span style=\"color: #008080; text-decoration-color: #008080; font-weight: bold\">308</span><span style=\"font-weight: bold\">]</span> Retrieving game with <span style=\"color: #808000; text-decoration-color: #808000\">id</span>=<span style=\"color: #800080; text-decoration-color: #800080\">7e7be41f</span>                                <a href=\"file:///home/codespace/.local/lib/python3.12/site-packages/fbrefdata/fbref.py\" target=\"_blank\"><span style=\"color: #7f7f7f; text-decoration-color: #7f7f7f\">fbref.py</span></a><span style=\"color: #7f7f7f; text-decoration-color: #7f7f7f\">:</span><a href=\"file:///home/codespace/.local/lib/python3.12/site-packages/fbrefdata/fbref.py#927\" target=\"_blank\"><span style=\"color: #7f7f7f; text-decoration-color: #7f7f7f\">927</span></a>\n",
       "</pre>\n"
      ],
      "text/plain": [
       "\u001b[2;36m                   \u001b[0m\u001b[2;36m \u001b[0m\u001b[34mINFO    \u001b[0m \u001b[1m[\u001b[0m\u001b[1;36m101\u001b[0m/\u001b[1;36m308\u001b[0m\u001b[1m]\u001b[0m Retrieving game with \u001b[33mid\u001b[0m=\u001b[35m7e7be41f\u001b[0m                                \u001b]8;id=508476;file:///home/codespace/.local/lib/python3.12/site-packages/fbrefdata/fbref.py\u001b\\\u001b[2mfbref.py\u001b[0m\u001b]8;;\u001b\\\u001b[2m:\u001b[0m\u001b]8;id=134065;file:///home/codespace/.local/lib/python3.12/site-packages/fbrefdata/fbref.py#927\u001b\\\u001b[2m927\u001b[0m\u001b]8;;\u001b\\\n"
      ]
     },
     "metadata": {},
     "output_type": "display_data"
    },
    {
     "data": {
      "text/html": [
       "<pre style=\"white-space:pre;overflow-x:auto;line-height:normal;font-family:Menlo,'DejaVu Sans Mono',consolas,'Courier New',monospace\"><span style=\"color: #7fbfbf; text-decoration-color: #7fbfbf\">                    </span><span style=\"color: #000080; text-decoration-color: #000080\">INFO    </span> <span style=\"font-weight: bold\">[</span><span style=\"color: #008080; text-decoration-color: #008080; font-weight: bold\">102</span>/<span style=\"color: #008080; text-decoration-color: #008080; font-weight: bold\">308</span><span style=\"font-weight: bold\">]</span> Retrieving game with <span style=\"color: #808000; text-decoration-color: #808000\">id</span>=<span style=\"color: #800080; text-decoration-color: #800080\">3aa4c82c</span>                                <a href=\"file:///home/codespace/.local/lib/python3.12/site-packages/fbrefdata/fbref.py\" target=\"_blank\"><span style=\"color: #7f7f7f; text-decoration-color: #7f7f7f\">fbref.py</span></a><span style=\"color: #7f7f7f; text-decoration-color: #7f7f7f\">:</span><a href=\"file:///home/codespace/.local/lib/python3.12/site-packages/fbrefdata/fbref.py#927\" target=\"_blank\"><span style=\"color: #7f7f7f; text-decoration-color: #7f7f7f\">927</span></a>\n",
       "</pre>\n"
      ],
      "text/plain": [
       "\u001b[2;36m                   \u001b[0m\u001b[2;36m \u001b[0m\u001b[34mINFO    \u001b[0m \u001b[1m[\u001b[0m\u001b[1;36m102\u001b[0m/\u001b[1;36m308\u001b[0m\u001b[1m]\u001b[0m Retrieving game with \u001b[33mid\u001b[0m=\u001b[35m3aa4c82c\u001b[0m                                \u001b]8;id=439573;file:///home/codespace/.local/lib/python3.12/site-packages/fbrefdata/fbref.py\u001b\\\u001b[2mfbref.py\u001b[0m\u001b]8;;\u001b\\\u001b[2m:\u001b[0m\u001b]8;id=443777;file:///home/codespace/.local/lib/python3.12/site-packages/fbrefdata/fbref.py#927\u001b\\\u001b[2m927\u001b[0m\u001b]8;;\u001b\\\n"
      ]
     },
     "metadata": {},
     "output_type": "display_data"
    },
    {
     "data": {
      "text/html": [
       "<pre style=\"white-space:pre;overflow-x:auto;line-height:normal;font-family:Menlo,'DejaVu Sans Mono',consolas,'Courier New',monospace\"><span style=\"color: #7fbfbf; text-decoration-color: #7fbfbf\">                    </span><span style=\"color: #000080; text-decoration-color: #000080\">INFO    </span> <span style=\"font-weight: bold\">[</span><span style=\"color: #008080; text-decoration-color: #008080; font-weight: bold\">103</span>/<span style=\"color: #008080; text-decoration-color: #008080; font-weight: bold\">308</span><span style=\"font-weight: bold\">]</span> Retrieving game with <span style=\"color: #808000; text-decoration-color: #808000\">id</span>=<span style=\"color: #800080; text-decoration-color: #800080\">369b0951</span>                                <a href=\"file:///home/codespace/.local/lib/python3.12/site-packages/fbrefdata/fbref.py\" target=\"_blank\"><span style=\"color: #7f7f7f; text-decoration-color: #7f7f7f\">fbref.py</span></a><span style=\"color: #7f7f7f; text-decoration-color: #7f7f7f\">:</span><a href=\"file:///home/codespace/.local/lib/python3.12/site-packages/fbrefdata/fbref.py#927\" target=\"_blank\"><span style=\"color: #7f7f7f; text-decoration-color: #7f7f7f\">927</span></a>\n",
       "</pre>\n"
      ],
      "text/plain": [
       "\u001b[2;36m                   \u001b[0m\u001b[2;36m \u001b[0m\u001b[34mINFO    \u001b[0m \u001b[1m[\u001b[0m\u001b[1;36m103\u001b[0m/\u001b[1;36m308\u001b[0m\u001b[1m]\u001b[0m Retrieving game with \u001b[33mid\u001b[0m=\u001b[35m369b0951\u001b[0m                                \u001b]8;id=301062;file:///home/codespace/.local/lib/python3.12/site-packages/fbrefdata/fbref.py\u001b\\\u001b[2mfbref.py\u001b[0m\u001b]8;;\u001b\\\u001b[2m:\u001b[0m\u001b]8;id=728323;file:///home/codespace/.local/lib/python3.12/site-packages/fbrefdata/fbref.py#927\u001b\\\u001b[2m927\u001b[0m\u001b]8;;\u001b\\\n"
      ]
     },
     "metadata": {},
     "output_type": "display_data"
    },
    {
     "data": {
      "text/html": [
       "<pre style=\"white-space:pre;overflow-x:auto;line-height:normal;font-family:Menlo,'DejaVu Sans Mono',consolas,'Courier New',monospace\"><span style=\"color: #7fbfbf; text-decoration-color: #7fbfbf\">                    </span><span style=\"color: #000080; text-decoration-color: #000080\">INFO    </span> <span style=\"font-weight: bold\">[</span><span style=\"color: #008080; text-decoration-color: #008080; font-weight: bold\">104</span>/<span style=\"color: #008080; text-decoration-color: #008080; font-weight: bold\">308</span><span style=\"font-weight: bold\">]</span> Retrieving game with <span style=\"color: #808000; text-decoration-color: #808000\">id</span>=<span style=\"color: #800080; text-decoration-color: #800080\">15fbebf1</span>                                <a href=\"file:///home/codespace/.local/lib/python3.12/site-packages/fbrefdata/fbref.py\" target=\"_blank\"><span style=\"color: #7f7f7f; text-decoration-color: #7f7f7f\">fbref.py</span></a><span style=\"color: #7f7f7f; text-decoration-color: #7f7f7f\">:</span><a href=\"file:///home/codespace/.local/lib/python3.12/site-packages/fbrefdata/fbref.py#927\" target=\"_blank\"><span style=\"color: #7f7f7f; text-decoration-color: #7f7f7f\">927</span></a>\n",
       "</pre>\n"
      ],
      "text/plain": [
       "\u001b[2;36m                   \u001b[0m\u001b[2;36m \u001b[0m\u001b[34mINFO    \u001b[0m \u001b[1m[\u001b[0m\u001b[1;36m104\u001b[0m/\u001b[1;36m308\u001b[0m\u001b[1m]\u001b[0m Retrieving game with \u001b[33mid\u001b[0m=\u001b[35m15fbebf1\u001b[0m                                \u001b]8;id=378763;file:///home/codespace/.local/lib/python3.12/site-packages/fbrefdata/fbref.py\u001b\\\u001b[2mfbref.py\u001b[0m\u001b]8;;\u001b\\\u001b[2m:\u001b[0m\u001b]8;id=13704;file:///home/codespace/.local/lib/python3.12/site-packages/fbrefdata/fbref.py#927\u001b\\\u001b[2m927\u001b[0m\u001b]8;;\u001b\\\n"
      ]
     },
     "metadata": {},
     "output_type": "display_data"
    },
    {
     "data": {
      "text/html": [
       "<pre style=\"white-space:pre;overflow-x:auto;line-height:normal;font-family:Menlo,'DejaVu Sans Mono',consolas,'Courier New',monospace\"><span style=\"color: #7fbfbf; text-decoration-color: #7fbfbf\">                    </span><span style=\"color: #000080; text-decoration-color: #000080\">INFO    </span> <span style=\"font-weight: bold\">[</span><span style=\"color: #008080; text-decoration-color: #008080; font-weight: bold\">105</span>/<span style=\"color: #008080; text-decoration-color: #008080; font-weight: bold\">308</span><span style=\"font-weight: bold\">]</span> Retrieving game with <span style=\"color: #808000; text-decoration-color: #808000\">id</span>=<span style=\"color: #800080; text-decoration-color: #800080\">782ea29c</span>                                <a href=\"file:///home/codespace/.local/lib/python3.12/site-packages/fbrefdata/fbref.py\" target=\"_blank\"><span style=\"color: #7f7f7f; text-decoration-color: #7f7f7f\">fbref.py</span></a><span style=\"color: #7f7f7f; text-decoration-color: #7f7f7f\">:</span><a href=\"file:///home/codespace/.local/lib/python3.12/site-packages/fbrefdata/fbref.py#927\" target=\"_blank\"><span style=\"color: #7f7f7f; text-decoration-color: #7f7f7f\">927</span></a>\n",
       "</pre>\n"
      ],
      "text/plain": [
       "\u001b[2;36m                   \u001b[0m\u001b[2;36m \u001b[0m\u001b[34mINFO    \u001b[0m \u001b[1m[\u001b[0m\u001b[1;36m105\u001b[0m/\u001b[1;36m308\u001b[0m\u001b[1m]\u001b[0m Retrieving game with \u001b[33mid\u001b[0m=\u001b[35m782ea29c\u001b[0m                                \u001b]8;id=439334;file:///home/codespace/.local/lib/python3.12/site-packages/fbrefdata/fbref.py\u001b\\\u001b[2mfbref.py\u001b[0m\u001b]8;;\u001b\\\u001b[2m:\u001b[0m\u001b]8;id=671583;file:///home/codespace/.local/lib/python3.12/site-packages/fbrefdata/fbref.py#927\u001b\\\u001b[2m927\u001b[0m\u001b]8;;\u001b\\\n"
      ]
     },
     "metadata": {},
     "output_type": "display_data"
    },
    {
     "data": {
      "text/html": [
       "<pre style=\"white-space:pre;overflow-x:auto;line-height:normal;font-family:Menlo,'DejaVu Sans Mono',consolas,'Courier New',monospace\"><span style=\"color: #7fbfbf; text-decoration-color: #7fbfbf\">                    </span><span style=\"color: #000080; text-decoration-color: #000080\">INFO    </span> <span style=\"font-weight: bold\">[</span><span style=\"color: #008080; text-decoration-color: #008080; font-weight: bold\">106</span>/<span style=\"color: #008080; text-decoration-color: #008080; font-weight: bold\">308</span><span style=\"font-weight: bold\">]</span> Retrieving game with <span style=\"color: #808000; text-decoration-color: #808000\">id</span>=<span style=\"color: #800080; text-decoration-color: #800080\">0536f31c</span>                                <a href=\"file:///home/codespace/.local/lib/python3.12/site-packages/fbrefdata/fbref.py\" target=\"_blank\"><span style=\"color: #7f7f7f; text-decoration-color: #7f7f7f\">fbref.py</span></a><span style=\"color: #7f7f7f; text-decoration-color: #7f7f7f\">:</span><a href=\"file:///home/codespace/.local/lib/python3.12/site-packages/fbrefdata/fbref.py#927\" target=\"_blank\"><span style=\"color: #7f7f7f; text-decoration-color: #7f7f7f\">927</span></a>\n",
       "</pre>\n"
      ],
      "text/plain": [
       "\u001b[2;36m                   \u001b[0m\u001b[2;36m \u001b[0m\u001b[34mINFO    \u001b[0m \u001b[1m[\u001b[0m\u001b[1;36m106\u001b[0m/\u001b[1;36m308\u001b[0m\u001b[1m]\u001b[0m Retrieving game with \u001b[33mid\u001b[0m=\u001b[35m0536f31c\u001b[0m                                \u001b]8;id=8961;file:///home/codespace/.local/lib/python3.12/site-packages/fbrefdata/fbref.py\u001b\\\u001b[2mfbref.py\u001b[0m\u001b]8;;\u001b\\\u001b[2m:\u001b[0m\u001b]8;id=214118;file:///home/codespace/.local/lib/python3.12/site-packages/fbrefdata/fbref.py#927\u001b\\\u001b[2m927\u001b[0m\u001b]8;;\u001b\\\n"
      ]
     },
     "metadata": {},
     "output_type": "display_data"
    },
    {
     "data": {
      "text/html": [
       "<pre style=\"white-space:pre;overflow-x:auto;line-height:normal;font-family:Menlo,'DejaVu Sans Mono',consolas,'Courier New',monospace\"><span style=\"color: #7fbfbf; text-decoration-color: #7fbfbf\">                    </span><span style=\"color: #000080; text-decoration-color: #000080\">INFO    </span> <span style=\"font-weight: bold\">[</span><span style=\"color: #008080; text-decoration-color: #008080; font-weight: bold\">107</span>/<span style=\"color: #008080; text-decoration-color: #008080; font-weight: bold\">308</span><span style=\"font-weight: bold\">]</span> Retrieving game with <span style=\"color: #808000; text-decoration-color: #808000\">id</span>=<span style=\"color: #800080; text-decoration-color: #800080\">3a0c4b7f</span>                                <a href=\"file:///home/codespace/.local/lib/python3.12/site-packages/fbrefdata/fbref.py\" target=\"_blank\"><span style=\"color: #7f7f7f; text-decoration-color: #7f7f7f\">fbref.py</span></a><span style=\"color: #7f7f7f; text-decoration-color: #7f7f7f\">:</span><a href=\"file:///home/codespace/.local/lib/python3.12/site-packages/fbrefdata/fbref.py#927\" target=\"_blank\"><span style=\"color: #7f7f7f; text-decoration-color: #7f7f7f\">927</span></a>\n",
       "</pre>\n"
      ],
      "text/plain": [
       "\u001b[2;36m                   \u001b[0m\u001b[2;36m \u001b[0m\u001b[34mINFO    \u001b[0m \u001b[1m[\u001b[0m\u001b[1;36m107\u001b[0m/\u001b[1;36m308\u001b[0m\u001b[1m]\u001b[0m Retrieving game with \u001b[33mid\u001b[0m=\u001b[35m3a0c4b7f\u001b[0m                                \u001b]8;id=677527;file:///home/codespace/.local/lib/python3.12/site-packages/fbrefdata/fbref.py\u001b\\\u001b[2mfbref.py\u001b[0m\u001b]8;;\u001b\\\u001b[2m:\u001b[0m\u001b]8;id=605775;file:///home/codespace/.local/lib/python3.12/site-packages/fbrefdata/fbref.py#927\u001b\\\u001b[2m927\u001b[0m\u001b]8;;\u001b\\\n"
      ]
     },
     "metadata": {},
     "output_type": "display_data"
    },
    {
     "data": {
      "text/html": [
       "<pre style=\"white-space:pre;overflow-x:auto;line-height:normal;font-family:Menlo,'DejaVu Sans Mono',consolas,'Courier New',monospace\"><span style=\"color: #7fbfbf; text-decoration-color: #7fbfbf\">                    </span><span style=\"color: #000080; text-decoration-color: #000080\">INFO    </span> <span style=\"font-weight: bold\">[</span><span style=\"color: #008080; text-decoration-color: #008080; font-weight: bold\">108</span>/<span style=\"color: #008080; text-decoration-color: #008080; font-weight: bold\">308</span><span style=\"font-weight: bold\">]</span> Retrieving game with <span style=\"color: #808000; text-decoration-color: #808000\">id</span>=<span style=\"color: #008080; text-decoration-color: #008080; font-weight: bold\">71693047</span>                                <a href=\"file:///home/codespace/.local/lib/python3.12/site-packages/fbrefdata/fbref.py\" target=\"_blank\"><span style=\"color: #7f7f7f; text-decoration-color: #7f7f7f\">fbref.py</span></a><span style=\"color: #7f7f7f; text-decoration-color: #7f7f7f\">:</span><a href=\"file:///home/codespace/.local/lib/python3.12/site-packages/fbrefdata/fbref.py#927\" target=\"_blank\"><span style=\"color: #7f7f7f; text-decoration-color: #7f7f7f\">927</span></a>\n",
       "</pre>\n"
      ],
      "text/plain": [
       "\u001b[2;36m                   \u001b[0m\u001b[2;36m \u001b[0m\u001b[34mINFO    \u001b[0m \u001b[1m[\u001b[0m\u001b[1;36m108\u001b[0m/\u001b[1;36m308\u001b[0m\u001b[1m]\u001b[0m Retrieving game with \u001b[33mid\u001b[0m=\u001b[1;36m71693047\u001b[0m                                \u001b]8;id=777812;file:///home/codespace/.local/lib/python3.12/site-packages/fbrefdata/fbref.py\u001b\\\u001b[2mfbref.py\u001b[0m\u001b]8;;\u001b\\\u001b[2m:\u001b[0m\u001b]8;id=365115;file:///home/codespace/.local/lib/python3.12/site-packages/fbrefdata/fbref.py#927\u001b\\\u001b[2m927\u001b[0m\u001b]8;;\u001b\\\n"
      ]
     },
     "metadata": {},
     "output_type": "display_data"
    },
    {
     "data": {
      "text/html": [
       "<pre style=\"white-space:pre;overflow-x:auto;line-height:normal;font-family:Menlo,'DejaVu Sans Mono',consolas,'Courier New',monospace\"><span style=\"color: #7fbfbf; text-decoration-color: #7fbfbf\">                    </span><span style=\"color: #000080; text-decoration-color: #000080\">INFO    </span> <span style=\"font-weight: bold\">[</span><span style=\"color: #008080; text-decoration-color: #008080; font-weight: bold\">109</span>/<span style=\"color: #008080; text-decoration-color: #008080; font-weight: bold\">308</span><span style=\"font-weight: bold\">]</span> Retrieving game with <span style=\"color: #808000; text-decoration-color: #808000\">id</span>=<span style=\"color: #800080; text-decoration-color: #800080\">536a493e</span>                                <a href=\"file:///home/codespace/.local/lib/python3.12/site-packages/fbrefdata/fbref.py\" target=\"_blank\"><span style=\"color: #7f7f7f; text-decoration-color: #7f7f7f\">fbref.py</span></a><span style=\"color: #7f7f7f; text-decoration-color: #7f7f7f\">:</span><a href=\"file:///home/codespace/.local/lib/python3.12/site-packages/fbrefdata/fbref.py#927\" target=\"_blank\"><span style=\"color: #7f7f7f; text-decoration-color: #7f7f7f\">927</span></a>\n",
       "</pre>\n"
      ],
      "text/plain": [
       "\u001b[2;36m                   \u001b[0m\u001b[2;36m \u001b[0m\u001b[34mINFO    \u001b[0m \u001b[1m[\u001b[0m\u001b[1;36m109\u001b[0m/\u001b[1;36m308\u001b[0m\u001b[1m]\u001b[0m Retrieving game with \u001b[33mid\u001b[0m=\u001b[35m536a493e\u001b[0m                                \u001b]8;id=118474;file:///home/codespace/.local/lib/python3.12/site-packages/fbrefdata/fbref.py\u001b\\\u001b[2mfbref.py\u001b[0m\u001b]8;;\u001b\\\u001b[2m:\u001b[0m\u001b]8;id=886570;file:///home/codespace/.local/lib/python3.12/site-packages/fbrefdata/fbref.py#927\u001b\\\u001b[2m927\u001b[0m\u001b]8;;\u001b\\\n"
      ]
     },
     "metadata": {},
     "output_type": "display_data"
    },
    {
     "data": {
      "text/html": [
       "<pre style=\"white-space:pre;overflow-x:auto;line-height:normal;font-family:Menlo,'DejaVu Sans Mono',consolas,'Courier New',monospace\"><span style=\"color: #7fbfbf; text-decoration-color: #7fbfbf\">                    </span><span style=\"color: #000080; text-decoration-color: #000080\">INFO    </span> <span style=\"font-weight: bold\">[</span><span style=\"color: #008080; text-decoration-color: #008080; font-weight: bold\">110</span>/<span style=\"color: #008080; text-decoration-color: #008080; font-weight: bold\">308</span><span style=\"font-weight: bold\">]</span> Retrieving game with <span style=\"color: #808000; text-decoration-color: #808000\">id</span>=<span style=\"color: #800080; text-decoration-color: #800080\">025568f1</span>                                <a href=\"file:///home/codespace/.local/lib/python3.12/site-packages/fbrefdata/fbref.py\" target=\"_blank\"><span style=\"color: #7f7f7f; text-decoration-color: #7f7f7f\">fbref.py</span></a><span style=\"color: #7f7f7f; text-decoration-color: #7f7f7f\">:</span><a href=\"file:///home/codespace/.local/lib/python3.12/site-packages/fbrefdata/fbref.py#927\" target=\"_blank\"><span style=\"color: #7f7f7f; text-decoration-color: #7f7f7f\">927</span></a>\n",
       "</pre>\n"
      ],
      "text/plain": [
       "\u001b[2;36m                   \u001b[0m\u001b[2;36m \u001b[0m\u001b[34mINFO    \u001b[0m \u001b[1m[\u001b[0m\u001b[1;36m110\u001b[0m/\u001b[1;36m308\u001b[0m\u001b[1m]\u001b[0m Retrieving game with \u001b[33mid\u001b[0m=\u001b[35m025568f1\u001b[0m                                \u001b]8;id=836585;file:///home/codespace/.local/lib/python3.12/site-packages/fbrefdata/fbref.py\u001b\\\u001b[2mfbref.py\u001b[0m\u001b]8;;\u001b\\\u001b[2m:\u001b[0m\u001b]8;id=273594;file:///home/codespace/.local/lib/python3.12/site-packages/fbrefdata/fbref.py#927\u001b\\\u001b[2m927\u001b[0m\u001b]8;;\u001b\\\n"
      ]
     },
     "metadata": {},
     "output_type": "display_data"
    },
    {
     "data": {
      "text/html": [
       "<pre style=\"white-space:pre;overflow-x:auto;line-height:normal;font-family:Menlo,'DejaVu Sans Mono',consolas,'Courier New',monospace\"><span style=\"color: #7fbfbf; text-decoration-color: #7fbfbf\">                    </span><span style=\"color: #000080; text-decoration-color: #000080\">INFO    </span> <span style=\"font-weight: bold\">[</span><span style=\"color: #008080; text-decoration-color: #008080; font-weight: bold\">111</span>/<span style=\"color: #008080; text-decoration-color: #008080; font-weight: bold\">308</span><span style=\"font-weight: bold\">]</span> Retrieving game with <span style=\"color: #808000; text-decoration-color: #808000\">id</span>=<span style=\"color: #800080; text-decoration-color: #800080\">9cba4e5b</span>                                <a href=\"file:///home/codespace/.local/lib/python3.12/site-packages/fbrefdata/fbref.py\" target=\"_blank\"><span style=\"color: #7f7f7f; text-decoration-color: #7f7f7f\">fbref.py</span></a><span style=\"color: #7f7f7f; text-decoration-color: #7f7f7f\">:</span><a href=\"file:///home/codespace/.local/lib/python3.12/site-packages/fbrefdata/fbref.py#927\" target=\"_blank\"><span style=\"color: #7f7f7f; text-decoration-color: #7f7f7f\">927</span></a>\n",
       "</pre>\n"
      ],
      "text/plain": [
       "\u001b[2;36m                   \u001b[0m\u001b[2;36m \u001b[0m\u001b[34mINFO    \u001b[0m \u001b[1m[\u001b[0m\u001b[1;36m111\u001b[0m/\u001b[1;36m308\u001b[0m\u001b[1m]\u001b[0m Retrieving game with \u001b[33mid\u001b[0m=\u001b[35m9cba4e5b\u001b[0m                                \u001b]8;id=33393;file:///home/codespace/.local/lib/python3.12/site-packages/fbrefdata/fbref.py\u001b\\\u001b[2mfbref.py\u001b[0m\u001b]8;;\u001b\\\u001b[2m:\u001b[0m\u001b]8;id=132587;file:///home/codespace/.local/lib/python3.12/site-packages/fbrefdata/fbref.py#927\u001b\\\u001b[2m927\u001b[0m\u001b]8;;\u001b\\\n"
      ]
     },
     "metadata": {},
     "output_type": "display_data"
    },
    {
     "data": {
      "text/html": [
       "<pre style=\"white-space:pre;overflow-x:auto;line-height:normal;font-family:Menlo,'DejaVu Sans Mono',consolas,'Courier New',monospace\"><span style=\"color: #7fbfbf; text-decoration-color: #7fbfbf\">                    </span><span style=\"color: #000080; text-decoration-color: #000080\">INFO    </span> <span style=\"font-weight: bold\">[</span><span style=\"color: #008080; text-decoration-color: #008080; font-weight: bold\">112</span>/<span style=\"color: #008080; text-decoration-color: #008080; font-weight: bold\">308</span><span style=\"font-weight: bold\">]</span> Retrieving game with <span style=\"color: #808000; text-decoration-color: #808000\">id</span>=<span style=\"color: #800080; text-decoration-color: #800080\">ea4a5784</span>                                <a href=\"file:///home/codespace/.local/lib/python3.12/site-packages/fbrefdata/fbref.py\" target=\"_blank\"><span style=\"color: #7f7f7f; text-decoration-color: #7f7f7f\">fbref.py</span></a><span style=\"color: #7f7f7f; text-decoration-color: #7f7f7f\">:</span><a href=\"file:///home/codespace/.local/lib/python3.12/site-packages/fbrefdata/fbref.py#927\" target=\"_blank\"><span style=\"color: #7f7f7f; text-decoration-color: #7f7f7f\">927</span></a>\n",
       "</pre>\n"
      ],
      "text/plain": [
       "\u001b[2;36m                   \u001b[0m\u001b[2;36m \u001b[0m\u001b[34mINFO    \u001b[0m \u001b[1m[\u001b[0m\u001b[1;36m112\u001b[0m/\u001b[1;36m308\u001b[0m\u001b[1m]\u001b[0m Retrieving game with \u001b[33mid\u001b[0m=\u001b[35mea4a5784\u001b[0m                                \u001b]8;id=293904;file:///home/codespace/.local/lib/python3.12/site-packages/fbrefdata/fbref.py\u001b\\\u001b[2mfbref.py\u001b[0m\u001b]8;;\u001b\\\u001b[2m:\u001b[0m\u001b]8;id=488868;file:///home/codespace/.local/lib/python3.12/site-packages/fbrefdata/fbref.py#927\u001b\\\u001b[2m927\u001b[0m\u001b]8;;\u001b\\\n"
      ]
     },
     "metadata": {},
     "output_type": "display_data"
    },
    {
     "data": {
      "text/html": [
       "<pre style=\"white-space:pre;overflow-x:auto;line-height:normal;font-family:Menlo,'DejaVu Sans Mono',consolas,'Courier New',monospace\"><span style=\"color: #7fbfbf; text-decoration-color: #7fbfbf\">                    </span><span style=\"color: #000080; text-decoration-color: #000080\">INFO    </span> <span style=\"font-weight: bold\">[</span><span style=\"color: #008080; text-decoration-color: #008080; font-weight: bold\">113</span>/<span style=\"color: #008080; text-decoration-color: #008080; font-weight: bold\">308</span><span style=\"font-weight: bold\">]</span> Retrieving game with <span style=\"color: #808000; text-decoration-color: #808000\">id</span>=<span style=\"color: #800080; text-decoration-color: #800080\">d94a7894</span>                                <a href=\"file:///home/codespace/.local/lib/python3.12/site-packages/fbrefdata/fbref.py\" target=\"_blank\"><span style=\"color: #7f7f7f; text-decoration-color: #7f7f7f\">fbref.py</span></a><span style=\"color: #7f7f7f; text-decoration-color: #7f7f7f\">:</span><a href=\"file:///home/codespace/.local/lib/python3.12/site-packages/fbrefdata/fbref.py#927\" target=\"_blank\"><span style=\"color: #7f7f7f; text-decoration-color: #7f7f7f\">927</span></a>\n",
       "</pre>\n"
      ],
      "text/plain": [
       "\u001b[2;36m                   \u001b[0m\u001b[2;36m \u001b[0m\u001b[34mINFO    \u001b[0m \u001b[1m[\u001b[0m\u001b[1;36m113\u001b[0m/\u001b[1;36m308\u001b[0m\u001b[1m]\u001b[0m Retrieving game with \u001b[33mid\u001b[0m=\u001b[35md94a7894\u001b[0m                                \u001b]8;id=434139;file:///home/codespace/.local/lib/python3.12/site-packages/fbrefdata/fbref.py\u001b\\\u001b[2mfbref.py\u001b[0m\u001b]8;;\u001b\\\u001b[2m:\u001b[0m\u001b]8;id=216421;file:///home/codespace/.local/lib/python3.12/site-packages/fbrefdata/fbref.py#927\u001b\\\u001b[2m927\u001b[0m\u001b]8;;\u001b\\\n"
      ]
     },
     "metadata": {},
     "output_type": "display_data"
    },
    {
     "data": {
      "text/html": [
       "<pre style=\"white-space:pre;overflow-x:auto;line-height:normal;font-family:Menlo,'DejaVu Sans Mono',consolas,'Courier New',monospace\"><span style=\"color: #7fbfbf; text-decoration-color: #7fbfbf\">                    </span><span style=\"color: #000080; text-decoration-color: #000080\">INFO    </span> <span style=\"font-weight: bold\">[</span><span style=\"color: #008080; text-decoration-color: #008080; font-weight: bold\">114</span>/<span style=\"color: #008080; text-decoration-color: #008080; font-weight: bold\">308</span><span style=\"font-weight: bold\">]</span> Retrieving game with <span style=\"color: #808000; text-decoration-color: #808000\">id</span>=<span style=\"color: #800080; text-decoration-color: #800080\">48fdc28d</span>                                <a href=\"file:///home/codespace/.local/lib/python3.12/site-packages/fbrefdata/fbref.py\" target=\"_blank\"><span style=\"color: #7f7f7f; text-decoration-color: #7f7f7f\">fbref.py</span></a><span style=\"color: #7f7f7f; text-decoration-color: #7f7f7f\">:</span><a href=\"file:///home/codespace/.local/lib/python3.12/site-packages/fbrefdata/fbref.py#927\" target=\"_blank\"><span style=\"color: #7f7f7f; text-decoration-color: #7f7f7f\">927</span></a>\n",
       "</pre>\n"
      ],
      "text/plain": [
       "\u001b[2;36m                   \u001b[0m\u001b[2;36m \u001b[0m\u001b[34mINFO    \u001b[0m \u001b[1m[\u001b[0m\u001b[1;36m114\u001b[0m/\u001b[1;36m308\u001b[0m\u001b[1m]\u001b[0m Retrieving game with \u001b[33mid\u001b[0m=\u001b[35m48fdc28d\u001b[0m                                \u001b]8;id=103681;file:///home/codespace/.local/lib/python3.12/site-packages/fbrefdata/fbref.py\u001b\\\u001b[2mfbref.py\u001b[0m\u001b]8;;\u001b\\\u001b[2m:\u001b[0m\u001b]8;id=274628;file:///home/codespace/.local/lib/python3.12/site-packages/fbrefdata/fbref.py#927\u001b\\\u001b[2m927\u001b[0m\u001b]8;;\u001b\\\n"
      ]
     },
     "metadata": {},
     "output_type": "display_data"
    },
    {
     "data": {
      "text/html": [
       "<pre style=\"white-space:pre;overflow-x:auto;line-height:normal;font-family:Menlo,'DejaVu Sans Mono',consolas,'Courier New',monospace\"><span style=\"color: #7fbfbf; text-decoration-color: #7fbfbf\">                    </span><span style=\"color: #000080; text-decoration-color: #000080\">INFO    </span> <span style=\"font-weight: bold\">[</span><span style=\"color: #008080; text-decoration-color: #008080; font-weight: bold\">115</span>/<span style=\"color: #008080; text-decoration-color: #008080; font-weight: bold\">308</span><span style=\"font-weight: bold\">]</span> Retrieving game with <span style=\"color: #808000; text-decoration-color: #808000\">id</span>=<span style=\"color: #800080; text-decoration-color: #800080\">844cb66a</span>                                <a href=\"file:///home/codespace/.local/lib/python3.12/site-packages/fbrefdata/fbref.py\" target=\"_blank\"><span style=\"color: #7f7f7f; text-decoration-color: #7f7f7f\">fbref.py</span></a><span style=\"color: #7f7f7f; text-decoration-color: #7f7f7f\">:</span><a href=\"file:///home/codespace/.local/lib/python3.12/site-packages/fbrefdata/fbref.py#927\" target=\"_blank\"><span style=\"color: #7f7f7f; text-decoration-color: #7f7f7f\">927</span></a>\n",
       "</pre>\n"
      ],
      "text/plain": [
       "\u001b[2;36m                   \u001b[0m\u001b[2;36m \u001b[0m\u001b[34mINFO    \u001b[0m \u001b[1m[\u001b[0m\u001b[1;36m115\u001b[0m/\u001b[1;36m308\u001b[0m\u001b[1m]\u001b[0m Retrieving game with \u001b[33mid\u001b[0m=\u001b[35m844cb66a\u001b[0m                                \u001b]8;id=288171;file:///home/codespace/.local/lib/python3.12/site-packages/fbrefdata/fbref.py\u001b\\\u001b[2mfbref.py\u001b[0m\u001b]8;;\u001b\\\u001b[2m:\u001b[0m\u001b]8;id=605560;file:///home/codespace/.local/lib/python3.12/site-packages/fbrefdata/fbref.py#927\u001b\\\u001b[2m927\u001b[0m\u001b]8;;\u001b\\\n"
      ]
     },
     "metadata": {},
     "output_type": "display_data"
    },
    {
     "data": {
      "text/html": [
       "<pre style=\"white-space:pre;overflow-x:auto;line-height:normal;font-family:Menlo,'DejaVu Sans Mono',consolas,'Courier New',monospace\"><span style=\"color: #7fbfbf; text-decoration-color: #7fbfbf\">                    </span><span style=\"color: #000080; text-decoration-color: #000080\">INFO    </span> <span style=\"font-weight: bold\">[</span><span style=\"color: #008080; text-decoration-color: #008080; font-weight: bold\">116</span>/<span style=\"color: #008080; text-decoration-color: #008080; font-weight: bold\">308</span><span style=\"font-weight: bold\">]</span> Retrieving game with <span style=\"color: #808000; text-decoration-color: #808000\">id</span>=<span style=\"color: #800080; text-decoration-color: #800080\">90e639ca</span>                                <a href=\"file:///home/codespace/.local/lib/python3.12/site-packages/fbrefdata/fbref.py\" target=\"_blank\"><span style=\"color: #7f7f7f; text-decoration-color: #7f7f7f\">fbref.py</span></a><span style=\"color: #7f7f7f; text-decoration-color: #7f7f7f\">:</span><a href=\"file:///home/codespace/.local/lib/python3.12/site-packages/fbrefdata/fbref.py#927\" target=\"_blank\"><span style=\"color: #7f7f7f; text-decoration-color: #7f7f7f\">927</span></a>\n",
       "</pre>\n"
      ],
      "text/plain": [
       "\u001b[2;36m                   \u001b[0m\u001b[2;36m \u001b[0m\u001b[34mINFO    \u001b[0m \u001b[1m[\u001b[0m\u001b[1;36m116\u001b[0m/\u001b[1;36m308\u001b[0m\u001b[1m]\u001b[0m Retrieving game with \u001b[33mid\u001b[0m=\u001b[35m90e639ca\u001b[0m                                \u001b]8;id=81553;file:///home/codespace/.local/lib/python3.12/site-packages/fbrefdata/fbref.py\u001b\\\u001b[2mfbref.py\u001b[0m\u001b]8;;\u001b\\\u001b[2m:\u001b[0m\u001b]8;id=716811;file:///home/codespace/.local/lib/python3.12/site-packages/fbrefdata/fbref.py#927\u001b\\\u001b[2m927\u001b[0m\u001b]8;;\u001b\\\n"
      ]
     },
     "metadata": {},
     "output_type": "display_data"
    },
    {
     "data": {
      "text/html": [
       "<pre style=\"white-space:pre;overflow-x:auto;line-height:normal;font-family:Menlo,'DejaVu Sans Mono',consolas,'Courier New',monospace\"><span style=\"color: #7fbfbf; text-decoration-color: #7fbfbf\">                    </span><span style=\"color: #000080; text-decoration-color: #000080\">INFO    </span> <span style=\"font-weight: bold\">[</span><span style=\"color: #008080; text-decoration-color: #008080; font-weight: bold\">117</span>/<span style=\"color: #008080; text-decoration-color: #008080; font-weight: bold\">308</span><span style=\"font-weight: bold\">]</span> Retrieving game with <span style=\"color: #808000; text-decoration-color: #808000\">id</span>=<span style=\"color: #800080; text-decoration-color: #800080\">1126aa36</span>                                <a href=\"file:///home/codespace/.local/lib/python3.12/site-packages/fbrefdata/fbref.py\" target=\"_blank\"><span style=\"color: #7f7f7f; text-decoration-color: #7f7f7f\">fbref.py</span></a><span style=\"color: #7f7f7f; text-decoration-color: #7f7f7f\">:</span><a href=\"file:///home/codespace/.local/lib/python3.12/site-packages/fbrefdata/fbref.py#927\" target=\"_blank\"><span style=\"color: #7f7f7f; text-decoration-color: #7f7f7f\">927</span></a>\n",
       "</pre>\n"
      ],
      "text/plain": [
       "\u001b[2;36m                   \u001b[0m\u001b[2;36m \u001b[0m\u001b[34mINFO    \u001b[0m \u001b[1m[\u001b[0m\u001b[1;36m117\u001b[0m/\u001b[1;36m308\u001b[0m\u001b[1m]\u001b[0m Retrieving game with \u001b[33mid\u001b[0m=\u001b[35m1126aa36\u001b[0m                                \u001b]8;id=534869;file:///home/codespace/.local/lib/python3.12/site-packages/fbrefdata/fbref.py\u001b\\\u001b[2mfbref.py\u001b[0m\u001b]8;;\u001b\\\u001b[2m:\u001b[0m\u001b]8;id=985250;file:///home/codespace/.local/lib/python3.12/site-packages/fbrefdata/fbref.py#927\u001b\\\u001b[2m927\u001b[0m\u001b]8;;\u001b\\\n"
      ]
     },
     "metadata": {},
     "output_type": "display_data"
    },
    {
     "data": {
      "text/html": [
       "<pre style=\"white-space:pre;overflow-x:auto;line-height:normal;font-family:Menlo,'DejaVu Sans Mono',consolas,'Courier New',monospace\"><span style=\"color: #7fbfbf; text-decoration-color: #7fbfbf\">                    </span><span style=\"color: #000080; text-decoration-color: #000080\">INFO    </span> <span style=\"font-weight: bold\">[</span><span style=\"color: #008080; text-decoration-color: #008080; font-weight: bold\">118</span>/<span style=\"color: #008080; text-decoration-color: #008080; font-weight: bold\">308</span><span style=\"font-weight: bold\">]</span> Retrieving game with <span style=\"color: #808000; text-decoration-color: #808000\">id</span>=<span style=\"color: #800080; text-decoration-color: #800080\">2c625684</span>                                <a href=\"file:///home/codespace/.local/lib/python3.12/site-packages/fbrefdata/fbref.py\" target=\"_blank\"><span style=\"color: #7f7f7f; text-decoration-color: #7f7f7f\">fbref.py</span></a><span style=\"color: #7f7f7f; text-decoration-color: #7f7f7f\">:</span><a href=\"file:///home/codespace/.local/lib/python3.12/site-packages/fbrefdata/fbref.py#927\" target=\"_blank\"><span style=\"color: #7f7f7f; text-decoration-color: #7f7f7f\">927</span></a>\n",
       "</pre>\n"
      ],
      "text/plain": [
       "\u001b[2;36m                   \u001b[0m\u001b[2;36m \u001b[0m\u001b[34mINFO    \u001b[0m \u001b[1m[\u001b[0m\u001b[1;36m118\u001b[0m/\u001b[1;36m308\u001b[0m\u001b[1m]\u001b[0m Retrieving game with \u001b[33mid\u001b[0m=\u001b[35m2c625684\u001b[0m                                \u001b]8;id=972247;file:///home/codespace/.local/lib/python3.12/site-packages/fbrefdata/fbref.py\u001b\\\u001b[2mfbref.py\u001b[0m\u001b]8;;\u001b\\\u001b[2m:\u001b[0m\u001b]8;id=131780;file:///home/codespace/.local/lib/python3.12/site-packages/fbrefdata/fbref.py#927\u001b\\\u001b[2m927\u001b[0m\u001b]8;;\u001b\\\n"
      ]
     },
     "metadata": {},
     "output_type": "display_data"
    },
    {
     "data": {
      "text/html": [
       "<pre style=\"white-space:pre;overflow-x:auto;line-height:normal;font-family:Menlo,'DejaVu Sans Mono',consolas,'Courier New',monospace\"><span style=\"color: #7fbfbf; text-decoration-color: #7fbfbf\">                    </span><span style=\"color: #000080; text-decoration-color: #000080\">INFO    </span> <span style=\"font-weight: bold\">[</span><span style=\"color: #008080; text-decoration-color: #008080; font-weight: bold\">119</span>/<span style=\"color: #008080; text-decoration-color: #008080; font-weight: bold\">308</span><span style=\"font-weight: bold\">]</span> Retrieving game with <span style=\"color: #808000; text-decoration-color: #808000\">id</span>=<span style=\"color: #800080; text-decoration-color: #800080\">13eea8f1</span>                                <a href=\"file:///home/codespace/.local/lib/python3.12/site-packages/fbrefdata/fbref.py\" target=\"_blank\"><span style=\"color: #7f7f7f; text-decoration-color: #7f7f7f\">fbref.py</span></a><span style=\"color: #7f7f7f; text-decoration-color: #7f7f7f\">:</span><a href=\"file:///home/codespace/.local/lib/python3.12/site-packages/fbrefdata/fbref.py#927\" target=\"_blank\"><span style=\"color: #7f7f7f; text-decoration-color: #7f7f7f\">927</span></a>\n",
       "</pre>\n"
      ],
      "text/plain": [
       "\u001b[2;36m                   \u001b[0m\u001b[2;36m \u001b[0m\u001b[34mINFO    \u001b[0m \u001b[1m[\u001b[0m\u001b[1;36m119\u001b[0m/\u001b[1;36m308\u001b[0m\u001b[1m]\u001b[0m Retrieving game with \u001b[33mid\u001b[0m=\u001b[35m13eea8f1\u001b[0m                                \u001b]8;id=521724;file:///home/codespace/.local/lib/python3.12/site-packages/fbrefdata/fbref.py\u001b\\\u001b[2mfbref.py\u001b[0m\u001b]8;;\u001b\\\u001b[2m:\u001b[0m\u001b]8;id=886610;file:///home/codespace/.local/lib/python3.12/site-packages/fbrefdata/fbref.py#927\u001b\\\u001b[2m927\u001b[0m\u001b]8;;\u001b\\\n"
      ]
     },
     "metadata": {},
     "output_type": "display_data"
    },
    {
     "data": {
      "text/html": [
       "<pre style=\"white-space:pre;overflow-x:auto;line-height:normal;font-family:Menlo,'DejaVu Sans Mono',consolas,'Courier New',monospace\"><span style=\"color: #7fbfbf; text-decoration-color: #7fbfbf\">                    </span><span style=\"color: #000080; text-decoration-color: #000080\">INFO    </span> <span style=\"font-weight: bold\">[</span><span style=\"color: #008080; text-decoration-color: #008080; font-weight: bold\">120</span>/<span style=\"color: #008080; text-decoration-color: #008080; font-weight: bold\">308</span><span style=\"font-weight: bold\">]</span> Retrieving game with <span style=\"color: #808000; text-decoration-color: #808000\">id</span>=<span style=\"color: #800080; text-decoration-color: #800080\">fa99b883</span>                                <a href=\"file:///home/codespace/.local/lib/python3.12/site-packages/fbrefdata/fbref.py\" target=\"_blank\"><span style=\"color: #7f7f7f; text-decoration-color: #7f7f7f\">fbref.py</span></a><span style=\"color: #7f7f7f; text-decoration-color: #7f7f7f\">:</span><a href=\"file:///home/codespace/.local/lib/python3.12/site-packages/fbrefdata/fbref.py#927\" target=\"_blank\"><span style=\"color: #7f7f7f; text-decoration-color: #7f7f7f\">927</span></a>\n",
       "</pre>\n"
      ],
      "text/plain": [
       "\u001b[2;36m                   \u001b[0m\u001b[2;36m \u001b[0m\u001b[34mINFO    \u001b[0m \u001b[1m[\u001b[0m\u001b[1;36m120\u001b[0m/\u001b[1;36m308\u001b[0m\u001b[1m]\u001b[0m Retrieving game with \u001b[33mid\u001b[0m=\u001b[35mfa99b883\u001b[0m                                \u001b]8;id=872154;file:///home/codespace/.local/lib/python3.12/site-packages/fbrefdata/fbref.py\u001b\\\u001b[2mfbref.py\u001b[0m\u001b]8;;\u001b\\\u001b[2m:\u001b[0m\u001b]8;id=379060;file:///home/codespace/.local/lib/python3.12/site-packages/fbrefdata/fbref.py#927\u001b\\\u001b[2m927\u001b[0m\u001b]8;;\u001b\\\n"
      ]
     },
     "metadata": {},
     "output_type": "display_data"
    },
    {
     "data": {
      "text/html": [
       "<pre style=\"white-space:pre;overflow-x:auto;line-height:normal;font-family:Menlo,'DejaVu Sans Mono',consolas,'Courier New',monospace\"><span style=\"color: #7fbfbf; text-decoration-color: #7fbfbf\">                    </span><span style=\"color: #000080; text-decoration-color: #000080\">INFO    </span> <span style=\"font-weight: bold\">[</span><span style=\"color: #008080; text-decoration-color: #008080; font-weight: bold\">121</span>/<span style=\"color: #008080; text-decoration-color: #008080; font-weight: bold\">308</span><span style=\"font-weight: bold\">]</span> Retrieving game with <span style=\"color: #808000; text-decoration-color: #808000\">id</span>=<span style=\"color: #800080; text-decoration-color: #800080\">a8653b9a</span>                                <a href=\"file:///home/codespace/.local/lib/python3.12/site-packages/fbrefdata/fbref.py\" target=\"_blank\"><span style=\"color: #7f7f7f; text-decoration-color: #7f7f7f\">fbref.py</span></a><span style=\"color: #7f7f7f; text-decoration-color: #7f7f7f\">:</span><a href=\"file:///home/codespace/.local/lib/python3.12/site-packages/fbrefdata/fbref.py#927\" target=\"_blank\"><span style=\"color: #7f7f7f; text-decoration-color: #7f7f7f\">927</span></a>\n",
       "</pre>\n"
      ],
      "text/plain": [
       "\u001b[2;36m                   \u001b[0m\u001b[2;36m \u001b[0m\u001b[34mINFO    \u001b[0m \u001b[1m[\u001b[0m\u001b[1;36m121\u001b[0m/\u001b[1;36m308\u001b[0m\u001b[1m]\u001b[0m Retrieving game with \u001b[33mid\u001b[0m=\u001b[35ma8653b9a\u001b[0m                                \u001b]8;id=214931;file:///home/codespace/.local/lib/python3.12/site-packages/fbrefdata/fbref.py\u001b\\\u001b[2mfbref.py\u001b[0m\u001b]8;;\u001b\\\u001b[2m:\u001b[0m\u001b]8;id=529194;file:///home/codespace/.local/lib/python3.12/site-packages/fbrefdata/fbref.py#927\u001b\\\u001b[2m927\u001b[0m\u001b]8;;\u001b\\\n"
      ]
     },
     "metadata": {},
     "output_type": "display_data"
    },
    {
     "data": {
      "text/html": [
       "<pre style=\"white-space:pre;overflow-x:auto;line-height:normal;font-family:Menlo,'DejaVu Sans Mono',consolas,'Courier New',monospace\"><span style=\"color: #7fbfbf; text-decoration-color: #7fbfbf\">                    </span><span style=\"color: #000080; text-decoration-color: #000080\">INFO    </span> <span style=\"font-weight: bold\">[</span><span style=\"color: #008080; text-decoration-color: #008080; font-weight: bold\">122</span>/<span style=\"color: #008080; text-decoration-color: #008080; font-weight: bold\">308</span><span style=\"font-weight: bold\">]</span> Retrieving game with <span style=\"color: #808000; text-decoration-color: #808000\">id</span>=<span style=\"color: #800080; text-decoration-color: #800080\">38634b76</span>                                <a href=\"file:///home/codespace/.local/lib/python3.12/site-packages/fbrefdata/fbref.py\" target=\"_blank\"><span style=\"color: #7f7f7f; text-decoration-color: #7f7f7f\">fbref.py</span></a><span style=\"color: #7f7f7f; text-decoration-color: #7f7f7f\">:</span><a href=\"file:///home/codespace/.local/lib/python3.12/site-packages/fbrefdata/fbref.py#927\" target=\"_blank\"><span style=\"color: #7f7f7f; text-decoration-color: #7f7f7f\">927</span></a>\n",
       "</pre>\n"
      ],
      "text/plain": [
       "\u001b[2;36m                   \u001b[0m\u001b[2;36m \u001b[0m\u001b[34mINFO    \u001b[0m \u001b[1m[\u001b[0m\u001b[1;36m122\u001b[0m/\u001b[1;36m308\u001b[0m\u001b[1m]\u001b[0m Retrieving game with \u001b[33mid\u001b[0m=\u001b[35m38634b76\u001b[0m                                \u001b]8;id=396908;file:///home/codespace/.local/lib/python3.12/site-packages/fbrefdata/fbref.py\u001b\\\u001b[2mfbref.py\u001b[0m\u001b]8;;\u001b\\\u001b[2m:\u001b[0m\u001b]8;id=309959;file:///home/codespace/.local/lib/python3.12/site-packages/fbrefdata/fbref.py#927\u001b\\\u001b[2m927\u001b[0m\u001b]8;;\u001b\\\n"
      ]
     },
     "metadata": {},
     "output_type": "display_data"
    },
    {
     "data": {
      "text/html": [
       "<pre style=\"white-space:pre;overflow-x:auto;line-height:normal;font-family:Menlo,'DejaVu Sans Mono',consolas,'Courier New',monospace\"><span style=\"color: #7fbfbf; text-decoration-color: #7fbfbf\">                    </span><span style=\"color: #000080; text-decoration-color: #000080\">INFO    </span> <span style=\"font-weight: bold\">[</span><span style=\"color: #008080; text-decoration-color: #008080; font-weight: bold\">123</span>/<span style=\"color: #008080; text-decoration-color: #008080; font-weight: bold\">308</span><span style=\"font-weight: bold\">]</span> Retrieving game with <span style=\"color: #808000; text-decoration-color: #808000\">id</span>=<span style=\"color: #800080; text-decoration-color: #800080\">8567cef6</span>                                <a href=\"file:///home/codespace/.local/lib/python3.12/site-packages/fbrefdata/fbref.py\" target=\"_blank\"><span style=\"color: #7f7f7f; text-decoration-color: #7f7f7f\">fbref.py</span></a><span style=\"color: #7f7f7f; text-decoration-color: #7f7f7f\">:</span><a href=\"file:///home/codespace/.local/lib/python3.12/site-packages/fbrefdata/fbref.py#927\" target=\"_blank\"><span style=\"color: #7f7f7f; text-decoration-color: #7f7f7f\">927</span></a>\n",
       "</pre>\n"
      ],
      "text/plain": [
       "\u001b[2;36m                   \u001b[0m\u001b[2;36m \u001b[0m\u001b[34mINFO    \u001b[0m \u001b[1m[\u001b[0m\u001b[1;36m123\u001b[0m/\u001b[1;36m308\u001b[0m\u001b[1m]\u001b[0m Retrieving game with \u001b[33mid\u001b[0m=\u001b[35m8567cef6\u001b[0m                                \u001b]8;id=100316;file:///home/codespace/.local/lib/python3.12/site-packages/fbrefdata/fbref.py\u001b\\\u001b[2mfbref.py\u001b[0m\u001b]8;;\u001b\\\u001b[2m:\u001b[0m\u001b]8;id=580664;file:///home/codespace/.local/lib/python3.12/site-packages/fbrefdata/fbref.py#927\u001b\\\u001b[2m927\u001b[0m\u001b]8;;\u001b\\\n"
      ]
     },
     "metadata": {},
     "output_type": "display_data"
    },
    {
     "data": {
      "text/html": [
       "<pre style=\"white-space:pre;overflow-x:auto;line-height:normal;font-family:Menlo,'DejaVu Sans Mono',consolas,'Courier New',monospace\"><span style=\"color: #7fbfbf; text-decoration-color: #7fbfbf\">                    </span><span style=\"color: #000080; text-decoration-color: #000080\">INFO    </span> <span style=\"font-weight: bold\">[</span><span style=\"color: #008080; text-decoration-color: #008080; font-weight: bold\">124</span>/<span style=\"color: #008080; text-decoration-color: #008080; font-weight: bold\">308</span><span style=\"font-weight: bold\">]</span> Retrieving game with <span style=\"color: #808000; text-decoration-color: #808000\">id</span>=<span style=\"color: #800080; text-decoration-color: #800080\">d70ff0fb</span>                                <a href=\"file:///home/codespace/.local/lib/python3.12/site-packages/fbrefdata/fbref.py\" target=\"_blank\"><span style=\"color: #7f7f7f; text-decoration-color: #7f7f7f\">fbref.py</span></a><span style=\"color: #7f7f7f; text-decoration-color: #7f7f7f\">:</span><a href=\"file:///home/codespace/.local/lib/python3.12/site-packages/fbrefdata/fbref.py#927\" target=\"_blank\"><span style=\"color: #7f7f7f; text-decoration-color: #7f7f7f\">927</span></a>\n",
       "</pre>\n"
      ],
      "text/plain": [
       "\u001b[2;36m                   \u001b[0m\u001b[2;36m \u001b[0m\u001b[34mINFO    \u001b[0m \u001b[1m[\u001b[0m\u001b[1;36m124\u001b[0m/\u001b[1;36m308\u001b[0m\u001b[1m]\u001b[0m Retrieving game with \u001b[33mid\u001b[0m=\u001b[35md70ff0fb\u001b[0m                                \u001b]8;id=171910;file:///home/codespace/.local/lib/python3.12/site-packages/fbrefdata/fbref.py\u001b\\\u001b[2mfbref.py\u001b[0m\u001b]8;;\u001b\\\u001b[2m:\u001b[0m\u001b]8;id=731158;file:///home/codespace/.local/lib/python3.12/site-packages/fbrefdata/fbref.py#927\u001b\\\u001b[2m927\u001b[0m\u001b]8;;\u001b\\\n"
      ]
     },
     "metadata": {},
     "output_type": "display_data"
    },
    {
     "data": {
      "text/html": [
       "<pre style=\"white-space:pre;overflow-x:auto;line-height:normal;font-family:Menlo,'DejaVu Sans Mono',consolas,'Courier New',monospace\"><span style=\"color: #7fbfbf; text-decoration-color: #7fbfbf\">                    </span><span style=\"color: #000080; text-decoration-color: #000080\">INFO    </span> <span style=\"font-weight: bold\">[</span><span style=\"color: #008080; text-decoration-color: #008080; font-weight: bold\">125</span>/<span style=\"color: #008080; text-decoration-color: #008080; font-weight: bold\">308</span><span style=\"font-weight: bold\">]</span> Retrieving game with <span style=\"color: #808000; text-decoration-color: #808000\">id</span>=<span style=\"color: #800080; text-decoration-color: #800080\">a6010fb3</span>                                <a href=\"file:///home/codespace/.local/lib/python3.12/site-packages/fbrefdata/fbref.py\" target=\"_blank\"><span style=\"color: #7f7f7f; text-decoration-color: #7f7f7f\">fbref.py</span></a><span style=\"color: #7f7f7f; text-decoration-color: #7f7f7f\">:</span><a href=\"file:///home/codespace/.local/lib/python3.12/site-packages/fbrefdata/fbref.py#927\" target=\"_blank\"><span style=\"color: #7f7f7f; text-decoration-color: #7f7f7f\">927</span></a>\n",
       "</pre>\n"
      ],
      "text/plain": [
       "\u001b[2;36m                   \u001b[0m\u001b[2;36m \u001b[0m\u001b[34mINFO    \u001b[0m \u001b[1m[\u001b[0m\u001b[1;36m125\u001b[0m/\u001b[1;36m308\u001b[0m\u001b[1m]\u001b[0m Retrieving game with \u001b[33mid\u001b[0m=\u001b[35ma6010fb3\u001b[0m                                \u001b]8;id=396838;file:///home/codespace/.local/lib/python3.12/site-packages/fbrefdata/fbref.py\u001b\\\u001b[2mfbref.py\u001b[0m\u001b]8;;\u001b\\\u001b[2m:\u001b[0m\u001b]8;id=709843;file:///home/codespace/.local/lib/python3.12/site-packages/fbrefdata/fbref.py#927\u001b\\\u001b[2m927\u001b[0m\u001b]8;;\u001b\\\n"
      ]
     },
     "metadata": {},
     "output_type": "display_data"
    },
    {
     "data": {
      "text/html": [
       "<pre style=\"white-space:pre;overflow-x:auto;line-height:normal;font-family:Menlo,'DejaVu Sans Mono',consolas,'Courier New',monospace\"><span style=\"color: #7fbfbf; text-decoration-color: #7fbfbf\">                    </span><span style=\"color: #000080; text-decoration-color: #000080\">INFO    </span> <span style=\"font-weight: bold\">[</span><span style=\"color: #008080; text-decoration-color: #008080; font-weight: bold\">126</span>/<span style=\"color: #008080; text-decoration-color: #008080; font-weight: bold\">308</span><span style=\"font-weight: bold\">]</span> Retrieving game with <span style=\"color: #808000; text-decoration-color: #808000\">id</span>=<span style=\"color: #800080; text-decoration-color: #800080\">380f273e</span>                                <a href=\"file:///home/codespace/.local/lib/python3.12/site-packages/fbrefdata/fbref.py\" target=\"_blank\"><span style=\"color: #7f7f7f; text-decoration-color: #7f7f7f\">fbref.py</span></a><span style=\"color: #7f7f7f; text-decoration-color: #7f7f7f\">:</span><a href=\"file:///home/codespace/.local/lib/python3.12/site-packages/fbrefdata/fbref.py#927\" target=\"_blank\"><span style=\"color: #7f7f7f; text-decoration-color: #7f7f7f\">927</span></a>\n",
       "</pre>\n"
      ],
      "text/plain": [
       "\u001b[2;36m                   \u001b[0m\u001b[2;36m \u001b[0m\u001b[34mINFO    \u001b[0m \u001b[1m[\u001b[0m\u001b[1;36m126\u001b[0m/\u001b[1;36m308\u001b[0m\u001b[1m]\u001b[0m Retrieving game with \u001b[33mid\u001b[0m=\u001b[35m380f273e\u001b[0m                                \u001b]8;id=478732;file:///home/codespace/.local/lib/python3.12/site-packages/fbrefdata/fbref.py\u001b\\\u001b[2mfbref.py\u001b[0m\u001b]8;;\u001b\\\u001b[2m:\u001b[0m\u001b]8;id=942053;file:///home/codespace/.local/lib/python3.12/site-packages/fbrefdata/fbref.py#927\u001b\\\u001b[2m927\u001b[0m\u001b]8;;\u001b\\\n"
      ]
     },
     "metadata": {},
     "output_type": "display_data"
    },
    {
     "data": {
      "text/html": [
       "<pre style=\"white-space:pre;overflow-x:auto;line-height:normal;font-family:Menlo,'DejaVu Sans Mono',consolas,'Courier New',monospace\"><span style=\"color: #7fbfbf; text-decoration-color: #7fbfbf\">                    </span><span style=\"color: #000080; text-decoration-color: #000080\">INFO    </span> <span style=\"font-weight: bold\">[</span><span style=\"color: #008080; text-decoration-color: #008080; font-weight: bold\">127</span>/<span style=\"color: #008080; text-decoration-color: #008080; font-weight: bold\">308</span><span style=\"font-weight: bold\">]</span> Retrieving game with <span style=\"color: #808000; text-decoration-color: #808000\">id</span>=<span style=\"color: #800080; text-decoration-color: #800080\">fc0fa29c</span>                                <a href=\"file:///home/codespace/.local/lib/python3.12/site-packages/fbrefdata/fbref.py\" target=\"_blank\"><span style=\"color: #7f7f7f; text-decoration-color: #7f7f7f\">fbref.py</span></a><span style=\"color: #7f7f7f; text-decoration-color: #7f7f7f\">:</span><a href=\"file:///home/codespace/.local/lib/python3.12/site-packages/fbrefdata/fbref.py#927\" target=\"_blank\"><span style=\"color: #7f7f7f; text-decoration-color: #7f7f7f\">927</span></a>\n",
       "</pre>\n"
      ],
      "text/plain": [
       "\u001b[2;36m                   \u001b[0m\u001b[2;36m \u001b[0m\u001b[34mINFO    \u001b[0m \u001b[1m[\u001b[0m\u001b[1;36m127\u001b[0m/\u001b[1;36m308\u001b[0m\u001b[1m]\u001b[0m Retrieving game with \u001b[33mid\u001b[0m=\u001b[35mfc0fa29c\u001b[0m                                \u001b]8;id=854616;file:///home/codespace/.local/lib/python3.12/site-packages/fbrefdata/fbref.py\u001b\\\u001b[2mfbref.py\u001b[0m\u001b]8;;\u001b\\\u001b[2m:\u001b[0m\u001b]8;id=227883;file:///home/codespace/.local/lib/python3.12/site-packages/fbrefdata/fbref.py#927\u001b\\\u001b[2m927\u001b[0m\u001b]8;;\u001b\\\n"
      ]
     },
     "metadata": {},
     "output_type": "display_data"
    },
    {
     "data": {
      "text/html": [
       "<pre style=\"white-space:pre;overflow-x:auto;line-height:normal;font-family:Menlo,'DejaVu Sans Mono',consolas,'Courier New',monospace\"><span style=\"color: #7fbfbf; text-decoration-color: #7fbfbf\">                    </span><span style=\"color: #000080; text-decoration-color: #000080\">INFO    </span> <span style=\"font-weight: bold\">[</span><span style=\"color: #008080; text-decoration-color: #008080; font-weight: bold\">128</span>/<span style=\"color: #008080; text-decoration-color: #008080; font-weight: bold\">308</span><span style=\"font-weight: bold\">]</span> Retrieving game with <span style=\"color: #808000; text-decoration-color: #808000\">id</span>=<span style=\"color: #800080; text-decoration-color: #800080\">8eaa4d72</span>                                <a href=\"file:///home/codespace/.local/lib/python3.12/site-packages/fbrefdata/fbref.py\" target=\"_blank\"><span style=\"color: #7f7f7f; text-decoration-color: #7f7f7f\">fbref.py</span></a><span style=\"color: #7f7f7f; text-decoration-color: #7f7f7f\">:</span><a href=\"file:///home/codespace/.local/lib/python3.12/site-packages/fbrefdata/fbref.py#927\" target=\"_blank\"><span style=\"color: #7f7f7f; text-decoration-color: #7f7f7f\">927</span></a>\n",
       "</pre>\n"
      ],
      "text/plain": [
       "\u001b[2;36m                   \u001b[0m\u001b[2;36m \u001b[0m\u001b[34mINFO    \u001b[0m \u001b[1m[\u001b[0m\u001b[1;36m128\u001b[0m/\u001b[1;36m308\u001b[0m\u001b[1m]\u001b[0m Retrieving game with \u001b[33mid\u001b[0m=\u001b[35m8eaa4d72\u001b[0m                                \u001b]8;id=106070;file:///home/codespace/.local/lib/python3.12/site-packages/fbrefdata/fbref.py\u001b\\\u001b[2mfbref.py\u001b[0m\u001b]8;;\u001b\\\u001b[2m:\u001b[0m\u001b]8;id=33042;file:///home/codespace/.local/lib/python3.12/site-packages/fbrefdata/fbref.py#927\u001b\\\u001b[2m927\u001b[0m\u001b]8;;\u001b\\\n"
      ]
     },
     "metadata": {},
     "output_type": "display_data"
    },
    {
     "data": {
      "text/html": [
       "<pre style=\"white-space:pre;overflow-x:auto;line-height:normal;font-family:Menlo,'DejaVu Sans Mono',consolas,'Courier New',monospace\"><span style=\"color: #7fbfbf; text-decoration-color: #7fbfbf\">                    </span><span style=\"color: #000080; text-decoration-color: #000080\">INFO    </span> <span style=\"font-weight: bold\">[</span><span style=\"color: #008080; text-decoration-color: #008080; font-weight: bold\">129</span>/<span style=\"color: #008080; text-decoration-color: #008080; font-weight: bold\">308</span><span style=\"font-weight: bold\">]</span> Retrieving game with <span style=\"color: #808000; text-decoration-color: #808000\">id</span>=<span style=\"color: #800080; text-decoration-color: #800080\">5d96ded1</span>                                <a href=\"file:///home/codespace/.local/lib/python3.12/site-packages/fbrefdata/fbref.py\" target=\"_blank\"><span style=\"color: #7f7f7f; text-decoration-color: #7f7f7f\">fbref.py</span></a><span style=\"color: #7f7f7f; text-decoration-color: #7f7f7f\">:</span><a href=\"file:///home/codespace/.local/lib/python3.12/site-packages/fbrefdata/fbref.py#927\" target=\"_blank\"><span style=\"color: #7f7f7f; text-decoration-color: #7f7f7f\">927</span></a>\n",
       "</pre>\n"
      ],
      "text/plain": [
       "\u001b[2;36m                   \u001b[0m\u001b[2;36m \u001b[0m\u001b[34mINFO    \u001b[0m \u001b[1m[\u001b[0m\u001b[1;36m129\u001b[0m/\u001b[1;36m308\u001b[0m\u001b[1m]\u001b[0m Retrieving game with \u001b[33mid\u001b[0m=\u001b[35m5d96ded1\u001b[0m                                \u001b]8;id=603644;file:///home/codespace/.local/lib/python3.12/site-packages/fbrefdata/fbref.py\u001b\\\u001b[2mfbref.py\u001b[0m\u001b]8;;\u001b\\\u001b[2m:\u001b[0m\u001b]8;id=611488;file:///home/codespace/.local/lib/python3.12/site-packages/fbrefdata/fbref.py#927\u001b\\\u001b[2m927\u001b[0m\u001b]8;;\u001b\\\n"
      ]
     },
     "metadata": {},
     "output_type": "display_data"
    },
    {
     "data": {
      "text/html": [
       "<pre style=\"white-space:pre;overflow-x:auto;line-height:normal;font-family:Menlo,'DejaVu Sans Mono',consolas,'Courier New',monospace\"><span style=\"color: #7fbfbf; text-decoration-color: #7fbfbf\">                    </span><span style=\"color: #000080; text-decoration-color: #000080\">INFO    </span> <span style=\"font-weight: bold\">[</span><span style=\"color: #008080; text-decoration-color: #008080; font-weight: bold\">130</span>/<span style=\"color: #008080; text-decoration-color: #008080; font-weight: bold\">308</span><span style=\"font-weight: bold\">]</span> Retrieving game with <span style=\"color: #808000; text-decoration-color: #808000\">id</span>=<span style=\"color: #800080; text-decoration-color: #800080\">1e9c0da7</span>                                <a href=\"file:///home/codespace/.local/lib/python3.12/site-packages/fbrefdata/fbref.py\" target=\"_blank\"><span style=\"color: #7f7f7f; text-decoration-color: #7f7f7f\">fbref.py</span></a><span style=\"color: #7f7f7f; text-decoration-color: #7f7f7f\">:</span><a href=\"file:///home/codespace/.local/lib/python3.12/site-packages/fbrefdata/fbref.py#927\" target=\"_blank\"><span style=\"color: #7f7f7f; text-decoration-color: #7f7f7f\">927</span></a>\n",
       "</pre>\n"
      ],
      "text/plain": [
       "\u001b[2;36m                   \u001b[0m\u001b[2;36m \u001b[0m\u001b[34mINFO    \u001b[0m \u001b[1m[\u001b[0m\u001b[1;36m130\u001b[0m/\u001b[1;36m308\u001b[0m\u001b[1m]\u001b[0m Retrieving game with \u001b[33mid\u001b[0m=\u001b[35m1e9c0da7\u001b[0m                                \u001b]8;id=485693;file:///home/codespace/.local/lib/python3.12/site-packages/fbrefdata/fbref.py\u001b\\\u001b[2mfbref.py\u001b[0m\u001b]8;;\u001b\\\u001b[2m:\u001b[0m\u001b]8;id=245132;file:///home/codespace/.local/lib/python3.12/site-packages/fbrefdata/fbref.py#927\u001b\\\u001b[2m927\u001b[0m\u001b]8;;\u001b\\\n"
      ]
     },
     "metadata": {},
     "output_type": "display_data"
    },
    {
     "data": {
      "text/html": [
       "<pre style=\"white-space:pre;overflow-x:auto;line-height:normal;font-family:Menlo,'DejaVu Sans Mono',consolas,'Courier New',monospace\"><span style=\"color: #7fbfbf; text-decoration-color: #7fbfbf\">                    </span><span style=\"color: #000080; text-decoration-color: #000080\">INFO    </span> <span style=\"font-weight: bold\">[</span><span style=\"color: #008080; text-decoration-color: #008080; font-weight: bold\">131</span>/<span style=\"color: #008080; text-decoration-color: #008080; font-weight: bold\">308</span><span style=\"font-weight: bold\">]</span> Retrieving game with <span style=\"color: #808000; text-decoration-color: #808000\">id</span>=<span style=\"color: #800080; text-decoration-color: #800080\">3280b7c0</span>                                <a href=\"file:///home/codespace/.local/lib/python3.12/site-packages/fbrefdata/fbref.py\" target=\"_blank\"><span style=\"color: #7f7f7f; text-decoration-color: #7f7f7f\">fbref.py</span></a><span style=\"color: #7f7f7f; text-decoration-color: #7f7f7f\">:</span><a href=\"file:///home/codespace/.local/lib/python3.12/site-packages/fbrefdata/fbref.py#927\" target=\"_blank\"><span style=\"color: #7f7f7f; text-decoration-color: #7f7f7f\">927</span></a>\n",
       "</pre>\n"
      ],
      "text/plain": [
       "\u001b[2;36m                   \u001b[0m\u001b[2;36m \u001b[0m\u001b[34mINFO    \u001b[0m \u001b[1m[\u001b[0m\u001b[1;36m131\u001b[0m/\u001b[1;36m308\u001b[0m\u001b[1m]\u001b[0m Retrieving game with \u001b[33mid\u001b[0m=\u001b[35m3280b7c0\u001b[0m                                \u001b]8;id=792759;file:///home/codespace/.local/lib/python3.12/site-packages/fbrefdata/fbref.py\u001b\\\u001b[2mfbref.py\u001b[0m\u001b]8;;\u001b\\\u001b[2m:\u001b[0m\u001b]8;id=645409;file:///home/codespace/.local/lib/python3.12/site-packages/fbrefdata/fbref.py#927\u001b\\\u001b[2m927\u001b[0m\u001b]8;;\u001b\\\n"
      ]
     },
     "metadata": {},
     "output_type": "display_data"
    },
    {
     "data": {
      "text/html": [
       "<pre style=\"white-space:pre;overflow-x:auto;line-height:normal;font-family:Menlo,'DejaVu Sans Mono',consolas,'Courier New',monospace\"><span style=\"color: #7fbfbf; text-decoration-color: #7fbfbf\">                    </span><span style=\"color: #000080; text-decoration-color: #000080\">INFO    </span> <span style=\"font-weight: bold\">[</span><span style=\"color: #008080; text-decoration-color: #008080; font-weight: bold\">132</span>/<span style=\"color: #008080; text-decoration-color: #008080; font-weight: bold\">308</span><span style=\"font-weight: bold\">]</span> Retrieving game with <span style=\"color: #808000; text-decoration-color: #808000\">id</span>=<span style=\"color: #800080; text-decoration-color: #800080\">f00e265e</span>                                <a href=\"file:///home/codespace/.local/lib/python3.12/site-packages/fbrefdata/fbref.py\" target=\"_blank\"><span style=\"color: #7f7f7f; text-decoration-color: #7f7f7f\">fbref.py</span></a><span style=\"color: #7f7f7f; text-decoration-color: #7f7f7f\">:</span><a href=\"file:///home/codespace/.local/lib/python3.12/site-packages/fbrefdata/fbref.py#927\" target=\"_blank\"><span style=\"color: #7f7f7f; text-decoration-color: #7f7f7f\">927</span></a>\n",
       "</pre>\n"
      ],
      "text/plain": [
       "\u001b[2;36m                   \u001b[0m\u001b[2;36m \u001b[0m\u001b[34mINFO    \u001b[0m \u001b[1m[\u001b[0m\u001b[1;36m132\u001b[0m/\u001b[1;36m308\u001b[0m\u001b[1m]\u001b[0m Retrieving game with \u001b[33mid\u001b[0m=\u001b[35mf00e265e\u001b[0m                                \u001b]8;id=933006;file:///home/codespace/.local/lib/python3.12/site-packages/fbrefdata/fbref.py\u001b\\\u001b[2mfbref.py\u001b[0m\u001b]8;;\u001b\\\u001b[2m:\u001b[0m\u001b]8;id=76711;file:///home/codespace/.local/lib/python3.12/site-packages/fbrefdata/fbref.py#927\u001b\\\u001b[2m927\u001b[0m\u001b]8;;\u001b\\\n"
      ]
     },
     "metadata": {},
     "output_type": "display_data"
    },
    {
     "data": {
      "text/html": [
       "<pre style=\"white-space:pre;overflow-x:auto;line-height:normal;font-family:Menlo,'DejaVu Sans Mono',consolas,'Courier New',monospace\"><span style=\"color: #7fbfbf; text-decoration-color: #7fbfbf\">                    </span><span style=\"color: #000080; text-decoration-color: #000080\">INFO    </span> <span style=\"font-weight: bold\">[</span><span style=\"color: #008080; text-decoration-color: #008080; font-weight: bold\">133</span>/<span style=\"color: #008080; text-decoration-color: #008080; font-weight: bold\">308</span><span style=\"font-weight: bold\">]</span> Retrieving game with <span style=\"color: #808000; text-decoration-color: #808000\">id</span>=<span style=\"color: #800080; text-decoration-color: #800080\">515a34c0</span>                                <a href=\"file:///home/codespace/.local/lib/python3.12/site-packages/fbrefdata/fbref.py\" target=\"_blank\"><span style=\"color: #7f7f7f; text-decoration-color: #7f7f7f\">fbref.py</span></a><span style=\"color: #7f7f7f; text-decoration-color: #7f7f7f\">:</span><a href=\"file:///home/codespace/.local/lib/python3.12/site-packages/fbrefdata/fbref.py#927\" target=\"_blank\"><span style=\"color: #7f7f7f; text-decoration-color: #7f7f7f\">927</span></a>\n",
       "</pre>\n"
      ],
      "text/plain": [
       "\u001b[2;36m                   \u001b[0m\u001b[2;36m \u001b[0m\u001b[34mINFO    \u001b[0m \u001b[1m[\u001b[0m\u001b[1;36m133\u001b[0m/\u001b[1;36m308\u001b[0m\u001b[1m]\u001b[0m Retrieving game with \u001b[33mid\u001b[0m=\u001b[35m515a34c0\u001b[0m                                \u001b]8;id=948093;file:///home/codespace/.local/lib/python3.12/site-packages/fbrefdata/fbref.py\u001b\\\u001b[2mfbref.py\u001b[0m\u001b]8;;\u001b\\\u001b[2m:\u001b[0m\u001b]8;id=347543;file:///home/codespace/.local/lib/python3.12/site-packages/fbrefdata/fbref.py#927\u001b\\\u001b[2m927\u001b[0m\u001b]8;;\u001b\\\n"
      ]
     },
     "metadata": {},
     "output_type": "display_data"
    },
    {
     "data": {
      "text/html": [
       "<pre style=\"white-space:pre;overflow-x:auto;line-height:normal;font-family:Menlo,'DejaVu Sans Mono',consolas,'Courier New',monospace\"><span style=\"color: #7fbfbf; text-decoration-color: #7fbfbf\">                    </span><span style=\"color: #000080; text-decoration-color: #000080\">INFO    </span> <span style=\"font-weight: bold\">[</span><span style=\"color: #008080; text-decoration-color: #008080; font-weight: bold\">134</span>/<span style=\"color: #008080; text-decoration-color: #008080; font-weight: bold\">308</span><span style=\"font-weight: bold\">]</span> Retrieving game with <span style=\"color: #808000; text-decoration-color: #808000\">id</span>=<span style=\"color: #800080; text-decoration-color: #800080\">bf9fd193</span>                                <a href=\"file:///home/codespace/.local/lib/python3.12/site-packages/fbrefdata/fbref.py\" target=\"_blank\"><span style=\"color: #7f7f7f; text-decoration-color: #7f7f7f\">fbref.py</span></a><span style=\"color: #7f7f7f; text-decoration-color: #7f7f7f\">:</span><a href=\"file:///home/codespace/.local/lib/python3.12/site-packages/fbrefdata/fbref.py#927\" target=\"_blank\"><span style=\"color: #7f7f7f; text-decoration-color: #7f7f7f\">927</span></a>\n",
       "</pre>\n"
      ],
      "text/plain": [
       "\u001b[2;36m                   \u001b[0m\u001b[2;36m \u001b[0m\u001b[34mINFO    \u001b[0m \u001b[1m[\u001b[0m\u001b[1;36m134\u001b[0m/\u001b[1;36m308\u001b[0m\u001b[1m]\u001b[0m Retrieving game with \u001b[33mid\u001b[0m=\u001b[35mbf9fd193\u001b[0m                                \u001b]8;id=887199;file:///home/codespace/.local/lib/python3.12/site-packages/fbrefdata/fbref.py\u001b\\\u001b[2mfbref.py\u001b[0m\u001b]8;;\u001b\\\u001b[2m:\u001b[0m\u001b]8;id=103449;file:///home/codespace/.local/lib/python3.12/site-packages/fbrefdata/fbref.py#927\u001b\\\u001b[2m927\u001b[0m\u001b]8;;\u001b\\\n"
      ]
     },
     "metadata": {},
     "output_type": "display_data"
    },
    {
     "data": {
      "text/html": [
       "<pre style=\"white-space:pre;overflow-x:auto;line-height:normal;font-family:Menlo,'DejaVu Sans Mono',consolas,'Courier New',monospace\"><span style=\"color: #7fbfbf; text-decoration-color: #7fbfbf\">                    </span><span style=\"color: #000080; text-decoration-color: #000080\">INFO    </span> <span style=\"font-weight: bold\">[</span><span style=\"color: #008080; text-decoration-color: #008080; font-weight: bold\">135</span>/<span style=\"color: #008080; text-decoration-color: #008080; font-weight: bold\">308</span><span style=\"font-weight: bold\">]</span> Retrieving game with <span style=\"color: #808000; text-decoration-color: #808000\">id</span>=<span style=\"color: #800080; text-decoration-color: #800080\">bb8d256f</span>                                <a href=\"file:///home/codespace/.local/lib/python3.12/site-packages/fbrefdata/fbref.py\" target=\"_blank\"><span style=\"color: #7f7f7f; text-decoration-color: #7f7f7f\">fbref.py</span></a><span style=\"color: #7f7f7f; text-decoration-color: #7f7f7f\">:</span><a href=\"file:///home/codespace/.local/lib/python3.12/site-packages/fbrefdata/fbref.py#927\" target=\"_blank\"><span style=\"color: #7f7f7f; text-decoration-color: #7f7f7f\">927</span></a>\n",
       "</pre>\n"
      ],
      "text/plain": [
       "\u001b[2;36m                   \u001b[0m\u001b[2;36m \u001b[0m\u001b[34mINFO    \u001b[0m \u001b[1m[\u001b[0m\u001b[1;36m135\u001b[0m/\u001b[1;36m308\u001b[0m\u001b[1m]\u001b[0m Retrieving game with \u001b[33mid\u001b[0m=\u001b[35mbb8d256f\u001b[0m                                \u001b]8;id=565186;file:///home/codespace/.local/lib/python3.12/site-packages/fbrefdata/fbref.py\u001b\\\u001b[2mfbref.py\u001b[0m\u001b]8;;\u001b\\\u001b[2m:\u001b[0m\u001b]8;id=75776;file:///home/codespace/.local/lib/python3.12/site-packages/fbrefdata/fbref.py#927\u001b\\\u001b[2m927\u001b[0m\u001b]8;;\u001b\\\n"
      ]
     },
     "metadata": {},
     "output_type": "display_data"
    },
    {
     "data": {
      "text/html": [
       "<pre style=\"white-space:pre;overflow-x:auto;line-height:normal;font-family:Menlo,'DejaVu Sans Mono',consolas,'Courier New',monospace\"><span style=\"color: #7fbfbf; text-decoration-color: #7fbfbf\">                    </span><span style=\"color: #000080; text-decoration-color: #000080\">INFO    </span> <span style=\"font-weight: bold\">[</span><span style=\"color: #008080; text-decoration-color: #008080; font-weight: bold\">136</span>/<span style=\"color: #008080; text-decoration-color: #008080; font-weight: bold\">308</span><span style=\"font-weight: bold\">]</span> Retrieving game with <span style=\"color: #808000; text-decoration-color: #808000\">id</span>=<span style=\"color: #800080; text-decoration-color: #800080\">06e9834b</span>                                <a href=\"file:///home/codespace/.local/lib/python3.12/site-packages/fbrefdata/fbref.py\" target=\"_blank\"><span style=\"color: #7f7f7f; text-decoration-color: #7f7f7f\">fbref.py</span></a><span style=\"color: #7f7f7f; text-decoration-color: #7f7f7f\">:</span><a href=\"file:///home/codespace/.local/lib/python3.12/site-packages/fbrefdata/fbref.py#927\" target=\"_blank\"><span style=\"color: #7f7f7f; text-decoration-color: #7f7f7f\">927</span></a>\n",
       "</pre>\n"
      ],
      "text/plain": [
       "\u001b[2;36m                   \u001b[0m\u001b[2;36m \u001b[0m\u001b[34mINFO    \u001b[0m \u001b[1m[\u001b[0m\u001b[1;36m136\u001b[0m/\u001b[1;36m308\u001b[0m\u001b[1m]\u001b[0m Retrieving game with \u001b[33mid\u001b[0m=\u001b[35m06e9834b\u001b[0m                                \u001b]8;id=219907;file:///home/codespace/.local/lib/python3.12/site-packages/fbrefdata/fbref.py\u001b\\\u001b[2mfbref.py\u001b[0m\u001b]8;;\u001b\\\u001b[2m:\u001b[0m\u001b]8;id=318364;file:///home/codespace/.local/lib/python3.12/site-packages/fbrefdata/fbref.py#927\u001b\\\u001b[2m927\u001b[0m\u001b]8;;\u001b\\\n"
      ]
     },
     "metadata": {},
     "output_type": "display_data"
    },
    {
     "data": {
      "text/html": [
       "<pre style=\"white-space:pre;overflow-x:auto;line-height:normal;font-family:Menlo,'DejaVu Sans Mono',consolas,'Courier New',monospace\"><span style=\"color: #7fbfbf; text-decoration-color: #7fbfbf\">                    </span><span style=\"color: #000080; text-decoration-color: #000080\">INFO    </span> <span style=\"font-weight: bold\">[</span><span style=\"color: #008080; text-decoration-color: #008080; font-weight: bold\">137</span>/<span style=\"color: #008080; text-decoration-color: #008080; font-weight: bold\">308</span><span style=\"font-weight: bold\">]</span> Retrieving game with <span style=\"color: #808000; text-decoration-color: #808000\">id</span>=<span style=\"color: #800080; text-decoration-color: #800080\">67e50a37</span>                                <a href=\"file:///home/codespace/.local/lib/python3.12/site-packages/fbrefdata/fbref.py\" target=\"_blank\"><span style=\"color: #7f7f7f; text-decoration-color: #7f7f7f\">fbref.py</span></a><span style=\"color: #7f7f7f; text-decoration-color: #7f7f7f\">:</span><a href=\"file:///home/codespace/.local/lib/python3.12/site-packages/fbrefdata/fbref.py#927\" target=\"_blank\"><span style=\"color: #7f7f7f; text-decoration-color: #7f7f7f\">927</span></a>\n",
       "</pre>\n"
      ],
      "text/plain": [
       "\u001b[2;36m                   \u001b[0m\u001b[2;36m \u001b[0m\u001b[34mINFO    \u001b[0m \u001b[1m[\u001b[0m\u001b[1;36m137\u001b[0m/\u001b[1;36m308\u001b[0m\u001b[1m]\u001b[0m Retrieving game with \u001b[33mid\u001b[0m=\u001b[35m67e50a37\u001b[0m                                \u001b]8;id=27025;file:///home/codespace/.local/lib/python3.12/site-packages/fbrefdata/fbref.py\u001b\\\u001b[2mfbref.py\u001b[0m\u001b]8;;\u001b\\\u001b[2m:\u001b[0m\u001b]8;id=652877;file:///home/codespace/.local/lib/python3.12/site-packages/fbrefdata/fbref.py#927\u001b\\\u001b[2m927\u001b[0m\u001b]8;;\u001b\\\n"
      ]
     },
     "metadata": {},
     "output_type": "display_data"
    },
    {
     "data": {
      "text/html": [
       "<pre style=\"white-space:pre;overflow-x:auto;line-height:normal;font-family:Menlo,'DejaVu Sans Mono',consolas,'Courier New',monospace\"><span style=\"color: #7fbfbf; text-decoration-color: #7fbfbf\">                    </span><span style=\"color: #000080; text-decoration-color: #000080\">INFO    </span> <span style=\"font-weight: bold\">[</span><span style=\"color: #008080; text-decoration-color: #008080; font-weight: bold\">138</span>/<span style=\"color: #008080; text-decoration-color: #008080; font-weight: bold\">308</span><span style=\"font-weight: bold\">]</span> Retrieving game with <span style=\"color: #808000; text-decoration-color: #808000\">id</span>=<span style=\"color: #800080; text-decoration-color: #800080\">1ca06d2f</span>                                <a href=\"file:///home/codespace/.local/lib/python3.12/site-packages/fbrefdata/fbref.py\" target=\"_blank\"><span style=\"color: #7f7f7f; text-decoration-color: #7f7f7f\">fbref.py</span></a><span style=\"color: #7f7f7f; text-decoration-color: #7f7f7f\">:</span><a href=\"file:///home/codespace/.local/lib/python3.12/site-packages/fbrefdata/fbref.py#927\" target=\"_blank\"><span style=\"color: #7f7f7f; text-decoration-color: #7f7f7f\">927</span></a>\n",
       "</pre>\n"
      ],
      "text/plain": [
       "\u001b[2;36m                   \u001b[0m\u001b[2;36m \u001b[0m\u001b[34mINFO    \u001b[0m \u001b[1m[\u001b[0m\u001b[1;36m138\u001b[0m/\u001b[1;36m308\u001b[0m\u001b[1m]\u001b[0m Retrieving game with \u001b[33mid\u001b[0m=\u001b[35m1ca06d2f\u001b[0m                                \u001b]8;id=515623;file:///home/codespace/.local/lib/python3.12/site-packages/fbrefdata/fbref.py\u001b\\\u001b[2mfbref.py\u001b[0m\u001b]8;;\u001b\\\u001b[2m:\u001b[0m\u001b]8;id=760183;file:///home/codespace/.local/lib/python3.12/site-packages/fbrefdata/fbref.py#927\u001b\\\u001b[2m927\u001b[0m\u001b]8;;\u001b\\\n"
      ]
     },
     "metadata": {},
     "output_type": "display_data"
    },
    {
     "data": {
      "text/html": [
       "<pre style=\"white-space:pre;overflow-x:auto;line-height:normal;font-family:Menlo,'DejaVu Sans Mono',consolas,'Courier New',monospace\"><span style=\"color: #7fbfbf; text-decoration-color: #7fbfbf\">                    </span><span style=\"color: #000080; text-decoration-color: #000080\">INFO    </span> <span style=\"font-weight: bold\">[</span><span style=\"color: #008080; text-decoration-color: #008080; font-weight: bold\">139</span>/<span style=\"color: #008080; text-decoration-color: #008080; font-weight: bold\">308</span><span style=\"font-weight: bold\">]</span> Retrieving game with <span style=\"color: #808000; text-decoration-color: #808000\">id</span>=<span style=\"color: #800080; text-decoration-color: #800080\">89684a69</span>                                <a href=\"file:///home/codespace/.local/lib/python3.12/site-packages/fbrefdata/fbref.py\" target=\"_blank\"><span style=\"color: #7f7f7f; text-decoration-color: #7f7f7f\">fbref.py</span></a><span style=\"color: #7f7f7f; text-decoration-color: #7f7f7f\">:</span><a href=\"file:///home/codespace/.local/lib/python3.12/site-packages/fbrefdata/fbref.py#927\" target=\"_blank\"><span style=\"color: #7f7f7f; text-decoration-color: #7f7f7f\">927</span></a>\n",
       "</pre>\n"
      ],
      "text/plain": [
       "\u001b[2;36m                   \u001b[0m\u001b[2;36m \u001b[0m\u001b[34mINFO    \u001b[0m \u001b[1m[\u001b[0m\u001b[1;36m139\u001b[0m/\u001b[1;36m308\u001b[0m\u001b[1m]\u001b[0m Retrieving game with \u001b[33mid\u001b[0m=\u001b[35m89684a69\u001b[0m                                \u001b]8;id=48580;file:///home/codespace/.local/lib/python3.12/site-packages/fbrefdata/fbref.py\u001b\\\u001b[2mfbref.py\u001b[0m\u001b]8;;\u001b\\\u001b[2m:\u001b[0m\u001b]8;id=145546;file:///home/codespace/.local/lib/python3.12/site-packages/fbrefdata/fbref.py#927\u001b\\\u001b[2m927\u001b[0m\u001b]8;;\u001b\\\n"
      ]
     },
     "metadata": {},
     "output_type": "display_data"
    },
    {
     "data": {
      "text/html": [
       "<pre style=\"white-space:pre;overflow-x:auto;line-height:normal;font-family:Menlo,'DejaVu Sans Mono',consolas,'Courier New',monospace\"><span style=\"color: #7fbfbf; text-decoration-color: #7fbfbf\">                    </span><span style=\"color: #000080; text-decoration-color: #000080\">INFO    </span> <span style=\"font-weight: bold\">[</span><span style=\"color: #008080; text-decoration-color: #008080; font-weight: bold\">140</span>/<span style=\"color: #008080; text-decoration-color: #008080; font-weight: bold\">308</span><span style=\"font-weight: bold\">]</span> Retrieving game with <span style=\"color: #808000; text-decoration-color: #808000\">id</span>=<span style=\"color: #800080; text-decoration-color: #800080\">8f8eb534</span>                                <a href=\"file:///home/codespace/.local/lib/python3.12/site-packages/fbrefdata/fbref.py\" target=\"_blank\"><span style=\"color: #7f7f7f; text-decoration-color: #7f7f7f\">fbref.py</span></a><span style=\"color: #7f7f7f; text-decoration-color: #7f7f7f\">:</span><a href=\"file:///home/codespace/.local/lib/python3.12/site-packages/fbrefdata/fbref.py#927\" target=\"_blank\"><span style=\"color: #7f7f7f; text-decoration-color: #7f7f7f\">927</span></a>\n",
       "</pre>\n"
      ],
      "text/plain": [
       "\u001b[2;36m                   \u001b[0m\u001b[2;36m \u001b[0m\u001b[34mINFO    \u001b[0m \u001b[1m[\u001b[0m\u001b[1;36m140\u001b[0m/\u001b[1;36m308\u001b[0m\u001b[1m]\u001b[0m Retrieving game with \u001b[33mid\u001b[0m=\u001b[35m8f8eb534\u001b[0m                                \u001b]8;id=850484;file:///home/codespace/.local/lib/python3.12/site-packages/fbrefdata/fbref.py\u001b\\\u001b[2mfbref.py\u001b[0m\u001b]8;;\u001b\\\u001b[2m:\u001b[0m\u001b]8;id=840843;file:///home/codespace/.local/lib/python3.12/site-packages/fbrefdata/fbref.py#927\u001b\\\u001b[2m927\u001b[0m\u001b]8;;\u001b\\\n"
      ]
     },
     "metadata": {},
     "output_type": "display_data"
    },
    {
     "data": {
      "text/html": [
       "<pre style=\"white-space:pre;overflow-x:auto;line-height:normal;font-family:Menlo,'DejaVu Sans Mono',consolas,'Courier New',monospace\"><span style=\"color: #7fbfbf; text-decoration-color: #7fbfbf\">                    </span><span style=\"color: #000080; text-decoration-color: #000080\">INFO    </span> <span style=\"font-weight: bold\">[</span><span style=\"color: #008080; text-decoration-color: #008080; font-weight: bold\">141</span>/<span style=\"color: #008080; text-decoration-color: #008080; font-weight: bold\">308</span><span style=\"font-weight: bold\">]</span> Retrieving game with <span style=\"color: #808000; text-decoration-color: #808000\">id</span>=<span style=\"color: #800080; text-decoration-color: #800080\">fbd73abb</span>                                <a href=\"file:///home/codespace/.local/lib/python3.12/site-packages/fbrefdata/fbref.py\" target=\"_blank\"><span style=\"color: #7f7f7f; text-decoration-color: #7f7f7f\">fbref.py</span></a><span style=\"color: #7f7f7f; text-decoration-color: #7f7f7f\">:</span><a href=\"file:///home/codespace/.local/lib/python3.12/site-packages/fbrefdata/fbref.py#927\" target=\"_blank\"><span style=\"color: #7f7f7f; text-decoration-color: #7f7f7f\">927</span></a>\n",
       "</pre>\n"
      ],
      "text/plain": [
       "\u001b[2;36m                   \u001b[0m\u001b[2;36m \u001b[0m\u001b[34mINFO    \u001b[0m \u001b[1m[\u001b[0m\u001b[1;36m141\u001b[0m/\u001b[1;36m308\u001b[0m\u001b[1m]\u001b[0m Retrieving game with \u001b[33mid\u001b[0m=\u001b[35mfbd73abb\u001b[0m                                \u001b]8;id=741827;file:///home/codespace/.local/lib/python3.12/site-packages/fbrefdata/fbref.py\u001b\\\u001b[2mfbref.py\u001b[0m\u001b]8;;\u001b\\\u001b[2m:\u001b[0m\u001b]8;id=379878;file:///home/codespace/.local/lib/python3.12/site-packages/fbrefdata/fbref.py#927\u001b\\\u001b[2m927\u001b[0m\u001b]8;;\u001b\\\n"
      ]
     },
     "metadata": {},
     "output_type": "display_data"
    },
    {
     "data": {
      "text/html": [
       "<pre style=\"white-space:pre;overflow-x:auto;line-height:normal;font-family:Menlo,'DejaVu Sans Mono',consolas,'Courier New',monospace\"><span style=\"color: #7fbfbf; text-decoration-color: #7fbfbf\">                    </span><span style=\"color: #000080; text-decoration-color: #000080\">INFO    </span> <span style=\"font-weight: bold\">[</span><span style=\"color: #008080; text-decoration-color: #008080; font-weight: bold\">142</span>/<span style=\"color: #008080; text-decoration-color: #008080; font-weight: bold\">308</span><span style=\"font-weight: bold\">]</span> Retrieving game with <span style=\"color: #808000; text-decoration-color: #808000\">id</span>=<span style=\"color: #800080; text-decoration-color: #800080\">510eb3f1</span>                                <a href=\"file:///home/codespace/.local/lib/python3.12/site-packages/fbrefdata/fbref.py\" target=\"_blank\"><span style=\"color: #7f7f7f; text-decoration-color: #7f7f7f\">fbref.py</span></a><span style=\"color: #7f7f7f; text-decoration-color: #7f7f7f\">:</span><a href=\"file:///home/codespace/.local/lib/python3.12/site-packages/fbrefdata/fbref.py#927\" target=\"_blank\"><span style=\"color: #7f7f7f; text-decoration-color: #7f7f7f\">927</span></a>\n",
       "</pre>\n"
      ],
      "text/plain": [
       "\u001b[2;36m                   \u001b[0m\u001b[2;36m \u001b[0m\u001b[34mINFO    \u001b[0m \u001b[1m[\u001b[0m\u001b[1;36m142\u001b[0m/\u001b[1;36m308\u001b[0m\u001b[1m]\u001b[0m Retrieving game with \u001b[33mid\u001b[0m=\u001b[35m510eb3f1\u001b[0m                                \u001b]8;id=681782;file:///home/codespace/.local/lib/python3.12/site-packages/fbrefdata/fbref.py\u001b\\\u001b[2mfbref.py\u001b[0m\u001b]8;;\u001b\\\u001b[2m:\u001b[0m\u001b]8;id=187976;file:///home/codespace/.local/lib/python3.12/site-packages/fbrefdata/fbref.py#927\u001b\\\u001b[2m927\u001b[0m\u001b]8;;\u001b\\\n"
      ]
     },
     "metadata": {},
     "output_type": "display_data"
    },
    {
     "data": {
      "text/html": [
       "<pre style=\"white-space:pre;overflow-x:auto;line-height:normal;font-family:Menlo,'DejaVu Sans Mono',consolas,'Courier New',monospace\"><span style=\"color: #7fbfbf; text-decoration-color: #7fbfbf\">                    </span><span style=\"color: #000080; text-decoration-color: #000080\">INFO    </span> <span style=\"font-weight: bold\">[</span><span style=\"color: #008080; text-decoration-color: #008080; font-weight: bold\">143</span>/<span style=\"color: #008080; text-decoration-color: #008080; font-weight: bold\">308</span><span style=\"font-weight: bold\">]</span> Retrieving game with <span style=\"color: #808000; text-decoration-color: #808000\">id</span>=<span style=\"color: #800080; text-decoration-color: #800080\">393e0f65</span>                                <a href=\"file:///home/codespace/.local/lib/python3.12/site-packages/fbrefdata/fbref.py\" target=\"_blank\"><span style=\"color: #7f7f7f; text-decoration-color: #7f7f7f\">fbref.py</span></a><span style=\"color: #7f7f7f; text-decoration-color: #7f7f7f\">:</span><a href=\"file:///home/codespace/.local/lib/python3.12/site-packages/fbrefdata/fbref.py#927\" target=\"_blank\"><span style=\"color: #7f7f7f; text-decoration-color: #7f7f7f\">927</span></a>\n",
       "</pre>\n"
      ],
      "text/plain": [
       "\u001b[2;36m                   \u001b[0m\u001b[2;36m \u001b[0m\u001b[34mINFO    \u001b[0m \u001b[1m[\u001b[0m\u001b[1;36m143\u001b[0m/\u001b[1;36m308\u001b[0m\u001b[1m]\u001b[0m Retrieving game with \u001b[33mid\u001b[0m=\u001b[35m393e0f65\u001b[0m                                \u001b]8;id=367639;file:///home/codespace/.local/lib/python3.12/site-packages/fbrefdata/fbref.py\u001b\\\u001b[2mfbref.py\u001b[0m\u001b]8;;\u001b\\\u001b[2m:\u001b[0m\u001b]8;id=145370;file:///home/codespace/.local/lib/python3.12/site-packages/fbrefdata/fbref.py#927\u001b\\\u001b[2m927\u001b[0m\u001b]8;;\u001b\\\n"
      ]
     },
     "metadata": {},
     "output_type": "display_data"
    },
    {
     "data": {
      "text/html": [
       "<pre style=\"white-space:pre;overflow-x:auto;line-height:normal;font-family:Menlo,'DejaVu Sans Mono',consolas,'Courier New',monospace\"><span style=\"color: #7fbfbf; text-decoration-color: #7fbfbf\">                    </span><span style=\"color: #000080; text-decoration-color: #000080\">INFO    </span> <span style=\"font-weight: bold\">[</span><span style=\"color: #008080; text-decoration-color: #008080; font-weight: bold\">144</span>/<span style=\"color: #008080; text-decoration-color: #008080; font-weight: bold\">308</span><span style=\"font-weight: bold\">]</span> Retrieving game with <span style=\"color: #808000; text-decoration-color: #808000\">id</span>=<span style=\"color: #800080; text-decoration-color: #800080\">818dc8f0</span>                                <a href=\"file:///home/codespace/.local/lib/python3.12/site-packages/fbrefdata/fbref.py\" target=\"_blank\"><span style=\"color: #7f7f7f; text-decoration-color: #7f7f7f\">fbref.py</span></a><span style=\"color: #7f7f7f; text-decoration-color: #7f7f7f\">:</span><a href=\"file:///home/codespace/.local/lib/python3.12/site-packages/fbrefdata/fbref.py#927\" target=\"_blank\"><span style=\"color: #7f7f7f; text-decoration-color: #7f7f7f\">927</span></a>\n",
       "</pre>\n"
      ],
      "text/plain": [
       "\u001b[2;36m                   \u001b[0m\u001b[2;36m \u001b[0m\u001b[34mINFO    \u001b[0m \u001b[1m[\u001b[0m\u001b[1;36m144\u001b[0m/\u001b[1;36m308\u001b[0m\u001b[1m]\u001b[0m Retrieving game with \u001b[33mid\u001b[0m=\u001b[35m818dc8f0\u001b[0m                                \u001b]8;id=604045;file:///home/codespace/.local/lib/python3.12/site-packages/fbrefdata/fbref.py\u001b\\\u001b[2mfbref.py\u001b[0m\u001b]8;;\u001b\\\u001b[2m:\u001b[0m\u001b]8;id=196320;file:///home/codespace/.local/lib/python3.12/site-packages/fbrefdata/fbref.py#927\u001b\\\u001b[2m927\u001b[0m\u001b]8;;\u001b\\\n"
      ]
     },
     "metadata": {},
     "output_type": "display_data"
    },
    {
     "data": {
      "text/html": [
       "<pre style=\"white-space:pre;overflow-x:auto;line-height:normal;font-family:Menlo,'DejaVu Sans Mono',consolas,'Courier New',monospace\"><span style=\"color: #7fbfbf; text-decoration-color: #7fbfbf\">                    </span><span style=\"color: #000080; text-decoration-color: #000080\">INFO    </span> <span style=\"font-weight: bold\">[</span><span style=\"color: #008080; text-decoration-color: #008080; font-weight: bold\">145</span>/<span style=\"color: #008080; text-decoration-color: #008080; font-weight: bold\">308</span><span style=\"font-weight: bold\">]</span> Retrieving game with <span style=\"color: #808000; text-decoration-color: #808000\">id</span>=<span style=\"color: #800080; text-decoration-color: #800080\">75f73cc8</span>                                <a href=\"file:///home/codespace/.local/lib/python3.12/site-packages/fbrefdata/fbref.py\" target=\"_blank\"><span style=\"color: #7f7f7f; text-decoration-color: #7f7f7f\">fbref.py</span></a><span style=\"color: #7f7f7f; text-decoration-color: #7f7f7f\">:</span><a href=\"file:///home/codespace/.local/lib/python3.12/site-packages/fbrefdata/fbref.py#927\" target=\"_blank\"><span style=\"color: #7f7f7f; text-decoration-color: #7f7f7f\">927</span></a>\n",
       "</pre>\n"
      ],
      "text/plain": [
       "\u001b[2;36m                   \u001b[0m\u001b[2;36m \u001b[0m\u001b[34mINFO    \u001b[0m \u001b[1m[\u001b[0m\u001b[1;36m145\u001b[0m/\u001b[1;36m308\u001b[0m\u001b[1m]\u001b[0m Retrieving game with \u001b[33mid\u001b[0m=\u001b[35m75f73cc8\u001b[0m                                \u001b]8;id=653512;file:///home/codespace/.local/lib/python3.12/site-packages/fbrefdata/fbref.py\u001b\\\u001b[2mfbref.py\u001b[0m\u001b]8;;\u001b\\\u001b[2m:\u001b[0m\u001b]8;id=410087;file:///home/codespace/.local/lib/python3.12/site-packages/fbrefdata/fbref.py#927\u001b\\\u001b[2m927\u001b[0m\u001b]8;;\u001b\\\n"
      ]
     },
     "metadata": {},
     "output_type": "display_data"
    },
    {
     "data": {
      "text/html": [
       "<pre style=\"white-space:pre;overflow-x:auto;line-height:normal;font-family:Menlo,'DejaVu Sans Mono',consolas,'Courier New',monospace\"><span style=\"color: #7fbfbf; text-decoration-color: #7fbfbf\">                    </span><span style=\"color: #000080; text-decoration-color: #000080\">INFO    </span> <span style=\"font-weight: bold\">[</span><span style=\"color: #008080; text-decoration-color: #008080; font-weight: bold\">146</span>/<span style=\"color: #008080; text-decoration-color: #008080; font-weight: bold\">308</span><span style=\"font-weight: bold\">]</span> Retrieving game with <span style=\"color: #808000; text-decoration-color: #808000\">id</span>=<span style=\"color: #008080; text-decoration-color: #008080; font-weight: bold\">83e32862</span>                                <a href=\"file:///home/codespace/.local/lib/python3.12/site-packages/fbrefdata/fbref.py\" target=\"_blank\"><span style=\"color: #7f7f7f; text-decoration-color: #7f7f7f\">fbref.py</span></a><span style=\"color: #7f7f7f; text-decoration-color: #7f7f7f\">:</span><a href=\"file:///home/codespace/.local/lib/python3.12/site-packages/fbrefdata/fbref.py#927\" target=\"_blank\"><span style=\"color: #7f7f7f; text-decoration-color: #7f7f7f\">927</span></a>\n",
       "</pre>\n"
      ],
      "text/plain": [
       "\u001b[2;36m                   \u001b[0m\u001b[2;36m \u001b[0m\u001b[34mINFO    \u001b[0m \u001b[1m[\u001b[0m\u001b[1;36m146\u001b[0m/\u001b[1;36m308\u001b[0m\u001b[1m]\u001b[0m Retrieving game with \u001b[33mid\u001b[0m=\u001b[1;36m83e32862\u001b[0m                                \u001b]8;id=982957;file:///home/codespace/.local/lib/python3.12/site-packages/fbrefdata/fbref.py\u001b\\\u001b[2mfbref.py\u001b[0m\u001b]8;;\u001b\\\u001b[2m:\u001b[0m\u001b]8;id=608031;file:///home/codespace/.local/lib/python3.12/site-packages/fbrefdata/fbref.py#927\u001b\\\u001b[2m927\u001b[0m\u001b]8;;\u001b\\\n"
      ]
     },
     "metadata": {},
     "output_type": "display_data"
    },
    {
     "data": {
      "text/html": [
       "<pre style=\"white-space:pre;overflow-x:auto;line-height:normal;font-family:Menlo,'DejaVu Sans Mono',consolas,'Courier New',monospace\"><span style=\"color: #7fbfbf; text-decoration-color: #7fbfbf\">                    </span><span style=\"color: #000080; text-decoration-color: #000080\">INFO    </span> <span style=\"font-weight: bold\">[</span><span style=\"color: #008080; text-decoration-color: #008080; font-weight: bold\">147</span>/<span style=\"color: #008080; text-decoration-color: #008080; font-weight: bold\">308</span><span style=\"font-weight: bold\">]</span> Retrieving game with <span style=\"color: #808000; text-decoration-color: #808000\">id</span>=<span style=\"color: #800080; text-decoration-color: #800080\">52e5979b</span>                                <a href=\"file:///home/codespace/.local/lib/python3.12/site-packages/fbrefdata/fbref.py\" target=\"_blank\"><span style=\"color: #7f7f7f; text-decoration-color: #7f7f7f\">fbref.py</span></a><span style=\"color: #7f7f7f; text-decoration-color: #7f7f7f\">:</span><a href=\"file:///home/codespace/.local/lib/python3.12/site-packages/fbrefdata/fbref.py#927\" target=\"_blank\"><span style=\"color: #7f7f7f; text-decoration-color: #7f7f7f\">927</span></a>\n",
       "</pre>\n"
      ],
      "text/plain": [
       "\u001b[2;36m                   \u001b[0m\u001b[2;36m \u001b[0m\u001b[34mINFO    \u001b[0m \u001b[1m[\u001b[0m\u001b[1;36m147\u001b[0m/\u001b[1;36m308\u001b[0m\u001b[1m]\u001b[0m Retrieving game with \u001b[33mid\u001b[0m=\u001b[35m52e5979b\u001b[0m                                \u001b]8;id=114504;file:///home/codespace/.local/lib/python3.12/site-packages/fbrefdata/fbref.py\u001b\\\u001b[2mfbref.py\u001b[0m\u001b]8;;\u001b\\\u001b[2m:\u001b[0m\u001b]8;id=311219;file:///home/codespace/.local/lib/python3.12/site-packages/fbrefdata/fbref.py#927\u001b\\\u001b[2m927\u001b[0m\u001b]8;;\u001b\\\n"
      ]
     },
     "metadata": {},
     "output_type": "display_data"
    },
    {
     "data": {
      "text/html": [
       "<pre style=\"white-space:pre;overflow-x:auto;line-height:normal;font-family:Menlo,'DejaVu Sans Mono',consolas,'Courier New',monospace\"><span style=\"color: #7fbfbf; text-decoration-color: #7fbfbf\">                    </span><span style=\"color: #000080; text-decoration-color: #000080\">INFO    </span> <span style=\"font-weight: bold\">[</span><span style=\"color: #008080; text-decoration-color: #008080; font-weight: bold\">148</span>/<span style=\"color: #008080; text-decoration-color: #008080; font-weight: bold\">308</span><span style=\"font-weight: bold\">]</span> Retrieving game with <span style=\"color: #808000; text-decoration-color: #808000\">id</span>=<span style=\"color: #800080; text-decoration-color: #800080\">b0edbee1</span>                                <a href=\"file:///home/codespace/.local/lib/python3.12/site-packages/fbrefdata/fbref.py\" target=\"_blank\"><span style=\"color: #7f7f7f; text-decoration-color: #7f7f7f\">fbref.py</span></a><span style=\"color: #7f7f7f; text-decoration-color: #7f7f7f\">:</span><a href=\"file:///home/codespace/.local/lib/python3.12/site-packages/fbrefdata/fbref.py#927\" target=\"_blank\"><span style=\"color: #7f7f7f; text-decoration-color: #7f7f7f\">927</span></a>\n",
       "</pre>\n"
      ],
      "text/plain": [
       "\u001b[2;36m                   \u001b[0m\u001b[2;36m \u001b[0m\u001b[34mINFO    \u001b[0m \u001b[1m[\u001b[0m\u001b[1;36m148\u001b[0m/\u001b[1;36m308\u001b[0m\u001b[1m]\u001b[0m Retrieving game with \u001b[33mid\u001b[0m=\u001b[35mb0edbee1\u001b[0m                                \u001b]8;id=418811;file:///home/codespace/.local/lib/python3.12/site-packages/fbrefdata/fbref.py\u001b\\\u001b[2mfbref.py\u001b[0m\u001b]8;;\u001b\\\u001b[2m:\u001b[0m\u001b]8;id=823414;file:///home/codespace/.local/lib/python3.12/site-packages/fbrefdata/fbref.py#927\u001b\\\u001b[2m927\u001b[0m\u001b]8;;\u001b\\\n"
      ]
     },
     "metadata": {},
     "output_type": "display_data"
    },
    {
     "data": {
      "text/html": [
       "<pre style=\"white-space:pre;overflow-x:auto;line-height:normal;font-family:Menlo,'DejaVu Sans Mono',consolas,'Courier New',monospace\"><span style=\"color: #7fbfbf; text-decoration-color: #7fbfbf\">                    </span><span style=\"color: #000080; text-decoration-color: #000080\">INFO    </span> <span style=\"font-weight: bold\">[</span><span style=\"color: #008080; text-decoration-color: #008080; font-weight: bold\">149</span>/<span style=\"color: #008080; text-decoration-color: #008080; font-weight: bold\">308</span><span style=\"font-weight: bold\">]</span> Retrieving game with <span style=\"color: #808000; text-decoration-color: #808000\">id</span>=<span style=\"color: #800080; text-decoration-color: #800080\">4049ec51</span>                                <a href=\"file:///home/codespace/.local/lib/python3.12/site-packages/fbrefdata/fbref.py\" target=\"_blank\"><span style=\"color: #7f7f7f; text-decoration-color: #7f7f7f\">fbref.py</span></a><span style=\"color: #7f7f7f; text-decoration-color: #7f7f7f\">:</span><a href=\"file:///home/codespace/.local/lib/python3.12/site-packages/fbrefdata/fbref.py#927\" target=\"_blank\"><span style=\"color: #7f7f7f; text-decoration-color: #7f7f7f\">927</span></a>\n",
       "</pre>\n"
      ],
      "text/plain": [
       "\u001b[2;36m                   \u001b[0m\u001b[2;36m \u001b[0m\u001b[34mINFO    \u001b[0m \u001b[1m[\u001b[0m\u001b[1;36m149\u001b[0m/\u001b[1;36m308\u001b[0m\u001b[1m]\u001b[0m Retrieving game with \u001b[33mid\u001b[0m=\u001b[35m4049ec51\u001b[0m                                \u001b]8;id=794413;file:///home/codespace/.local/lib/python3.12/site-packages/fbrefdata/fbref.py\u001b\\\u001b[2mfbref.py\u001b[0m\u001b]8;;\u001b\\\u001b[2m:\u001b[0m\u001b]8;id=456895;file:///home/codespace/.local/lib/python3.12/site-packages/fbrefdata/fbref.py#927\u001b\\\u001b[2m927\u001b[0m\u001b]8;;\u001b\\\n"
      ]
     },
     "metadata": {},
     "output_type": "display_data"
    },
    {
     "data": {
      "text/html": [
       "<pre style=\"white-space:pre;overflow-x:auto;line-height:normal;font-family:Menlo,'DejaVu Sans Mono',consolas,'Courier New',monospace\"><span style=\"color: #7fbfbf; text-decoration-color: #7fbfbf\">                    </span><span style=\"color: #000080; text-decoration-color: #000080\">INFO    </span> <span style=\"font-weight: bold\">[</span><span style=\"color: #008080; text-decoration-color: #008080; font-weight: bold\">150</span>/<span style=\"color: #008080; text-decoration-color: #008080; font-weight: bold\">308</span><span style=\"font-weight: bold\">]</span> Retrieving game with <span style=\"color: #808000; text-decoration-color: #808000\">id</span>=<span style=\"color: #008080; text-decoration-color: #008080; font-weight: bold\">02453334</span>                                <a href=\"file:///home/codespace/.local/lib/python3.12/site-packages/fbrefdata/fbref.py\" target=\"_blank\"><span style=\"color: #7f7f7f; text-decoration-color: #7f7f7f\">fbref.py</span></a><span style=\"color: #7f7f7f; text-decoration-color: #7f7f7f\">:</span><a href=\"file:///home/codespace/.local/lib/python3.12/site-packages/fbrefdata/fbref.py#927\" target=\"_blank\"><span style=\"color: #7f7f7f; text-decoration-color: #7f7f7f\">927</span></a>\n",
       "</pre>\n"
      ],
      "text/plain": [
       "\u001b[2;36m                   \u001b[0m\u001b[2;36m \u001b[0m\u001b[34mINFO    \u001b[0m \u001b[1m[\u001b[0m\u001b[1;36m150\u001b[0m/\u001b[1;36m308\u001b[0m\u001b[1m]\u001b[0m Retrieving game with \u001b[33mid\u001b[0m=\u001b[1;36m02453334\u001b[0m                                \u001b]8;id=593558;file:///home/codespace/.local/lib/python3.12/site-packages/fbrefdata/fbref.py\u001b\\\u001b[2mfbref.py\u001b[0m\u001b]8;;\u001b\\\u001b[2m:\u001b[0m\u001b]8;id=1851;file:///home/codespace/.local/lib/python3.12/site-packages/fbrefdata/fbref.py#927\u001b\\\u001b[2m927\u001b[0m\u001b]8;;\u001b\\\n"
      ]
     },
     "metadata": {},
     "output_type": "display_data"
    },
    {
     "data": {
      "text/html": [
       "<pre style=\"white-space:pre;overflow-x:auto;line-height:normal;font-family:Menlo,'DejaVu Sans Mono',consolas,'Courier New',monospace\"><span style=\"color: #7fbfbf; text-decoration-color: #7fbfbf\">                    </span><span style=\"color: #000080; text-decoration-color: #000080\">INFO    </span> <span style=\"font-weight: bold\">[</span><span style=\"color: #008080; text-decoration-color: #008080; font-weight: bold\">151</span>/<span style=\"color: #008080; text-decoration-color: #008080; font-weight: bold\">308</span><span style=\"font-weight: bold\">]</span> Retrieving game with <span style=\"color: #808000; text-decoration-color: #808000\">id</span>=<span style=\"color: #800080; text-decoration-color: #800080\">c9250dba</span>                                <a href=\"file:///home/codespace/.local/lib/python3.12/site-packages/fbrefdata/fbref.py\" target=\"_blank\"><span style=\"color: #7f7f7f; text-decoration-color: #7f7f7f\">fbref.py</span></a><span style=\"color: #7f7f7f; text-decoration-color: #7f7f7f\">:</span><a href=\"file:///home/codespace/.local/lib/python3.12/site-packages/fbrefdata/fbref.py#927\" target=\"_blank\"><span style=\"color: #7f7f7f; text-decoration-color: #7f7f7f\">927</span></a>\n",
       "</pre>\n"
      ],
      "text/plain": [
       "\u001b[2;36m                   \u001b[0m\u001b[2;36m \u001b[0m\u001b[34mINFO    \u001b[0m \u001b[1m[\u001b[0m\u001b[1;36m151\u001b[0m/\u001b[1;36m308\u001b[0m\u001b[1m]\u001b[0m Retrieving game with \u001b[33mid\u001b[0m=\u001b[35mc9250dba\u001b[0m                                \u001b]8;id=179350;file:///home/codespace/.local/lib/python3.12/site-packages/fbrefdata/fbref.py\u001b\\\u001b[2mfbref.py\u001b[0m\u001b]8;;\u001b\\\u001b[2m:\u001b[0m\u001b]8;id=218163;file:///home/codespace/.local/lib/python3.12/site-packages/fbrefdata/fbref.py#927\u001b\\\u001b[2m927\u001b[0m\u001b]8;;\u001b\\\n"
      ]
     },
     "metadata": {},
     "output_type": "display_data"
    },
    {
     "data": {
      "text/html": [
       "<pre style=\"white-space:pre;overflow-x:auto;line-height:normal;font-family:Menlo,'DejaVu Sans Mono',consolas,'Courier New',monospace\"><span style=\"color: #7fbfbf; text-decoration-color: #7fbfbf\">                    </span><span style=\"color: #000080; text-decoration-color: #000080\">INFO    </span> <span style=\"font-weight: bold\">[</span><span style=\"color: #008080; text-decoration-color: #008080; font-weight: bold\">152</span>/<span style=\"color: #008080; text-decoration-color: #008080; font-weight: bold\">308</span><span style=\"font-weight: bold\">]</span> Retrieving game with <span style=\"color: #808000; text-decoration-color: #808000\">id</span>=<span style=\"color: #800080; text-decoration-color: #800080\">9f2eb838</span>                                <a href=\"file:///home/codespace/.local/lib/python3.12/site-packages/fbrefdata/fbref.py\" target=\"_blank\"><span style=\"color: #7f7f7f; text-decoration-color: #7f7f7f\">fbref.py</span></a><span style=\"color: #7f7f7f; text-decoration-color: #7f7f7f\">:</span><a href=\"file:///home/codespace/.local/lib/python3.12/site-packages/fbrefdata/fbref.py#927\" target=\"_blank\"><span style=\"color: #7f7f7f; text-decoration-color: #7f7f7f\">927</span></a>\n",
       "</pre>\n"
      ],
      "text/plain": [
       "\u001b[2;36m                   \u001b[0m\u001b[2;36m \u001b[0m\u001b[34mINFO    \u001b[0m \u001b[1m[\u001b[0m\u001b[1;36m152\u001b[0m/\u001b[1;36m308\u001b[0m\u001b[1m]\u001b[0m Retrieving game with \u001b[33mid\u001b[0m=\u001b[35m9f2eb838\u001b[0m                                \u001b]8;id=360712;file:///home/codespace/.local/lib/python3.12/site-packages/fbrefdata/fbref.py\u001b\\\u001b[2mfbref.py\u001b[0m\u001b]8;;\u001b\\\u001b[2m:\u001b[0m\u001b]8;id=244662;file:///home/codespace/.local/lib/python3.12/site-packages/fbrefdata/fbref.py#927\u001b\\\u001b[2m927\u001b[0m\u001b]8;;\u001b\\\n"
      ]
     },
     "metadata": {},
     "output_type": "display_data"
    },
    {
     "data": {
      "text/html": [
       "<pre style=\"white-space:pre;overflow-x:auto;line-height:normal;font-family:Menlo,'DejaVu Sans Mono',consolas,'Courier New',monospace\"><span style=\"color: #7fbfbf; text-decoration-color: #7fbfbf\">                    </span><span style=\"color: #000080; text-decoration-color: #000080\">INFO    </span> <span style=\"font-weight: bold\">[</span><span style=\"color: #008080; text-decoration-color: #008080; font-weight: bold\">153</span>/<span style=\"color: #008080; text-decoration-color: #008080; font-weight: bold\">308</span><span style=\"font-weight: bold\">]</span> Retrieving game with <span style=\"color: #808000; text-decoration-color: #808000\">id</span>=<span style=\"color: #800080; text-decoration-color: #800080\">291968f3</span>                                <a href=\"file:///home/codespace/.local/lib/python3.12/site-packages/fbrefdata/fbref.py\" target=\"_blank\"><span style=\"color: #7f7f7f; text-decoration-color: #7f7f7f\">fbref.py</span></a><span style=\"color: #7f7f7f; text-decoration-color: #7f7f7f\">:</span><a href=\"file:///home/codespace/.local/lib/python3.12/site-packages/fbrefdata/fbref.py#927\" target=\"_blank\"><span style=\"color: #7f7f7f; text-decoration-color: #7f7f7f\">927</span></a>\n",
       "</pre>\n"
      ],
      "text/plain": [
       "\u001b[2;36m                   \u001b[0m\u001b[2;36m \u001b[0m\u001b[34mINFO    \u001b[0m \u001b[1m[\u001b[0m\u001b[1;36m153\u001b[0m/\u001b[1;36m308\u001b[0m\u001b[1m]\u001b[0m Retrieving game with \u001b[33mid\u001b[0m=\u001b[35m291968f3\u001b[0m                                \u001b]8;id=478911;file:///home/codespace/.local/lib/python3.12/site-packages/fbrefdata/fbref.py\u001b\\\u001b[2mfbref.py\u001b[0m\u001b]8;;\u001b\\\u001b[2m:\u001b[0m\u001b]8;id=559536;file:///home/codespace/.local/lib/python3.12/site-packages/fbrefdata/fbref.py#927\u001b\\\u001b[2m927\u001b[0m\u001b]8;;\u001b\\\n"
      ]
     },
     "metadata": {},
     "output_type": "display_data"
    },
    {
     "data": {
      "text/html": [
       "<pre style=\"white-space:pre;overflow-x:auto;line-height:normal;font-family:Menlo,'DejaVu Sans Mono',consolas,'Courier New',monospace\"><span style=\"color: #7fbfbf; text-decoration-color: #7fbfbf\">                    </span><span style=\"color: #000080; text-decoration-color: #000080\">INFO    </span> <span style=\"font-weight: bold\">[</span><span style=\"color: #008080; text-decoration-color: #008080; font-weight: bold\">154</span>/<span style=\"color: #008080; text-decoration-color: #008080; font-weight: bold\">308</span><span style=\"font-weight: bold\">]</span> Retrieving game with <span style=\"color: #808000; text-decoration-color: #808000\">id</span>=<span style=\"color: #800080; text-decoration-color: #800080\">e1234806</span>                                <a href=\"file:///home/codespace/.local/lib/python3.12/site-packages/fbrefdata/fbref.py\" target=\"_blank\"><span style=\"color: #7f7f7f; text-decoration-color: #7f7f7f\">fbref.py</span></a><span style=\"color: #7f7f7f; text-decoration-color: #7f7f7f\">:</span><a href=\"file:///home/codespace/.local/lib/python3.12/site-packages/fbrefdata/fbref.py#927\" target=\"_blank\"><span style=\"color: #7f7f7f; text-decoration-color: #7f7f7f\">927</span></a>\n",
       "</pre>\n"
      ],
      "text/plain": [
       "\u001b[2;36m                   \u001b[0m\u001b[2;36m \u001b[0m\u001b[34mINFO    \u001b[0m \u001b[1m[\u001b[0m\u001b[1;36m154\u001b[0m/\u001b[1;36m308\u001b[0m\u001b[1m]\u001b[0m Retrieving game with \u001b[33mid\u001b[0m=\u001b[35me1234806\u001b[0m                                \u001b]8;id=863451;file:///home/codespace/.local/lib/python3.12/site-packages/fbrefdata/fbref.py\u001b\\\u001b[2mfbref.py\u001b[0m\u001b]8;;\u001b\\\u001b[2m:\u001b[0m\u001b]8;id=980925;file:///home/codespace/.local/lib/python3.12/site-packages/fbrefdata/fbref.py#927\u001b\\\u001b[2m927\u001b[0m\u001b]8;;\u001b\\\n"
      ]
     },
     "metadata": {},
     "output_type": "display_data"
    },
    {
     "data": {
      "text/html": [
       "<pre style=\"white-space:pre;overflow-x:auto;line-height:normal;font-family:Menlo,'DejaVu Sans Mono',consolas,'Courier New',monospace\"><span style=\"color: #7fbfbf; text-decoration-color: #7fbfbf\">                    </span><span style=\"color: #000080; text-decoration-color: #000080\">INFO    </span> <span style=\"font-weight: bold\">[</span><span style=\"color: #008080; text-decoration-color: #008080; font-weight: bold\">155</span>/<span style=\"color: #008080; text-decoration-color: #008080; font-weight: bold\">308</span><span style=\"font-weight: bold\">]</span> Retrieving game with <span style=\"color: #808000; text-decoration-color: #808000\">id</span>=<span style=\"color: #800080; text-decoration-color: #800080\">1d252a82</span>                                <a href=\"file:///home/codespace/.local/lib/python3.12/site-packages/fbrefdata/fbref.py\" target=\"_blank\"><span style=\"color: #7f7f7f; text-decoration-color: #7f7f7f\">fbref.py</span></a><span style=\"color: #7f7f7f; text-decoration-color: #7f7f7f\">:</span><a href=\"file:///home/codespace/.local/lib/python3.12/site-packages/fbrefdata/fbref.py#927\" target=\"_blank\"><span style=\"color: #7f7f7f; text-decoration-color: #7f7f7f\">927</span></a>\n",
       "</pre>\n"
      ],
      "text/plain": [
       "\u001b[2;36m                   \u001b[0m\u001b[2;36m \u001b[0m\u001b[34mINFO    \u001b[0m \u001b[1m[\u001b[0m\u001b[1;36m155\u001b[0m/\u001b[1;36m308\u001b[0m\u001b[1m]\u001b[0m Retrieving game with \u001b[33mid\u001b[0m=\u001b[35m1d252a82\u001b[0m                                \u001b]8;id=797273;file:///home/codespace/.local/lib/python3.12/site-packages/fbrefdata/fbref.py\u001b\\\u001b[2mfbref.py\u001b[0m\u001b]8;;\u001b\\\u001b[2m:\u001b[0m\u001b]8;id=504569;file:///home/codespace/.local/lib/python3.12/site-packages/fbrefdata/fbref.py#927\u001b\\\u001b[2m927\u001b[0m\u001b]8;;\u001b\\\n"
      ]
     },
     "metadata": {},
     "output_type": "display_data"
    },
    {
     "data": {
      "text/html": [
       "<pre style=\"white-space:pre;overflow-x:auto;line-height:normal;font-family:Menlo,'DejaVu Sans Mono',consolas,'Courier New',monospace\"><span style=\"color: #7fbfbf; text-decoration-color: #7fbfbf\">                    </span><span style=\"color: #000080; text-decoration-color: #000080\">INFO    </span> <span style=\"font-weight: bold\">[</span><span style=\"color: #008080; text-decoration-color: #008080; font-weight: bold\">156</span>/<span style=\"color: #008080; text-decoration-color: #008080; font-weight: bold\">308</span><span style=\"font-weight: bold\">]</span> Retrieving game with <span style=\"color: #808000; text-decoration-color: #808000\">id</span>=<span style=\"color: #800080; text-decoration-color: #800080\">4e4a5a50</span>                                <a href=\"file:///home/codespace/.local/lib/python3.12/site-packages/fbrefdata/fbref.py\" target=\"_blank\"><span style=\"color: #7f7f7f; text-decoration-color: #7f7f7f\">fbref.py</span></a><span style=\"color: #7f7f7f; text-decoration-color: #7f7f7f\">:</span><a href=\"file:///home/codespace/.local/lib/python3.12/site-packages/fbrefdata/fbref.py#927\" target=\"_blank\"><span style=\"color: #7f7f7f; text-decoration-color: #7f7f7f\">927</span></a>\n",
       "</pre>\n"
      ],
      "text/plain": [
       "\u001b[2;36m                   \u001b[0m\u001b[2;36m \u001b[0m\u001b[34mINFO    \u001b[0m \u001b[1m[\u001b[0m\u001b[1;36m156\u001b[0m/\u001b[1;36m308\u001b[0m\u001b[1m]\u001b[0m Retrieving game with \u001b[33mid\u001b[0m=\u001b[35m4e4a5a50\u001b[0m                                \u001b]8;id=636199;file:///home/codespace/.local/lib/python3.12/site-packages/fbrefdata/fbref.py\u001b\\\u001b[2mfbref.py\u001b[0m\u001b]8;;\u001b\\\u001b[2m:\u001b[0m\u001b]8;id=348660;file:///home/codespace/.local/lib/python3.12/site-packages/fbrefdata/fbref.py#927\u001b\\\u001b[2m927\u001b[0m\u001b]8;;\u001b\\\n"
      ]
     },
     "metadata": {},
     "output_type": "display_data"
    },
    {
     "data": {
      "text/html": [
       "<pre style=\"white-space:pre;overflow-x:auto;line-height:normal;font-family:Menlo,'DejaVu Sans Mono',consolas,'Courier New',monospace\"><span style=\"color: #7fbfbf; text-decoration-color: #7fbfbf\">                    </span><span style=\"color: #000080; text-decoration-color: #000080\">INFO    </span> <span style=\"font-weight: bold\">[</span><span style=\"color: #008080; text-decoration-color: #008080; font-weight: bold\">157</span>/<span style=\"color: #008080; text-decoration-color: #008080; font-weight: bold\">308</span><span style=\"font-weight: bold\">]</span> Retrieving game with <span style=\"color: #808000; text-decoration-color: #808000\">id</span>=<span style=\"color: #800080; text-decoration-color: #800080\">a3dfeb48</span>                                <a href=\"file:///home/codespace/.local/lib/python3.12/site-packages/fbrefdata/fbref.py\" target=\"_blank\"><span style=\"color: #7f7f7f; text-decoration-color: #7f7f7f\">fbref.py</span></a><span style=\"color: #7f7f7f; text-decoration-color: #7f7f7f\">:</span><a href=\"file:///home/codespace/.local/lib/python3.12/site-packages/fbrefdata/fbref.py#927\" target=\"_blank\"><span style=\"color: #7f7f7f; text-decoration-color: #7f7f7f\">927</span></a>\n",
       "</pre>\n"
      ],
      "text/plain": [
       "\u001b[2;36m                   \u001b[0m\u001b[2;36m \u001b[0m\u001b[34mINFO    \u001b[0m \u001b[1m[\u001b[0m\u001b[1;36m157\u001b[0m/\u001b[1;36m308\u001b[0m\u001b[1m]\u001b[0m Retrieving game with \u001b[33mid\u001b[0m=\u001b[35ma3dfeb48\u001b[0m                                \u001b]8;id=461503;file:///home/codespace/.local/lib/python3.12/site-packages/fbrefdata/fbref.py\u001b\\\u001b[2mfbref.py\u001b[0m\u001b]8;;\u001b\\\u001b[2m:\u001b[0m\u001b]8;id=410918;file:///home/codespace/.local/lib/python3.12/site-packages/fbrefdata/fbref.py#927\u001b\\\u001b[2m927\u001b[0m\u001b]8;;\u001b\\\n"
      ]
     },
     "metadata": {},
     "output_type": "display_data"
    },
    {
     "data": {
      "text/html": [
       "<pre style=\"white-space:pre;overflow-x:auto;line-height:normal;font-family:Menlo,'DejaVu Sans Mono',consolas,'Courier New',monospace\"><span style=\"color: #7fbfbf; text-decoration-color: #7fbfbf\">                    </span><span style=\"color: #000080; text-decoration-color: #000080\">INFO    </span> <span style=\"font-weight: bold\">[</span><span style=\"color: #008080; text-decoration-color: #008080; font-weight: bold\">158</span>/<span style=\"color: #008080; text-decoration-color: #008080; font-weight: bold\">308</span><span style=\"font-weight: bold\">]</span> Retrieving game with <span style=\"color: #808000; text-decoration-color: #808000\">id</span>=<span style=\"color: #800080; text-decoration-color: #800080\">815895f1</span>                                <a href=\"file:///home/codespace/.local/lib/python3.12/site-packages/fbrefdata/fbref.py\" target=\"_blank\"><span style=\"color: #7f7f7f; text-decoration-color: #7f7f7f\">fbref.py</span></a><span style=\"color: #7f7f7f; text-decoration-color: #7f7f7f\">:</span><a href=\"file:///home/codespace/.local/lib/python3.12/site-packages/fbrefdata/fbref.py#927\" target=\"_blank\"><span style=\"color: #7f7f7f; text-decoration-color: #7f7f7f\">927</span></a>\n",
       "</pre>\n"
      ],
      "text/plain": [
       "\u001b[2;36m                   \u001b[0m\u001b[2;36m \u001b[0m\u001b[34mINFO    \u001b[0m \u001b[1m[\u001b[0m\u001b[1;36m158\u001b[0m/\u001b[1;36m308\u001b[0m\u001b[1m]\u001b[0m Retrieving game with \u001b[33mid\u001b[0m=\u001b[35m815895f1\u001b[0m                                \u001b]8;id=967017;file:///home/codespace/.local/lib/python3.12/site-packages/fbrefdata/fbref.py\u001b\\\u001b[2mfbref.py\u001b[0m\u001b]8;;\u001b\\\u001b[2m:\u001b[0m\u001b]8;id=312718;file:///home/codespace/.local/lib/python3.12/site-packages/fbrefdata/fbref.py#927\u001b\\\u001b[2m927\u001b[0m\u001b]8;;\u001b\\\n"
      ]
     },
     "metadata": {},
     "output_type": "display_data"
    },
    {
     "data": {
      "text/html": [
       "<pre style=\"white-space:pre;overflow-x:auto;line-height:normal;font-family:Menlo,'DejaVu Sans Mono',consolas,'Courier New',monospace\"><span style=\"color: #7fbfbf; text-decoration-color: #7fbfbf\">                    </span><span style=\"color: #000080; text-decoration-color: #000080\">INFO    </span> <span style=\"font-weight: bold\">[</span><span style=\"color: #008080; text-decoration-color: #008080; font-weight: bold\">159</span>/<span style=\"color: #008080; text-decoration-color: #008080; font-weight: bold\">308</span><span style=\"font-weight: bold\">]</span> Retrieving game with <span style=\"color: #808000; text-decoration-color: #808000\">id</span>=<span style=\"color: #800080; text-decoration-color: #800080\">fbcf759f</span>                                <a href=\"file:///home/codespace/.local/lib/python3.12/site-packages/fbrefdata/fbref.py\" target=\"_blank\"><span style=\"color: #7f7f7f; text-decoration-color: #7f7f7f\">fbref.py</span></a><span style=\"color: #7f7f7f; text-decoration-color: #7f7f7f\">:</span><a href=\"file:///home/codespace/.local/lib/python3.12/site-packages/fbrefdata/fbref.py#927\" target=\"_blank\"><span style=\"color: #7f7f7f; text-decoration-color: #7f7f7f\">927</span></a>\n",
       "</pre>\n"
      ],
      "text/plain": [
       "\u001b[2;36m                   \u001b[0m\u001b[2;36m \u001b[0m\u001b[34mINFO    \u001b[0m \u001b[1m[\u001b[0m\u001b[1;36m159\u001b[0m/\u001b[1;36m308\u001b[0m\u001b[1m]\u001b[0m Retrieving game with \u001b[33mid\u001b[0m=\u001b[35mfbcf759f\u001b[0m                                \u001b]8;id=384637;file:///home/codespace/.local/lib/python3.12/site-packages/fbrefdata/fbref.py\u001b\\\u001b[2mfbref.py\u001b[0m\u001b]8;;\u001b\\\u001b[2m:\u001b[0m\u001b]8;id=348860;file:///home/codespace/.local/lib/python3.12/site-packages/fbrefdata/fbref.py#927\u001b\\\u001b[2m927\u001b[0m\u001b]8;;\u001b\\\n"
      ]
     },
     "metadata": {},
     "output_type": "display_data"
    },
    {
     "data": {
      "text/html": [
       "<pre style=\"white-space:pre;overflow-x:auto;line-height:normal;font-family:Menlo,'DejaVu Sans Mono',consolas,'Courier New',monospace\"><span style=\"color: #7fbfbf; text-decoration-color: #7fbfbf\">                    </span><span style=\"color: #000080; text-decoration-color: #000080\">INFO    </span> <span style=\"font-weight: bold\">[</span><span style=\"color: #008080; text-decoration-color: #008080; font-weight: bold\">160</span>/<span style=\"color: #008080; text-decoration-color: #008080; font-weight: bold\">308</span><span style=\"font-weight: bold\">]</span> Retrieving game with <span style=\"color: #808000; text-decoration-color: #808000\">id</span>=<span style=\"color: #800080; text-decoration-color: #800080\">15f19b3c</span>                                <a href=\"file:///home/codespace/.local/lib/python3.12/site-packages/fbrefdata/fbref.py\" target=\"_blank\"><span style=\"color: #7f7f7f; text-decoration-color: #7f7f7f\">fbref.py</span></a><span style=\"color: #7f7f7f; text-decoration-color: #7f7f7f\">:</span><a href=\"file:///home/codespace/.local/lib/python3.12/site-packages/fbrefdata/fbref.py#927\" target=\"_blank\"><span style=\"color: #7f7f7f; text-decoration-color: #7f7f7f\">927</span></a>\n",
       "</pre>\n"
      ],
      "text/plain": [
       "\u001b[2;36m                   \u001b[0m\u001b[2;36m \u001b[0m\u001b[34mINFO    \u001b[0m \u001b[1m[\u001b[0m\u001b[1;36m160\u001b[0m/\u001b[1;36m308\u001b[0m\u001b[1m]\u001b[0m Retrieving game with \u001b[33mid\u001b[0m=\u001b[35m15f19b3c\u001b[0m                                \u001b]8;id=153205;file:///home/codespace/.local/lib/python3.12/site-packages/fbrefdata/fbref.py\u001b\\\u001b[2mfbref.py\u001b[0m\u001b]8;;\u001b\\\u001b[2m:\u001b[0m\u001b]8;id=583872;file:///home/codespace/.local/lib/python3.12/site-packages/fbrefdata/fbref.py#927\u001b\\\u001b[2m927\u001b[0m\u001b]8;;\u001b\\\n"
      ]
     },
     "metadata": {},
     "output_type": "display_data"
    },
    {
     "data": {
      "text/html": [
       "<pre style=\"white-space:pre;overflow-x:auto;line-height:normal;font-family:Menlo,'DejaVu Sans Mono',consolas,'Courier New',monospace\"><span style=\"color: #7fbfbf; text-decoration-color: #7fbfbf\">                    </span><span style=\"color: #000080; text-decoration-color: #000080\">INFO    </span> <span style=\"font-weight: bold\">[</span><span style=\"color: #008080; text-decoration-color: #008080; font-weight: bold\">161</span>/<span style=\"color: #008080; text-decoration-color: #008080; font-weight: bold\">308</span><span style=\"font-weight: bold\">]</span> Retrieving game with <span style=\"color: #808000; text-decoration-color: #808000\">id</span>=<span style=\"color: #800080; text-decoration-color: #800080\">8a0048f6</span>                                <a href=\"file:///home/codespace/.local/lib/python3.12/site-packages/fbrefdata/fbref.py\" target=\"_blank\"><span style=\"color: #7f7f7f; text-decoration-color: #7f7f7f\">fbref.py</span></a><span style=\"color: #7f7f7f; text-decoration-color: #7f7f7f\">:</span><a href=\"file:///home/codespace/.local/lib/python3.12/site-packages/fbrefdata/fbref.py#927\" target=\"_blank\"><span style=\"color: #7f7f7f; text-decoration-color: #7f7f7f\">927</span></a>\n",
       "</pre>\n"
      ],
      "text/plain": [
       "\u001b[2;36m                   \u001b[0m\u001b[2;36m \u001b[0m\u001b[34mINFO    \u001b[0m \u001b[1m[\u001b[0m\u001b[1;36m161\u001b[0m/\u001b[1;36m308\u001b[0m\u001b[1m]\u001b[0m Retrieving game with \u001b[33mid\u001b[0m=\u001b[35m8a0048f6\u001b[0m                                \u001b]8;id=153294;file:///home/codespace/.local/lib/python3.12/site-packages/fbrefdata/fbref.py\u001b\\\u001b[2mfbref.py\u001b[0m\u001b]8;;\u001b\\\u001b[2m:\u001b[0m\u001b]8;id=274730;file:///home/codespace/.local/lib/python3.12/site-packages/fbrefdata/fbref.py#927\u001b\\\u001b[2m927\u001b[0m\u001b]8;;\u001b\\\n"
      ]
     },
     "metadata": {},
     "output_type": "display_data"
    },
    {
     "data": {
      "text/html": [
       "<pre style=\"white-space:pre;overflow-x:auto;line-height:normal;font-family:Menlo,'DejaVu Sans Mono',consolas,'Courier New',monospace\"><span style=\"color: #7fbfbf; text-decoration-color: #7fbfbf\">                    </span><span style=\"color: #000080; text-decoration-color: #000080\">INFO    </span> <span style=\"font-weight: bold\">[</span><span style=\"color: #008080; text-decoration-color: #008080; font-weight: bold\">162</span>/<span style=\"color: #008080; text-decoration-color: #008080; font-weight: bold\">308</span><span style=\"font-weight: bold\">]</span> Retrieving game with <span style=\"color: #808000; text-decoration-color: #808000\">id</span>=<span style=\"color: #800080; text-decoration-color: #800080\">515026cb</span>                                <a href=\"file:///home/codespace/.local/lib/python3.12/site-packages/fbrefdata/fbref.py\" target=\"_blank\"><span style=\"color: #7f7f7f; text-decoration-color: #7f7f7f\">fbref.py</span></a><span style=\"color: #7f7f7f; text-decoration-color: #7f7f7f\">:</span><a href=\"file:///home/codespace/.local/lib/python3.12/site-packages/fbrefdata/fbref.py#927\" target=\"_blank\"><span style=\"color: #7f7f7f; text-decoration-color: #7f7f7f\">927</span></a>\n",
       "</pre>\n"
      ],
      "text/plain": [
       "\u001b[2;36m                   \u001b[0m\u001b[2;36m \u001b[0m\u001b[34mINFO    \u001b[0m \u001b[1m[\u001b[0m\u001b[1;36m162\u001b[0m/\u001b[1;36m308\u001b[0m\u001b[1m]\u001b[0m Retrieving game with \u001b[33mid\u001b[0m=\u001b[35m515026cb\u001b[0m                                \u001b]8;id=919343;file:///home/codespace/.local/lib/python3.12/site-packages/fbrefdata/fbref.py\u001b\\\u001b[2mfbref.py\u001b[0m\u001b]8;;\u001b\\\u001b[2m:\u001b[0m\u001b]8;id=67242;file:///home/codespace/.local/lib/python3.12/site-packages/fbrefdata/fbref.py#927\u001b\\\u001b[2m927\u001b[0m\u001b]8;;\u001b\\\n"
      ]
     },
     "metadata": {},
     "output_type": "display_data"
    },
    {
     "data": {
      "text/html": [
       "<pre style=\"white-space:pre;overflow-x:auto;line-height:normal;font-family:Menlo,'DejaVu Sans Mono',consolas,'Courier New',monospace\"><span style=\"color: #7fbfbf; text-decoration-color: #7fbfbf\">                    </span><span style=\"color: #000080; text-decoration-color: #000080\">INFO    </span> <span style=\"font-weight: bold\">[</span><span style=\"color: #008080; text-decoration-color: #008080; font-weight: bold\">163</span>/<span style=\"color: #008080; text-decoration-color: #008080; font-weight: bold\">308</span><span style=\"font-weight: bold\">]</span> Retrieving game with <span style=\"color: #808000; text-decoration-color: #808000\">id</span>=<span style=\"color: #800080; text-decoration-color: #800080\">d26dbb59</span>                                <a href=\"file:///home/codespace/.local/lib/python3.12/site-packages/fbrefdata/fbref.py\" target=\"_blank\"><span style=\"color: #7f7f7f; text-decoration-color: #7f7f7f\">fbref.py</span></a><span style=\"color: #7f7f7f; text-decoration-color: #7f7f7f\">:</span><a href=\"file:///home/codespace/.local/lib/python3.12/site-packages/fbrefdata/fbref.py#927\" target=\"_blank\"><span style=\"color: #7f7f7f; text-decoration-color: #7f7f7f\">927</span></a>\n",
       "</pre>\n"
      ],
      "text/plain": [
       "\u001b[2;36m                   \u001b[0m\u001b[2;36m \u001b[0m\u001b[34mINFO    \u001b[0m \u001b[1m[\u001b[0m\u001b[1;36m163\u001b[0m/\u001b[1;36m308\u001b[0m\u001b[1m]\u001b[0m Retrieving game with \u001b[33mid\u001b[0m=\u001b[35md26dbb59\u001b[0m                                \u001b]8;id=601581;file:///home/codespace/.local/lib/python3.12/site-packages/fbrefdata/fbref.py\u001b\\\u001b[2mfbref.py\u001b[0m\u001b]8;;\u001b\\\u001b[2m:\u001b[0m\u001b]8;id=53347;file:///home/codespace/.local/lib/python3.12/site-packages/fbrefdata/fbref.py#927\u001b\\\u001b[2m927\u001b[0m\u001b]8;;\u001b\\\n"
      ]
     },
     "metadata": {},
     "output_type": "display_data"
    },
    {
     "data": {
      "text/html": [
       "<pre style=\"white-space:pre;overflow-x:auto;line-height:normal;font-family:Menlo,'DejaVu Sans Mono',consolas,'Courier New',monospace\"><span style=\"color: #7fbfbf; text-decoration-color: #7fbfbf\">                    </span><span style=\"color: #000080; text-decoration-color: #000080\">INFO    </span> <span style=\"font-weight: bold\">[</span><span style=\"color: #008080; text-decoration-color: #008080; font-weight: bold\">164</span>/<span style=\"color: #008080; text-decoration-color: #008080; font-weight: bold\">308</span><span style=\"font-weight: bold\">]</span> Retrieving game with <span style=\"color: #808000; text-decoration-color: #808000\">id</span>=<span style=\"color: #800080; text-decoration-color: #800080\">0f7be142</span>                                <a href=\"file:///home/codespace/.local/lib/python3.12/site-packages/fbrefdata/fbref.py\" target=\"_blank\"><span style=\"color: #7f7f7f; text-decoration-color: #7f7f7f\">fbref.py</span></a><span style=\"color: #7f7f7f; text-decoration-color: #7f7f7f\">:</span><a href=\"file:///home/codespace/.local/lib/python3.12/site-packages/fbrefdata/fbref.py#927\" target=\"_blank\"><span style=\"color: #7f7f7f; text-decoration-color: #7f7f7f\">927</span></a>\n",
       "</pre>\n"
      ],
      "text/plain": [
       "\u001b[2;36m                   \u001b[0m\u001b[2;36m \u001b[0m\u001b[34mINFO    \u001b[0m \u001b[1m[\u001b[0m\u001b[1;36m164\u001b[0m/\u001b[1;36m308\u001b[0m\u001b[1m]\u001b[0m Retrieving game with \u001b[33mid\u001b[0m=\u001b[35m0f7be142\u001b[0m                                \u001b]8;id=152787;file:///home/codespace/.local/lib/python3.12/site-packages/fbrefdata/fbref.py\u001b\\\u001b[2mfbref.py\u001b[0m\u001b]8;;\u001b\\\u001b[2m:\u001b[0m\u001b]8;id=451026;file:///home/codespace/.local/lib/python3.12/site-packages/fbrefdata/fbref.py#927\u001b\\\u001b[2m927\u001b[0m\u001b]8;;\u001b\\\n"
      ]
     },
     "metadata": {},
     "output_type": "display_data"
    },
    {
     "data": {
      "text/html": [
       "<pre style=\"white-space:pre;overflow-x:auto;line-height:normal;font-family:Menlo,'DejaVu Sans Mono',consolas,'Courier New',monospace\"><span style=\"color: #7fbfbf; text-decoration-color: #7fbfbf\">                    </span><span style=\"color: #000080; text-decoration-color: #000080\">INFO    </span> <span style=\"font-weight: bold\">[</span><span style=\"color: #008080; text-decoration-color: #008080; font-weight: bold\">165</span>/<span style=\"color: #008080; text-decoration-color: #008080; font-weight: bold\">308</span><span style=\"font-weight: bold\">]</span> Retrieving game with <span style=\"color: #808000; text-decoration-color: #808000\">id</span>=<span style=\"color: #800080; text-decoration-color: #800080\">a42881c7</span>                                <a href=\"file:///home/codespace/.local/lib/python3.12/site-packages/fbrefdata/fbref.py\" target=\"_blank\"><span style=\"color: #7f7f7f; text-decoration-color: #7f7f7f\">fbref.py</span></a><span style=\"color: #7f7f7f; text-decoration-color: #7f7f7f\">:</span><a href=\"file:///home/codespace/.local/lib/python3.12/site-packages/fbrefdata/fbref.py#927\" target=\"_blank\"><span style=\"color: #7f7f7f; text-decoration-color: #7f7f7f\">927</span></a>\n",
       "</pre>\n"
      ],
      "text/plain": [
       "\u001b[2;36m                   \u001b[0m\u001b[2;36m \u001b[0m\u001b[34mINFO    \u001b[0m \u001b[1m[\u001b[0m\u001b[1;36m165\u001b[0m/\u001b[1;36m308\u001b[0m\u001b[1m]\u001b[0m Retrieving game with \u001b[33mid\u001b[0m=\u001b[35ma42881c7\u001b[0m                                \u001b]8;id=760175;file:///home/codespace/.local/lib/python3.12/site-packages/fbrefdata/fbref.py\u001b\\\u001b[2mfbref.py\u001b[0m\u001b]8;;\u001b\\\u001b[2m:\u001b[0m\u001b]8;id=701360;file:///home/codespace/.local/lib/python3.12/site-packages/fbrefdata/fbref.py#927\u001b\\\u001b[2m927\u001b[0m\u001b]8;;\u001b\\\n"
      ]
     },
     "metadata": {},
     "output_type": "display_data"
    },
    {
     "data": {
      "text/html": [
       "<pre style=\"white-space:pre;overflow-x:auto;line-height:normal;font-family:Menlo,'DejaVu Sans Mono',consolas,'Courier New',monospace\"><span style=\"color: #7fbfbf; text-decoration-color: #7fbfbf\">                    </span><span style=\"color: #000080; text-decoration-color: #000080\">INFO    </span> <span style=\"font-weight: bold\">[</span><span style=\"color: #008080; text-decoration-color: #008080; font-weight: bold\">166</span>/<span style=\"color: #008080; text-decoration-color: #008080; font-weight: bold\">308</span><span style=\"font-weight: bold\">]</span> Retrieving game with <span style=\"color: #808000; text-decoration-color: #808000\">id</span>=<span style=\"color: #800080; text-decoration-color: #800080\">fefb7511</span>                                <a href=\"file:///home/codespace/.local/lib/python3.12/site-packages/fbrefdata/fbref.py\" target=\"_blank\"><span style=\"color: #7f7f7f; text-decoration-color: #7f7f7f\">fbref.py</span></a><span style=\"color: #7f7f7f; text-decoration-color: #7f7f7f\">:</span><a href=\"file:///home/codespace/.local/lib/python3.12/site-packages/fbrefdata/fbref.py#927\" target=\"_blank\"><span style=\"color: #7f7f7f; text-decoration-color: #7f7f7f\">927</span></a>\n",
       "</pre>\n"
      ],
      "text/plain": [
       "\u001b[2;36m                   \u001b[0m\u001b[2;36m \u001b[0m\u001b[34mINFO    \u001b[0m \u001b[1m[\u001b[0m\u001b[1;36m166\u001b[0m/\u001b[1;36m308\u001b[0m\u001b[1m]\u001b[0m Retrieving game with \u001b[33mid\u001b[0m=\u001b[35mfefb7511\u001b[0m                                \u001b]8;id=899771;file:///home/codespace/.local/lib/python3.12/site-packages/fbrefdata/fbref.py\u001b\\\u001b[2mfbref.py\u001b[0m\u001b]8;;\u001b\\\u001b[2m:\u001b[0m\u001b]8;id=732794;file:///home/codespace/.local/lib/python3.12/site-packages/fbrefdata/fbref.py#927\u001b\\\u001b[2m927\u001b[0m\u001b]8;;\u001b\\\n"
      ]
     },
     "metadata": {},
     "output_type": "display_data"
    },
    {
     "data": {
      "text/html": [
       "<pre style=\"white-space:pre;overflow-x:auto;line-height:normal;font-family:Menlo,'DejaVu Sans Mono',consolas,'Courier New',monospace\"><span style=\"color: #7fbfbf; text-decoration-color: #7fbfbf\">                    </span><span style=\"color: #000080; text-decoration-color: #000080\">INFO    </span> <span style=\"font-weight: bold\">[</span><span style=\"color: #008080; text-decoration-color: #008080; font-weight: bold\">167</span>/<span style=\"color: #008080; text-decoration-color: #008080; font-weight: bold\">308</span><span style=\"font-weight: bold\">]</span> Retrieving game with <span style=\"color: #808000; text-decoration-color: #808000\">id</span>=<span style=\"color: #800080; text-decoration-color: #800080\">0898f32c</span>                                <a href=\"file:///home/codespace/.local/lib/python3.12/site-packages/fbrefdata/fbref.py\" target=\"_blank\"><span style=\"color: #7f7f7f; text-decoration-color: #7f7f7f\">fbref.py</span></a><span style=\"color: #7f7f7f; text-decoration-color: #7f7f7f\">:</span><a href=\"file:///home/codespace/.local/lib/python3.12/site-packages/fbrefdata/fbref.py#927\" target=\"_blank\"><span style=\"color: #7f7f7f; text-decoration-color: #7f7f7f\">927</span></a>\n",
       "</pre>\n"
      ],
      "text/plain": [
       "\u001b[2;36m                   \u001b[0m\u001b[2;36m \u001b[0m\u001b[34mINFO    \u001b[0m \u001b[1m[\u001b[0m\u001b[1;36m167\u001b[0m/\u001b[1;36m308\u001b[0m\u001b[1m]\u001b[0m Retrieving game with \u001b[33mid\u001b[0m=\u001b[35m0898f32c\u001b[0m                                \u001b]8;id=440666;file:///home/codespace/.local/lib/python3.12/site-packages/fbrefdata/fbref.py\u001b\\\u001b[2mfbref.py\u001b[0m\u001b]8;;\u001b\\\u001b[2m:\u001b[0m\u001b]8;id=317711;file:///home/codespace/.local/lib/python3.12/site-packages/fbrefdata/fbref.py#927\u001b\\\u001b[2m927\u001b[0m\u001b]8;;\u001b\\\n"
      ]
     },
     "metadata": {},
     "output_type": "display_data"
    },
    {
     "data": {
      "text/html": [
       "<pre style=\"white-space:pre;overflow-x:auto;line-height:normal;font-family:Menlo,'DejaVu Sans Mono',consolas,'Courier New',monospace\"><span style=\"color: #7fbfbf; text-decoration-color: #7fbfbf\">                    </span><span style=\"color: #000080; text-decoration-color: #000080\">INFO    </span> <span style=\"font-weight: bold\">[</span><span style=\"color: #008080; text-decoration-color: #008080; font-weight: bold\">168</span>/<span style=\"color: #008080; text-decoration-color: #008080; font-weight: bold\">308</span><span style=\"font-weight: bold\">]</span> Retrieving game with <span style=\"color: #808000; text-decoration-color: #808000\">id</span>=<span style=\"color: #800080; text-decoration-color: #800080\">20d1cf50</span>                                <a href=\"file:///home/codespace/.local/lib/python3.12/site-packages/fbrefdata/fbref.py\" target=\"_blank\"><span style=\"color: #7f7f7f; text-decoration-color: #7f7f7f\">fbref.py</span></a><span style=\"color: #7f7f7f; text-decoration-color: #7f7f7f\">:</span><a href=\"file:///home/codespace/.local/lib/python3.12/site-packages/fbrefdata/fbref.py#927\" target=\"_blank\"><span style=\"color: #7f7f7f; text-decoration-color: #7f7f7f\">927</span></a>\n",
       "</pre>\n"
      ],
      "text/plain": [
       "\u001b[2;36m                   \u001b[0m\u001b[2;36m \u001b[0m\u001b[34mINFO    \u001b[0m \u001b[1m[\u001b[0m\u001b[1;36m168\u001b[0m/\u001b[1;36m308\u001b[0m\u001b[1m]\u001b[0m Retrieving game with \u001b[33mid\u001b[0m=\u001b[35m20d1cf50\u001b[0m                                \u001b]8;id=249261;file:///home/codespace/.local/lib/python3.12/site-packages/fbrefdata/fbref.py\u001b\\\u001b[2mfbref.py\u001b[0m\u001b]8;;\u001b\\\u001b[2m:\u001b[0m\u001b]8;id=851213;file:///home/codespace/.local/lib/python3.12/site-packages/fbrefdata/fbref.py#927\u001b\\\u001b[2m927\u001b[0m\u001b]8;;\u001b\\\n"
      ]
     },
     "metadata": {},
     "output_type": "display_data"
    },
    {
     "data": {
      "text/html": [
       "<pre style=\"white-space:pre;overflow-x:auto;line-height:normal;font-family:Menlo,'DejaVu Sans Mono',consolas,'Courier New',monospace\"><span style=\"color: #7fbfbf; text-decoration-color: #7fbfbf\">                    </span><span style=\"color: #000080; text-decoration-color: #000080\">INFO    </span> <span style=\"font-weight: bold\">[</span><span style=\"color: #008080; text-decoration-color: #008080; font-weight: bold\">169</span>/<span style=\"color: #008080; text-decoration-color: #008080; font-weight: bold\">308</span><span style=\"font-weight: bold\">]</span> Retrieving game with <span style=\"color: #808000; text-decoration-color: #808000\">id</span>=<span style=\"color: #800080; text-decoration-color: #800080\">975c5e67</span>                                <a href=\"file:///home/codespace/.local/lib/python3.12/site-packages/fbrefdata/fbref.py\" target=\"_blank\"><span style=\"color: #7f7f7f; text-decoration-color: #7f7f7f\">fbref.py</span></a><span style=\"color: #7f7f7f; text-decoration-color: #7f7f7f\">:</span><a href=\"file:///home/codespace/.local/lib/python3.12/site-packages/fbrefdata/fbref.py#927\" target=\"_blank\"><span style=\"color: #7f7f7f; text-decoration-color: #7f7f7f\">927</span></a>\n",
       "</pre>\n"
      ],
      "text/plain": [
       "\u001b[2;36m                   \u001b[0m\u001b[2;36m \u001b[0m\u001b[34mINFO    \u001b[0m \u001b[1m[\u001b[0m\u001b[1;36m169\u001b[0m/\u001b[1;36m308\u001b[0m\u001b[1m]\u001b[0m Retrieving game with \u001b[33mid\u001b[0m=\u001b[35m975c5e67\u001b[0m                                \u001b]8;id=149409;file:///home/codespace/.local/lib/python3.12/site-packages/fbrefdata/fbref.py\u001b\\\u001b[2mfbref.py\u001b[0m\u001b]8;;\u001b\\\u001b[2m:\u001b[0m\u001b]8;id=872722;file:///home/codespace/.local/lib/python3.12/site-packages/fbrefdata/fbref.py#927\u001b\\\u001b[2m927\u001b[0m\u001b]8;;\u001b\\\n"
      ]
     },
     "metadata": {},
     "output_type": "display_data"
    },
    {
     "data": {
      "text/html": [
       "<pre style=\"white-space:pre;overflow-x:auto;line-height:normal;font-family:Menlo,'DejaVu Sans Mono',consolas,'Courier New',monospace\"><span style=\"color: #7fbfbf; text-decoration-color: #7fbfbf\">                    </span><span style=\"color: #000080; text-decoration-color: #000080\">INFO    </span> <span style=\"font-weight: bold\">[</span><span style=\"color: #008080; text-decoration-color: #008080; font-weight: bold\">170</span>/<span style=\"color: #008080; text-decoration-color: #008080; font-weight: bold\">308</span><span style=\"font-weight: bold\">]</span> Retrieving game with <span style=\"color: #808000; text-decoration-color: #808000\">id</span>=<span style=\"color: #800080; text-decoration-color: #800080\">a90c8577</span>                                <a href=\"file:///home/codespace/.local/lib/python3.12/site-packages/fbrefdata/fbref.py\" target=\"_blank\"><span style=\"color: #7f7f7f; text-decoration-color: #7f7f7f\">fbref.py</span></a><span style=\"color: #7f7f7f; text-decoration-color: #7f7f7f\">:</span><a href=\"file:///home/codespace/.local/lib/python3.12/site-packages/fbrefdata/fbref.py#927\" target=\"_blank\"><span style=\"color: #7f7f7f; text-decoration-color: #7f7f7f\">927</span></a>\n",
       "</pre>\n"
      ],
      "text/plain": [
       "\u001b[2;36m                   \u001b[0m\u001b[2;36m \u001b[0m\u001b[34mINFO    \u001b[0m \u001b[1m[\u001b[0m\u001b[1;36m170\u001b[0m/\u001b[1;36m308\u001b[0m\u001b[1m]\u001b[0m Retrieving game with \u001b[33mid\u001b[0m=\u001b[35ma90c8577\u001b[0m                                \u001b]8;id=101958;file:///home/codespace/.local/lib/python3.12/site-packages/fbrefdata/fbref.py\u001b\\\u001b[2mfbref.py\u001b[0m\u001b]8;;\u001b\\\u001b[2m:\u001b[0m\u001b]8;id=445942;file:///home/codespace/.local/lib/python3.12/site-packages/fbrefdata/fbref.py#927\u001b\\\u001b[2m927\u001b[0m\u001b]8;;\u001b\\\n"
      ]
     },
     "metadata": {},
     "output_type": "display_data"
    },
    {
     "data": {
      "text/html": [
       "<pre style=\"white-space:pre;overflow-x:auto;line-height:normal;font-family:Menlo,'DejaVu Sans Mono',consolas,'Courier New',monospace\"><span style=\"color: #7fbfbf; text-decoration-color: #7fbfbf\">                    </span><span style=\"color: #000080; text-decoration-color: #000080\">INFO    </span> <span style=\"font-weight: bold\">[</span><span style=\"color: #008080; text-decoration-color: #008080; font-weight: bold\">171</span>/<span style=\"color: #008080; text-decoration-color: #008080; font-weight: bold\">308</span><span style=\"font-weight: bold\">]</span> Retrieving game with <span style=\"color: #808000; text-decoration-color: #808000\">id</span>=<span style=\"color: #800080; text-decoration-color: #800080\">543e9bb3</span>                                <a href=\"file:///home/codespace/.local/lib/python3.12/site-packages/fbrefdata/fbref.py\" target=\"_blank\"><span style=\"color: #7f7f7f; text-decoration-color: #7f7f7f\">fbref.py</span></a><span style=\"color: #7f7f7f; text-decoration-color: #7f7f7f\">:</span><a href=\"file:///home/codespace/.local/lib/python3.12/site-packages/fbrefdata/fbref.py#927\" target=\"_blank\"><span style=\"color: #7f7f7f; text-decoration-color: #7f7f7f\">927</span></a>\n",
       "</pre>\n"
      ],
      "text/plain": [
       "\u001b[2;36m                   \u001b[0m\u001b[2;36m \u001b[0m\u001b[34mINFO    \u001b[0m \u001b[1m[\u001b[0m\u001b[1;36m171\u001b[0m/\u001b[1;36m308\u001b[0m\u001b[1m]\u001b[0m Retrieving game with \u001b[33mid\u001b[0m=\u001b[35m543e9bb3\u001b[0m                                \u001b]8;id=99777;file:///home/codespace/.local/lib/python3.12/site-packages/fbrefdata/fbref.py\u001b\\\u001b[2mfbref.py\u001b[0m\u001b]8;;\u001b\\\u001b[2m:\u001b[0m\u001b]8;id=399869;file:///home/codespace/.local/lib/python3.12/site-packages/fbrefdata/fbref.py#927\u001b\\\u001b[2m927\u001b[0m\u001b]8;;\u001b\\\n"
      ]
     },
     "metadata": {},
     "output_type": "display_data"
    },
    {
     "data": {
      "text/html": [
       "<pre style=\"white-space:pre;overflow-x:auto;line-height:normal;font-family:Menlo,'DejaVu Sans Mono',consolas,'Courier New',monospace\"><span style=\"color: #7fbfbf; text-decoration-color: #7fbfbf\">                    </span><span style=\"color: #000080; text-decoration-color: #000080\">INFO    </span> <span style=\"font-weight: bold\">[</span><span style=\"color: #008080; text-decoration-color: #008080; font-weight: bold\">172</span>/<span style=\"color: #008080; text-decoration-color: #008080; font-weight: bold\">308</span><span style=\"font-weight: bold\">]</span> Retrieving game with <span style=\"color: #808000; text-decoration-color: #808000\">id</span>=<span style=\"color: #800080; text-decoration-color: #800080\">2449e1e0</span>                                <a href=\"file:///home/codespace/.local/lib/python3.12/site-packages/fbrefdata/fbref.py\" target=\"_blank\"><span style=\"color: #7f7f7f; text-decoration-color: #7f7f7f\">fbref.py</span></a><span style=\"color: #7f7f7f; text-decoration-color: #7f7f7f\">:</span><a href=\"file:///home/codespace/.local/lib/python3.12/site-packages/fbrefdata/fbref.py#927\" target=\"_blank\"><span style=\"color: #7f7f7f; text-decoration-color: #7f7f7f\">927</span></a>\n",
       "</pre>\n"
      ],
      "text/plain": [
       "\u001b[2;36m                   \u001b[0m\u001b[2;36m \u001b[0m\u001b[34mINFO    \u001b[0m \u001b[1m[\u001b[0m\u001b[1;36m172\u001b[0m/\u001b[1;36m308\u001b[0m\u001b[1m]\u001b[0m Retrieving game with \u001b[33mid\u001b[0m=\u001b[35m2449e1e0\u001b[0m                                \u001b]8;id=97654;file:///home/codespace/.local/lib/python3.12/site-packages/fbrefdata/fbref.py\u001b\\\u001b[2mfbref.py\u001b[0m\u001b]8;;\u001b\\\u001b[2m:\u001b[0m\u001b]8;id=725585;file:///home/codespace/.local/lib/python3.12/site-packages/fbrefdata/fbref.py#927\u001b\\\u001b[2m927\u001b[0m\u001b]8;;\u001b\\\n"
      ]
     },
     "metadata": {},
     "output_type": "display_data"
    },
    {
     "data": {
      "text/html": [
       "<pre style=\"white-space:pre;overflow-x:auto;line-height:normal;font-family:Menlo,'DejaVu Sans Mono',consolas,'Courier New',monospace\"><span style=\"color: #7fbfbf; text-decoration-color: #7fbfbf\">                    </span><span style=\"color: #000080; text-decoration-color: #000080\">INFO    </span> <span style=\"font-weight: bold\">[</span><span style=\"color: #008080; text-decoration-color: #008080; font-weight: bold\">173</span>/<span style=\"color: #008080; text-decoration-color: #008080; font-weight: bold\">308</span><span style=\"font-weight: bold\">]</span> Retrieving game with <span style=\"color: #808000; text-decoration-color: #808000\">id</span>=<span style=\"color: #800080; text-decoration-color: #800080\">eb8b9036</span>                                <a href=\"file:///home/codespace/.local/lib/python3.12/site-packages/fbrefdata/fbref.py\" target=\"_blank\"><span style=\"color: #7f7f7f; text-decoration-color: #7f7f7f\">fbref.py</span></a><span style=\"color: #7f7f7f; text-decoration-color: #7f7f7f\">:</span><a href=\"file:///home/codespace/.local/lib/python3.12/site-packages/fbrefdata/fbref.py#927\" target=\"_blank\"><span style=\"color: #7f7f7f; text-decoration-color: #7f7f7f\">927</span></a>\n",
       "</pre>\n"
      ],
      "text/plain": [
       "\u001b[2;36m                   \u001b[0m\u001b[2;36m \u001b[0m\u001b[34mINFO    \u001b[0m \u001b[1m[\u001b[0m\u001b[1;36m173\u001b[0m/\u001b[1;36m308\u001b[0m\u001b[1m]\u001b[0m Retrieving game with \u001b[33mid\u001b[0m=\u001b[35meb8b9036\u001b[0m                                \u001b]8;id=283171;file:///home/codespace/.local/lib/python3.12/site-packages/fbrefdata/fbref.py\u001b\\\u001b[2mfbref.py\u001b[0m\u001b]8;;\u001b\\\u001b[2m:\u001b[0m\u001b]8;id=507316;file:///home/codespace/.local/lib/python3.12/site-packages/fbrefdata/fbref.py#927\u001b\\\u001b[2m927\u001b[0m\u001b]8;;\u001b\\\n"
      ]
     },
     "metadata": {},
     "output_type": "display_data"
    },
    {
     "data": {
      "text/html": [
       "<pre style=\"white-space:pre;overflow-x:auto;line-height:normal;font-family:Menlo,'DejaVu Sans Mono',consolas,'Courier New',monospace\"><span style=\"color: #7fbfbf; text-decoration-color: #7fbfbf\">                    </span><span style=\"color: #000080; text-decoration-color: #000080\">INFO    </span> <span style=\"font-weight: bold\">[</span><span style=\"color: #008080; text-decoration-color: #008080; font-weight: bold\">174</span>/<span style=\"color: #008080; text-decoration-color: #008080; font-weight: bold\">308</span><span style=\"font-weight: bold\">]</span> Retrieving game with <span style=\"color: #808000; text-decoration-color: #808000\">id</span>=<span style=\"color: #800080; text-decoration-color: #800080\">3e4cb54e</span>                                <a href=\"file:///home/codespace/.local/lib/python3.12/site-packages/fbrefdata/fbref.py\" target=\"_blank\"><span style=\"color: #7f7f7f; text-decoration-color: #7f7f7f\">fbref.py</span></a><span style=\"color: #7f7f7f; text-decoration-color: #7f7f7f\">:</span><a href=\"file:///home/codespace/.local/lib/python3.12/site-packages/fbrefdata/fbref.py#927\" target=\"_blank\"><span style=\"color: #7f7f7f; text-decoration-color: #7f7f7f\">927</span></a>\n",
       "</pre>\n"
      ],
      "text/plain": [
       "\u001b[2;36m                   \u001b[0m\u001b[2;36m \u001b[0m\u001b[34mINFO    \u001b[0m \u001b[1m[\u001b[0m\u001b[1;36m174\u001b[0m/\u001b[1;36m308\u001b[0m\u001b[1m]\u001b[0m Retrieving game with \u001b[33mid\u001b[0m=\u001b[35m3e4cb54e\u001b[0m                                \u001b]8;id=858188;file:///home/codespace/.local/lib/python3.12/site-packages/fbrefdata/fbref.py\u001b\\\u001b[2mfbref.py\u001b[0m\u001b]8;;\u001b\\\u001b[2m:\u001b[0m\u001b]8;id=912395;file:///home/codespace/.local/lib/python3.12/site-packages/fbrefdata/fbref.py#927\u001b\\\u001b[2m927\u001b[0m\u001b]8;;\u001b\\\n"
      ]
     },
     "metadata": {},
     "output_type": "display_data"
    },
    {
     "data": {
      "text/html": [
       "<pre style=\"white-space:pre;overflow-x:auto;line-height:normal;font-family:Menlo,'DejaVu Sans Mono',consolas,'Courier New',monospace\"><span style=\"color: #7fbfbf; text-decoration-color: #7fbfbf\">                    </span><span style=\"color: #000080; text-decoration-color: #000080\">INFO    </span> <span style=\"font-weight: bold\">[</span><span style=\"color: #008080; text-decoration-color: #008080; font-weight: bold\">175</span>/<span style=\"color: #008080; text-decoration-color: #008080; font-weight: bold\">308</span><span style=\"font-weight: bold\">]</span> Retrieving game with <span style=\"color: #808000; text-decoration-color: #808000\">id</span>=<span style=\"color: #800080; text-decoration-color: #800080\">4cddc1dd</span>                                <a href=\"file:///home/codespace/.local/lib/python3.12/site-packages/fbrefdata/fbref.py\" target=\"_blank\"><span style=\"color: #7f7f7f; text-decoration-color: #7f7f7f\">fbref.py</span></a><span style=\"color: #7f7f7f; text-decoration-color: #7f7f7f\">:</span><a href=\"file:///home/codespace/.local/lib/python3.12/site-packages/fbrefdata/fbref.py#927\" target=\"_blank\"><span style=\"color: #7f7f7f; text-decoration-color: #7f7f7f\">927</span></a>\n",
       "</pre>\n"
      ],
      "text/plain": [
       "\u001b[2;36m                   \u001b[0m\u001b[2;36m \u001b[0m\u001b[34mINFO    \u001b[0m \u001b[1m[\u001b[0m\u001b[1;36m175\u001b[0m/\u001b[1;36m308\u001b[0m\u001b[1m]\u001b[0m Retrieving game with \u001b[33mid\u001b[0m=\u001b[35m4cddc1dd\u001b[0m                                \u001b]8;id=262013;file:///home/codespace/.local/lib/python3.12/site-packages/fbrefdata/fbref.py\u001b\\\u001b[2mfbref.py\u001b[0m\u001b]8;;\u001b\\\u001b[2m:\u001b[0m\u001b]8;id=140205;file:///home/codespace/.local/lib/python3.12/site-packages/fbrefdata/fbref.py#927\u001b\\\u001b[2m927\u001b[0m\u001b]8;;\u001b\\\n"
      ]
     },
     "metadata": {},
     "output_type": "display_data"
    },
    {
     "data": {
      "text/html": [
       "<pre style=\"white-space:pre;overflow-x:auto;line-height:normal;font-family:Menlo,'DejaVu Sans Mono',consolas,'Courier New',monospace\"><span style=\"color: #7fbfbf; text-decoration-color: #7fbfbf\">                    </span><span style=\"color: #000080; text-decoration-color: #000080\">INFO    </span> <span style=\"font-weight: bold\">[</span><span style=\"color: #008080; text-decoration-color: #008080; font-weight: bold\">176</span>/<span style=\"color: #008080; text-decoration-color: #008080; font-weight: bold\">308</span><span style=\"font-weight: bold\">]</span> Retrieving game with <span style=\"color: #808000; text-decoration-color: #808000\">id</span>=<span style=\"color: #800080; text-decoration-color: #800080\">3f791652</span>                                <a href=\"file:///home/codespace/.local/lib/python3.12/site-packages/fbrefdata/fbref.py\" target=\"_blank\"><span style=\"color: #7f7f7f; text-decoration-color: #7f7f7f\">fbref.py</span></a><span style=\"color: #7f7f7f; text-decoration-color: #7f7f7f\">:</span><a href=\"file:///home/codespace/.local/lib/python3.12/site-packages/fbrefdata/fbref.py#927\" target=\"_blank\"><span style=\"color: #7f7f7f; text-decoration-color: #7f7f7f\">927</span></a>\n",
       "</pre>\n"
      ],
      "text/plain": [
       "\u001b[2;36m                   \u001b[0m\u001b[2;36m \u001b[0m\u001b[34mINFO    \u001b[0m \u001b[1m[\u001b[0m\u001b[1;36m176\u001b[0m/\u001b[1;36m308\u001b[0m\u001b[1m]\u001b[0m Retrieving game with \u001b[33mid\u001b[0m=\u001b[35m3f791652\u001b[0m                                \u001b]8;id=471876;file:///home/codespace/.local/lib/python3.12/site-packages/fbrefdata/fbref.py\u001b\\\u001b[2mfbref.py\u001b[0m\u001b]8;;\u001b\\\u001b[2m:\u001b[0m\u001b]8;id=943488;file:///home/codespace/.local/lib/python3.12/site-packages/fbrefdata/fbref.py#927\u001b\\\u001b[2m927\u001b[0m\u001b]8;;\u001b\\\n"
      ]
     },
     "metadata": {},
     "output_type": "display_data"
    },
    {
     "data": {
      "text/html": [
       "<pre style=\"white-space:pre;overflow-x:auto;line-height:normal;font-family:Menlo,'DejaVu Sans Mono',consolas,'Courier New',monospace\"><span style=\"color: #7fbfbf; text-decoration-color: #7fbfbf\">                    </span><span style=\"color: #000080; text-decoration-color: #000080\">INFO    </span> <span style=\"font-weight: bold\">[</span><span style=\"color: #008080; text-decoration-color: #008080; font-weight: bold\">177</span>/<span style=\"color: #008080; text-decoration-color: #008080; font-weight: bold\">308</span><span style=\"font-weight: bold\">]</span> Retrieving game with <span style=\"color: #808000; text-decoration-color: #808000\">id</span>=<span style=\"color: #800080; text-decoration-color: #800080\">b8745270</span>                                <a href=\"file:///home/codespace/.local/lib/python3.12/site-packages/fbrefdata/fbref.py\" target=\"_blank\"><span style=\"color: #7f7f7f; text-decoration-color: #7f7f7f\">fbref.py</span></a><span style=\"color: #7f7f7f; text-decoration-color: #7f7f7f\">:</span><a href=\"file:///home/codespace/.local/lib/python3.12/site-packages/fbrefdata/fbref.py#927\" target=\"_blank\"><span style=\"color: #7f7f7f; text-decoration-color: #7f7f7f\">927</span></a>\n",
       "</pre>\n"
      ],
      "text/plain": [
       "\u001b[2;36m                   \u001b[0m\u001b[2;36m \u001b[0m\u001b[34mINFO    \u001b[0m \u001b[1m[\u001b[0m\u001b[1;36m177\u001b[0m/\u001b[1;36m308\u001b[0m\u001b[1m]\u001b[0m Retrieving game with \u001b[33mid\u001b[0m=\u001b[35mb8745270\u001b[0m                                \u001b]8;id=625513;file:///home/codespace/.local/lib/python3.12/site-packages/fbrefdata/fbref.py\u001b\\\u001b[2mfbref.py\u001b[0m\u001b]8;;\u001b\\\u001b[2m:\u001b[0m\u001b]8;id=977168;file:///home/codespace/.local/lib/python3.12/site-packages/fbrefdata/fbref.py#927\u001b\\\u001b[2m927\u001b[0m\u001b]8;;\u001b\\\n"
      ]
     },
     "metadata": {},
     "output_type": "display_data"
    },
    {
     "data": {
      "text/html": [
       "<pre style=\"white-space:pre;overflow-x:auto;line-height:normal;font-family:Menlo,'DejaVu Sans Mono',consolas,'Courier New',monospace\"><span style=\"color: #7fbfbf; text-decoration-color: #7fbfbf\">                    </span><span style=\"color: #000080; text-decoration-color: #000080\">INFO    </span> <span style=\"font-weight: bold\">[</span><span style=\"color: #008080; text-decoration-color: #008080; font-weight: bold\">178</span>/<span style=\"color: #008080; text-decoration-color: #008080; font-weight: bold\">308</span><span style=\"font-weight: bold\">]</span> Retrieving game with <span style=\"color: #808000; text-decoration-color: #808000\">id</span>=<span style=\"color: #800080; text-decoration-color: #800080\">97155cb7</span>                                <a href=\"file:///home/codespace/.local/lib/python3.12/site-packages/fbrefdata/fbref.py\" target=\"_blank\"><span style=\"color: #7f7f7f; text-decoration-color: #7f7f7f\">fbref.py</span></a><span style=\"color: #7f7f7f; text-decoration-color: #7f7f7f\">:</span><a href=\"file:///home/codespace/.local/lib/python3.12/site-packages/fbrefdata/fbref.py#927\" target=\"_blank\"><span style=\"color: #7f7f7f; text-decoration-color: #7f7f7f\">927</span></a>\n",
       "</pre>\n"
      ],
      "text/plain": [
       "\u001b[2;36m                   \u001b[0m\u001b[2;36m \u001b[0m\u001b[34mINFO    \u001b[0m \u001b[1m[\u001b[0m\u001b[1;36m178\u001b[0m/\u001b[1;36m308\u001b[0m\u001b[1m]\u001b[0m Retrieving game with \u001b[33mid\u001b[0m=\u001b[35m97155cb7\u001b[0m                                \u001b]8;id=853106;file:///home/codespace/.local/lib/python3.12/site-packages/fbrefdata/fbref.py\u001b\\\u001b[2mfbref.py\u001b[0m\u001b]8;;\u001b\\\u001b[2m:\u001b[0m\u001b]8;id=50224;file:///home/codespace/.local/lib/python3.12/site-packages/fbrefdata/fbref.py#927\u001b\\\u001b[2m927\u001b[0m\u001b]8;;\u001b\\\n"
      ]
     },
     "metadata": {},
     "output_type": "display_data"
    },
    {
     "data": {
      "text/html": [
       "<pre style=\"white-space:pre;overflow-x:auto;line-height:normal;font-family:Menlo,'DejaVu Sans Mono',consolas,'Courier New',monospace\"><span style=\"color: #7fbfbf; text-decoration-color: #7fbfbf\">                    </span><span style=\"color: #000080; text-decoration-color: #000080\">INFO    </span> <span style=\"font-weight: bold\">[</span><span style=\"color: #008080; text-decoration-color: #008080; font-weight: bold\">179</span>/<span style=\"color: #008080; text-decoration-color: #008080; font-weight: bold\">308</span><span style=\"font-weight: bold\">]</span> Retrieving game with <span style=\"color: #808000; text-decoration-color: #808000\">id</span>=<span style=\"color: #800080; text-decoration-color: #800080\">fc60a844</span>                                <a href=\"file:///home/codespace/.local/lib/python3.12/site-packages/fbrefdata/fbref.py\" target=\"_blank\"><span style=\"color: #7f7f7f; text-decoration-color: #7f7f7f\">fbref.py</span></a><span style=\"color: #7f7f7f; text-decoration-color: #7f7f7f\">:</span><a href=\"file:///home/codespace/.local/lib/python3.12/site-packages/fbrefdata/fbref.py#927\" target=\"_blank\"><span style=\"color: #7f7f7f; text-decoration-color: #7f7f7f\">927</span></a>\n",
       "</pre>\n"
      ],
      "text/plain": [
       "\u001b[2;36m                   \u001b[0m\u001b[2;36m \u001b[0m\u001b[34mINFO    \u001b[0m \u001b[1m[\u001b[0m\u001b[1;36m179\u001b[0m/\u001b[1;36m308\u001b[0m\u001b[1m]\u001b[0m Retrieving game with \u001b[33mid\u001b[0m=\u001b[35mfc60a844\u001b[0m                                \u001b]8;id=426454;file:///home/codespace/.local/lib/python3.12/site-packages/fbrefdata/fbref.py\u001b\\\u001b[2mfbref.py\u001b[0m\u001b]8;;\u001b\\\u001b[2m:\u001b[0m\u001b]8;id=548627;file:///home/codespace/.local/lib/python3.12/site-packages/fbrefdata/fbref.py#927\u001b\\\u001b[2m927\u001b[0m\u001b]8;;\u001b\\\n"
      ]
     },
     "metadata": {},
     "output_type": "display_data"
    },
    {
     "data": {
      "text/html": [
       "<pre style=\"white-space:pre;overflow-x:auto;line-height:normal;font-family:Menlo,'DejaVu Sans Mono',consolas,'Courier New',monospace\"><span style=\"color: #7fbfbf; text-decoration-color: #7fbfbf\">                    </span><span style=\"color: #000080; text-decoration-color: #000080\">INFO    </span> <span style=\"font-weight: bold\">[</span><span style=\"color: #008080; text-decoration-color: #008080; font-weight: bold\">180</span>/<span style=\"color: #008080; text-decoration-color: #008080; font-weight: bold\">308</span><span style=\"font-weight: bold\">]</span> Retrieving game with <span style=\"color: #808000; text-decoration-color: #808000\">id</span>=<span style=\"color: #800080; text-decoration-color: #800080\">fc502ee4</span>                                <a href=\"file:///home/codespace/.local/lib/python3.12/site-packages/fbrefdata/fbref.py\" target=\"_blank\"><span style=\"color: #7f7f7f; text-decoration-color: #7f7f7f\">fbref.py</span></a><span style=\"color: #7f7f7f; text-decoration-color: #7f7f7f\">:</span><a href=\"file:///home/codespace/.local/lib/python3.12/site-packages/fbrefdata/fbref.py#927\" target=\"_blank\"><span style=\"color: #7f7f7f; text-decoration-color: #7f7f7f\">927</span></a>\n",
       "</pre>\n"
      ],
      "text/plain": [
       "\u001b[2;36m                   \u001b[0m\u001b[2;36m \u001b[0m\u001b[34mINFO    \u001b[0m \u001b[1m[\u001b[0m\u001b[1;36m180\u001b[0m/\u001b[1;36m308\u001b[0m\u001b[1m]\u001b[0m Retrieving game with \u001b[33mid\u001b[0m=\u001b[35mfc502ee4\u001b[0m                                \u001b]8;id=849569;file:///home/codespace/.local/lib/python3.12/site-packages/fbrefdata/fbref.py\u001b\\\u001b[2mfbref.py\u001b[0m\u001b]8;;\u001b\\\u001b[2m:\u001b[0m\u001b]8;id=691379;file:///home/codespace/.local/lib/python3.12/site-packages/fbrefdata/fbref.py#927\u001b\\\u001b[2m927\u001b[0m\u001b]8;;\u001b\\\n"
      ]
     },
     "metadata": {},
     "output_type": "display_data"
    },
    {
     "data": {
      "text/html": [
       "<pre style=\"white-space:pre;overflow-x:auto;line-height:normal;font-family:Menlo,'DejaVu Sans Mono',consolas,'Courier New',monospace\"><span style=\"color: #7fbfbf; text-decoration-color: #7fbfbf\">                    </span><span style=\"color: #000080; text-decoration-color: #000080\">INFO    </span> <span style=\"font-weight: bold\">[</span><span style=\"color: #008080; text-decoration-color: #008080; font-weight: bold\">181</span>/<span style=\"color: #008080; text-decoration-color: #008080; font-weight: bold\">308</span><span style=\"font-weight: bold\">]</span> Retrieving game with <span style=\"color: #808000; text-decoration-color: #808000\">id</span>=<span style=\"color: #800080; text-decoration-color: #800080\">8017863e</span>                                <a href=\"file:///home/codespace/.local/lib/python3.12/site-packages/fbrefdata/fbref.py\" target=\"_blank\"><span style=\"color: #7f7f7f; text-decoration-color: #7f7f7f\">fbref.py</span></a><span style=\"color: #7f7f7f; text-decoration-color: #7f7f7f\">:</span><a href=\"file:///home/codespace/.local/lib/python3.12/site-packages/fbrefdata/fbref.py#927\" target=\"_blank\"><span style=\"color: #7f7f7f; text-decoration-color: #7f7f7f\">927</span></a>\n",
       "</pre>\n"
      ],
      "text/plain": [
       "\u001b[2;36m                   \u001b[0m\u001b[2;36m \u001b[0m\u001b[34mINFO    \u001b[0m \u001b[1m[\u001b[0m\u001b[1;36m181\u001b[0m/\u001b[1;36m308\u001b[0m\u001b[1m]\u001b[0m Retrieving game with \u001b[33mid\u001b[0m=\u001b[35m8017863e\u001b[0m                                \u001b]8;id=59101;file:///home/codespace/.local/lib/python3.12/site-packages/fbrefdata/fbref.py\u001b\\\u001b[2mfbref.py\u001b[0m\u001b]8;;\u001b\\\u001b[2m:\u001b[0m\u001b]8;id=956868;file:///home/codespace/.local/lib/python3.12/site-packages/fbrefdata/fbref.py#927\u001b\\\u001b[2m927\u001b[0m\u001b]8;;\u001b\\\n"
      ]
     },
     "metadata": {},
     "output_type": "display_data"
    },
    {
     "data": {
      "text/html": [
       "<pre style=\"white-space:pre;overflow-x:auto;line-height:normal;font-family:Menlo,'DejaVu Sans Mono',consolas,'Courier New',monospace\"><span style=\"color: #7fbfbf; text-decoration-color: #7fbfbf\">                    </span><span style=\"color: #000080; text-decoration-color: #000080\">INFO    </span> <span style=\"font-weight: bold\">[</span><span style=\"color: #008080; text-decoration-color: #008080; font-weight: bold\">182</span>/<span style=\"color: #008080; text-decoration-color: #008080; font-weight: bold\">308</span><span style=\"font-weight: bold\">]</span> Retrieving game with <span style=\"color: #808000; text-decoration-color: #808000\">id</span>=<span style=\"color: #800080; text-decoration-color: #800080\">99d32e78</span>                                <a href=\"file:///home/codespace/.local/lib/python3.12/site-packages/fbrefdata/fbref.py\" target=\"_blank\"><span style=\"color: #7f7f7f; text-decoration-color: #7f7f7f\">fbref.py</span></a><span style=\"color: #7f7f7f; text-decoration-color: #7f7f7f\">:</span><a href=\"file:///home/codespace/.local/lib/python3.12/site-packages/fbrefdata/fbref.py#927\" target=\"_blank\"><span style=\"color: #7f7f7f; text-decoration-color: #7f7f7f\">927</span></a>\n",
       "</pre>\n"
      ],
      "text/plain": [
       "\u001b[2;36m                   \u001b[0m\u001b[2;36m \u001b[0m\u001b[34mINFO    \u001b[0m \u001b[1m[\u001b[0m\u001b[1;36m182\u001b[0m/\u001b[1;36m308\u001b[0m\u001b[1m]\u001b[0m Retrieving game with \u001b[33mid\u001b[0m=\u001b[35m99d32e78\u001b[0m                                \u001b]8;id=314680;file:///home/codespace/.local/lib/python3.12/site-packages/fbrefdata/fbref.py\u001b\\\u001b[2mfbref.py\u001b[0m\u001b]8;;\u001b\\\u001b[2m:\u001b[0m\u001b]8;id=929895;file:///home/codespace/.local/lib/python3.12/site-packages/fbrefdata/fbref.py#927\u001b\\\u001b[2m927\u001b[0m\u001b]8;;\u001b\\\n"
      ]
     },
     "metadata": {},
     "output_type": "display_data"
    },
    {
     "data": {
      "text/html": [
       "<pre style=\"white-space:pre;overflow-x:auto;line-height:normal;font-family:Menlo,'DejaVu Sans Mono',consolas,'Courier New',monospace\"><span style=\"color: #7fbfbf; text-decoration-color: #7fbfbf\">                    </span><span style=\"color: #000080; text-decoration-color: #000080\">INFO    </span> <span style=\"font-weight: bold\">[</span><span style=\"color: #008080; text-decoration-color: #008080; font-weight: bold\">183</span>/<span style=\"color: #008080; text-decoration-color: #008080; font-weight: bold\">308</span><span style=\"font-weight: bold\">]</span> Retrieving game with <span style=\"color: #808000; text-decoration-color: #808000\">id</span>=<span style=\"color: #800080; text-decoration-color: #800080\">93f39507</span>                                <a href=\"file:///home/codespace/.local/lib/python3.12/site-packages/fbrefdata/fbref.py\" target=\"_blank\"><span style=\"color: #7f7f7f; text-decoration-color: #7f7f7f\">fbref.py</span></a><span style=\"color: #7f7f7f; text-decoration-color: #7f7f7f\">:</span><a href=\"file:///home/codespace/.local/lib/python3.12/site-packages/fbrefdata/fbref.py#927\" target=\"_blank\"><span style=\"color: #7f7f7f; text-decoration-color: #7f7f7f\">927</span></a>\n",
       "</pre>\n"
      ],
      "text/plain": [
       "\u001b[2;36m                   \u001b[0m\u001b[2;36m \u001b[0m\u001b[34mINFO    \u001b[0m \u001b[1m[\u001b[0m\u001b[1;36m183\u001b[0m/\u001b[1;36m308\u001b[0m\u001b[1m]\u001b[0m Retrieving game with \u001b[33mid\u001b[0m=\u001b[35m93f39507\u001b[0m                                \u001b]8;id=822135;file:///home/codespace/.local/lib/python3.12/site-packages/fbrefdata/fbref.py\u001b\\\u001b[2mfbref.py\u001b[0m\u001b]8;;\u001b\\\u001b[2m:\u001b[0m\u001b]8;id=31010;file:///home/codespace/.local/lib/python3.12/site-packages/fbrefdata/fbref.py#927\u001b\\\u001b[2m927\u001b[0m\u001b]8;;\u001b\\\n"
      ]
     },
     "metadata": {},
     "output_type": "display_data"
    },
    {
     "data": {
      "text/html": [
       "<pre style=\"white-space:pre;overflow-x:auto;line-height:normal;font-family:Menlo,'DejaVu Sans Mono',consolas,'Courier New',monospace\"><span style=\"color: #7fbfbf; text-decoration-color: #7fbfbf\">                    </span><span style=\"color: #000080; text-decoration-color: #000080\">INFO    </span> <span style=\"font-weight: bold\">[</span><span style=\"color: #008080; text-decoration-color: #008080; font-weight: bold\">184</span>/<span style=\"color: #008080; text-decoration-color: #008080; font-weight: bold\">308</span><span style=\"font-weight: bold\">]</span> Retrieving game with <span style=\"color: #808000; text-decoration-color: #808000\">id</span>=<span style=\"color: #800080; text-decoration-color: #800080\">82ffa7e7</span>                                <a href=\"file:///home/codespace/.local/lib/python3.12/site-packages/fbrefdata/fbref.py\" target=\"_blank\"><span style=\"color: #7f7f7f; text-decoration-color: #7f7f7f\">fbref.py</span></a><span style=\"color: #7f7f7f; text-decoration-color: #7f7f7f\">:</span><a href=\"file:///home/codespace/.local/lib/python3.12/site-packages/fbrefdata/fbref.py#927\" target=\"_blank\"><span style=\"color: #7f7f7f; text-decoration-color: #7f7f7f\">927</span></a>\n",
       "</pre>\n"
      ],
      "text/plain": [
       "\u001b[2;36m                   \u001b[0m\u001b[2;36m \u001b[0m\u001b[34mINFO    \u001b[0m \u001b[1m[\u001b[0m\u001b[1;36m184\u001b[0m/\u001b[1;36m308\u001b[0m\u001b[1m]\u001b[0m Retrieving game with \u001b[33mid\u001b[0m=\u001b[35m82ffa7e7\u001b[0m                                \u001b]8;id=254936;file:///home/codespace/.local/lib/python3.12/site-packages/fbrefdata/fbref.py\u001b\\\u001b[2mfbref.py\u001b[0m\u001b]8;;\u001b\\\u001b[2m:\u001b[0m\u001b]8;id=610001;file:///home/codespace/.local/lib/python3.12/site-packages/fbrefdata/fbref.py#927\u001b\\\u001b[2m927\u001b[0m\u001b]8;;\u001b\\\n"
      ]
     },
     "metadata": {},
     "output_type": "display_data"
    },
    {
     "data": {
      "text/html": [
       "<pre style=\"white-space:pre;overflow-x:auto;line-height:normal;font-family:Menlo,'DejaVu Sans Mono',consolas,'Courier New',monospace\"><span style=\"color: #7fbfbf; text-decoration-color: #7fbfbf\">                    </span><span style=\"color: #000080; text-decoration-color: #000080\">INFO    </span> <span style=\"font-weight: bold\">[</span><span style=\"color: #008080; text-decoration-color: #008080; font-weight: bold\">185</span>/<span style=\"color: #008080; text-decoration-color: #008080; font-weight: bold\">308</span><span style=\"font-weight: bold\">]</span> Retrieving game with <span style=\"color: #808000; text-decoration-color: #808000\">id</span>=<span style=\"color: #800080; text-decoration-color: #800080\">1cf652b0</span>                                <a href=\"file:///home/codespace/.local/lib/python3.12/site-packages/fbrefdata/fbref.py\" target=\"_blank\"><span style=\"color: #7f7f7f; text-decoration-color: #7f7f7f\">fbref.py</span></a><span style=\"color: #7f7f7f; text-decoration-color: #7f7f7f\">:</span><a href=\"file:///home/codespace/.local/lib/python3.12/site-packages/fbrefdata/fbref.py#927\" target=\"_blank\"><span style=\"color: #7f7f7f; text-decoration-color: #7f7f7f\">927</span></a>\n",
       "</pre>\n"
      ],
      "text/plain": [
       "\u001b[2;36m                   \u001b[0m\u001b[2;36m \u001b[0m\u001b[34mINFO    \u001b[0m \u001b[1m[\u001b[0m\u001b[1;36m185\u001b[0m/\u001b[1;36m308\u001b[0m\u001b[1m]\u001b[0m Retrieving game with \u001b[33mid\u001b[0m=\u001b[35m1cf652b0\u001b[0m                                \u001b]8;id=112563;file:///home/codespace/.local/lib/python3.12/site-packages/fbrefdata/fbref.py\u001b\\\u001b[2mfbref.py\u001b[0m\u001b]8;;\u001b\\\u001b[2m:\u001b[0m\u001b]8;id=811793;file:///home/codespace/.local/lib/python3.12/site-packages/fbrefdata/fbref.py#927\u001b\\\u001b[2m927\u001b[0m\u001b]8;;\u001b\\\n"
      ]
     },
     "metadata": {},
     "output_type": "display_data"
    },
    {
     "data": {
      "text/html": [
       "<pre style=\"white-space:pre;overflow-x:auto;line-height:normal;font-family:Menlo,'DejaVu Sans Mono',consolas,'Courier New',monospace\"><span style=\"color: #7fbfbf; text-decoration-color: #7fbfbf\">                    </span><span style=\"color: #000080; text-decoration-color: #000080\">INFO    </span> <span style=\"font-weight: bold\">[</span><span style=\"color: #008080; text-decoration-color: #008080; font-weight: bold\">186</span>/<span style=\"color: #008080; text-decoration-color: #008080; font-weight: bold\">308</span><span style=\"font-weight: bold\">]</span> Retrieving game with <span style=\"color: #808000; text-decoration-color: #808000\">id</span>=<span style=\"color: #800080; text-decoration-color: #800080\">9cf10ce4</span>                                <a href=\"file:///home/codespace/.local/lib/python3.12/site-packages/fbrefdata/fbref.py\" target=\"_blank\"><span style=\"color: #7f7f7f; text-decoration-color: #7f7f7f\">fbref.py</span></a><span style=\"color: #7f7f7f; text-decoration-color: #7f7f7f\">:</span><a href=\"file:///home/codespace/.local/lib/python3.12/site-packages/fbrefdata/fbref.py#927\" target=\"_blank\"><span style=\"color: #7f7f7f; text-decoration-color: #7f7f7f\">927</span></a>\n",
       "</pre>\n"
      ],
      "text/plain": [
       "\u001b[2;36m                   \u001b[0m\u001b[2;36m \u001b[0m\u001b[34mINFO    \u001b[0m \u001b[1m[\u001b[0m\u001b[1;36m186\u001b[0m/\u001b[1;36m308\u001b[0m\u001b[1m]\u001b[0m Retrieving game with \u001b[33mid\u001b[0m=\u001b[35m9cf10ce4\u001b[0m                                \u001b]8;id=58265;file:///home/codespace/.local/lib/python3.12/site-packages/fbrefdata/fbref.py\u001b\\\u001b[2mfbref.py\u001b[0m\u001b]8;;\u001b\\\u001b[2m:\u001b[0m\u001b]8;id=739051;file:///home/codespace/.local/lib/python3.12/site-packages/fbrefdata/fbref.py#927\u001b\\\u001b[2m927\u001b[0m\u001b]8;;\u001b\\\n"
      ]
     },
     "metadata": {},
     "output_type": "display_data"
    },
    {
     "data": {
      "text/html": [
       "<pre style=\"white-space:pre;overflow-x:auto;line-height:normal;font-family:Menlo,'DejaVu Sans Mono',consolas,'Courier New',monospace\"><span style=\"color: #7fbfbf; text-decoration-color: #7fbfbf\">                    </span><span style=\"color: #000080; text-decoration-color: #000080\">INFO    </span> <span style=\"font-weight: bold\">[</span><span style=\"color: #008080; text-decoration-color: #008080; font-weight: bold\">187</span>/<span style=\"color: #008080; text-decoration-color: #008080; font-weight: bold\">308</span><span style=\"font-weight: bold\">]</span> Retrieving game with <span style=\"color: #808000; text-decoration-color: #808000\">id</span>=<span style=\"color: #800080; text-decoration-color: #800080\">609f2124</span>                                <a href=\"file:///home/codespace/.local/lib/python3.12/site-packages/fbrefdata/fbref.py\" target=\"_blank\"><span style=\"color: #7f7f7f; text-decoration-color: #7f7f7f\">fbref.py</span></a><span style=\"color: #7f7f7f; text-decoration-color: #7f7f7f\">:</span><a href=\"file:///home/codespace/.local/lib/python3.12/site-packages/fbrefdata/fbref.py#927\" target=\"_blank\"><span style=\"color: #7f7f7f; text-decoration-color: #7f7f7f\">927</span></a>\n",
       "</pre>\n"
      ],
      "text/plain": [
       "\u001b[2;36m                   \u001b[0m\u001b[2;36m \u001b[0m\u001b[34mINFO    \u001b[0m \u001b[1m[\u001b[0m\u001b[1;36m187\u001b[0m/\u001b[1;36m308\u001b[0m\u001b[1m]\u001b[0m Retrieving game with \u001b[33mid\u001b[0m=\u001b[35m609f2124\u001b[0m                                \u001b]8;id=137558;file:///home/codespace/.local/lib/python3.12/site-packages/fbrefdata/fbref.py\u001b\\\u001b[2mfbref.py\u001b[0m\u001b]8;;\u001b\\\u001b[2m:\u001b[0m\u001b]8;id=765584;file:///home/codespace/.local/lib/python3.12/site-packages/fbrefdata/fbref.py#927\u001b\\\u001b[2m927\u001b[0m\u001b]8;;\u001b\\\n"
      ]
     },
     "metadata": {},
     "output_type": "display_data"
    },
    {
     "data": {
      "text/html": [
       "<pre style=\"white-space:pre;overflow-x:auto;line-height:normal;font-family:Menlo,'DejaVu Sans Mono',consolas,'Courier New',monospace\"><span style=\"color: #7fbfbf; text-decoration-color: #7fbfbf\">                    </span><span style=\"color: #000080; text-decoration-color: #000080\">INFO    </span> <span style=\"font-weight: bold\">[</span><span style=\"color: #008080; text-decoration-color: #008080; font-weight: bold\">188</span>/<span style=\"color: #008080; text-decoration-color: #008080; font-weight: bold\">308</span><span style=\"font-weight: bold\">]</span> Retrieving game with <span style=\"color: #808000; text-decoration-color: #808000\">id</span>=<span style=\"color: #800080; text-decoration-color: #800080\">0616847d</span>                                <a href=\"file:///home/codespace/.local/lib/python3.12/site-packages/fbrefdata/fbref.py\" target=\"_blank\"><span style=\"color: #7f7f7f; text-decoration-color: #7f7f7f\">fbref.py</span></a><span style=\"color: #7f7f7f; text-decoration-color: #7f7f7f\">:</span><a href=\"file:///home/codespace/.local/lib/python3.12/site-packages/fbrefdata/fbref.py#927\" target=\"_blank\"><span style=\"color: #7f7f7f; text-decoration-color: #7f7f7f\">927</span></a>\n",
       "</pre>\n"
      ],
      "text/plain": [
       "\u001b[2;36m                   \u001b[0m\u001b[2;36m \u001b[0m\u001b[34mINFO    \u001b[0m \u001b[1m[\u001b[0m\u001b[1;36m188\u001b[0m/\u001b[1;36m308\u001b[0m\u001b[1m]\u001b[0m Retrieving game with \u001b[33mid\u001b[0m=\u001b[35m0616847d\u001b[0m                                \u001b]8;id=26311;file:///home/codespace/.local/lib/python3.12/site-packages/fbrefdata/fbref.py\u001b\\\u001b[2mfbref.py\u001b[0m\u001b]8;;\u001b\\\u001b[2m:\u001b[0m\u001b]8;id=527372;file:///home/codespace/.local/lib/python3.12/site-packages/fbrefdata/fbref.py#927\u001b\\\u001b[2m927\u001b[0m\u001b]8;;\u001b\\\n"
      ]
     },
     "metadata": {},
     "output_type": "display_data"
    },
    {
     "data": {
      "text/html": [
       "<pre style=\"white-space:pre;overflow-x:auto;line-height:normal;font-family:Menlo,'DejaVu Sans Mono',consolas,'Courier New',monospace\"><span style=\"color: #7fbfbf; text-decoration-color: #7fbfbf\">                    </span><span style=\"color: #000080; text-decoration-color: #000080\">INFO    </span> <span style=\"font-weight: bold\">[</span><span style=\"color: #008080; text-decoration-color: #008080; font-weight: bold\">189</span>/<span style=\"color: #008080; text-decoration-color: #008080; font-weight: bold\">308</span><span style=\"font-weight: bold\">]</span> Retrieving game with <span style=\"color: #808000; text-decoration-color: #808000\">id</span>=<span style=\"color: #800080; text-decoration-color: #800080\">b36797c6</span>                                <a href=\"file:///home/codespace/.local/lib/python3.12/site-packages/fbrefdata/fbref.py\" target=\"_blank\"><span style=\"color: #7f7f7f; text-decoration-color: #7f7f7f\">fbref.py</span></a><span style=\"color: #7f7f7f; text-decoration-color: #7f7f7f\">:</span><a href=\"file:///home/codespace/.local/lib/python3.12/site-packages/fbrefdata/fbref.py#927\" target=\"_blank\"><span style=\"color: #7f7f7f; text-decoration-color: #7f7f7f\">927</span></a>\n",
       "</pre>\n"
      ],
      "text/plain": [
       "\u001b[2;36m                   \u001b[0m\u001b[2;36m \u001b[0m\u001b[34mINFO    \u001b[0m \u001b[1m[\u001b[0m\u001b[1;36m189\u001b[0m/\u001b[1;36m308\u001b[0m\u001b[1m]\u001b[0m Retrieving game with \u001b[33mid\u001b[0m=\u001b[35mb36797c6\u001b[0m                                \u001b]8;id=430049;file:///home/codespace/.local/lib/python3.12/site-packages/fbrefdata/fbref.py\u001b\\\u001b[2mfbref.py\u001b[0m\u001b]8;;\u001b\\\u001b[2m:\u001b[0m\u001b]8;id=405368;file:///home/codespace/.local/lib/python3.12/site-packages/fbrefdata/fbref.py#927\u001b\\\u001b[2m927\u001b[0m\u001b]8;;\u001b\\\n"
      ]
     },
     "metadata": {},
     "output_type": "display_data"
    },
    {
     "data": {
      "text/html": [
       "<pre style=\"white-space:pre;overflow-x:auto;line-height:normal;font-family:Menlo,'DejaVu Sans Mono',consolas,'Courier New',monospace\"><span style=\"color: #7fbfbf; text-decoration-color: #7fbfbf\">                    </span><span style=\"color: #000080; text-decoration-color: #000080\">INFO    </span> <span style=\"font-weight: bold\">[</span><span style=\"color: #008080; text-decoration-color: #008080; font-weight: bold\">190</span>/<span style=\"color: #008080; text-decoration-color: #008080; font-weight: bold\">308</span><span style=\"font-weight: bold\">]</span> Retrieving game with <span style=\"color: #808000; text-decoration-color: #808000\">id</span>=<span style=\"color: #800080; text-decoration-color: #800080\">e03551be</span>                                <a href=\"file:///home/codespace/.local/lib/python3.12/site-packages/fbrefdata/fbref.py\" target=\"_blank\"><span style=\"color: #7f7f7f; text-decoration-color: #7f7f7f\">fbref.py</span></a><span style=\"color: #7f7f7f; text-decoration-color: #7f7f7f\">:</span><a href=\"file:///home/codespace/.local/lib/python3.12/site-packages/fbrefdata/fbref.py#927\" target=\"_blank\"><span style=\"color: #7f7f7f; text-decoration-color: #7f7f7f\">927</span></a>\n",
       "</pre>\n"
      ],
      "text/plain": [
       "\u001b[2;36m                   \u001b[0m\u001b[2;36m \u001b[0m\u001b[34mINFO    \u001b[0m \u001b[1m[\u001b[0m\u001b[1;36m190\u001b[0m/\u001b[1;36m308\u001b[0m\u001b[1m]\u001b[0m Retrieving game with \u001b[33mid\u001b[0m=\u001b[35me03551be\u001b[0m                                \u001b]8;id=297479;file:///home/codespace/.local/lib/python3.12/site-packages/fbrefdata/fbref.py\u001b\\\u001b[2mfbref.py\u001b[0m\u001b]8;;\u001b\\\u001b[2m:\u001b[0m\u001b]8;id=69874;file:///home/codespace/.local/lib/python3.12/site-packages/fbrefdata/fbref.py#927\u001b\\\u001b[2m927\u001b[0m\u001b]8;;\u001b\\\n"
      ]
     },
     "metadata": {},
     "output_type": "display_data"
    },
    {
     "data": {
      "text/html": [
       "<pre style=\"white-space:pre;overflow-x:auto;line-height:normal;font-family:Menlo,'DejaVu Sans Mono',consolas,'Courier New',monospace\"><span style=\"color: #7fbfbf; text-decoration-color: #7fbfbf\">                    </span><span style=\"color: #000080; text-decoration-color: #000080\">INFO    </span> <span style=\"font-weight: bold\">[</span><span style=\"color: #008080; text-decoration-color: #008080; font-weight: bold\">191</span>/<span style=\"color: #008080; text-decoration-color: #008080; font-weight: bold\">308</span><span style=\"font-weight: bold\">]</span> Retrieving game with <span style=\"color: #808000; text-decoration-color: #808000\">id</span>=<span style=\"color: #800080; text-decoration-color: #800080\">c9bf7114</span>                                <a href=\"file:///home/codespace/.local/lib/python3.12/site-packages/fbrefdata/fbref.py\" target=\"_blank\"><span style=\"color: #7f7f7f; text-decoration-color: #7f7f7f\">fbref.py</span></a><span style=\"color: #7f7f7f; text-decoration-color: #7f7f7f\">:</span><a href=\"file:///home/codespace/.local/lib/python3.12/site-packages/fbrefdata/fbref.py#927\" target=\"_blank\"><span style=\"color: #7f7f7f; text-decoration-color: #7f7f7f\">927</span></a>\n",
       "</pre>\n"
      ],
      "text/plain": [
       "\u001b[2;36m                   \u001b[0m\u001b[2;36m \u001b[0m\u001b[34mINFO    \u001b[0m \u001b[1m[\u001b[0m\u001b[1;36m191\u001b[0m/\u001b[1;36m308\u001b[0m\u001b[1m]\u001b[0m Retrieving game with \u001b[33mid\u001b[0m=\u001b[35mc9bf7114\u001b[0m                                \u001b]8;id=103163;file:///home/codespace/.local/lib/python3.12/site-packages/fbrefdata/fbref.py\u001b\\\u001b[2mfbref.py\u001b[0m\u001b]8;;\u001b\\\u001b[2m:\u001b[0m\u001b]8;id=156116;file:///home/codespace/.local/lib/python3.12/site-packages/fbrefdata/fbref.py#927\u001b\\\u001b[2m927\u001b[0m\u001b]8;;\u001b\\\n"
      ]
     },
     "metadata": {},
     "output_type": "display_data"
    },
    {
     "data": {
      "text/html": [
       "<pre style=\"white-space:pre;overflow-x:auto;line-height:normal;font-family:Menlo,'DejaVu Sans Mono',consolas,'Courier New',monospace\"><span style=\"color: #7fbfbf; text-decoration-color: #7fbfbf\">                    </span><span style=\"color: #000080; text-decoration-color: #000080\">INFO    </span> <span style=\"font-weight: bold\">[</span><span style=\"color: #008080; text-decoration-color: #008080; font-weight: bold\">192</span>/<span style=\"color: #008080; text-decoration-color: #008080; font-weight: bold\">308</span><span style=\"font-weight: bold\">]</span> Retrieving game with <span style=\"color: #808000; text-decoration-color: #808000\">id</span>=<span style=\"color: #800080; text-decoration-color: #800080\">662c940b</span>                                <a href=\"file:///home/codespace/.local/lib/python3.12/site-packages/fbrefdata/fbref.py\" target=\"_blank\"><span style=\"color: #7f7f7f; text-decoration-color: #7f7f7f\">fbref.py</span></a><span style=\"color: #7f7f7f; text-decoration-color: #7f7f7f\">:</span><a href=\"file:///home/codespace/.local/lib/python3.12/site-packages/fbrefdata/fbref.py#927\" target=\"_blank\"><span style=\"color: #7f7f7f; text-decoration-color: #7f7f7f\">927</span></a>\n",
       "</pre>\n"
      ],
      "text/plain": [
       "\u001b[2;36m                   \u001b[0m\u001b[2;36m \u001b[0m\u001b[34mINFO    \u001b[0m \u001b[1m[\u001b[0m\u001b[1;36m192\u001b[0m/\u001b[1;36m308\u001b[0m\u001b[1m]\u001b[0m Retrieving game with \u001b[33mid\u001b[0m=\u001b[35m662c940b\u001b[0m                                \u001b]8;id=972741;file:///home/codespace/.local/lib/python3.12/site-packages/fbrefdata/fbref.py\u001b\\\u001b[2mfbref.py\u001b[0m\u001b]8;;\u001b\\\u001b[2m:\u001b[0m\u001b]8;id=336796;file:///home/codespace/.local/lib/python3.12/site-packages/fbrefdata/fbref.py#927\u001b\\\u001b[2m927\u001b[0m\u001b]8;;\u001b\\\n"
      ]
     },
     "metadata": {},
     "output_type": "display_data"
    },
    {
     "data": {
      "text/html": [
       "<pre style=\"white-space:pre;overflow-x:auto;line-height:normal;font-family:Menlo,'DejaVu Sans Mono',consolas,'Courier New',monospace\"><span style=\"color: #7fbfbf; text-decoration-color: #7fbfbf\">                    </span><span style=\"color: #000080; text-decoration-color: #000080\">INFO    </span> <span style=\"font-weight: bold\">[</span><span style=\"color: #008080; text-decoration-color: #008080; font-weight: bold\">193</span>/<span style=\"color: #008080; text-decoration-color: #008080; font-weight: bold\">308</span><span style=\"font-weight: bold\">]</span> Retrieving game with <span style=\"color: #808000; text-decoration-color: #808000\">id</span>=<span style=\"color: #800080; text-decoration-color: #800080\">86b75771</span>                                <a href=\"file:///home/codespace/.local/lib/python3.12/site-packages/fbrefdata/fbref.py\" target=\"_blank\"><span style=\"color: #7f7f7f; text-decoration-color: #7f7f7f\">fbref.py</span></a><span style=\"color: #7f7f7f; text-decoration-color: #7f7f7f\">:</span><a href=\"file:///home/codespace/.local/lib/python3.12/site-packages/fbrefdata/fbref.py#927\" target=\"_blank\"><span style=\"color: #7f7f7f; text-decoration-color: #7f7f7f\">927</span></a>\n",
       "</pre>\n"
      ],
      "text/plain": [
       "\u001b[2;36m                   \u001b[0m\u001b[2;36m \u001b[0m\u001b[34mINFO    \u001b[0m \u001b[1m[\u001b[0m\u001b[1;36m193\u001b[0m/\u001b[1;36m308\u001b[0m\u001b[1m]\u001b[0m Retrieving game with \u001b[33mid\u001b[0m=\u001b[35m86b75771\u001b[0m                                \u001b]8;id=846508;file:///home/codespace/.local/lib/python3.12/site-packages/fbrefdata/fbref.py\u001b\\\u001b[2mfbref.py\u001b[0m\u001b]8;;\u001b\\\u001b[2m:\u001b[0m\u001b]8;id=277340;file:///home/codespace/.local/lib/python3.12/site-packages/fbrefdata/fbref.py#927\u001b\\\u001b[2m927\u001b[0m\u001b]8;;\u001b\\\n"
      ]
     },
     "metadata": {},
     "output_type": "display_data"
    },
    {
     "data": {
      "text/html": [
       "<pre style=\"white-space:pre;overflow-x:auto;line-height:normal;font-family:Menlo,'DejaVu Sans Mono',consolas,'Courier New',monospace\"><span style=\"color: #7fbfbf; text-decoration-color: #7fbfbf\">                    </span><span style=\"color: #000080; text-decoration-color: #000080\">INFO    </span> <span style=\"font-weight: bold\">[</span><span style=\"color: #008080; text-decoration-color: #008080; font-weight: bold\">194</span>/<span style=\"color: #008080; text-decoration-color: #008080; font-weight: bold\">308</span><span style=\"font-weight: bold\">]</span> Retrieving game with <span style=\"color: #808000; text-decoration-color: #808000\">id</span>=<span style=\"color: #800080; text-decoration-color: #800080\">76ff1386</span>                                <a href=\"file:///home/codespace/.local/lib/python3.12/site-packages/fbrefdata/fbref.py\" target=\"_blank\"><span style=\"color: #7f7f7f; text-decoration-color: #7f7f7f\">fbref.py</span></a><span style=\"color: #7f7f7f; text-decoration-color: #7f7f7f\">:</span><a href=\"file:///home/codespace/.local/lib/python3.12/site-packages/fbrefdata/fbref.py#927\" target=\"_blank\"><span style=\"color: #7f7f7f; text-decoration-color: #7f7f7f\">927</span></a>\n",
       "</pre>\n"
      ],
      "text/plain": [
       "\u001b[2;36m                   \u001b[0m\u001b[2;36m \u001b[0m\u001b[34mINFO    \u001b[0m \u001b[1m[\u001b[0m\u001b[1;36m194\u001b[0m/\u001b[1;36m308\u001b[0m\u001b[1m]\u001b[0m Retrieving game with \u001b[33mid\u001b[0m=\u001b[35m76ff1386\u001b[0m                                \u001b]8;id=711922;file:///home/codespace/.local/lib/python3.12/site-packages/fbrefdata/fbref.py\u001b\\\u001b[2mfbref.py\u001b[0m\u001b]8;;\u001b\\\u001b[2m:\u001b[0m\u001b]8;id=624041;file:///home/codespace/.local/lib/python3.12/site-packages/fbrefdata/fbref.py#927\u001b\\\u001b[2m927\u001b[0m\u001b]8;;\u001b\\\n"
      ]
     },
     "metadata": {},
     "output_type": "display_data"
    },
    {
     "data": {
      "text/html": [
       "<pre style=\"white-space:pre;overflow-x:auto;line-height:normal;font-family:Menlo,'DejaVu Sans Mono',consolas,'Courier New',monospace\"><span style=\"color: #7fbfbf; text-decoration-color: #7fbfbf\">                    </span><span style=\"color: #000080; text-decoration-color: #000080\">INFO    </span> <span style=\"font-weight: bold\">[</span><span style=\"color: #008080; text-decoration-color: #008080; font-weight: bold\">195</span>/<span style=\"color: #008080; text-decoration-color: #008080; font-weight: bold\">308</span><span style=\"font-weight: bold\">]</span> Retrieving game with <span style=\"color: #808000; text-decoration-color: #808000\">id</span>=<span style=\"color: #800080; text-decoration-color: #800080\">2f2af4c0</span>                                <a href=\"file:///home/codespace/.local/lib/python3.12/site-packages/fbrefdata/fbref.py\" target=\"_blank\"><span style=\"color: #7f7f7f; text-decoration-color: #7f7f7f\">fbref.py</span></a><span style=\"color: #7f7f7f; text-decoration-color: #7f7f7f\">:</span><a href=\"file:///home/codespace/.local/lib/python3.12/site-packages/fbrefdata/fbref.py#927\" target=\"_blank\"><span style=\"color: #7f7f7f; text-decoration-color: #7f7f7f\">927</span></a>\n",
       "</pre>\n"
      ],
      "text/plain": [
       "\u001b[2;36m                   \u001b[0m\u001b[2;36m \u001b[0m\u001b[34mINFO    \u001b[0m \u001b[1m[\u001b[0m\u001b[1;36m195\u001b[0m/\u001b[1;36m308\u001b[0m\u001b[1m]\u001b[0m Retrieving game with \u001b[33mid\u001b[0m=\u001b[35m2f2af4c0\u001b[0m                                \u001b]8;id=447204;file:///home/codespace/.local/lib/python3.12/site-packages/fbrefdata/fbref.py\u001b\\\u001b[2mfbref.py\u001b[0m\u001b]8;;\u001b\\\u001b[2m:\u001b[0m\u001b]8;id=940697;file:///home/codespace/.local/lib/python3.12/site-packages/fbrefdata/fbref.py#927\u001b\\\u001b[2m927\u001b[0m\u001b]8;;\u001b\\\n"
      ]
     },
     "metadata": {},
     "output_type": "display_data"
    },
    {
     "data": {
      "text/html": [
       "<pre style=\"white-space:pre;overflow-x:auto;line-height:normal;font-family:Menlo,'DejaVu Sans Mono',consolas,'Courier New',monospace\"><span style=\"color: #7fbfbf; text-decoration-color: #7fbfbf\">                    </span><span style=\"color: #000080; text-decoration-color: #000080\">INFO    </span> <span style=\"font-weight: bold\">[</span><span style=\"color: #008080; text-decoration-color: #008080; font-weight: bold\">196</span>/<span style=\"color: #008080; text-decoration-color: #008080; font-weight: bold\">308</span><span style=\"font-weight: bold\">]</span> Retrieving game with <span style=\"color: #808000; text-decoration-color: #808000\">id</span>=<span style=\"color: #800080; text-decoration-color: #800080\">45048c9c</span>                                <a href=\"file:///home/codespace/.local/lib/python3.12/site-packages/fbrefdata/fbref.py\" target=\"_blank\"><span style=\"color: #7f7f7f; text-decoration-color: #7f7f7f\">fbref.py</span></a><span style=\"color: #7f7f7f; text-decoration-color: #7f7f7f\">:</span><a href=\"file:///home/codespace/.local/lib/python3.12/site-packages/fbrefdata/fbref.py#927\" target=\"_blank\"><span style=\"color: #7f7f7f; text-decoration-color: #7f7f7f\">927</span></a>\n",
       "</pre>\n"
      ],
      "text/plain": [
       "\u001b[2;36m                   \u001b[0m\u001b[2;36m \u001b[0m\u001b[34mINFO    \u001b[0m \u001b[1m[\u001b[0m\u001b[1;36m196\u001b[0m/\u001b[1;36m308\u001b[0m\u001b[1m]\u001b[0m Retrieving game with \u001b[33mid\u001b[0m=\u001b[35m45048c9c\u001b[0m                                \u001b]8;id=882386;file:///home/codespace/.local/lib/python3.12/site-packages/fbrefdata/fbref.py\u001b\\\u001b[2mfbref.py\u001b[0m\u001b]8;;\u001b\\\u001b[2m:\u001b[0m\u001b]8;id=964793;file:///home/codespace/.local/lib/python3.12/site-packages/fbrefdata/fbref.py#927\u001b\\\u001b[2m927\u001b[0m\u001b]8;;\u001b\\\n"
      ]
     },
     "metadata": {},
     "output_type": "display_data"
    },
    {
     "data": {
      "text/html": [
       "<pre style=\"white-space:pre;overflow-x:auto;line-height:normal;font-family:Menlo,'DejaVu Sans Mono',consolas,'Courier New',monospace\"><span style=\"color: #7fbfbf; text-decoration-color: #7fbfbf\">                    </span><span style=\"color: #000080; text-decoration-color: #000080\">INFO    </span> <span style=\"font-weight: bold\">[</span><span style=\"color: #008080; text-decoration-color: #008080; font-weight: bold\">197</span>/<span style=\"color: #008080; text-decoration-color: #008080; font-weight: bold\">308</span><span style=\"font-weight: bold\">]</span> Retrieving game with <span style=\"color: #808000; text-decoration-color: #808000\">id</span>=<span style=\"color: #800080; text-decoration-color: #800080\">3bfb8618</span>                                <a href=\"file:///home/codespace/.local/lib/python3.12/site-packages/fbrefdata/fbref.py\" target=\"_blank\"><span style=\"color: #7f7f7f; text-decoration-color: #7f7f7f\">fbref.py</span></a><span style=\"color: #7f7f7f; text-decoration-color: #7f7f7f\">:</span><a href=\"file:///home/codespace/.local/lib/python3.12/site-packages/fbrefdata/fbref.py#927\" target=\"_blank\"><span style=\"color: #7f7f7f; text-decoration-color: #7f7f7f\">927</span></a>\n",
       "</pre>\n"
      ],
      "text/plain": [
       "\u001b[2;36m                   \u001b[0m\u001b[2;36m \u001b[0m\u001b[34mINFO    \u001b[0m \u001b[1m[\u001b[0m\u001b[1;36m197\u001b[0m/\u001b[1;36m308\u001b[0m\u001b[1m]\u001b[0m Retrieving game with \u001b[33mid\u001b[0m=\u001b[35m3bfb8618\u001b[0m                                \u001b]8;id=344924;file:///home/codespace/.local/lib/python3.12/site-packages/fbrefdata/fbref.py\u001b\\\u001b[2mfbref.py\u001b[0m\u001b]8;;\u001b\\\u001b[2m:\u001b[0m\u001b]8;id=776379;file:///home/codespace/.local/lib/python3.12/site-packages/fbrefdata/fbref.py#927\u001b\\\u001b[2m927\u001b[0m\u001b]8;;\u001b\\\n"
      ]
     },
     "metadata": {},
     "output_type": "display_data"
    },
    {
     "data": {
      "text/html": [
       "<pre style=\"white-space:pre;overflow-x:auto;line-height:normal;font-family:Menlo,'DejaVu Sans Mono',consolas,'Courier New',monospace\"><span style=\"color: #7fbfbf; text-decoration-color: #7fbfbf\">                    </span><span style=\"color: #000080; text-decoration-color: #000080\">INFO    </span> <span style=\"font-weight: bold\">[</span><span style=\"color: #008080; text-decoration-color: #008080; font-weight: bold\">198</span>/<span style=\"color: #008080; text-decoration-color: #008080; font-weight: bold\">308</span><span style=\"font-weight: bold\">]</span> Retrieving game with <span style=\"color: #808000; text-decoration-color: #808000\">id</span>=<span style=\"color: #800080; text-decoration-color: #800080\">c6b1e173</span>                                <a href=\"file:///home/codespace/.local/lib/python3.12/site-packages/fbrefdata/fbref.py\" target=\"_blank\"><span style=\"color: #7f7f7f; text-decoration-color: #7f7f7f\">fbref.py</span></a><span style=\"color: #7f7f7f; text-decoration-color: #7f7f7f\">:</span><a href=\"file:///home/codespace/.local/lib/python3.12/site-packages/fbrefdata/fbref.py#927\" target=\"_blank\"><span style=\"color: #7f7f7f; text-decoration-color: #7f7f7f\">927</span></a>\n",
       "</pre>\n"
      ],
      "text/plain": [
       "\u001b[2;36m                   \u001b[0m\u001b[2;36m \u001b[0m\u001b[34mINFO    \u001b[0m \u001b[1m[\u001b[0m\u001b[1;36m198\u001b[0m/\u001b[1;36m308\u001b[0m\u001b[1m]\u001b[0m Retrieving game with \u001b[33mid\u001b[0m=\u001b[35mc6b1e173\u001b[0m                                \u001b]8;id=309099;file:///home/codespace/.local/lib/python3.12/site-packages/fbrefdata/fbref.py\u001b\\\u001b[2mfbref.py\u001b[0m\u001b]8;;\u001b\\\u001b[2m:\u001b[0m\u001b]8;id=981638;file:///home/codespace/.local/lib/python3.12/site-packages/fbrefdata/fbref.py#927\u001b\\\u001b[2m927\u001b[0m\u001b]8;;\u001b\\\n"
      ]
     },
     "metadata": {},
     "output_type": "display_data"
    },
    {
     "data": {
      "text/html": [
       "<pre style=\"white-space:pre;overflow-x:auto;line-height:normal;font-family:Menlo,'DejaVu Sans Mono',consolas,'Courier New',monospace\"><span style=\"color: #7fbfbf; text-decoration-color: #7fbfbf\">                    </span><span style=\"color: #000080; text-decoration-color: #000080\">INFO    </span> <span style=\"font-weight: bold\">[</span><span style=\"color: #008080; text-decoration-color: #008080; font-weight: bold\">199</span>/<span style=\"color: #008080; text-decoration-color: #008080; font-weight: bold\">308</span><span style=\"font-weight: bold\">]</span> Retrieving game with <span style=\"color: #808000; text-decoration-color: #808000\">id</span>=<span style=\"color: #800080; text-decoration-color: #800080\">09e10bc8</span>                                <a href=\"file:///home/codespace/.local/lib/python3.12/site-packages/fbrefdata/fbref.py\" target=\"_blank\"><span style=\"color: #7f7f7f; text-decoration-color: #7f7f7f\">fbref.py</span></a><span style=\"color: #7f7f7f; text-decoration-color: #7f7f7f\">:</span><a href=\"file:///home/codespace/.local/lib/python3.12/site-packages/fbrefdata/fbref.py#927\" target=\"_blank\"><span style=\"color: #7f7f7f; text-decoration-color: #7f7f7f\">927</span></a>\n",
       "</pre>\n"
      ],
      "text/plain": [
       "\u001b[2;36m                   \u001b[0m\u001b[2;36m \u001b[0m\u001b[34mINFO    \u001b[0m \u001b[1m[\u001b[0m\u001b[1;36m199\u001b[0m/\u001b[1;36m308\u001b[0m\u001b[1m]\u001b[0m Retrieving game with \u001b[33mid\u001b[0m=\u001b[35m09e10bc8\u001b[0m                                \u001b]8;id=395774;file:///home/codespace/.local/lib/python3.12/site-packages/fbrefdata/fbref.py\u001b\\\u001b[2mfbref.py\u001b[0m\u001b]8;;\u001b\\\u001b[2m:\u001b[0m\u001b]8;id=778805;file:///home/codespace/.local/lib/python3.12/site-packages/fbrefdata/fbref.py#927\u001b\\\u001b[2m927\u001b[0m\u001b]8;;\u001b\\\n"
      ]
     },
     "metadata": {},
     "output_type": "display_data"
    },
    {
     "data": {
      "text/html": [
       "<pre style=\"white-space:pre;overflow-x:auto;line-height:normal;font-family:Menlo,'DejaVu Sans Mono',consolas,'Courier New',monospace\"><span style=\"color: #7fbfbf; text-decoration-color: #7fbfbf\">                    </span><span style=\"color: #000080; text-decoration-color: #000080\">INFO    </span> <span style=\"font-weight: bold\">[</span><span style=\"color: #008080; text-decoration-color: #008080; font-weight: bold\">200</span>/<span style=\"color: #008080; text-decoration-color: #008080; font-weight: bold\">308</span><span style=\"font-weight: bold\">]</span> Retrieving game with <span style=\"color: #808000; text-decoration-color: #808000\">id</span>=<span style=\"color: #800080; text-decoration-color: #800080\">4e58c036</span>                                <a href=\"file:///home/codespace/.local/lib/python3.12/site-packages/fbrefdata/fbref.py\" target=\"_blank\"><span style=\"color: #7f7f7f; text-decoration-color: #7f7f7f\">fbref.py</span></a><span style=\"color: #7f7f7f; text-decoration-color: #7f7f7f\">:</span><a href=\"file:///home/codespace/.local/lib/python3.12/site-packages/fbrefdata/fbref.py#927\" target=\"_blank\"><span style=\"color: #7f7f7f; text-decoration-color: #7f7f7f\">927</span></a>\n",
       "</pre>\n"
      ],
      "text/plain": [
       "\u001b[2;36m                   \u001b[0m\u001b[2;36m \u001b[0m\u001b[34mINFO    \u001b[0m \u001b[1m[\u001b[0m\u001b[1;36m200\u001b[0m/\u001b[1;36m308\u001b[0m\u001b[1m]\u001b[0m Retrieving game with \u001b[33mid\u001b[0m=\u001b[35m4e58c036\u001b[0m                                \u001b]8;id=383707;file:///home/codespace/.local/lib/python3.12/site-packages/fbrefdata/fbref.py\u001b\\\u001b[2mfbref.py\u001b[0m\u001b]8;;\u001b\\\u001b[2m:\u001b[0m\u001b]8;id=703680;file:///home/codespace/.local/lib/python3.12/site-packages/fbrefdata/fbref.py#927\u001b\\\u001b[2m927\u001b[0m\u001b]8;;\u001b\\\n"
      ]
     },
     "metadata": {},
     "output_type": "display_data"
    },
    {
     "data": {
      "text/html": [
       "<pre style=\"white-space:pre;overflow-x:auto;line-height:normal;font-family:Menlo,'DejaVu Sans Mono',consolas,'Courier New',monospace\"><span style=\"color: #7fbfbf; text-decoration-color: #7fbfbf\">                    </span><span style=\"color: #000080; text-decoration-color: #000080\">INFO    </span> <span style=\"font-weight: bold\">[</span><span style=\"color: #008080; text-decoration-color: #008080; font-weight: bold\">201</span>/<span style=\"color: #008080; text-decoration-color: #008080; font-weight: bold\">308</span><span style=\"font-weight: bold\">]</span> Retrieving game with <span style=\"color: #808000; text-decoration-color: #808000\">id</span>=<span style=\"color: #800080; text-decoration-color: #800080\">d59c8780</span>                                <a href=\"file:///home/codespace/.local/lib/python3.12/site-packages/fbrefdata/fbref.py\" target=\"_blank\"><span style=\"color: #7f7f7f; text-decoration-color: #7f7f7f\">fbref.py</span></a><span style=\"color: #7f7f7f; text-decoration-color: #7f7f7f\">:</span><a href=\"file:///home/codespace/.local/lib/python3.12/site-packages/fbrefdata/fbref.py#927\" target=\"_blank\"><span style=\"color: #7f7f7f; text-decoration-color: #7f7f7f\">927</span></a>\n",
       "</pre>\n"
      ],
      "text/plain": [
       "\u001b[2;36m                   \u001b[0m\u001b[2;36m \u001b[0m\u001b[34mINFO    \u001b[0m \u001b[1m[\u001b[0m\u001b[1;36m201\u001b[0m/\u001b[1;36m308\u001b[0m\u001b[1m]\u001b[0m Retrieving game with \u001b[33mid\u001b[0m=\u001b[35md59c8780\u001b[0m                                \u001b]8;id=280472;file:///home/codespace/.local/lib/python3.12/site-packages/fbrefdata/fbref.py\u001b\\\u001b[2mfbref.py\u001b[0m\u001b]8;;\u001b\\\u001b[2m:\u001b[0m\u001b]8;id=503472;file:///home/codespace/.local/lib/python3.12/site-packages/fbrefdata/fbref.py#927\u001b\\\u001b[2m927\u001b[0m\u001b]8;;\u001b\\\n"
      ]
     },
     "metadata": {},
     "output_type": "display_data"
    },
    {
     "data": {
      "text/html": [
       "<pre style=\"white-space:pre;overflow-x:auto;line-height:normal;font-family:Menlo,'DejaVu Sans Mono',consolas,'Courier New',monospace\"><span style=\"color: #7fbfbf; text-decoration-color: #7fbfbf\">[08/30/24 02:42:43] </span><span style=\"color: #000080; text-decoration-color: #000080\">INFO    </span> <span style=\"font-weight: bold\">[</span><span style=\"color: #008080; text-decoration-color: #008080; font-weight: bold\">202</span>/<span style=\"color: #008080; text-decoration-color: #008080; font-weight: bold\">308</span><span style=\"font-weight: bold\">]</span> Retrieving game with <span style=\"color: #808000; text-decoration-color: #808000\">id</span>=<span style=\"color: #800080; text-decoration-color: #800080\">3c1ba3f2</span>                                <a href=\"file:///home/codespace/.local/lib/python3.12/site-packages/fbrefdata/fbref.py\" target=\"_blank\"><span style=\"color: #7f7f7f; text-decoration-color: #7f7f7f\">fbref.py</span></a><span style=\"color: #7f7f7f; text-decoration-color: #7f7f7f\">:</span><a href=\"file:///home/codespace/.local/lib/python3.12/site-packages/fbrefdata/fbref.py#927\" target=\"_blank\"><span style=\"color: #7f7f7f; text-decoration-color: #7f7f7f\">927</span></a>\n",
       "</pre>\n"
      ],
      "text/plain": [
       "\u001b[2;36m[08/30/24 02:42:43]\u001b[0m\u001b[2;36m \u001b[0m\u001b[34mINFO    \u001b[0m \u001b[1m[\u001b[0m\u001b[1;36m202\u001b[0m/\u001b[1;36m308\u001b[0m\u001b[1m]\u001b[0m Retrieving game with \u001b[33mid\u001b[0m=\u001b[35m3c1ba3f2\u001b[0m                                \u001b]8;id=283220;file:///home/codespace/.local/lib/python3.12/site-packages/fbrefdata/fbref.py\u001b\\\u001b[2mfbref.py\u001b[0m\u001b]8;;\u001b\\\u001b[2m:\u001b[0m\u001b]8;id=80503;file:///home/codespace/.local/lib/python3.12/site-packages/fbrefdata/fbref.py#927\u001b\\\u001b[2m927\u001b[0m\u001b]8;;\u001b\\\n"
      ]
     },
     "metadata": {},
     "output_type": "display_data"
    },
    {
     "data": {
      "text/html": [
       "<pre style=\"white-space:pre;overflow-x:auto;line-height:normal;font-family:Menlo,'DejaVu Sans Mono',consolas,'Courier New',monospace\"><span style=\"color: #7fbfbf; text-decoration-color: #7fbfbf\">                    </span><span style=\"color: #000080; text-decoration-color: #000080\">INFO    </span> <span style=\"font-weight: bold\">[</span><span style=\"color: #008080; text-decoration-color: #008080; font-weight: bold\">203</span>/<span style=\"color: #008080; text-decoration-color: #008080; font-weight: bold\">308</span><span style=\"font-weight: bold\">]</span> Retrieving game with <span style=\"color: #808000; text-decoration-color: #808000\">id</span>=<span style=\"color: #800080; text-decoration-color: #800080\">caa8cb79</span>                                <a href=\"file:///home/codespace/.local/lib/python3.12/site-packages/fbrefdata/fbref.py\" target=\"_blank\"><span style=\"color: #7f7f7f; text-decoration-color: #7f7f7f\">fbref.py</span></a><span style=\"color: #7f7f7f; text-decoration-color: #7f7f7f\">:</span><a href=\"file:///home/codespace/.local/lib/python3.12/site-packages/fbrefdata/fbref.py#927\" target=\"_blank\"><span style=\"color: #7f7f7f; text-decoration-color: #7f7f7f\">927</span></a>\n",
       "</pre>\n"
      ],
      "text/plain": [
       "\u001b[2;36m                   \u001b[0m\u001b[2;36m \u001b[0m\u001b[34mINFO    \u001b[0m \u001b[1m[\u001b[0m\u001b[1;36m203\u001b[0m/\u001b[1;36m308\u001b[0m\u001b[1m]\u001b[0m Retrieving game with \u001b[33mid\u001b[0m=\u001b[35mcaa8cb79\u001b[0m                                \u001b]8;id=628324;file:///home/codespace/.local/lib/python3.12/site-packages/fbrefdata/fbref.py\u001b\\\u001b[2mfbref.py\u001b[0m\u001b]8;;\u001b\\\u001b[2m:\u001b[0m\u001b]8;id=897136;file:///home/codespace/.local/lib/python3.12/site-packages/fbrefdata/fbref.py#927\u001b\\\u001b[2m927\u001b[0m\u001b]8;;\u001b\\\n"
      ]
     },
     "metadata": {},
     "output_type": "display_data"
    },
    {
     "data": {
      "text/html": [
       "<pre style=\"white-space:pre;overflow-x:auto;line-height:normal;font-family:Menlo,'DejaVu Sans Mono',consolas,'Courier New',monospace\"><span style=\"color: #7fbfbf; text-decoration-color: #7fbfbf\">                    </span><span style=\"color: #000080; text-decoration-color: #000080\">INFO    </span> <span style=\"font-weight: bold\">[</span><span style=\"color: #008080; text-decoration-color: #008080; font-weight: bold\">204</span>/<span style=\"color: #008080; text-decoration-color: #008080; font-weight: bold\">308</span><span style=\"font-weight: bold\">]</span> Retrieving game with <span style=\"color: #808000; text-decoration-color: #808000\">id</span>=<span style=\"color: #800080; text-decoration-color: #800080\">66ffc9f2</span>                                <a href=\"file:///home/codespace/.local/lib/python3.12/site-packages/fbrefdata/fbref.py\" target=\"_blank\"><span style=\"color: #7f7f7f; text-decoration-color: #7f7f7f\">fbref.py</span></a><span style=\"color: #7f7f7f; text-decoration-color: #7f7f7f\">:</span><a href=\"file:///home/codespace/.local/lib/python3.12/site-packages/fbrefdata/fbref.py#927\" target=\"_blank\"><span style=\"color: #7f7f7f; text-decoration-color: #7f7f7f\">927</span></a>\n",
       "</pre>\n"
      ],
      "text/plain": [
       "\u001b[2;36m                   \u001b[0m\u001b[2;36m \u001b[0m\u001b[34mINFO    \u001b[0m \u001b[1m[\u001b[0m\u001b[1;36m204\u001b[0m/\u001b[1;36m308\u001b[0m\u001b[1m]\u001b[0m Retrieving game with \u001b[33mid\u001b[0m=\u001b[35m66ffc9f2\u001b[0m                                \u001b]8;id=225208;file:///home/codespace/.local/lib/python3.12/site-packages/fbrefdata/fbref.py\u001b\\\u001b[2mfbref.py\u001b[0m\u001b]8;;\u001b\\\u001b[2m:\u001b[0m\u001b]8;id=611497;file:///home/codespace/.local/lib/python3.12/site-packages/fbrefdata/fbref.py#927\u001b\\\u001b[2m927\u001b[0m\u001b]8;;\u001b\\\n"
      ]
     },
     "metadata": {},
     "output_type": "display_data"
    },
    {
     "data": {
      "text/html": [
       "<pre style=\"white-space:pre;overflow-x:auto;line-height:normal;font-family:Menlo,'DejaVu Sans Mono',consolas,'Courier New',monospace\"><span style=\"color: #7fbfbf; text-decoration-color: #7fbfbf\">                    </span><span style=\"color: #000080; text-decoration-color: #000080\">INFO    </span> <span style=\"font-weight: bold\">[</span><span style=\"color: #008080; text-decoration-color: #008080; font-weight: bold\">205</span>/<span style=\"color: #008080; text-decoration-color: #008080; font-weight: bold\">308</span><span style=\"font-weight: bold\">]</span> Retrieving game with <span style=\"color: #808000; text-decoration-color: #808000\">id</span>=<span style=\"color: #800080; text-decoration-color: #800080\">0c8bc96f</span>                                <a href=\"file:///home/codespace/.local/lib/python3.12/site-packages/fbrefdata/fbref.py\" target=\"_blank\"><span style=\"color: #7f7f7f; text-decoration-color: #7f7f7f\">fbref.py</span></a><span style=\"color: #7f7f7f; text-decoration-color: #7f7f7f\">:</span><a href=\"file:///home/codespace/.local/lib/python3.12/site-packages/fbrefdata/fbref.py#927\" target=\"_blank\"><span style=\"color: #7f7f7f; text-decoration-color: #7f7f7f\">927</span></a>\n",
       "</pre>\n"
      ],
      "text/plain": [
       "\u001b[2;36m                   \u001b[0m\u001b[2;36m \u001b[0m\u001b[34mINFO    \u001b[0m \u001b[1m[\u001b[0m\u001b[1;36m205\u001b[0m/\u001b[1;36m308\u001b[0m\u001b[1m]\u001b[0m Retrieving game with \u001b[33mid\u001b[0m=\u001b[35m0c8bc96f\u001b[0m                                \u001b]8;id=437176;file:///home/codespace/.local/lib/python3.12/site-packages/fbrefdata/fbref.py\u001b\\\u001b[2mfbref.py\u001b[0m\u001b]8;;\u001b\\\u001b[2m:\u001b[0m\u001b]8;id=40413;file:///home/codespace/.local/lib/python3.12/site-packages/fbrefdata/fbref.py#927\u001b\\\u001b[2m927\u001b[0m\u001b]8;;\u001b\\\n"
      ]
     },
     "metadata": {},
     "output_type": "display_data"
    },
    {
     "data": {
      "text/html": [
       "<pre style=\"white-space:pre;overflow-x:auto;line-height:normal;font-family:Menlo,'DejaVu Sans Mono',consolas,'Courier New',monospace\"><span style=\"color: #7fbfbf; text-decoration-color: #7fbfbf\">                    </span><span style=\"color: #000080; text-decoration-color: #000080\">INFO    </span> <span style=\"font-weight: bold\">[</span><span style=\"color: #008080; text-decoration-color: #008080; font-weight: bold\">206</span>/<span style=\"color: #008080; text-decoration-color: #008080; font-weight: bold\">308</span><span style=\"font-weight: bold\">]</span> Retrieving game with <span style=\"color: #808000; text-decoration-color: #808000\">id</span>=<span style=\"color: #800080; text-decoration-color: #800080\">c2c249b0</span>                                <a href=\"file:///home/codespace/.local/lib/python3.12/site-packages/fbrefdata/fbref.py\" target=\"_blank\"><span style=\"color: #7f7f7f; text-decoration-color: #7f7f7f\">fbref.py</span></a><span style=\"color: #7f7f7f; text-decoration-color: #7f7f7f\">:</span><a href=\"file:///home/codespace/.local/lib/python3.12/site-packages/fbrefdata/fbref.py#927\" target=\"_blank\"><span style=\"color: #7f7f7f; text-decoration-color: #7f7f7f\">927</span></a>\n",
       "</pre>\n"
      ],
      "text/plain": [
       "\u001b[2;36m                   \u001b[0m\u001b[2;36m \u001b[0m\u001b[34mINFO    \u001b[0m \u001b[1m[\u001b[0m\u001b[1;36m206\u001b[0m/\u001b[1;36m308\u001b[0m\u001b[1m]\u001b[0m Retrieving game with \u001b[33mid\u001b[0m=\u001b[35mc2c249b0\u001b[0m                                \u001b]8;id=750546;file:///home/codespace/.local/lib/python3.12/site-packages/fbrefdata/fbref.py\u001b\\\u001b[2mfbref.py\u001b[0m\u001b]8;;\u001b\\\u001b[2m:\u001b[0m\u001b]8;id=960128;file:///home/codespace/.local/lib/python3.12/site-packages/fbrefdata/fbref.py#927\u001b\\\u001b[2m927\u001b[0m\u001b]8;;\u001b\\\n"
      ]
     },
     "metadata": {},
     "output_type": "display_data"
    },
    {
     "data": {
      "text/html": [
       "<pre style=\"white-space:pre;overflow-x:auto;line-height:normal;font-family:Menlo,'DejaVu Sans Mono',consolas,'Courier New',monospace\"><span style=\"color: #7fbfbf; text-decoration-color: #7fbfbf\">                    </span><span style=\"color: #000080; text-decoration-color: #000080\">INFO    </span> <span style=\"font-weight: bold\">[</span><span style=\"color: #008080; text-decoration-color: #008080; font-weight: bold\">207</span>/<span style=\"color: #008080; text-decoration-color: #008080; font-weight: bold\">308</span><span style=\"font-weight: bold\">]</span> Retrieving game with <span style=\"color: #808000; text-decoration-color: #808000\">id</span>=<span style=\"color: #800080; text-decoration-color: #800080\">f7d71118</span>                                <a href=\"file:///home/codespace/.local/lib/python3.12/site-packages/fbrefdata/fbref.py\" target=\"_blank\"><span style=\"color: #7f7f7f; text-decoration-color: #7f7f7f\">fbref.py</span></a><span style=\"color: #7f7f7f; text-decoration-color: #7f7f7f\">:</span><a href=\"file:///home/codespace/.local/lib/python3.12/site-packages/fbrefdata/fbref.py#927\" target=\"_blank\"><span style=\"color: #7f7f7f; text-decoration-color: #7f7f7f\">927</span></a>\n",
       "</pre>\n"
      ],
      "text/plain": [
       "\u001b[2;36m                   \u001b[0m\u001b[2;36m \u001b[0m\u001b[34mINFO    \u001b[0m \u001b[1m[\u001b[0m\u001b[1;36m207\u001b[0m/\u001b[1;36m308\u001b[0m\u001b[1m]\u001b[0m Retrieving game with \u001b[33mid\u001b[0m=\u001b[35mf7d71118\u001b[0m                                \u001b]8;id=533033;file:///home/codespace/.local/lib/python3.12/site-packages/fbrefdata/fbref.py\u001b\\\u001b[2mfbref.py\u001b[0m\u001b]8;;\u001b\\\u001b[2m:\u001b[0m\u001b]8;id=1832;file:///home/codespace/.local/lib/python3.12/site-packages/fbrefdata/fbref.py#927\u001b\\\u001b[2m927\u001b[0m\u001b]8;;\u001b\\\n"
      ]
     },
     "metadata": {},
     "output_type": "display_data"
    },
    {
     "data": {
      "text/html": [
       "<pre style=\"white-space:pre;overflow-x:auto;line-height:normal;font-family:Menlo,'DejaVu Sans Mono',consolas,'Courier New',monospace\"><span style=\"color: #7fbfbf; text-decoration-color: #7fbfbf\">                    </span><span style=\"color: #000080; text-decoration-color: #000080\">INFO    </span> <span style=\"font-weight: bold\">[</span><span style=\"color: #008080; text-decoration-color: #008080; font-weight: bold\">208</span>/<span style=\"color: #008080; text-decoration-color: #008080; font-weight: bold\">308</span><span style=\"font-weight: bold\">]</span> Retrieving game with <span style=\"color: #808000; text-decoration-color: #808000\">id</span>=<span style=\"color: #800080; text-decoration-color: #800080\">33b71362</span>                                <a href=\"file:///home/codespace/.local/lib/python3.12/site-packages/fbrefdata/fbref.py\" target=\"_blank\"><span style=\"color: #7f7f7f; text-decoration-color: #7f7f7f\">fbref.py</span></a><span style=\"color: #7f7f7f; text-decoration-color: #7f7f7f\">:</span><a href=\"file:///home/codespace/.local/lib/python3.12/site-packages/fbrefdata/fbref.py#927\" target=\"_blank\"><span style=\"color: #7f7f7f; text-decoration-color: #7f7f7f\">927</span></a>\n",
       "</pre>\n"
      ],
      "text/plain": [
       "\u001b[2;36m                   \u001b[0m\u001b[2;36m \u001b[0m\u001b[34mINFO    \u001b[0m \u001b[1m[\u001b[0m\u001b[1;36m208\u001b[0m/\u001b[1;36m308\u001b[0m\u001b[1m]\u001b[0m Retrieving game with \u001b[33mid\u001b[0m=\u001b[35m33b71362\u001b[0m                                \u001b]8;id=70685;file:///home/codespace/.local/lib/python3.12/site-packages/fbrefdata/fbref.py\u001b\\\u001b[2mfbref.py\u001b[0m\u001b]8;;\u001b\\\u001b[2m:\u001b[0m\u001b]8;id=646559;file:///home/codespace/.local/lib/python3.12/site-packages/fbrefdata/fbref.py#927\u001b\\\u001b[2m927\u001b[0m\u001b]8;;\u001b\\\n"
      ]
     },
     "metadata": {},
     "output_type": "display_data"
    },
    {
     "name": "stderr",
     "output_type": "stream",
     "text": [
      "/home/codespace/.local/lib/python3.12/site-packages/fbrefdata/fbref.py:940: FutureWarning: This search incorrectly ignores the root element, and will be fixed in a future version.  If you rely on the current behaviour, change it to \".//table[@id='stats_054efa67_summary']\"\n",
      "  html_table = tree.find(\"//table[@id='\" + id_format.format(home_team[\"id\"]) + \"']\")\n",
      "/home/codespace/.local/lib/python3.12/site-packages/fbrefdata/fbref.py:953: FutureWarning: This search incorrectly ignores the root element, and will be fixed in a future version.  If you rely on the current behaviour, change it to \".//table[@id='stats_add600ae_summary']\"\n",
      "  html_table = tree.find(\"//table[@id='\" + id_format.format(away_team[\"id\"]) + \"']\")\n"
     ]
    },
    {
     "data": {
      "text/html": [
       "<pre style=\"white-space:pre;overflow-x:auto;line-height:normal;font-family:Menlo,'DejaVu Sans Mono',consolas,'Courier New',monospace\"><span style=\"color: #7fbfbf; text-decoration-color: #7fbfbf\">[08/30/24 02:42:49] </span><span style=\"color: #000080; text-decoration-color: #000080\">INFO    </span> <span style=\"font-weight: bold\">[</span><span style=\"color: #008080; text-decoration-color: #008080; font-weight: bold\">209</span>/<span style=\"color: #008080; text-decoration-color: #008080; font-weight: bold\">308</span><span style=\"font-weight: bold\">]</span> Retrieving game with <span style=\"color: #808000; text-decoration-color: #808000\">id</span>=<span style=\"color: #800080; text-decoration-color: #800080\">109588f5</span>                                <a href=\"file:///home/codespace/.local/lib/python3.12/site-packages/fbrefdata/fbref.py\" target=\"_blank\"><span style=\"color: #7f7f7f; text-decoration-color: #7f7f7f\">fbref.py</span></a><span style=\"color: #7f7f7f; text-decoration-color: #7f7f7f\">:</span><a href=\"file:///home/codespace/.local/lib/python3.12/site-packages/fbrefdata/fbref.py#927\" target=\"_blank\"><span style=\"color: #7f7f7f; text-decoration-color: #7f7f7f\">927</span></a>\n",
       "</pre>\n"
      ],
      "text/plain": [
       "\u001b[2;36m[08/30/24 02:42:49]\u001b[0m\u001b[2;36m \u001b[0m\u001b[34mINFO    \u001b[0m \u001b[1m[\u001b[0m\u001b[1;36m209\u001b[0m/\u001b[1;36m308\u001b[0m\u001b[1m]\u001b[0m Retrieving game with \u001b[33mid\u001b[0m=\u001b[35m109588f5\u001b[0m                                \u001b]8;id=894803;file:///home/codespace/.local/lib/python3.12/site-packages/fbrefdata/fbref.py\u001b\\\u001b[2mfbref.py\u001b[0m\u001b]8;;\u001b\\\u001b[2m:\u001b[0m\u001b]8;id=934501;file:///home/codespace/.local/lib/python3.12/site-packages/fbrefdata/fbref.py#927\u001b\\\u001b[2m927\u001b[0m\u001b]8;;\u001b\\\n"
      ]
     },
     "metadata": {},
     "output_type": "display_data"
    },
    {
     "name": "stderr",
     "output_type": "stream",
     "text": [
      "/home/codespace/.local/lib/python3.12/site-packages/fbrefdata/fbref.py:940: FutureWarning: This search incorrectly ignores the root element, and will be fixed in a future version.  If you rely on the current behaviour, change it to \".//table[@id='stats_f0ac8ee6_summary']\"\n",
      "  html_table = tree.find(\"//table[@id='\" + id_format.format(home_team[\"id\"]) + \"']\")\n",
      "/home/codespace/.local/lib/python3.12/site-packages/fbrefdata/fbref.py:953: FutureWarning: This search incorrectly ignores the root element, and will be fixed in a future version.  If you rely on the current behaviour, change it to \".//table[@id='stats_598bc722_summary']\"\n",
      "  html_table = tree.find(\"//table[@id='\" + id_format.format(away_team[\"id\"]) + \"']\")\n"
     ]
    },
    {
     "data": {
      "text/html": [
       "<pre style=\"white-space:pre;overflow-x:auto;line-height:normal;font-family:Menlo,'DejaVu Sans Mono',consolas,'Courier New',monospace\"><span style=\"color: #7fbfbf; text-decoration-color: #7fbfbf\">[08/30/24 02:42:56] </span><span style=\"color: #000080; text-decoration-color: #000080\">INFO    </span> <span style=\"font-weight: bold\">[</span><span style=\"color: #008080; text-decoration-color: #008080; font-weight: bold\">210</span>/<span style=\"color: #008080; text-decoration-color: #008080; font-weight: bold\">308</span><span style=\"font-weight: bold\">]</span> Retrieving game with <span style=\"color: #808000; text-decoration-color: #808000\">id</span>=<span style=\"color: #800080; text-decoration-color: #800080\">82aa3a4c</span>                                <a href=\"file:///home/codespace/.local/lib/python3.12/site-packages/fbrefdata/fbref.py\" target=\"_blank\"><span style=\"color: #7f7f7f; text-decoration-color: #7f7f7f\">fbref.py</span></a><span style=\"color: #7f7f7f; text-decoration-color: #7f7f7f\">:</span><a href=\"file:///home/codespace/.local/lib/python3.12/site-packages/fbrefdata/fbref.py#927\" target=\"_blank\"><span style=\"color: #7f7f7f; text-decoration-color: #7f7f7f\">927</span></a>\n",
       "</pre>\n"
      ],
      "text/plain": [
       "\u001b[2;36m[08/30/24 02:42:56]\u001b[0m\u001b[2;36m \u001b[0m\u001b[34mINFO    \u001b[0m \u001b[1m[\u001b[0m\u001b[1;36m210\u001b[0m/\u001b[1;36m308\u001b[0m\u001b[1m]\u001b[0m Retrieving game with \u001b[33mid\u001b[0m=\u001b[35m82aa3a4c\u001b[0m                                \u001b]8;id=545193;file:///home/codespace/.local/lib/python3.12/site-packages/fbrefdata/fbref.py\u001b\\\u001b[2mfbref.py\u001b[0m\u001b]8;;\u001b\\\u001b[2m:\u001b[0m\u001b]8;id=960554;file:///home/codespace/.local/lib/python3.12/site-packages/fbrefdata/fbref.py#927\u001b\\\u001b[2m927\u001b[0m\u001b]8;;\u001b\\\n"
      ]
     },
     "metadata": {},
     "output_type": "display_data"
    },
    {
     "name": "stderr",
     "output_type": "stream",
     "text": [
      "/home/codespace/.local/lib/python3.12/site-packages/fbrefdata/fbref.py:940: FutureWarning: This search incorrectly ignores the root element, and will be fixed in a future version.  If you rely on the current behaviour, change it to \".//table[@id='stats_a486e511_summary']\"\n",
      "  html_table = tree.find(\"//table[@id='\" + id_format.format(home_team[\"id\"]) + \"']\")\n",
      "/home/codespace/.local/lib/python3.12/site-packages/fbrefdata/fbref.py:953: FutureWarning: This search incorrectly ignores the root element, and will be fixed in a future version.  If you rely on the current behaviour, change it to \".//table[@id='stats_acbb6a5b_summary']\"\n",
      "  html_table = tree.find(\"//table[@id='\" + id_format.format(away_team[\"id\"]) + \"']\")\n"
     ]
    },
    {
     "data": {
      "text/html": [
       "<pre style=\"white-space:pre;overflow-x:auto;line-height:normal;font-family:Menlo,'DejaVu Sans Mono',consolas,'Courier New',monospace\"><span style=\"color: #7fbfbf; text-decoration-color: #7fbfbf\">[08/30/24 02:43:03] </span><span style=\"color: #000080; text-decoration-color: #000080\">INFO    </span> <span style=\"font-weight: bold\">[</span><span style=\"color: #008080; text-decoration-color: #008080; font-weight: bold\">211</span>/<span style=\"color: #008080; text-decoration-color: #008080; font-weight: bold\">308</span><span style=\"font-weight: bold\">]</span> Retrieving game with <span style=\"color: #808000; text-decoration-color: #808000\">id</span>=<span style=\"color: #800080; text-decoration-color: #800080\">0a67e4e1</span>                                <a href=\"file:///home/codespace/.local/lib/python3.12/site-packages/fbrefdata/fbref.py\" target=\"_blank\"><span style=\"color: #7f7f7f; text-decoration-color: #7f7f7f\">fbref.py</span></a><span style=\"color: #7f7f7f; text-decoration-color: #7f7f7f\">:</span><a href=\"file:///home/codespace/.local/lib/python3.12/site-packages/fbrefdata/fbref.py#927\" target=\"_blank\"><span style=\"color: #7f7f7f; text-decoration-color: #7f7f7f\">927</span></a>\n",
       "</pre>\n"
      ],
      "text/plain": [
       "\u001b[2;36m[08/30/24 02:43:03]\u001b[0m\u001b[2;36m \u001b[0m\u001b[34mINFO    \u001b[0m \u001b[1m[\u001b[0m\u001b[1;36m211\u001b[0m/\u001b[1;36m308\u001b[0m\u001b[1m]\u001b[0m Retrieving game with \u001b[33mid\u001b[0m=\u001b[35m0a67e4e1\u001b[0m                                \u001b]8;id=258579;file:///home/codespace/.local/lib/python3.12/site-packages/fbrefdata/fbref.py\u001b\\\u001b[2mfbref.py\u001b[0m\u001b]8;;\u001b\\\u001b[2m:\u001b[0m\u001b]8;id=527323;file:///home/codespace/.local/lib/python3.12/site-packages/fbrefdata/fbref.py#927\u001b\\\u001b[2m927\u001b[0m\u001b]8;;\u001b\\\n"
      ]
     },
     "metadata": {},
     "output_type": "display_data"
    },
    {
     "name": "stderr",
     "output_type": "stream",
     "text": [
      "/home/codespace/.local/lib/python3.12/site-packages/fbrefdata/fbref.py:940: FutureWarning: This search incorrectly ignores the root element, and will be fixed in a future version.  If you rely on the current behaviour, change it to \".//table[@id='stats_32f3ee20_summary']\"\n",
      "  html_table = tree.find(\"//table[@id='\" + id_format.format(home_team[\"id\"]) + \"']\")\n",
      "/home/codespace/.local/lib/python3.12/site-packages/fbrefdata/fbref.py:953: FutureWarning: This search incorrectly ignores the root element, and will be fixed in a future version.  If you rely on the current behaviour, change it to \".//table[@id='stats_c7a9f859_summary']\"\n",
      "  html_table = tree.find(\"//table[@id='\" + id_format.format(away_team[\"id\"]) + \"']\")\n"
     ]
    },
    {
     "data": {
      "text/html": [
       "<pre style=\"white-space:pre;overflow-x:auto;line-height:normal;font-family:Menlo,'DejaVu Sans Mono',consolas,'Courier New',monospace\"><span style=\"color: #7fbfbf; text-decoration-color: #7fbfbf\">[08/30/24 02:43:10] </span><span style=\"color: #000080; text-decoration-color: #000080\">INFO    </span> <span style=\"font-weight: bold\">[</span><span style=\"color: #008080; text-decoration-color: #008080; font-weight: bold\">212</span>/<span style=\"color: #008080; text-decoration-color: #008080; font-weight: bold\">308</span><span style=\"font-weight: bold\">]</span> Retrieving game with <span style=\"color: #808000; text-decoration-color: #808000\">id</span>=<span style=\"color: #800080; text-decoration-color: #800080\">35199ff9</span>                                <a href=\"file:///home/codespace/.local/lib/python3.12/site-packages/fbrefdata/fbref.py\" target=\"_blank\"><span style=\"color: #7f7f7f; text-decoration-color: #7f7f7f\">fbref.py</span></a><span style=\"color: #7f7f7f; text-decoration-color: #7f7f7f\">:</span><a href=\"file:///home/codespace/.local/lib/python3.12/site-packages/fbrefdata/fbref.py#927\" target=\"_blank\"><span style=\"color: #7f7f7f; text-decoration-color: #7f7f7f\">927</span></a>\n",
       "</pre>\n"
      ],
      "text/plain": [
       "\u001b[2;36m[08/30/24 02:43:10]\u001b[0m\u001b[2;36m \u001b[0m\u001b[34mINFO    \u001b[0m \u001b[1m[\u001b[0m\u001b[1;36m212\u001b[0m/\u001b[1;36m308\u001b[0m\u001b[1m]\u001b[0m Retrieving game with \u001b[33mid\u001b[0m=\u001b[35m35199ff9\u001b[0m                                \u001b]8;id=728018;file:///home/codespace/.local/lib/python3.12/site-packages/fbrefdata/fbref.py\u001b\\\u001b[2mfbref.py\u001b[0m\u001b]8;;\u001b\\\u001b[2m:\u001b[0m\u001b]8;id=340450;file:///home/codespace/.local/lib/python3.12/site-packages/fbrefdata/fbref.py#927\u001b\\\u001b[2m927\u001b[0m\u001b]8;;\u001b\\\n"
      ]
     },
     "metadata": {},
     "output_type": "display_data"
    },
    {
     "name": "stderr",
     "output_type": "stream",
     "text": [
      "/home/codespace/.local/lib/python3.12/site-packages/fbrefdata/fbref.py:940: FutureWarning: This search incorrectly ignores the root element, and will be fixed in a future version.  If you rely on the current behaviour, change it to \".//table[@id='stats_2818f8bc_summary']\"\n",
      "  html_table = tree.find(\"//table[@id='\" + id_format.format(home_team[\"id\"]) + \"']\")\n",
      "/home/codespace/.local/lib/python3.12/site-packages/fbrefdata/fbref.py:953: FutureWarning: This search incorrectly ignores the root element, and will be fixed in a future version.  If you rely on the current behaviour, change it to \".//table[@id='stats_0cdc4311_summary']\"\n",
      "  html_table = tree.find(\"//table[@id='\" + id_format.format(away_team[\"id\"]) + \"']\")\n"
     ]
    },
    {
     "data": {
      "text/html": [
       "<pre style=\"white-space:pre;overflow-x:auto;line-height:normal;font-family:Menlo,'DejaVu Sans Mono',consolas,'Courier New',monospace\"><span style=\"color: #7fbfbf; text-decoration-color: #7fbfbf\">[08/30/24 02:43:17] </span><span style=\"color: #000080; text-decoration-color: #000080\">INFO    </span> <span style=\"font-weight: bold\">[</span><span style=\"color: #008080; text-decoration-color: #008080; font-weight: bold\">213</span>/<span style=\"color: #008080; text-decoration-color: #008080; font-weight: bold\">308</span><span style=\"font-weight: bold\">]</span> Retrieving game with <span style=\"color: #808000; text-decoration-color: #808000\">id</span>=<span style=\"color: #800080; text-decoration-color: #800080\">67c048cb</span>                                <a href=\"file:///home/codespace/.local/lib/python3.12/site-packages/fbrefdata/fbref.py\" target=\"_blank\"><span style=\"color: #7f7f7f; text-decoration-color: #7f7f7f\">fbref.py</span></a><span style=\"color: #7f7f7f; text-decoration-color: #7f7f7f\">:</span><a href=\"file:///home/codespace/.local/lib/python3.12/site-packages/fbrefdata/fbref.py#927\" target=\"_blank\"><span style=\"color: #7f7f7f; text-decoration-color: #7f7f7f\">927</span></a>\n",
       "</pre>\n"
      ],
      "text/plain": [
       "\u001b[2;36m[08/30/24 02:43:17]\u001b[0m\u001b[2;36m \u001b[0m\u001b[34mINFO    \u001b[0m \u001b[1m[\u001b[0m\u001b[1;36m213\u001b[0m/\u001b[1;36m308\u001b[0m\u001b[1m]\u001b[0m Retrieving game with \u001b[33mid\u001b[0m=\u001b[35m67c048cb\u001b[0m                                \u001b]8;id=744895;file:///home/codespace/.local/lib/python3.12/site-packages/fbrefdata/fbref.py\u001b\\\u001b[2mfbref.py\u001b[0m\u001b]8;;\u001b\\\u001b[2m:\u001b[0m\u001b]8;id=278197;file:///home/codespace/.local/lib/python3.12/site-packages/fbrefdata/fbref.py#927\u001b\\\u001b[2m927\u001b[0m\u001b]8;;\u001b\\\n"
      ]
     },
     "metadata": {},
     "output_type": "display_data"
    },
    {
     "name": "stderr",
     "output_type": "stream",
     "text": [
      "/home/codespace/.local/lib/python3.12/site-packages/fbrefdata/fbref.py:940: FutureWarning: This search incorrectly ignores the root element, and will be fixed in a future version.  If you rely on the current behaviour, change it to \".//table[@id='stats_033ea6b8_summary']\"\n",
      "  html_table = tree.find(\"//table[@id='\" + id_format.format(home_team[\"id\"]) + \"']\")\n",
      "/home/codespace/.local/lib/python3.12/site-packages/fbrefdata/fbref.py:953: FutureWarning: This search incorrectly ignores the root element, and will be fixed in a future version.  If you rely on the current behaviour, change it to \".//table[@id='stats_4eaa11d7_summary']\"\n",
      "  html_table = tree.find(\"//table[@id='\" + id_format.format(away_team[\"id\"]) + \"']\")\n"
     ]
    },
    {
     "data": {
      "text/html": [
       "<pre style=\"white-space:pre;overflow-x:auto;line-height:normal;font-family:Menlo,'DejaVu Sans Mono',consolas,'Courier New',monospace\"><span style=\"color: #7fbfbf; text-decoration-color: #7fbfbf\">[08/30/24 02:43:25] </span><span style=\"color: #000080; text-decoration-color: #000080\">INFO    </span> <span style=\"font-weight: bold\">[</span><span style=\"color: #008080; text-decoration-color: #008080; font-weight: bold\">214</span>/<span style=\"color: #008080; text-decoration-color: #008080; font-weight: bold\">308</span><span style=\"font-weight: bold\">]</span> Retrieving game with <span style=\"color: #808000; text-decoration-color: #808000\">id</span>=<span style=\"color: #800080; text-decoration-color: #800080\">450ce215</span>                                <a href=\"file:///home/codespace/.local/lib/python3.12/site-packages/fbrefdata/fbref.py\" target=\"_blank\"><span style=\"color: #7f7f7f; text-decoration-color: #7f7f7f\">fbref.py</span></a><span style=\"color: #7f7f7f; text-decoration-color: #7f7f7f\">:</span><a href=\"file:///home/codespace/.local/lib/python3.12/site-packages/fbrefdata/fbref.py#927\" target=\"_blank\"><span style=\"color: #7f7f7f; text-decoration-color: #7f7f7f\">927</span></a>\n",
       "</pre>\n"
      ],
      "text/plain": [
       "\u001b[2;36m[08/30/24 02:43:25]\u001b[0m\u001b[2;36m \u001b[0m\u001b[34mINFO    \u001b[0m \u001b[1m[\u001b[0m\u001b[1;36m214\u001b[0m/\u001b[1;36m308\u001b[0m\u001b[1m]\u001b[0m Retrieving game with \u001b[33mid\u001b[0m=\u001b[35m450ce215\u001b[0m                                \u001b]8;id=842792;file:///home/codespace/.local/lib/python3.12/site-packages/fbrefdata/fbref.py\u001b\\\u001b[2mfbref.py\u001b[0m\u001b]8;;\u001b\\\u001b[2m:\u001b[0m\u001b]8;id=2770;file:///home/codespace/.local/lib/python3.12/site-packages/fbrefdata/fbref.py#927\u001b\\\u001b[2m927\u001b[0m\u001b]8;;\u001b\\\n"
      ]
     },
     "metadata": {},
     "output_type": "display_data"
    },
    {
     "name": "stderr",
     "output_type": "stream",
     "text": [
      "/home/codespace/.local/lib/python3.12/site-packages/fbrefdata/fbref.py:940: FutureWarning: This search incorrectly ignores the root element, and will be fixed in a future version.  If you rely on the current behaviour, change it to \".//table[@id='stats_247c4b67_summary']\"\n",
      "  html_table = tree.find(\"//table[@id='\" + id_format.format(home_team[\"id\"]) + \"']\")\n",
      "/home/codespace/.local/lib/python3.12/site-packages/fbrefdata/fbref.py:953: FutureWarning: This search incorrectly ignores the root element, and will be fixed in a future version.  If you rely on the current behaviour, change it to \".//table[@id='stats_7a41008f_summary']\"\n",
      "  html_table = tree.find(\"//table[@id='\" + id_format.format(away_team[\"id\"]) + \"']\")\n"
     ]
    },
    {
     "data": {
      "text/html": [
       "<pre style=\"white-space:pre;overflow-x:auto;line-height:normal;font-family:Menlo,'DejaVu Sans Mono',consolas,'Courier New',monospace\"><span style=\"color: #7fbfbf; text-decoration-color: #7fbfbf\">[08/30/24 02:43:32] </span><span style=\"color: #000080; text-decoration-color: #000080\">INFO    </span> <span style=\"font-weight: bold\">[</span><span style=\"color: #008080; text-decoration-color: #008080; font-weight: bold\">215</span>/<span style=\"color: #008080; text-decoration-color: #008080; font-weight: bold\">308</span><span style=\"font-weight: bold\">]</span> Retrieving game with <span style=\"color: #808000; text-decoration-color: #808000\">id</span>=<span style=\"color: #800080; text-decoration-color: #800080\">92c099c1</span>                                <a href=\"file:///home/codespace/.local/lib/python3.12/site-packages/fbrefdata/fbref.py\" target=\"_blank\"><span style=\"color: #7f7f7f; text-decoration-color: #7f7f7f\">fbref.py</span></a><span style=\"color: #7f7f7f; text-decoration-color: #7f7f7f\">:</span><a href=\"file:///home/codespace/.local/lib/python3.12/site-packages/fbrefdata/fbref.py#927\" target=\"_blank\"><span style=\"color: #7f7f7f; text-decoration-color: #7f7f7f\">927</span></a>\n",
       "</pre>\n"
      ],
      "text/plain": [
       "\u001b[2;36m[08/30/24 02:43:32]\u001b[0m\u001b[2;36m \u001b[0m\u001b[34mINFO    \u001b[0m \u001b[1m[\u001b[0m\u001b[1;36m215\u001b[0m/\u001b[1;36m308\u001b[0m\u001b[1m]\u001b[0m Retrieving game with \u001b[33mid\u001b[0m=\u001b[35m92c099c1\u001b[0m                                \u001b]8;id=617796;file:///home/codespace/.local/lib/python3.12/site-packages/fbrefdata/fbref.py\u001b\\\u001b[2mfbref.py\u001b[0m\u001b]8;;\u001b\\\u001b[2m:\u001b[0m\u001b]8;id=386227;file:///home/codespace/.local/lib/python3.12/site-packages/fbrefdata/fbref.py#927\u001b\\\u001b[2m927\u001b[0m\u001b]8;;\u001b\\\n"
      ]
     },
     "metadata": {},
     "output_type": "display_data"
    },
    {
     "name": "stderr",
     "output_type": "stream",
     "text": [
      "/home/codespace/.local/lib/python3.12/site-packages/fbrefdata/fbref.py:940: FutureWarning: This search incorrectly ignores the root element, and will be fixed in a future version.  If you rely on the current behaviour, change it to \".//table[@id='stats_bc357bf7_summary']\"\n",
      "  html_table = tree.find(\"//table[@id='\" + id_format.format(home_team[\"id\"]) + \"']\")\n",
      "/home/codespace/.local/lib/python3.12/site-packages/fbrefdata/fbref.py:953: FutureWarning: This search incorrectly ignores the root element, and will be fixed in a future version.  If you rely on the current behaviour, change it to \".//table[@id='stats_62add3bf_summary']\"\n",
      "  html_table = tree.find(\"//table[@id='\" + id_format.format(away_team[\"id\"]) + \"']\")\n"
     ]
    },
    {
     "data": {
      "text/html": [
       "<pre style=\"white-space:pre;overflow-x:auto;line-height:normal;font-family:Menlo,'DejaVu Sans Mono',consolas,'Courier New',monospace\"><span style=\"color: #7fbfbf; text-decoration-color: #7fbfbf\">[08/30/24 02:43:40] </span><span style=\"color: #000080; text-decoration-color: #000080\">INFO    </span> <span style=\"font-weight: bold\">[</span><span style=\"color: #008080; text-decoration-color: #008080; font-weight: bold\">216</span>/<span style=\"color: #008080; text-decoration-color: #008080; font-weight: bold\">308</span><span style=\"font-weight: bold\">]</span> Retrieving game with <span style=\"color: #808000; text-decoration-color: #808000\">id</span>=<span style=\"color: #800080; text-decoration-color: #800080\">ecdd3788</span>                                <a href=\"file:///home/codespace/.local/lib/python3.12/site-packages/fbrefdata/fbref.py\" target=\"_blank\"><span style=\"color: #7f7f7f; text-decoration-color: #7f7f7f\">fbref.py</span></a><span style=\"color: #7f7f7f; text-decoration-color: #7f7f7f\">:</span><a href=\"file:///home/codespace/.local/lib/python3.12/site-packages/fbrefdata/fbref.py#927\" target=\"_blank\"><span style=\"color: #7f7f7f; text-decoration-color: #7f7f7f\">927</span></a>\n",
       "</pre>\n"
      ],
      "text/plain": [
       "\u001b[2;36m[08/30/24 02:43:40]\u001b[0m\u001b[2;36m \u001b[0m\u001b[34mINFO    \u001b[0m \u001b[1m[\u001b[0m\u001b[1;36m216\u001b[0m/\u001b[1;36m308\u001b[0m\u001b[1m]\u001b[0m Retrieving game with \u001b[33mid\u001b[0m=\u001b[35mecdd3788\u001b[0m                                \u001b]8;id=486833;file:///home/codespace/.local/lib/python3.12/site-packages/fbrefdata/fbref.py\u001b\\\u001b[2mfbref.py\u001b[0m\u001b]8;;\u001b\\\u001b[2m:\u001b[0m\u001b]8;id=504213;file:///home/codespace/.local/lib/python3.12/site-packages/fbrefdata/fbref.py#927\u001b\\\u001b[2m927\u001b[0m\u001b]8;;\u001b\\\n"
      ]
     },
     "metadata": {},
     "output_type": "display_data"
    },
    {
     "name": "stderr",
     "output_type": "stream",
     "text": [
      "/home/codespace/.local/lib/python3.12/site-packages/fbrefdata/fbref.py:940: FutureWarning: This search incorrectly ignores the root element, and will be fixed in a future version.  If you rely on the current behaviour, change it to \".//table[@id='stats_247c4b67_summary']\"\n",
      "  html_table = tree.find(\"//table[@id='\" + id_format.format(home_team[\"id\"]) + \"']\")\n",
      "/home/codespace/.local/lib/python3.12/site-packages/fbrefdata/fbref.py:953: FutureWarning: This search incorrectly ignores the root element, and will be fixed in a future version.  If you rely on the current behaviour, change it to \".//table[@id='stats_62add3bf_summary']\"\n",
      "  html_table = tree.find(\"//table[@id='\" + id_format.format(away_team[\"id\"]) + \"']\")\n"
     ]
    },
    {
     "data": {
      "text/html": [
       "<pre style=\"white-space:pre;overflow-x:auto;line-height:normal;font-family:Menlo,'DejaVu Sans Mono',consolas,'Courier New',monospace\"><span style=\"color: #7fbfbf; text-decoration-color: #7fbfbf\">[08/30/24 02:43:47] </span><span style=\"color: #000080; text-decoration-color: #000080\">INFO    </span> <span style=\"font-weight: bold\">[</span><span style=\"color: #008080; text-decoration-color: #008080; font-weight: bold\">217</span>/<span style=\"color: #008080; text-decoration-color: #008080; font-weight: bold\">308</span><span style=\"font-weight: bold\">]</span> Retrieving game with <span style=\"color: #808000; text-decoration-color: #808000\">id</span>=<span style=\"color: #800080; text-decoration-color: #800080\">22304c50</span>                                <a href=\"file:///home/codespace/.local/lib/python3.12/site-packages/fbrefdata/fbref.py\" target=\"_blank\"><span style=\"color: #7f7f7f; text-decoration-color: #7f7f7f\">fbref.py</span></a><span style=\"color: #7f7f7f; text-decoration-color: #7f7f7f\">:</span><a href=\"file:///home/codespace/.local/lib/python3.12/site-packages/fbrefdata/fbref.py#927\" target=\"_blank\"><span style=\"color: #7f7f7f; text-decoration-color: #7f7f7f\">927</span></a>\n",
       "</pre>\n"
      ],
      "text/plain": [
       "\u001b[2;36m[08/30/24 02:43:47]\u001b[0m\u001b[2;36m \u001b[0m\u001b[34mINFO    \u001b[0m \u001b[1m[\u001b[0m\u001b[1;36m217\u001b[0m/\u001b[1;36m308\u001b[0m\u001b[1m]\u001b[0m Retrieving game with \u001b[33mid\u001b[0m=\u001b[35m22304c50\u001b[0m                                \u001b]8;id=827652;file:///home/codespace/.local/lib/python3.12/site-packages/fbrefdata/fbref.py\u001b\\\u001b[2mfbref.py\u001b[0m\u001b]8;;\u001b\\\u001b[2m:\u001b[0m\u001b]8;id=237113;file:///home/codespace/.local/lib/python3.12/site-packages/fbrefdata/fbref.py#927\u001b\\\u001b[2m927\u001b[0m\u001b]8;;\u001b\\\n"
      ]
     },
     "metadata": {},
     "output_type": "display_data"
    },
    {
     "name": "stderr",
     "output_type": "stream",
     "text": [
      "/home/codespace/.local/lib/python3.12/site-packages/fbrefdata/fbref.py:940: FutureWarning: This search incorrectly ignores the root element, and will be fixed in a future version.  If you rely on the current behaviour, change it to \".//table[@id='stats_0cdc4311_summary']\"\n",
      "  html_table = tree.find(\"//table[@id='\" + id_format.format(home_team[\"id\"]) + \"']\")\n",
      "/home/codespace/.local/lib/python3.12/site-packages/fbrefdata/fbref.py:953: FutureWarning: This search incorrectly ignores the root element, and will be fixed in a future version.  If you rely on the current behaviour, change it to \".//table[@id='stats_32f3ee20_summary']\"\n",
      "  html_table = tree.find(\"//table[@id='\" + id_format.format(away_team[\"id\"]) + \"']\")\n"
     ]
    },
    {
     "data": {
      "text/html": [
       "<pre style=\"white-space:pre;overflow-x:auto;line-height:normal;font-family:Menlo,'DejaVu Sans Mono',consolas,'Courier New',monospace\"><span style=\"color: #7fbfbf; text-decoration-color: #7fbfbf\">[08/30/24 02:43:54] </span><span style=\"color: #000080; text-decoration-color: #000080\">INFO    </span> <span style=\"font-weight: bold\">[</span><span style=\"color: #008080; text-decoration-color: #008080; font-weight: bold\">218</span>/<span style=\"color: #008080; text-decoration-color: #008080; font-weight: bold\">308</span><span style=\"font-weight: bold\">]</span> Retrieving game with <span style=\"color: #808000; text-decoration-color: #808000\">id</span>=<span style=\"color: #800080; text-decoration-color: #800080\">bcfe77e7</span>                                <a href=\"file:///home/codespace/.local/lib/python3.12/site-packages/fbrefdata/fbref.py\" target=\"_blank\"><span style=\"color: #7f7f7f; text-decoration-color: #7f7f7f\">fbref.py</span></a><span style=\"color: #7f7f7f; text-decoration-color: #7f7f7f\">:</span><a href=\"file:///home/codespace/.local/lib/python3.12/site-packages/fbrefdata/fbref.py#927\" target=\"_blank\"><span style=\"color: #7f7f7f; text-decoration-color: #7f7f7f\">927</span></a>\n",
       "</pre>\n"
      ],
      "text/plain": [
       "\u001b[2;36m[08/30/24 02:43:54]\u001b[0m\u001b[2;36m \u001b[0m\u001b[34mINFO    \u001b[0m \u001b[1m[\u001b[0m\u001b[1;36m218\u001b[0m/\u001b[1;36m308\u001b[0m\u001b[1m]\u001b[0m Retrieving game with \u001b[33mid\u001b[0m=\u001b[35mbcfe77e7\u001b[0m                                \u001b]8;id=659755;file:///home/codespace/.local/lib/python3.12/site-packages/fbrefdata/fbref.py\u001b\\\u001b[2mfbref.py\u001b[0m\u001b]8;;\u001b\\\u001b[2m:\u001b[0m\u001b]8;id=547492;file:///home/codespace/.local/lib/python3.12/site-packages/fbrefdata/fbref.py#927\u001b\\\u001b[2m927\u001b[0m\u001b]8;;\u001b\\\n"
      ]
     },
     "metadata": {},
     "output_type": "display_data"
    },
    {
     "name": "stderr",
     "output_type": "stream",
     "text": [
      "/home/codespace/.local/lib/python3.12/site-packages/fbrefdata/fbref.py:940: FutureWarning: This search incorrectly ignores the root element, and will be fixed in a future version.  If you rely on the current behaviour, change it to \".//table[@id='stats_add600ae_summary']\"\n",
      "  html_table = tree.find(\"//table[@id='\" + id_format.format(home_team[\"id\"]) + \"']\")\n",
      "/home/codespace/.local/lib/python3.12/site-packages/fbrefdata/fbref.py:953: FutureWarning: This search incorrectly ignores the root element, and will be fixed in a future version.  If you rely on the current behaviour, change it to \".//table[@id='stats_2818f8bc_summary']\"\n",
      "  html_table = tree.find(\"//table[@id='\" + id_format.format(away_team[\"id\"]) + \"']\")\n"
     ]
    },
    {
     "data": {
      "text/html": [
       "<pre style=\"white-space:pre;overflow-x:auto;line-height:normal;font-family:Menlo,'DejaVu Sans Mono',consolas,'Courier New',monospace\"><span style=\"color: #7fbfbf; text-decoration-color: #7fbfbf\">[08/30/24 02:44:01] </span><span style=\"color: #000080; text-decoration-color: #000080\">INFO    </span> <span style=\"font-weight: bold\">[</span><span style=\"color: #008080; text-decoration-color: #008080; font-weight: bold\">219</span>/<span style=\"color: #008080; text-decoration-color: #008080; font-weight: bold\">308</span><span style=\"font-weight: bold\">]</span> Retrieving game with <span style=\"color: #808000; text-decoration-color: #808000\">id</span>=<span style=\"color: #800080; text-decoration-color: #800080\">efc2e669</span>                                <a href=\"file:///home/codespace/.local/lib/python3.12/site-packages/fbrefdata/fbref.py\" target=\"_blank\"><span style=\"color: #7f7f7f; text-decoration-color: #7f7f7f\">fbref.py</span></a><span style=\"color: #7f7f7f; text-decoration-color: #7f7f7f\">:</span><a href=\"file:///home/codespace/.local/lib/python3.12/site-packages/fbrefdata/fbref.py#927\" target=\"_blank\"><span style=\"color: #7f7f7f; text-decoration-color: #7f7f7f\">927</span></a>\n",
       "</pre>\n"
      ],
      "text/plain": [
       "\u001b[2;36m[08/30/24 02:44:01]\u001b[0m\u001b[2;36m \u001b[0m\u001b[34mINFO    \u001b[0m \u001b[1m[\u001b[0m\u001b[1;36m219\u001b[0m/\u001b[1;36m308\u001b[0m\u001b[1m]\u001b[0m Retrieving game with \u001b[33mid\u001b[0m=\u001b[35mefc2e669\u001b[0m                                \u001b]8;id=155866;file:///home/codespace/.local/lib/python3.12/site-packages/fbrefdata/fbref.py\u001b\\\u001b[2mfbref.py\u001b[0m\u001b]8;;\u001b\\\u001b[2m:\u001b[0m\u001b]8;id=361760;file:///home/codespace/.local/lib/python3.12/site-packages/fbrefdata/fbref.py#927\u001b\\\u001b[2m927\u001b[0m\u001b]8;;\u001b\\\n"
      ]
     },
     "metadata": {},
     "output_type": "display_data"
    },
    {
     "name": "stderr",
     "output_type": "stream",
     "text": [
      "/home/codespace/.local/lib/python3.12/site-packages/fbrefdata/fbref.py:940: FutureWarning: This search incorrectly ignores the root element, and will be fixed in a future version.  If you rely on the current behaviour, change it to \".//table[@id='stats_a224b06a_summary']\"\n",
      "  html_table = tree.find(\"//table[@id='\" + id_format.format(home_team[\"id\"]) + \"']\")\n",
      "/home/codespace/.local/lib/python3.12/site-packages/fbrefdata/fbref.py:953: FutureWarning: This search incorrectly ignores the root element, and will be fixed in a future version.  If you rely on the current behaviour, change it to \".//table[@id='stats_a486e511_summary']\"\n",
      "  html_table = tree.find(\"//table[@id='\" + id_format.format(away_team[\"id\"]) + \"']\")\n"
     ]
    },
    {
     "data": {
      "text/html": [
       "<pre style=\"white-space:pre;overflow-x:auto;line-height:normal;font-family:Menlo,'DejaVu Sans Mono',consolas,'Courier New',monospace\"><span style=\"color: #7fbfbf; text-decoration-color: #7fbfbf\">[08/30/24 02:44:09] </span><span style=\"color: #000080; text-decoration-color: #000080\">INFO    </span> <span style=\"font-weight: bold\">[</span><span style=\"color: #008080; text-decoration-color: #008080; font-weight: bold\">220</span>/<span style=\"color: #008080; text-decoration-color: #008080; font-weight: bold\">308</span><span style=\"font-weight: bold\">]</span> Retrieving game with <span style=\"color: #808000; text-decoration-color: #808000\">id</span>=<span style=\"color: #800080; text-decoration-color: #800080\">2c23c239</span>                                <a href=\"file:///home/codespace/.local/lib/python3.12/site-packages/fbrefdata/fbref.py\" target=\"_blank\"><span style=\"color: #7f7f7f; text-decoration-color: #7f7f7f\">fbref.py</span></a><span style=\"color: #7f7f7f; text-decoration-color: #7f7f7f\">:</span><a href=\"file:///home/codespace/.local/lib/python3.12/site-packages/fbrefdata/fbref.py#927\" target=\"_blank\"><span style=\"color: #7f7f7f; text-decoration-color: #7f7f7f\">927</span></a>\n",
       "</pre>\n"
      ],
      "text/plain": [
       "\u001b[2;36m[08/30/24 02:44:09]\u001b[0m\u001b[2;36m \u001b[0m\u001b[34mINFO    \u001b[0m \u001b[1m[\u001b[0m\u001b[1;36m220\u001b[0m/\u001b[1;36m308\u001b[0m\u001b[1m]\u001b[0m Retrieving game with \u001b[33mid\u001b[0m=\u001b[35m2c23c239\u001b[0m                                \u001b]8;id=327346;file:///home/codespace/.local/lib/python3.12/site-packages/fbrefdata/fbref.py\u001b\\\u001b[2mfbref.py\u001b[0m\u001b]8;;\u001b\\\u001b[2m:\u001b[0m\u001b]8;id=897940;file:///home/codespace/.local/lib/python3.12/site-packages/fbrefdata/fbref.py#927\u001b\\\u001b[2m927\u001b[0m\u001b]8;;\u001b\\\n"
      ]
     },
     "metadata": {},
     "output_type": "display_data"
    },
    {
     "name": "stderr",
     "output_type": "stream",
     "text": [
      "/home/codespace/.local/lib/python3.12/site-packages/fbrefdata/fbref.py:940: FutureWarning: This search incorrectly ignores the root element, and will be fixed in a future version.  If you rely on the current behaviour, change it to \".//table[@id='stats_7a41008f_summary']\"\n",
      "  html_table = tree.find(\"//table[@id='\" + id_format.format(home_team[\"id\"]) + \"']\")\n",
      "/home/codespace/.local/lib/python3.12/site-packages/fbrefdata/fbref.py:953: FutureWarning: This search incorrectly ignores the root element, and will be fixed in a future version.  If you rely on the current behaviour, change it to \".//table[@id='stats_bc357bf7_summary']\"\n",
      "  html_table = tree.find(\"//table[@id='\" + id_format.format(away_team[\"id\"]) + \"']\")\n"
     ]
    },
    {
     "data": {
      "text/html": [
       "<pre style=\"white-space:pre;overflow-x:auto;line-height:normal;font-family:Menlo,'DejaVu Sans Mono',consolas,'Courier New',monospace\"><span style=\"color: #7fbfbf; text-decoration-color: #7fbfbf\">[08/30/24 02:44:16] </span><span style=\"color: #000080; text-decoration-color: #000080\">INFO    </span> <span style=\"font-weight: bold\">[</span><span style=\"color: #008080; text-decoration-color: #008080; font-weight: bold\">221</span>/<span style=\"color: #008080; text-decoration-color: #008080; font-weight: bold\">308</span><span style=\"font-weight: bold\">]</span> Retrieving game with <span style=\"color: #808000; text-decoration-color: #808000\">id</span>=<span style=\"color: #800080; text-decoration-color: #800080\">4f54182b</span>                                <a href=\"file:///home/codespace/.local/lib/python3.12/site-packages/fbrefdata/fbref.py\" target=\"_blank\"><span style=\"color: #7f7f7f; text-decoration-color: #7f7f7f\">fbref.py</span></a><span style=\"color: #7f7f7f; text-decoration-color: #7f7f7f\">:</span><a href=\"file:///home/codespace/.local/lib/python3.12/site-packages/fbrefdata/fbref.py#927\" target=\"_blank\"><span style=\"color: #7f7f7f; text-decoration-color: #7f7f7f\">927</span></a>\n",
       "</pre>\n"
      ],
      "text/plain": [
       "\u001b[2;36m[08/30/24 02:44:16]\u001b[0m\u001b[2;36m \u001b[0m\u001b[34mINFO    \u001b[0m \u001b[1m[\u001b[0m\u001b[1;36m221\u001b[0m/\u001b[1;36m308\u001b[0m\u001b[1m]\u001b[0m Retrieving game with \u001b[33mid\u001b[0m=\u001b[35m4f54182b\u001b[0m                                \u001b]8;id=851698;file:///home/codespace/.local/lib/python3.12/site-packages/fbrefdata/fbref.py\u001b\\\u001b[2mfbref.py\u001b[0m\u001b]8;;\u001b\\\u001b[2m:\u001b[0m\u001b]8;id=163820;file:///home/codespace/.local/lib/python3.12/site-packages/fbrefdata/fbref.py#927\u001b\\\u001b[2m927\u001b[0m\u001b]8;;\u001b\\\n"
      ]
     },
     "metadata": {},
     "output_type": "display_data"
    },
    {
     "name": "stderr",
     "output_type": "stream",
     "text": [
      "/home/codespace/.local/lib/python3.12/site-packages/fbrefdata/fbref.py:940: FutureWarning: This search incorrectly ignores the root element, and will be fixed in a future version.  If you rely on the current behaviour, change it to \".//table[@id='stats_62add3bf_summary']\"\n",
      "  html_table = tree.find(\"//table[@id='\" + id_format.format(home_team[\"id\"]) + \"']\")\n",
      "/home/codespace/.local/lib/python3.12/site-packages/fbrefdata/fbref.py:953: FutureWarning: This search incorrectly ignores the root element, and will be fixed in a future version.  If you rely on the current behaviour, change it to \".//table[@id='stats_054efa67_summary']\"\n",
      "  html_table = tree.find(\"//table[@id='\" + id_format.format(away_team[\"id\"]) + \"']\")\n"
     ]
    },
    {
     "data": {
      "text/html": [
       "<pre style=\"white-space:pre;overflow-x:auto;line-height:normal;font-family:Menlo,'DejaVu Sans Mono',consolas,'Courier New',monospace\"><span style=\"color: #7fbfbf; text-decoration-color: #7fbfbf\">[08/30/24 02:44:23] </span><span style=\"color: #000080; text-decoration-color: #000080\">INFO    </span> <span style=\"font-weight: bold\">[</span><span style=\"color: #008080; text-decoration-color: #008080; font-weight: bold\">222</span>/<span style=\"color: #008080; text-decoration-color: #008080; font-weight: bold\">308</span><span style=\"font-weight: bold\">]</span> Retrieving game with <span style=\"color: #808000; text-decoration-color: #808000\">id</span>=<span style=\"color: #800080; text-decoration-color: #800080\">8cf2990f</span>                                <a href=\"file:///home/codespace/.local/lib/python3.12/site-packages/fbrefdata/fbref.py\" target=\"_blank\"><span style=\"color: #7f7f7f; text-decoration-color: #7f7f7f\">fbref.py</span></a><span style=\"color: #7f7f7f; text-decoration-color: #7f7f7f\">:</span><a href=\"file:///home/codespace/.local/lib/python3.12/site-packages/fbrefdata/fbref.py#927\" target=\"_blank\"><span style=\"color: #7f7f7f; text-decoration-color: #7f7f7f\">927</span></a>\n",
       "</pre>\n"
      ],
      "text/plain": [
       "\u001b[2;36m[08/30/24 02:44:23]\u001b[0m\u001b[2;36m \u001b[0m\u001b[34mINFO    \u001b[0m \u001b[1m[\u001b[0m\u001b[1;36m222\u001b[0m/\u001b[1;36m308\u001b[0m\u001b[1m]\u001b[0m Retrieving game with \u001b[33mid\u001b[0m=\u001b[35m8cf2990f\u001b[0m                                \u001b]8;id=243991;file:///home/codespace/.local/lib/python3.12/site-packages/fbrefdata/fbref.py\u001b\\\u001b[2mfbref.py\u001b[0m\u001b]8;;\u001b\\\u001b[2m:\u001b[0m\u001b]8;id=314054;file:///home/codespace/.local/lib/python3.12/site-packages/fbrefdata/fbref.py#927\u001b\\\u001b[2m927\u001b[0m\u001b]8;;\u001b\\\n"
      ]
     },
     "metadata": {},
     "output_type": "display_data"
    },
    {
     "name": "stderr",
     "output_type": "stream",
     "text": [
      "/home/codespace/.local/lib/python3.12/site-packages/fbrefdata/fbref.py:940: FutureWarning: This search incorrectly ignores the root element, and will be fixed in a future version.  If you rely on the current behaviour, change it to \".//table[@id='stats_4eaa11d7_summary']\"\n",
      "  html_table = tree.find(\"//table[@id='\" + id_format.format(home_team[\"id\"]) + \"']\")\n",
      "/home/codespace/.local/lib/python3.12/site-packages/fbrefdata/fbref.py:953: FutureWarning: This search incorrectly ignores the root element, and will be fixed in a future version.  If you rely on the current behaviour, change it to \".//table[@id='stats_c539e393_summary']\"\n",
      "  html_table = tree.find(\"//table[@id='\" + id_format.format(away_team[\"id\"]) + \"']\")\n"
     ]
    },
    {
     "data": {
      "text/html": [
       "<pre style=\"white-space:pre;overflow-x:auto;line-height:normal;font-family:Menlo,'DejaVu Sans Mono',consolas,'Courier New',monospace\"><span style=\"color: #7fbfbf; text-decoration-color: #7fbfbf\">[08/30/24 02:44:30] </span><span style=\"color: #000080; text-decoration-color: #000080\">INFO    </span> <span style=\"font-weight: bold\">[</span><span style=\"color: #008080; text-decoration-color: #008080; font-weight: bold\">223</span>/<span style=\"color: #008080; text-decoration-color: #008080; font-weight: bold\">308</span><span style=\"font-weight: bold\">]</span> Retrieving game with <span style=\"color: #808000; text-decoration-color: #808000\">id</span>=<span style=\"color: #800080; text-decoration-color: #800080\">6f7f7daf</span>                                <a href=\"file:///home/codespace/.local/lib/python3.12/site-packages/fbrefdata/fbref.py\" target=\"_blank\"><span style=\"color: #7f7f7f; text-decoration-color: #7f7f7f\">fbref.py</span></a><span style=\"color: #7f7f7f; text-decoration-color: #7f7f7f\">:</span><a href=\"file:///home/codespace/.local/lib/python3.12/site-packages/fbrefdata/fbref.py#927\" target=\"_blank\"><span style=\"color: #7f7f7f; text-decoration-color: #7f7f7f\">927</span></a>\n",
       "</pre>\n"
      ],
      "text/plain": [
       "\u001b[2;36m[08/30/24 02:44:30]\u001b[0m\u001b[2;36m \u001b[0m\u001b[34mINFO    \u001b[0m \u001b[1m[\u001b[0m\u001b[1;36m223\u001b[0m/\u001b[1;36m308\u001b[0m\u001b[1m]\u001b[0m Retrieving game with \u001b[33mid\u001b[0m=\u001b[35m6f7f7daf\u001b[0m                                \u001b]8;id=90049;file:///home/codespace/.local/lib/python3.12/site-packages/fbrefdata/fbref.py\u001b\\\u001b[2mfbref.py\u001b[0m\u001b]8;;\u001b\\\u001b[2m:\u001b[0m\u001b]8;id=890563;file:///home/codespace/.local/lib/python3.12/site-packages/fbrefdata/fbref.py#927\u001b\\\u001b[2m927\u001b[0m\u001b]8;;\u001b\\\n"
      ]
     },
     "metadata": {},
     "output_type": "display_data"
    },
    {
     "name": "stderr",
     "output_type": "stream",
     "text": [
      "/home/codespace/.local/lib/python3.12/site-packages/fbrefdata/fbref.py:940: FutureWarning: This search incorrectly ignores the root element, and will be fixed in a future version.  If you rely on the current behaviour, change it to \".//table[@id='stats_c7a9f859_summary']\"\n",
      "  html_table = tree.find(\"//table[@id='\" + id_format.format(home_team[\"id\"]) + \"']\")\n",
      "/home/codespace/.local/lib/python3.12/site-packages/fbrefdata/fbref.py:953: FutureWarning: This search incorrectly ignores the root element, and will be fixed in a future version.  If you rely on the current behaviour, change it to \".//table[@id='stats_247c4b67_summary']\"\n",
      "  html_table = tree.find(\"//table[@id='\" + id_format.format(away_team[\"id\"]) + \"']\")\n"
     ]
    },
    {
     "data": {
      "text/html": [
       "<pre style=\"white-space:pre;overflow-x:auto;line-height:normal;font-family:Menlo,'DejaVu Sans Mono',consolas,'Courier New',monospace\"><span style=\"color: #7fbfbf; text-decoration-color: #7fbfbf\">[08/30/24 02:44:38] </span><span style=\"color: #000080; text-decoration-color: #000080\">INFO    </span> <span style=\"font-weight: bold\">[</span><span style=\"color: #008080; text-decoration-color: #008080; font-weight: bold\">224</span>/<span style=\"color: #008080; text-decoration-color: #008080; font-weight: bold\">308</span><span style=\"font-weight: bold\">]</span> Retrieving game with <span style=\"color: #808000; text-decoration-color: #808000\">id</span>=<span style=\"color: #008080; text-decoration-color: #008080; font-weight: bold\">27468355</span>                                <a href=\"file:///home/codespace/.local/lib/python3.12/site-packages/fbrefdata/fbref.py\" target=\"_blank\"><span style=\"color: #7f7f7f; text-decoration-color: #7f7f7f\">fbref.py</span></a><span style=\"color: #7f7f7f; text-decoration-color: #7f7f7f\">:</span><a href=\"file:///home/codespace/.local/lib/python3.12/site-packages/fbrefdata/fbref.py#927\" target=\"_blank\"><span style=\"color: #7f7f7f; text-decoration-color: #7f7f7f\">927</span></a>\n",
       "</pre>\n"
      ],
      "text/plain": [
       "\u001b[2;36m[08/30/24 02:44:38]\u001b[0m\u001b[2;36m \u001b[0m\u001b[34mINFO    \u001b[0m \u001b[1m[\u001b[0m\u001b[1;36m224\u001b[0m/\u001b[1;36m308\u001b[0m\u001b[1m]\u001b[0m Retrieving game with \u001b[33mid\u001b[0m=\u001b[1;36m27468355\u001b[0m                                \u001b]8;id=467539;file:///home/codespace/.local/lib/python3.12/site-packages/fbrefdata/fbref.py\u001b\\\u001b[2mfbref.py\u001b[0m\u001b]8;;\u001b\\\u001b[2m:\u001b[0m\u001b]8;id=268768;file:///home/codespace/.local/lib/python3.12/site-packages/fbrefdata/fbref.py#927\u001b\\\u001b[2m927\u001b[0m\u001b]8;;\u001b\\\n"
      ]
     },
     "metadata": {},
     "output_type": "display_data"
    },
    {
     "name": "stderr",
     "output_type": "stream",
     "text": [
      "/home/codespace/.local/lib/python3.12/site-packages/fbrefdata/fbref.py:940: FutureWarning: This search incorrectly ignores the root element, and will be fixed in a future version.  If you rely on the current behaviour, change it to \".//table[@id='stats_acbb6a5b_summary']\"\n",
      "  html_table = tree.find(\"//table[@id='\" + id_format.format(home_team[\"id\"]) + \"']\")\n",
      "/home/codespace/.local/lib/python3.12/site-packages/fbrefdata/fbref.py:953: FutureWarning: This search incorrectly ignores the root element, and will be fixed in a future version.  If you rely on the current behaviour, change it to \".//table[@id='stats_f0ac8ee6_summary']\"\n",
      "  html_table = tree.find(\"//table[@id='\" + id_format.format(away_team[\"id\"]) + \"']\")\n"
     ]
    },
    {
     "data": {
      "text/html": [
       "<pre style=\"white-space:pre;overflow-x:auto;line-height:normal;font-family:Menlo,'DejaVu Sans Mono',consolas,'Courier New',monospace\"><span style=\"color: #7fbfbf; text-decoration-color: #7fbfbf\">[08/30/24 02:44:45] </span><span style=\"color: #000080; text-decoration-color: #000080\">INFO    </span> <span style=\"font-weight: bold\">[</span><span style=\"color: #008080; text-decoration-color: #008080; font-weight: bold\">225</span>/<span style=\"color: #008080; text-decoration-color: #008080; font-weight: bold\">308</span><span style=\"font-weight: bold\">]</span> Retrieving game with <span style=\"color: #808000; text-decoration-color: #808000\">id</span>=<span style=\"color: #800080; text-decoration-color: #800080\">7bfbe4f2</span>                                <a href=\"file:///home/codespace/.local/lib/python3.12/site-packages/fbrefdata/fbref.py\" target=\"_blank\"><span style=\"color: #7f7f7f; text-decoration-color: #7f7f7f\">fbref.py</span></a><span style=\"color: #7f7f7f; text-decoration-color: #7f7f7f\">:</span><a href=\"file:///home/codespace/.local/lib/python3.12/site-packages/fbrefdata/fbref.py#927\" target=\"_blank\"><span style=\"color: #7f7f7f; text-decoration-color: #7f7f7f\">927</span></a>\n",
       "</pre>\n"
      ],
      "text/plain": [
       "\u001b[2;36m[08/30/24 02:44:45]\u001b[0m\u001b[2;36m \u001b[0m\u001b[34mINFO    \u001b[0m \u001b[1m[\u001b[0m\u001b[1;36m225\u001b[0m/\u001b[1;36m308\u001b[0m\u001b[1m]\u001b[0m Retrieving game with \u001b[33mid\u001b[0m=\u001b[35m7bfbe4f2\u001b[0m                                \u001b]8;id=341221;file:///home/codespace/.local/lib/python3.12/site-packages/fbrefdata/fbref.py\u001b\\\u001b[2mfbref.py\u001b[0m\u001b]8;;\u001b\\\u001b[2m:\u001b[0m\u001b]8;id=735052;file:///home/codespace/.local/lib/python3.12/site-packages/fbrefdata/fbref.py#927\u001b\\\u001b[2m927\u001b[0m\u001b]8;;\u001b\\\n"
      ]
     },
     "metadata": {},
     "output_type": "display_data"
    },
    {
     "name": "stderr",
     "output_type": "stream",
     "text": [
      "/home/codespace/.local/lib/python3.12/site-packages/fbrefdata/fbref.py:940: FutureWarning: This search incorrectly ignores the root element, and will be fixed in a future version.  If you rely on the current behaviour, change it to \".//table[@id='stats_598bc722_summary']\"\n",
      "  html_table = tree.find(\"//table[@id='\" + id_format.format(home_team[\"id\"]) + \"']\")\n",
      "/home/codespace/.local/lib/python3.12/site-packages/fbrefdata/fbref.py:953: FutureWarning: This search incorrectly ignores the root element, and will be fixed in a future version.  If you rely on the current behaviour, change it to \".//table[@id='stats_033ea6b8_summary']\"\n",
      "  html_table = tree.find(\"//table[@id='\" + id_format.format(away_team[\"id\"]) + \"']\")\n"
     ]
    },
    {
     "data": {
      "text/html": [
       "<pre style=\"white-space:pre;overflow-x:auto;line-height:normal;font-family:Menlo,'DejaVu Sans Mono',consolas,'Courier New',monospace\"><span style=\"color: #7fbfbf; text-decoration-color: #7fbfbf\">[08/30/24 02:44:52] </span><span style=\"color: #000080; text-decoration-color: #000080\">INFO    </span> <span style=\"font-weight: bold\">[</span><span style=\"color: #008080; text-decoration-color: #008080; font-weight: bold\">226</span>/<span style=\"color: #008080; text-decoration-color: #008080; font-weight: bold\">308</span><span style=\"font-weight: bold\">]</span> Retrieving game with <span style=\"color: #808000; text-decoration-color: #808000\">id</span>=<span style=\"color: #800080; text-decoration-color: #800080\">bd3a8e9b</span>                                <a href=\"file:///home/codespace/.local/lib/python3.12/site-packages/fbrefdata/fbref.py\" target=\"_blank\"><span style=\"color: #7f7f7f; text-decoration-color: #7f7f7f\">fbref.py</span></a><span style=\"color: #7f7f7f; text-decoration-color: #7f7f7f\">:</span><a href=\"file:///home/codespace/.local/lib/python3.12/site-packages/fbrefdata/fbref.py#927\" target=\"_blank\"><span style=\"color: #7f7f7f; text-decoration-color: #7f7f7f\">927</span></a>\n",
       "</pre>\n"
      ],
      "text/plain": [
       "\u001b[2;36m[08/30/24 02:44:52]\u001b[0m\u001b[2;36m \u001b[0m\u001b[34mINFO    \u001b[0m \u001b[1m[\u001b[0m\u001b[1;36m226\u001b[0m/\u001b[1;36m308\u001b[0m\u001b[1m]\u001b[0m Retrieving game with \u001b[33mid\u001b[0m=\u001b[35mbd3a8e9b\u001b[0m                                \u001b]8;id=467421;file:///home/codespace/.local/lib/python3.12/site-packages/fbrefdata/fbref.py\u001b\\\u001b[2mfbref.py\u001b[0m\u001b]8;;\u001b\\\u001b[2m:\u001b[0m\u001b]8;id=186600;file:///home/codespace/.local/lib/python3.12/site-packages/fbrefdata/fbref.py#927\u001b\\\u001b[2m927\u001b[0m\u001b]8;;\u001b\\\n"
      ]
     },
     "metadata": {},
     "output_type": "display_data"
    },
    {
     "name": "stderr",
     "output_type": "stream",
     "text": [
      "/home/codespace/.local/lib/python3.12/site-packages/fbrefdata/fbref.py:940: FutureWarning: This search incorrectly ignores the root element, and will be fixed in a future version.  If you rely on the current behaviour, change it to \".//table[@id='stats_247c4b67_summary']\"\n",
      "  html_table = tree.find(\"//table[@id='\" + id_format.format(home_team[\"id\"]) + \"']\")\n",
      "/home/codespace/.local/lib/python3.12/site-packages/fbrefdata/fbref.py:953: FutureWarning: This search incorrectly ignores the root element, and will be fixed in a future version.  If you rely on the current behaviour, change it to \".//table[@id='stats_acbb6a5b_summary']\"\n",
      "  html_table = tree.find(\"//table[@id='\" + id_format.format(away_team[\"id\"]) + \"']\")\n"
     ]
    },
    {
     "data": {
      "text/html": [
       "<pre style=\"white-space:pre;overflow-x:auto;line-height:normal;font-family:Menlo,'DejaVu Sans Mono',consolas,'Courier New',monospace\"><span style=\"color: #7fbfbf; text-decoration-color: #7fbfbf\">[08/30/24 02:45:00] </span><span style=\"color: #000080; text-decoration-color: #000080\">INFO    </span> <span style=\"font-weight: bold\">[</span><span style=\"color: #008080; text-decoration-color: #008080; font-weight: bold\">227</span>/<span style=\"color: #008080; text-decoration-color: #008080; font-weight: bold\">308</span><span style=\"font-weight: bold\">]</span> Retrieving game with <span style=\"color: #808000; text-decoration-color: #808000\">id</span>=<span style=\"color: #800080; text-decoration-color: #800080\">2b2303b8</span>                                <a href=\"file:///home/codespace/.local/lib/python3.12/site-packages/fbrefdata/fbref.py\" target=\"_blank\"><span style=\"color: #7f7f7f; text-decoration-color: #7f7f7f\">fbref.py</span></a><span style=\"color: #7f7f7f; text-decoration-color: #7f7f7f\">:</span><a href=\"file:///home/codespace/.local/lib/python3.12/site-packages/fbrefdata/fbref.py#927\" target=\"_blank\"><span style=\"color: #7f7f7f; text-decoration-color: #7f7f7f\">927</span></a>\n",
       "</pre>\n"
      ],
      "text/plain": [
       "\u001b[2;36m[08/30/24 02:45:00]\u001b[0m\u001b[2;36m \u001b[0m\u001b[34mINFO    \u001b[0m \u001b[1m[\u001b[0m\u001b[1;36m227\u001b[0m/\u001b[1;36m308\u001b[0m\u001b[1m]\u001b[0m Retrieving game with \u001b[33mid\u001b[0m=\u001b[35m2b2303b8\u001b[0m                                \u001b]8;id=731974;file:///home/codespace/.local/lib/python3.12/site-packages/fbrefdata/fbref.py\u001b\\\u001b[2mfbref.py\u001b[0m\u001b]8;;\u001b\\\u001b[2m:\u001b[0m\u001b]8;id=895844;file:///home/codespace/.local/lib/python3.12/site-packages/fbrefdata/fbref.py#927\u001b\\\u001b[2m927\u001b[0m\u001b]8;;\u001b\\\n"
      ]
     },
     "metadata": {},
     "output_type": "display_data"
    },
    {
     "name": "stderr",
     "output_type": "stream",
     "text": [
      "/home/codespace/.local/lib/python3.12/site-packages/fbrefdata/fbref.py:940: FutureWarning: This search incorrectly ignores the root element, and will be fixed in a future version.  If you rely on the current behaviour, change it to \".//table[@id='stats_054efa67_summary']\"\n",
      "  html_table = tree.find(\"//table[@id='\" + id_format.format(home_team[\"id\"]) + \"']\")\n",
      "/home/codespace/.local/lib/python3.12/site-packages/fbrefdata/fbref.py:953: FutureWarning: This search incorrectly ignores the root element, and will be fixed in a future version.  If you rely on the current behaviour, change it to \".//table[@id='stats_598bc722_summary']\"\n",
      "  html_table = tree.find(\"//table[@id='\" + id_format.format(away_team[\"id\"]) + \"']\")\n"
     ]
    },
    {
     "data": {
      "text/html": [
       "<pre style=\"white-space:pre;overflow-x:auto;line-height:normal;font-family:Menlo,'DejaVu Sans Mono',consolas,'Courier New',monospace\"><span style=\"color: #7fbfbf; text-decoration-color: #7fbfbf\">[08/30/24 02:45:07] </span><span style=\"color: #000080; text-decoration-color: #000080\">INFO    </span> <span style=\"font-weight: bold\">[</span><span style=\"color: #008080; text-decoration-color: #008080; font-weight: bold\">228</span>/<span style=\"color: #008080; text-decoration-color: #008080; font-weight: bold\">308</span><span style=\"font-weight: bold\">]</span> Retrieving game with <span style=\"color: #808000; text-decoration-color: #808000\">id</span>=<span style=\"color: #800080; text-decoration-color: #800080\">b535be4e</span>                                <a href=\"file:///home/codespace/.local/lib/python3.12/site-packages/fbrefdata/fbref.py\" target=\"_blank\"><span style=\"color: #7f7f7f; text-decoration-color: #7f7f7f\">fbref.py</span></a><span style=\"color: #7f7f7f; text-decoration-color: #7f7f7f\">:</span><a href=\"file:///home/codespace/.local/lib/python3.12/site-packages/fbrefdata/fbref.py#927\" target=\"_blank\"><span style=\"color: #7f7f7f; text-decoration-color: #7f7f7f\">927</span></a>\n",
       "</pre>\n"
      ],
      "text/plain": [
       "\u001b[2;36m[08/30/24 02:45:07]\u001b[0m\u001b[2;36m \u001b[0m\u001b[34mINFO    \u001b[0m \u001b[1m[\u001b[0m\u001b[1;36m228\u001b[0m/\u001b[1;36m308\u001b[0m\u001b[1m]\u001b[0m Retrieving game with \u001b[33mid\u001b[0m=\u001b[35mb535be4e\u001b[0m                                \u001b]8;id=570697;file:///home/codespace/.local/lib/python3.12/site-packages/fbrefdata/fbref.py\u001b\\\u001b[2mfbref.py\u001b[0m\u001b]8;;\u001b\\\u001b[2m:\u001b[0m\u001b]8;id=160303;file:///home/codespace/.local/lib/python3.12/site-packages/fbrefdata/fbref.py#927\u001b\\\u001b[2m927\u001b[0m\u001b]8;;\u001b\\\n"
      ]
     },
     "metadata": {},
     "output_type": "display_data"
    }
   ],
   "source": [
    "fbref = fb.FBref('GER-BL1', '2020-2021')\n",
    "df = fbref.read_player_match_stats()"
   ]
  },
  {
   "cell_type": "code",
   "execution_count": null,
   "id": "2822c052-126b-45b3-be13-a76ef9d63f94",
   "metadata": {},
   "outputs": [],
   "source": [
    "fbref = fb.FBref('FRA-L1', '2023-2024')\n",
    "df = fbref.read_player_match_stats()"
   ]
  },
  {
   "cell_type": "code",
   "execution_count": null,
   "id": "8d63354e-b58a-4dc6-a667-84da28e95976",
   "metadata": {},
   "outputs": [],
   "source": [
    "fbref = fb.FBref('FRA-L1', '2018-2019')\n",
    "df = fbref.read_player_match_stats()"
   ]
  },
  {
   "cell_type": "code",
   "execution_count": null,
   "id": "a5b8c51a-1766-4cfc-aac9-2ab5d5e76598",
   "metadata": {},
   "outputs": [],
   "source": [
    "fbref = fb.FBref('UEL', '2021-2022')\n",
    "df = fbref.read_player_match_stats()"
   ]
  },
  {
   "cell_type": "code",
   "execution_count": null,
   "id": "cee4434d-f70e-46d6-9003-ca43f31bb9b3",
   "metadata": {},
   "outputs": [],
   "source": [
    "stats_list = [\n",
    "    'standard',\n",
    "'shooting',\n",
    "             'passing',\n",
    "             'passing_types',\n",
    "             'goal_shot_creation',\n",
    "             'defense',\n",
    "             'possession',\n",
    "             'playing_time',\n",
    "             'misc',\n",
    "             'keeper',\n",
    "             'keeper_adv',\n",
    "]\n",
    "fbref = fb.FBref('ENG-EPL', '2022-2023')\n",
    "for x in stats_list:\n",
    "    df = fbref.read_player_season_stats(x)"
   ]
  },
  {
   "cell_type": "code",
   "execution_count": null,
   "id": "4dcc8a4d-7b62-4463-841d-716aa0850a63",
   "metadata": {},
   "outputs": [],
   "source": [
    "stats_list = [\n",
    "    'standard',\n",
    "'shooting',\n",
    "             'passing',\n",
    "             'passing_types',\n",
    "             'goal_shot_creation',\n",
    "             'defense',\n",
    "             'possession',\n",
    "             'playing_time',\n",
    "             'misc',\n",
    "             'keeper',\n",
    "             'keeper_adv',\n",
    "]\n",
    "fbref = fb.FBref('ENG-EPL', '2018-2019')\n",
    "for x in stats_list:\n",
    "    df = fbref.read_player_season_stats(x)"
   ]
  },
  {
   "cell_type": "code",
   "execution_count": null,
   "id": "4f25b529-3c9d-4b96-889c-4c1a4e45cdec",
   "metadata": {},
   "outputs": [],
   "source": [
    "stats_list = [\n",
    "    'standard',\n",
    "'shooting',\n",
    "             'passing',\n",
    "             'passing_types',\n",
    "             'goal_shot_creation',\n",
    "             'defense',\n",
    "             'possession',\n",
    "             'playing_time',\n",
    "             'misc',\n",
    "             'keeper',\n",
    "             'keeper_adv',\n",
    "]\n",
    "fbref = fb.FBref('UCL', '2021-2022')\n",
    "for x in stats_list:\n",
    "    df = fbref.read_player_season_stats(x)"
   ]
  },
  {
   "cell_type": "code",
   "execution_count": null,
   "id": "dba1ac91-3b9a-4076-88c1-433246323911",
   "metadata": {},
   "outputs": [],
   "source": []
  }
 ],
 "metadata": {
  "kernelspec": {
   "display_name": "Python 3 (ipykernel)",
   "language": "python",
   "name": "python3"
  },
  "language_info": {
   "codemirror_mode": {
    "name": "ipython",
    "version": 3
   },
   "file_extension": ".py",
   "mimetype": "text/x-python",
   "name": "python",
   "nbconvert_exporter": "python",
   "pygments_lexer": "ipython3",
   "version": "3.12.1"
  }
 },
 "nbformat": 4,
 "nbformat_minor": 5
}
