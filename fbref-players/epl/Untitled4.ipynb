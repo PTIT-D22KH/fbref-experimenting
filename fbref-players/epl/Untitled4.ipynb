{
 "cells": [
  {
   "cell_type": "code",
   "execution_count": 2,
   "id": "70654327-d5a6-4495-b376-c0431400a7a3",
   "metadata": {},
   "outputs": [
    {
     "data": {
      "text/html": [
       "<pre style=\"white-space:pre;overflow-x:auto;line-height:normal;font-family:Menlo,'DejaVu Sans Mono',consolas,'Courier New',monospace\"><span style=\"color: #7fbfbf; text-decoration-color: #7fbfbf\">[08/30/24 02:27:05] </span><span style=\"color: #000080; text-decoration-color: #000080\">INFO    </span> Custom league dict loaded from                                           <a href=\"file:///home/codespace/.local/lib/python3.12/site-packages/fbrefdata/_config.py\" target=\"_blank\"><span style=\"color: #7f7f7f; text-decoration-color: #7f7f7f\">_config.py</span></a><span style=\"color: #7f7f7f; text-decoration-color: #7f7f7f\">:</span><a href=\"file:///home/codespace/.local/lib/python3.12/site-packages/fbrefdata/_config.py#96\" target=\"_blank\"><span style=\"color: #7f7f7f; text-decoration-color: #7f7f7f\">96</span></a>\n",
       "<span style=\"color: #7fbfbf; text-decoration-color: #7fbfbf\">                    </span>         <span style=\"color: #800080; text-decoration-color: #800080\">/home/codespace/fbrefdata/config/</span><span style=\"color: #ff00ff; text-decoration-color: #ff00ff\">league_dict.json.</span>                       <span style=\"color: #7f7f7f; text-decoration-color: #7f7f7f\">             </span>\n",
       "</pre>\n"
      ],
      "text/plain": [
       "\u001b[2;36m[08/30/24 02:27:05]\u001b[0m\u001b[2;36m \u001b[0m\u001b[34mINFO    \u001b[0m Custom league dict loaded from                                           \u001b]8;id=406536;file:///home/codespace/.local/lib/python3.12/site-packages/fbrefdata/_config.py\u001b\\\u001b[2m_config.py\u001b[0m\u001b]8;;\u001b\\\u001b[2m:\u001b[0m\u001b]8;id=938690;file:///home/codespace/.local/lib/python3.12/site-packages/fbrefdata/_config.py#96\u001b\\\u001b[2m96\u001b[0m\u001b]8;;\u001b\\\n",
       "\u001b[2;36m                    \u001b[0m         \u001b[35m/home/codespace/fbrefdata/config/\u001b[0m\u001b[95mleague_dict.json.\u001b[0m                       \u001b[2m             \u001b[0m\n"
      ]
     },
     "metadata": {},
     "output_type": "display_data"
    },
    {
     "data": {
      "text/plain": [
       "['Big 5 European Leagues Combined',\n",
       " 'ENG-EPL',\n",
       " 'ESP-LALIGA',\n",
       " 'FRA-L1',\n",
       " 'GER-BL1',\n",
       " 'ITA-SERIA_A',\n",
       " 'UCL',\n",
       " 'UEL']"
      ]
     },
     "execution_count": 2,
     "metadata": {},
     "output_type": "execute_result"
    }
   ],
   "source": [
    "import fbrefdata as fb\n",
    "import statsbombpy as st\n",
    "import mplsoccer as mp\n",
    "import matplotlib.pyplot as plt\n",
    "import numpy as np\n",
    "import pandas as pd\n",
    "\n",
    "fb.FBref.available_leagues()"
   ]
  },
  {
   "cell_type": "code",
   "execution_count": null,
   "id": "54444477-ac37-4938-9973-653aa5b337e7",
   "metadata": {},
   "outputs": [],
   "source": [
    "fbref = fb.FBref('UEL', '2023-2024')\n",
    "df = fbref.read_player_match_stats()"
   ]
  },
  {
   "cell_type": "code",
   "execution_count": null,
   "id": "84d9a9f4-f5de-4eb5-9fb6-7e8542061334",
   "metadata": {
    "scrolled": true
   },
   "outputs": [],
   "source": [
    "fbref = fb.FBref('UEL', '2019-2020')\n",
    "df = fbref.read_player_match_stats()"
   ]
  },
  {
   "cell_type": "code",
   "execution_count": null,
   "id": "15a1cda0-5c96-4148-bd3e-92afaa9d10d9",
   "metadata": {},
   "outputs": [],
   "source": [
    "fbref = fb.FBref('UEL', '2018-2019')\n",
    "df = fbref.read_player_match_stats()"
   ]
  },
  {
   "cell_type": "code",
   "execution_count": null,
   "id": "bc2a9bbb-e2c3-4edb-b25d-01b7dcfeff10",
   "metadata": {
    "scrolled": true
   },
   "outputs": [],
   "source": [
    "fbref = fb.FBref('UEL', '2017-2018')\n",
    "df = fbref.read_player_match_stats()"
   ]
  },
  {
   "cell_type": "code",
   "execution_count": null,
   "id": "80857e22-91c9-4c39-93ba-387751059278",
   "metadata": {
    "scrolled": true
   },
   "outputs": [],
   "source": [
    "stats_list = [\n",
    "    'standard',\n",
    "'shooting',\n",
    "             'passing',\n",
    "             'passing_types',\n",
    "             'goal_shot_creation',\n",
    "             'defense',\n",
    "             'possession',\n",
    "             'playing_time',\n",
    "             'misc',\n",
    "             'keeper',\n",
    "             'keeper_adv',\n",
    "]\n",
    "fbref = fb.FBref('ENG-EPL', '2020-2021')\n",
    "for x in stats_list:\n",
    "    df = fbref.read_player_season_stats(x)"
   ]
  },
  {
   "cell_type": "code",
   "execution_count": null,
   "id": "8340cf45-23ee-4752-9c76-059fdc4d007c",
   "metadata": {
    "scrolled": true
   },
   "outputs": [],
   "source": [
    "stats_list = [\n",
    "    'standard',\n",
    "'shooting',\n",
    "             'passing',\n",
    "             'passing_types',\n",
    "             'goal_shot_creation',\n",
    "             'defense',\n",
    "             'possession',\n",
    "             'playing_time',\n",
    "             'misc',\n",
    "             'keeper',\n",
    "             'keeper_adv',\n",
    "]\n",
    "fbref = fb.FBref('UCL', '2023-2024')\n",
    "for x in stats_list:\n",
    "    df = fbref.read_player_season_stats(x)"
   ]
  },
  {
   "cell_type": "code",
   "execution_count": null,
   "id": "85290783-ea8b-49ed-b233-54cdfe9b6c98",
   "metadata": {
    "scrolled": true
   },
   "outputs": [],
   "source": [
    "stats_list = [\n",
    "    'standard',\n",
    "'shooting',\n",
    "             'passing',\n",
    "             'passing_types',\n",
    "             'goal_shot_creation',\n",
    "             'defense',\n",
    "             'possession',\n",
    "             'playing_time',\n",
    "             'misc',\n",
    "             'keeper',\n",
    "             'keeper_adv',\n",
    "]\n",
    "fbref = fb.FBref('UCL', '2019-2020')\n",
    "for x in stats_list:\n",
    "    df = fbref.read_player_season_stats(x)"
   ]
  },
  {
   "cell_type": "code",
   "execution_count": null,
   "id": "d1ff7b7d-e028-4944-985b-ca76a3f57297",
   "metadata": {
    "scrolled": true
   },
   "outputs": [],
   "source": [
    "stats_list = [\n",
    "    'standard',\n",
    "'shooting',\n",
    "             'passing',\n",
    "             'passing_types',\n",
    "             'goal_shot_creation',\n",
    "             'defense',\n",
    "             'possession',\n",
    "             'playing_time',\n",
    "             'misc',\n",
    "             'keeper',\n",
    "             'keeper_adv',\n",
    "]\n",
    "fbref = fb.FBref('UCL', '2018-2019')\n",
    "for x in stats_list:\n",
    "    df = fbref.read_player_season_stats(x)"
   ]
  },
  {
   "cell_type": "code",
   "execution_count": null,
   "id": "0538e7ba-0e7d-4970-8592-5b7d4373ced4",
   "metadata": {
    "scrolled": true
   },
   "outputs": [],
   "source": [
    "stats_list = [\n",
    "    'standard',\n",
    "'shooting',\n",
    "             'passing',\n",
    "             'passing_types',\n",
    "             'goal_shot_creation',\n",
    "             'defense',\n",
    "             'possession',\n",
    "             'playing_time',\n",
    "             'misc',\n",
    "             'keeper',\n",
    "             'keeper_adv',\n",
    "]\n",
    "fbref = fb.FBref('UCL', '2017-2018')\n",
    "for x in stats_list:\n",
    "    df = fbref.read_player_season_stats(x)"
   ]
  },
  {
   "cell_type": "code",
   "execution_count": null,
   "id": "86eca2e1-8638-4690-8d81-564b24a17d83",
   "metadata": {},
   "outputs": [],
   "source": [
    "fbref = fb.FBref('FRA-L1', '2021-2022')\n",
    "df = fbref.read_player_match_stats()"
   ]
  },
  {
   "cell_type": "code",
   "execution_count": null,
   "id": "890e5783-08bc-4714-b6eb-48eb858814e1",
   "metadata": {},
   "outputs": [],
   "source": []
  }
 ],
 "metadata": {
  "kernelspec": {
   "display_name": "Python 3 (ipykernel)",
   "language": "python",
   "name": "python3"
  },
  "language_info": {
   "codemirror_mode": {
    "name": "ipython",
    "version": 3
   },
   "file_extension": ".py",
   "mimetype": "text/x-python",
   "name": "python",
   "nbconvert_exporter": "python",
   "pygments_lexer": "ipython3",
   "version": "3.12.1"
  }
 },
 "nbformat": 4,
 "nbformat_minor": 5
}
